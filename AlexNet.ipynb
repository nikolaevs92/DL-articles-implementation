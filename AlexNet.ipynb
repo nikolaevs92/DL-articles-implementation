{
 "cells": [
  {
   "cell_type": "code",
   "execution_count": 1,
   "metadata": {},
   "outputs": [],
   "source": [
    "import torch\n",
    "import torch.nn as nn\n",
    "from pathlib import Path\n",
    "import numpy as np"
   ]
  },
  {
   "cell_type": "code",
   "execution_count": 2,
   "metadata": {},
   "outputs": [],
   "source": [
    "from train import train\n",
    "from simpson_data import SimpsonDataset"
   ]
  },
  {
   "cell_type": "code",
   "execution_count": 3,
   "metadata": {},
   "outputs": [],
   "source": [
    "torch.cuda.set_device(0)\n",
    "DEVICE = torch.device(\"cuda\")"
   ]
  },
  {
   "cell_type": "markdown",
   "metadata": {},
   "source": [
    "## Data Load"
   ]
  },
  {
   "cell_type": "code",
   "execution_count": 4,
   "metadata": {},
   "outputs": [],
   "source": [
    "TRAIN_DIR = Path('train')\n",
    "train_val_files = sorted(list(TRAIN_DIR.rglob('*.jpg')))"
   ]
  },
  {
   "cell_type": "code",
   "execution_count": 5,
   "metadata": {},
   "outputs": [],
   "source": [
    "from sklearn.model_selection import train_test_split\n",
    "\n",
    "train_val_labels = [path.parent.name for path in train_val_files]\n",
    "train_files, val_files = train_test_split(train_val_files, test_size=0.25, stratify=train_val_labels)"
   ]
  },
  {
   "cell_type": "code",
   "execution_count": 6,
   "metadata": {},
   "outputs": [
    {
     "name": "stderr",
     "output_type": "stream",
     "text": [
      "Loading train files:   0%|          | 1/8220 [00:00<14:43,  9.30it/s]"
     ]
    },
    {
     "name": "stdout",
     "output_type": "stream",
     "text": [
      "\n",
      "Using label encoder with 41 labels\n"
     ]
    },
    {
     "name": "stderr",
     "output_type": "stream",
     "text": [
      "Loading train files: 100%|██████████| 8220/8220 [00:05<00:00, 1555.29it/s]\n",
      "Loading val files:   3%|▎         | 77/2740 [00:00<00:03, 754.28it/s]"
     ]
    },
    {
     "name": "stdout",
     "output_type": "stream",
     "text": [
      "\n",
      "Using label encoder with 41 labels\n"
     ]
    },
    {
     "name": "stderr",
     "output_type": "stream",
     "text": [
      "Loading val files: 100%|██████████| 2740/2740 [00:01<00:00, 1607.69it/s]\n"
     ]
    }
   ],
   "source": [
    "train_dataset = SimpsonDataset(train_files, mode='train')\n",
    "val_dataset = SimpsonDataset(val_files, mode='val')"
   ]
  },
  {
   "cell_type": "markdown",
   "metadata": {},
   "source": [
    "## Model Train\n",
    "### AlexNet"
   ]
  },
  {
   "cell_type": "code",
   "execution_count": 12,
   "metadata": {
    "scrolled": false
   },
   "outputs": [
    {
     "name": "stdout",
     "output_type": "stream",
     "text": [
      "Sequential(\n",
      "  (0): Conv2d(3, 96, kernel_size=(11, 11), stride=(4, 4), padding=(2, 2))\n",
      "  (1): ReLU()\n",
      "  (2): MaxPool2d(kernel_size=(3, 3), stride=2, padding=0, dilation=1, ceil_mode=False)\n",
      "  (3): Conv2d(96, 256, kernel_size=(5, 5), stride=(1, 1), padding=(2, 2), groups=2)\n",
      "  (4): ReLU()\n",
      "  (5): MaxPool2d(kernel_size=(3, 3), stride=2, padding=0, dilation=1, ceil_mode=False)\n",
      "  (6): Conv2d(256, 384, kernel_size=(3, 3), stride=(1, 1), padding=(1, 1), groups=2)\n",
      "  (7): ReLU()\n",
      "  (8): Conv2d(384, 384, kernel_size=(3, 3), stride=(1, 1), padding=(1, 1), groups=2)\n",
      "  (9): ReLU()\n",
      "  (10): Conv2d(384, 256, kernel_size=(3, 3), stride=(1, 1), padding=(1, 1), groups=2)\n",
      "  (11): ReLU()\n",
      "  (12): MaxPool2d(kernel_size=(3, 3), stride=2, padding=0, dilation=1, ceil_mode=False)\n",
      "  (13): InOneDemensionReshape()\n",
      "  (14): Dropout(p=0.5)\n",
      "  (15): Linear(in_features=9216, out_features=4096, bias=True)\n",
      "  (16): ReLU()\n",
      "  (17): Dropout(p=0.5)\n",
      "  (18): Linear(in_features=4096, out_features=4096, bias=True)\n",
      "  (19): ReLU()\n",
      "  (20): Dropout(p=0.5)\n",
      "  (21): Linear(in_features=4096, out_features=41, bias=True)\n",
      ")\n"
     ]
    }
   ],
   "source": [
    "from models import alexnet\n",
    "\n",
    "N_CLASSES = len(np.unique(train_val_labels))\n",
    "CNN = alexnet(N_CLASSES).to(DEVICE)\n",
    "print(CNN)"
   ]
  },
  {
   "cell_type": "code",
   "execution_count": 13,
   "metadata": {
    "scrolled": true
   },
   "outputs": [
    {
     "name": "stderr",
     "output_type": "stream",
     "text": [
      "Epoch: 100%|██████████| 129/129 [00:19<00:00,  6.59it/s]\n",
      "Epoch:   1%|          | 1/129 [00:00<00:17,  7.38it/s]"
     ]
    },
    {
     "name": "stdout",
     "output_type": "stream",
     "text": [
      "\n",
      "Epoch 001 train_loss: 3.7086 val_loss 3.7031 train_acc 0.0502 val_acc 0.0569\n"
     ]
    },
    {
     "name": "stderr",
     "output_type": "stream",
     "text": [
      "Epoch: 100%|██████████| 129/129 [00:18<00:00,  7.16it/s]\n",
      "Epoch:   1%|          | 1/129 [00:00<00:17,  7.46it/s]"
     ]
    },
    {
     "name": "stdout",
     "output_type": "stream",
     "text": [
      "\n",
      "Epoch 002 train_loss: 3.6979 val_loss 3.6923 train_acc 0.0692 val_acc 0.1047\n"
     ]
    },
    {
     "name": "stderr",
     "output_type": "stream",
     "text": [
      "Epoch: 100%|██████████| 129/129 [00:17<00:00,  7.31it/s]\n",
      "Epoch:   1%|          | 1/129 [00:00<00:17,  7.40it/s]"
     ]
    },
    {
     "name": "stdout",
     "output_type": "stream",
     "text": [
      "\n",
      "Epoch 003 train_loss: 3.6871 val_loss 3.6816 train_acc 0.1029 val_acc 0.1047\n"
     ]
    },
    {
     "name": "stderr",
     "output_type": "stream",
     "text": [
      "Epoch: 100%|██████████| 129/129 [00:17<00:00,  7.28it/s]\n",
      "Epoch:   1%|          | 1/129 [00:00<00:16,  7.65it/s]"
     ]
    },
    {
     "name": "stdout",
     "output_type": "stream",
     "text": [
      "\n",
      "Epoch 004 train_loss: 3.6765 val_loss 3.6709 train_acc 0.1049 val_acc 0.1047\n"
     ]
    },
    {
     "name": "stderr",
     "output_type": "stream",
     "text": [
      "Epoch: 100%|██████████| 129/129 [00:17<00:00,  7.38it/s]\n",
      "Epoch:   1%|          | 1/129 [00:00<00:19,  6.55it/s]"
     ]
    },
    {
     "name": "stdout",
     "output_type": "stream",
     "text": [
      "\n",
      "Epoch 005 train_loss: 3.6658 val_loss 3.6600 train_acc 0.1047 val_acc 0.1047\n"
     ]
    },
    {
     "name": "stderr",
     "output_type": "stream",
     "text": [
      "Epoch: 100%|██████████| 129/129 [00:17<00:00,  7.35it/s]\n",
      "Epoch:   1%|          | 1/129 [00:00<00:17,  7.21it/s]"
     ]
    },
    {
     "name": "stdout",
     "output_type": "stream",
     "text": [
      "\n",
      "Epoch 006 train_loss: 3.6548 val_loss 3.6488 train_acc 0.1047 val_acc 0.1047\n"
     ]
    },
    {
     "name": "stderr",
     "output_type": "stream",
     "text": [
      "Epoch: 100%|██████████| 129/129 [00:17<00:00,  7.45it/s]\n",
      "Epoch:   1%|          | 1/129 [00:00<00:16,  7.56it/s]"
     ]
    },
    {
     "name": "stdout",
     "output_type": "stream",
     "text": [
      "\n",
      "Epoch 007 train_loss: 3.6433 val_loss 3.6370 train_acc 0.1047 val_acc 0.1047\n"
     ]
    },
    {
     "name": "stderr",
     "output_type": "stream",
     "text": [
      "Epoch: 100%|██████████| 129/129 [00:18<00:00,  7.05it/s]\n",
      "Epoch:   1%|          | 1/129 [00:00<00:21,  6.05it/s]"
     ]
    },
    {
     "name": "stdout",
     "output_type": "stream",
     "text": [
      "\n",
      "Epoch 008 train_loss: 3.6309 val_loss 3.6239 train_acc 0.1047 val_acc 0.1047\n"
     ]
    },
    {
     "name": "stderr",
     "output_type": "stream",
     "text": [
      "Epoch: 100%|██████████| 129/129 [00:19<00:00,  6.63it/s]\n",
      "Epoch:   1%|          | 1/129 [00:00<00:16,  7.79it/s]"
     ]
    },
    {
     "name": "stdout",
     "output_type": "stream",
     "text": [
      "\n",
      "Epoch 009 train_loss: 3.6158 val_loss 3.6072 train_acc 0.1047 val_acc 0.1047\n"
     ]
    },
    {
     "name": "stderr",
     "output_type": "stream",
     "text": [
      "Epoch: 100%|██████████| 129/129 [00:17<00:00,  7.53it/s]\n",
      "Epoch:   1%|          | 1/129 [00:00<00:19,  6.66it/s]"
     ]
    },
    {
     "name": "stdout",
     "output_type": "stream",
     "text": [
      "\n",
      "Epoch 010 train_loss: 3.5925 val_loss 3.5754 train_acc 0.1047 val_acc 0.1047\n"
     ]
    },
    {
     "name": "stderr",
     "output_type": "stream",
     "text": [
      "Epoch: 100%|██████████| 129/129 [00:18<00:00,  7.14it/s]\n",
      "Epoch:   1%|          | 1/129 [00:00<00:15,  8.09it/s]"
     ]
    },
    {
     "name": "stdout",
     "output_type": "stream",
     "text": [
      "\n",
      "Epoch 011 train_loss: 3.4967 val_loss 3.3250 train_acc 0.1047 val_acc 0.1047\n"
     ]
    },
    {
     "name": "stderr",
     "output_type": "stream",
     "text": [
      "Epoch: 100%|██████████| 129/129 [00:17<00:00,  7.49it/s]\n",
      "Epoch:   1%|          | 1/129 [00:00<00:17,  7.26it/s]"
     ]
    },
    {
     "name": "stdout",
     "output_type": "stream",
     "text": [
      "\n",
      "Epoch 012 train_loss: 3.1897 val_loss 3.1449 train_acc 0.0994 val_acc 0.1047\n"
     ]
    },
    {
     "name": "stderr",
     "output_type": "stream",
     "text": [
      "Epoch: 100%|██████████| 129/129 [00:17<00:00,  7.44it/s]\n",
      "Epoch:   1%|          | 1/129 [00:00<00:18,  6.83it/s]"
     ]
    },
    {
     "name": "stdout",
     "output_type": "stream",
     "text": [
      "\n",
      "Epoch 013 train_loss: 3.1459 val_loss 3.1302 train_acc 0.0964 val_acc 0.1047\n"
     ]
    },
    {
     "name": "stderr",
     "output_type": "stream",
     "text": [
      "Epoch: 100%|██████████| 129/129 [00:16<00:00,  7.64it/s]\n",
      "Epoch:   1%|          | 1/129 [00:00<00:16,  7.98it/s]"
     ]
    },
    {
     "name": "stdout",
     "output_type": "stream",
     "text": [
      "\n",
      "Epoch 014 train_loss: 3.1384 val_loss 3.1224 train_acc 0.0956 val_acc 0.1047\n"
     ]
    },
    {
     "name": "stderr",
     "output_type": "stream",
     "text": [
      "Epoch: 100%|██████████| 129/129 [00:17<00:00,  7.40it/s]\n",
      "Epoch:   1%|          | 1/129 [00:00<00:16,  7.70it/s]"
     ]
    },
    {
     "name": "stdout",
     "output_type": "stream",
     "text": [
      "\n",
      "Epoch 015 train_loss: 3.1349 val_loss 3.1215 train_acc 0.1006 val_acc 0.1047\n"
     ]
    },
    {
     "name": "stderr",
     "output_type": "stream",
     "text": [
      "Epoch: 100%|██████████| 129/129 [00:16<00:00,  7.63it/s]\n",
      "Epoch:   1%|          | 1/129 [00:00<00:16,  7.81it/s]"
     ]
    },
    {
     "name": "stdout",
     "output_type": "stream",
     "text": [
      "\n",
      "Epoch 016 train_loss: 3.1382 val_loss 3.1218 train_acc 0.0970 val_acc 0.1047\n"
     ]
    },
    {
     "name": "stderr",
     "output_type": "stream",
     "text": [
      "Epoch: 100%|██████████| 129/129 [00:17<00:00,  7.33it/s]\n",
      "Epoch:   0%|          | 0/129 [00:00<?, ?it/s]"
     ]
    },
    {
     "name": "stdout",
     "output_type": "stream",
     "text": [
      "\n",
      "Epoch 017 train_loss: 3.1311 val_loss 3.1182 train_acc 0.0994 val_acc 0.1047\n"
     ]
    },
    {
     "name": "stderr",
     "output_type": "stream",
     "text": [
      "Epoch: 100%|██████████| 129/129 [00:17<00:00,  7.44it/s]\n",
      "Epoch:   1%|          | 1/129 [00:00<00:16,  7.60it/s]"
     ]
    },
    {
     "name": "stdout",
     "output_type": "stream",
     "text": [
      "\n",
      "Epoch 018 train_loss: 3.1280 val_loss 3.1176 train_acc 0.0985 val_acc 0.1047\n"
     ]
    },
    {
     "name": "stderr",
     "output_type": "stream",
     "text": [
      "Epoch: 100%|██████████| 129/129 [00:17<00:00,  7.24it/s]\n",
      "Epoch:   1%|          | 1/129 [00:00<00:16,  7.67it/s]"
     ]
    },
    {
     "name": "stdout",
     "output_type": "stream",
     "text": [
      "\n",
      "Epoch 019 train_loss: 3.1291 val_loss 3.1147 train_acc 0.1010 val_acc 0.1047\n"
     ]
    },
    {
     "name": "stderr",
     "output_type": "stream",
     "text": [
      "Epoch: 100%|██████████| 129/129 [00:17<00:00,  7.26it/s]\n",
      "Epoch:   1%|          | 1/129 [00:00<00:17,  7.36it/s]"
     ]
    },
    {
     "name": "stdout",
     "output_type": "stream",
     "text": [
      "\n",
      "Epoch 020 train_loss: 3.1272 val_loss 3.1130 train_acc 0.1013 val_acc 0.1047\n"
     ]
    },
    {
     "name": "stderr",
     "output_type": "stream",
     "text": [
      "Epoch: 100%|██████████| 129/129 [00:18<00:00,  6.99it/s]\n",
      "Epoch:   1%|          | 1/129 [00:00<00:16,  7.65it/s]"
     ]
    },
    {
     "name": "stdout",
     "output_type": "stream",
     "text": [
      "\n",
      "Epoch 021 train_loss: 3.1243 val_loss 3.1123 train_acc 0.1028 val_acc 0.1047\n"
     ]
    },
    {
     "name": "stderr",
     "output_type": "stream",
     "text": [
      "Epoch: 100%|██████████| 129/129 [00:17<00:00,  7.56it/s]\n",
      "Epoch:   1%|          | 1/129 [00:00<00:20,  6.40it/s]"
     ]
    },
    {
     "name": "stdout",
     "output_type": "stream",
     "text": [
      "\n",
      "Epoch 022 train_loss: 3.1259 val_loss 3.1106 train_acc 0.1028 val_acc 0.1047\n"
     ]
    },
    {
     "name": "stderr",
     "output_type": "stream",
     "text": [
      "Epoch: 100%|██████████| 129/129 [00:17<00:00,  7.41it/s]\n",
      "Epoch:   1%|          | 1/129 [00:00<00:16,  7.61it/s]"
     ]
    },
    {
     "name": "stdout",
     "output_type": "stream",
     "text": [
      "\n",
      "Epoch 023 train_loss: 3.1235 val_loss 3.1113 train_acc 0.1001 val_acc 0.1047\n"
     ]
    },
    {
     "name": "stderr",
     "output_type": "stream",
     "text": [
      "Epoch: 100%|██████████| 129/129 [00:17<00:00,  7.21it/s]\n",
      "Epoch:   1%|          | 1/129 [00:00<00:15,  8.03it/s]"
     ]
    },
    {
     "name": "stdout",
     "output_type": "stream",
     "text": [
      "\n",
      "Epoch 024 train_loss: 3.1235 val_loss 3.1103 train_acc 0.1033 val_acc 0.1047\n"
     ]
    },
    {
     "name": "stderr",
     "output_type": "stream",
     "text": [
      "Epoch: 100%|██████████| 129/129 [00:16<00:00,  7.71it/s]\n",
      "Epoch:   1%|          | 1/129 [00:00<00:19,  6.44it/s]"
     ]
    },
    {
     "name": "stdout",
     "output_type": "stream",
     "text": [
      "\n",
      "Epoch 025 train_loss: 3.1214 val_loss 3.1096 train_acc 0.1029 val_acc 0.1047\n"
     ]
    },
    {
     "name": "stderr",
     "output_type": "stream",
     "text": [
      "Epoch: 100%|██████████| 129/129 [00:17<00:00,  7.51it/s]\n",
      "Epoch:   1%|          | 1/129 [00:00<00:16,  7.95it/s]"
     ]
    },
    {
     "name": "stdout",
     "output_type": "stream",
     "text": [
      "\n",
      "Epoch 026 train_loss: 3.1176 val_loss 3.1092 train_acc 0.1022 val_acc 0.1047\n"
     ]
    },
    {
     "name": "stderr",
     "output_type": "stream",
     "text": [
      "Epoch: 100%|██████████| 129/129 [00:16<00:00,  7.64it/s]\n",
      "Epoch:   1%|          | 1/129 [00:00<00:19,  6.55it/s]"
     ]
    },
    {
     "name": "stdout",
     "output_type": "stream",
     "text": [
      "\n",
      "Epoch 027 train_loss: 3.1200 val_loss 3.1070 train_acc 0.1054 val_acc 0.1047\n"
     ]
    },
    {
     "name": "stderr",
     "output_type": "stream",
     "text": [
      "Epoch: 100%|██████████| 129/129 [00:17<00:00,  7.48it/s]\n",
      "Epoch:   1%|          | 1/129 [00:00<00:16,  7.56it/s]"
     ]
    },
    {
     "name": "stdout",
     "output_type": "stream",
     "text": [
      "\n",
      "Epoch 028 train_loss: 3.1163 val_loss 3.1107 train_acc 0.1019 val_acc 0.1047\n"
     ]
    },
    {
     "name": "stderr",
     "output_type": "stream",
     "text": [
      "Epoch: 100%|██████████| 129/129 [00:17<00:00,  7.33it/s]\n",
      "Epoch:   1%|          | 1/129 [00:00<00:17,  7.37it/s]"
     ]
    },
    {
     "name": "stdout",
     "output_type": "stream",
     "text": [
      "\n",
      "Epoch 029 train_loss: 3.1150 val_loss 3.1091 train_acc 0.1043 val_acc 0.1047\n"
     ]
    },
    {
     "name": "stderr",
     "output_type": "stream",
     "text": [
      "Epoch: 100%|██████████| 129/129 [00:17<00:00,  7.44it/s]\n",
      "Epoch:   1%|          | 1/129 [00:00<00:16,  7.74it/s]"
     ]
    },
    {
     "name": "stdout",
     "output_type": "stream",
     "text": [
      "\n",
      "Epoch 030 train_loss: 3.1153 val_loss 3.1029 train_acc 0.1019 val_acc 0.1047\n"
     ]
    },
    {
     "name": "stderr",
     "output_type": "stream",
     "text": [
      "Epoch: 100%|██████████| 129/129 [00:17<00:00,  7.49it/s]\n",
      "Epoch:   1%|          | 1/129 [00:00<00:18,  6.92it/s]"
     ]
    },
    {
     "name": "stdout",
     "output_type": "stream",
     "text": [
      "\n",
      "Epoch 031 train_loss: 3.1164 val_loss 3.1041 train_acc 0.1040 val_acc 0.1047\n"
     ]
    },
    {
     "name": "stderr",
     "output_type": "stream",
     "text": [
      "Epoch: 100%|██████████| 129/129 [00:17<00:00,  7.36it/s]\n",
      "Epoch:   1%|          | 1/129 [00:00<00:17,  7.17it/s]"
     ]
    },
    {
     "name": "stdout",
     "output_type": "stream",
     "text": [
      "\n",
      "Epoch 032 train_loss: 3.1177 val_loss 3.1043 train_acc 0.1038 val_acc 0.1047\n"
     ]
    },
    {
     "name": "stderr",
     "output_type": "stream",
     "text": [
      "Epoch: 100%|██████████| 129/129 [00:17<00:00,  7.40it/s]\n",
      "Epoch:   1%|          | 1/129 [00:00<00:20,  6.12it/s]"
     ]
    },
    {
     "name": "stdout",
     "output_type": "stream",
     "text": [
      "\n",
      "Epoch 033 train_loss: 3.1166 val_loss 3.1017 train_acc 0.1038 val_acc 0.1047\n"
     ]
    },
    {
     "name": "stderr",
     "output_type": "stream",
     "text": [
      "Epoch: 100%|██████████| 129/129 [00:17<00:00,  7.32it/s]\n",
      "Epoch:   1%|          | 1/129 [00:00<00:17,  7.33it/s]"
     ]
    },
    {
     "name": "stdout",
     "output_type": "stream",
     "text": [
      "\n",
      "Epoch 034 train_loss: 3.1137 val_loss 3.1001 train_acc 0.1035 val_acc 0.1047\n"
     ]
    },
    {
     "name": "stderr",
     "output_type": "stream",
     "text": [
      "Epoch: 100%|██████████| 129/129 [00:17<00:00,  7.40it/s]\n",
      "Epoch:   1%|          | 1/129 [00:00<00:16,  7.91it/s]"
     ]
    },
    {
     "name": "stdout",
     "output_type": "stream",
     "text": [
      "\n",
      "Epoch 035 train_loss: 3.1116 val_loss 3.0987 train_acc 0.1049 val_acc 0.1047\n"
     ]
    },
    {
     "name": "stderr",
     "output_type": "stream",
     "text": [
      "Epoch: 100%|██████████| 129/129 [00:17<00:00,  7.54it/s]\n",
      "Epoch:   1%|          | 1/129 [00:00<00:17,  7.32it/s]"
     ]
    },
    {
     "name": "stdout",
     "output_type": "stream",
     "text": [
      "\n",
      "Epoch 036 train_loss: 3.1104 val_loss 3.0985 train_acc 0.1038 val_acc 0.1047\n"
     ]
    },
    {
     "name": "stderr",
     "output_type": "stream",
     "text": [
      "Epoch: 100%|██████████| 129/129 [00:17<00:00,  7.50it/s]\n",
      "Epoch:   1%|          | 1/129 [00:00<00:17,  7.40it/s]"
     ]
    },
    {
     "name": "stdout",
     "output_type": "stream",
     "text": [
      "\n",
      "Epoch 037 train_loss: 3.1074 val_loss 3.0960 train_acc 0.1067 val_acc 0.1047\n"
     ]
    },
    {
     "name": "stderr",
     "output_type": "stream",
     "text": [
      "Epoch: 100%|██████████| 129/129 [00:16<00:00,  7.63it/s]\n",
      "Epoch:   1%|          | 1/129 [00:00<00:16,  7.59it/s]"
     ]
    },
    {
     "name": "stdout",
     "output_type": "stream",
     "text": [
      "\n",
      "Epoch 038 train_loss: 3.1050 val_loss 3.0965 train_acc 0.1054 val_acc 0.1047\n"
     ]
    },
    {
     "name": "stderr",
     "output_type": "stream",
     "text": [
      "Epoch: 100%|██████████| 129/129 [00:17<00:00,  7.50it/s]\n",
      "Epoch:   1%|          | 1/129 [00:00<00:16,  7.75it/s]"
     ]
    },
    {
     "name": "stdout",
     "output_type": "stream",
     "text": [
      "\n",
      "Epoch 039 train_loss: 3.1027 val_loss 3.0952 train_acc 0.1067 val_acc 0.1051\n"
     ]
    },
    {
     "name": "stderr",
     "output_type": "stream",
     "text": [
      "Epoch: 100%|██████████| 129/129 [00:17<00:00,  7.48it/s]\n",
      "Epoch:   1%|          | 1/129 [00:00<00:17,  7.19it/s]"
     ]
    },
    {
     "name": "stdout",
     "output_type": "stream",
     "text": [
      "\n",
      "Epoch 040 train_loss: 3.1015 val_loss 3.0925 train_acc 0.1060 val_acc 0.1117\n"
     ]
    },
    {
     "name": "stderr",
     "output_type": "stream",
     "text": [
      "Epoch: 100%|██████████| 129/129 [00:17<00:00,  7.50it/s]\n",
      "Epoch:   1%|          | 1/129 [00:00<00:16,  7.71it/s]"
     ]
    },
    {
     "name": "stdout",
     "output_type": "stream",
     "text": [
      "\n",
      "Epoch 041 train_loss: 3.1036 val_loss 3.0902 train_acc 0.1055 val_acc 0.1084\n"
     ]
    },
    {
     "name": "stderr",
     "output_type": "stream",
     "text": [
      "Epoch: 100%|██████████| 129/129 [00:16<00:00,  7.67it/s]\n",
      "Epoch:   1%|          | 1/129 [00:00<00:20,  6.34it/s]"
     ]
    },
    {
     "name": "stdout",
     "output_type": "stream",
     "text": [
      "\n",
      "Epoch 042 train_loss: 3.0981 val_loss 3.0866 train_acc 0.1069 val_acc 0.1193\n"
     ]
    },
    {
     "name": "stderr",
     "output_type": "stream",
     "text": [
      "Epoch: 100%|██████████| 129/129 [00:17<00:00,  7.23it/s]\n",
      "Epoch:   1%|          | 1/129 [00:00<00:16,  7.89it/s]"
     ]
    },
    {
     "name": "stdout",
     "output_type": "stream",
     "text": [
      "\n",
      "Epoch 043 train_loss: 3.0993 val_loss 3.0832 train_acc 0.1067 val_acc 0.1179\n"
     ]
    },
    {
     "name": "stderr",
     "output_type": "stream",
     "text": [
      "Epoch: 100%|██████████| 129/129 [00:17<00:00,  7.46it/s]\n",
      "Epoch:   1%|          | 1/129 [00:00<00:17,  7.51it/s]"
     ]
    },
    {
     "name": "stdout",
     "output_type": "stream",
     "text": [
      "\n",
      "Epoch 044 train_loss: 3.0933 val_loss 3.0792 train_acc 0.1100 val_acc 0.1212\n"
     ]
    },
    {
     "name": "stderr",
     "output_type": "stream",
     "text": [
      "Epoch: 100%|██████████| 129/129 [00:16<00:00,  7.60it/s]\n",
      "Epoch:   1%|          | 1/129 [00:00<00:21,  5.98it/s]"
     ]
    },
    {
     "name": "stdout",
     "output_type": "stream",
     "text": [
      "\n",
      "Epoch 045 train_loss: 3.0912 val_loss 3.0742 train_acc 0.1095 val_acc 0.1208\n"
     ]
    },
    {
     "name": "stderr",
     "output_type": "stream",
     "text": [
      "Epoch: 100%|██████████| 129/129 [00:17<00:00,  7.44it/s]\n",
      "Epoch:   1%|          | 1/129 [00:00<00:17,  7.46it/s]"
     ]
    },
    {
     "name": "stdout",
     "output_type": "stream",
     "text": [
      "\n",
      "Epoch 046 train_loss: 3.0901 val_loss 3.0731 train_acc 0.1146 val_acc 0.1245\n"
     ]
    },
    {
     "name": "stderr",
     "output_type": "stream",
     "text": [
      "Epoch: 100%|██████████| 129/129 [00:17<00:00,  7.37it/s]\n",
      "Epoch:   1%|          | 1/129 [00:00<00:21,  6.09it/s]"
     ]
    },
    {
     "name": "stdout",
     "output_type": "stream",
     "text": [
      "\n",
      "Epoch 047 train_loss: 3.0806 val_loss 3.0668 train_acc 0.1137 val_acc 0.1296\n"
     ]
    },
    {
     "name": "stderr",
     "output_type": "stream",
     "text": [
      "Epoch: 100%|██████████| 129/129 [00:18<00:00,  7.16it/s]\n",
      "Epoch:   1%|          | 1/129 [00:00<00:16,  7.91it/s]"
     ]
    },
    {
     "name": "stdout",
     "output_type": "stream",
     "text": [
      "\n",
      "Epoch 048 train_loss: 3.0800 val_loss 3.0570 train_acc 0.1173 val_acc 0.1285\n"
     ]
    },
    {
     "name": "stderr",
     "output_type": "stream",
     "text": [
      "Epoch: 100%|██████████| 129/129 [00:17<00:00,  7.30it/s]\n",
      "Epoch:   1%|          | 1/129 [00:00<00:15,  8.03it/s]"
     ]
    },
    {
     "name": "stdout",
     "output_type": "stream",
     "text": [
      "\n",
      "Epoch 049 train_loss: 3.0754 val_loss 3.0498 train_acc 0.1173 val_acc 0.1281\n"
     ]
    },
    {
     "name": "stderr",
     "output_type": "stream",
     "text": [
      "Epoch: 100%|██████████| 129/129 [00:16<00:00,  7.73it/s]\n"
     ]
    },
    {
     "name": "stdout",
     "output_type": "stream",
     "text": [
      "\n",
      "Epoch 050 train_loss: 3.0732 val_loss 3.0419 train_acc 0.1231 val_acc 0.1332\n"
     ]
    }
   ],
   "source": [
    "optim = torch.optim.SGD(CNN.parameters(), lr=0.002)\n",
    "criterion = nn.CrossEntropyLoss()\n",
    "\n",
    "history = train(train_dataset, val_dataset, model=CNN,  optim=optim,\n",
    "                criterion=criterion, epochs=50, batch_size=64, device=DEVICE)"
   ]
  },
  {
   "cell_type": "code",
   "execution_count": 14,
   "metadata": {},
   "outputs": [
    {
     "name": "stderr",
     "output_type": "stream",
     "text": [
      "Epoch: 100%|██████████| 129/129 [00:17<00:00,  7.18it/s]\n",
      "Epoch:   1%|          | 1/129 [00:00<00:17,  7.45it/s]"
     ]
    },
    {
     "name": "stdout",
     "output_type": "stream",
     "text": [
      "\n",
      "Epoch 001 train_loss: 3.0667 val_loss 3.0425 train_acc 0.1268 val_acc 0.1336\n"
     ]
    },
    {
     "name": "stderr",
     "output_type": "stream",
     "text": [
      "Epoch: 100%|██████████| 129/129 [00:17<00:00,  7.52it/s]\n",
      "Epoch:   1%|          | 1/129 [00:00<00:19,  6.59it/s]"
     ]
    },
    {
     "name": "stdout",
     "output_type": "stream",
     "text": [
      "\n",
      "Epoch 002 train_loss: 3.0620 val_loss 3.0416 train_acc 0.1254 val_acc 0.1336\n"
     ]
    },
    {
     "name": "stderr",
     "output_type": "stream",
     "text": [
      "Epoch: 100%|██████████| 129/129 [00:32<00:00,  2.83it/s]\n",
      "Epoch:   1%|          | 1/129 [00:00<00:17,  7.12it/s]"
     ]
    },
    {
     "name": "stdout",
     "output_type": "stream",
     "text": [
      "\n",
      "Epoch 003 train_loss: 3.0614 val_loss 3.0408 train_acc 0.1219 val_acc 0.1343\n"
     ]
    },
    {
     "name": "stderr",
     "output_type": "stream",
     "text": [
      "Epoch: 100%|██████████| 129/129 [00:27<00:00,  3.14it/s]\n",
      "Epoch:   1%|          | 1/129 [00:00<00:16,  7.67it/s]"
     ]
    },
    {
     "name": "stdout",
     "output_type": "stream",
     "text": [
      "\n",
      "Epoch 004 train_loss: 3.0595 val_loss 3.0401 train_acc 0.1293 val_acc 0.1347\n"
     ]
    },
    {
     "name": "stderr",
     "output_type": "stream",
     "text": [
      "Epoch: 100%|██████████| 129/129 [00:23<00:00,  5.43it/s]\n",
      "Epoch:   1%|          | 1/129 [00:00<00:16,  7.92it/s]"
     ]
    },
    {
     "name": "stdout",
     "output_type": "stream",
     "text": [
      "\n",
      "Epoch 005 train_loss: 3.0633 val_loss 3.0398 train_acc 0.1255 val_acc 0.1347\n"
     ]
    },
    {
     "name": "stderr",
     "output_type": "stream",
     "text": [
      "Epoch: 100%|██████████| 129/129 [00:19<00:00,  6.54it/s]\n",
      "Epoch:   1%|          | 1/129 [00:00<00:17,  7.52it/s]"
     ]
    },
    {
     "name": "stdout",
     "output_type": "stream",
     "text": [
      "\n",
      "Epoch 006 train_loss: 3.0588 val_loss 3.0392 train_acc 0.1230 val_acc 0.1354\n"
     ]
    },
    {
     "name": "stderr",
     "output_type": "stream",
     "text": [
      "Epoch: 100%|██████████| 129/129 [00:17<00:00,  7.33it/s]\n",
      "Epoch:   1%|          | 1/129 [00:00<00:16,  7.70it/s]"
     ]
    },
    {
     "name": "stdout",
     "output_type": "stream",
     "text": [
      "\n",
      "Epoch 007 train_loss: 3.0547 val_loss 3.0378 train_acc 0.1262 val_acc 0.1354\n"
     ]
    },
    {
     "name": "stderr",
     "output_type": "stream",
     "text": [
      "Epoch: 100%|██████████| 129/129 [00:17<00:00,  7.43it/s]\n",
      "Epoch:   1%|          | 1/129 [00:00<00:16,  7.63it/s]"
     ]
    },
    {
     "name": "stdout",
     "output_type": "stream",
     "text": [
      "\n",
      "Epoch 008 train_loss: 3.0582 val_loss 3.0376 train_acc 0.1237 val_acc 0.1350\n"
     ]
    },
    {
     "name": "stderr",
     "output_type": "stream",
     "text": [
      "Epoch: 100%|██████████| 129/129 [00:17<00:00,  7.54it/s]\n",
      "Epoch:   1%|          | 1/129 [00:00<00:17,  7.22it/s]"
     ]
    },
    {
     "name": "stdout",
     "output_type": "stream",
     "text": [
      "\n",
      "Epoch 009 train_loss: 3.0578 val_loss 3.0375 train_acc 0.1243 val_acc 0.1350\n"
     ]
    },
    {
     "name": "stderr",
     "output_type": "stream",
     "text": [
      "Epoch: 100%|██████████| 129/129 [00:17<00:00,  7.42it/s]\n",
      "Epoch:   1%|          | 1/129 [00:00<00:20,  6.15it/s]"
     ]
    },
    {
     "name": "stdout",
     "output_type": "stream",
     "text": [
      "\n",
      "Epoch 010 train_loss: 3.0552 val_loss 3.0362 train_acc 0.1277 val_acc 0.1350\n"
     ]
    },
    {
     "name": "stderr",
     "output_type": "stream",
     "text": [
      "Epoch: 100%|██████████| 129/129 [00:17<00:00,  7.40it/s]\n",
      "Epoch:   1%|          | 1/129 [00:00<00:18,  6.91it/s]"
     ]
    },
    {
     "name": "stdout",
     "output_type": "stream",
     "text": [
      "\n",
      "Epoch 011 train_loss: 3.0573 val_loss 3.0356 train_acc 0.1240 val_acc 0.1358\n"
     ]
    },
    {
     "name": "stderr",
     "output_type": "stream",
     "text": [
      "Epoch: 100%|██████████| 129/129 [00:32<00:00,  6.72it/s]\n",
      "Epoch:   1%|          | 1/129 [00:00<00:18,  6.82it/s]"
     ]
    },
    {
     "name": "stdout",
     "output_type": "stream",
     "text": [
      "\n",
      "Epoch 012 train_loss: 3.0602 val_loss 3.0346 train_acc 0.1240 val_acc 0.1354\n"
     ]
    },
    {
     "name": "stderr",
     "output_type": "stream",
     "text": [
      "Epoch: 100%|██████████| 129/129 [00:30<00:00,  4.28it/s]\n",
      "Epoch:   1%|          | 1/129 [00:00<00:15,  8.02it/s]"
     ]
    },
    {
     "name": "stdout",
     "output_type": "stream",
     "text": [
      "\n",
      "Epoch 013 train_loss: 3.0560 val_loss 3.0348 train_acc 0.1271 val_acc 0.1354\n"
     ]
    },
    {
     "name": "stderr",
     "output_type": "stream",
     "text": [
      "Epoch: 100%|██████████| 129/129 [00:23<00:00,  5.53it/s]\n",
      "Epoch:   1%|          | 1/129 [00:00<00:16,  7.54it/s]"
     ]
    },
    {
     "name": "stdout",
     "output_type": "stream",
     "text": [
      "\n",
      "Epoch 014 train_loss: 3.0572 val_loss 3.0341 train_acc 0.1253 val_acc 0.1354\n"
     ]
    },
    {
     "name": "stderr",
     "output_type": "stream",
     "text": [
      "Epoch: 100%|██████████| 129/129 [00:19<00:00,  6.74it/s]\n",
      "Epoch:   1%|          | 1/129 [00:00<00:16,  7.91it/s]"
     ]
    },
    {
     "name": "stdout",
     "output_type": "stream",
     "text": [
      "\n",
      "Epoch 015 train_loss: 3.0510 val_loss 3.0332 train_acc 0.1276 val_acc 0.1361\n"
     ]
    },
    {
     "name": "stderr",
     "output_type": "stream",
     "text": [
      "Epoch: 100%|██████████| 129/129 [00:17<00:00,  7.41it/s]\n",
      "Epoch:   1%|          | 1/129 [00:00<00:17,  7.44it/s]"
     ]
    },
    {
     "name": "stdout",
     "output_type": "stream",
     "text": [
      "\n",
      "Epoch 016 train_loss: 3.0528 val_loss 3.0329 train_acc 0.1286 val_acc 0.1369\n"
     ]
    },
    {
     "name": "stderr",
     "output_type": "stream",
     "text": [
      "Epoch: 100%|██████████| 129/129 [00:17<00:00,  7.39it/s]\n",
      "Epoch:   1%|          | 1/129 [00:00<00:17,  7.53it/s]"
     ]
    },
    {
     "name": "stdout",
     "output_type": "stream",
     "text": [
      "\n",
      "Epoch 017 train_loss: 3.0508 val_loss 3.0326 train_acc 0.1315 val_acc 0.1365\n"
     ]
    },
    {
     "name": "stderr",
     "output_type": "stream",
     "text": [
      "Epoch: 100%|██████████| 129/129 [00:32<00:00,  4.00it/s]\n",
      "Epoch:   1%|          | 1/129 [00:00<00:16,  7.73it/s]"
     ]
    },
    {
     "name": "stdout",
     "output_type": "stream",
     "text": [
      "\n",
      "Epoch 018 train_loss: 3.0561 val_loss 3.0316 train_acc 0.1298 val_acc 0.1365\n"
     ]
    },
    {
     "name": "stderr",
     "output_type": "stream",
     "text": [
      "Epoch: 100%|██████████| 129/129 [00:32<00:00,  4.02it/s]\n",
      "Epoch:   1%|          | 1/129 [00:00<00:16,  7.78it/s]"
     ]
    },
    {
     "name": "stdout",
     "output_type": "stream",
     "text": [
      "\n",
      "Epoch 019 train_loss: 3.0513 val_loss 3.0312 train_acc 0.1283 val_acc 0.1361\n"
     ]
    },
    {
     "name": "stderr",
     "output_type": "stream",
     "text": [
      "Epoch: 100%|██████████| 129/129 [00:23<00:00,  5.57it/s]\n",
      "Epoch:   0%|          | 0/129 [00:00<?, ?it/s]"
     ]
    },
    {
     "name": "stdout",
     "output_type": "stream",
     "text": [
      "\n",
      "Epoch 020 train_loss: 3.0490 val_loss 3.0301 train_acc 0.1270 val_acc 0.1361\n"
     ]
    },
    {
     "name": "stderr",
     "output_type": "stream",
     "text": [
      "Epoch: 100%|██████████| 129/129 [00:21<00:00,  6.02it/s]\n",
      "Epoch:   1%|          | 1/129 [00:00<00:16,  7.78it/s]"
     ]
    },
    {
     "name": "stdout",
     "output_type": "stream",
     "text": [
      "\n",
      "Epoch 021 train_loss: 3.0518 val_loss 3.0297 train_acc 0.1271 val_acc 0.1361\n"
     ]
    },
    {
     "name": "stderr",
     "output_type": "stream",
     "text": [
      "Epoch: 100%|██████████| 129/129 [00:16<00:00,  7.61it/s]\n",
      "Epoch:   1%|          | 1/129 [00:00<00:17,  7.36it/s]"
     ]
    },
    {
     "name": "stdout",
     "output_type": "stream",
     "text": [
      "\n",
      "Epoch 022 train_loss: 3.0527 val_loss 3.0290 train_acc 0.1266 val_acc 0.1361\n"
     ]
    },
    {
     "name": "stderr",
     "output_type": "stream",
     "text": [
      "Epoch: 100%|██████████| 129/129 [00:17<00:00,  7.56it/s]\n",
      "Epoch:   1%|          | 1/129 [00:00<00:19,  6.51it/s]"
     ]
    },
    {
     "name": "stdout",
     "output_type": "stream",
     "text": [
      "\n",
      "Epoch 023 train_loss: 3.0504 val_loss 3.0286 train_acc 0.1310 val_acc 0.1365\n"
     ]
    },
    {
     "name": "stderr",
     "output_type": "stream",
     "text": [
      "Epoch: 100%|██████████| 129/129 [00:17<00:00,  7.38it/s]\n",
      "Epoch:   1%|          | 1/129 [00:00<00:16,  7.67it/s]"
     ]
    },
    {
     "name": "stdout",
     "output_type": "stream",
     "text": [
      "\n",
      "Epoch 024 train_loss: 3.0465 val_loss 3.0275 train_acc 0.1320 val_acc 0.1358\n"
     ]
    },
    {
     "name": "stderr",
     "output_type": "stream",
     "text": [
      "Epoch: 100%|██████████| 129/129 [00:18<00:00,  7.13it/s]\n",
      "Epoch:   1%|          | 1/129 [00:00<00:16,  7.93it/s]"
     ]
    },
    {
     "name": "stdout",
     "output_type": "stream",
     "text": [
      "\n",
      "Epoch 025 train_loss: 3.0488 val_loss 3.0266 train_acc 0.1251 val_acc 0.1358\n"
     ]
    },
    {
     "name": "stderr",
     "output_type": "stream",
     "text": [
      "Epoch: 100%|██████████| 129/129 [00:17<00:00,  7.23it/s]\n",
      "Epoch:   1%|          | 1/129 [00:00<00:16,  7.55it/s]"
     ]
    },
    {
     "name": "stdout",
     "output_type": "stream",
     "text": [
      "\n",
      "Epoch 026 train_loss: 3.0548 val_loss 3.0265 train_acc 0.1283 val_acc 0.1347\n"
     ]
    },
    {
     "name": "stderr",
     "output_type": "stream",
     "text": [
      "Epoch: 100%|██████████| 129/129 [00:17<00:00,  7.33it/s]\n",
      "Epoch:   0%|          | 0/129 [00:00<?, ?it/s]"
     ]
    },
    {
     "name": "stdout",
     "output_type": "stream",
     "text": [
      "\n",
      "Epoch 027 train_loss: 3.0465 val_loss 3.0258 train_acc 0.1292 val_acc 0.1354\n"
     ]
    },
    {
     "name": "stderr",
     "output_type": "stream",
     "text": [
      "Epoch: 100%|██████████| 129/129 [00:22<00:00,  5.78it/s]\n",
      "Epoch:   1%|          | 1/129 [00:00<00:16,  7.62it/s]"
     ]
    },
    {
     "name": "stdout",
     "output_type": "stream",
     "text": [
      "\n",
      "Epoch 028 train_loss: 3.0451 val_loss 3.0250 train_acc 0.1245 val_acc 0.1350\n"
     ]
    },
    {
     "name": "stderr",
     "output_type": "stream",
     "text": [
      "Epoch: 100%|██████████| 129/129 [00:23<00:00,  5.43it/s]\n",
      "Epoch:   1%|          | 1/129 [00:00<00:17,  7.34it/s]"
     ]
    },
    {
     "name": "stdout",
     "output_type": "stream",
     "text": [
      "\n",
      "Epoch 029 train_loss: 3.0470 val_loss 3.0245 train_acc 0.1298 val_acc 0.1350\n"
     ]
    },
    {
     "name": "stderr",
     "output_type": "stream",
     "text": [
      "Epoch: 100%|██████████| 129/129 [00:25<00:00,  5.15it/s]\n",
      "Epoch:   1%|          | 1/129 [00:00<00:17,  7.31it/s]"
     ]
    },
    {
     "name": "stdout",
     "output_type": "stream",
     "text": [
      "\n",
      "Epoch 030 train_loss: 3.0420 val_loss 3.0235 train_acc 0.1288 val_acc 0.1354\n"
     ]
    },
    {
     "name": "stderr",
     "output_type": "stream",
     "text": [
      "Epoch: 100%|██████████| 129/129 [00:18<00:00,  7.10it/s]\n",
      "Epoch:   1%|          | 1/129 [00:00<00:16,  7.79it/s]"
     ]
    },
    {
     "name": "stdout",
     "output_type": "stream",
     "text": [
      "\n",
      "Epoch 031 train_loss: 3.0442 val_loss 3.0228 train_acc 0.1257 val_acc 0.1347\n"
     ]
    },
    {
     "name": "stderr",
     "output_type": "stream",
     "text": [
      "Epoch: 100%|██████████| 129/129 [00:17<00:00,  7.57it/s]\n",
      "Epoch:   1%|          | 1/129 [00:00<00:16,  7.59it/s]"
     ]
    },
    {
     "name": "stdout",
     "output_type": "stream",
     "text": [
      "\n",
      "Epoch 032 train_loss: 3.0439 val_loss 3.0225 train_acc 0.1320 val_acc 0.1336\n"
     ]
    },
    {
     "name": "stderr",
     "output_type": "stream",
     "text": [
      "Epoch: 100%|██████████| 129/129 [00:17<00:00,  7.34it/s]\n",
      "Epoch:   1%|          | 1/129 [00:00<00:15,  8.05it/s]"
     ]
    },
    {
     "name": "stdout",
     "output_type": "stream",
     "text": [
      "\n",
      "Epoch 033 train_loss: 3.0441 val_loss 3.0218 train_acc 0.1320 val_acc 0.1354\n"
     ]
    },
    {
     "name": "stderr",
     "output_type": "stream",
     "text": [
      "Epoch: 100%|██████████| 129/129 [00:17<00:00,  7.33it/s]\n",
      "Epoch:   1%|          | 1/129 [00:00<00:18,  6.90it/s]"
     ]
    },
    {
     "name": "stdout",
     "output_type": "stream",
     "text": [
      "\n",
      "Epoch 034 train_loss: 3.0419 val_loss 3.0211 train_acc 0.1273 val_acc 0.1354\n"
     ]
    },
    {
     "name": "stderr",
     "output_type": "stream",
     "text": [
      "Epoch: 100%|██████████| 129/129 [00:18<00:00,  6.91it/s]\n",
      "Epoch:   1%|          | 1/129 [00:00<00:15,  8.05it/s]"
     ]
    },
    {
     "name": "stdout",
     "output_type": "stream",
     "text": [
      "\n",
      "Epoch 035 train_loss: 3.0406 val_loss 3.0205 train_acc 0.1269 val_acc 0.1354\n"
     ]
    },
    {
     "name": "stderr",
     "output_type": "stream",
     "text": [
      "Epoch: 100%|██████████| 129/129 [00:17<00:00,  7.53it/s]\n",
      "Epoch:   1%|          | 1/129 [00:00<00:16,  7.86it/s]"
     ]
    },
    {
     "name": "stdout",
     "output_type": "stream",
     "text": [
      "\n",
      "Epoch 036 train_loss: 3.0400 val_loss 3.0201 train_acc 0.1268 val_acc 0.1354\n"
     ]
    },
    {
     "name": "stderr",
     "output_type": "stream",
     "text": [
      "Epoch: 100%|██████████| 129/129 [00:17<00:00,  7.55it/s]\n",
      "Epoch:   1%|          | 1/129 [00:00<00:16,  7.99it/s]"
     ]
    },
    {
     "name": "stdout",
     "output_type": "stream",
     "text": [
      "\n",
      "Epoch 037 train_loss: 3.0439 val_loss 3.0195 train_acc 0.1310 val_acc 0.1354\n"
     ]
    },
    {
     "name": "stderr",
     "output_type": "stream",
     "text": [
      "Epoch: 100%|██████████| 129/129 [00:17<00:00,  7.35it/s]\n",
      "Epoch:   1%|          | 1/129 [00:00<00:17,  7.52it/s]"
     ]
    },
    {
     "name": "stdout",
     "output_type": "stream",
     "text": [
      "\n",
      "Epoch 038 train_loss: 3.0402 val_loss 3.0186 train_acc 0.1293 val_acc 0.1354\n"
     ]
    },
    {
     "name": "stderr",
     "output_type": "stream",
     "text": [
      "Epoch: 100%|██████████| 129/129 [00:17<00:00,  7.56it/s]\n",
      "Epoch:   1%|          | 1/129 [00:00<00:16,  7.59it/s]"
     ]
    },
    {
     "name": "stdout",
     "output_type": "stream",
     "text": [
      "\n",
      "Epoch 039 train_loss: 3.0417 val_loss 3.0183 train_acc 0.1308 val_acc 0.1354\n"
     ]
    },
    {
     "name": "stderr",
     "output_type": "stream",
     "text": [
      "Epoch: 100%|██████████| 129/129 [00:17<00:00,  7.46it/s]\n",
      "Epoch:   1%|          | 1/129 [00:00<00:17,  7.39it/s]"
     ]
    },
    {
     "name": "stdout",
     "output_type": "stream",
     "text": [
      "\n",
      "Epoch 040 train_loss: 3.0392 val_loss 3.0175 train_acc 0.1273 val_acc 0.1354\n"
     ]
    },
    {
     "name": "stderr",
     "output_type": "stream",
     "text": [
      "Epoch: 100%|██████████| 129/129 [00:17<00:00,  7.22it/s]\n",
      "Epoch:   1%|          | 1/129 [00:00<00:16,  7.93it/s]"
     ]
    },
    {
     "name": "stdout",
     "output_type": "stream",
     "text": [
      "\n",
      "Epoch 041 train_loss: 3.0360 val_loss 3.0166 train_acc 0.1352 val_acc 0.1358\n"
     ]
    },
    {
     "name": "stderr",
     "output_type": "stream",
     "text": [
      "Epoch: 100%|██████████| 129/129 [00:17<00:00,  7.48it/s]\n",
      "Epoch:   1%|          | 1/129 [00:00<00:17,  7.38it/s]"
     ]
    },
    {
     "name": "stdout",
     "output_type": "stream",
     "text": [
      "\n",
      "Epoch 042 train_loss: 3.0404 val_loss 3.0158 train_acc 0.1302 val_acc 0.1354\n"
     ]
    },
    {
     "name": "stderr",
     "output_type": "stream",
     "text": [
      "Epoch: 100%|██████████| 129/129 [00:17<00:00,  7.19it/s]\n",
      "Epoch:   1%|          | 1/129 [00:00<00:16,  7.53it/s]"
     ]
    },
    {
     "name": "stdout",
     "output_type": "stream",
     "text": [
      "\n",
      "Epoch 043 train_loss: 3.0375 val_loss 3.0150 train_acc 0.1271 val_acc 0.1350\n"
     ]
    },
    {
     "name": "stderr",
     "output_type": "stream",
     "text": [
      "Epoch: 100%|██████████| 129/129 [00:17<00:00,  7.41it/s]\n",
      "Epoch:   1%|          | 1/129 [00:00<00:16,  7.64it/s]"
     ]
    },
    {
     "name": "stdout",
     "output_type": "stream",
     "text": [
      "\n",
      "Epoch 044 train_loss: 3.0374 val_loss 3.0148 train_acc 0.1293 val_acc 0.1350\n"
     ]
    },
    {
     "name": "stderr",
     "output_type": "stream",
     "text": [
      "Epoch: 100%|██████████| 129/129 [00:17<00:00,  7.52it/s]\n",
      "Epoch:   1%|          | 1/129 [00:00<00:15,  8.04it/s]"
     ]
    },
    {
     "name": "stdout",
     "output_type": "stream",
     "text": [
      "\n",
      "Epoch 045 train_loss: 3.0365 val_loss 3.0146 train_acc 0.1296 val_acc 0.1358\n"
     ]
    },
    {
     "name": "stderr",
     "output_type": "stream",
     "text": [
      "Epoch: 100%|██████████| 129/129 [00:18<00:00,  7.13it/s]\n",
      "Epoch:   1%|          | 1/129 [00:00<00:17,  7.52it/s]"
     ]
    },
    {
     "name": "stdout",
     "output_type": "stream",
     "text": [
      "\n",
      "Epoch 046 train_loss: 3.0368 val_loss 3.0140 train_acc 0.1311 val_acc 0.1358\n"
     ]
    },
    {
     "name": "stderr",
     "output_type": "stream",
     "text": [
      "Epoch: 100%|██████████| 129/129 [00:31<00:00,  4.03it/s]\n",
      "Epoch:   1%|          | 1/129 [00:00<00:16,  7.80it/s]"
     ]
    },
    {
     "name": "stdout",
     "output_type": "stream",
     "text": [
      "\n",
      "Epoch 047 train_loss: 3.0284 val_loss 3.0124 train_acc 0.1311 val_acc 0.1354\n"
     ]
    },
    {
     "name": "stderr",
     "output_type": "stream",
     "text": [
      "Epoch: 100%|██████████| 129/129 [00:29<00:00,  4.40it/s]\n",
      "Epoch:   1%|          | 1/129 [00:00<00:18,  6.87it/s]"
     ]
    },
    {
     "name": "stdout",
     "output_type": "stream",
     "text": [
      "\n",
      "Epoch 048 train_loss: 3.0333 val_loss 3.0120 train_acc 0.1288 val_acc 0.1347\n"
     ]
    },
    {
     "name": "stderr",
     "output_type": "stream",
     "text": [
      "Epoch: 100%|██████████| 129/129 [00:23<00:00,  5.56it/s]\n",
      "Epoch:   1%|          | 1/129 [00:00<00:18,  6.93it/s]"
     ]
    },
    {
     "name": "stdout",
     "output_type": "stream",
     "text": [
      "\n",
      "Epoch 049 train_loss: 3.0342 val_loss 3.0116 train_acc 0.1270 val_acc 0.1358\n"
     ]
    },
    {
     "name": "stderr",
     "output_type": "stream",
     "text": [
      "Epoch: 100%|██████████| 129/129 [00:26<00:00,  4.88it/s]\n"
     ]
    },
    {
     "name": "stdout",
     "output_type": "stream",
     "text": [
      "\n",
      "Epoch 050 train_loss: 3.0323 val_loss 3.0103 train_acc 0.1333 val_acc 0.1339\n"
     ]
    }
   ],
   "source": [
    "optim = torch.optim.SGD(CNN.parameters(), lr=0.0002)\n",
    "criterion = nn.CrossEntropyLoss()\n",
    "\n",
    "history = train(train_dataset, val_dataset, model=CNN,  optim=optim,\n",
    "                criterion=criterion, epochs=50, batch_size=64, device=DEVICE)"
   ]
  },
  {
   "cell_type": "code",
   "execution_count": 15,
   "metadata": {
    "scrolled": true
   },
   "outputs": [
    {
     "name": "stderr",
     "output_type": "stream",
     "text": [
      "Epoch: 100%|██████████| 129/129 [00:17<00:00,  7.19it/s]\n",
      "Epoch:   1%|          | 1/129 [00:00<00:18,  7.03it/s]"
     ]
    },
    {
     "name": "stdout",
     "output_type": "stream",
     "text": [
      "\n",
      "Epoch 001 train_loss: 3.0318 val_loss 3.0091 train_acc 0.1297 val_acc 0.1361\n"
     ]
    },
    {
     "name": "stderr",
     "output_type": "stream",
     "text": [
      "Epoch: 100%|██████████| 129/129 [00:18<00:00,  6.96it/s]\n",
      "Epoch:   1%|          | 1/129 [00:00<00:17,  7.32it/s]"
     ]
    },
    {
     "name": "stdout",
     "output_type": "stream",
     "text": [
      "\n",
      "Epoch 002 train_loss: 3.0291 val_loss 3.0074 train_acc 0.1318 val_acc 0.1361\n"
     ]
    },
    {
     "name": "stderr",
     "output_type": "stream",
     "text": [
      "Epoch: 100%|██████████| 129/129 [00:18<00:00,  6.98it/s]\n",
      "Epoch:   1%|          | 1/129 [00:00<00:17,  7.38it/s]"
     ]
    },
    {
     "name": "stdout",
     "output_type": "stream",
     "text": [
      "\n",
      "Epoch 003 train_loss: 3.0299 val_loss 3.0064 train_acc 0.1328 val_acc 0.1347\n"
     ]
    },
    {
     "name": "stderr",
     "output_type": "stream",
     "text": [
      "Epoch: 100%|██████████| 129/129 [00:18<00:00,  7.12it/s]\n",
      "Epoch:   1%|          | 1/129 [00:00<00:16,  7.54it/s]"
     ]
    },
    {
     "name": "stdout",
     "output_type": "stream",
     "text": [
      "\n",
      "Epoch 004 train_loss: 3.0242 val_loss 3.0046 train_acc 0.1322 val_acc 0.1361\n"
     ]
    },
    {
     "name": "stderr",
     "output_type": "stream",
     "text": [
      "Epoch: 100%|██████████| 129/129 [00:18<00:00,  6.97it/s]\n",
      "Epoch:   1%|          | 1/129 [00:00<00:17,  7.48it/s]"
     ]
    },
    {
     "name": "stdout",
     "output_type": "stream",
     "text": [
      "\n",
      "Epoch 005 train_loss: 3.0264 val_loss 3.0043 train_acc 0.1275 val_acc 0.1405\n"
     ]
    },
    {
     "name": "stderr",
     "output_type": "stream",
     "text": [
      "Epoch: 100%|██████████| 129/129 [00:17<00:00,  7.28it/s]\n",
      "Epoch:   1%|          | 1/129 [00:00<00:17,  7.25it/s]"
     ]
    },
    {
     "name": "stdout",
     "output_type": "stream",
     "text": [
      "\n",
      "Epoch 006 train_loss: 3.0243 val_loss 3.0003 train_acc 0.1381 val_acc 0.1391\n"
     ]
    },
    {
     "name": "stderr",
     "output_type": "stream",
     "text": [
      "Epoch: 100%|██████████| 129/129 [00:17<00:00,  7.29it/s]\n",
      "Epoch:   1%|          | 1/129 [00:00<00:16,  7.53it/s]"
     ]
    },
    {
     "name": "stdout",
     "output_type": "stream",
     "text": [
      "\n",
      "Epoch 007 train_loss: 3.0261 val_loss 2.9997 train_acc 0.1315 val_acc 0.1409\n"
     ]
    },
    {
     "name": "stderr",
     "output_type": "stream",
     "text": [
      "Epoch: 100%|██████████| 129/129 [00:18<00:00,  7.11it/s]\n",
      "Epoch:   1%|          | 1/129 [00:00<00:17,  7.43it/s]"
     ]
    },
    {
     "name": "stdout",
     "output_type": "stream",
     "text": [
      "\n",
      "Epoch 008 train_loss: 3.0231 val_loss 2.9977 train_acc 0.1353 val_acc 0.1391\n"
     ]
    },
    {
     "name": "stderr",
     "output_type": "stream",
     "text": [
      "Epoch: 100%|██████████| 129/129 [00:17<00:00,  7.21it/s]\n",
      "Epoch:   1%|          | 1/129 [00:00<00:18,  7.04it/s]"
     ]
    },
    {
     "name": "stdout",
     "output_type": "stream",
     "text": [
      "\n",
      "Epoch 009 train_loss: 3.0201 val_loss 2.9955 train_acc 0.1313 val_acc 0.1383\n"
     ]
    },
    {
     "name": "stderr",
     "output_type": "stream",
     "text": [
      "Epoch: 100%|██████████| 129/129 [00:18<00:00,  7.11it/s]\n",
      "Epoch:   1%|          | 1/129 [00:00<00:19,  6.71it/s]"
     ]
    },
    {
     "name": "stdout",
     "output_type": "stream",
     "text": [
      "\n",
      "Epoch 010 train_loss: 3.0156 val_loss 2.9932 train_acc 0.1336 val_acc 0.1420\n"
     ]
    },
    {
     "name": "stderr",
     "output_type": "stream",
     "text": [
      "Epoch: 100%|██████████| 129/129 [00:18<00:00,  6.98it/s]\n",
      "Epoch:   1%|          | 1/129 [00:00<00:17,  7.49it/s]"
     ]
    },
    {
     "name": "stdout",
     "output_type": "stream",
     "text": [
      "\n",
      "Epoch 011 train_loss: 3.0156 val_loss 2.9915 train_acc 0.1336 val_acc 0.1416\n"
     ]
    },
    {
     "name": "stderr",
     "output_type": "stream",
     "text": [
      "Epoch: 100%|██████████| 129/129 [00:18<00:00,  7.04it/s]\n",
      "Epoch:   1%|          | 1/129 [00:00<00:18,  6.83it/s]"
     ]
    },
    {
     "name": "stdout",
     "output_type": "stream",
     "text": [
      "\n",
      "Epoch 012 train_loss: 3.0111 val_loss 2.9902 train_acc 0.1348 val_acc 0.1394\n"
     ]
    },
    {
     "name": "stderr",
     "output_type": "stream",
     "text": [
      "Epoch: 100%|██████████| 129/129 [00:18<00:00,  7.10it/s]\n",
      "Epoch:   1%|          | 1/129 [00:00<00:17,  7.33it/s]"
     ]
    },
    {
     "name": "stdout",
     "output_type": "stream",
     "text": [
      "\n",
      "Epoch 013 train_loss: 3.0114 val_loss 2.9872 train_acc 0.1332 val_acc 0.1412\n"
     ]
    },
    {
     "name": "stderr",
     "output_type": "stream",
     "text": [
      "Epoch: 100%|██████████| 129/129 [00:17<00:00,  7.22it/s]\n",
      "Epoch:   1%|          | 1/129 [00:00<00:17,  7.37it/s]"
     ]
    },
    {
     "name": "stdout",
     "output_type": "stream",
     "text": [
      "\n",
      "Epoch 014 train_loss: 3.0059 val_loss 2.9873 train_acc 0.1405 val_acc 0.1438\n"
     ]
    },
    {
     "name": "stderr",
     "output_type": "stream",
     "text": [
      "Epoch: 100%|██████████| 129/129 [00:18<00:00,  7.11it/s]\n",
      "Epoch:   1%|          | 1/129 [00:00<00:17,  7.22it/s]"
     ]
    },
    {
     "name": "stdout",
     "output_type": "stream",
     "text": [
      "\n",
      "Epoch 015 train_loss: 3.0090 val_loss 2.9842 train_acc 0.1365 val_acc 0.1423\n"
     ]
    },
    {
     "name": "stderr",
     "output_type": "stream",
     "text": [
      "Epoch: 100%|██████████| 129/129 [00:17<00:00,  7.19it/s]\n",
      "Epoch:   1%|          | 1/129 [00:00<00:16,  7.61it/s]"
     ]
    },
    {
     "name": "stdout",
     "output_type": "stream",
     "text": [
      "\n",
      "Epoch 016 train_loss: 3.0050 val_loss 2.9827 train_acc 0.1350 val_acc 0.1412\n"
     ]
    },
    {
     "name": "stderr",
     "output_type": "stream",
     "text": [
      "Epoch: 100%|██████████| 129/129 [00:19<00:00,  6.78it/s]\n",
      "Epoch:   1%|          | 1/129 [00:00<00:17,  7.19it/s]"
     ]
    },
    {
     "name": "stdout",
     "output_type": "stream",
     "text": [
      "\n",
      "Epoch 017 train_loss: 3.0092 val_loss 2.9818 train_acc 0.1352 val_acc 0.1434\n"
     ]
    },
    {
     "name": "stderr",
     "output_type": "stream",
     "text": [
      "Epoch: 100%|██████████| 129/129 [00:17<00:00,  7.23it/s]\n",
      "Epoch:   1%|          | 1/129 [00:00<00:18,  6.87it/s]"
     ]
    },
    {
     "name": "stdout",
     "output_type": "stream",
     "text": [
      "\n",
      "Epoch 018 train_loss: 2.9996 val_loss 2.9791 train_acc 0.1366 val_acc 0.1464\n"
     ]
    },
    {
     "name": "stderr",
     "output_type": "stream",
     "text": [
      "Epoch: 100%|██████████| 129/129 [00:18<00:00,  6.82it/s]\n",
      "Epoch:   1%|          | 1/129 [00:00<00:16,  7.81it/s]"
     ]
    },
    {
     "name": "stdout",
     "output_type": "stream",
     "text": [
      "\n",
      "Epoch 019 train_loss: 2.9962 val_loss 2.9766 train_acc 0.1417 val_acc 0.1442\n"
     ]
    },
    {
     "name": "stderr",
     "output_type": "stream",
     "text": [
      "Epoch: 100%|██████████| 129/129 [00:17<00:00,  7.23it/s]\n",
      "Epoch:   1%|          | 1/129 [00:00<00:17,  7.47it/s]"
     ]
    },
    {
     "name": "stdout",
     "output_type": "stream",
     "text": [
      "\n",
      "Epoch 020 train_loss: 2.9999 val_loss 2.9742 train_acc 0.1353 val_acc 0.1423\n"
     ]
    },
    {
     "name": "stderr",
     "output_type": "stream",
     "text": [
      "Epoch: 100%|██████████| 129/129 [00:18<00:00,  7.11it/s]\n",
      "Epoch:   1%|          | 1/129 [00:00<00:16,  7.58it/s]"
     ]
    },
    {
     "name": "stdout",
     "output_type": "stream",
     "text": [
      "\n",
      "Epoch 021 train_loss: 2.9999 val_loss 2.9732 train_acc 0.1399 val_acc 0.1460\n"
     ]
    },
    {
     "name": "stderr",
     "output_type": "stream",
     "text": [
      "Epoch: 100%|██████████| 129/129 [00:18<00:00,  7.12it/s]\n",
      "Epoch:   1%|          | 1/129 [00:00<00:16,  7.53it/s]"
     ]
    },
    {
     "name": "stdout",
     "output_type": "stream",
     "text": [
      "\n",
      "Epoch 022 train_loss: 2.9928 val_loss 2.9692 train_acc 0.1365 val_acc 0.1442\n"
     ]
    },
    {
     "name": "stderr",
     "output_type": "stream",
     "text": [
      "Epoch: 100%|██████████| 129/129 [00:18<00:00,  7.12it/s]\n",
      "Epoch:   1%|          | 1/129 [00:00<00:17,  7.39it/s]"
     ]
    },
    {
     "name": "stdout",
     "output_type": "stream",
     "text": [
      "\n",
      "Epoch 023 train_loss: 2.9905 val_loss 2.9680 train_acc 0.1380 val_acc 0.1453\n"
     ]
    },
    {
     "name": "stderr",
     "output_type": "stream",
     "text": [
      "Epoch: 100%|██████████| 129/129 [00:18<00:00,  7.05it/s]\n",
      "Epoch:   1%|          | 1/129 [00:00<00:17,  7.35it/s]"
     ]
    },
    {
     "name": "stdout",
     "output_type": "stream",
     "text": [
      "\n",
      "Epoch 024 train_loss: 2.9902 val_loss 2.9652 train_acc 0.1365 val_acc 0.1496\n"
     ]
    },
    {
     "name": "stderr",
     "output_type": "stream",
     "text": [
      "Epoch: 100%|██████████| 129/129 [00:17<00:00,  7.20it/s]\n",
      "Epoch:   1%|          | 1/129 [00:00<00:16,  7.75it/s]"
     ]
    },
    {
     "name": "stdout",
     "output_type": "stream",
     "text": [
      "\n",
      "Epoch 025 train_loss: 2.9923 val_loss 2.9637 train_acc 0.1429 val_acc 0.1482\n"
     ]
    },
    {
     "name": "stderr",
     "output_type": "stream",
     "text": [
      "Epoch: 100%|██████████| 129/129 [00:18<00:00,  7.07it/s]\n",
      "Epoch:   1%|          | 1/129 [00:00<00:17,  7.41it/s]"
     ]
    },
    {
     "name": "stdout",
     "output_type": "stream",
     "text": [
      "\n",
      "Epoch 026 train_loss: 2.9848 val_loss 2.9618 train_acc 0.1378 val_acc 0.1518\n"
     ]
    },
    {
     "name": "stderr",
     "output_type": "stream",
     "text": [
      "Epoch: 100%|██████████| 129/129 [00:18<00:00,  7.02it/s]\n",
      "Epoch:   1%|          | 1/129 [00:00<00:17,  7.42it/s]"
     ]
    },
    {
     "name": "stdout",
     "output_type": "stream",
     "text": [
      "\n",
      "Epoch 027 train_loss: 2.9823 val_loss 2.9581 train_acc 0.1395 val_acc 0.1522\n"
     ]
    },
    {
     "name": "stderr",
     "output_type": "stream",
     "text": [
      "Epoch: 100%|██████████| 129/129 [00:18<00:00,  7.14it/s]\n",
      "Epoch:   1%|          | 1/129 [00:00<00:17,  7.29it/s]"
     ]
    },
    {
     "name": "stdout",
     "output_type": "stream",
     "text": [
      "\n",
      "Epoch 028 train_loss: 2.9787 val_loss 2.9555 train_acc 0.1418 val_acc 0.1522\n"
     ]
    },
    {
     "name": "stderr",
     "output_type": "stream",
     "text": [
      "Epoch: 100%|██████████| 129/129 [00:17<00:00,  7.23it/s]\n",
      "Epoch:   1%|          | 1/129 [00:00<00:19,  6.58it/s]"
     ]
    },
    {
     "name": "stdout",
     "output_type": "stream",
     "text": [
      "\n",
      "Epoch 029 train_loss: 2.9780 val_loss 2.9522 train_acc 0.1449 val_acc 0.1522\n"
     ]
    },
    {
     "name": "stderr",
     "output_type": "stream",
     "text": [
      "Epoch: 100%|██████████| 129/129 [00:17<00:00,  7.28it/s]\n",
      "Epoch:   1%|          | 1/129 [00:00<00:16,  7.69it/s]"
     ]
    },
    {
     "name": "stdout",
     "output_type": "stream",
     "text": [
      "\n",
      "Epoch 030 train_loss: 2.9739 val_loss 2.9482 train_acc 0.1417 val_acc 0.1536\n"
     ]
    },
    {
     "name": "stderr",
     "output_type": "stream",
     "text": [
      "Epoch: 100%|██████████| 129/129 [00:19<00:00,  6.78it/s]\n",
      "Epoch:   1%|          | 1/129 [00:00<00:19,  6.59it/s]"
     ]
    },
    {
     "name": "stdout",
     "output_type": "stream",
     "text": [
      "\n",
      "Epoch 031 train_loss: 2.9716 val_loss 2.9449 train_acc 0.1417 val_acc 0.1540\n"
     ]
    },
    {
     "name": "stderr",
     "output_type": "stream",
     "text": [
      "Epoch: 100%|██████████| 129/129 [00:17<00:00,  7.33it/s]\n",
      "Epoch:   1%|          | 1/129 [00:00<00:19,  6.71it/s]"
     ]
    },
    {
     "name": "stdout",
     "output_type": "stream",
     "text": [
      "\n",
      "Epoch 032 train_loss: 2.9749 val_loss 2.9428 train_acc 0.1449 val_acc 0.1551\n"
     ]
    },
    {
     "name": "stderr",
     "output_type": "stream",
     "text": [
      "Epoch: 100%|██████████| 129/129 [00:18<00:00,  7.15it/s]\n",
      "Epoch:   1%|          | 1/129 [00:00<00:17,  7.35it/s]"
     ]
    },
    {
     "name": "stdout",
     "output_type": "stream",
     "text": [
      "\n",
      "Epoch 033 train_loss: 2.9700 val_loss 2.9388 train_acc 0.1394 val_acc 0.1566\n"
     ]
    },
    {
     "name": "stderr",
     "output_type": "stream",
     "text": [
      "Epoch: 100%|██████████| 129/129 [00:18<00:00,  7.14it/s]\n",
      "Epoch:   1%|          | 1/129 [00:00<00:17,  7.40it/s]"
     ]
    },
    {
     "name": "stdout",
     "output_type": "stream",
     "text": [
      "\n",
      "Epoch 034 train_loss: 2.9612 val_loss 2.9333 train_acc 0.1461 val_acc 0.1584\n"
     ]
    },
    {
     "name": "stderr",
     "output_type": "stream",
     "text": [
      "Epoch: 100%|██████████| 129/129 [00:17<00:00,  7.31it/s]\n",
      "Epoch:   1%|          | 1/129 [00:00<00:17,  7.32it/s]"
     ]
    },
    {
     "name": "stdout",
     "output_type": "stream",
     "text": [
      "\n",
      "Epoch 035 train_loss: 2.9594 val_loss 2.9299 train_acc 0.1485 val_acc 0.1595\n"
     ]
    },
    {
     "name": "stderr",
     "output_type": "stream",
     "text": [
      "Epoch: 100%|██████████| 129/129 [00:18<00:00,  7.00it/s]\n",
      "Epoch:   1%|          | 1/129 [00:00<00:20,  6.28it/s]"
     ]
    },
    {
     "name": "stdout",
     "output_type": "stream",
     "text": [
      "\n",
      "Epoch 036 train_loss: 2.9542 val_loss 2.9264 train_acc 0.1481 val_acc 0.1613\n"
     ]
    },
    {
     "name": "stderr",
     "output_type": "stream",
     "text": [
      "Epoch: 100%|██████████| 129/129 [00:17<00:00,  7.38it/s]\n",
      "Epoch:   1%|          | 1/129 [00:00<00:21,  5.96it/s]"
     ]
    },
    {
     "name": "stdout",
     "output_type": "stream",
     "text": [
      "\n",
      "Epoch 037 train_loss: 2.9532 val_loss 2.9222 train_acc 0.1513 val_acc 0.1639\n"
     ]
    },
    {
     "name": "stderr",
     "output_type": "stream",
     "text": [
      "Epoch: 100%|██████████| 129/129 [00:18<00:00,  6.98it/s]\n",
      "Epoch:   1%|          | 1/129 [00:00<00:16,  7.65it/s]"
     ]
    },
    {
     "name": "stdout",
     "output_type": "stream",
     "text": [
      "\n",
      "Epoch 038 train_loss: 2.9421 val_loss 2.9152 train_acc 0.1523 val_acc 0.1631\n"
     ]
    },
    {
     "name": "stderr",
     "output_type": "stream",
     "text": [
      "Epoch: 100%|██████████| 129/129 [00:17<00:00,  7.23it/s]\n",
      "Epoch:   1%|          | 1/129 [00:00<00:17,  7.35it/s]"
     ]
    },
    {
     "name": "stdout",
     "output_type": "stream",
     "text": [
      "\n",
      "Epoch 039 train_loss: 2.9403 val_loss 2.9114 train_acc 0.1496 val_acc 0.1675\n"
     ]
    },
    {
     "name": "stderr",
     "output_type": "stream",
     "text": [
      "Epoch: 100%|██████████| 129/129 [00:18<00:00,  7.05it/s]\n",
      "Epoch:   1%|          | 1/129 [00:00<00:17,  7.33it/s]"
     ]
    },
    {
     "name": "stdout",
     "output_type": "stream",
     "text": [
      "\n",
      "Epoch 040 train_loss: 2.9355 val_loss 2.9073 train_acc 0.1530 val_acc 0.1715\n"
     ]
    },
    {
     "name": "stderr",
     "output_type": "stream",
     "text": [
      "Epoch: 100%|██████████| 129/129 [00:18<00:00,  7.16it/s]\n",
      "Epoch:   1%|          | 1/129 [00:00<00:17,  7.30it/s]"
     ]
    },
    {
     "name": "stdout",
     "output_type": "stream",
     "text": [
      "\n",
      "Epoch 041 train_loss: 2.9325 val_loss 2.9043 train_acc 0.1561 val_acc 0.1715\n"
     ]
    },
    {
     "name": "stderr",
     "output_type": "stream",
     "text": [
      "Epoch: 100%|██████████| 129/129 [00:18<00:00,  7.03it/s]\n",
      "Epoch:   1%|          | 1/129 [00:00<00:16,  7.67it/s]"
     ]
    },
    {
     "name": "stdout",
     "output_type": "stream",
     "text": [
      "\n",
      "Epoch 042 train_loss: 2.9291 val_loss 2.8980 train_acc 0.1522 val_acc 0.1723\n"
     ]
    },
    {
     "name": "stderr",
     "output_type": "stream",
     "text": [
      "Epoch: 100%|██████████| 129/129 [00:18<00:00,  7.16it/s]\n",
      "Epoch:   1%|          | 1/129 [00:00<00:18,  6.82it/s]"
     ]
    },
    {
     "name": "stdout",
     "output_type": "stream",
     "text": [
      "\n",
      "Epoch 043 train_loss: 2.9247 val_loss 2.8942 train_acc 0.1554 val_acc 0.1726\n"
     ]
    },
    {
     "name": "stderr",
     "output_type": "stream",
     "text": [
      "Epoch: 100%|██████████| 129/129 [00:17<00:00,  7.30it/s]\n",
      "Epoch:   1%|          | 1/129 [00:00<00:16,  7.69it/s]"
     ]
    },
    {
     "name": "stdout",
     "output_type": "stream",
     "text": [
      "\n",
      "Epoch 044 train_loss: 2.9215 val_loss 2.8877 train_acc 0.1569 val_acc 0.1766\n"
     ]
    },
    {
     "name": "stderr",
     "output_type": "stream",
     "text": [
      "Epoch: 100%|██████████| 129/129 [00:17<00:00,  7.42it/s]\n",
      "Epoch:   1%|          | 1/129 [00:00<00:16,  7.68it/s]"
     ]
    },
    {
     "name": "stdout",
     "output_type": "stream",
     "text": [
      "\n",
      "Epoch 045 train_loss: 2.9095 val_loss 2.8848 train_acc 0.1608 val_acc 0.1748\n"
     ]
    },
    {
     "name": "stderr",
     "output_type": "stream",
     "text": [
      "Epoch: 100%|██████████| 129/129 [00:17<00:00,  7.36it/s]\n",
      "Epoch:   1%|          | 1/129 [00:00<00:17,  7.34it/s]"
     ]
    },
    {
     "name": "stdout",
     "output_type": "stream",
     "text": [
      "\n",
      "Epoch 046 train_loss: 2.9114 val_loss 2.8804 train_acc 0.1564 val_acc 0.1741\n"
     ]
    },
    {
     "name": "stderr",
     "output_type": "stream",
     "text": [
      "Epoch: 100%|██████████| 129/129 [00:17<00:00,  7.22it/s]\n",
      "Epoch:   1%|          | 1/129 [00:00<00:17,  7.34it/s]"
     ]
    },
    {
     "name": "stdout",
     "output_type": "stream",
     "text": [
      "\n",
      "Epoch 047 train_loss: 2.9049 val_loss 2.8751 train_acc 0.1588 val_acc 0.1792\n"
     ]
    },
    {
     "name": "stderr",
     "output_type": "stream",
     "text": [
      "Epoch: 100%|██████████| 129/129 [00:17<00:00,  7.29it/s]\n",
      "Epoch:   1%|          | 1/129 [00:00<00:17,  7.33it/s]"
     ]
    },
    {
     "name": "stdout",
     "output_type": "stream",
     "text": [
      "\n",
      "Epoch 048 train_loss: 2.9026 val_loss 2.8721 train_acc 0.1584 val_acc 0.1796\n"
     ]
    },
    {
     "name": "stderr",
     "output_type": "stream",
     "text": [
      "Epoch: 100%|██████████| 129/129 [00:17<00:00,  7.23it/s]\n",
      "Epoch:   1%|          | 1/129 [00:00<00:16,  7.85it/s]"
     ]
    },
    {
     "name": "stdout",
     "output_type": "stream",
     "text": [
      "\n",
      "Epoch 049 train_loss: 2.9009 val_loss 2.8707 train_acc 0.1633 val_acc 0.1818\n"
     ]
    },
    {
     "name": "stderr",
     "output_type": "stream",
     "text": [
      "Epoch: 100%|██████████| 129/129 [00:17<00:00,  7.21it/s]\n"
     ]
    },
    {
     "name": "stdout",
     "output_type": "stream",
     "text": [
      "\n",
      "Epoch 050 train_loss: 2.8934 val_loss 2.8644 train_acc 0.1622 val_acc 0.1825\n"
     ]
    }
   ],
   "source": [
    "optim = torch.optim.SGD(CNN.parameters(), lr=0.0005)\n",
    "criterion = nn.CrossEntropyLoss()\n",
    "\n",
    "history = train(train_dataset, val_dataset, model=CNN,  optim=optim,\n",
    "                criterion=criterion, epochs=50, batch_size=64, device=DEVICE)"
   ]
  },
  {
   "cell_type": "code",
   "execution_count": 16,
   "metadata": {
    "scrolled": true
   },
   "outputs": [
    {
     "name": "stderr",
     "output_type": "stream",
     "text": [
      "Epoch: 100%|██████████| 129/129 [00:18<00:00,  7.02it/s]\n",
      "Epoch:   1%|          | 1/129 [00:00<00:16,  7.66it/s]"
     ]
    },
    {
     "name": "stdout",
     "output_type": "stream",
     "text": [
      "\n",
      "Epoch 001 train_loss: 2.8885 val_loss 2.8588 train_acc 0.1611 val_acc 0.1847\n"
     ]
    },
    {
     "name": "stderr",
     "output_type": "stream",
     "text": [
      "Epoch: 100%|██████████| 129/129 [00:17<00:00,  7.20it/s]\n",
      "Epoch:   1%|          | 1/129 [00:00<00:17,  7.43it/s]"
     ]
    },
    {
     "name": "stdout",
     "output_type": "stream",
     "text": [
      "\n",
      "Epoch 002 train_loss: 2.8862 val_loss 2.8489 train_acc 0.1633 val_acc 0.1858\n"
     ]
    },
    {
     "name": "stderr",
     "output_type": "stream",
     "text": [
      "Epoch: 100%|██████████| 129/129 [00:18<00:00,  7.07it/s]\n",
      "Epoch:   1%|          | 1/129 [00:00<00:16,  7.75it/s]"
     ]
    },
    {
     "name": "stdout",
     "output_type": "stream",
     "text": [
      "\n",
      "Epoch 003 train_loss: 2.8814 val_loss 2.8470 train_acc 0.1668 val_acc 0.1901\n"
     ]
    },
    {
     "name": "stderr",
     "output_type": "stream",
     "text": [
      "Epoch: 100%|██████████| 129/129 [00:17<00:00,  7.38it/s]\n",
      "Epoch:   1%|          | 1/129 [00:00<00:17,  7.52it/s]"
     ]
    },
    {
     "name": "stdout",
     "output_type": "stream",
     "text": [
      "\n",
      "Epoch 004 train_loss: 2.8693 val_loss 2.8388 train_acc 0.1678 val_acc 0.1861\n"
     ]
    },
    {
     "name": "stderr",
     "output_type": "stream",
     "text": [
      "Epoch: 100%|██████████| 129/129 [00:18<00:00,  7.12it/s]\n",
      "Epoch:   1%|          | 1/129 [00:00<00:16,  7.53it/s]"
     ]
    },
    {
     "name": "stdout",
     "output_type": "stream",
     "text": [
      "\n",
      "Epoch 005 train_loss: 2.8694 val_loss 2.8323 train_acc 0.1670 val_acc 0.1876\n"
     ]
    },
    {
     "name": "stderr",
     "output_type": "stream",
     "text": [
      "Epoch: 100%|██████████| 129/129 [00:17<00:00,  7.22it/s]\n",
      "Epoch:   1%|          | 1/129 [00:00<00:16,  7.54it/s]"
     ]
    },
    {
     "name": "stdout",
     "output_type": "stream",
     "text": [
      "\n",
      "Epoch 006 train_loss: 2.8609 val_loss 2.8247 train_acc 0.1738 val_acc 0.1909\n"
     ]
    },
    {
     "name": "stderr",
     "output_type": "stream",
     "text": [
      "Epoch: 100%|██████████| 129/129 [00:17<00:00,  7.36it/s]\n",
      "Epoch:   1%|          | 1/129 [00:00<00:17,  7.20it/s]"
     ]
    },
    {
     "name": "stdout",
     "output_type": "stream",
     "text": [
      "\n",
      "Epoch 007 train_loss: 2.8492 val_loss 2.8220 train_acc 0.1769 val_acc 0.1934\n"
     ]
    },
    {
     "name": "stderr",
     "output_type": "stream",
     "text": [
      "Epoch: 100%|██████████| 129/129 [00:17<00:00,  7.21it/s]\n",
      "Epoch:   1%|          | 1/129 [00:00<00:20,  6.11it/s]"
     ]
    },
    {
     "name": "stdout",
     "output_type": "stream",
     "text": [
      "\n",
      "Epoch 008 train_loss: 2.8504 val_loss 2.8139 train_acc 0.1777 val_acc 0.1974\n"
     ]
    },
    {
     "name": "stderr",
     "output_type": "stream",
     "text": [
      "Epoch: 100%|██████████| 129/129 [00:17<00:00,  7.39it/s]\n",
      "Epoch:   1%|          | 1/129 [00:00<00:17,  7.52it/s]"
     ]
    },
    {
     "name": "stdout",
     "output_type": "stream",
     "text": [
      "\n",
      "Epoch 009 train_loss: 2.8442 val_loss 2.8070 train_acc 0.1843 val_acc 0.1960\n"
     ]
    },
    {
     "name": "stderr",
     "output_type": "stream",
     "text": [
      "Epoch: 100%|██████████| 129/129 [00:17<00:00,  7.18it/s]\n"
     ]
    },
    {
     "name": "stdout",
     "output_type": "stream",
     "text": [
      "\n",
      "Epoch 010 train_loss: 2.8376 val_loss 2.8023 train_acc 0.1804 val_acc 0.2011\n"
     ]
    }
   ],
   "source": [
    "optim = torch.optim.SGD(CNN.parameters(), lr=0.0008)\n",
    "criterion = nn.CrossEntropyLoss()\n",
    "\n",
    "history = train(train_dataset, val_dataset, model=CNN,  optim=optim,\n",
    "                criterion=criterion, epochs=10, batch_size=64, device=DEVICE)"
   ]
  },
  {
   "cell_type": "code",
   "execution_count": 17,
   "metadata": {},
   "outputs": [
    {
     "name": "stderr",
     "output_type": "stream",
     "text": [
      "Epoch: 100%|██████████| 129/129 [00:17<00:00,  7.24it/s]\n",
      "Epoch:   1%|          | 1/129 [00:00<00:17,  7.46it/s]"
     ]
    },
    {
     "name": "stdout",
     "output_type": "stream",
     "text": [
      "\n",
      "Epoch 001 train_loss: 2.8267 val_loss 2.8024 train_acc 0.1865 val_acc 0.2066\n"
     ]
    },
    {
     "name": "stderr",
     "output_type": "stream",
     "text": [
      "Epoch: 100%|██████████| 129/129 [00:18<00:00,  7.12it/s]\n",
      "Epoch:   1%|          | 1/129 [00:00<00:20,  6.15it/s]"
     ]
    },
    {
     "name": "stdout",
     "output_type": "stream",
     "text": [
      "\n",
      "Epoch 002 train_loss: 2.8197 val_loss 2.7907 train_acc 0.1839 val_acc 0.2029\n"
     ]
    },
    {
     "name": "stderr",
     "output_type": "stream",
     "text": [
      "Epoch: 100%|██████████| 129/129 [00:18<00:00,  7.04it/s]\n",
      "Epoch:   1%|          | 1/129 [00:00<00:21,  5.99it/s]"
     ]
    },
    {
     "name": "stdout",
     "output_type": "stream",
     "text": [
      "\n",
      "Epoch 003 train_loss: 2.8107 val_loss 2.7807 train_acc 0.1912 val_acc 0.2106\n"
     ]
    },
    {
     "name": "stderr",
     "output_type": "stream",
     "text": [
      "Epoch: 100%|██████████| 129/129 [00:17<00:00,  7.35it/s]\n",
      "Epoch:   1%|          | 1/129 [00:00<00:19,  6.68it/s]"
     ]
    },
    {
     "name": "stdout",
     "output_type": "stream",
     "text": [
      "\n",
      "Epoch 004 train_loss: 2.8113 val_loss 2.7788 train_acc 0.1908 val_acc 0.2088\n"
     ]
    },
    {
     "name": "stderr",
     "output_type": "stream",
     "text": [
      "Epoch: 100%|██████████| 129/129 [00:19<00:00,  6.58it/s]\n",
      "Epoch:   1%|          | 1/129 [00:00<00:20,  6.17it/s]"
     ]
    },
    {
     "name": "stdout",
     "output_type": "stream",
     "text": [
      "\n",
      "Epoch 005 train_loss: 2.7953 val_loss 2.7622 train_acc 0.1908 val_acc 0.2182\n"
     ]
    },
    {
     "name": "stderr",
     "output_type": "stream",
     "text": [
      "Epoch: 100%|██████████| 129/129 [00:18<00:00,  7.03it/s]\n",
      "Epoch:   1%|          | 1/129 [00:00<00:19,  6.43it/s]"
     ]
    },
    {
     "name": "stdout",
     "output_type": "stream",
     "text": [
      "\n",
      "Epoch 006 train_loss: 2.7865 val_loss 2.7581 train_acc 0.1977 val_acc 0.2204\n"
     ]
    },
    {
     "name": "stderr",
     "output_type": "stream",
     "text": [
      "Epoch: 100%|██████████| 129/129 [00:18<00:00,  7.07it/s]\n",
      "Epoch:   1%|          | 1/129 [00:00<00:16,  7.73it/s]"
     ]
    },
    {
     "name": "stdout",
     "output_type": "stream",
     "text": [
      "\n",
      "Epoch 007 train_loss: 2.7840 val_loss 2.7519 train_acc 0.1966 val_acc 0.2201\n"
     ]
    },
    {
     "name": "stderr",
     "output_type": "stream",
     "text": [
      "Epoch: 100%|██████████| 129/129 [00:18<00:00,  7.03it/s]\n",
      "Epoch:   1%|          | 1/129 [00:00<00:17,  7.24it/s]"
     ]
    },
    {
     "name": "stdout",
     "output_type": "stream",
     "text": [
      "\n",
      "Epoch 008 train_loss: 2.7761 val_loss 2.7449 train_acc 0.2007 val_acc 0.2226\n"
     ]
    },
    {
     "name": "stderr",
     "output_type": "stream",
     "text": [
      "Epoch: 100%|██████████| 129/129 [00:17<00:00,  7.19it/s]\n",
      "Epoch:   1%|          | 1/129 [00:00<00:17,  7.51it/s]"
     ]
    },
    {
     "name": "stdout",
     "output_type": "stream",
     "text": [
      "\n",
      "Epoch 009 train_loss: 2.7661 val_loss 2.7333 train_acc 0.2063 val_acc 0.2281\n"
     ]
    },
    {
     "name": "stderr",
     "output_type": "stream",
     "text": [
      "Epoch: 100%|██████████| 129/129 [00:17<00:00,  7.43it/s]\n",
      "Epoch:   1%|          | 1/129 [00:00<00:17,  7.29it/s]"
     ]
    },
    {
     "name": "stdout",
     "output_type": "stream",
     "text": [
      "\n",
      "Epoch 010 train_loss: 2.7611 val_loss 2.7300 train_acc 0.2079 val_acc 0.2215\n"
     ]
    },
    {
     "name": "stderr",
     "output_type": "stream",
     "text": [
      "Epoch: 100%|██████████| 129/129 [00:18<00:00,  7.13it/s]\n",
      "Epoch:   1%|          | 1/129 [00:00<00:18,  6.77it/s]"
     ]
    },
    {
     "name": "stdout",
     "output_type": "stream",
     "text": [
      "\n",
      "Epoch 011 train_loss: 2.7537 val_loss 2.7206 train_acc 0.2072 val_acc 0.2270\n"
     ]
    },
    {
     "name": "stderr",
     "output_type": "stream",
     "text": [
      "Epoch: 100%|██████████| 129/129 [00:18<00:00,  7.15it/s]\n",
      "Epoch:   1%|          | 1/129 [00:00<00:16,  7.70it/s]"
     ]
    },
    {
     "name": "stdout",
     "output_type": "stream",
     "text": [
      "\n",
      "Epoch 012 train_loss: 2.7470 val_loss 2.7216 train_acc 0.2061 val_acc 0.2299\n"
     ]
    },
    {
     "name": "stderr",
     "output_type": "stream",
     "text": [
      "Epoch: 100%|██████████| 129/129 [00:17<00:00,  7.18it/s]\n",
      "Epoch:   1%|          | 1/129 [00:00<00:17,  7.34it/s]"
     ]
    },
    {
     "name": "stdout",
     "output_type": "stream",
     "text": [
      "\n",
      "Epoch 013 train_loss: 2.7397 val_loss 2.7133 train_acc 0.2108 val_acc 0.2292\n"
     ]
    },
    {
     "name": "stderr",
     "output_type": "stream",
     "text": [
      "Epoch: 100%|██████████| 129/129 [00:17<00:00,  7.37it/s]\n",
      "Epoch:   1%|          | 1/129 [00:00<00:19,  6.60it/s]"
     ]
    },
    {
     "name": "stdout",
     "output_type": "stream",
     "text": [
      "\n",
      "Epoch 014 train_loss: 2.7340 val_loss 2.6977 train_acc 0.2155 val_acc 0.2281\n"
     ]
    },
    {
     "name": "stderr",
     "output_type": "stream",
     "text": [
      "Epoch: 100%|██████████| 129/129 [00:18<00:00,  7.03it/s]\n",
      "Epoch:   1%|          | 1/129 [00:00<00:16,  7.63it/s]"
     ]
    },
    {
     "name": "stdout",
     "output_type": "stream",
     "text": [
      "\n",
      "Epoch 015 train_loss: 2.7300 val_loss 2.6964 train_acc 0.2163 val_acc 0.2307\n"
     ]
    },
    {
     "name": "stderr",
     "output_type": "stream",
     "text": [
      "Epoch: 100%|██████████| 129/129 [00:17<00:00,  7.28it/s]\n",
      "Epoch:   1%|          | 1/129 [00:00<00:16,  7.64it/s]"
     ]
    },
    {
     "name": "stdout",
     "output_type": "stream",
     "text": [
      "\n",
      "Epoch 016 train_loss: 2.7217 val_loss 2.6927 train_acc 0.2192 val_acc 0.2274\n"
     ]
    },
    {
     "name": "stderr",
     "output_type": "stream",
     "text": [
      "Epoch: 100%|██████████| 129/129 [00:17<00:00,  7.27it/s]\n",
      "Epoch:   1%|          | 1/129 [00:00<00:16,  7.66it/s]"
     ]
    },
    {
     "name": "stdout",
     "output_type": "stream",
     "text": [
      "\n",
      "Epoch 017 train_loss: 2.7127 val_loss 2.6816 train_acc 0.2174 val_acc 0.2372\n"
     ]
    },
    {
     "name": "stderr",
     "output_type": "stream",
     "text": [
      "Epoch: 100%|██████████| 129/129 [00:17<00:00,  7.45it/s]\n",
      "Epoch:   1%|          | 1/129 [00:00<00:16,  7.66it/s]"
     ]
    },
    {
     "name": "stdout",
     "output_type": "stream",
     "text": [
      "\n",
      "Epoch 018 train_loss: 2.7101 val_loss 2.6701 train_acc 0.2218 val_acc 0.2358\n"
     ]
    },
    {
     "name": "stderr",
     "output_type": "stream",
     "text": [
      "Epoch: 100%|██████████| 129/129 [00:17<00:00,  7.28it/s]\n",
      "Epoch:   1%|          | 1/129 [00:00<00:16,  7.60it/s]"
     ]
    },
    {
     "name": "stdout",
     "output_type": "stream",
     "text": [
      "\n",
      "Epoch 019 train_loss: 2.7023 val_loss 2.6646 train_acc 0.2224 val_acc 0.2398\n"
     ]
    },
    {
     "name": "stderr",
     "output_type": "stream",
     "text": [
      "Epoch: 100%|██████████| 129/129 [00:18<00:00,  6.85it/s]\n"
     ]
    },
    {
     "name": "stdout",
     "output_type": "stream",
     "text": [
      "\n",
      "Epoch 020 train_loss: 2.6940 val_loss 2.6635 train_acc 0.2226 val_acc 0.2372\n"
     ]
    }
   ],
   "source": [
    "optim = torch.optim.SGD(CNN.parameters(), lr=0.001)\n",
    "criterion = nn.CrossEntropyLoss()\n",
    "\n",
    "history = train(train_dataset, val_dataset, model=CNN,  optim=optim,\n",
    "                criterion=criterion, epochs=20, batch_size=64, device=DEVICE)"
   ]
  },
  {
   "cell_type": "code",
   "execution_count": 18,
   "metadata": {
    "scrolled": true
   },
   "outputs": [
    {
     "name": "stderr",
     "output_type": "stream",
     "text": [
      "Epoch: 100%|██████████| 129/129 [00:18<00:00,  6.99it/s]\n",
      "Epoch:   1%|          | 1/129 [00:00<00:17,  7.28it/s]"
     ]
    },
    {
     "name": "stdout",
     "output_type": "stream",
     "text": [
      "\n",
      "Epoch 001 train_loss: 2.6879 val_loss 2.6628 train_acc 0.2263 val_acc 0.2296\n"
     ]
    },
    {
     "name": "stderr",
     "output_type": "stream",
     "text": [
      "Epoch: 100%|██████████| 129/129 [00:18<00:00,  7.10it/s]\n",
      "Epoch:   1%|          | 1/129 [00:00<00:16,  7.54it/s]"
     ]
    },
    {
     "name": "stdout",
     "output_type": "stream",
     "text": [
      "\n",
      "Epoch 002 train_loss: 2.6779 val_loss 2.6480 train_acc 0.2320 val_acc 0.2347\n"
     ]
    },
    {
     "name": "stderr",
     "output_type": "stream",
     "text": [
      "Epoch: 100%|██████████| 129/129 [00:17<00:00,  7.38it/s]\n",
      "Epoch:   1%|          | 1/129 [00:00<00:16,  7.54it/s]"
     ]
    },
    {
     "name": "stdout",
     "output_type": "stream",
     "text": [
      "\n",
      "Epoch 003 train_loss: 2.6704 val_loss 2.6407 train_acc 0.2335 val_acc 0.2423\n"
     ]
    },
    {
     "name": "stderr",
     "output_type": "stream",
     "text": [
      "Epoch: 100%|██████████| 129/129 [00:17<00:00,  7.30it/s]\n",
      "Epoch:   1%|          | 1/129 [00:00<00:17,  7.22it/s]"
     ]
    },
    {
     "name": "stdout",
     "output_type": "stream",
     "text": [
      "\n",
      "Epoch 004 train_loss: 2.6554 val_loss 2.6409 train_acc 0.2361 val_acc 0.2489\n"
     ]
    },
    {
     "name": "stderr",
     "output_type": "stream",
     "text": [
      "Epoch: 100%|██████████| 129/129 [00:17<00:00,  7.21it/s]\n",
      "Epoch:   1%|          | 1/129 [00:00<00:16,  7.56it/s]"
     ]
    },
    {
     "name": "stdout",
     "output_type": "stream",
     "text": [
      "\n",
      "Epoch 005 train_loss: 2.6602 val_loss 2.6322 train_acc 0.2324 val_acc 0.2456\n"
     ]
    },
    {
     "name": "stderr",
     "output_type": "stream",
     "text": [
      "Epoch: 100%|██████████| 129/129 [00:17<00:00,  7.36it/s]\n",
      "Epoch:   1%|          | 1/129 [00:00<00:17,  7.25it/s]"
     ]
    },
    {
     "name": "stdout",
     "output_type": "stream",
     "text": [
      "\n",
      "Epoch 006 train_loss: 2.6576 val_loss 2.6325 train_acc 0.2311 val_acc 0.2391\n"
     ]
    },
    {
     "name": "stderr",
     "output_type": "stream",
     "text": [
      "Epoch: 100%|██████████| 129/129 [00:18<00:00,  7.12it/s]\n",
      "Epoch:   1%|          | 1/129 [00:00<00:16,  7.61it/s]"
     ]
    },
    {
     "name": "stdout",
     "output_type": "stream",
     "text": [
      "\n",
      "Epoch 007 train_loss: 2.6490 val_loss 2.6151 train_acc 0.2405 val_acc 0.2580\n"
     ]
    },
    {
     "name": "stderr",
     "output_type": "stream",
     "text": [
      "Epoch: 100%|██████████| 129/129 [00:18<00:00,  7.01it/s]\n",
      "Epoch:   1%|          | 1/129 [00:00<00:17,  7.47it/s]"
     ]
    },
    {
     "name": "stdout",
     "output_type": "stream",
     "text": [
      "\n",
      "Epoch 008 train_loss: 2.6406 val_loss 2.6137 train_acc 0.2389 val_acc 0.2489\n"
     ]
    },
    {
     "name": "stderr",
     "output_type": "stream",
     "text": [
      "Epoch: 100%|██████████| 129/129 [00:17<00:00,  7.28it/s]\n",
      "Epoch:   1%|          | 1/129 [00:00<00:18,  6.80it/s]"
     ]
    },
    {
     "name": "stdout",
     "output_type": "stream",
     "text": [
      "\n",
      "Epoch 009 train_loss: 2.6326 val_loss 2.6126 train_acc 0.2365 val_acc 0.2599\n"
     ]
    },
    {
     "name": "stderr",
     "output_type": "stream",
     "text": [
      "Epoch: 100%|██████████| 129/129 [00:17<00:00,  7.34it/s]\n",
      "Epoch:   1%|          | 1/129 [00:00<00:22,  5.69it/s]"
     ]
    },
    {
     "name": "stdout",
     "output_type": "stream",
     "text": [
      "\n",
      "Epoch 010 train_loss: 2.6291 val_loss 2.6033 train_acc 0.2442 val_acc 0.2562\n"
     ]
    },
    {
     "name": "stderr",
     "output_type": "stream",
     "text": [
      "Epoch: 100%|██████████| 129/129 [00:17<00:00,  7.33it/s]\n",
      "Epoch:   1%|          | 1/129 [00:00<00:19,  6.70it/s]"
     ]
    },
    {
     "name": "stdout",
     "output_type": "stream",
     "text": [
      "\n",
      "Epoch 011 train_loss: 2.6300 val_loss 2.5978 train_acc 0.2383 val_acc 0.2584\n"
     ]
    },
    {
     "name": "stderr",
     "output_type": "stream",
     "text": [
      "Epoch: 100%|██████████| 129/129 [00:19<00:00,  6.70it/s]\n",
      "Epoch:   1%|          | 1/129 [00:00<00:22,  5.79it/s]"
     ]
    },
    {
     "name": "stdout",
     "output_type": "stream",
     "text": [
      "\n",
      "Epoch 012 train_loss: 2.6208 val_loss 2.5917 train_acc 0.2470 val_acc 0.2555\n"
     ]
    },
    {
     "name": "stderr",
     "output_type": "stream",
     "text": [
      "Epoch: 100%|██████████| 129/129 [00:18<00:00,  7.05it/s]\n",
      "Epoch:   1%|          | 1/129 [00:00<00:17,  7.29it/s]"
     ]
    },
    {
     "name": "stdout",
     "output_type": "stream",
     "text": [
      "\n",
      "Epoch 013 train_loss: 2.6165 val_loss 2.6056 train_acc 0.2438 val_acc 0.2595\n"
     ]
    },
    {
     "name": "stderr",
     "output_type": "stream",
     "text": [
      "Epoch: 100%|██████████| 129/129 [00:17<00:00,  7.36it/s]\n",
      "Epoch:   1%|          | 1/129 [00:00<00:18,  7.06it/s]"
     ]
    },
    {
     "name": "stdout",
     "output_type": "stream",
     "text": [
      "\n",
      "Epoch 014 train_loss: 2.6152 val_loss 2.5900 train_acc 0.2449 val_acc 0.2609\n"
     ]
    },
    {
     "name": "stderr",
     "output_type": "stream",
     "text": [
      "Epoch: 100%|██████████| 129/129 [00:18<00:00,  6.98it/s]\n",
      "Epoch:   1%|          | 1/129 [00:00<00:17,  7.16it/s]"
     ]
    },
    {
     "name": "stdout",
     "output_type": "stream",
     "text": [
      "\n",
      "Epoch 015 train_loss: 2.6011 val_loss 2.5841 train_acc 0.2473 val_acc 0.2657\n"
     ]
    },
    {
     "name": "stderr",
     "output_type": "stream",
     "text": [
      "Epoch: 100%|██████████| 129/129 [00:18<00:00,  7.12it/s]\n",
      "Epoch:   1%|          | 1/129 [00:00<00:17,  7.38it/s]"
     ]
    },
    {
     "name": "stdout",
     "output_type": "stream",
     "text": [
      "\n",
      "Epoch 016 train_loss: 2.6012 val_loss 2.5766 train_acc 0.2472 val_acc 0.2697\n"
     ]
    },
    {
     "name": "stderr",
     "output_type": "stream",
     "text": [
      "Epoch: 100%|██████████| 129/129 [00:17<00:00,  7.51it/s]\n",
      "Epoch:   1%|          | 1/129 [00:00<00:16,  7.73it/s]"
     ]
    },
    {
     "name": "stdout",
     "output_type": "stream",
     "text": [
      "\n",
      "Epoch 017 train_loss: 2.5912 val_loss 2.5699 train_acc 0.2460 val_acc 0.2624\n"
     ]
    },
    {
     "name": "stderr",
     "output_type": "stream",
     "text": [
      "Epoch: 100%|██████████| 129/129 [00:17<00:00,  7.37it/s]\n",
      "Epoch:   1%|          | 1/129 [00:00<00:17,  7.44it/s]"
     ]
    },
    {
     "name": "stdout",
     "output_type": "stream",
     "text": [
      "\n",
      "Epoch 018 train_loss: 2.5833 val_loss 2.5630 train_acc 0.2539 val_acc 0.2726\n"
     ]
    },
    {
     "name": "stderr",
     "output_type": "stream",
     "text": [
      "Epoch: 100%|██████████| 129/129 [00:18<00:00,  7.08it/s]\n",
      "Epoch:   1%|          | 1/129 [00:00<00:16,  7.68it/s]"
     ]
    },
    {
     "name": "stdout",
     "output_type": "stream",
     "text": [
      "\n",
      "Epoch 019 train_loss: 2.5864 val_loss 2.5645 train_acc 0.2543 val_acc 0.2715\n"
     ]
    },
    {
     "name": "stderr",
     "output_type": "stream",
     "text": [
      "Epoch: 100%|██████████| 129/129 [00:18<00:00,  7.14it/s]\n",
      "Epoch:   1%|          | 1/129 [00:00<00:18,  7.07it/s]"
     ]
    },
    {
     "name": "stdout",
     "output_type": "stream",
     "text": [
      "\n",
      "Epoch 020 train_loss: 2.5767 val_loss 2.5572 train_acc 0.2555 val_acc 0.2803\n"
     ]
    },
    {
     "name": "stderr",
     "output_type": "stream",
     "text": [
      "Epoch: 100%|██████████| 129/129 [00:19<00:00,  6.75it/s]\n",
      "Epoch:   1%|          | 1/129 [00:00<00:17,  7.30it/s]"
     ]
    },
    {
     "name": "stdout",
     "output_type": "stream",
     "text": [
      "\n",
      "Epoch 021 train_loss: 2.5707 val_loss 2.5613 train_acc 0.2563 val_acc 0.2799\n"
     ]
    },
    {
     "name": "stderr",
     "output_type": "stream",
     "text": [
      "Epoch: 100%|██████████| 129/129 [00:19<00:00,  6.78it/s]\n",
      "Epoch:   1%|          | 1/129 [00:00<00:19,  6.50it/s]"
     ]
    },
    {
     "name": "stdout",
     "output_type": "stream",
     "text": [
      "\n",
      "Epoch 022 train_loss: 2.5714 val_loss 2.5491 train_acc 0.2624 val_acc 0.2803\n"
     ]
    },
    {
     "name": "stderr",
     "output_type": "stream",
     "text": [
      "Epoch: 100%|██████████| 129/129 [00:17<00:00,  7.26it/s]\n",
      "Epoch:   1%|          | 1/129 [00:00<00:17,  7.37it/s]"
     ]
    },
    {
     "name": "stdout",
     "output_type": "stream",
     "text": [
      "\n",
      "Epoch 023 train_loss: 2.5608 val_loss 2.5523 train_acc 0.2560 val_acc 0.2788\n"
     ]
    },
    {
     "name": "stderr",
     "output_type": "stream",
     "text": [
      "Epoch: 100%|██████████| 129/129 [00:17<00:00,  7.29it/s]\n",
      "Epoch:   1%|          | 1/129 [00:00<00:18,  6.82it/s]"
     ]
    },
    {
     "name": "stdout",
     "output_type": "stream",
     "text": [
      "\n",
      "Epoch 024 train_loss: 2.5623 val_loss 2.5373 train_acc 0.2631 val_acc 0.2814\n"
     ]
    },
    {
     "name": "stderr",
     "output_type": "stream",
     "text": [
      "Epoch: 100%|██████████| 129/129 [00:17<00:00,  7.32it/s]\n",
      "Epoch:   1%|          | 1/129 [00:00<00:16,  7.55it/s]"
     ]
    },
    {
     "name": "stdout",
     "output_type": "stream",
     "text": [
      "\n",
      "Epoch 025 train_loss: 2.5503 val_loss 2.5331 train_acc 0.2601 val_acc 0.2763\n"
     ]
    },
    {
     "name": "stderr",
     "output_type": "stream",
     "text": [
      "Epoch: 100%|██████████| 129/129 [00:17<00:00,  7.31it/s]\n",
      "Epoch:   1%|          | 1/129 [00:00<00:17,  7.36it/s]"
     ]
    },
    {
     "name": "stdout",
     "output_type": "stream",
     "text": [
      "\n",
      "Epoch 026 train_loss: 2.5434 val_loss 2.5366 train_acc 0.2698 val_acc 0.2847\n"
     ]
    },
    {
     "name": "stderr",
     "output_type": "stream",
     "text": [
      "Epoch: 100%|██████████| 129/129 [00:18<00:00,  7.01it/s]\n",
      "Epoch:   1%|          | 1/129 [00:00<00:18,  7.10it/s]"
     ]
    },
    {
     "name": "stdout",
     "output_type": "stream",
     "text": [
      "\n",
      "Epoch 027 train_loss: 2.5457 val_loss 2.5223 train_acc 0.2617 val_acc 0.2876\n"
     ]
    },
    {
     "name": "stderr",
     "output_type": "stream",
     "text": [
      "Epoch: 100%|██████████| 129/129 [00:18<00:00,  6.83it/s]\n",
      "Epoch:   1%|          | 1/129 [00:00<00:21,  6.03it/s]"
     ]
    },
    {
     "name": "stdout",
     "output_type": "stream",
     "text": [
      "\n",
      "Epoch 028 train_loss: 2.5391 val_loss 2.5205 train_acc 0.2684 val_acc 0.2887\n"
     ]
    },
    {
     "name": "stderr",
     "output_type": "stream",
     "text": [
      "Epoch: 100%|██████████| 129/129 [00:18<00:00,  6.87it/s]\n",
      "Epoch:   1%|          | 1/129 [00:00<00:19,  6.56it/s]"
     ]
    },
    {
     "name": "stdout",
     "output_type": "stream",
     "text": [
      "\n",
      "Epoch 029 train_loss: 2.5339 val_loss 2.5116 train_acc 0.2713 val_acc 0.2916\n"
     ]
    },
    {
     "name": "stderr",
     "output_type": "stream",
     "text": [
      "Epoch: 100%|██████████| 129/129 [00:22<00:00,  5.75it/s]\n",
      "Epoch:   1%|          | 1/129 [00:00<00:17,  7.40it/s]"
     ]
    },
    {
     "name": "stdout",
     "output_type": "stream",
     "text": [
      "\n",
      "Epoch 030 train_loss: 2.5269 val_loss 2.5243 train_acc 0.2710 val_acc 0.2931\n"
     ]
    },
    {
     "name": "stderr",
     "output_type": "stream",
     "text": [
      "Epoch: 100%|██████████| 129/129 [00:18<00:00,  7.15it/s]\n",
      "Epoch:   1%|          | 1/129 [00:00<00:17,  7.42it/s]"
     ]
    },
    {
     "name": "stdout",
     "output_type": "stream",
     "text": [
      "\n",
      "Epoch 031 train_loss: 2.5213 val_loss 2.4911 train_acc 0.2717 val_acc 0.2891\n"
     ]
    },
    {
     "name": "stderr",
     "output_type": "stream",
     "text": [
      "Epoch: 100%|██████████| 129/129 [00:18<00:00,  6.96it/s]\n",
      "Epoch:   1%|          | 1/129 [00:00<00:19,  6.57it/s]"
     ]
    },
    {
     "name": "stdout",
     "output_type": "stream",
     "text": [
      "\n",
      "Epoch 032 train_loss: 2.5125 val_loss 2.4967 train_acc 0.2764 val_acc 0.2971\n"
     ]
    },
    {
     "name": "stderr",
     "output_type": "stream",
     "text": [
      "Epoch: 100%|██████████| 129/129 [00:30<00:00,  4.17it/s]\n",
      "Epoch:   1%|          | 1/129 [00:00<00:16,  7.54it/s]"
     ]
    },
    {
     "name": "stdout",
     "output_type": "stream",
     "text": [
      "\n",
      "Epoch 033 train_loss: 2.5120 val_loss 2.4992 train_acc 0.2747 val_acc 0.2956\n"
     ]
    },
    {
     "name": "stderr",
     "output_type": "stream",
     "text": [
      "Epoch: 100%|██████████| 129/129 [00:33<00:00,  3.90it/s]\n",
      "Epoch:   1%|          | 1/129 [00:00<00:17,  7.40it/s]"
     ]
    },
    {
     "name": "stdout",
     "output_type": "stream",
     "text": [
      "\n",
      "Epoch 034 train_loss: 2.5032 val_loss 2.4883 train_acc 0.2762 val_acc 0.2949\n"
     ]
    },
    {
     "name": "stderr",
     "output_type": "stream",
     "text": [
      "Epoch: 100%|██████████| 129/129 [00:18<00:00,  7.00it/s]\n",
      "Epoch:   1%|          | 1/129 [00:00<00:17,  7.34it/s]"
     ]
    },
    {
     "name": "stdout",
     "output_type": "stream",
     "text": [
      "\n",
      "Epoch 035 train_loss: 2.4948 val_loss 2.4783 train_acc 0.2870 val_acc 0.2938\n"
     ]
    },
    {
     "name": "stderr",
     "output_type": "stream",
     "text": [
      "Epoch: 100%|██████████| 129/129 [00:28<00:00,  4.59it/s]\n",
      "Epoch:   1%|          | 1/129 [00:00<00:23,  5.49it/s]"
     ]
    },
    {
     "name": "stdout",
     "output_type": "stream",
     "text": [
      "\n",
      "Epoch 036 train_loss: 2.4977 val_loss 2.4847 train_acc 0.2790 val_acc 0.2993\n"
     ]
    },
    {
     "name": "stderr",
     "output_type": "stream",
     "text": [
      "Epoch: 100%|██████████| 129/129 [00:27<00:00,  4.65it/s]\n",
      "Epoch:   1%|          | 1/129 [00:00<00:19,  6.69it/s]"
     ]
    },
    {
     "name": "stdout",
     "output_type": "stream",
     "text": [
      "\n",
      "Epoch 037 train_loss: 2.4901 val_loss 2.4695 train_acc 0.2781 val_acc 0.2971\n"
     ]
    },
    {
     "name": "stderr",
     "output_type": "stream",
     "text": [
      "Epoch: 100%|██████████| 129/129 [00:24<00:00,  5.36it/s]\n",
      "Epoch:   1%|          | 1/129 [00:00<00:17,  7.14it/s]"
     ]
    },
    {
     "name": "stdout",
     "output_type": "stream",
     "text": [
      "\n",
      "Epoch 038 train_loss: 2.4819 val_loss 2.4752 train_acc 0.2787 val_acc 0.3033\n"
     ]
    },
    {
     "name": "stderr",
     "output_type": "stream",
     "text": [
      "Epoch: 100%|██████████| 129/129 [00:17<00:00,  7.18it/s]\n",
      "Epoch:   1%|          | 1/129 [00:00<00:17,  7.31it/s]"
     ]
    },
    {
     "name": "stdout",
     "output_type": "stream",
     "text": [
      "\n",
      "Epoch 039 train_loss: 2.4816 val_loss 2.4784 train_acc 0.2818 val_acc 0.2982\n"
     ]
    },
    {
     "name": "stderr",
     "output_type": "stream",
     "text": [
      "Epoch: 100%|██████████| 129/129 [00:18<00:00,  6.99it/s]\n"
     ]
    },
    {
     "name": "stdout",
     "output_type": "stream",
     "text": [
      "\n",
      "Epoch 040 train_loss: 2.4786 val_loss 2.4576 train_acc 0.2805 val_acc 0.3040\n"
     ]
    }
   ],
   "source": [
    "optim = torch.optim.SGD(CNN.parameters(), lr=0.001)\n",
    "criterion = nn.CrossEntropyLoss()\n",
    "\n",
    "history = train(train_dataset, val_dataset, model=CNN,  optim=optim,\n",
    "                criterion=criterion, epochs=40, batch_size=64, device=DEVICE)"
   ]
  },
  {
   "cell_type": "code",
   "execution_count": 19,
   "metadata": {
    "scrolled": true
   },
   "outputs": [
    {
     "name": "stderr",
     "output_type": "stream",
     "text": [
      "Epoch: 100%|██████████| 129/129 [00:17<00:00,  7.17it/s]\n",
      "Epoch:   1%|          | 1/129 [00:00<00:18,  6.81it/s]"
     ]
    },
    {
     "name": "stdout",
     "output_type": "stream",
     "text": [
      "\n",
      "Epoch 001 train_loss: 2.4703 val_loss 2.4554 train_acc 0.2903 val_acc 0.3055\n"
     ]
    },
    {
     "name": "stderr",
     "output_type": "stream",
     "text": [
      "Epoch: 100%|██████████| 129/129 [00:18<00:00,  6.86it/s]\n",
      "Epoch:   1%|          | 1/129 [00:00<00:17,  7.29it/s]"
     ]
    },
    {
     "name": "stdout",
     "output_type": "stream",
     "text": [
      "\n",
      "Epoch 002 train_loss: 2.4617 val_loss 2.4473 train_acc 0.2964 val_acc 0.3055\n"
     ]
    },
    {
     "name": "stderr",
     "output_type": "stream",
     "text": [
      "Epoch: 100%|██████████| 129/129 [00:18<00:00,  7.15it/s]\n",
      "Epoch:   1%|          | 1/129 [00:00<00:19,  6.73it/s]"
     ]
    },
    {
     "name": "stdout",
     "output_type": "stream",
     "text": [
      "\n",
      "Epoch 003 train_loss: 2.4604 val_loss 2.4455 train_acc 0.2883 val_acc 0.3066\n"
     ]
    },
    {
     "name": "stderr",
     "output_type": "stream",
     "text": [
      "Epoch: 100%|██████████| 129/129 [00:19<00:00,  6.73it/s]\n",
      "Epoch:   1%|          | 1/129 [00:00<00:17,  7.25it/s]"
     ]
    },
    {
     "name": "stdout",
     "output_type": "stream",
     "text": [
      "\n",
      "Epoch 004 train_loss: 2.4596 val_loss 2.4502 train_acc 0.2893 val_acc 0.3084\n"
     ]
    },
    {
     "name": "stderr",
     "output_type": "stream",
     "text": [
      "Epoch: 100%|██████████| 129/129 [00:18<00:00,  6.92it/s]\n",
      "Epoch:   1%|          | 1/129 [00:00<00:17,  7.39it/s]"
     ]
    },
    {
     "name": "stdout",
     "output_type": "stream",
     "text": [
      "\n",
      "Epoch 005 train_loss: 2.4538 val_loss 2.4567 train_acc 0.2899 val_acc 0.3077\n"
     ]
    },
    {
     "name": "stderr",
     "output_type": "stream",
     "text": [
      "Epoch: 100%|██████████| 129/129 [00:18<00:00,  7.00it/s]\n",
      "Epoch:   1%|          | 1/129 [00:00<00:17,  7.28it/s]"
     ]
    },
    {
     "name": "stdout",
     "output_type": "stream",
     "text": [
      "\n",
      "Epoch 006 train_loss: 2.4593 val_loss 2.4414 train_acc 0.2909 val_acc 0.3139\n"
     ]
    },
    {
     "name": "stderr",
     "output_type": "stream",
     "text": [
      "Epoch: 100%|██████████| 129/129 [00:17<00:00,  7.23it/s]\n",
      "Epoch:   1%|          | 1/129 [00:00<00:18,  7.07it/s]"
     ]
    },
    {
     "name": "stdout",
     "output_type": "stream",
     "text": [
      "\n",
      "Epoch 007 train_loss: 2.4552 val_loss 2.4344 train_acc 0.2917 val_acc 0.3113\n"
     ]
    },
    {
     "name": "stderr",
     "output_type": "stream",
     "text": [
      "Epoch: 100%|██████████| 129/129 [00:17<00:00,  7.38it/s]\n",
      "Epoch:   1%|          | 1/129 [00:00<00:16,  7.65it/s]"
     ]
    },
    {
     "name": "stdout",
     "output_type": "stream",
     "text": [
      "\n",
      "Epoch 008 train_loss: 2.4448 val_loss 2.4381 train_acc 0.2903 val_acc 0.3135\n"
     ]
    },
    {
     "name": "stderr",
     "output_type": "stream",
     "text": [
      "Epoch: 100%|██████████| 129/129 [00:17<00:00,  7.33it/s]\n",
      "Epoch:   1%|          | 1/129 [00:00<00:18,  7.01it/s]"
     ]
    },
    {
     "name": "stdout",
     "output_type": "stream",
     "text": [
      "\n",
      "Epoch 009 train_loss: 2.4466 val_loss 2.4434 train_acc 0.2917 val_acc 0.3102\n"
     ]
    },
    {
     "name": "stderr",
     "output_type": "stream",
     "text": [
      "Epoch: 100%|██████████| 129/129 [00:18<00:00,  7.15it/s]\n",
      "Epoch:   1%|          | 1/129 [00:00<00:17,  7.31it/s]"
     ]
    },
    {
     "name": "stdout",
     "output_type": "stream",
     "text": [
      "\n",
      "Epoch 010 train_loss: 2.4417 val_loss 2.4350 train_acc 0.2951 val_acc 0.3157\n"
     ]
    },
    {
     "name": "stderr",
     "output_type": "stream",
     "text": [
      "Epoch: 100%|██████████| 129/129 [00:18<00:00,  6.99it/s]\n",
      "Epoch:   1%|          | 1/129 [00:00<00:17,  7.34it/s]"
     ]
    },
    {
     "name": "stdout",
     "output_type": "stream",
     "text": [
      "\n",
      "Epoch 011 train_loss: 2.4373 val_loss 2.4291 train_acc 0.2951 val_acc 0.3109\n"
     ]
    },
    {
     "name": "stderr",
     "output_type": "stream",
     "text": [
      "Epoch: 100%|██████████| 129/129 [00:17<00:00,  7.28it/s]\n",
      "Epoch:   1%|          | 1/129 [00:00<00:18,  6.78it/s]"
     ]
    },
    {
     "name": "stdout",
     "output_type": "stream",
     "text": [
      "\n",
      "Epoch 012 train_loss: 2.4315 val_loss 2.4229 train_acc 0.2950 val_acc 0.3168\n"
     ]
    },
    {
     "name": "stderr",
     "output_type": "stream",
     "text": [
      "Epoch: 100%|██████████| 129/129 [00:17<00:00,  7.25it/s]\n",
      "Epoch:   1%|          | 1/129 [00:00<00:16,  7.60it/s]"
     ]
    },
    {
     "name": "stdout",
     "output_type": "stream",
     "text": [
      "\n",
      "Epoch 013 train_loss: 2.4252 val_loss 2.4264 train_acc 0.3023 val_acc 0.3193\n"
     ]
    },
    {
     "name": "stderr",
     "output_type": "stream",
     "text": [
      "Epoch: 100%|██████████| 129/129 [00:18<00:00,  7.17it/s]\n",
      "Epoch:   1%|          | 1/129 [00:00<00:17,  7.28it/s]"
     ]
    },
    {
     "name": "stdout",
     "output_type": "stream",
     "text": [
      "\n",
      "Epoch 014 train_loss: 2.4289 val_loss 2.4122 train_acc 0.2967 val_acc 0.3179\n"
     ]
    },
    {
     "name": "stderr",
     "output_type": "stream",
     "text": [
      "Epoch: 100%|██████████| 129/129 [00:17<00:00,  7.33it/s]\n",
      "Epoch:   1%|          | 1/129 [00:00<00:19,  6.55it/s]"
     ]
    },
    {
     "name": "stdout",
     "output_type": "stream",
     "text": [
      "\n",
      "Epoch 015 train_loss: 2.4279 val_loss 2.4162 train_acc 0.3029 val_acc 0.3179\n"
     ]
    },
    {
     "name": "stderr",
     "output_type": "stream",
     "text": [
      "Epoch: 100%|██████████| 129/129 [00:17<00:00,  7.22it/s]\n",
      "Epoch:   1%|          | 1/129 [00:00<00:16,  7.59it/s]"
     ]
    },
    {
     "name": "stdout",
     "output_type": "stream",
     "text": [
      "\n",
      "Epoch 016 train_loss: 2.4150 val_loss 2.4107 train_acc 0.3074 val_acc 0.3204\n"
     ]
    },
    {
     "name": "stderr",
     "output_type": "stream",
     "text": [
      "Epoch: 100%|██████████| 129/129 [00:17<00:00,  7.28it/s]\n",
      "Epoch:   1%|          | 1/129 [00:00<00:17,  7.32it/s]"
     ]
    },
    {
     "name": "stdout",
     "output_type": "stream",
     "text": [
      "\n",
      "Epoch 017 train_loss: 2.4219 val_loss 2.4114 train_acc 0.3002 val_acc 0.3175\n"
     ]
    },
    {
     "name": "stderr",
     "output_type": "stream",
     "text": [
      "Epoch: 100%|██████████| 129/129 [00:17<00:00,  7.35it/s]\n",
      "Epoch:   1%|          | 1/129 [00:00<00:17,  7.39it/s]"
     ]
    },
    {
     "name": "stdout",
     "output_type": "stream",
     "text": [
      "\n",
      "Epoch 018 train_loss: 2.4221 val_loss 2.4053 train_acc 0.3024 val_acc 0.3230\n"
     ]
    },
    {
     "name": "stderr",
     "output_type": "stream",
     "text": [
      "Epoch: 100%|██████████| 129/129 [00:17<00:00,  7.24it/s]\n",
      "Epoch:   1%|          | 1/129 [00:00<00:17,  7.42it/s]"
     ]
    },
    {
     "name": "stdout",
     "output_type": "stream",
     "text": [
      "\n",
      "Epoch 019 train_loss: 2.4085 val_loss 2.4019 train_acc 0.3088 val_acc 0.3197\n"
     ]
    },
    {
     "name": "stderr",
     "output_type": "stream",
     "text": [
      "Epoch: 100%|██████████| 129/129 [00:17<00:00,  7.24it/s]\n",
      "Epoch:   1%|          | 1/129 [00:00<00:16,  7.59it/s]"
     ]
    },
    {
     "name": "stdout",
     "output_type": "stream",
     "text": [
      "\n",
      "Epoch 020 train_loss: 2.4126 val_loss 2.3969 train_acc 0.3032 val_acc 0.3226\n"
     ]
    },
    {
     "name": "stderr",
     "output_type": "stream",
     "text": [
      "Epoch: 100%|██████████| 129/129 [00:17<00:00,  7.44it/s]\n",
      "Epoch:   1%|          | 1/129 [00:00<00:18,  6.91it/s]"
     ]
    },
    {
     "name": "stdout",
     "output_type": "stream",
     "text": [
      "\n",
      "Epoch 021 train_loss: 2.4057 val_loss 2.3994 train_acc 0.3086 val_acc 0.3226\n"
     ]
    },
    {
     "name": "stderr",
     "output_type": "stream",
     "text": [
      "Epoch: 100%|██████████| 129/129 [00:17<00:00,  7.38it/s]\n",
      "Epoch:   1%|          | 1/129 [00:00<00:16,  7.63it/s]"
     ]
    },
    {
     "name": "stdout",
     "output_type": "stream",
     "text": [
      "\n",
      "Epoch 022 train_loss: 2.4038 val_loss 2.3984 train_acc 0.3089 val_acc 0.3226\n"
     ]
    },
    {
     "name": "stderr",
     "output_type": "stream",
     "text": [
      "Epoch: 100%|██████████| 129/129 [00:17<00:00,  7.47it/s]\n",
      "Epoch:   1%|          | 1/129 [00:00<00:16,  7.90it/s]"
     ]
    },
    {
     "name": "stdout",
     "output_type": "stream",
     "text": [
      "\n",
      "Epoch 023 train_loss: 2.4053 val_loss 2.3889 train_acc 0.3071 val_acc 0.3299\n"
     ]
    },
    {
     "name": "stderr",
     "output_type": "stream",
     "text": [
      "Epoch: 100%|██████████| 129/129 [00:17<00:00,  7.27it/s]\n",
      "Epoch:   1%|          | 1/129 [00:00<00:18,  6.88it/s]"
     ]
    },
    {
     "name": "stdout",
     "output_type": "stream",
     "text": [
      "\n",
      "Epoch 024 train_loss: 2.3998 val_loss 2.3937 train_acc 0.3109 val_acc 0.3230\n"
     ]
    },
    {
     "name": "stderr",
     "output_type": "stream",
     "text": [
      "Epoch: 100%|██████████| 129/129 [00:17<00:00,  7.17it/s]\n",
      "Epoch:   1%|          | 1/129 [00:00<00:17,  7.44it/s]"
     ]
    },
    {
     "name": "stdout",
     "output_type": "stream",
     "text": [
      "\n",
      "Epoch 025 train_loss: 2.4016 val_loss 2.3855 train_acc 0.3082 val_acc 0.3274\n"
     ]
    },
    {
     "name": "stderr",
     "output_type": "stream",
     "text": [
      "Epoch: 100%|██████████| 129/129 [00:17<00:00,  7.20it/s]\n",
      "Epoch:   1%|          | 1/129 [00:00<00:17,  7.37it/s]"
     ]
    },
    {
     "name": "stdout",
     "output_type": "stream",
     "text": [
      "\n",
      "Epoch 026 train_loss: 2.3951 val_loss 2.3877 train_acc 0.3106 val_acc 0.3296\n"
     ]
    },
    {
     "name": "stderr",
     "output_type": "stream",
     "text": [
      "Epoch: 100%|██████████| 129/129 [00:18<00:00,  7.01it/s]\n",
      "Epoch:   1%|          | 1/129 [00:00<00:16,  7.76it/s]"
     ]
    },
    {
     "name": "stdout",
     "output_type": "stream",
     "text": [
      "\n",
      "Epoch 027 train_loss: 2.3937 val_loss 2.3847 train_acc 0.3099 val_acc 0.3321\n"
     ]
    },
    {
     "name": "stderr",
     "output_type": "stream",
     "text": [
      "Epoch: 100%|██████████| 129/129 [00:17<00:00,  7.23it/s]\n",
      "Epoch:   1%|          | 1/129 [00:00<00:16,  7.54it/s]"
     ]
    },
    {
     "name": "stdout",
     "output_type": "stream",
     "text": [
      "\n",
      "Epoch 028 train_loss: 2.3939 val_loss 2.3818 train_acc 0.3066 val_acc 0.3347\n"
     ]
    },
    {
     "name": "stderr",
     "output_type": "stream",
     "text": [
      "Epoch: 100%|██████████| 129/129 [00:18<00:00,  6.90it/s]\n",
      "Epoch:   1%|          | 1/129 [00:00<00:16,  7.82it/s]"
     ]
    },
    {
     "name": "stdout",
     "output_type": "stream",
     "text": [
      "\n",
      "Epoch 029 train_loss: 2.3860 val_loss 2.3775 train_acc 0.3172 val_acc 0.3325\n"
     ]
    },
    {
     "name": "stderr",
     "output_type": "stream",
     "text": [
      "Epoch: 100%|██████████| 129/129 [00:17<00:00,  7.31it/s]\n",
      "Epoch:   1%|          | 1/129 [00:00<00:17,  7.32it/s]"
     ]
    },
    {
     "name": "stdout",
     "output_type": "stream",
     "text": [
      "\n",
      "Epoch 030 train_loss: 2.3864 val_loss 2.3878 train_acc 0.3109 val_acc 0.3347\n"
     ]
    },
    {
     "name": "stderr",
     "output_type": "stream",
     "text": [
      "Epoch: 100%|██████████| 129/129 [00:18<00:00,  7.10it/s]\n",
      "Epoch:   1%|          | 1/129 [00:00<00:16,  7.71it/s]"
     ]
    },
    {
     "name": "stdout",
     "output_type": "stream",
     "text": [
      "\n",
      "Epoch 031 train_loss: 2.3794 val_loss 2.3677 train_acc 0.3175 val_acc 0.3354\n"
     ]
    },
    {
     "name": "stderr",
     "output_type": "stream",
     "text": [
      "Epoch: 100%|██████████| 129/129 [00:17<00:00,  7.39it/s]\n",
      "Epoch:   1%|          | 1/129 [00:00<00:16,  7.69it/s]"
     ]
    },
    {
     "name": "stdout",
     "output_type": "stream",
     "text": [
      "\n",
      "Epoch 032 train_loss: 2.3740 val_loss 2.3643 train_acc 0.3159 val_acc 0.3387\n"
     ]
    },
    {
     "name": "stderr",
     "output_type": "stream",
     "text": [
      "Epoch: 100%|██████████| 129/129 [00:18<00:00,  7.16it/s]\n",
      "Epoch:   1%|          | 1/129 [00:00<00:16,  7.63it/s]"
     ]
    },
    {
     "name": "stdout",
     "output_type": "stream",
     "text": [
      "\n",
      "Epoch 033 train_loss: 2.3638 val_loss 2.3732 train_acc 0.3281 val_acc 0.3358\n"
     ]
    },
    {
     "name": "stderr",
     "output_type": "stream",
     "text": [
      "Epoch: 100%|██████████| 129/129 [00:18<00:00,  6.99it/s]\n",
      "Epoch:   1%|          | 1/129 [00:00<00:19,  6.69it/s]"
     ]
    },
    {
     "name": "stdout",
     "output_type": "stream",
     "text": [
      "\n",
      "Epoch 034 train_loss: 2.3625 val_loss 2.3650 train_acc 0.3243 val_acc 0.3398\n"
     ]
    },
    {
     "name": "stderr",
     "output_type": "stream",
     "text": [
      "Epoch: 100%|██████████| 129/129 [00:18<00:00,  7.04it/s]\n",
      "Epoch:   1%|          | 1/129 [00:00<00:16,  7.58it/s]"
     ]
    },
    {
     "name": "stdout",
     "output_type": "stream",
     "text": [
      "\n",
      "Epoch 035 train_loss: 2.3639 val_loss 2.3638 train_acc 0.3255 val_acc 0.3405\n"
     ]
    },
    {
     "name": "stderr",
     "output_type": "stream",
     "text": [
      "Epoch: 100%|██████████| 129/129 [00:17<00:00,  7.35it/s]\n",
      "Epoch:   1%|          | 1/129 [00:00<00:17,  7.18it/s]"
     ]
    },
    {
     "name": "stdout",
     "output_type": "stream",
     "text": [
      "\n",
      "Epoch 036 train_loss: 2.3474 val_loss 2.3517 train_acc 0.3275 val_acc 0.3423\n"
     ]
    },
    {
     "name": "stderr",
     "output_type": "stream",
     "text": [
      "Epoch: 100%|██████████| 129/129 [00:18<00:00,  7.04it/s]\n",
      "Epoch:   1%|          | 1/129 [00:00<00:20,  6.20it/s]"
     ]
    },
    {
     "name": "stdout",
     "output_type": "stream",
     "text": [
      "\n",
      "Epoch 037 train_loss: 2.3531 val_loss 2.3611 train_acc 0.3280 val_acc 0.3464\n"
     ]
    },
    {
     "name": "stderr",
     "output_type": "stream",
     "text": [
      "Epoch: 100%|██████████| 129/129 [00:17<00:00,  7.20it/s]\n",
      "Epoch:   1%|          | 1/129 [00:00<00:17,  7.36it/s]"
     ]
    },
    {
     "name": "stdout",
     "output_type": "stream",
     "text": [
      "\n",
      "Epoch 038 train_loss: 2.3525 val_loss 2.3481 train_acc 0.3263 val_acc 0.3460\n"
     ]
    },
    {
     "name": "stderr",
     "output_type": "stream",
     "text": [
      "Epoch: 100%|██████████| 129/129 [00:18<00:00,  6.94it/s]\n",
      "Epoch:   1%|          | 1/129 [00:00<00:16,  7.65it/s]"
     ]
    },
    {
     "name": "stdout",
     "output_type": "stream",
     "text": [
      "\n",
      "Epoch 039 train_loss: 2.3506 val_loss 2.3560 train_acc 0.3258 val_acc 0.3442\n"
     ]
    },
    {
     "name": "stderr",
     "output_type": "stream",
     "text": [
      "Epoch: 100%|██████████| 129/129 [00:17<00:00,  7.27it/s]\n",
      "Epoch:   1%|          | 1/129 [00:00<00:18,  6.87it/s]"
     ]
    },
    {
     "name": "stdout",
     "output_type": "stream",
     "text": [
      "\n",
      "Epoch 040 train_loss: 2.3340 val_loss 2.3492 train_acc 0.3303 val_acc 0.3456\n"
     ]
    },
    {
     "name": "stderr",
     "output_type": "stream",
     "text": [
      "Epoch: 100%|██████████| 129/129 [00:17<00:00,  7.24it/s]\n",
      "Epoch:   1%|          | 1/129 [00:00<00:18,  7.02it/s]"
     ]
    },
    {
     "name": "stdout",
     "output_type": "stream",
     "text": [
      "\n",
      "Epoch 041 train_loss: 2.3312 val_loss 2.3429 train_acc 0.3377 val_acc 0.3518\n"
     ]
    },
    {
     "name": "stderr",
     "output_type": "stream",
     "text": [
      "Epoch: 100%|██████████| 129/129 [00:17<00:00,  7.26it/s]\n",
      "Epoch:   1%|          | 1/129 [00:00<00:17,  7.31it/s]"
     ]
    },
    {
     "name": "stdout",
     "output_type": "stream",
     "text": [
      "\n",
      "Epoch 042 train_loss: 2.3279 val_loss 2.3357 train_acc 0.3353 val_acc 0.3471\n"
     ]
    },
    {
     "name": "stderr",
     "output_type": "stream",
     "text": [
      "Epoch: 100%|██████████| 129/129 [00:18<00:00,  6.79it/s]\n",
      "Epoch:   1%|          | 1/129 [00:00<00:18,  7.02it/s]"
     ]
    },
    {
     "name": "stdout",
     "output_type": "stream",
     "text": [
      "\n",
      "Epoch 043 train_loss: 2.3359 val_loss 2.3313 train_acc 0.3338 val_acc 0.3547\n"
     ]
    },
    {
     "name": "stderr",
     "output_type": "stream",
     "text": [
      "Epoch: 100%|██████████| 129/129 [00:18<00:00,  7.09it/s]\n",
      "Epoch:   1%|          | 1/129 [00:00<00:17,  7.35it/s]"
     ]
    },
    {
     "name": "stdout",
     "output_type": "stream",
     "text": [
      "\n",
      "Epoch 044 train_loss: 2.3376 val_loss 2.3336 train_acc 0.3397 val_acc 0.3562\n"
     ]
    },
    {
     "name": "stderr",
     "output_type": "stream",
     "text": [
      "Epoch: 100%|██████████| 129/129 [00:17<00:00,  7.19it/s]\n",
      "Epoch:   1%|          | 1/129 [00:00<00:18,  6.99it/s]"
     ]
    },
    {
     "name": "stdout",
     "output_type": "stream",
     "text": [
      "\n",
      "Epoch 045 train_loss: 2.3211 val_loss 2.3309 train_acc 0.3359 val_acc 0.3577\n"
     ]
    },
    {
     "name": "stderr",
     "output_type": "stream",
     "text": [
      "Epoch: 100%|██████████| 129/129 [00:17<00:00,  7.20it/s]\n",
      "Epoch:   1%|          | 1/129 [00:00<00:17,  7.28it/s]"
     ]
    },
    {
     "name": "stdout",
     "output_type": "stream",
     "text": [
      "\n",
      "Epoch 046 train_loss: 2.3245 val_loss 2.3185 train_acc 0.3391 val_acc 0.3591\n"
     ]
    },
    {
     "name": "stderr",
     "output_type": "stream",
     "text": [
      "Epoch: 100%|██████████| 129/129 [00:17<00:00,  7.21it/s]\n",
      "Epoch:   1%|          | 1/129 [00:00<00:18,  6.74it/s]"
     ]
    },
    {
     "name": "stdout",
     "output_type": "stream",
     "text": [
      "\n",
      "Epoch 047 train_loss: 2.3114 val_loss 2.3161 train_acc 0.3404 val_acc 0.3588\n"
     ]
    },
    {
     "name": "stderr",
     "output_type": "stream",
     "text": [
      "Epoch: 100%|██████████| 129/129 [00:18<00:00,  7.15it/s]\n",
      "Epoch:   1%|          | 1/129 [00:00<00:17,  7.42it/s]"
     ]
    },
    {
     "name": "stdout",
     "output_type": "stream",
     "text": [
      "\n",
      "Epoch 048 train_loss: 2.3102 val_loss 2.3151 train_acc 0.3405 val_acc 0.3620\n"
     ]
    },
    {
     "name": "stderr",
     "output_type": "stream",
     "text": [
      "Epoch: 100%|██████████| 129/129 [00:18<00:00,  7.12it/s]\n",
      "Epoch:   1%|          | 1/129 [00:00<00:17,  7.46it/s]"
     ]
    },
    {
     "name": "stdout",
     "output_type": "stream",
     "text": [
      "\n",
      "Epoch 049 train_loss: 2.3079 val_loss 2.3179 train_acc 0.3445 val_acc 0.3628\n"
     ]
    },
    {
     "name": "stderr",
     "output_type": "stream",
     "text": [
      "Epoch: 100%|██████████| 129/129 [00:18<00:00,  7.07it/s]\n",
      "Epoch:   1%|          | 1/129 [00:00<00:20,  6.22it/s]"
     ]
    },
    {
     "name": "stdout",
     "output_type": "stream",
     "text": [
      "\n",
      "Epoch 050 train_loss: 2.3056 val_loss 2.3079 train_acc 0.3420 val_acc 0.3613\n"
     ]
    },
    {
     "name": "stderr",
     "output_type": "stream",
     "text": [
      "Epoch: 100%|██████████| 129/129 [00:17<00:00,  7.24it/s]\n",
      "Epoch:   1%|          | 1/129 [00:00<00:17,  7.46it/s]"
     ]
    },
    {
     "name": "stdout",
     "output_type": "stream",
     "text": [
      "\n",
      "Epoch 051 train_loss: 2.2977 val_loss 2.3131 train_acc 0.3429 val_acc 0.3588\n"
     ]
    },
    {
     "name": "stderr",
     "output_type": "stream",
     "text": [
      "Epoch: 100%|██████████| 129/129 [00:17<00:00,  7.30it/s]\n",
      "Epoch:   1%|          | 1/129 [00:00<00:17,  7.12it/s]"
     ]
    },
    {
     "name": "stdout",
     "output_type": "stream",
     "text": [
      "\n",
      "Epoch 052 train_loss: 2.2849 val_loss 2.3016 train_acc 0.3487 val_acc 0.3617\n"
     ]
    },
    {
     "name": "stderr",
     "output_type": "stream",
     "text": [
      "Epoch: 100%|██████████| 129/129 [00:17<00:00,  7.21it/s]\n",
      "Epoch:   1%|          | 1/129 [00:00<00:16,  7.71it/s]"
     ]
    },
    {
     "name": "stdout",
     "output_type": "stream",
     "text": [
      "\n",
      "Epoch 053 train_loss: 2.2899 val_loss 2.2980 train_acc 0.3524 val_acc 0.3668\n"
     ]
    },
    {
     "name": "stderr",
     "output_type": "stream",
     "text": [
      "Epoch: 100%|██████████| 129/129 [00:18<00:00,  6.85it/s]\n",
      "Epoch:   1%|          | 1/129 [00:00<00:19,  6.53it/s]"
     ]
    },
    {
     "name": "stdout",
     "output_type": "stream",
     "text": [
      "\n",
      "Epoch 054 train_loss: 2.2886 val_loss 2.3015 train_acc 0.3461 val_acc 0.3686\n"
     ]
    },
    {
     "name": "stderr",
     "output_type": "stream",
     "text": [
      "Epoch: 100%|██████████| 129/129 [00:17<00:00,  7.19it/s]\n",
      "Epoch:   1%|          | 1/129 [00:00<00:17,  7.16it/s]"
     ]
    },
    {
     "name": "stdout",
     "output_type": "stream",
     "text": [
      "\n",
      "Epoch 055 train_loss: 2.2787 val_loss 2.2818 train_acc 0.3509 val_acc 0.3661\n"
     ]
    },
    {
     "name": "stderr",
     "output_type": "stream",
     "text": [
      "Epoch: 100%|██████████| 129/129 [00:17<00:00,  7.19it/s]\n",
      "Epoch:   1%|          | 1/129 [00:00<00:17,  7.26it/s]"
     ]
    },
    {
     "name": "stdout",
     "output_type": "stream",
     "text": [
      "\n",
      "Epoch 056 train_loss: 2.2775 val_loss 2.2869 train_acc 0.3532 val_acc 0.3664\n"
     ]
    },
    {
     "name": "stderr",
     "output_type": "stream",
     "text": [
      "Epoch: 100%|██████████| 129/129 [00:18<00:00,  7.08it/s]\n",
      "Epoch:   1%|          | 1/129 [00:00<00:17,  7.47it/s]"
     ]
    },
    {
     "name": "stdout",
     "output_type": "stream",
     "text": [
      "\n",
      "Epoch 057 train_loss: 2.2769 val_loss 2.2808 train_acc 0.3563 val_acc 0.3704\n"
     ]
    },
    {
     "name": "stderr",
     "output_type": "stream",
     "text": [
      "Epoch: 100%|██████████| 129/129 [00:17<00:00,  7.21it/s]\n",
      "Epoch:   1%|          | 1/129 [00:00<00:19,  6.66it/s]"
     ]
    },
    {
     "name": "stdout",
     "output_type": "stream",
     "text": [
      "\n",
      "Epoch 058 train_loss: 2.2632 val_loss 2.2818 train_acc 0.3562 val_acc 0.3679\n"
     ]
    },
    {
     "name": "stderr",
     "output_type": "stream",
     "text": [
      "Epoch: 100%|██████████| 129/129 [00:17<00:00,  7.21it/s]\n",
      "Epoch:   1%|          | 1/129 [00:00<00:16,  7.60it/s]"
     ]
    },
    {
     "name": "stdout",
     "output_type": "stream",
     "text": [
      "\n",
      "Epoch 059 train_loss: 2.2516 val_loss 2.2777 train_acc 0.3605 val_acc 0.3668\n"
     ]
    },
    {
     "name": "stderr",
     "output_type": "stream",
     "text": [
      "Epoch: 100%|██████████| 129/129 [00:18<00:00,  7.03it/s]\n",
      "Epoch:   1%|          | 1/129 [00:00<00:24,  5.18it/s]"
     ]
    },
    {
     "name": "stdout",
     "output_type": "stream",
     "text": [
      "\n",
      "Epoch 060 train_loss: 2.2622 val_loss 2.2623 train_acc 0.3628 val_acc 0.3755\n"
     ]
    },
    {
     "name": "stderr",
     "output_type": "stream",
     "text": [
      "Epoch: 100%|██████████| 129/129 [00:18<00:00,  7.01it/s]\n",
      "Epoch:   1%|          | 1/129 [00:00<00:19,  6.70it/s]"
     ]
    },
    {
     "name": "stdout",
     "output_type": "stream",
     "text": [
      "\n",
      "Epoch 061 train_loss: 2.2557 val_loss 2.2739 train_acc 0.3605 val_acc 0.3734\n"
     ]
    },
    {
     "name": "stderr",
     "output_type": "stream",
     "text": [
      "Epoch: 100%|██████████| 129/129 [00:18<00:00,  7.03it/s]\n",
      "Epoch:   1%|          | 1/129 [00:00<00:17,  7.18it/s]"
     ]
    },
    {
     "name": "stdout",
     "output_type": "stream",
     "text": [
      "\n",
      "Epoch 062 train_loss: 2.2443 val_loss 2.2601 train_acc 0.3633 val_acc 0.3734\n"
     ]
    },
    {
     "name": "stderr",
     "output_type": "stream",
     "text": [
      "Epoch: 100%|██████████| 129/129 [00:18<00:00,  6.98it/s]\n",
      "Epoch:   1%|          | 1/129 [00:00<00:16,  7.93it/s]"
     ]
    },
    {
     "name": "stdout",
     "output_type": "stream",
     "text": [
      "\n",
      "Epoch 063 train_loss: 2.2392 val_loss 2.2726 train_acc 0.3669 val_acc 0.3796\n"
     ]
    },
    {
     "name": "stderr",
     "output_type": "stream",
     "text": [
      "Epoch: 100%|██████████| 129/129 [00:18<00:00,  7.12it/s]\n",
      "Epoch:   1%|          | 1/129 [00:00<00:18,  6.87it/s]"
     ]
    },
    {
     "name": "stdout",
     "output_type": "stream",
     "text": [
      "\n",
      "Epoch 064 train_loss: 2.2372 val_loss 2.2674 train_acc 0.3628 val_acc 0.3792\n"
     ]
    },
    {
     "name": "stderr",
     "output_type": "stream",
     "text": [
      "Epoch: 100%|██████████| 129/129 [00:18<00:00,  6.94it/s]\n",
      "Epoch:   1%|          | 1/129 [00:00<00:18,  7.11it/s]"
     ]
    },
    {
     "name": "stdout",
     "output_type": "stream",
     "text": [
      "\n",
      "Epoch 065 train_loss: 2.2390 val_loss 2.2513 train_acc 0.3724 val_acc 0.3858\n"
     ]
    },
    {
     "name": "stderr",
     "output_type": "stream",
     "text": [
      "Epoch: 100%|██████████| 129/129 [00:18<00:00,  7.05it/s]\n",
      "Epoch:   1%|          | 1/129 [00:00<00:18,  7.08it/s]"
     ]
    },
    {
     "name": "stdout",
     "output_type": "stream",
     "text": [
      "\n",
      "Epoch 066 train_loss: 2.2244 val_loss 2.2409 train_acc 0.3765 val_acc 0.3803\n"
     ]
    },
    {
     "name": "stderr",
     "output_type": "stream",
     "text": [
      "Epoch: 100%|██████████| 129/129 [00:17<00:00,  7.27it/s]\n",
      "Epoch:   1%|          | 1/129 [00:00<00:16,  7.56it/s]"
     ]
    },
    {
     "name": "stdout",
     "output_type": "stream",
     "text": [
      "\n",
      "Epoch 067 train_loss: 2.2292 val_loss 2.2556 train_acc 0.3696 val_acc 0.3847\n"
     ]
    },
    {
     "name": "stderr",
     "output_type": "stream",
     "text": [
      "Epoch: 100%|██████████| 129/129 [00:17<00:00,  7.37it/s]\n",
      "Epoch:   1%|          | 1/129 [00:00<00:19,  6.56it/s]"
     ]
    },
    {
     "name": "stdout",
     "output_type": "stream",
     "text": [
      "\n",
      "Epoch 068 train_loss: 2.2196 val_loss 2.2346 train_acc 0.3718 val_acc 0.3799\n"
     ]
    },
    {
     "name": "stderr",
     "output_type": "stream",
     "text": [
      "Epoch: 100%|██████████| 129/129 [00:18<00:00,  7.03it/s]\n",
      "Epoch:   1%|          | 1/129 [00:00<00:17,  7.40it/s]"
     ]
    },
    {
     "name": "stdout",
     "output_type": "stream",
     "text": [
      "\n",
      "Epoch 069 train_loss: 2.2115 val_loss 2.2311 train_acc 0.3723 val_acc 0.3854\n"
     ]
    },
    {
     "name": "stderr",
     "output_type": "stream",
     "text": [
      "Epoch: 100%|██████████| 129/129 [00:18<00:00,  7.10it/s]\n"
     ]
    },
    {
     "name": "stdout",
     "output_type": "stream",
     "text": [
      "\n",
      "Epoch 070 train_loss: 2.2083 val_loss 2.2293 train_acc 0.3818 val_acc 0.3883\n"
     ]
    }
   ],
   "source": [
    "optim = torch.optim.SGD(CNN.parameters(), lr=0.0005)\n",
    "criterion = nn.CrossEntropyLoss()\n",
    "\n",
    "history = train(train_dataset, val_dataset, model=CNN,  optim=optim,\n",
    "                criterion=criterion, epochs=70, batch_size=64, device=DEVICE)"
   ]
  },
  {
   "cell_type": "code",
   "execution_count": 20,
   "metadata": {
    "scrolled": true
   },
   "outputs": [
    {
     "name": "stderr",
     "output_type": "stream",
     "text": [
      "Epoch: 100%|██████████| 129/129 [00:18<00:00,  7.13it/s]\n",
      "Epoch:   1%|          | 1/129 [00:00<00:17,  7.11it/s]"
     ]
    },
    {
     "name": "stdout",
     "output_type": "stream",
     "text": [
      "\n",
      "Epoch 001 train_loss: 2.2005 val_loss 2.2395 train_acc 0.3775 val_acc 0.3847\n"
     ]
    },
    {
     "name": "stderr",
     "output_type": "stream",
     "text": [
      "Epoch: 100%|██████████| 129/129 [00:18<00:00,  7.07it/s]\n",
      "Epoch:   1%|          | 1/129 [00:00<00:16,  7.63it/s]"
     ]
    },
    {
     "name": "stdout",
     "output_type": "stream",
     "text": [
      "\n",
      "Epoch 002 train_loss: 2.1931 val_loss 2.2258 train_acc 0.3827 val_acc 0.3883\n"
     ]
    },
    {
     "name": "stderr",
     "output_type": "stream",
     "text": [
      "Epoch: 100%|██████████| 129/129 [00:17<00:00,  7.25it/s]\n",
      "Epoch:   1%|          | 1/129 [00:00<00:17,  7.18it/s]"
     ]
    },
    {
     "name": "stdout",
     "output_type": "stream",
     "text": [
      "\n",
      "Epoch 003 train_loss: 2.2003 val_loss 2.2297 train_acc 0.3762 val_acc 0.3905\n"
     ]
    },
    {
     "name": "stderr",
     "output_type": "stream",
     "text": [
      "Epoch: 100%|██████████| 129/129 [00:18<00:00,  7.00it/s]\n",
      "Epoch:   1%|          | 1/129 [00:00<00:16,  7.61it/s]"
     ]
    },
    {
     "name": "stdout",
     "output_type": "stream",
     "text": [
      "\n",
      "Epoch 004 train_loss: 2.1927 val_loss 2.2177 train_acc 0.3809 val_acc 0.3931\n"
     ]
    },
    {
     "name": "stderr",
     "output_type": "stream",
     "text": [
      "Epoch: 100%|██████████| 129/129 [00:17<00:00,  7.29it/s]\n",
      "Epoch:   1%|          | 1/129 [00:00<00:16,  7.56it/s]"
     ]
    },
    {
     "name": "stdout",
     "output_type": "stream",
     "text": [
      "\n",
      "Epoch 005 train_loss: 2.1918 val_loss 2.2291 train_acc 0.3826 val_acc 0.3916\n"
     ]
    },
    {
     "name": "stderr",
     "output_type": "stream",
     "text": [
      "Epoch: 100%|██████████| 129/129 [00:17<00:00,  7.31it/s]\n",
      "Epoch:   1%|          | 1/129 [00:00<00:16,  7.84it/s]"
     ]
    },
    {
     "name": "stdout",
     "output_type": "stream",
     "text": [
      "\n",
      "Epoch 006 train_loss: 2.1887 val_loss 2.2015 train_acc 0.3776 val_acc 0.3964\n"
     ]
    },
    {
     "name": "stderr",
     "output_type": "stream",
     "text": [
      "Epoch: 100%|██████████| 129/129 [00:18<00:00,  7.15it/s]\n",
      "Epoch:   1%|          | 1/129 [00:00<00:16,  7.58it/s]"
     ]
    },
    {
     "name": "stdout",
     "output_type": "stream",
     "text": [
      "\n",
      "Epoch 007 train_loss: 2.1834 val_loss 2.2167 train_acc 0.3827 val_acc 0.3949\n"
     ]
    },
    {
     "name": "stderr",
     "output_type": "stream",
     "text": [
      "Epoch: 100%|██████████| 129/129 [00:17<00:00,  7.23it/s]\n",
      "Epoch:   1%|          | 1/129 [00:00<00:16,  7.60it/s]"
     ]
    },
    {
     "name": "stdout",
     "output_type": "stream",
     "text": [
      "\n",
      "Epoch 008 train_loss: 2.1842 val_loss 2.2207 train_acc 0.3899 val_acc 0.3953\n"
     ]
    },
    {
     "name": "stderr",
     "output_type": "stream",
     "text": [
      "Epoch: 100%|██████████| 129/129 [00:17<00:00,  7.29it/s]\n",
      "Epoch:   1%|          | 1/129 [00:00<00:16,  7.68it/s]"
     ]
    },
    {
     "name": "stdout",
     "output_type": "stream",
     "text": [
      "\n",
      "Epoch 009 train_loss: 2.1837 val_loss 2.2044 train_acc 0.3876 val_acc 0.3989\n"
     ]
    },
    {
     "name": "stderr",
     "output_type": "stream",
     "text": [
      "Epoch: 100%|██████████| 129/129 [00:18<00:00,  6.80it/s]\n",
      "Epoch:   1%|          | 1/129 [00:00<00:17,  7.45it/s]"
     ]
    },
    {
     "name": "stdout",
     "output_type": "stream",
     "text": [
      "\n",
      "Epoch 010 train_loss: 2.1810 val_loss 2.2190 train_acc 0.3867 val_acc 0.3949\n"
     ]
    },
    {
     "name": "stderr",
     "output_type": "stream",
     "text": [
      "Epoch: 100%|██████████| 129/129 [00:18<00:00,  7.04it/s]\n",
      "Epoch:   1%|          | 1/129 [00:00<00:19,  6.52it/s]"
     ]
    },
    {
     "name": "stdout",
     "output_type": "stream",
     "text": [
      "\n",
      "Epoch 011 train_loss: 2.1772 val_loss 2.2255 train_acc 0.3881 val_acc 0.3945\n"
     ]
    },
    {
     "name": "stderr",
     "output_type": "stream",
     "text": [
      "Epoch: 100%|██████████| 129/129 [00:17<00:00,  7.22it/s]\n",
      "Epoch:   1%|          | 1/129 [00:00<00:18,  7.08it/s]"
     ]
    },
    {
     "name": "stdout",
     "output_type": "stream",
     "text": [
      "\n",
      "Epoch 012 train_loss: 2.1692 val_loss 2.2176 train_acc 0.3953 val_acc 0.3974\n"
     ]
    },
    {
     "name": "stderr",
     "output_type": "stream",
     "text": [
      "Epoch: 100%|██████████| 129/129 [00:17<00:00,  7.34it/s]\n",
      "Epoch:   1%|          | 1/129 [00:00<00:16,  7.64it/s]"
     ]
    },
    {
     "name": "stdout",
     "output_type": "stream",
     "text": [
      "\n",
      "Epoch 013 train_loss: 2.1680 val_loss 2.1875 train_acc 0.3908 val_acc 0.4044\n"
     ]
    },
    {
     "name": "stderr",
     "output_type": "stream",
     "text": [
      "Epoch: 100%|██████████| 129/129 [00:17<00:00,  7.27it/s]\n",
      "Epoch:   1%|          | 1/129 [00:00<00:19,  6.54it/s]"
     ]
    },
    {
     "name": "stdout",
     "output_type": "stream",
     "text": [
      "\n",
      "Epoch 014 train_loss: 2.1643 val_loss 2.1939 train_acc 0.3945 val_acc 0.4022\n"
     ]
    },
    {
     "name": "stderr",
     "output_type": "stream",
     "text": [
      "Epoch: 100%|██████████| 129/129 [00:18<00:00,  6.89it/s]\n",
      "Epoch:   1%|          | 1/129 [00:00<00:19,  6.70it/s]"
     ]
    },
    {
     "name": "stdout",
     "output_type": "stream",
     "text": [
      "\n",
      "Epoch 015 train_loss: 2.1616 val_loss 2.1935 train_acc 0.3965 val_acc 0.4044\n"
     ]
    },
    {
     "name": "stderr",
     "output_type": "stream",
     "text": [
      "Epoch: 100%|██████████| 129/129 [00:18<00:00,  7.03it/s]\n",
      "Epoch:   1%|          | 1/129 [00:00<00:18,  6.84it/s]"
     ]
    },
    {
     "name": "stdout",
     "output_type": "stream",
     "text": [
      "\n",
      "Epoch 016 train_loss: 2.1580 val_loss 2.1987 train_acc 0.4005 val_acc 0.4029\n"
     ]
    },
    {
     "name": "stderr",
     "output_type": "stream",
     "text": [
      "Epoch: 100%|██████████| 129/129 [00:19<00:00,  6.68it/s]\n",
      "Epoch:   1%|          | 1/129 [00:00<00:21,  5.90it/s]"
     ]
    },
    {
     "name": "stdout",
     "output_type": "stream",
     "text": [
      "\n",
      "Epoch 017 train_loss: 2.1491 val_loss 2.2417 train_acc 0.3983 val_acc 0.3887\n"
     ]
    },
    {
     "name": "stderr",
     "output_type": "stream",
     "text": [
      "Epoch: 100%|██████████| 129/129 [00:18<00:00,  7.00it/s]\n",
      "Epoch:   1%|          | 1/129 [00:00<00:18,  6.75it/s]"
     ]
    },
    {
     "name": "stdout",
     "output_type": "stream",
     "text": [
      "\n",
      "Epoch 018 train_loss: 2.1584 val_loss 2.1883 train_acc 0.3940 val_acc 0.4044\n"
     ]
    },
    {
     "name": "stderr",
     "output_type": "stream",
     "text": [
      "Epoch: 100%|██████████| 129/129 [00:18<00:00,  7.06it/s]\n",
      "Epoch:   1%|          | 1/129 [00:00<00:18,  7.05it/s]"
     ]
    },
    {
     "name": "stdout",
     "output_type": "stream",
     "text": [
      "\n",
      "Epoch 019 train_loss: 2.1506 val_loss 2.1849 train_acc 0.3987 val_acc 0.4044\n"
     ]
    },
    {
     "name": "stderr",
     "output_type": "stream",
     "text": [
      "Epoch: 100%|██████████| 129/129 [00:17<00:00,  7.26it/s]\n",
      "Epoch:   1%|          | 1/129 [00:00<00:17,  7.47it/s]"
     ]
    },
    {
     "name": "stdout",
     "output_type": "stream",
     "text": [
      "\n",
      "Epoch 020 train_loss: 2.1453 val_loss 2.1914 train_acc 0.3966 val_acc 0.4047\n"
     ]
    },
    {
     "name": "stderr",
     "output_type": "stream",
     "text": [
      "Epoch: 100%|██████████| 129/129 [00:19<00:00,  6.71it/s]\n",
      "Epoch:   1%|          | 1/129 [00:00<00:17,  7.29it/s]"
     ]
    },
    {
     "name": "stdout",
     "output_type": "stream",
     "text": [
      "\n",
      "Epoch 021 train_loss: 2.1336 val_loss 2.1722 train_acc 0.4021 val_acc 0.4077\n"
     ]
    },
    {
     "name": "stderr",
     "output_type": "stream",
     "text": [
      "Epoch: 100%|██████████| 129/129 [00:18<00:00,  6.86it/s]\n",
      "Epoch:   1%|          | 1/129 [00:00<00:18,  6.84it/s]"
     ]
    },
    {
     "name": "stdout",
     "output_type": "stream",
     "text": [
      "\n",
      "Epoch 022 train_loss: 2.1401 val_loss 2.1795 train_acc 0.4071 val_acc 0.4069\n"
     ]
    },
    {
     "name": "stderr",
     "output_type": "stream",
     "text": [
      "Epoch: 100%|██████████| 129/129 [00:18<00:00,  7.15it/s]\n",
      "Epoch:   1%|          | 1/129 [00:00<00:17,  7.38it/s]"
     ]
    },
    {
     "name": "stdout",
     "output_type": "stream",
     "text": [
      "\n",
      "Epoch 023 train_loss: 2.1375 val_loss 2.1805 train_acc 0.4034 val_acc 0.4102\n"
     ]
    },
    {
     "name": "stderr",
     "output_type": "stream",
     "text": [
      "Epoch: 100%|██████████| 129/129 [00:17<00:00,  7.29it/s]\n",
      "Epoch:   1%|          | 1/129 [00:00<00:17,  7.31it/s]"
     ]
    },
    {
     "name": "stdout",
     "output_type": "stream",
     "text": [
      "\n",
      "Epoch 024 train_loss: 2.1302 val_loss 2.1785 train_acc 0.4040 val_acc 0.4106\n"
     ]
    },
    {
     "name": "stderr",
     "output_type": "stream",
     "text": [
      "Epoch: 100%|██████████| 129/129 [00:18<00:00,  7.09it/s]\n",
      "Epoch:   1%|          | 1/129 [00:00<00:17,  7.48it/s]"
     ]
    },
    {
     "name": "stdout",
     "output_type": "stream",
     "text": [
      "\n",
      "Epoch 025 train_loss: 2.1421 val_loss 2.1659 train_acc 0.4016 val_acc 0.4142\n"
     ]
    },
    {
     "name": "stderr",
     "output_type": "stream",
     "text": [
      "Epoch: 100%|██████████| 129/129 [00:23<00:00,  5.53it/s]\n",
      "Epoch:   1%|          | 1/129 [00:00<00:17,  7.21it/s]"
     ]
    },
    {
     "name": "stdout",
     "output_type": "stream",
     "text": [
      "\n",
      "Epoch 026 train_loss: 2.1246 val_loss 2.1583 train_acc 0.4068 val_acc 0.4157\n"
     ]
    },
    {
     "name": "stderr",
     "output_type": "stream",
     "text": [
      "Epoch: 100%|██████████| 129/129 [00:18<00:00,  7.16it/s]\n",
      "Epoch:   0%|          | 0/129 [00:00<?, ?it/s]"
     ]
    },
    {
     "name": "stdout",
     "output_type": "stream",
     "text": [
      "\n",
      "Epoch 027 train_loss: 2.1245 val_loss 2.1777 train_acc 0.4026 val_acc 0.4084\n"
     ]
    },
    {
     "name": "stderr",
     "output_type": "stream",
     "text": [
      "Epoch: 100%|██████████| 129/129 [00:32<00:00,  4.00it/s]\n",
      "Epoch:   1%|          | 1/129 [00:00<00:16,  7.59it/s]"
     ]
    },
    {
     "name": "stdout",
     "output_type": "stream",
     "text": [
      "\n",
      "Epoch 028 train_loss: 2.1172 val_loss 2.1642 train_acc 0.4038 val_acc 0.4153\n"
     ]
    },
    {
     "name": "stderr",
     "output_type": "stream",
     "text": [
      "Epoch: 100%|██████████| 129/129 [00:31<00:00,  4.14it/s]\n",
      "Epoch:   1%|          | 1/129 [00:00<00:16,  7.57it/s]"
     ]
    },
    {
     "name": "stdout",
     "output_type": "stream",
     "text": [
      "\n",
      "Epoch 029 train_loss: 2.1167 val_loss 2.1521 train_acc 0.4114 val_acc 0.4157\n"
     ]
    },
    {
     "name": "stderr",
     "output_type": "stream",
     "text": [
      "Epoch: 100%|██████████| 129/129 [00:25<00:00,  5.00it/s]\n"
     ]
    },
    {
     "name": "stdout",
     "output_type": "stream",
     "text": [
      "\n",
      "Epoch 030 train_loss: 2.1240 val_loss 2.1524 train_acc 0.4036 val_acc 0.4157\n"
     ]
    }
   ],
   "source": [
    "optim = torch.optim.SGD(CNN.parameters(), lr=0.0003)\n",
    "criterion = nn.CrossEntropyLoss()\n",
    "\n",
    "history = train(train_dataset, val_dataset, model=CNN,  optim=optim,\n",
    "                criterion=criterion, epochs=30, batch_size=64, device=DEVICE)"
   ]
  },
  {
   "cell_type": "code",
   "execution_count": 21,
   "metadata": {
    "scrolled": true
   },
   "outputs": [
    {
     "name": "stderr",
     "output_type": "stream",
     "text": [
      "Epoch: 100%|██████████| 129/129 [00:19<00:00,  6.70it/s]\n",
      "Epoch:   1%|          | 1/129 [00:00<00:18,  6.93it/s]"
     ]
    },
    {
     "name": "stdout",
     "output_type": "stream",
     "text": [
      "\n",
      "Epoch 001 train_loss: 2.1045 val_loss 2.1619 train_acc 0.4096 val_acc 0.4142\n"
     ]
    },
    {
     "name": "stderr",
     "output_type": "stream",
     "text": [
      "Epoch: 100%|██████████| 129/129 [00:17<00:00,  7.18it/s]\n",
      "Epoch:   1%|          | 1/129 [00:00<00:16,  7.69it/s]"
     ]
    },
    {
     "name": "stdout",
     "output_type": "stream",
     "text": [
      "\n",
      "Epoch 002 train_loss: 2.1103 val_loss 2.1517 train_acc 0.4109 val_acc 0.4179\n"
     ]
    },
    {
     "name": "stderr",
     "output_type": "stream",
     "text": [
      "Epoch: 100%|██████████| 129/129 [00:17<00:00,  7.23it/s]\n",
      "Epoch:   1%|          | 1/129 [00:00<00:19,  6.57it/s]"
     ]
    },
    {
     "name": "stdout",
     "output_type": "stream",
     "text": [
      "\n",
      "Epoch 003 train_loss: 2.1074 val_loss 2.1505 train_acc 0.4114 val_acc 0.4157\n"
     ]
    },
    {
     "name": "stderr",
     "output_type": "stream",
     "text": [
      "Epoch: 100%|██████████| 129/129 [00:17<00:00,  7.34it/s]\n",
      "Epoch:   1%|          | 1/129 [00:00<00:17,  7.51it/s]"
     ]
    },
    {
     "name": "stdout",
     "output_type": "stream",
     "text": [
      "\n",
      "Epoch 004 train_loss: 2.1009 val_loss 2.1489 train_acc 0.4150 val_acc 0.4172\n"
     ]
    },
    {
     "name": "stderr",
     "output_type": "stream",
     "text": [
      "Epoch: 100%|██████████| 129/129 [00:17<00:00,  7.17it/s]\n",
      "Epoch:   1%|          | 1/129 [00:00<00:17,  7.49it/s]"
     ]
    },
    {
     "name": "stdout",
     "output_type": "stream",
     "text": [
      "\n",
      "Epoch 005 train_loss: 2.0956 val_loss 2.1439 train_acc 0.4185 val_acc 0.4182\n"
     ]
    },
    {
     "name": "stderr",
     "output_type": "stream",
     "text": [
      "Epoch: 100%|██████████| 129/129 [00:18<00:00,  6.90it/s]\n",
      "Epoch:   1%|          | 1/129 [00:00<00:18,  6.94it/s]"
     ]
    },
    {
     "name": "stdout",
     "output_type": "stream",
     "text": [
      "\n",
      "Epoch 006 train_loss: 2.1028 val_loss 2.1622 train_acc 0.4071 val_acc 0.4102\n"
     ]
    },
    {
     "name": "stderr",
     "output_type": "stream",
     "text": [
      "Epoch: 100%|██████████| 129/129 [00:17<00:00,  7.20it/s]\n",
      "Epoch:   1%|          | 1/129 [00:00<00:17,  7.40it/s]"
     ]
    },
    {
     "name": "stdout",
     "output_type": "stream",
     "text": [
      "\n",
      "Epoch 007 train_loss: 2.0962 val_loss 2.1566 train_acc 0.4151 val_acc 0.4124\n"
     ]
    },
    {
     "name": "stderr",
     "output_type": "stream",
     "text": [
      "Epoch: 100%|██████████| 129/129 [00:28<00:00,  4.61it/s]\n",
      "Epoch:   1%|          | 1/129 [00:00<00:19,  6.46it/s]"
     ]
    },
    {
     "name": "stdout",
     "output_type": "stream",
     "text": [
      "\n",
      "Epoch 008 train_loss: 2.0922 val_loss 2.1472 train_acc 0.4174 val_acc 0.4172\n"
     ]
    },
    {
     "name": "stderr",
     "output_type": "stream",
     "text": [
      "Epoch: 100%|██████████| 129/129 [00:27<00:00,  4.40it/s]\n",
      "Epoch:   1%|          | 1/129 [00:00<00:24,  5.13it/s]"
     ]
    },
    {
     "name": "stdout",
     "output_type": "stream",
     "text": [
      "\n",
      "Epoch 009 train_loss: 2.0938 val_loss 2.1374 train_acc 0.4116 val_acc 0.4204\n"
     ]
    },
    {
     "name": "stderr",
     "output_type": "stream",
     "text": [
      "Epoch: 100%|██████████| 129/129 [00:24<00:00,  5.16it/s]\n",
      "Epoch:   1%|          | 1/129 [00:00<00:17,  7.34it/s]"
     ]
    },
    {
     "name": "stdout",
     "output_type": "stream",
     "text": [
      "\n",
      "Epoch 010 train_loss: 2.0933 val_loss 2.1315 train_acc 0.4153 val_acc 0.4234\n"
     ]
    },
    {
     "name": "stderr",
     "output_type": "stream",
     "text": [
      "Epoch: 100%|██████████| 129/129 [00:18<00:00,  6.89it/s]\n",
      "Epoch:   1%|          | 1/129 [00:00<00:16,  7.65it/s]"
     ]
    },
    {
     "name": "stdout",
     "output_type": "stream",
     "text": [
      "\n",
      "Epoch 011 train_loss: 2.0832 val_loss 2.1759 train_acc 0.4142 val_acc 0.4073\n"
     ]
    },
    {
     "name": "stderr",
     "output_type": "stream",
     "text": [
      "Epoch: 100%|██████████| 129/129 [00:30<00:00,  4.22it/s]\n",
      "Epoch:   1%|          | 1/129 [00:00<00:16,  7.54it/s]"
     ]
    },
    {
     "name": "stdout",
     "output_type": "stream",
     "text": [
      "\n",
      "Epoch 012 train_loss: 2.0855 val_loss 2.1416 train_acc 0.4185 val_acc 0.4186\n"
     ]
    },
    {
     "name": "stderr",
     "output_type": "stream",
     "text": [
      "Epoch: 100%|██████████| 129/129 [00:29<00:00,  4.44it/s]\n",
      "Epoch:   1%|          | 1/129 [00:00<00:17,  7.47it/s]"
     ]
    },
    {
     "name": "stdout",
     "output_type": "stream",
     "text": [
      "\n",
      "Epoch 013 train_loss: 2.0885 val_loss 2.1230 train_acc 0.4163 val_acc 0.4270\n"
     ]
    },
    {
     "name": "stderr",
     "output_type": "stream",
     "text": [
      "Epoch: 100%|██████████| 129/129 [00:24<00:00,  5.35it/s]\n",
      "Epoch:   1%|          | 1/129 [00:00<00:17,  7.41it/s]"
     ]
    },
    {
     "name": "stdout",
     "output_type": "stream",
     "text": [
      "\n",
      "Epoch 014 train_loss: 2.0835 val_loss 2.1220 train_acc 0.4169 val_acc 0.4241\n"
     ]
    },
    {
     "name": "stderr",
     "output_type": "stream",
     "text": [
      "Epoch: 100%|██████████| 129/129 [00:17<00:00,  7.24it/s]\n",
      "Epoch:   1%|          | 1/129 [00:00<00:19,  6.65it/s]"
     ]
    },
    {
     "name": "stdout",
     "output_type": "stream",
     "text": [
      "\n",
      "Epoch 015 train_loss: 2.0792 val_loss 2.1302 train_acc 0.4158 val_acc 0.4241\n"
     ]
    },
    {
     "name": "stderr",
     "output_type": "stream",
     "text": [
      "Epoch: 100%|██████████| 129/129 [00:31<00:00,  4.12it/s]\n",
      "Epoch:   1%|          | 1/129 [00:00<00:16,  7.70it/s]"
     ]
    },
    {
     "name": "stdout",
     "output_type": "stream",
     "text": [
      "\n",
      "Epoch 016 train_loss: 2.0782 val_loss 2.1392 train_acc 0.4231 val_acc 0.4193\n"
     ]
    },
    {
     "name": "stderr",
     "output_type": "stream",
     "text": [
      "Epoch: 100%|██████████| 129/129 [00:31<00:00,  4.15it/s]\n",
      "Epoch:   1%|          | 1/129 [00:00<00:17,  7.37it/s]"
     ]
    },
    {
     "name": "stdout",
     "output_type": "stream",
     "text": [
      "\n",
      "Epoch 017 train_loss: 2.0750 val_loss 2.1173 train_acc 0.4234 val_acc 0.4259\n"
     ]
    },
    {
     "name": "stderr",
     "output_type": "stream",
     "text": [
      "Epoch: 100%|██████████| 129/129 [00:31<00:00,  4.04it/s]\n",
      "Epoch:   1%|          | 1/129 [00:00<00:20,  6.38it/s]"
     ]
    },
    {
     "name": "stdout",
     "output_type": "stream",
     "text": [
      "\n",
      "Epoch 018 train_loss: 2.0800 val_loss 2.1213 train_acc 0.4174 val_acc 0.4241\n"
     ]
    },
    {
     "name": "stderr",
     "output_type": "stream",
     "text": [
      "Epoch: 100%|██████████| 129/129 [00:18<00:00,  7.10it/s]\n",
      "Epoch:   1%|          | 1/129 [00:00<00:20,  6.33it/s]"
     ]
    },
    {
     "name": "stdout",
     "output_type": "stream",
     "text": [
      "\n",
      "Epoch 019 train_loss: 2.0677 val_loss 2.1169 train_acc 0.4231 val_acc 0.4288\n"
     ]
    },
    {
     "name": "stderr",
     "output_type": "stream",
     "text": [
      "Epoch: 100%|██████████| 129/129 [00:17<00:00,  7.28it/s]\n",
      "Epoch:   1%|          | 1/129 [00:00<00:17,  7.25it/s]"
     ]
    },
    {
     "name": "stdout",
     "output_type": "stream",
     "text": [
      "\n",
      "Epoch 020 train_loss: 2.0583 val_loss 2.1212 train_acc 0.4292 val_acc 0.4270\n"
     ]
    },
    {
     "name": "stderr",
     "output_type": "stream",
     "text": [
      "Epoch: 100%|██████████| 129/129 [00:17<00:00,  7.22it/s]\n",
      "Epoch:   1%|          | 1/129 [00:00<00:18,  6.81it/s]"
     ]
    },
    {
     "name": "stdout",
     "output_type": "stream",
     "text": [
      "\n",
      "Epoch 021 train_loss: 2.0677 val_loss 2.1256 train_acc 0.4209 val_acc 0.4168\n"
     ]
    },
    {
     "name": "stderr",
     "output_type": "stream",
     "text": [
      "Epoch: 100%|██████████| 129/129 [00:18<00:00,  7.12it/s]\n",
      "Epoch:   1%|          | 1/129 [00:00<00:16,  7.59it/s]"
     ]
    },
    {
     "name": "stdout",
     "output_type": "stream",
     "text": [
      "\n",
      "Epoch 022 train_loss: 2.0704 val_loss 2.1204 train_acc 0.4226 val_acc 0.4252\n"
     ]
    },
    {
     "name": "stderr",
     "output_type": "stream",
     "text": [
      "Epoch: 100%|██████████| 129/129 [00:17<00:00,  7.31it/s]\n",
      "Epoch:   1%|          | 1/129 [00:00<00:16,  7.63it/s]"
     ]
    },
    {
     "name": "stdout",
     "output_type": "stream",
     "text": [
      "\n",
      "Epoch 023 train_loss: 2.0604 val_loss 2.1085 train_acc 0.4217 val_acc 0.4266\n"
     ]
    },
    {
     "name": "stderr",
     "output_type": "stream",
     "text": [
      "Epoch: 100%|██████████| 129/129 [00:17<00:00,  7.34it/s]\n",
      "Epoch:   1%|          | 1/129 [00:00<00:16,  7.66it/s]"
     ]
    },
    {
     "name": "stdout",
     "output_type": "stream",
     "text": [
      "\n",
      "Epoch 024 train_loss: 2.0654 val_loss 2.1058 train_acc 0.4247 val_acc 0.4314\n"
     ]
    },
    {
     "name": "stderr",
     "output_type": "stream",
     "text": [
      "Epoch: 100%|██████████| 129/129 [00:18<00:00,  7.15it/s]\n",
      "Epoch:   1%|          | 1/129 [00:00<00:16,  7.60it/s]"
     ]
    },
    {
     "name": "stdout",
     "output_type": "stream",
     "text": [
      "\n",
      "Epoch 025 train_loss: 2.0552 val_loss 2.1280 train_acc 0.4253 val_acc 0.4201\n"
     ]
    },
    {
     "name": "stderr",
     "output_type": "stream",
     "text": [
      "Epoch: 100%|██████████| 129/129 [00:18<00:00,  7.11it/s]\n",
      "Epoch:   1%|          | 1/129 [00:00<00:17,  7.34it/s]"
     ]
    },
    {
     "name": "stdout",
     "output_type": "stream",
     "text": [
      "\n",
      "Epoch 026 train_loss: 2.0457 val_loss 2.1146 train_acc 0.4288 val_acc 0.4259\n"
     ]
    },
    {
     "name": "stderr",
     "output_type": "stream",
     "text": [
      "Epoch: 100%|██████████| 129/129 [00:17<00:00,  7.26it/s]\n",
      "Epoch:   1%|          | 1/129 [00:00<00:16,  7.55it/s]"
     ]
    },
    {
     "name": "stdout",
     "output_type": "stream",
     "text": [
      "\n",
      "Epoch 027 train_loss: 2.0444 val_loss 2.1086 train_acc 0.4274 val_acc 0.4285\n"
     ]
    },
    {
     "name": "stderr",
     "output_type": "stream",
     "text": [
      "Epoch: 100%|██████████| 129/129 [00:17<00:00,  7.19it/s]\n",
      "Epoch:   1%|          | 1/129 [00:00<00:16,  7.65it/s]"
     ]
    },
    {
     "name": "stdout",
     "output_type": "stream",
     "text": [
      "\n",
      "Epoch 028 train_loss: 2.0536 val_loss 2.1141 train_acc 0.4328 val_acc 0.4237\n"
     ]
    },
    {
     "name": "stderr",
     "output_type": "stream",
     "text": [
      "Epoch: 100%|██████████| 129/129 [00:17<00:00,  7.26it/s]\n",
      "Epoch:   1%|          | 1/129 [00:00<00:17,  7.20it/s]"
     ]
    },
    {
     "name": "stdout",
     "output_type": "stream",
     "text": [
      "\n",
      "Epoch 029 train_loss: 2.0547 val_loss 2.1115 train_acc 0.4271 val_acc 0.4292\n"
     ]
    },
    {
     "name": "stderr",
     "output_type": "stream",
     "text": [
      "Epoch: 100%|██████████| 129/129 [00:18<00:00,  7.09it/s]\n"
     ]
    },
    {
     "name": "stdout",
     "output_type": "stream",
     "text": [
      "\n",
      "Epoch 030 train_loss: 2.0436 val_loss 2.1107 train_acc 0.4232 val_acc 0.4252\n"
     ]
    }
   ],
   "source": [
    "optim = torch.optim.SGD(CNN.parameters(), lr=0.0002)\n",
    "criterion = nn.CrossEntropyLoss()\n",
    "\n",
    "history = train(train_dataset, val_dataset, model=CNN,  optim=optim,\n",
    "                criterion=criterion, epochs=30, batch_size=64, device=DEVICE)"
   ]
  },
  {
   "cell_type": "code",
   "execution_count": 22,
   "metadata": {
    "scrolled": true
   },
   "outputs": [
    {
     "name": "stderr",
     "output_type": "stream",
     "text": [
      "Epoch: 100%|██████████| 65/65 [00:19<00:00,  3.40it/s]\n",
      "Epoch:   0%|          | 0/65 [00:00<?, ?it/s]"
     ]
    },
    {
     "name": "stdout",
     "output_type": "stream",
     "text": [
      "\n",
      "Epoch 001 train_loss: 2.0399 val_loss 2.1012 train_acc 0.4303 val_acc 0.4299\n"
     ]
    },
    {
     "name": "stderr",
     "output_type": "stream",
     "text": [
      "Epoch: 100%|██████████| 65/65 [00:19<00:00,  3.39it/s]\n",
      "Epoch:   0%|          | 0/65 [00:00<?, ?it/s]"
     ]
    },
    {
     "name": "stdout",
     "output_type": "stream",
     "text": [
      "\n",
      "Epoch 002 train_loss: 2.0353 val_loss 2.1105 train_acc 0.4335 val_acc 0.4292\n"
     ]
    },
    {
     "name": "stderr",
     "output_type": "stream",
     "text": [
      "Epoch: 100%|██████████| 65/65 [00:18<00:00,  3.44it/s]\n",
      "Epoch:   0%|          | 0/65 [00:00<?, ?it/s]"
     ]
    },
    {
     "name": "stdout",
     "output_type": "stream",
     "text": [
      "\n",
      "Epoch 003 train_loss: 2.0418 val_loss 2.1124 train_acc 0.4298 val_acc 0.4252\n"
     ]
    },
    {
     "name": "stderr",
     "output_type": "stream",
     "text": [
      "Epoch: 100%|██████████| 65/65 [00:19<00:00,  3.94it/s]\n",
      "Epoch:   0%|          | 0/65 [00:00<?, ?it/s]"
     ]
    },
    {
     "name": "stdout",
     "output_type": "stream",
     "text": [
      "\n",
      "Epoch 004 train_loss: 2.0391 val_loss 2.0947 train_acc 0.4282 val_acc 0.4274\n"
     ]
    },
    {
     "name": "stderr",
     "output_type": "stream",
     "text": [
      "Epoch: 100%|██████████| 65/65 [00:19<00:00,  3.39it/s]\n",
      "Epoch:   0%|          | 0/65 [00:00<?, ?it/s]"
     ]
    },
    {
     "name": "stdout",
     "output_type": "stream",
     "text": [
      "\n",
      "Epoch 005 train_loss: 2.0406 val_loss 2.1051 train_acc 0.4276 val_acc 0.4266\n"
     ]
    },
    {
     "name": "stderr",
     "output_type": "stream",
     "text": [
      "Epoch: 100%|██████████| 65/65 [00:18<00:00,  3.52it/s]\n",
      "Epoch:   0%|          | 0/65 [00:00<?, ?it/s]"
     ]
    },
    {
     "name": "stdout",
     "output_type": "stream",
     "text": [
      "\n",
      "Epoch 006 train_loss: 2.0349 val_loss 2.0990 train_acc 0.4335 val_acc 0.4285\n"
     ]
    },
    {
     "name": "stderr",
     "output_type": "stream",
     "text": [
      "Epoch: 100%|██████████| 65/65 [00:18<00:00,  3.45it/s]\n",
      "Epoch:   0%|          | 0/65 [00:00<?, ?it/s]"
     ]
    },
    {
     "name": "stdout",
     "output_type": "stream",
     "text": [
      "\n",
      "Epoch 007 train_loss: 2.0314 val_loss 2.0966 train_acc 0.4342 val_acc 0.4307\n"
     ]
    },
    {
     "name": "stderr",
     "output_type": "stream",
     "text": [
      "Epoch: 100%|██████████| 65/65 [00:18<00:00,  3.46it/s]\n",
      "Epoch:   0%|          | 0/65 [00:00<?, ?it/s]"
     ]
    },
    {
     "name": "stdout",
     "output_type": "stream",
     "text": [
      "\n",
      "Epoch 008 train_loss: 2.0354 val_loss 2.1326 train_acc 0.4282 val_acc 0.4215\n"
     ]
    },
    {
     "name": "stderr",
     "output_type": "stream",
     "text": [
      "Epoch: 100%|██████████| 65/65 [00:18<00:00,  3.51it/s]\n",
      "Epoch:   0%|          | 0/65 [00:00<?, ?it/s]"
     ]
    },
    {
     "name": "stdout",
     "output_type": "stream",
     "text": [
      "\n",
      "Epoch 009 train_loss: 2.0306 val_loss 2.0853 train_acc 0.4371 val_acc 0.4336\n"
     ]
    },
    {
     "name": "stderr",
     "output_type": "stream",
     "text": [
      "Epoch: 100%|██████████| 65/65 [00:18<00:00,  3.46it/s]\n",
      "Epoch:   0%|          | 0/65 [00:00<?, ?it/s]"
     ]
    },
    {
     "name": "stdout",
     "output_type": "stream",
     "text": [
      "\n",
      "Epoch 010 train_loss: 2.0327 val_loss 2.1061 train_acc 0.4286 val_acc 0.4274\n"
     ]
    },
    {
     "name": "stderr",
     "output_type": "stream",
     "text": [
      "Epoch: 100%|██████████| 65/65 [00:18<00:00,  3.46it/s]\n",
      "Epoch:   0%|          | 0/65 [00:00<?, ?it/s]"
     ]
    },
    {
     "name": "stdout",
     "output_type": "stream",
     "text": [
      "\n",
      "Epoch 011 train_loss: 2.0395 val_loss 2.0977 train_acc 0.4281 val_acc 0.4299\n"
     ]
    },
    {
     "name": "stderr",
     "output_type": "stream",
     "text": [
      "Epoch: 100%|██████████| 65/65 [00:18<00:00,  3.46it/s]\n",
      "Epoch:   0%|          | 0/65 [00:00<?, ?it/s]"
     ]
    },
    {
     "name": "stdout",
     "output_type": "stream",
     "text": [
      "\n",
      "Epoch 012 train_loss: 2.0415 val_loss 2.0894 train_acc 0.4285 val_acc 0.4314\n"
     ]
    },
    {
     "name": "stderr",
     "output_type": "stream",
     "text": [
      "Epoch: 100%|██████████| 65/65 [00:18<00:00,  3.49it/s]\n",
      "Epoch:   0%|          | 0/65 [00:00<?, ?it/s]"
     ]
    },
    {
     "name": "stdout",
     "output_type": "stream",
     "text": [
      "\n",
      "Epoch 013 train_loss: 2.0311 val_loss 2.0880 train_acc 0.4299 val_acc 0.4339\n"
     ]
    },
    {
     "name": "stderr",
     "output_type": "stream",
     "text": [
      "Epoch: 100%|██████████| 65/65 [00:18<00:00,  3.47it/s]\n",
      "Epoch:   0%|          | 0/65 [00:00<?, ?it/s]"
     ]
    },
    {
     "name": "stdout",
     "output_type": "stream",
     "text": [
      "\n",
      "Epoch 014 train_loss: 2.0283 val_loss 2.0874 train_acc 0.4397 val_acc 0.4350\n"
     ]
    },
    {
     "name": "stderr",
     "output_type": "stream",
     "text": [
      "Epoch: 100%|██████████| 65/65 [00:18<00:00,  3.49it/s]\n",
      "Epoch:   0%|          | 0/65 [00:00<?, ?it/s]"
     ]
    },
    {
     "name": "stdout",
     "output_type": "stream",
     "text": [
      "\n",
      "Epoch 015 train_loss: 2.0228 val_loss 2.0900 train_acc 0.4372 val_acc 0.4321\n"
     ]
    },
    {
     "name": "stderr",
     "output_type": "stream",
     "text": [
      "Epoch: 100%|██████████| 65/65 [00:18<00:00,  3.42it/s]\n",
      "Epoch:   0%|          | 0/65 [00:00<?, ?it/s]"
     ]
    },
    {
     "name": "stdout",
     "output_type": "stream",
     "text": [
      "\n",
      "Epoch 016 train_loss: 2.0238 val_loss 2.0856 train_acc 0.4376 val_acc 0.4325\n"
     ]
    },
    {
     "name": "stderr",
     "output_type": "stream",
     "text": [
      "Epoch: 100%|██████████| 65/65 [00:19<00:00,  3.41it/s]\n",
      "Epoch:   0%|          | 0/65 [00:00<?, ?it/s]"
     ]
    },
    {
     "name": "stdout",
     "output_type": "stream",
     "text": [
      "\n",
      "Epoch 017 train_loss: 2.0258 val_loss 2.0827 train_acc 0.4325 val_acc 0.4343\n"
     ]
    },
    {
     "name": "stderr",
     "output_type": "stream",
     "text": [
      "Epoch: 100%|██████████| 65/65 [00:18<00:00,  3.44it/s]\n",
      "Epoch:   0%|          | 0/65 [00:00<?, ?it/s]"
     ]
    },
    {
     "name": "stdout",
     "output_type": "stream",
     "text": [
      "\n",
      "Epoch 018 train_loss: 2.0286 val_loss 2.0886 train_acc 0.4300 val_acc 0.4365\n"
     ]
    },
    {
     "name": "stderr",
     "output_type": "stream",
     "text": [
      "Epoch: 100%|██████████| 65/65 [00:18<00:00,  3.43it/s]\n",
      "Epoch:   0%|          | 0/65 [00:00<?, ?it/s]"
     ]
    },
    {
     "name": "stdout",
     "output_type": "stream",
     "text": [
      "\n",
      "Epoch 019 train_loss: 2.0160 val_loss 2.0849 train_acc 0.4408 val_acc 0.4318\n"
     ]
    },
    {
     "name": "stderr",
     "output_type": "stream",
     "text": [
      "Epoch: 100%|██████████| 65/65 [00:19<00:00,  3.37it/s]\n",
      "Epoch:   0%|          | 0/65 [00:00<?, ?it/s]"
     ]
    },
    {
     "name": "stdout",
     "output_type": "stream",
     "text": [
      "\n",
      "Epoch 020 train_loss: 2.0231 val_loss 2.0870 train_acc 0.4394 val_acc 0.4321\n"
     ]
    },
    {
     "name": "stderr",
     "output_type": "stream",
     "text": [
      "Epoch: 100%|██████████| 65/65 [00:18<00:00,  3.45it/s]\n",
      "Epoch:   0%|          | 0/65 [00:00<?, ?it/s]"
     ]
    },
    {
     "name": "stdout",
     "output_type": "stream",
     "text": [
      "\n",
      "Epoch 021 train_loss: 2.0197 val_loss 2.0771 train_acc 0.4395 val_acc 0.4365\n"
     ]
    },
    {
     "name": "stderr",
     "output_type": "stream",
     "text": [
      "Epoch: 100%|██████████| 65/65 [00:18<00:00,  3.48it/s]\n",
      "Epoch:   0%|          | 0/65 [00:00<?, ?it/s]"
     ]
    },
    {
     "name": "stdout",
     "output_type": "stream",
     "text": [
      "\n",
      "Epoch 022 train_loss: 2.0195 val_loss 2.1052 train_acc 0.4330 val_acc 0.4307\n"
     ]
    },
    {
     "name": "stderr",
     "output_type": "stream",
     "text": [
      "Epoch: 100%|██████████| 65/65 [00:18<00:00,  3.46it/s]\n",
      "Epoch:   0%|          | 0/65 [00:00<?, ?it/s]"
     ]
    },
    {
     "name": "stdout",
     "output_type": "stream",
     "text": [
      "\n",
      "Epoch 023 train_loss: 2.0136 val_loss 2.0934 train_acc 0.4381 val_acc 0.4347\n"
     ]
    },
    {
     "name": "stderr",
     "output_type": "stream",
     "text": [
      "Epoch: 100%|██████████| 65/65 [00:18<00:00,  3.44it/s]\n",
      "Epoch:   0%|          | 0/65 [00:00<?, ?it/s]"
     ]
    },
    {
     "name": "stdout",
     "output_type": "stream",
     "text": [
      "\n",
      "Epoch 024 train_loss: 2.0163 val_loss 2.0991 train_acc 0.4442 val_acc 0.4318\n"
     ]
    },
    {
     "name": "stderr",
     "output_type": "stream",
     "text": [
      "Epoch: 100%|██████████| 65/65 [00:18<00:00,  3.48it/s]\n",
      "Epoch:   0%|          | 0/65 [00:00<?, ?it/s]"
     ]
    },
    {
     "name": "stdout",
     "output_type": "stream",
     "text": [
      "\n",
      "Epoch 025 train_loss: 2.0100 val_loss 2.1050 train_acc 0.4401 val_acc 0.4299\n"
     ]
    },
    {
     "name": "stderr",
     "output_type": "stream",
     "text": [
      "Epoch: 100%|██████████| 65/65 [00:18<00:00,  3.46it/s]\n",
      "Epoch:   0%|          | 0/65 [00:00<?, ?it/s]"
     ]
    },
    {
     "name": "stdout",
     "output_type": "stream",
     "text": [
      "\n",
      "Epoch 026 train_loss: 2.0183 val_loss 2.0841 train_acc 0.4367 val_acc 0.4376\n"
     ]
    },
    {
     "name": "stderr",
     "output_type": "stream",
     "text": [
      "Epoch: 100%|██████████| 65/65 [00:18<00:00,  3.45it/s]\n",
      "Epoch:   0%|          | 0/65 [00:00<?, ?it/s]"
     ]
    },
    {
     "name": "stdout",
     "output_type": "stream",
     "text": [
      "\n",
      "Epoch 027 train_loss: 2.0163 val_loss 2.0874 train_acc 0.4331 val_acc 0.4372\n"
     ]
    },
    {
     "name": "stderr",
     "output_type": "stream",
     "text": [
      "Epoch: 100%|██████████| 65/65 [00:18<00:00,  3.42it/s]\n",
      "Epoch:   0%|          | 0/65 [00:00<?, ?it/s]"
     ]
    },
    {
     "name": "stdout",
     "output_type": "stream",
     "text": [
      "\n",
      "Epoch 028 train_loss: 2.0102 val_loss 2.1065 train_acc 0.4365 val_acc 0.4270\n"
     ]
    },
    {
     "name": "stderr",
     "output_type": "stream",
     "text": [
      "Epoch: 100%|██████████| 65/65 [00:18<00:00,  3.47it/s]\n",
      "Epoch:   0%|          | 0/65 [00:00<?, ?it/s]"
     ]
    },
    {
     "name": "stdout",
     "output_type": "stream",
     "text": [
      "\n",
      "Epoch 029 train_loss: 2.0099 val_loss 2.0956 train_acc 0.4376 val_acc 0.4321\n"
     ]
    },
    {
     "name": "stderr",
     "output_type": "stream",
     "text": [
      "Epoch: 100%|██████████| 65/65 [00:18<00:00,  3.51it/s]\n"
     ]
    },
    {
     "name": "stdout",
     "output_type": "stream",
     "text": [
      "\n",
      "Epoch 030 train_loss: 2.0090 val_loss 2.0718 train_acc 0.4378 val_acc 0.4369\n"
     ]
    }
   ],
   "source": [
    "optim = torch.optim.SGD(CNN.parameters(), lr=0.0002)\n",
    "criterion = nn.CrossEntropyLoss()\n",
    "\n",
    "history = train(train_dataset, val_dataset, model=CNN,  optim=optim,\n",
    "                criterion=criterion, epochs=30, batch_size=128, device=DEVICE)"
   ]
  },
  {
   "cell_type": "code",
   "execution_count": 23,
   "metadata": {
    "scrolled": true
   },
   "outputs": [
    {
     "name": "stderr",
     "output_type": "stream",
     "text": [
      "Epoch: 100%|██████████| 65/65 [00:19<00:00,  3.41it/s]\n",
      "Epoch:   0%|          | 0/65 [00:00<?, ?it/s]"
     ]
    },
    {
     "name": "stdout",
     "output_type": "stream",
     "text": [
      "\n",
      "Epoch 001 train_loss: 2.0108 val_loss 2.0739 train_acc 0.4388 val_acc 0.4365\n"
     ]
    },
    {
     "name": "stderr",
     "output_type": "stream",
     "text": [
      "Epoch: 100%|██████████| 65/65 [00:18<00:00,  3.44it/s]\n",
      "Epoch:   0%|          | 0/65 [00:00<?, ?it/s]"
     ]
    },
    {
     "name": "stdout",
     "output_type": "stream",
     "text": [
      "\n",
      "Epoch 002 train_loss: 2.0064 val_loss 2.0867 train_acc 0.4401 val_acc 0.4307\n"
     ]
    },
    {
     "name": "stderr",
     "output_type": "stream",
     "text": [
      "Epoch: 100%|██████████| 65/65 [00:18<00:00,  3.45it/s]\n",
      "Epoch:   0%|          | 0/65 [00:00<?, ?it/s]"
     ]
    },
    {
     "name": "stdout",
     "output_type": "stream",
     "text": [
      "\n",
      "Epoch 003 train_loss: 2.0169 val_loss 2.1046 train_acc 0.4395 val_acc 0.4255\n"
     ]
    },
    {
     "name": "stderr",
     "output_type": "stream",
     "text": [
      "Epoch: 100%|██████████| 65/65 [00:18<00:00,  3.45it/s]\n",
      "Epoch:   0%|          | 0/65 [00:00<?, ?it/s]"
     ]
    },
    {
     "name": "stdout",
     "output_type": "stream",
     "text": [
      "\n",
      "Epoch 004 train_loss: 2.0079 val_loss 2.1135 train_acc 0.4375 val_acc 0.4270\n"
     ]
    },
    {
     "name": "stderr",
     "output_type": "stream",
     "text": [
      "Epoch: 100%|██████████| 65/65 [00:19<00:00,  3.36it/s]\n",
      "Epoch:   0%|          | 0/65 [00:00<?, ?it/s]"
     ]
    },
    {
     "name": "stdout",
     "output_type": "stream",
     "text": [
      "\n",
      "Epoch 005 train_loss: 1.9973 val_loss 2.0791 train_acc 0.4431 val_acc 0.4398\n"
     ]
    },
    {
     "name": "stderr",
     "output_type": "stream",
     "text": [
      "Epoch: 100%|██████████| 65/65 [00:19<00:00,  3.36it/s]\n",
      "Epoch:   0%|          | 0/65 [00:00<?, ?it/s]"
     ]
    },
    {
     "name": "stdout",
     "output_type": "stream",
     "text": [
      "\n",
      "Epoch 006 train_loss: 2.0021 val_loss 2.0788 train_acc 0.4416 val_acc 0.4307\n"
     ]
    },
    {
     "name": "stderr",
     "output_type": "stream",
     "text": [
      "Epoch: 100%|██████████| 65/65 [00:18<00:00,  3.50it/s]\n",
      "Epoch:   0%|          | 0/65 [00:00<?, ?it/s]"
     ]
    },
    {
     "name": "stdout",
     "output_type": "stream",
     "text": [
      "\n",
      "Epoch 007 train_loss: 1.9916 val_loss 2.0841 train_acc 0.4393 val_acc 0.4248\n"
     ]
    },
    {
     "name": "stderr",
     "output_type": "stream",
     "text": [
      "Epoch: 100%|██████████| 65/65 [00:18<00:00,  3.50it/s]\n",
      "Epoch:   0%|          | 0/65 [00:00<?, ?it/s]"
     ]
    },
    {
     "name": "stdout",
     "output_type": "stream",
     "text": [
      "\n",
      "Epoch 008 train_loss: 1.9997 val_loss 2.0896 train_acc 0.4380 val_acc 0.4336\n"
     ]
    },
    {
     "name": "stderr",
     "output_type": "stream",
     "text": [
      "Epoch: 100%|██████████| 65/65 [00:18<00:00,  3.49it/s]\n",
      "Epoch:   0%|          | 0/65 [00:00<?, ?it/s]"
     ]
    },
    {
     "name": "stdout",
     "output_type": "stream",
     "text": [
      "\n",
      "Epoch 009 train_loss: 2.0001 val_loss 2.0545 train_acc 0.4442 val_acc 0.4456\n"
     ]
    },
    {
     "name": "stderr",
     "output_type": "stream",
     "text": [
      "Epoch: 100%|██████████| 65/65 [00:18<00:00,  3.50it/s]\n",
      "Epoch:   0%|          | 0/65 [00:00<?, ?it/s]"
     ]
    },
    {
     "name": "stdout",
     "output_type": "stream",
     "text": [
      "\n",
      "Epoch 010 train_loss: 1.9935 val_loss 2.0695 train_acc 0.4457 val_acc 0.4412\n"
     ]
    },
    {
     "name": "stderr",
     "output_type": "stream",
     "text": [
      "Epoch: 100%|██████████| 65/65 [00:18<00:00,  3.49it/s]\n",
      "Epoch:   0%|          | 0/65 [00:00<?, ?it/s]"
     ]
    },
    {
     "name": "stdout",
     "output_type": "stream",
     "text": [
      "\n",
      "Epoch 011 train_loss: 1.9956 val_loss 2.0729 train_acc 0.4439 val_acc 0.4325\n"
     ]
    },
    {
     "name": "stderr",
     "output_type": "stream",
     "text": [
      "Epoch: 100%|██████████| 65/65 [00:18<00:00,  3.47it/s]\n",
      "Epoch:   0%|          | 0/65 [00:00<?, ?it/s]"
     ]
    },
    {
     "name": "stdout",
     "output_type": "stream",
     "text": [
      "\n",
      "Epoch 012 train_loss: 1.9887 val_loss 2.0575 train_acc 0.4484 val_acc 0.4431\n"
     ]
    },
    {
     "name": "stderr",
     "output_type": "stream",
     "text": [
      "Epoch: 100%|██████████| 65/65 [00:18<00:00,  3.42it/s]\n",
      "Epoch:   0%|          | 0/65 [00:00<?, ?it/s]"
     ]
    },
    {
     "name": "stdout",
     "output_type": "stream",
     "text": [
      "\n",
      "Epoch 013 train_loss: 1.9928 val_loss 2.0596 train_acc 0.4446 val_acc 0.4445\n"
     ]
    },
    {
     "name": "stderr",
     "output_type": "stream",
     "text": [
      "Epoch: 100%|██████████| 65/65 [00:19<00:00,  3.42it/s]\n",
      "Epoch:   0%|          | 0/65 [00:00<?, ?it/s]"
     ]
    },
    {
     "name": "stdout",
     "output_type": "stream",
     "text": [
      "\n",
      "Epoch 014 train_loss: 1.9944 val_loss 2.0769 train_acc 0.4420 val_acc 0.4369\n"
     ]
    },
    {
     "name": "stderr",
     "output_type": "stream",
     "text": [
      "Epoch: 100%|██████████| 65/65 [00:19<00:00,  3.38it/s]\n",
      "Epoch:   0%|          | 0/65 [00:00<?, ?it/s]"
     ]
    },
    {
     "name": "stdout",
     "output_type": "stream",
     "text": [
      "\n",
      "Epoch 015 train_loss: 1.9910 val_loss 2.0670 train_acc 0.4437 val_acc 0.4434\n"
     ]
    },
    {
     "name": "stderr",
     "output_type": "stream",
     "text": [
      "Epoch: 100%|██████████| 65/65 [00:18<00:00,  3.42it/s]\n",
      "Epoch:   0%|          | 0/65 [00:00<?, ?it/s]"
     ]
    },
    {
     "name": "stdout",
     "output_type": "stream",
     "text": [
      "\n",
      "Epoch 016 train_loss: 1.9894 val_loss 2.0557 train_acc 0.4388 val_acc 0.4369\n"
     ]
    },
    {
     "name": "stderr",
     "output_type": "stream",
     "text": [
      "Epoch: 100%|██████████| 65/65 [00:18<00:00,  3.43it/s]\n",
      "Epoch:   0%|          | 0/65 [00:00<?, ?it/s]"
     ]
    },
    {
     "name": "stdout",
     "output_type": "stream",
     "text": [
      "\n",
      "Epoch 017 train_loss: 1.9828 val_loss 2.0591 train_acc 0.4509 val_acc 0.4369\n"
     ]
    },
    {
     "name": "stderr",
     "output_type": "stream",
     "text": [
      "Epoch: 100%|██████████| 65/65 [00:18<00:00,  3.43it/s]\n",
      "Epoch:   0%|          | 0/65 [00:00<?, ?it/s]"
     ]
    },
    {
     "name": "stdout",
     "output_type": "stream",
     "text": [
      "\n",
      "Epoch 018 train_loss: 1.9900 val_loss 2.0542 train_acc 0.4417 val_acc 0.4412\n"
     ]
    },
    {
     "name": "stderr",
     "output_type": "stream",
     "text": [
      "Epoch: 100%|██████████| 65/65 [00:18<00:00,  3.46it/s]\n",
      "Epoch:   0%|          | 0/65 [00:00<?, ?it/s]"
     ]
    },
    {
     "name": "stdout",
     "output_type": "stream",
     "text": [
      "\n",
      "Epoch 019 train_loss: 1.9896 val_loss 2.0576 train_acc 0.4473 val_acc 0.4398\n"
     ]
    },
    {
     "name": "stderr",
     "output_type": "stream",
     "text": [
      "Epoch: 100%|██████████| 65/65 [00:19<00:00,  3.36it/s]\n",
      "Epoch:   0%|          | 0/65 [00:00<?, ?it/s]"
     ]
    },
    {
     "name": "stdout",
     "output_type": "stream",
     "text": [
      "\n",
      "Epoch 020 train_loss: 1.9778 val_loss 2.0568 train_acc 0.4476 val_acc 0.4434\n"
     ]
    },
    {
     "name": "stderr",
     "output_type": "stream",
     "text": [
      "Epoch: 100%|██████████| 65/65 [00:18<00:00,  3.47it/s]\n",
      "Epoch:   0%|          | 0/65 [00:00<?, ?it/s]"
     ]
    },
    {
     "name": "stdout",
     "output_type": "stream",
     "text": [
      "\n",
      "Epoch 021 train_loss: 1.9748 val_loss 2.0499 train_acc 0.4543 val_acc 0.4456\n"
     ]
    },
    {
     "name": "stderr",
     "output_type": "stream",
     "text": [
      "Epoch: 100%|██████████| 65/65 [00:18<00:00,  3.44it/s]\n",
      "Epoch:   0%|          | 0/65 [00:00<?, ?it/s]"
     ]
    },
    {
     "name": "stdout",
     "output_type": "stream",
     "text": [
      "\n",
      "Epoch 022 train_loss: 1.9872 val_loss 2.0756 train_acc 0.4504 val_acc 0.4255\n"
     ]
    },
    {
     "name": "stderr",
     "output_type": "stream",
     "text": [
      "Epoch: 100%|██████████| 65/65 [00:18<00:00,  3.55it/s]\n",
      "Epoch:   0%|          | 0/65 [00:00<?, ?it/s]"
     ]
    },
    {
     "name": "stdout",
     "output_type": "stream",
     "text": [
      "\n",
      "Epoch 023 train_loss: 1.9784 val_loss 2.0654 train_acc 0.4502 val_acc 0.4394\n"
     ]
    },
    {
     "name": "stderr",
     "output_type": "stream",
     "text": [
      "Epoch: 100%|██████████| 65/65 [00:18<00:00,  3.56it/s]\n",
      "Epoch:   0%|          | 0/65 [00:00<?, ?it/s]"
     ]
    },
    {
     "name": "stdout",
     "output_type": "stream",
     "text": [
      "\n",
      "Epoch 024 train_loss: 1.9758 val_loss 2.0838 train_acc 0.4541 val_acc 0.4332\n"
     ]
    },
    {
     "name": "stderr",
     "output_type": "stream",
     "text": [
      "Epoch: 100%|██████████| 65/65 [00:18<00:00,  3.52it/s]\n",
      "Epoch:   0%|          | 0/65 [00:00<?, ?it/s]"
     ]
    },
    {
     "name": "stdout",
     "output_type": "stream",
     "text": [
      "\n",
      "Epoch 025 train_loss: 1.9699 val_loss 2.0417 train_acc 0.4513 val_acc 0.4445\n"
     ]
    },
    {
     "name": "stderr",
     "output_type": "stream",
     "text": [
      "Epoch: 100%|██████████| 65/65 [00:18<00:00,  3.50it/s]\n",
      "Epoch:   0%|          | 0/65 [00:00<?, ?it/s]"
     ]
    },
    {
     "name": "stdout",
     "output_type": "stream",
     "text": [
      "\n",
      "Epoch 026 train_loss: 1.9729 val_loss 2.0827 train_acc 0.4481 val_acc 0.4361\n"
     ]
    },
    {
     "name": "stderr",
     "output_type": "stream",
     "text": [
      "Epoch: 100%|██████████| 65/65 [00:18<00:00,  3.49it/s]\n",
      "Epoch:   0%|          | 0/65 [00:00<?, ?it/s]"
     ]
    },
    {
     "name": "stdout",
     "output_type": "stream",
     "text": [
      "\n",
      "Epoch 027 train_loss: 1.9816 val_loss 2.0989 train_acc 0.4461 val_acc 0.4193\n"
     ]
    },
    {
     "name": "stderr",
     "output_type": "stream",
     "text": [
      "Epoch: 100%|██████████| 65/65 [00:18<00:00,  3.48it/s]\n",
      "Epoch:   0%|          | 0/65 [00:00<?, ?it/s]"
     ]
    },
    {
     "name": "stdout",
     "output_type": "stream",
     "text": [
      "\n",
      "Epoch 028 train_loss: 1.9732 val_loss 2.1063 train_acc 0.4485 val_acc 0.4296\n"
     ]
    },
    {
     "name": "stderr",
     "output_type": "stream",
     "text": [
      "Epoch: 100%|██████████| 65/65 [00:18<00:00,  3.49it/s]\n",
      "Epoch:   0%|          | 0/65 [00:00<?, ?it/s]"
     ]
    },
    {
     "name": "stdout",
     "output_type": "stream",
     "text": [
      "\n",
      "Epoch 029 train_loss: 1.9757 val_loss 2.0636 train_acc 0.4457 val_acc 0.4387\n"
     ]
    },
    {
     "name": "stderr",
     "output_type": "stream",
     "text": [
      "Epoch: 100%|██████████| 65/65 [00:28<00:00,  2.97it/s]\n",
      "Epoch:   0%|          | 0/65 [00:00<?, ?it/s]"
     ]
    },
    {
     "name": "stdout",
     "output_type": "stream",
     "text": [
      "\n",
      "Epoch 030 train_loss: 1.9685 val_loss 2.0689 train_acc 0.4510 val_acc 0.4398\n"
     ]
    },
    {
     "name": "stderr",
     "output_type": "stream",
     "text": [
      "Epoch: 100%|██████████| 65/65 [00:25<00:00,  2.59it/s]\n",
      "Epoch:   0%|          | 0/65 [00:00<?, ?it/s]"
     ]
    },
    {
     "name": "stdout",
     "output_type": "stream",
     "text": [
      "\n",
      "Epoch 031 train_loss: 1.9644 val_loss 2.0469 train_acc 0.4513 val_acc 0.4412\n"
     ]
    },
    {
     "name": "stderr",
     "output_type": "stream",
     "text": [
      "Epoch: 100%|██████████| 65/65 [00:24<00:00,  2.63it/s]\n",
      "Epoch:   0%|          | 0/65 [00:00<?, ?it/s]"
     ]
    },
    {
     "name": "stdout",
     "output_type": "stream",
     "text": [
      "\n",
      "Epoch 032 train_loss: 1.9640 val_loss 2.0269 train_acc 0.4504 val_acc 0.4485\n"
     ]
    },
    {
     "name": "stderr",
     "output_type": "stream",
     "text": [
      "Epoch: 100%|██████████| 65/65 [00:18<00:00,  3.49it/s]\n",
      "Epoch:   0%|          | 0/65 [00:00<?, ?it/s]"
     ]
    },
    {
     "name": "stdout",
     "output_type": "stream",
     "text": [
      "\n",
      "Epoch 033 train_loss: 1.9515 val_loss 2.0332 train_acc 0.4544 val_acc 0.4464\n"
     ]
    },
    {
     "name": "stderr",
     "output_type": "stream",
     "text": [
      "Epoch: 100%|██████████| 65/65 [00:18<00:00,  3.53it/s]\n",
      "Epoch:   0%|          | 0/65 [00:00<?, ?it/s]"
     ]
    },
    {
     "name": "stdout",
     "output_type": "stream",
     "text": [
      "\n",
      "Epoch 034 train_loss: 1.9488 val_loss 2.0250 train_acc 0.4558 val_acc 0.4518\n"
     ]
    },
    {
     "name": "stderr",
     "output_type": "stream",
     "text": [
      "Epoch: 100%|██████████| 65/65 [00:18<00:00,  3.52it/s]\n",
      "Epoch:   0%|          | 0/65 [00:00<?, ?it/s]"
     ]
    },
    {
     "name": "stdout",
     "output_type": "stream",
     "text": [
      "\n",
      "Epoch 035 train_loss: 1.9587 val_loss 2.0383 train_acc 0.4549 val_acc 0.4434\n"
     ]
    },
    {
     "name": "stderr",
     "output_type": "stream",
     "text": [
      "Epoch: 100%|██████████| 65/65 [00:18<00:00,  3.60it/s]\n",
      "Epoch:   0%|          | 0/65 [00:00<?, ?it/s]"
     ]
    },
    {
     "name": "stdout",
     "output_type": "stream",
     "text": [
      "\n",
      "Epoch 036 train_loss: 1.9585 val_loss 2.0881 train_acc 0.4521 val_acc 0.4307\n"
     ]
    },
    {
     "name": "stderr",
     "output_type": "stream",
     "text": [
      "Epoch: 100%|██████████| 65/65 [00:18<00:00,  3.56it/s]\n",
      "Epoch:   0%|          | 0/65 [00:00<?, ?it/s]"
     ]
    },
    {
     "name": "stdout",
     "output_type": "stream",
     "text": [
      "\n",
      "Epoch 037 train_loss: 1.9531 val_loss 2.0936 train_acc 0.4541 val_acc 0.4350\n"
     ]
    },
    {
     "name": "stderr",
     "output_type": "stream",
     "text": [
      "Epoch: 100%|██████████| 65/65 [00:31<00:00,  2.09it/s]\n",
      "Epoch:   0%|          | 0/65 [00:00<?, ?it/s]"
     ]
    },
    {
     "name": "stdout",
     "output_type": "stream",
     "text": [
      "\n",
      "Epoch 038 train_loss: 1.9590 val_loss 2.0393 train_acc 0.4527 val_acc 0.4438\n"
     ]
    },
    {
     "name": "stderr",
     "output_type": "stream",
     "text": [
      "Epoch: 100%|██████████| 65/65 [00:29<00:00,  2.20it/s]\n",
      "Epoch:   0%|          | 0/65 [00:00<?, ?it/s]"
     ]
    },
    {
     "name": "stdout",
     "output_type": "stream",
     "text": [
      "\n",
      "Epoch 039 train_loss: 1.9499 val_loss 2.0388 train_acc 0.4606 val_acc 0.4478\n"
     ]
    },
    {
     "name": "stderr",
     "output_type": "stream",
     "text": [
      "Epoch: 100%|██████████| 65/65 [00:24<00:00,  2.69it/s]\n"
     ]
    },
    {
     "name": "stdout",
     "output_type": "stream",
     "text": [
      "\n",
      "Epoch 040 train_loss: 1.9467 val_loss 2.0274 train_acc 0.4547 val_acc 0.4482\n"
     ]
    }
   ],
   "source": [
    "optim = torch.optim.SGD(CNN.parameters(), lr=0.0003)\n",
    "criterion = nn.CrossEntropyLoss()\n",
    "\n",
    "history = train(train_dataset, val_dataset, model=CNN,  optim=optim,\n",
    "                criterion=criterion, epochs=40, batch_size=128, device=DEVICE)"
   ]
  },
  {
   "cell_type": "code",
   "execution_count": 24,
   "metadata": {
    "scrolled": true
   },
   "outputs": [
    {
     "name": "stderr",
     "output_type": "stream",
     "text": [
      "Epoch: 100%|██████████| 129/129 [00:30<00:00,  4.17it/s]\n",
      "Epoch:   0%|          | 0/129 [00:00<?, ?it/s]"
     ]
    },
    {
     "name": "stdout",
     "output_type": "stream",
     "text": [
      "\n",
      "Epoch 001 train_loss: 1.9478 val_loss 2.0425 train_acc 0.4558 val_acc 0.4427\n"
     ]
    },
    {
     "name": "stderr",
     "output_type": "stream",
     "text": [
      "Epoch: 100%|██████████| 129/129 [00:25<00:00,  5.12it/s]\n",
      "Epoch:   1%|          | 1/129 [00:00<00:18,  6.90it/s]"
     ]
    },
    {
     "name": "stdout",
     "output_type": "stream",
     "text": [
      "\n",
      "Epoch 002 train_loss: 1.9460 val_loss 2.0365 train_acc 0.4616 val_acc 0.4471\n"
     ]
    },
    {
     "name": "stderr",
     "output_type": "stream",
     "text": [
      "Epoch: 100%|██████████| 129/129 [00:23<00:00,  5.48it/s]\n",
      "Epoch:   1%|          | 1/129 [00:00<00:18,  7.03it/s]"
     ]
    },
    {
     "name": "stdout",
     "output_type": "stream",
     "text": [
      "\n",
      "Epoch 003 train_loss: 1.9447 val_loss 2.0201 train_acc 0.4547 val_acc 0.4474\n"
     ]
    },
    {
     "name": "stderr",
     "output_type": "stream",
     "text": [
      "Epoch: 100%|██████████| 129/129 [00:17<00:00,  7.20it/s]\n",
      "Epoch:   1%|          | 1/129 [00:00<00:17,  7.18it/s]"
     ]
    },
    {
     "name": "stdout",
     "output_type": "stream",
     "text": [
      "\n",
      "Epoch 004 train_loss: 1.9458 val_loss 2.0310 train_acc 0.4557 val_acc 0.4474\n"
     ]
    },
    {
     "name": "stderr",
     "output_type": "stream",
     "text": [
      "Epoch: 100%|██████████| 129/129 [00:29<00:00,  4.37it/s]\n",
      "Epoch:   1%|          | 1/129 [00:00<00:18,  6.77it/s]"
     ]
    },
    {
     "name": "stdout",
     "output_type": "stream",
     "text": [
      "\n",
      "Epoch 005 train_loss: 1.9500 val_loss 2.0168 train_acc 0.4591 val_acc 0.4489\n"
     ]
    },
    {
     "name": "stderr",
     "output_type": "stream",
     "text": [
      "Epoch: 100%|██████████| 129/129 [00:30<00:00,  4.29it/s]\n",
      "Epoch:   1%|          | 1/129 [00:00<00:18,  7.08it/s]"
     ]
    },
    {
     "name": "stdout",
     "output_type": "stream",
     "text": [
      "\n",
      "Epoch 006 train_loss: 1.9440 val_loss 2.0315 train_acc 0.4543 val_acc 0.4471\n"
     ]
    },
    {
     "name": "stderr",
     "output_type": "stream",
     "text": [
      "Epoch: 100%|██████████| 129/129 [00:25<00:00,  5.05it/s]\n",
      "Epoch:   1%|          | 1/129 [00:00<00:17,  7.41it/s]"
     ]
    },
    {
     "name": "stdout",
     "output_type": "stream",
     "text": [
      "\n",
      "Epoch 007 train_loss: 1.9408 val_loss 2.0196 train_acc 0.4596 val_acc 0.4507\n"
     ]
    },
    {
     "name": "stderr",
     "output_type": "stream",
     "text": [
      "Epoch: 100%|██████████| 129/129 [00:18<00:00,  6.93it/s]\n",
      "Epoch:   1%|          | 1/129 [00:00<00:16,  7.76it/s]"
     ]
    },
    {
     "name": "stdout",
     "output_type": "stream",
     "text": [
      "\n",
      "Epoch 008 train_loss: 1.9353 val_loss 2.0246 train_acc 0.4607 val_acc 0.4474\n"
     ]
    },
    {
     "name": "stderr",
     "output_type": "stream",
     "text": [
      "Epoch: 100%|██████████| 129/129 [00:17<00:00,  7.31it/s]\n",
      "Epoch:   1%|          | 1/129 [00:00<00:20,  6.36it/s]"
     ]
    },
    {
     "name": "stdout",
     "output_type": "stream",
     "text": [
      "\n",
      "Epoch 009 train_loss: 1.9391 val_loss 2.0124 train_acc 0.4600 val_acc 0.4566\n"
     ]
    },
    {
     "name": "stderr",
     "output_type": "stream",
     "text": [
      "Epoch: 100%|██████████| 129/129 [00:17<00:00,  7.30it/s]\n",
      "Epoch:   1%|          | 1/129 [00:00<00:16,  7.92it/s]"
     ]
    },
    {
     "name": "stdout",
     "output_type": "stream",
     "text": [
      "\n",
      "Epoch 010 train_loss: 1.9343 val_loss 2.0160 train_acc 0.4606 val_acc 0.4489\n"
     ]
    },
    {
     "name": "stderr",
     "output_type": "stream",
     "text": [
      "Epoch: 100%|██████████| 129/129 [00:18<00:00,  7.12it/s]\n",
      "Epoch:   1%|          | 1/129 [00:00<00:16,  7.68it/s]"
     ]
    },
    {
     "name": "stdout",
     "output_type": "stream",
     "text": [
      "\n",
      "Epoch 011 train_loss: 1.9391 val_loss 2.0160 train_acc 0.4569 val_acc 0.4515\n"
     ]
    },
    {
     "name": "stderr",
     "output_type": "stream",
     "text": [
      "Epoch: 100%|██████████| 129/129 [00:18<00:00,  6.81it/s]\n",
      "Epoch:   1%|          | 1/129 [00:00<00:18,  6.97it/s]"
     ]
    },
    {
     "name": "stdout",
     "output_type": "stream",
     "text": [
      "\n",
      "Epoch 012 train_loss: 1.9349 val_loss 2.0203 train_acc 0.4637 val_acc 0.4515\n"
     ]
    },
    {
     "name": "stderr",
     "output_type": "stream",
     "text": [
      "Epoch: 100%|██████████| 129/129 [00:17<00:00,  7.28it/s]\n",
      "Epoch:   1%|          | 1/129 [00:00<00:17,  7.37it/s]"
     ]
    },
    {
     "name": "stdout",
     "output_type": "stream",
     "text": [
      "\n",
      "Epoch 013 train_loss: 1.9265 val_loss 2.0103 train_acc 0.4673 val_acc 0.4540\n"
     ]
    },
    {
     "name": "stderr",
     "output_type": "stream",
     "text": [
      "Epoch: 100%|██████████| 129/129 [00:18<00:00,  7.02it/s]\n",
      "Epoch:   1%|          | 1/129 [00:00<00:17,  7.33it/s]"
     ]
    },
    {
     "name": "stdout",
     "output_type": "stream",
     "text": [
      "\n",
      "Epoch 014 train_loss: 1.9361 val_loss 2.0208 train_acc 0.4569 val_acc 0.4500\n"
     ]
    },
    {
     "name": "stderr",
     "output_type": "stream",
     "text": [
      "Epoch: 100%|██████████| 129/129 [00:18<00:00,  6.83it/s]\n",
      "Epoch:   1%|          | 1/129 [00:00<00:17,  7.50it/s]"
     ]
    },
    {
     "name": "stdout",
     "output_type": "stream",
     "text": [
      "\n",
      "Epoch 015 train_loss: 1.9325 val_loss 2.0076 train_acc 0.4617 val_acc 0.4526\n"
     ]
    },
    {
     "name": "stderr",
     "output_type": "stream",
     "text": [
      "Epoch: 100%|██████████| 129/129 [00:18<00:00,  7.16it/s]\n",
      "Epoch:   1%|          | 1/129 [00:00<00:17,  7.33it/s]"
     ]
    },
    {
     "name": "stdout",
     "output_type": "stream",
     "text": [
      "\n",
      "Epoch 016 train_loss: 1.9315 val_loss 2.0185 train_acc 0.4586 val_acc 0.4515\n"
     ]
    },
    {
     "name": "stderr",
     "output_type": "stream",
     "text": [
      "Epoch: 100%|██████████| 129/129 [00:17<00:00,  7.37it/s]\n",
      "Epoch:   1%|          | 1/129 [00:00<00:16,  7.87it/s]"
     ]
    },
    {
     "name": "stdout",
     "output_type": "stream",
     "text": [
      "\n",
      "Epoch 017 train_loss: 1.9208 val_loss 2.0048 train_acc 0.4635 val_acc 0.4533\n"
     ]
    },
    {
     "name": "stderr",
     "output_type": "stream",
     "text": [
      "Epoch: 100%|██████████| 129/129 [00:17<00:00,  7.30it/s]\n",
      "Epoch:   1%|          | 1/129 [00:00<00:17,  7.28it/s]"
     ]
    },
    {
     "name": "stdout",
     "output_type": "stream",
     "text": [
      "\n",
      "Epoch 018 train_loss: 1.9272 val_loss 2.0104 train_acc 0.4614 val_acc 0.4522\n"
     ]
    },
    {
     "name": "stderr",
     "output_type": "stream",
     "text": [
      "Epoch: 100%|██████████| 129/129 [00:18<00:00,  6.87it/s]\n",
      "Epoch:   1%|          | 1/129 [00:00<00:18,  6.99it/s]"
     ]
    },
    {
     "name": "stdout",
     "output_type": "stream",
     "text": [
      "\n",
      "Epoch 019 train_loss: 1.9244 val_loss 2.0253 train_acc 0.4636 val_acc 0.4489\n"
     ]
    },
    {
     "name": "stderr",
     "output_type": "stream",
     "text": [
      "Epoch: 100%|██████████| 129/129 [00:17<00:00,  7.17it/s]\n"
     ]
    },
    {
     "name": "stdout",
     "output_type": "stream",
     "text": [
      "\n",
      "Epoch 020 train_loss: 1.9307 val_loss 1.9979 train_acc 0.4606 val_acc 0.4533\n"
     ]
    }
   ],
   "source": [
    "optim = torch.optim.SGD(CNN.parameters(), lr=0.0001)\n",
    "criterion = nn.CrossEntropyLoss()\n",
    "\n",
    "history = train(train_dataset, val_dataset, model=CNN,  optim=optim,\n",
    "                criterion=criterion, epochs=20, batch_size=64, device=DEVICE)"
   ]
  },
  {
   "cell_type": "code",
   "execution_count": 25,
   "metadata": {
    "scrolled": true
   },
   "outputs": [
    {
     "name": "stderr",
     "output_type": "stream",
     "text": [
      "Epoch: 100%|██████████| 65/65 [00:18<00:00,  3.45it/s]\n",
      "Epoch:   0%|          | 0/65 [00:00<?, ?it/s]"
     ]
    },
    {
     "name": "stdout",
     "output_type": "stream",
     "text": [
      "\n",
      "Epoch 001 train_loss: 2.2002 val_loss 2.0417 train_acc 0.4046 val_acc 0.4471\n"
     ]
    },
    {
     "name": "stderr",
     "output_type": "stream",
     "text": [
      "Epoch: 100%|██████████| 65/65 [00:18<00:00,  3.44it/s]\n",
      "Epoch:   0%|          | 0/65 [00:00<?, ?it/s]"
     ]
    },
    {
     "name": "stdout",
     "output_type": "stream",
     "text": [
      "\n",
      "Epoch 002 train_loss: 1.9997 val_loss 2.3794 train_acc 0.4457 val_acc 0.3474\n"
     ]
    },
    {
     "name": "stderr",
     "output_type": "stream",
     "text": [
      "Epoch: 100%|██████████| 65/65 [00:19<00:00,  3.35it/s]\n",
      "Epoch:   0%|          | 0/65 [00:00<?, ?it/s]"
     ]
    },
    {
     "name": "stdout",
     "output_type": "stream",
     "text": [
      "\n",
      "Epoch 003 train_loss: 1.9860 val_loss 2.1876 train_acc 0.4494 val_acc 0.3901\n"
     ]
    },
    {
     "name": "stderr",
     "output_type": "stream",
     "text": [
      "Epoch: 100%|██████████| 65/65 [00:19<00:00,  3.42it/s]\n",
      "Epoch:   0%|          | 0/65 [00:00<?, ?it/s]"
     ]
    },
    {
     "name": "stdout",
     "output_type": "stream",
     "text": [
      "\n",
      "Epoch 004 train_loss: 1.9850 val_loss 2.0189 train_acc 0.4449 val_acc 0.4533\n"
     ]
    },
    {
     "name": "stderr",
     "output_type": "stream",
     "text": [
      "Epoch: 100%|██████████| 65/65 [00:18<00:00,  3.44it/s]\n"
     ]
    },
    {
     "name": "stdout",
     "output_type": "stream",
     "text": [
      "\n",
      "Epoch 005 train_loss: 1.9815 val_loss 2.0290 train_acc 0.4501 val_acc 0.4398\n"
     ]
    }
   ],
   "source": [
    "optim = torch.optim.SGD(CNN.parameters(), lr=0.001)\n",
    "criterion = nn.CrossEntropyLoss()\n",
    "\n",
    "history = train(train_dataset, val_dataset, model=CNN,  optim=optim,\n",
    "                criterion=criterion, epochs=5, batch_size=128, device=DEVICE)"
   ]
  },
  {
   "cell_type": "code",
   "execution_count": 26,
   "metadata": {
    "scrolled": true
   },
   "outputs": [
    {
     "name": "stderr",
     "output_type": "stream",
     "text": [
      "Epoch: 100%|██████████| 65/65 [00:19<00:00,  3.37it/s]\n",
      "Epoch:   0%|          | 0/65 [00:00<?, ?it/s]"
     ]
    },
    {
     "name": "stdout",
     "output_type": "stream",
     "text": [
      "\n",
      "Epoch 001 train_loss: 1.9264 val_loss 2.1400 train_acc 0.4611 val_acc 0.4015\n"
     ]
    },
    {
     "name": "stderr",
     "output_type": "stream",
     "text": [
      "Epoch: 100%|██████████| 65/65 [00:18<00:00,  3.43it/s]\n",
      "Epoch:   0%|          | 0/65 [00:00<?, ?it/s]"
     ]
    },
    {
     "name": "stdout",
     "output_type": "stream",
     "text": [
      "\n",
      "Epoch 002 train_loss: 1.9211 val_loss 1.9868 train_acc 0.4631 val_acc 0.4617\n"
     ]
    },
    {
     "name": "stderr",
     "output_type": "stream",
     "text": [
      "Epoch: 100%|██████████| 65/65 [00:18<00:00,  3.44it/s]\n",
      "Epoch:   0%|          | 0/65 [00:00<?, ?it/s]"
     ]
    },
    {
     "name": "stdout",
     "output_type": "stream",
     "text": [
      "\n",
      "Epoch 003 train_loss: 1.9135 val_loss 1.9783 train_acc 0.4682 val_acc 0.4635\n"
     ]
    },
    {
     "name": "stderr",
     "output_type": "stream",
     "text": [
      "Epoch: 100%|██████████| 65/65 [00:19<00:00,  3.41it/s]\n",
      "Epoch:   0%|          | 0/65 [00:00<?, ?it/s]"
     ]
    },
    {
     "name": "stdout",
     "output_type": "stream",
     "text": [
      "\n",
      "Epoch 004 train_loss: 1.9187 val_loss 1.9779 train_acc 0.4641 val_acc 0.4635\n"
     ]
    },
    {
     "name": "stderr",
     "output_type": "stream",
     "text": [
      "Epoch: 100%|██████████| 65/65 [00:18<00:00,  3.44it/s]\n",
      "Epoch:   0%|          | 0/65 [00:00<?, ?it/s]"
     ]
    },
    {
     "name": "stdout",
     "output_type": "stream",
     "text": [
      "\n",
      "Epoch 005 train_loss: 1.9111 val_loss 1.9953 train_acc 0.4687 val_acc 0.4599\n"
     ]
    },
    {
     "name": "stderr",
     "output_type": "stream",
     "text": [
      "Epoch: 100%|██████████| 65/65 [00:19<00:00,  3.37it/s]\n",
      "Epoch:   0%|          | 0/65 [00:00<?, ?it/s]"
     ]
    },
    {
     "name": "stdout",
     "output_type": "stream",
     "text": [
      "\n",
      "Epoch 006 train_loss: 1.9042 val_loss 2.0965 train_acc 0.4665 val_acc 0.4193\n"
     ]
    },
    {
     "name": "stderr",
     "output_type": "stream",
     "text": [
      "Epoch: 100%|██████████| 65/65 [00:19<00:00,  3.35it/s]\n",
      "Epoch:   0%|          | 0/65 [00:00<?, ?it/s]"
     ]
    },
    {
     "name": "stdout",
     "output_type": "stream",
     "text": [
      "\n",
      "Epoch 007 train_loss: 1.9137 val_loss 1.9793 train_acc 0.4655 val_acc 0.4639\n"
     ]
    },
    {
     "name": "stderr",
     "output_type": "stream",
     "text": [
      "Epoch: 100%|██████████| 65/65 [00:19<00:00,  3.40it/s]\n",
      "Epoch:   0%|          | 0/65 [00:00<?, ?it/s]"
     ]
    },
    {
     "name": "stdout",
     "output_type": "stream",
     "text": [
      "\n",
      "Epoch 008 train_loss: 1.8944 val_loss 2.0119 train_acc 0.4697 val_acc 0.4529\n"
     ]
    },
    {
     "name": "stderr",
     "output_type": "stream",
     "text": [
      "Epoch: 100%|██████████| 65/65 [00:18<00:00,  3.47it/s]\n",
      "Epoch:   0%|          | 0/65 [00:00<?, ?it/s]"
     ]
    },
    {
     "name": "stdout",
     "output_type": "stream",
     "text": [
      "\n",
      "Epoch 009 train_loss: 1.9053 val_loss 2.2525 train_acc 0.4721 val_acc 0.3726\n"
     ]
    },
    {
     "name": "stderr",
     "output_type": "stream",
     "text": [
      "Epoch: 100%|██████████| 65/65 [00:18<00:00,  3.48it/s]\n"
     ]
    },
    {
     "name": "stdout",
     "output_type": "stream",
     "text": [
      "\n",
      "Epoch 010 train_loss: 1.9170 val_loss 2.0321 train_acc 0.4695 val_acc 0.4391\n"
     ]
    }
   ],
   "source": [
    "optim = torch.optim.SGD(CNN.parameters(), lr=0.0006)\n",
    "criterion = nn.CrossEntropyLoss()\n",
    "\n",
    "history = train(train_dataset, val_dataset, model=CNN,  optim=optim,\n",
    "                criterion=criterion, epochs=10, batch_size=128, device=DEVICE)"
   ]
  },
  {
   "cell_type": "code",
   "execution_count": 27,
   "metadata": {
    "scrolled": true
   },
   "outputs": [
    {
     "name": "stderr",
     "output_type": "stream",
     "text": [
      "Epoch: 100%|██████████| 65/65 [00:19<00:00,  3.39it/s]\n",
      "Epoch:   0%|          | 0/65 [00:00<?, ?it/s]"
     ]
    },
    {
     "name": "stdout",
     "output_type": "stream",
     "text": [
      "\n",
      "Epoch 001 train_loss: 1.8846 val_loss 1.9615 train_acc 0.4674 val_acc 0.4704\n"
     ]
    },
    {
     "name": "stderr",
     "output_type": "stream",
     "text": [
      "Epoch: 100%|██████████| 65/65 [00:18<00:00,  3.45it/s]\n",
      "Epoch:   0%|          | 0/65 [00:00<?, ?it/s]"
     ]
    },
    {
     "name": "stdout",
     "output_type": "stream",
     "text": [
      "\n",
      "Epoch 002 train_loss: 1.8784 val_loss 1.9734 train_acc 0.4759 val_acc 0.4693\n"
     ]
    },
    {
     "name": "stderr",
     "output_type": "stream",
     "text": [
      "Epoch: 100%|██████████| 65/65 [00:18<00:00,  3.45it/s]\n",
      "Epoch:   0%|          | 0/65 [00:00<?, ?it/s]"
     ]
    },
    {
     "name": "stdout",
     "output_type": "stream",
     "text": [
      "\n",
      "Epoch 003 train_loss: 1.8756 val_loss 2.0343 train_acc 0.4691 val_acc 0.4471\n"
     ]
    },
    {
     "name": "stderr",
     "output_type": "stream",
     "text": [
      "Epoch: 100%|██████████| 65/65 [00:18<00:00,  3.49it/s]\n",
      "Epoch:   0%|          | 0/65 [00:00<?, ?it/s]"
     ]
    },
    {
     "name": "stdout",
     "output_type": "stream",
     "text": [
      "\n",
      "Epoch 004 train_loss: 1.8714 val_loss 1.9519 train_acc 0.4780 val_acc 0.4734\n"
     ]
    },
    {
     "name": "stderr",
     "output_type": "stream",
     "text": [
      "Epoch: 100%|██████████| 65/65 [00:18<00:00,  3.47it/s]\n",
      "Epoch:   0%|          | 0/65 [00:00<?, ?it/s]"
     ]
    },
    {
     "name": "stdout",
     "output_type": "stream",
     "text": [
      "\n",
      "Epoch 005 train_loss: 1.8771 val_loss 1.9707 train_acc 0.4730 val_acc 0.4682\n"
     ]
    },
    {
     "name": "stderr",
     "output_type": "stream",
     "text": [
      "Epoch: 100%|██████████| 65/65 [00:18<00:00,  3.47it/s]\n",
      "Epoch:   0%|          | 0/65 [00:00<?, ?it/s]"
     ]
    },
    {
     "name": "stdout",
     "output_type": "stream",
     "text": [
      "\n",
      "Epoch 006 train_loss: 1.8675 val_loss 1.9599 train_acc 0.4747 val_acc 0.4661\n"
     ]
    },
    {
     "name": "stderr",
     "output_type": "stream",
     "text": [
      "Epoch: 100%|██████████| 65/65 [00:18<00:00,  3.49it/s]\n",
      "Epoch:   0%|          | 0/65 [00:00<?, ?it/s]"
     ]
    },
    {
     "name": "stdout",
     "output_type": "stream",
     "text": [
      "\n",
      "Epoch 007 train_loss: 1.8708 val_loss 1.9815 train_acc 0.4815 val_acc 0.4650\n"
     ]
    },
    {
     "name": "stderr",
     "output_type": "stream",
     "text": [
      "Epoch: 100%|██████████| 65/65 [00:19<00:00,  3.38it/s]\n",
      "Epoch:   0%|          | 0/65 [00:00<?, ?it/s]"
     ]
    },
    {
     "name": "stdout",
     "output_type": "stream",
     "text": [
      "\n",
      "Epoch 008 train_loss: 1.8690 val_loss 1.9583 train_acc 0.4783 val_acc 0.4690\n"
     ]
    },
    {
     "name": "stderr",
     "output_type": "stream",
     "text": [
      "Epoch: 100%|██████████| 65/65 [00:18<00:00,  3.43it/s]\n",
      "Epoch:   0%|          | 0/65 [00:00<?, ?it/s]"
     ]
    },
    {
     "name": "stdout",
     "output_type": "stream",
     "text": [
      "\n",
      "Epoch 009 train_loss: 1.8721 val_loss 1.9690 train_acc 0.4753 val_acc 0.4613\n"
     ]
    },
    {
     "name": "stderr",
     "output_type": "stream",
     "text": [
      "Epoch: 100%|██████████| 65/65 [00:18<00:00,  3.42it/s]\n"
     ]
    },
    {
     "name": "stdout",
     "output_type": "stream",
     "text": [
      "\n",
      "Epoch 010 train_loss: 1.8725 val_loss 1.9583 train_acc 0.4780 val_acc 0.4701\n"
     ]
    }
   ],
   "source": [
    "optim = torch.optim.SGD(CNN.parameters(), lr=0.0003)\n",
    "criterion = nn.CrossEntropyLoss()\n",
    "\n",
    "history = train(train_dataset, val_dataset, model=CNN,  optim=optim,\n",
    "                criterion=criterion, epochs=10, batch_size=128, device=DEVICE)"
   ]
  },
  {
   "cell_type": "code",
   "execution_count": 28,
   "metadata": {
    "scrolled": true
   },
   "outputs": [
    {
     "name": "stderr",
     "output_type": "stream",
     "text": [
      "Epoch: 100%|██████████| 65/65 [00:19<00:00,  3.41it/s]\n",
      "Epoch:   0%|          | 0/65 [00:00<?, ?it/s]"
     ]
    },
    {
     "name": "stdout",
     "output_type": "stream",
     "text": [
      "\n",
      "Epoch 001 train_loss: 1.8564 val_loss 1.9537 train_acc 0.4803 val_acc 0.4730\n"
     ]
    },
    {
     "name": "stderr",
     "output_type": "stream",
     "text": [
      "Epoch: 100%|██████████| 65/65 [00:18<00:00,  3.43it/s]\n",
      "Epoch:   0%|          | 0/65 [00:00<?, ?it/s]"
     ]
    },
    {
     "name": "stdout",
     "output_type": "stream",
     "text": [
      "\n",
      "Epoch 002 train_loss: 1.8632 val_loss 1.9512 train_acc 0.4747 val_acc 0.4715\n"
     ]
    },
    {
     "name": "stderr",
     "output_type": "stream",
     "text": [
      "Epoch: 100%|██████████| 65/65 [00:18<00:00,  3.46it/s]\n",
      "Epoch:   0%|          | 0/65 [00:00<?, ?it/s]"
     ]
    },
    {
     "name": "stdout",
     "output_type": "stream",
     "text": [
      "\n",
      "Epoch 003 train_loss: 1.8627 val_loss 1.9434 train_acc 0.4754 val_acc 0.4737\n"
     ]
    },
    {
     "name": "stderr",
     "output_type": "stream",
     "text": [
      "Epoch: 100%|██████████| 65/65 [00:18<00:00,  3.48it/s]\n",
      "Epoch:   0%|          | 0/65 [00:00<?, ?it/s]"
     ]
    },
    {
     "name": "stdout",
     "output_type": "stream",
     "text": [
      "\n",
      "Epoch 004 train_loss: 1.8679 val_loss 1.9494 train_acc 0.4771 val_acc 0.4734\n"
     ]
    },
    {
     "name": "stderr",
     "output_type": "stream",
     "text": [
      "Epoch: 100%|██████████| 65/65 [00:19<00:00,  3.35it/s]\n",
      "Epoch:   0%|          | 0/65 [00:00<?, ?it/s]"
     ]
    },
    {
     "name": "stdout",
     "output_type": "stream",
     "text": [
      "\n",
      "Epoch 005 train_loss: 1.8506 val_loss 1.9415 train_acc 0.4803 val_acc 0.4741\n"
     ]
    },
    {
     "name": "stderr",
     "output_type": "stream",
     "text": [
      "Epoch: 100%|██████████| 65/65 [00:19<00:00,  3.39it/s]\n",
      "Epoch:   0%|          | 0/65 [00:00<?, ?it/s]"
     ]
    },
    {
     "name": "stdout",
     "output_type": "stream",
     "text": [
      "\n",
      "Epoch 006 train_loss: 1.8519 val_loss 1.9509 train_acc 0.4842 val_acc 0.4719\n"
     ]
    },
    {
     "name": "stderr",
     "output_type": "stream",
     "text": [
      "Epoch: 100%|██████████| 65/65 [00:18<00:00,  3.50it/s]\n",
      "Epoch:   0%|          | 0/65 [00:00<?, ?it/s]"
     ]
    },
    {
     "name": "stdout",
     "output_type": "stream",
     "text": [
      "\n",
      "Epoch 007 train_loss: 1.8594 val_loss 1.9453 train_acc 0.4751 val_acc 0.4752\n"
     ]
    },
    {
     "name": "stderr",
     "output_type": "stream",
     "text": [
      "Epoch: 100%|██████████| 65/65 [00:18<00:00,  3.49it/s]\n",
      "Epoch:   0%|          | 0/65 [00:00<?, ?it/s]"
     ]
    },
    {
     "name": "stdout",
     "output_type": "stream",
     "text": [
      "\n",
      "Epoch 008 train_loss: 1.8527 val_loss 1.9469 train_acc 0.4858 val_acc 0.4715\n"
     ]
    },
    {
     "name": "stderr",
     "output_type": "stream",
     "text": [
      "Epoch: 100%|██████████| 65/65 [00:18<00:00,  3.42it/s]\n",
      "Epoch:   0%|          | 0/65 [00:00<?, ?it/s]"
     ]
    },
    {
     "name": "stdout",
     "output_type": "stream",
     "text": [
      "\n",
      "Epoch 009 train_loss: 1.8554 val_loss 1.9353 train_acc 0.4791 val_acc 0.4730\n"
     ]
    },
    {
     "name": "stderr",
     "output_type": "stream",
     "text": [
      "Epoch: 100%|██████████| 65/65 [00:18<00:00,  3.43it/s]\n"
     ]
    },
    {
     "name": "stdout",
     "output_type": "stream",
     "text": [
      "\n",
      "Epoch 010 train_loss: 1.8519 val_loss 1.9318 train_acc 0.4860 val_acc 0.4766\n"
     ]
    }
   ],
   "source": [
    "optim = torch.optim.SGD(CNN.parameters(), lr=0.0002)\n",
    "criterion = nn.CrossEntropyLoss()\n",
    "\n",
    "history = train(train_dataset, val_dataset, model=CNN,  optim=optim,\n",
    "                criterion=criterion, epochs=10, batch_size=128, device=DEVICE)"
   ]
  },
  {
   "cell_type": "code",
   "execution_count": 29,
   "metadata": {
    "scrolled": true
   },
   "outputs": [
    {
     "name": "stderr",
     "output_type": "stream",
     "text": [
      "Epoch: 100%|██████████| 65/65 [00:19<00:00,  3.40it/s]\n",
      "Epoch:   0%|          | 0/65 [00:00<?, ?it/s]"
     ]
    },
    {
     "name": "stdout",
     "output_type": "stream",
     "text": [
      "\n",
      "Epoch 001 train_loss: 1.8464 val_loss 1.9855 train_acc 0.4788 val_acc 0.4628\n"
     ]
    },
    {
     "name": "stderr",
     "output_type": "stream",
     "text": [
      "Epoch: 100%|██████████| 65/65 [00:18<00:00,  3.46it/s]\n",
      "Epoch:   0%|          | 0/65 [00:00<?, ?it/s]"
     ]
    },
    {
     "name": "stdout",
     "output_type": "stream",
     "text": [
      "\n",
      "Epoch 002 train_loss: 1.8497 val_loss 1.9495 train_acc 0.4796 val_acc 0.4712\n"
     ]
    },
    {
     "name": "stderr",
     "output_type": "stream",
     "text": [
      "Epoch: 100%|██████████| 65/65 [00:18<00:00,  3.49it/s]\n",
      "Epoch:   0%|          | 0/65 [00:00<?, ?it/s]"
     ]
    },
    {
     "name": "stdout",
     "output_type": "stream",
     "text": [
      "\n",
      "Epoch 003 train_loss: 1.8550 val_loss 1.9564 train_acc 0.4799 val_acc 0.4737\n"
     ]
    },
    {
     "name": "stderr",
     "output_type": "stream",
     "text": [
      "Epoch: 100%|██████████| 65/65 [00:18<00:00,  3.51it/s]\n",
      "Epoch:   0%|          | 0/65 [00:00<?, ?it/s]"
     ]
    },
    {
     "name": "stdout",
     "output_type": "stream",
     "text": [
      "\n",
      "Epoch 004 train_loss: 1.8345 val_loss 2.0026 train_acc 0.4864 val_acc 0.4551\n"
     ]
    },
    {
     "name": "stderr",
     "output_type": "stream",
     "text": [
      "Epoch: 100%|██████████| 65/65 [00:19<00:00,  3.38it/s]\n",
      "Epoch:   0%|          | 0/65 [00:00<?, ?it/s]"
     ]
    },
    {
     "name": "stdout",
     "output_type": "stream",
     "text": [
      "\n",
      "Epoch 005 train_loss: 1.8375 val_loss 1.9395 train_acc 0.4807 val_acc 0.4741\n"
     ]
    },
    {
     "name": "stderr",
     "output_type": "stream",
     "text": [
      "Epoch: 100%|██████████| 65/65 [00:18<00:00,  3.51it/s]\n",
      "Epoch:   0%|          | 0/65 [00:00<?, ?it/s]"
     ]
    },
    {
     "name": "stdout",
     "output_type": "stream",
     "text": [
      "\n",
      "Epoch 006 train_loss: 1.8543 val_loss 1.9302 train_acc 0.4788 val_acc 0.4752\n"
     ]
    },
    {
     "name": "stderr",
     "output_type": "stream",
     "text": [
      "Epoch: 100%|██████████| 65/65 [00:18<00:00,  3.45it/s]\n",
      "Epoch:   0%|          | 0/65 [00:00<?, ?it/s]"
     ]
    },
    {
     "name": "stdout",
     "output_type": "stream",
     "text": [
      "\n",
      "Epoch 007 train_loss: 1.8465 val_loss 1.9455 train_acc 0.4810 val_acc 0.4741\n"
     ]
    },
    {
     "name": "stderr",
     "output_type": "stream",
     "text": [
      "Epoch: 100%|██████████| 65/65 [00:19<00:00,  3.37it/s]\n",
      "Epoch:   0%|          | 0/65 [00:00<?, ?it/s]"
     ]
    },
    {
     "name": "stdout",
     "output_type": "stream",
     "text": [
      "\n",
      "Epoch 008 train_loss: 1.8436 val_loss 1.9380 train_acc 0.4827 val_acc 0.4781\n"
     ]
    },
    {
     "name": "stderr",
     "output_type": "stream",
     "text": [
      "Epoch: 100%|██████████| 65/65 [00:18<00:00,  3.48it/s]\n",
      "Epoch:   0%|          | 0/65 [00:00<?, ?it/s]"
     ]
    },
    {
     "name": "stdout",
     "output_type": "stream",
     "text": [
      "\n",
      "Epoch 009 train_loss: 1.8383 val_loss 1.9279 train_acc 0.4854 val_acc 0.4770\n"
     ]
    },
    {
     "name": "stderr",
     "output_type": "stream",
     "text": [
      "Epoch: 100%|██████████| 65/65 [00:19<00:00,  3.39it/s]\n",
      "Epoch:   0%|          | 0/65 [00:00<?, ?it/s]"
     ]
    },
    {
     "name": "stdout",
     "output_type": "stream",
     "text": [
      "\n",
      "Epoch 010 train_loss: 1.8372 val_loss 1.9222 train_acc 0.4836 val_acc 0.4781\n"
     ]
    },
    {
     "name": "stderr",
     "output_type": "stream",
     "text": [
      "Epoch: 100%|██████████| 65/65 [00:19<00:00,  3.37it/s]\n",
      "Epoch:   0%|          | 0/65 [00:00<?, ?it/s]"
     ]
    },
    {
     "name": "stdout",
     "output_type": "stream",
     "text": [
      "\n",
      "Epoch 011 train_loss: 1.8331 val_loss 1.9312 train_acc 0.4909 val_acc 0.4774\n"
     ]
    },
    {
     "name": "stderr",
     "output_type": "stream",
     "text": [
      "Epoch: 100%|██████████| 65/65 [00:18<00:00,  3.48it/s]\n",
      "Epoch:   0%|          | 0/65 [00:00<?, ?it/s]"
     ]
    },
    {
     "name": "stdout",
     "output_type": "stream",
     "text": [
      "\n",
      "Epoch 012 train_loss: 1.8333 val_loss 1.9390 train_acc 0.4881 val_acc 0.4759\n"
     ]
    },
    {
     "name": "stderr",
     "output_type": "stream",
     "text": [
      "Epoch: 100%|██████████| 65/65 [00:19<00:00,  3.42it/s]\n",
      "Epoch:   0%|          | 0/65 [00:00<?, ?it/s]"
     ]
    },
    {
     "name": "stdout",
     "output_type": "stream",
     "text": [
      "\n",
      "Epoch 013 train_loss: 1.8387 val_loss 1.9248 train_acc 0.4854 val_acc 0.4799\n"
     ]
    },
    {
     "name": "stderr",
     "output_type": "stream",
     "text": [
      "Epoch: 100%|██████████| 65/65 [00:18<00:00,  3.46it/s]\n",
      "Epoch:   0%|          | 0/65 [00:00<?, ?it/s]"
     ]
    },
    {
     "name": "stdout",
     "output_type": "stream",
     "text": [
      "\n",
      "Epoch 014 train_loss: 1.8305 val_loss 1.9437 train_acc 0.4892 val_acc 0.4723\n"
     ]
    },
    {
     "name": "stderr",
     "output_type": "stream",
     "text": [
      "Epoch: 100%|██████████| 65/65 [00:18<00:00,  3.44it/s]\n",
      "Epoch:   0%|          | 0/65 [00:00<?, ?it/s]"
     ]
    },
    {
     "name": "stdout",
     "output_type": "stream",
     "text": [
      "\n",
      "Epoch 015 train_loss: 1.8315 val_loss 1.9589 train_acc 0.4886 val_acc 0.4690\n"
     ]
    },
    {
     "name": "stderr",
     "output_type": "stream",
     "text": [
      "Epoch: 100%|██████████| 65/65 [00:19<00:00,  3.41it/s]\n",
      "Epoch:   0%|          | 0/65 [00:00<?, ?it/s]"
     ]
    },
    {
     "name": "stdout",
     "output_type": "stream",
     "text": [
      "\n",
      "Epoch 016 train_loss: 1.8341 val_loss 1.9204 train_acc 0.4873 val_acc 0.4788\n"
     ]
    },
    {
     "name": "stderr",
     "output_type": "stream",
     "text": [
      "Epoch: 100%|██████████| 65/65 [00:18<00:00,  3.45it/s]\n",
      "Epoch:   0%|          | 0/65 [00:00<?, ?it/s]"
     ]
    },
    {
     "name": "stdout",
     "output_type": "stream",
     "text": [
      "\n",
      "Epoch 017 train_loss: 1.8276 val_loss 1.9361 train_acc 0.4921 val_acc 0.4755\n"
     ]
    },
    {
     "name": "stderr",
     "output_type": "stream",
     "text": [
      "Epoch: 100%|██████████| 65/65 [00:19<00:00,  3.41it/s]\n",
      "Epoch:   0%|          | 0/65 [00:00<?, ?it/s]"
     ]
    },
    {
     "name": "stdout",
     "output_type": "stream",
     "text": [
      "\n",
      "Epoch 018 train_loss: 1.8373 val_loss 1.9307 train_acc 0.4911 val_acc 0.4726\n"
     ]
    },
    {
     "name": "stderr",
     "output_type": "stream",
     "text": [
      "Epoch: 100%|██████████| 65/65 [00:18<00:00,  3.47it/s]\n",
      "Epoch:   0%|          | 0/65 [00:00<?, ?it/s]"
     ]
    },
    {
     "name": "stdout",
     "output_type": "stream",
     "text": [
      "\n",
      "Epoch 019 train_loss: 1.8312 val_loss 1.9619 train_acc 0.4886 val_acc 0.4661\n"
     ]
    },
    {
     "name": "stderr",
     "output_type": "stream",
     "text": [
      "Epoch: 100%|██████████| 65/65 [00:18<00:00,  3.50it/s]\n",
      "Epoch:   0%|          | 0/65 [00:00<?, ?it/s]"
     ]
    },
    {
     "name": "stdout",
     "output_type": "stream",
     "text": [
      "\n",
      "Epoch 020 train_loss: 1.8348 val_loss 1.9241 train_acc 0.4855 val_acc 0.4777\n"
     ]
    },
    {
     "name": "stderr",
     "output_type": "stream",
     "text": [
      "Epoch: 100%|██████████| 65/65 [00:18<00:00,  3.43it/s]\n",
      "Epoch:   0%|          | 0/65 [00:00<?, ?it/s]"
     ]
    },
    {
     "name": "stdout",
     "output_type": "stream",
     "text": [
      "\n",
      "Epoch 021 train_loss: 1.8214 val_loss 1.9677 train_acc 0.4911 val_acc 0.4650\n"
     ]
    },
    {
     "name": "stderr",
     "output_type": "stream",
     "text": [
      "Epoch: 100%|██████████| 65/65 [00:18<00:00,  3.42it/s]\n",
      "Epoch:   0%|          | 0/65 [00:00<?, ?it/s]"
     ]
    },
    {
     "name": "stdout",
     "output_type": "stream",
     "text": [
      "\n",
      "Epoch 022 train_loss: 1.8346 val_loss 1.9219 train_acc 0.4884 val_acc 0.4785\n"
     ]
    },
    {
     "name": "stderr",
     "output_type": "stream",
     "text": [
      "Epoch: 100%|██████████| 65/65 [00:18<00:00,  3.43it/s]\n",
      "Epoch:   0%|          | 0/65 [00:00<?, ?it/s]"
     ]
    },
    {
     "name": "stdout",
     "output_type": "stream",
     "text": [
      "\n",
      "Epoch 023 train_loss: 1.8230 val_loss 1.9051 train_acc 0.4852 val_acc 0.4828\n"
     ]
    },
    {
     "name": "stderr",
     "output_type": "stream",
     "text": [
      "Epoch: 100%|██████████| 65/65 [00:18<00:00,  3.48it/s]\n",
      "Epoch:   0%|          | 0/65 [00:00<?, ?it/s]"
     ]
    },
    {
     "name": "stdout",
     "output_type": "stream",
     "text": [
      "\n",
      "Epoch 024 train_loss: 1.8288 val_loss 1.9312 train_acc 0.4900 val_acc 0.4777\n"
     ]
    },
    {
     "name": "stderr",
     "output_type": "stream",
     "text": [
      "Epoch: 100%|██████████| 65/65 [00:18<00:00,  3.43it/s]\n",
      "Epoch:   0%|          | 0/65 [00:00<?, ?it/s]"
     ]
    },
    {
     "name": "stdout",
     "output_type": "stream",
     "text": [
      "\n",
      "Epoch 025 train_loss: 1.8232 val_loss 1.9239 train_acc 0.4903 val_acc 0.4799\n"
     ]
    },
    {
     "name": "stderr",
     "output_type": "stream",
     "text": [
      "Epoch: 100%|██████████| 65/65 [00:18<00:00,  3.44it/s]\n",
      "Epoch:   0%|          | 0/65 [00:00<?, ?it/s]"
     ]
    },
    {
     "name": "stdout",
     "output_type": "stream",
     "text": [
      "\n",
      "Epoch 026 train_loss: 1.8251 val_loss 1.9152 train_acc 0.4869 val_acc 0.4807\n"
     ]
    },
    {
     "name": "stderr",
     "output_type": "stream",
     "text": [
      "Epoch: 100%|██████████| 65/65 [00:18<00:00,  3.43it/s]\n",
      "Epoch:   0%|          | 0/65 [00:00<?, ?it/s]"
     ]
    },
    {
     "name": "stdout",
     "output_type": "stream",
     "text": [
      "\n",
      "Epoch 027 train_loss: 1.8203 val_loss 1.9233 train_acc 0.4883 val_acc 0.4796\n"
     ]
    },
    {
     "name": "stderr",
     "output_type": "stream",
     "text": [
      "Epoch: 100%|██████████| 65/65 [00:18<00:00,  3.44it/s]\n",
      "Epoch:   0%|          | 0/65 [00:00<?, ?it/s]"
     ]
    },
    {
     "name": "stdout",
     "output_type": "stream",
     "text": [
      "\n",
      "Epoch 028 train_loss: 1.8251 val_loss 1.9325 train_acc 0.4912 val_acc 0.4763\n"
     ]
    },
    {
     "name": "stderr",
     "output_type": "stream",
     "text": [
      "Epoch: 100%|██████████| 65/65 [00:18<00:00,  3.49it/s]\n",
      "Epoch:   0%|          | 0/65 [00:00<?, ?it/s]"
     ]
    },
    {
     "name": "stdout",
     "output_type": "stream",
     "text": [
      "\n",
      "Epoch 029 train_loss: 1.8243 val_loss 1.9085 train_acc 0.4926 val_acc 0.4854\n"
     ]
    },
    {
     "name": "stderr",
     "output_type": "stream",
     "text": [
      "Epoch: 100%|██████████| 65/65 [00:18<00:00,  3.52it/s]\n"
     ]
    },
    {
     "name": "stdout",
     "output_type": "stream",
     "text": [
      "\n",
      "Epoch 030 train_loss: 1.8201 val_loss 1.9040 train_acc 0.4900 val_acc 0.4854\n"
     ]
    }
   ],
   "source": [
    "optim = torch.optim.SGD(CNN.parameters(), lr=0.0002)\n",
    "criterion = nn.CrossEntropyLoss()\n",
    "\n",
    "history = train(train_dataset, val_dataset, model=CNN,  optim=optim,\n",
    "                criterion=criterion, epochs=30, batch_size=128, device=DEVICE)"
   ]
  },
  {
   "cell_type": "code",
   "execution_count": 30,
   "metadata": {
    "scrolled": true
   },
   "outputs": [
    {
     "name": "stderr",
     "output_type": "stream",
     "text": [
      "Epoch: 100%|██████████| 65/65 [00:18<00:00,  3.44it/s]\n",
      "Epoch:   0%|          | 0/65 [00:00<?, ?it/s]"
     ]
    },
    {
     "name": "stdout",
     "output_type": "stream",
     "text": [
      "\n",
      "Epoch 001 train_loss: 1.8126 val_loss 1.9088 train_acc 0.4954 val_acc 0.4821\n"
     ]
    },
    {
     "name": "stderr",
     "output_type": "stream",
     "text": [
      "Epoch: 100%|██████████| 65/65 [00:18<00:00,  3.47it/s]\n",
      "Epoch:   0%|          | 0/65 [00:00<?, ?it/s]"
     ]
    },
    {
     "name": "stdout",
     "output_type": "stream",
     "text": [
      "\n",
      "Epoch 002 train_loss: 1.8161 val_loss 1.9191 train_acc 0.4884 val_acc 0.4814\n"
     ]
    },
    {
     "name": "stderr",
     "output_type": "stream",
     "text": [
      "Epoch: 100%|██████████| 65/65 [00:18<00:00,  3.47it/s]\n",
      "Epoch:   0%|          | 0/65 [00:00<?, ?it/s]"
     ]
    },
    {
     "name": "stdout",
     "output_type": "stream",
     "text": [
      "\n",
      "Epoch 003 train_loss: 1.8140 val_loss 1.9103 train_acc 0.5022 val_acc 0.4821\n"
     ]
    },
    {
     "name": "stderr",
     "output_type": "stream",
     "text": [
      "Epoch: 100%|██████████| 65/65 [00:18<00:00,  3.47it/s]\n",
      "Epoch:   0%|          | 0/65 [00:00<?, ?it/s]"
     ]
    },
    {
     "name": "stdout",
     "output_type": "stream",
     "text": [
      "\n",
      "Epoch 004 train_loss: 1.8256 val_loss 1.9140 train_acc 0.4876 val_acc 0.4810\n"
     ]
    },
    {
     "name": "stderr",
     "output_type": "stream",
     "text": [
      "Epoch: 100%|██████████| 65/65 [00:18<00:00,  3.49it/s]\n",
      "Epoch:   0%|          | 0/65 [00:00<?, ?it/s]"
     ]
    },
    {
     "name": "stdout",
     "output_type": "stream",
     "text": [
      "\n",
      "Epoch 005 train_loss: 1.8107 val_loss 1.9245 train_acc 0.4916 val_acc 0.4781\n"
     ]
    },
    {
     "name": "stderr",
     "output_type": "stream",
     "text": [
      "Epoch: 100%|██████████| 65/65 [00:19<00:00,  3.38it/s]\n",
      "Epoch:   0%|          | 0/65 [00:00<?, ?it/s]"
     ]
    },
    {
     "name": "stdout",
     "output_type": "stream",
     "text": [
      "\n",
      "Epoch 006 train_loss: 1.8113 val_loss 1.8991 train_acc 0.4934 val_acc 0.4825\n"
     ]
    },
    {
     "name": "stderr",
     "output_type": "stream",
     "text": [
      "Epoch: 100%|██████████| 65/65 [00:19<00:00,  3.40it/s]\n",
      "Epoch:   0%|          | 0/65 [00:00<?, ?it/s]"
     ]
    },
    {
     "name": "stdout",
     "output_type": "stream",
     "text": [
      "\n",
      "Epoch 007 train_loss: 1.8211 val_loss 1.8972 train_acc 0.4917 val_acc 0.4861\n"
     ]
    },
    {
     "name": "stderr",
     "output_type": "stream",
     "text": [
      "Epoch: 100%|██████████| 65/65 [00:18<00:00,  3.53it/s]\n",
      "Epoch:   0%|          | 0/65 [00:00<?, ?it/s]"
     ]
    },
    {
     "name": "stdout",
     "output_type": "stream",
     "text": [
      "\n",
      "Epoch 008 train_loss: 1.8095 val_loss 1.9007 train_acc 0.4925 val_acc 0.4825\n"
     ]
    },
    {
     "name": "stderr",
     "output_type": "stream",
     "text": [
      "Epoch: 100%|██████████| 65/65 [00:18<00:00,  3.54it/s]\n",
      "Epoch:   0%|          | 0/65 [00:00<?, ?it/s]"
     ]
    },
    {
     "name": "stdout",
     "output_type": "stream",
     "text": [
      "\n",
      "Epoch 009 train_loss: 1.8145 val_loss 1.9176 train_acc 0.4915 val_acc 0.4814\n"
     ]
    },
    {
     "name": "stderr",
     "output_type": "stream",
     "text": [
      "Epoch: 100%|██████████| 65/65 [00:18<00:00,  3.60it/s]\n",
      "Epoch:   0%|          | 0/65 [00:00<?, ?it/s]"
     ]
    },
    {
     "name": "stdout",
     "output_type": "stream",
     "text": [
      "\n",
      "Epoch 010 train_loss: 1.8107 val_loss 1.9054 train_acc 0.4959 val_acc 0.4828\n"
     ]
    },
    {
     "name": "stderr",
     "output_type": "stream",
     "text": [
      "Epoch: 100%|██████████| 65/65 [00:18<00:00,  3.49it/s]\n",
      "Epoch:   0%|          | 0/65 [00:00<?, ?it/s]"
     ]
    },
    {
     "name": "stdout",
     "output_type": "stream",
     "text": [
      "\n",
      "Epoch 011 train_loss: 1.8211 val_loss 1.9061 train_acc 0.4923 val_acc 0.4825\n"
     ]
    },
    {
     "name": "stderr",
     "output_type": "stream",
     "text": [
      "Epoch: 100%|██████████| 65/65 [00:18<00:00,  3.51it/s]\n",
      "Epoch:   0%|          | 0/65 [00:00<?, ?it/s]"
     ]
    },
    {
     "name": "stdout",
     "output_type": "stream",
     "text": [
      "\n",
      "Epoch 012 train_loss: 1.8079 val_loss 1.9046 train_acc 0.4904 val_acc 0.4847\n"
     ]
    },
    {
     "name": "stderr",
     "output_type": "stream",
     "text": [
      "Epoch: 100%|██████████| 65/65 [00:18<00:00,  3.47it/s]\n",
      "Epoch:   0%|          | 0/65 [00:00<?, ?it/s]"
     ]
    },
    {
     "name": "stdout",
     "output_type": "stream",
     "text": [
      "\n",
      "Epoch 013 train_loss: 1.8007 val_loss 1.8985 train_acc 0.4908 val_acc 0.4847\n"
     ]
    },
    {
     "name": "stderr",
     "output_type": "stream",
     "text": [
      "Epoch: 100%|██████████| 65/65 [00:18<00:00,  3.57it/s]\n",
      "Epoch:   0%|          | 0/65 [00:00<?, ?it/s]"
     ]
    },
    {
     "name": "stdout",
     "output_type": "stream",
     "text": [
      "\n",
      "Epoch 014 train_loss: 1.7987 val_loss 1.9003 train_acc 0.4948 val_acc 0.4854\n"
     ]
    },
    {
     "name": "stderr",
     "output_type": "stream",
     "text": [
      "Epoch: 100%|██████████| 65/65 [00:18<00:00,  3.54it/s]\n",
      "Epoch:   0%|          | 0/65 [00:00<?, ?it/s]"
     ]
    },
    {
     "name": "stdout",
     "output_type": "stream",
     "text": [
      "\n",
      "Epoch 015 train_loss: 1.8025 val_loss 1.9014 train_acc 0.4923 val_acc 0.4861\n"
     ]
    },
    {
     "name": "stderr",
     "output_type": "stream",
     "text": [
      "Epoch: 100%|██████████| 65/65 [00:18<00:00,  3.50it/s]\n",
      "Epoch:   0%|          | 0/65 [00:00<?, ?it/s]"
     ]
    },
    {
     "name": "stdout",
     "output_type": "stream",
     "text": [
      "\n",
      "Epoch 016 train_loss: 1.8011 val_loss 1.8974 train_acc 0.4918 val_acc 0.4861\n"
     ]
    },
    {
     "name": "stderr",
     "output_type": "stream",
     "text": [
      "Epoch: 100%|██████████| 65/65 [00:18<00:00,  3.52it/s]\n",
      "Epoch:   0%|          | 0/65 [00:00<?, ?it/s]"
     ]
    },
    {
     "name": "stdout",
     "output_type": "stream",
     "text": [
      "\n",
      "Epoch 017 train_loss: 1.8011 val_loss 1.8970 train_acc 0.4977 val_acc 0.4847\n"
     ]
    },
    {
     "name": "stderr",
     "output_type": "stream",
     "text": [
      "Epoch: 100%|██████████| 65/65 [00:18<00:00,  3.55it/s]\n",
      "Epoch:   0%|          | 0/65 [00:00<?, ?it/s]"
     ]
    },
    {
     "name": "stdout",
     "output_type": "stream",
     "text": [
      "\n",
      "Epoch 018 train_loss: 1.8070 val_loss 1.8948 train_acc 0.4922 val_acc 0.4828\n"
     ]
    },
    {
     "name": "stderr",
     "output_type": "stream",
     "text": [
      "Epoch: 100%|██████████| 65/65 [00:18<00:00,  3.60it/s]\n",
      "Epoch:   0%|          | 0/65 [00:00<?, ?it/s]"
     ]
    },
    {
     "name": "stdout",
     "output_type": "stream",
     "text": [
      "\n",
      "Epoch 019 train_loss: 1.7981 val_loss 1.9101 train_acc 0.4977 val_acc 0.4839\n"
     ]
    },
    {
     "name": "stderr",
     "output_type": "stream",
     "text": [
      "Epoch: 100%|██████████| 65/65 [00:18<00:00,  3.52it/s]\n",
      "Epoch:   0%|          | 0/65 [00:00<?, ?it/s]"
     ]
    },
    {
     "name": "stdout",
     "output_type": "stream",
     "text": [
      "\n",
      "Epoch 020 train_loss: 1.8031 val_loss 1.9007 train_acc 0.4946 val_acc 0.4836\n"
     ]
    },
    {
     "name": "stderr",
     "output_type": "stream",
     "text": [
      "Epoch: 100%|██████████| 65/65 [00:18<00:00,  3.55it/s]\n",
      "Epoch:   0%|          | 0/65 [00:00<?, ?it/s]"
     ]
    },
    {
     "name": "stdout",
     "output_type": "stream",
     "text": [
      "\n",
      "Epoch 021 train_loss: 1.8046 val_loss 1.8957 train_acc 0.4961 val_acc 0.4839\n"
     ]
    },
    {
     "name": "stderr",
     "output_type": "stream",
     "text": [
      "Epoch: 100%|██████████| 65/65 [00:18<00:00,  3.43it/s]\n",
      "Epoch:   0%|          | 0/65 [00:00<?, ?it/s]"
     ]
    },
    {
     "name": "stdout",
     "output_type": "stream",
     "text": [
      "\n",
      "Epoch 022 train_loss: 1.8057 val_loss 1.9073 train_acc 0.4909 val_acc 0.4832\n"
     ]
    },
    {
     "name": "stderr",
     "output_type": "stream",
     "text": [
      "Epoch: 100%|██████████| 65/65 [00:18<00:00,  3.52it/s]\n",
      "Epoch:   0%|          | 0/65 [00:00<?, ?it/s]"
     ]
    },
    {
     "name": "stdout",
     "output_type": "stream",
     "text": [
      "\n",
      "Epoch 023 train_loss: 1.7999 val_loss 1.9011 train_acc 0.4944 val_acc 0.4854\n"
     ]
    },
    {
     "name": "stderr",
     "output_type": "stream",
     "text": [
      "Epoch: 100%|██████████| 65/65 [00:18<00:00,  3.54it/s]\n",
      "Epoch:   0%|          | 0/65 [00:00<?, ?it/s]"
     ]
    },
    {
     "name": "stdout",
     "output_type": "stream",
     "text": [
      "\n",
      "Epoch 024 train_loss: 1.7981 val_loss 1.8978 train_acc 0.4942 val_acc 0.4832\n"
     ]
    },
    {
     "name": "stderr",
     "output_type": "stream",
     "text": [
      "Epoch: 100%|██████████| 65/65 [00:18<00:00,  3.55it/s]\n",
      "Epoch:   0%|          | 0/65 [00:00<?, ?it/s]"
     ]
    },
    {
     "name": "stdout",
     "output_type": "stream",
     "text": [
      "\n",
      "Epoch 025 train_loss: 1.7947 val_loss 1.9051 train_acc 0.4985 val_acc 0.4836\n"
     ]
    },
    {
     "name": "stderr",
     "output_type": "stream",
     "text": [
      "Epoch: 100%|██████████| 65/65 [00:18<00:00,  3.58it/s]\n",
      "Epoch:   0%|          | 0/65 [00:00<?, ?it/s]"
     ]
    },
    {
     "name": "stdout",
     "output_type": "stream",
     "text": [
      "\n",
      "Epoch 026 train_loss: 1.7993 val_loss 1.8960 train_acc 0.4960 val_acc 0.4876\n"
     ]
    },
    {
     "name": "stderr",
     "output_type": "stream",
     "text": [
      "Epoch: 100%|██████████| 65/65 [00:18<00:00,  3.57it/s]\n",
      "Epoch:   0%|          | 0/65 [00:00<?, ?it/s]"
     ]
    },
    {
     "name": "stdout",
     "output_type": "stream",
     "text": [
      "\n",
      "Epoch 027 train_loss: 1.7922 val_loss 1.8916 train_acc 0.4948 val_acc 0.4861\n"
     ]
    },
    {
     "name": "stderr",
     "output_type": "stream",
     "text": [
      "Epoch: 100%|██████████| 65/65 [00:18<00:00,  3.44it/s]\n",
      "Epoch:   0%|          | 0/65 [00:00<?, ?it/s]"
     ]
    },
    {
     "name": "stdout",
     "output_type": "stream",
     "text": [
      "\n",
      "Epoch 028 train_loss: 1.7962 val_loss 1.8921 train_acc 0.4925 val_acc 0.4872\n"
     ]
    },
    {
     "name": "stderr",
     "output_type": "stream",
     "text": [
      "Epoch: 100%|██████████| 65/65 [00:18<00:00,  3.58it/s]\n",
      "Epoch:   0%|          | 0/65 [00:00<?, ?it/s]"
     ]
    },
    {
     "name": "stdout",
     "output_type": "stream",
     "text": [
      "\n",
      "Epoch 029 train_loss: 1.7922 val_loss 1.8887 train_acc 0.4988 val_acc 0.4847\n"
     ]
    },
    {
     "name": "stderr",
     "output_type": "stream",
     "text": [
      "Epoch: 100%|██████████| 65/65 [00:18<00:00,  3.58it/s]\n"
     ]
    },
    {
     "name": "stdout",
     "output_type": "stream",
     "text": [
      "\n",
      "Epoch 030 train_loss: 1.7967 val_loss 1.9006 train_acc 0.5021 val_acc 0.4865\n"
     ]
    }
   ],
   "source": [
    "optim = torch.optim.SGD(CNN.parameters(), lr=0.0001)\n",
    "criterion = nn.CrossEntropyLoss()\n",
    "\n",
    "history = train(train_dataset, val_dataset, model=CNN,  optim=optim,\n",
    "                criterion=criterion, epochs=30, batch_size=128, device=DEVICE)"
   ]
  },
  {
   "cell_type": "code",
   "execution_count": 31,
   "metadata": {
    "scrolled": true
   },
   "outputs": [
    {
     "name": "stderr",
     "output_type": "stream",
     "text": [
      "Epoch: 100%|██████████| 129/129 [00:17<00:00,  7.51it/s]\n",
      "Epoch:   1%|          | 1/129 [00:00<00:17,  7.33it/s]"
     ]
    },
    {
     "name": "stdout",
     "output_type": "stream",
     "text": [
      "\n",
      "Epoch 001 train_loss: 1.8006 val_loss 1.8953 train_acc 0.4955 val_acc 0.4861\n"
     ]
    },
    {
     "name": "stderr",
     "output_type": "stream",
     "text": [
      "Epoch: 100%|██████████| 129/129 [00:17<00:00,  7.46it/s]\n",
      "Epoch:   1%|          | 1/129 [00:00<00:18,  7.11it/s]"
     ]
    },
    {
     "name": "stdout",
     "output_type": "stream",
     "text": [
      "\n",
      "Epoch 002 train_loss: 1.8050 val_loss 1.8957 train_acc 0.4946 val_acc 0.4865\n"
     ]
    },
    {
     "name": "stderr",
     "output_type": "stream",
     "text": [
      "Epoch: 100%|██████████| 129/129 [00:17<00:00,  7.42it/s]\n",
      "Epoch:   1%|          | 1/129 [00:00<00:16,  7.60it/s]"
     ]
    },
    {
     "name": "stdout",
     "output_type": "stream",
     "text": [
      "\n",
      "Epoch 003 train_loss: 1.7983 val_loss 1.8867 train_acc 0.5049 val_acc 0.4872\n"
     ]
    },
    {
     "name": "stderr",
     "output_type": "stream",
     "text": [
      "Epoch: 100%|██████████| 129/129 [00:18<00:00,  7.10it/s]\n",
      "Epoch:   1%|          | 1/129 [00:00<00:19,  6.45it/s]"
     ]
    },
    {
     "name": "stdout",
     "output_type": "stream",
     "text": [
      "\n",
      "Epoch 004 train_loss: 1.7960 val_loss 1.8884 train_acc 0.4968 val_acc 0.4869\n"
     ]
    },
    {
     "name": "stderr",
     "output_type": "stream",
     "text": [
      "Epoch: 100%|██████████| 129/129 [00:17<00:00,  7.47it/s]\n",
      "Epoch:   1%|          | 1/129 [00:00<00:16,  7.66it/s]"
     ]
    },
    {
     "name": "stdout",
     "output_type": "stream",
     "text": [
      "\n",
      "Epoch 005 train_loss: 1.7873 val_loss 1.8948 train_acc 0.4965 val_acc 0.4854\n"
     ]
    },
    {
     "name": "stderr",
     "output_type": "stream",
     "text": [
      "Epoch: 100%|██████████| 129/129 [00:17<00:00,  7.43it/s]\n",
      "Epoch:   1%|          | 1/129 [00:00<00:16,  7.89it/s]"
     ]
    },
    {
     "name": "stdout",
     "output_type": "stream",
     "text": [
      "\n",
      "Epoch 006 train_loss: 1.7968 val_loss 1.8910 train_acc 0.4917 val_acc 0.4854\n"
     ]
    },
    {
     "name": "stderr",
     "output_type": "stream",
     "text": [
      "Epoch: 100%|██████████| 129/129 [00:17<00:00,  7.59it/s]\n",
      "Epoch:   1%|          | 1/129 [00:00<00:15,  8.02it/s]"
     ]
    },
    {
     "name": "stdout",
     "output_type": "stream",
     "text": [
      "\n",
      "Epoch 007 train_loss: 1.7916 val_loss 1.8879 train_acc 0.4982 val_acc 0.4880\n"
     ]
    },
    {
     "name": "stderr",
     "output_type": "stream",
     "text": [
      "Epoch: 100%|██████████| 129/129 [00:17<00:00,  7.52it/s]\n",
      "Epoch:   1%|          | 1/129 [00:00<00:16,  7.60it/s]"
     ]
    },
    {
     "name": "stdout",
     "output_type": "stream",
     "text": [
      "\n",
      "Epoch 008 train_loss: 1.7934 val_loss 1.8916 train_acc 0.4933 val_acc 0.4847\n"
     ]
    },
    {
     "name": "stderr",
     "output_type": "stream",
     "text": [
      "Epoch: 100%|██████████| 129/129 [00:17<00:00,  7.30it/s]\n",
      "Epoch:   1%|          | 1/129 [00:00<00:15,  8.11it/s]"
     ]
    },
    {
     "name": "stdout",
     "output_type": "stream",
     "text": [
      "\n",
      "Epoch 009 train_loss: 1.7977 val_loss 1.8893 train_acc 0.4943 val_acc 0.4847\n"
     ]
    },
    {
     "name": "stderr",
     "output_type": "stream",
     "text": [
      "Epoch: 100%|██████████| 129/129 [00:17<00:00,  7.41it/s]\n",
      "Epoch:   1%|          | 1/129 [00:00<00:16,  7.93it/s]"
     ]
    },
    {
     "name": "stdout",
     "output_type": "stream",
     "text": [
      "\n",
      "Epoch 010 train_loss: 1.7918 val_loss 1.8842 train_acc 0.4972 val_acc 0.4883\n"
     ]
    },
    {
     "name": "stderr",
     "output_type": "stream",
     "text": [
      "Epoch: 100%|██████████| 129/129 [00:17<00:00,  7.55it/s]\n",
      "Epoch:   1%|          | 1/129 [00:00<00:16,  7.71it/s]"
     ]
    },
    {
     "name": "stdout",
     "output_type": "stream",
     "text": [
      "\n",
      "Epoch 011 train_loss: 1.7943 val_loss 1.8835 train_acc 0.4987 val_acc 0.4876\n"
     ]
    },
    {
     "name": "stderr",
     "output_type": "stream",
     "text": [
      "Epoch: 100%|██████████| 129/129 [00:17<00:00,  7.52it/s]\n",
      "Epoch:   1%|          | 1/129 [00:00<00:20,  6.30it/s]"
     ]
    },
    {
     "name": "stdout",
     "output_type": "stream",
     "text": [
      "\n",
      "Epoch 012 train_loss: 1.7926 val_loss 1.8846 train_acc 0.4964 val_acc 0.4869\n"
     ]
    },
    {
     "name": "stderr",
     "output_type": "stream",
     "text": [
      "Epoch: 100%|██████████| 129/129 [00:17<00:00,  7.40it/s]\n",
      "Epoch:   1%|          | 1/129 [00:00<00:18,  6.91it/s]"
     ]
    },
    {
     "name": "stdout",
     "output_type": "stream",
     "text": [
      "\n",
      "Epoch 013 train_loss: 1.7975 val_loss 1.8882 train_acc 0.4932 val_acc 0.4858\n"
     ]
    },
    {
     "name": "stderr",
     "output_type": "stream",
     "text": [
      "Epoch: 100%|██████████| 129/129 [00:18<00:00,  7.16it/s]\n",
      "Epoch:   1%|          | 1/129 [00:00<00:17,  7.41it/s]"
     ]
    },
    {
     "name": "stdout",
     "output_type": "stream",
     "text": [
      "\n",
      "Epoch 014 train_loss: 1.7882 val_loss 1.8886 train_acc 0.5000 val_acc 0.4883\n"
     ]
    },
    {
     "name": "stderr",
     "output_type": "stream",
     "text": [
      "Epoch: 100%|██████████| 129/129 [00:17<00:00,  7.45it/s]\n",
      "Epoch:   1%|          | 1/129 [00:00<00:16,  8.00it/s]"
     ]
    },
    {
     "name": "stdout",
     "output_type": "stream",
     "text": [
      "\n",
      "Epoch 015 train_loss: 1.7811 val_loss 1.8811 train_acc 0.5024 val_acc 0.4872\n"
     ]
    },
    {
     "name": "stderr",
     "output_type": "stream",
     "text": [
      "Epoch: 100%|██████████| 129/129 [00:17<00:00,  7.27it/s]\n",
      "Epoch:   1%|          | 1/129 [00:00<00:20,  6.11it/s]"
     ]
    },
    {
     "name": "stdout",
     "output_type": "stream",
     "text": [
      "\n",
      "Epoch 016 train_loss: 1.7876 val_loss 1.8783 train_acc 0.4989 val_acc 0.4883\n"
     ]
    },
    {
     "name": "stderr",
     "output_type": "stream",
     "text": [
      "Epoch: 100%|██████████| 129/129 [00:17<00:00,  7.19it/s]\n",
      "Epoch:   1%|          | 1/129 [00:00<00:17,  7.44it/s]"
     ]
    },
    {
     "name": "stdout",
     "output_type": "stream",
     "text": [
      "\n",
      "Epoch 017 train_loss: 1.7899 val_loss 1.9014 train_acc 0.5030 val_acc 0.4883\n"
     ]
    },
    {
     "name": "stderr",
     "output_type": "stream",
     "text": [
      "Epoch: 100%|██████████| 129/129 [00:17<00:00,  7.56it/s]\n",
      "Epoch:   1%|          | 1/129 [00:00<00:17,  7.45it/s]"
     ]
    },
    {
     "name": "stdout",
     "output_type": "stream",
     "text": [
      "\n",
      "Epoch 018 train_loss: 1.7790 val_loss 1.8844 train_acc 0.4998 val_acc 0.4912\n"
     ]
    },
    {
     "name": "stderr",
     "output_type": "stream",
     "text": [
      "Epoch: 100%|██████████| 129/129 [00:17<00:00,  7.38it/s]\n",
      "Epoch:   1%|          | 1/129 [00:00<00:16,  7.67it/s]"
     ]
    },
    {
     "name": "stdout",
     "output_type": "stream",
     "text": [
      "\n",
      "Epoch 019 train_loss: 1.7824 val_loss 1.8874 train_acc 0.5004 val_acc 0.4901\n"
     ]
    },
    {
     "name": "stderr",
     "output_type": "stream",
     "text": [
      "Epoch: 100%|██████████| 129/129 [00:17<00:00,  7.45it/s]\n",
      "Epoch:   1%|          | 1/129 [00:00<00:17,  7.46it/s]"
     ]
    },
    {
     "name": "stdout",
     "output_type": "stream",
     "text": [
      "\n",
      "Epoch 020 train_loss: 1.7838 val_loss 1.8819 train_acc 0.4971 val_acc 0.4869\n"
     ]
    },
    {
     "name": "stderr",
     "output_type": "stream",
     "text": [
      "Epoch: 100%|██████████| 129/129 [00:17<00:00,  7.40it/s]\n",
      "Epoch:   1%|          | 1/129 [00:00<00:15,  8.13it/s]"
     ]
    },
    {
     "name": "stdout",
     "output_type": "stream",
     "text": [
      "\n",
      "Epoch 021 train_loss: 1.7802 val_loss 1.8826 train_acc 0.5034 val_acc 0.4883\n"
     ]
    },
    {
     "name": "stderr",
     "output_type": "stream",
     "text": [
      "Epoch: 100%|██████████| 129/129 [00:17<00:00,  7.35it/s]\n",
      "Epoch:   1%|          | 1/129 [00:00<00:17,  7.43it/s]"
     ]
    },
    {
     "name": "stdout",
     "output_type": "stream",
     "text": [
      "\n",
      "Epoch 022 train_loss: 1.7783 val_loss 1.8809 train_acc 0.5027 val_acc 0.4883\n"
     ]
    },
    {
     "name": "stderr",
     "output_type": "stream",
     "text": [
      "Epoch: 100%|██████████| 129/129 [00:17<00:00,  7.35it/s]\n",
      "Epoch:   1%|          | 1/129 [00:00<00:18,  6.82it/s]"
     ]
    },
    {
     "name": "stdout",
     "output_type": "stream",
     "text": [
      "\n",
      "Epoch 023 train_loss: 1.7855 val_loss 1.8812 train_acc 0.4989 val_acc 0.4880\n"
     ]
    },
    {
     "name": "stderr",
     "output_type": "stream",
     "text": [
      "Epoch: 100%|██████████| 129/129 [00:17<00:00,  7.26it/s]\n",
      "Epoch:   1%|          | 1/129 [00:00<00:15,  8.09it/s]"
     ]
    },
    {
     "name": "stdout",
     "output_type": "stream",
     "text": [
      "\n",
      "Epoch 024 train_loss: 1.7876 val_loss 1.8928 train_acc 0.4977 val_acc 0.4905\n"
     ]
    },
    {
     "name": "stderr",
     "output_type": "stream",
     "text": [
      "Epoch: 100%|██████████| 129/129 [00:17<00:00,  7.51it/s]\n",
      "Epoch:   1%|          | 1/129 [00:00<00:16,  7.72it/s]"
     ]
    },
    {
     "name": "stdout",
     "output_type": "stream",
     "text": [
      "\n",
      "Epoch 025 train_loss: 1.7811 val_loss 1.8773 train_acc 0.4950 val_acc 0.4898\n"
     ]
    },
    {
     "name": "stderr",
     "output_type": "stream",
     "text": [
      "Epoch: 100%|██████████| 129/129 [00:17<00:00,  7.48it/s]\n",
      "Epoch:   1%|          | 1/129 [00:00<00:16,  7.79it/s]"
     ]
    },
    {
     "name": "stdout",
     "output_type": "stream",
     "text": [
      "\n",
      "Epoch 026 train_loss: 1.7822 val_loss 1.8836 train_acc 0.5018 val_acc 0.4901\n"
     ]
    },
    {
     "name": "stderr",
     "output_type": "stream",
     "text": [
      "Epoch: 100%|██████████| 129/129 [00:17<00:00,  7.53it/s]\n",
      "Epoch:   1%|          | 1/129 [00:00<00:16,  7.99it/s]"
     ]
    },
    {
     "name": "stdout",
     "output_type": "stream",
     "text": [
      "\n",
      "Epoch 027 train_loss: 1.7766 val_loss 1.8867 train_acc 0.5004 val_acc 0.4905\n"
     ]
    },
    {
     "name": "stderr",
     "output_type": "stream",
     "text": [
      "Epoch: 100%|██████████| 129/129 [00:17<00:00,  7.39it/s]\n",
      "Epoch:   1%|          | 1/129 [00:00<00:17,  7.31it/s]"
     ]
    },
    {
     "name": "stdout",
     "output_type": "stream",
     "text": [
      "\n",
      "Epoch 028 train_loss: 1.7881 val_loss 1.8838 train_acc 0.5001 val_acc 0.4927\n"
     ]
    },
    {
     "name": "stderr",
     "output_type": "stream",
     "text": [
      "Epoch: 100%|██████████| 129/129 [00:17<00:00,  7.27it/s]\n",
      "Epoch:   1%|          | 1/129 [00:00<00:16,  7.92it/s]"
     ]
    },
    {
     "name": "stdout",
     "output_type": "stream",
     "text": [
      "\n",
      "Epoch 029 train_loss: 1.7868 val_loss 1.8755 train_acc 0.5030 val_acc 0.4894\n"
     ]
    },
    {
     "name": "stderr",
     "output_type": "stream",
     "text": [
      "Epoch: 100%|██████████| 129/129 [00:17<00:00,  7.47it/s]\n"
     ]
    },
    {
     "name": "stdout",
     "output_type": "stream",
     "text": [
      "\n",
      "Epoch 030 train_loss: 1.7783 val_loss 1.8703 train_acc 0.5040 val_acc 0.4909\n"
     ]
    }
   ],
   "source": [
    "optim = torch.optim.SGD(CNN.parameters(), lr=0.00005)\n",
    "criterion = nn.CrossEntropyLoss()\n",
    "\n",
    "history = train(train_dataset, val_dataset, model=CNN,  optim=optim,\n",
    "                criterion=criterion, epochs=30, batch_size=64, device=DEVICE)"
   ]
  },
  {
   "cell_type": "code",
   "execution_count": 32,
   "metadata": {
    "scrolled": true
   },
   "outputs": [
    {
     "name": "stderr",
     "output_type": "stream",
     "text": [
      "Epoch: 100%|██████████| 129/129 [00:19<00:00,  6.78it/s]\n",
      "Epoch:   1%|          | 1/129 [00:00<00:20,  6.39it/s]"
     ]
    },
    {
     "name": "stdout",
     "output_type": "stream",
     "text": [
      "\n",
      "Epoch 001 train_loss: 2.1110 val_loss 2.1410 train_acc 0.4265 val_acc 0.4102\n"
     ]
    },
    {
     "name": "stderr",
     "output_type": "stream",
     "text": [
      "Epoch: 100%|██████████| 129/129 [00:19<00:00,  6.78it/s]\n",
      "Epoch:   1%|          | 1/129 [00:00<00:17,  7.33it/s]"
     ]
    },
    {
     "name": "stdout",
     "output_type": "stream",
     "text": [
      "\n",
      "Epoch 002 train_loss: 1.8884 val_loss 1.8935 train_acc 0.4701 val_acc 0.4865\n"
     ]
    },
    {
     "name": "stderr",
     "output_type": "stream",
     "text": [
      "Epoch: 100%|██████████| 129/129 [00:17<00:00,  7.18it/s]\n"
     ]
    },
    {
     "name": "stdout",
     "output_type": "stream",
     "text": [
      "\n",
      "Epoch 003 train_loss: 1.8627 val_loss 1.9060 train_acc 0.4819 val_acc 0.4836\n"
     ]
    }
   ],
   "source": [
    "optim = torch.optim.SGD(CNN.parameters(), lr=0.001)\n",
    "criterion = nn.CrossEntropyLoss()\n",
    "\n",
    "history = train(train_dataset, val_dataset, model=CNN,  optim=optim,\n",
    "                criterion=criterion, epochs=3 , batch_size=64, device=DEVICE)"
   ]
  },
  {
   "cell_type": "code",
   "execution_count": 33,
   "metadata": {
    "scrolled": true
   },
   "outputs": [
    {
     "name": "stderr",
     "output_type": "stream",
     "text": [
      "Epoch: 100%|██████████| 129/129 [00:17<00:00,  7.25it/s]\n",
      "Epoch:   1%|          | 1/129 [00:00<00:17,  7.20it/s]"
     ]
    },
    {
     "name": "stdout",
     "output_type": "stream",
     "text": [
      "\n",
      "Epoch 001 train_loss: 1.7890 val_loss 1.8590 train_acc 0.5016 val_acc 0.4938\n"
     ]
    },
    {
     "name": "stderr",
     "output_type": "stream",
     "text": [
      "Epoch: 100%|██████████| 129/129 [00:18<00:00,  7.08it/s]\n",
      "Epoch:   1%|          | 1/129 [00:00<00:20,  6.29it/s]"
     ]
    },
    {
     "name": "stdout",
     "output_type": "stream",
     "text": [
      "\n",
      "Epoch 002 train_loss: 1.7863 val_loss 1.8546 train_acc 0.4970 val_acc 0.5018\n"
     ]
    },
    {
     "name": "stderr",
     "output_type": "stream",
     "text": [
      "Epoch: 100%|██████████| 129/129 [00:18<00:00,  6.84it/s]\n",
      "Epoch:   1%|          | 1/129 [00:00<00:18,  6.89it/s]"
     ]
    },
    {
     "name": "stdout",
     "output_type": "stream",
     "text": [
      "\n",
      "Epoch 003 train_loss: 1.7765 val_loss 1.8352 train_acc 0.5010 val_acc 0.5000\n"
     ]
    },
    {
     "name": "stderr",
     "output_type": "stream",
     "text": [
      "Epoch: 100%|██████████| 129/129 [00:17<00:00,  7.26it/s]\n",
      "Epoch:   1%|          | 1/129 [00:00<00:18,  7.03it/s]"
     ]
    },
    {
     "name": "stdout",
     "output_type": "stream",
     "text": [
      "\n",
      "Epoch 004 train_loss: 1.7772 val_loss 1.8200 train_acc 0.5050 val_acc 0.5044\n"
     ]
    },
    {
     "name": "stderr",
     "output_type": "stream",
     "text": [
      "Epoch: 100%|██████████| 129/129 [00:19<00:00,  6.76it/s]\n"
     ]
    },
    {
     "name": "stdout",
     "output_type": "stream",
     "text": [
      "\n",
      "Epoch 005 train_loss: 1.7620 val_loss 1.8329 train_acc 0.5051 val_acc 0.4964\n"
     ]
    }
   ],
   "source": [
    "optim = torch.optim.SGD(CNN.parameters(), lr=0.0005)\n",
    "criterion = nn.CrossEntropyLoss()\n",
    "\n",
    "history = train(train_dataset, val_dataset, model=CNN,  optim=optim,\n",
    "                criterion=criterion, epochs=5 , batch_size=64, device=DEVICE)"
   ]
  },
  {
   "cell_type": "code",
   "execution_count": 34,
   "metadata": {
    "scrolled": true
   },
   "outputs": [
    {
     "name": "stderr",
     "output_type": "stream",
     "text": [
      "Epoch: 100%|██████████| 129/129 [00:19<00:00,  6.71it/s]\n",
      "Epoch:   1%|          | 1/129 [00:00<00:17,  7.39it/s]"
     ]
    },
    {
     "name": "stdout",
     "output_type": "stream",
     "text": [
      "\n",
      "Epoch 001 train_loss: 1.7502 val_loss 1.8541 train_acc 0.5090 val_acc 0.4949\n"
     ]
    },
    {
     "name": "stderr",
     "output_type": "stream",
     "text": [
      "Epoch: 100%|██████████| 129/129 [00:18<00:00,  7.04it/s]\n",
      "Epoch:   1%|          | 1/129 [00:00<00:21,  5.92it/s]"
     ]
    },
    {
     "name": "stdout",
     "output_type": "stream",
     "text": [
      "\n",
      "Epoch 002 train_loss: 1.7426 val_loss 1.8513 train_acc 0.5123 val_acc 0.4938\n"
     ]
    },
    {
     "name": "stderr",
     "output_type": "stream",
     "text": [
      "Epoch: 100%|██████████| 129/129 [00:17<00:00,  7.19it/s]\n",
      "Epoch:   1%|          | 1/129 [00:00<00:17,  7.28it/s]"
     ]
    },
    {
     "name": "stdout",
     "output_type": "stream",
     "text": [
      "\n",
      "Epoch 003 train_loss: 1.7443 val_loss 1.8322 train_acc 0.5094 val_acc 0.5004\n"
     ]
    },
    {
     "name": "stderr",
     "output_type": "stream",
     "text": [
      "Epoch: 100%|██████████| 129/129 [00:17<00:00,  7.27it/s]\n",
      "Epoch:   1%|          | 1/129 [00:00<00:16,  7.79it/s]"
     ]
    },
    {
     "name": "stdout",
     "output_type": "stream",
     "text": [
      "\n",
      "Epoch 004 train_loss: 1.7411 val_loss 1.8261 train_acc 0.5064 val_acc 0.5022\n"
     ]
    },
    {
     "name": "stderr",
     "output_type": "stream",
     "text": [
      "Epoch: 100%|██████████| 129/129 [00:18<00:00,  6.92it/s]\n",
      "Epoch:   1%|          | 1/129 [00:00<00:17,  7.27it/s]"
     ]
    },
    {
     "name": "stdout",
     "output_type": "stream",
     "text": [
      "\n",
      "Epoch 005 train_loss: 1.7338 val_loss 1.8282 train_acc 0.5124 val_acc 0.5066\n"
     ]
    },
    {
     "name": "stderr",
     "output_type": "stream",
     "text": [
      "Epoch: 100%|██████████| 129/129 [00:17<00:00,  7.25it/s]\n",
      "Epoch:   1%|          | 1/129 [00:00<00:18,  6.77it/s]"
     ]
    },
    {
     "name": "stdout",
     "output_type": "stream",
     "text": [
      "\n",
      "Epoch 006 train_loss: 1.7364 val_loss 1.8116 train_acc 0.5146 val_acc 0.5109\n"
     ]
    },
    {
     "name": "stderr",
     "output_type": "stream",
     "text": [
      "Epoch: 100%|██████████| 129/129 [00:17<00:00,  7.35it/s]\n",
      "Epoch:   1%|          | 1/129 [00:00<00:17,  7.42it/s]"
     ]
    },
    {
     "name": "stdout",
     "output_type": "stream",
     "text": [
      "\n",
      "Epoch 007 train_loss: 1.7296 val_loss 1.8018 train_acc 0.5129 val_acc 0.5055\n"
     ]
    },
    {
     "name": "stderr",
     "output_type": "stream",
     "text": [
      "Epoch: 100%|██████████| 129/129 [00:18<00:00,  7.13it/s]\n",
      "Epoch:   1%|          | 1/129 [00:00<00:18,  7.03it/s]"
     ]
    },
    {
     "name": "stdout",
     "output_type": "stream",
     "text": [
      "\n",
      "Epoch 008 train_loss: 1.7235 val_loss 1.8489 train_acc 0.5118 val_acc 0.4960\n"
     ]
    },
    {
     "name": "stderr",
     "output_type": "stream",
     "text": [
      "Epoch: 100%|██████████| 129/129 [00:18<00:00,  7.02it/s]\n",
      "Epoch:   1%|          | 1/129 [00:00<00:16,  7.64it/s]"
     ]
    },
    {
     "name": "stdout",
     "output_type": "stream",
     "text": [
      "\n",
      "Epoch 009 train_loss: 1.7183 val_loss 1.8032 train_acc 0.5204 val_acc 0.5084\n"
     ]
    },
    {
     "name": "stderr",
     "output_type": "stream",
     "text": [
      "Epoch: 100%|██████████| 129/129 [00:18<00:00,  6.83it/s]\n",
      "Epoch:   1%|          | 1/129 [00:00<00:17,  7.37it/s]"
     ]
    },
    {
     "name": "stdout",
     "output_type": "stream",
     "text": [
      "\n",
      "Epoch 010 train_loss: 1.7149 val_loss 1.8001 train_acc 0.5162 val_acc 0.5102\n"
     ]
    },
    {
     "name": "stderr",
     "output_type": "stream",
     "text": [
      "Epoch: 100%|██████████| 129/129 [00:18<00:00,  6.95it/s]\n",
      "Epoch:   1%|          | 1/129 [00:00<00:16,  7.53it/s]"
     ]
    },
    {
     "name": "stdout",
     "output_type": "stream",
     "text": [
      "\n",
      "Epoch 011 train_loss: 1.7172 val_loss 1.8237 train_acc 0.5173 val_acc 0.5000\n"
     ]
    },
    {
     "name": "stderr",
     "output_type": "stream",
     "text": [
      "Epoch: 100%|██████████| 129/129 [00:18<00:00,  7.13it/s]\n",
      "Epoch:   1%|          | 1/129 [00:00<00:17,  7.50it/s]"
     ]
    },
    {
     "name": "stdout",
     "output_type": "stream",
     "text": [
      "\n",
      "Epoch 012 train_loss: 1.7128 val_loss 1.8030 train_acc 0.5243 val_acc 0.5113\n"
     ]
    },
    {
     "name": "stderr",
     "output_type": "stream",
     "text": [
      "Epoch: 100%|██████████| 129/129 [00:17<00:00,  7.22it/s]\n",
      "Epoch:   1%|          | 1/129 [00:00<00:16,  7.59it/s]"
     ]
    },
    {
     "name": "stdout",
     "output_type": "stream",
     "text": [
      "\n",
      "Epoch 013 train_loss: 1.6983 val_loss 1.8166 train_acc 0.5217 val_acc 0.4996\n"
     ]
    },
    {
     "name": "stderr",
     "output_type": "stream",
     "text": [
      "Epoch: 100%|██████████| 129/129 [00:18<00:00,  6.99it/s]\n",
      "Epoch:   1%|          | 1/129 [00:00<00:17,  7.40it/s]"
     ]
    },
    {
     "name": "stdout",
     "output_type": "stream",
     "text": [
      "\n",
      "Epoch 014 train_loss: 1.7059 val_loss 1.8761 train_acc 0.5150 val_acc 0.4836\n"
     ]
    },
    {
     "name": "stderr",
     "output_type": "stream",
     "text": [
      "Epoch: 100%|██████████| 129/129 [00:18<00:00,  7.08it/s]\n",
      "Epoch:   1%|          | 1/129 [00:00<00:17,  7.49it/s]"
     ]
    },
    {
     "name": "stdout",
     "output_type": "stream",
     "text": [
      "\n",
      "Epoch 015 train_loss: 1.7051 val_loss 1.7822 train_acc 0.5180 val_acc 0.5150\n"
     ]
    },
    {
     "name": "stderr",
     "output_type": "stream",
     "text": [
      "Epoch: 100%|██████████| 129/129 [00:18<00:00,  7.15it/s]\n",
      "Epoch:   1%|          | 1/129 [00:00<00:17,  7.46it/s]"
     ]
    },
    {
     "name": "stdout",
     "output_type": "stream",
     "text": [
      "\n",
      "Epoch 016 train_loss: 1.7041 val_loss 1.8146 train_acc 0.5208 val_acc 0.4989\n"
     ]
    },
    {
     "name": "stderr",
     "output_type": "stream",
     "text": [
      "Epoch: 100%|██████████| 129/129 [00:17<00:00,  7.36it/s]\n",
      "Epoch:   1%|          | 1/129 [00:00<00:15,  8.02it/s]"
     ]
    },
    {
     "name": "stdout",
     "output_type": "stream",
     "text": [
      "\n",
      "Epoch 017 train_loss: 1.7018 val_loss 1.7705 train_acc 0.5169 val_acc 0.5182\n"
     ]
    },
    {
     "name": "stderr",
     "output_type": "stream",
     "text": [
      "Epoch: 100%|██████████| 129/129 [00:18<00:00,  7.11it/s]\n",
      "Epoch:   1%|          | 1/129 [00:00<00:16,  7.63it/s]"
     ]
    },
    {
     "name": "stdout",
     "output_type": "stream",
     "text": [
      "\n",
      "Epoch 018 train_loss: 1.6920 val_loss 1.8399 train_acc 0.5218 val_acc 0.4920\n"
     ]
    },
    {
     "name": "stderr",
     "output_type": "stream",
     "text": [
      "Epoch: 100%|██████████| 129/129 [00:18<00:00,  6.89it/s]\n",
      "Epoch:   1%|          | 1/129 [00:00<00:17,  7.31it/s]"
     ]
    },
    {
     "name": "stdout",
     "output_type": "stream",
     "text": [
      "\n",
      "Epoch 019 train_loss: 1.6872 val_loss 1.8084 train_acc 0.5249 val_acc 0.5073\n"
     ]
    },
    {
     "name": "stderr",
     "output_type": "stream",
     "text": [
      "Epoch: 100%|██████████| 129/129 [00:18<00:00,  7.07it/s]\n",
      "Epoch:   1%|          | 1/129 [00:00<00:19,  6.69it/s]"
     ]
    },
    {
     "name": "stdout",
     "output_type": "stream",
     "text": [
      "\n",
      "Epoch 020 train_loss: 1.6887 val_loss 1.7986 train_acc 0.5259 val_acc 0.5015\n"
     ]
    },
    {
     "name": "stderr",
     "output_type": "stream",
     "text": [
      "Epoch: 100%|██████████| 129/129 [00:17<00:00,  7.35it/s]\n",
      "Epoch:   1%|          | 1/129 [00:00<00:17,  7.50it/s]"
     ]
    },
    {
     "name": "stdout",
     "output_type": "stream",
     "text": [
      "\n",
      "Epoch 021 train_loss: 1.6960 val_loss 1.7807 train_acc 0.5236 val_acc 0.5157\n"
     ]
    },
    {
     "name": "stderr",
     "output_type": "stream",
     "text": [
      "Epoch: 100%|██████████| 129/129 [00:18<00:00,  6.97it/s]\n",
      "Epoch:   1%|          | 1/129 [00:00<00:22,  5.66it/s]"
     ]
    },
    {
     "name": "stdout",
     "output_type": "stream",
     "text": [
      "\n",
      "Epoch 022 train_loss: 1.6778 val_loss 1.7611 train_acc 0.5294 val_acc 0.5234\n"
     ]
    },
    {
     "name": "stderr",
     "output_type": "stream",
     "text": [
      "Epoch: 100%|██████████| 129/129 [00:18<00:00,  7.05it/s]\n",
      "Epoch:   1%|          | 1/129 [00:00<00:17,  7.52it/s]"
     ]
    },
    {
     "name": "stdout",
     "output_type": "stream",
     "text": [
      "\n",
      "Epoch 023 train_loss: 1.6605 val_loss 1.7612 train_acc 0.5305 val_acc 0.5230\n"
     ]
    },
    {
     "name": "stderr",
     "output_type": "stream",
     "text": [
      "Epoch: 100%|██████████| 129/129 [00:18<00:00,  7.01it/s]\n",
      "Epoch:   1%|          | 1/129 [00:00<00:16,  7.66it/s]"
     ]
    },
    {
     "name": "stdout",
     "output_type": "stream",
     "text": [
      "\n",
      "Epoch 024 train_loss: 1.6721 val_loss 1.7782 train_acc 0.5322 val_acc 0.5044\n"
     ]
    },
    {
     "name": "stderr",
     "output_type": "stream",
     "text": [
      "Epoch: 100%|██████████| 129/129 [00:18<00:00,  7.13it/s]\n",
      "Epoch:   1%|          | 1/129 [00:00<00:18,  6.88it/s]"
     ]
    },
    {
     "name": "stdout",
     "output_type": "stream",
     "text": [
      "\n",
      "Epoch 025 train_loss: 1.6709 val_loss 1.7346 train_acc 0.5263 val_acc 0.5255\n"
     ]
    },
    {
     "name": "stderr",
     "output_type": "stream",
     "text": [
      "Epoch: 100%|██████████| 129/129 [00:18<00:00,  6.92it/s]\n",
      "Epoch:   1%|          | 1/129 [00:00<00:17,  7.44it/s]"
     ]
    },
    {
     "name": "stdout",
     "output_type": "stream",
     "text": [
      "\n",
      "Epoch 026 train_loss: 1.6626 val_loss 1.8262 train_acc 0.5318 val_acc 0.5018\n"
     ]
    },
    {
     "name": "stderr",
     "output_type": "stream",
     "text": [
      "Epoch: 100%|██████████| 129/129 [00:17<00:00,  7.23it/s]\n",
      "Epoch:   1%|          | 1/129 [00:00<00:18,  6.89it/s]"
     ]
    },
    {
     "name": "stdout",
     "output_type": "stream",
     "text": [
      "\n",
      "Epoch 027 train_loss: 1.6561 val_loss 1.8239 train_acc 0.5309 val_acc 0.4960\n"
     ]
    },
    {
     "name": "stderr",
     "output_type": "stream",
     "text": [
      "Epoch: 100%|██████████| 129/129 [00:18<00:00,  6.96it/s]\n",
      "Epoch:   1%|          | 1/129 [00:00<00:18,  7.01it/s]"
     ]
    },
    {
     "name": "stdout",
     "output_type": "stream",
     "text": [
      "\n",
      "Epoch 028 train_loss: 1.6446 val_loss 1.7179 train_acc 0.5361 val_acc 0.5255\n"
     ]
    },
    {
     "name": "stderr",
     "output_type": "stream",
     "text": [
      "Epoch: 100%|██████████| 129/129 [00:17<00:00,  7.26it/s]\n",
      "Epoch:   1%|          | 1/129 [00:00<00:17,  7.43it/s]"
     ]
    },
    {
     "name": "stdout",
     "output_type": "stream",
     "text": [
      "\n",
      "Epoch 029 train_loss: 1.6551 val_loss 1.8320 train_acc 0.5335 val_acc 0.4960\n"
     ]
    },
    {
     "name": "stderr",
     "output_type": "stream",
     "text": [
      "Epoch: 100%|██████████| 129/129 [00:18<00:00,  7.10it/s]\n",
      "Epoch:   1%|          | 1/129 [00:00<00:17,  7.29it/s]"
     ]
    },
    {
     "name": "stdout",
     "output_type": "stream",
     "text": [
      "\n",
      "Epoch 030 train_loss: 1.6626 val_loss 1.7267 train_acc 0.5287 val_acc 0.5296\n"
     ]
    },
    {
     "name": "stderr",
     "output_type": "stream",
     "text": [
      "Epoch: 100%|██████████| 129/129 [00:18<00:00,  7.03it/s]\n",
      "Epoch:   1%|          | 1/129 [00:00<00:21,  5.95it/s]"
     ]
    },
    {
     "name": "stdout",
     "output_type": "stream",
     "text": [
      "\n",
      "Epoch 031 train_loss: 1.6440 val_loss 2.1099 train_acc 0.5327 val_acc 0.4241\n"
     ]
    },
    {
     "name": "stderr",
     "output_type": "stream",
     "text": [
      "Epoch: 100%|██████████| 129/129 [00:17<00:00,  7.22it/s]\n",
      "Epoch:   1%|          | 1/129 [00:00<00:17,  7.32it/s]"
     ]
    },
    {
     "name": "stdout",
     "output_type": "stream",
     "text": [
      "\n",
      "Epoch 032 train_loss: 1.6450 val_loss 1.7433 train_acc 0.5355 val_acc 0.5303\n"
     ]
    },
    {
     "name": "stderr",
     "output_type": "stream",
     "text": [
      "Epoch: 100%|██████████| 129/129 [00:18<00:00,  7.08it/s]\n",
      "Epoch:   1%|          | 1/129 [00:00<00:16,  7.72it/s]"
     ]
    },
    {
     "name": "stdout",
     "output_type": "stream",
     "text": [
      "\n",
      "Epoch 033 train_loss: 1.6457 val_loss 1.7343 train_acc 0.5358 val_acc 0.5263\n"
     ]
    },
    {
     "name": "stderr",
     "output_type": "stream",
     "text": [
      "Epoch: 100%|██████████| 129/129 [00:18<00:00,  7.03it/s]\n",
      "Epoch:   1%|          | 1/129 [00:00<00:19,  6.69it/s]"
     ]
    },
    {
     "name": "stdout",
     "output_type": "stream",
     "text": [
      "\n",
      "Epoch 034 train_loss: 1.6348 val_loss 1.9291 train_acc 0.5361 val_acc 0.4631\n"
     ]
    },
    {
     "name": "stderr",
     "output_type": "stream",
     "text": [
      "Epoch: 100%|██████████| 129/129 [00:17<00:00,  7.37it/s]\n",
      "Epoch:   1%|          | 1/129 [00:00<00:18,  7.11it/s]"
     ]
    },
    {
     "name": "stdout",
     "output_type": "stream",
     "text": [
      "\n",
      "Epoch 035 train_loss: 1.6379 val_loss 1.7296 train_acc 0.5332 val_acc 0.5303\n"
     ]
    },
    {
     "name": "stderr",
     "output_type": "stream",
     "text": [
      "Epoch: 100%|██████████| 129/129 [00:18<00:00,  7.07it/s]\n",
      "Epoch:   1%|          | 1/129 [00:00<00:16,  7.70it/s]"
     ]
    },
    {
     "name": "stdout",
     "output_type": "stream",
     "text": [
      "\n",
      "Epoch 036 train_loss: 1.6265 val_loss 1.7254 train_acc 0.5420 val_acc 0.5157\n"
     ]
    },
    {
     "name": "stderr",
     "output_type": "stream",
     "text": [
      "Epoch: 100%|██████████| 129/129 [00:18<00:00,  7.16it/s]\n",
      "Epoch:   1%|          | 1/129 [00:00<00:17,  7.20it/s]"
     ]
    },
    {
     "name": "stdout",
     "output_type": "stream",
     "text": [
      "\n",
      "Epoch 037 train_loss: 1.6267 val_loss 1.7818 train_acc 0.5377 val_acc 0.5106\n"
     ]
    },
    {
     "name": "stderr",
     "output_type": "stream",
     "text": [
      "Epoch: 100%|██████████| 129/129 [00:18<00:00,  6.90it/s]\n",
      "Epoch:   1%|          | 1/129 [00:00<00:17,  7.11it/s]"
     ]
    },
    {
     "name": "stdout",
     "output_type": "stream",
     "text": [
      "\n",
      "Epoch 038 train_loss: 1.6329 val_loss 1.7102 train_acc 0.5369 val_acc 0.5325\n"
     ]
    },
    {
     "name": "stderr",
     "output_type": "stream",
     "text": [
      "Epoch: 100%|██████████| 129/129 [00:18<00:00,  6.87it/s]\n",
      "Epoch:   1%|          | 1/129 [00:00<00:17,  7.49it/s]"
     ]
    },
    {
     "name": "stdout",
     "output_type": "stream",
     "text": [
      "\n",
      "Epoch 039 train_loss: 1.6291 val_loss 1.6847 train_acc 0.5405 val_acc 0.5401\n"
     ]
    },
    {
     "name": "stderr",
     "output_type": "stream",
     "text": [
      "Epoch: 100%|██████████| 129/129 [00:18<00:00,  7.16it/s]\n",
      "Epoch:   1%|          | 1/129 [00:00<00:16,  7.54it/s]"
     ]
    },
    {
     "name": "stdout",
     "output_type": "stream",
     "text": [
      "\n",
      "Epoch 040 train_loss: 1.6223 val_loss 1.8889 train_acc 0.5394 val_acc 0.4708\n"
     ]
    },
    {
     "name": "stderr",
     "output_type": "stream",
     "text": [
      "Epoch: 100%|██████████| 129/129 [00:18<00:00,  6.98it/s]\n",
      "Epoch:   1%|          | 1/129 [00:00<00:17,  7.29it/s]"
     ]
    },
    {
     "name": "stdout",
     "output_type": "stream",
     "text": [
      "\n",
      "Epoch 041 train_loss: 1.6105 val_loss 1.7197 train_acc 0.5438 val_acc 0.5270\n"
     ]
    },
    {
     "name": "stderr",
     "output_type": "stream",
     "text": [
      "Epoch: 100%|██████████| 129/129 [00:18<00:00,  7.10it/s]\n",
      "Epoch:   1%|          | 1/129 [00:00<00:17,  7.30it/s]"
     ]
    },
    {
     "name": "stdout",
     "output_type": "stream",
     "text": [
      "\n",
      "Epoch 042 train_loss: 1.6215 val_loss 1.7389 train_acc 0.5388 val_acc 0.5142\n"
     ]
    },
    {
     "name": "stderr",
     "output_type": "stream",
     "text": [
      "Epoch: 100%|██████████| 129/129 [00:18<00:00,  7.02it/s]\n",
      "Epoch:   1%|          | 1/129 [00:00<00:19,  6.71it/s]"
     ]
    },
    {
     "name": "stdout",
     "output_type": "stream",
     "text": [
      "\n",
      "Epoch 043 train_loss: 1.6113 val_loss 1.7023 train_acc 0.5428 val_acc 0.5318\n"
     ]
    },
    {
     "name": "stderr",
     "output_type": "stream",
     "text": [
      "Epoch: 100%|██████████| 129/129 [00:18<00:00,  7.07it/s]\n",
      "Epoch:   1%|          | 1/129 [00:00<00:16,  7.61it/s]"
     ]
    },
    {
     "name": "stdout",
     "output_type": "stream",
     "text": [
      "\n",
      "Epoch 044 train_loss: 1.6110 val_loss 1.6853 train_acc 0.5412 val_acc 0.5391\n"
     ]
    },
    {
     "name": "stderr",
     "output_type": "stream",
     "text": [
      "Epoch: 100%|██████████| 129/129 [00:18<00:00,  7.15it/s]\n",
      "Epoch:   1%|          | 1/129 [00:00<00:18,  6.98it/s]"
     ]
    },
    {
     "name": "stdout",
     "output_type": "stream",
     "text": [
      "\n",
      "Epoch 045 train_loss: 1.5953 val_loss 1.6948 train_acc 0.5485 val_acc 0.5328\n"
     ]
    },
    {
     "name": "stderr",
     "output_type": "stream",
     "text": [
      "Epoch: 100%|██████████| 129/129 [00:18<00:00,  7.10it/s]\n",
      "Epoch:   1%|          | 1/129 [00:00<00:16,  7.66it/s]"
     ]
    },
    {
     "name": "stdout",
     "output_type": "stream",
     "text": [
      "\n",
      "Epoch 046 train_loss: 1.6015 val_loss 1.7081 train_acc 0.5434 val_acc 0.5208\n"
     ]
    },
    {
     "name": "stderr",
     "output_type": "stream",
     "text": [
      "Epoch: 100%|██████████| 129/129 [00:18<00:00,  7.06it/s]\n",
      "Epoch:   1%|          | 1/129 [00:00<00:17,  7.40it/s]"
     ]
    },
    {
     "name": "stdout",
     "output_type": "stream",
     "text": [
      "\n",
      "Epoch 047 train_loss: 1.5993 val_loss 1.7276 train_acc 0.5443 val_acc 0.5285\n"
     ]
    },
    {
     "name": "stderr",
     "output_type": "stream",
     "text": [
      "Epoch: 100%|██████████| 129/129 [00:18<00:00,  7.11it/s]\n",
      "Epoch:   1%|          | 1/129 [00:00<00:16,  7.86it/s]"
     ]
    },
    {
     "name": "stdout",
     "output_type": "stream",
     "text": [
      "\n",
      "Epoch 048 train_loss: 1.5968 val_loss 1.6711 train_acc 0.5423 val_acc 0.5416\n"
     ]
    },
    {
     "name": "stderr",
     "output_type": "stream",
     "text": [
      "Epoch: 100%|██████████| 129/129 [00:17<00:00,  7.23it/s]\n",
      "Epoch:   1%|          | 1/129 [00:00<00:17,  7.43it/s]"
     ]
    },
    {
     "name": "stdout",
     "output_type": "stream",
     "text": [
      "\n",
      "Epoch 049 train_loss: 1.5933 val_loss 1.7744 train_acc 0.5510 val_acc 0.5073\n"
     ]
    },
    {
     "name": "stderr",
     "output_type": "stream",
     "text": [
      "Epoch: 100%|██████████| 129/129 [00:18<00:00,  7.11it/s]\n",
      "Epoch:   1%|          | 1/129 [00:00<00:17,  7.47it/s]"
     ]
    },
    {
     "name": "stdout",
     "output_type": "stream",
     "text": [
      "\n",
      "Epoch 050 train_loss: 1.5854 val_loss 1.6732 train_acc 0.5483 val_acc 0.5365\n"
     ]
    },
    {
     "name": "stderr",
     "output_type": "stream",
     "text": [
      "Epoch: 100%|██████████| 129/129 [00:18<00:00,  7.09it/s]\n",
      "Epoch:   1%|          | 1/129 [00:00<00:23,  5.40it/s]"
     ]
    },
    {
     "name": "stdout",
     "output_type": "stream",
     "text": [
      "\n",
      "Epoch 051 train_loss: 1.5945 val_loss 1.6838 train_acc 0.5431 val_acc 0.5391\n"
     ]
    },
    {
     "name": "stderr",
     "output_type": "stream",
     "text": [
      "Epoch: 100%|██████████| 129/129 [00:18<00:00,  7.02it/s]\n",
      "Epoch:   1%|          | 1/129 [00:00<00:16,  7.86it/s]"
     ]
    },
    {
     "name": "stdout",
     "output_type": "stream",
     "text": [
      "\n",
      "Epoch 052 train_loss: 1.5833 val_loss 1.6881 train_acc 0.5496 val_acc 0.5398\n"
     ]
    },
    {
     "name": "stderr",
     "output_type": "stream",
     "text": [
      "Epoch: 100%|██████████| 129/129 [00:17<00:00,  7.30it/s]\n",
      "Epoch:   1%|          | 1/129 [00:00<00:17,  7.35it/s]"
     ]
    },
    {
     "name": "stdout",
     "output_type": "stream",
     "text": [
      "\n",
      "Epoch 053 train_loss: 1.5732 val_loss 1.8898 train_acc 0.5485 val_acc 0.4766\n"
     ]
    },
    {
     "name": "stderr",
     "output_type": "stream",
     "text": [
      "Epoch: 100%|██████████| 129/129 [00:18<00:00,  7.09it/s]\n",
      "Epoch:   1%|          | 1/129 [00:00<00:16,  7.58it/s]"
     ]
    },
    {
     "name": "stdout",
     "output_type": "stream",
     "text": [
      "\n",
      "Epoch 054 train_loss: 1.5874 val_loss 1.7039 train_acc 0.5455 val_acc 0.5380\n"
     ]
    },
    {
     "name": "stderr",
     "output_type": "stream",
     "text": [
      "Epoch: 100%|██████████| 129/129 [00:17<00:00,  7.30it/s]\n",
      "Epoch:   1%|          | 1/129 [00:00<00:19,  6.58it/s]"
     ]
    },
    {
     "name": "stdout",
     "output_type": "stream",
     "text": [
      "\n",
      "Epoch 055 train_loss: 1.5810 val_loss 1.6877 train_acc 0.5512 val_acc 0.5299\n"
     ]
    },
    {
     "name": "stderr",
     "output_type": "stream",
     "text": [
      "Epoch: 100%|██████████| 129/129 [00:18<00:00,  7.05it/s]\n",
      "Epoch:   1%|          | 1/129 [00:00<00:16,  7.83it/s]"
     ]
    },
    {
     "name": "stdout",
     "output_type": "stream",
     "text": [
      "\n",
      "Epoch 056 train_loss: 1.5735 val_loss 1.7034 train_acc 0.5583 val_acc 0.5314\n"
     ]
    },
    {
     "name": "stderr",
     "output_type": "stream",
     "text": [
      "Epoch: 100%|██████████| 129/129 [00:17<00:00,  7.32it/s]\n",
      "Epoch:   1%|          | 1/129 [00:00<00:19,  6.65it/s]"
     ]
    },
    {
     "name": "stdout",
     "output_type": "stream",
     "text": [
      "\n",
      "Epoch 057 train_loss: 1.5702 val_loss 1.6703 train_acc 0.5489 val_acc 0.5412\n"
     ]
    },
    {
     "name": "stderr",
     "output_type": "stream",
     "text": [
      "Epoch: 100%|██████████| 129/129 [00:17<00:00,  7.19it/s]\n",
      "Epoch:   1%|          | 1/129 [00:00<00:18,  6.86it/s]"
     ]
    },
    {
     "name": "stdout",
     "output_type": "stream",
     "text": [
      "\n",
      "Epoch 058 train_loss: 1.5634 val_loss 1.6865 train_acc 0.5539 val_acc 0.5372\n"
     ]
    },
    {
     "name": "stderr",
     "output_type": "stream",
     "text": [
      "Epoch: 100%|██████████| 129/129 [00:17<00:00,  7.27it/s]\n",
      "Epoch:   1%|          | 1/129 [00:00<00:16,  7.60it/s]"
     ]
    },
    {
     "name": "stdout",
     "output_type": "stream",
     "text": [
      "\n",
      "Epoch 059 train_loss: 1.5523 val_loss 1.6762 train_acc 0.5552 val_acc 0.5372\n"
     ]
    },
    {
     "name": "stderr",
     "output_type": "stream",
     "text": [
      "Epoch: 100%|██████████| 129/129 [00:17<00:00,  7.33it/s]\n",
      "Epoch:   1%|          | 1/129 [00:00<00:17,  7.19it/s]"
     ]
    },
    {
     "name": "stdout",
     "output_type": "stream",
     "text": [
      "\n",
      "Epoch 060 train_loss: 1.5489 val_loss 1.7134 train_acc 0.5543 val_acc 0.5336\n"
     ]
    },
    {
     "name": "stderr",
     "output_type": "stream",
     "text": [
      "Epoch: 100%|██████████| 129/129 [00:17<00:00,  7.27it/s]\n",
      "Epoch:   1%|          | 1/129 [00:00<00:19,  6.62it/s]"
     ]
    },
    {
     "name": "stdout",
     "output_type": "stream",
     "text": [
      "\n",
      "Epoch 061 train_loss: 1.5595 val_loss 1.6114 train_acc 0.5599 val_acc 0.5606\n"
     ]
    },
    {
     "name": "stderr",
     "output_type": "stream",
     "text": [
      "Epoch: 100%|██████████| 129/129 [00:18<00:00,  6.91it/s]\n",
      "Epoch:   1%|          | 1/129 [00:00<00:20,  6.11it/s]"
     ]
    },
    {
     "name": "stdout",
     "output_type": "stream",
     "text": [
      "\n",
      "Epoch 062 train_loss: 1.5630 val_loss 2.0249 train_acc 0.5498 val_acc 0.4339\n"
     ]
    },
    {
     "name": "stderr",
     "output_type": "stream",
     "text": [
      "Epoch: 100%|██████████| 129/129 [00:18<00:00,  7.03it/s]\n",
      "Epoch:   1%|          | 1/129 [00:00<00:17,  7.37it/s]"
     ]
    },
    {
     "name": "stdout",
     "output_type": "stream",
     "text": [
      "\n",
      "Epoch 063 train_loss: 1.5507 val_loss 1.6502 train_acc 0.5549 val_acc 0.5453\n"
     ]
    },
    {
     "name": "stderr",
     "output_type": "stream",
     "text": [
      "Epoch: 100%|██████████| 129/129 [00:18<00:00,  6.93it/s]\n",
      "Epoch:   1%|          | 1/129 [00:00<00:17,  7.39it/s]"
     ]
    },
    {
     "name": "stdout",
     "output_type": "stream",
     "text": [
      "\n",
      "Epoch 064 train_loss: 1.5340 val_loss 1.6442 train_acc 0.5663 val_acc 0.5485\n"
     ]
    },
    {
     "name": "stderr",
     "output_type": "stream",
     "text": [
      "Epoch: 100%|██████████| 129/129 [00:18<00:00,  6.87it/s]\n",
      "Epoch:   1%|          | 1/129 [00:00<00:17,  7.27it/s]"
     ]
    },
    {
     "name": "stdout",
     "output_type": "stream",
     "text": [
      "\n",
      "Epoch 065 train_loss: 1.5425 val_loss 1.6365 train_acc 0.5620 val_acc 0.5540\n"
     ]
    },
    {
     "name": "stderr",
     "output_type": "stream",
     "text": [
      "Epoch: 100%|██████████| 129/129 [00:18<00:00,  7.16it/s]\n",
      "Epoch:   1%|          | 1/129 [00:00<00:19,  6.61it/s]"
     ]
    },
    {
     "name": "stdout",
     "output_type": "stream",
     "text": [
      "\n",
      "Epoch 066 train_loss: 1.5226 val_loss 1.6751 train_acc 0.5641 val_acc 0.5427\n"
     ]
    },
    {
     "name": "stderr",
     "output_type": "stream",
     "text": [
      "Epoch: 100%|██████████| 129/129 [00:18<00:00,  7.10it/s]\n",
      "Epoch:   1%|          | 1/129 [00:00<00:17,  7.26it/s]"
     ]
    },
    {
     "name": "stdout",
     "output_type": "stream",
     "text": [
      "\n",
      "Epoch 067 train_loss: 1.5269 val_loss 1.6184 train_acc 0.5644 val_acc 0.5580\n"
     ]
    },
    {
     "name": "stderr",
     "output_type": "stream",
     "text": [
      "Epoch: 100%|██████████| 129/129 [00:18<00:00,  7.09it/s]\n",
      "Epoch:   1%|          | 1/129 [00:00<00:16,  7.62it/s]"
     ]
    },
    {
     "name": "stdout",
     "output_type": "stream",
     "text": [
      "\n",
      "Epoch 068 train_loss: 1.5430 val_loss 1.6115 train_acc 0.5590 val_acc 0.5584\n"
     ]
    },
    {
     "name": "stderr",
     "output_type": "stream",
     "text": [
      "Epoch: 100%|██████████| 129/129 [00:17<00:00,  7.18it/s]\n",
      "Epoch:   1%|          | 1/129 [00:00<00:17,  7.51it/s]"
     ]
    },
    {
     "name": "stdout",
     "output_type": "stream",
     "text": [
      "\n",
      "Epoch 069 train_loss: 1.5333 val_loss 1.6287 train_acc 0.5630 val_acc 0.5482\n"
     ]
    },
    {
     "name": "stderr",
     "output_type": "stream",
     "text": [
      "Epoch: 100%|██████████| 129/129 [00:18<00:00,  7.13it/s]\n",
      "Epoch:   1%|          | 1/129 [00:00<00:16,  7.95it/s]"
     ]
    },
    {
     "name": "stdout",
     "output_type": "stream",
     "text": [
      "\n",
      "Epoch 070 train_loss: 1.5260 val_loss 1.7067 train_acc 0.5644 val_acc 0.5234\n"
     ]
    },
    {
     "name": "stderr",
     "output_type": "stream",
     "text": [
      "Epoch: 100%|██████████| 129/129 [00:18<00:00,  7.00it/s]\n",
      "Epoch:   1%|          | 1/129 [00:00<00:18,  6.76it/s]"
     ]
    },
    {
     "name": "stdout",
     "output_type": "stream",
     "text": [
      "\n",
      "Epoch 071 train_loss: 1.5138 val_loss 1.8370 train_acc 0.5631 val_acc 0.4931\n"
     ]
    },
    {
     "name": "stderr",
     "output_type": "stream",
     "text": [
      "Epoch: 100%|██████████| 129/129 [00:17<00:00,  7.35it/s]\n",
      "Epoch:   1%|          | 1/129 [00:00<00:16,  7.87it/s]"
     ]
    },
    {
     "name": "stdout",
     "output_type": "stream",
     "text": [
      "\n",
      "Epoch 072 train_loss: 1.5412 val_loss 1.6923 train_acc 0.5612 val_acc 0.5310\n"
     ]
    },
    {
     "name": "stderr",
     "output_type": "stream",
     "text": [
      "Epoch: 100%|██████████| 129/129 [00:18<00:00,  7.15it/s]\n",
      "Epoch:   1%|          | 1/129 [00:00<00:17,  7.42it/s]"
     ]
    },
    {
     "name": "stdout",
     "output_type": "stream",
     "text": [
      "\n",
      "Epoch 073 train_loss: 1.5169 val_loss 1.6276 train_acc 0.5676 val_acc 0.5529\n"
     ]
    },
    {
     "name": "stderr",
     "output_type": "stream",
     "text": [
      "Epoch: 100%|██████████| 129/129 [00:18<00:00,  6.86it/s]\n",
      "Epoch:   1%|          | 1/129 [00:00<00:16,  7.53it/s]"
     ]
    },
    {
     "name": "stdout",
     "output_type": "stream",
     "text": [
      "\n",
      "Epoch 074 train_loss: 1.4980 val_loss 1.6888 train_acc 0.5740 val_acc 0.5427\n"
     ]
    },
    {
     "name": "stderr",
     "output_type": "stream",
     "text": [
      "Epoch: 100%|██████████| 129/129 [00:18<00:00,  7.16it/s]\n",
      "Epoch:   1%|          | 1/129 [00:00<00:17,  7.45it/s]"
     ]
    },
    {
     "name": "stdout",
     "output_type": "stream",
     "text": [
      "\n",
      "Epoch 075 train_loss: 1.5208 val_loss 1.6294 train_acc 0.5600 val_acc 0.5558\n"
     ]
    },
    {
     "name": "stderr",
     "output_type": "stream",
     "text": [
      "Epoch: 100%|██████████| 129/129 [00:17<00:00,  7.34it/s]\n",
      "Epoch:   1%|          | 1/129 [00:00<00:16,  7.67it/s]"
     ]
    },
    {
     "name": "stdout",
     "output_type": "stream",
     "text": [
      "\n",
      "Epoch 076 train_loss: 1.5186 val_loss 1.5991 train_acc 0.5589 val_acc 0.5591\n"
     ]
    },
    {
     "name": "stderr",
     "output_type": "stream",
     "text": [
      "Epoch: 100%|██████████| 129/129 [00:17<00:00,  7.32it/s]\n",
      "Epoch:   1%|          | 1/129 [00:00<00:18,  7.08it/s]"
     ]
    },
    {
     "name": "stdout",
     "output_type": "stream",
     "text": [
      "\n",
      "Epoch 077 train_loss: 1.5099 val_loss 1.5876 train_acc 0.5745 val_acc 0.5609\n"
     ]
    },
    {
     "name": "stderr",
     "output_type": "stream",
     "text": [
      "Epoch: 100%|██████████| 129/129 [00:18<00:00,  6.80it/s]\n",
      "Epoch:   1%|          | 1/129 [00:00<00:17,  7.45it/s]"
     ]
    },
    {
     "name": "stdout",
     "output_type": "stream",
     "text": [
      "\n",
      "Epoch 078 train_loss: 1.5073 val_loss 1.6134 train_acc 0.5706 val_acc 0.5515\n"
     ]
    },
    {
     "name": "stderr",
     "output_type": "stream",
     "text": [
      "Epoch: 100%|██████████| 129/129 [00:18<00:00,  6.99it/s]\n",
      "Epoch:   1%|          | 1/129 [00:00<00:16,  7.54it/s]"
     ]
    },
    {
     "name": "stdout",
     "output_type": "stream",
     "text": [
      "\n",
      "Epoch 079 train_loss: 1.4987 val_loss 1.7488 train_acc 0.5678 val_acc 0.5113\n"
     ]
    },
    {
     "name": "stderr",
     "output_type": "stream",
     "text": [
      "Epoch: 100%|██████████| 129/129 [00:18<00:00,  7.16it/s]\n",
      "Epoch:   1%|          | 1/129 [00:00<00:17,  7.24it/s]"
     ]
    },
    {
     "name": "stdout",
     "output_type": "stream",
     "text": [
      "\n",
      "Epoch 080 train_loss: 1.5010 val_loss 1.6414 train_acc 0.5766 val_acc 0.5489\n"
     ]
    },
    {
     "name": "stderr",
     "output_type": "stream",
     "text": [
      "Epoch: 100%|██████████| 129/129 [00:17<00:00,  7.19it/s]\n",
      "Epoch:   1%|          | 1/129 [00:00<00:16,  7.68it/s]"
     ]
    },
    {
     "name": "stdout",
     "output_type": "stream",
     "text": [
      "\n",
      "Epoch 081 train_loss: 1.4974 val_loss 1.5863 train_acc 0.5706 val_acc 0.5686\n"
     ]
    },
    {
     "name": "stderr",
     "output_type": "stream",
     "text": [
      "Epoch: 100%|██████████| 129/129 [00:17<00:00,  7.30it/s]\n",
      "Epoch:   1%|          | 1/129 [00:00<00:18,  7.07it/s]"
     ]
    },
    {
     "name": "stdout",
     "output_type": "stream",
     "text": [
      "\n",
      "Epoch 082 train_loss: 1.4876 val_loss 1.5645 train_acc 0.5732 val_acc 0.5701\n"
     ]
    },
    {
     "name": "stderr",
     "output_type": "stream",
     "text": [
      "Epoch: 100%|██████████| 129/129 [00:18<00:00,  6.86it/s]\n",
      "Epoch:   1%|          | 1/129 [00:00<00:18,  6.84it/s]"
     ]
    },
    {
     "name": "stdout",
     "output_type": "stream",
     "text": [
      "\n",
      "Epoch 083 train_loss: 1.4883 val_loss 1.5961 train_acc 0.5764 val_acc 0.5540\n"
     ]
    },
    {
     "name": "stderr",
     "output_type": "stream",
     "text": [
      "Epoch: 100%|██████████| 129/129 [00:18<00:00,  7.06it/s]\n",
      "Epoch:   1%|          | 1/129 [00:00<00:17,  7.25it/s]"
     ]
    },
    {
     "name": "stdout",
     "output_type": "stream",
     "text": [
      "\n",
      "Epoch 084 train_loss: 1.4805 val_loss 1.5607 train_acc 0.5769 val_acc 0.5719\n"
     ]
    },
    {
     "name": "stderr",
     "output_type": "stream",
     "text": [
      "Epoch: 100%|██████████| 129/129 [00:18<00:00,  6.87it/s]\n",
      "Epoch:   1%|          | 1/129 [00:00<00:17,  7.23it/s]"
     ]
    },
    {
     "name": "stdout",
     "output_type": "stream",
     "text": [
      "\n",
      "Epoch 085 train_loss: 1.4833 val_loss 1.5952 train_acc 0.5773 val_acc 0.5646\n"
     ]
    },
    {
     "name": "stderr",
     "output_type": "stream",
     "text": [
      "Epoch: 100%|██████████| 129/129 [00:17<00:00,  7.28it/s]\n",
      "Epoch:   1%|          | 1/129 [00:00<00:17,  7.33it/s]"
     ]
    },
    {
     "name": "stdout",
     "output_type": "stream",
     "text": [
      "\n",
      "Epoch 086 train_loss: 1.4721 val_loss 1.7263 train_acc 0.5762 val_acc 0.5318\n"
     ]
    },
    {
     "name": "stderr",
     "output_type": "stream",
     "text": [
      "Epoch: 100%|██████████| 129/129 [00:17<00:00,  7.18it/s]\n",
      "Epoch:   1%|          | 1/129 [00:00<00:18,  6.78it/s]"
     ]
    },
    {
     "name": "stdout",
     "output_type": "stream",
     "text": [
      "\n",
      "Epoch 087 train_loss: 1.4855 val_loss 1.6459 train_acc 0.5738 val_acc 0.5453\n"
     ]
    },
    {
     "name": "stderr",
     "output_type": "stream",
     "text": [
      "Epoch: 100%|██████████| 129/129 [00:18<00:00,  7.15it/s]\n",
      "Epoch:   1%|          | 1/129 [00:00<00:17,  7.53it/s]"
     ]
    },
    {
     "name": "stdout",
     "output_type": "stream",
     "text": [
      "\n",
      "Epoch 088 train_loss: 1.4773 val_loss 1.5704 train_acc 0.5719 val_acc 0.5675\n"
     ]
    },
    {
     "name": "stderr",
     "output_type": "stream",
     "text": [
      "Epoch: 100%|██████████| 129/129 [00:17<00:00,  7.23it/s]\n",
      "Epoch:   1%|          | 1/129 [00:00<00:19,  6.52it/s]"
     ]
    },
    {
     "name": "stdout",
     "output_type": "stream",
     "text": [
      "\n",
      "Epoch 089 train_loss: 1.4781 val_loss 1.5743 train_acc 0.5757 val_acc 0.5693\n"
     ]
    },
    {
     "name": "stderr",
     "output_type": "stream",
     "text": [
      "Epoch: 100%|██████████| 129/129 [00:17<00:00,  7.26it/s]\n",
      "Epoch:   1%|          | 1/129 [00:00<00:19,  6.62it/s]"
     ]
    },
    {
     "name": "stdout",
     "output_type": "stream",
     "text": [
      "\n",
      "Epoch 090 train_loss: 1.4697 val_loss 1.5909 train_acc 0.5832 val_acc 0.5562\n"
     ]
    },
    {
     "name": "stderr",
     "output_type": "stream",
     "text": [
      "Epoch: 100%|██████████| 129/129 [00:18<00:00,  6.97it/s]\n",
      "Epoch:   1%|          | 1/129 [00:00<00:17,  7.45it/s]"
     ]
    },
    {
     "name": "stdout",
     "output_type": "stream",
     "text": [
      "\n",
      "Epoch 091 train_loss: 1.4521 val_loss 1.6183 train_acc 0.5895 val_acc 0.5580\n"
     ]
    },
    {
     "name": "stderr",
     "output_type": "stream",
     "text": [
      "Epoch: 100%|██████████| 129/129 [00:18<00:00,  7.09it/s]\n",
      "Epoch:   1%|          | 1/129 [00:00<00:17,  7.42it/s]"
     ]
    },
    {
     "name": "stdout",
     "output_type": "stream",
     "text": [
      "\n",
      "Epoch 092 train_loss: 1.4662 val_loss 1.6411 train_acc 0.5774 val_acc 0.5416\n"
     ]
    },
    {
     "name": "stderr",
     "output_type": "stream",
     "text": [
      "Epoch: 100%|██████████| 129/129 [00:17<00:00,  7.25it/s]\n",
      "Epoch:   1%|          | 1/129 [00:00<00:16,  7.75it/s]"
     ]
    },
    {
     "name": "stdout",
     "output_type": "stream",
     "text": [
      "\n",
      "Epoch 093 train_loss: 1.4703 val_loss 1.5842 train_acc 0.5776 val_acc 0.5693\n"
     ]
    },
    {
     "name": "stderr",
     "output_type": "stream",
     "text": [
      "Epoch: 100%|██████████| 129/129 [00:17<00:00,  7.32it/s]\n",
      "Epoch:   1%|          | 1/129 [00:00<00:16,  7.65it/s]"
     ]
    },
    {
     "name": "stdout",
     "output_type": "stream",
     "text": [
      "\n",
      "Epoch 094 train_loss: 1.4513 val_loss 1.6188 train_acc 0.5830 val_acc 0.5449\n"
     ]
    },
    {
     "name": "stderr",
     "output_type": "stream",
     "text": [
      "Epoch: 100%|██████████| 129/129 [00:18<00:00,  7.05it/s]\n",
      "Epoch:   1%|          | 1/129 [00:00<00:17,  7.53it/s]"
     ]
    },
    {
     "name": "stdout",
     "output_type": "stream",
     "text": [
      "\n",
      "Epoch 095 train_loss: 1.4500 val_loss 1.5412 train_acc 0.5816 val_acc 0.5763\n"
     ]
    },
    {
     "name": "stderr",
     "output_type": "stream",
     "text": [
      "Epoch: 100%|██████████| 129/129 [00:18<00:00,  7.06it/s]\n",
      "Epoch:   1%|          | 1/129 [00:00<00:19,  6.54it/s]"
     ]
    },
    {
     "name": "stdout",
     "output_type": "stream",
     "text": [
      "\n",
      "Epoch 096 train_loss: 1.4448 val_loss 1.5507 train_acc 0.5807 val_acc 0.5748\n"
     ]
    },
    {
     "name": "stderr",
     "output_type": "stream",
     "text": [
      "Epoch: 100%|██████████| 129/129 [00:17<00:00,  7.23it/s]\n",
      "Epoch:   1%|          | 1/129 [00:00<00:17,  7.28it/s]"
     ]
    },
    {
     "name": "stdout",
     "output_type": "stream",
     "text": [
      "\n",
      "Epoch 097 train_loss: 1.4409 val_loss 1.5489 train_acc 0.5856 val_acc 0.5701\n"
     ]
    },
    {
     "name": "stderr",
     "output_type": "stream",
     "text": [
      "Epoch: 100%|██████████| 129/129 [00:18<00:00,  6.85it/s]\n",
      "Epoch:   1%|          | 1/129 [00:00<00:18,  7.00it/s]"
     ]
    },
    {
     "name": "stdout",
     "output_type": "stream",
     "text": [
      "\n",
      "Epoch 098 train_loss: 1.4423 val_loss 1.5935 train_acc 0.5849 val_acc 0.5620\n"
     ]
    },
    {
     "name": "stderr",
     "output_type": "stream",
     "text": [
      "Epoch: 100%|██████████| 129/129 [00:17<00:00,  7.22it/s]\n",
      "Epoch:   1%|          | 1/129 [00:00<00:17,  7.32it/s]"
     ]
    },
    {
     "name": "stdout",
     "output_type": "stream",
     "text": [
      "\n",
      "Epoch 099 train_loss: 1.4402 val_loss 1.7490 train_acc 0.5895 val_acc 0.5277\n"
     ]
    },
    {
     "name": "stderr",
     "output_type": "stream",
     "text": [
      "Epoch: 100%|██████████| 129/129 [00:18<00:00,  6.98it/s]\n"
     ]
    },
    {
     "name": "stdout",
     "output_type": "stream",
     "text": [
      "\n",
      "Epoch 100 train_loss: 1.4402 val_loss 1.5529 train_acc 0.5770 val_acc 0.5766\n"
     ]
    }
   ],
   "source": [
    "optim = torch.optim.SGD(CNN.parameters(), lr=0.0003)\n",
    "criterion = nn.CrossEntropyLoss()\n",
    "\n",
    "history = train(train_dataset, val_dataset, model=CNN,  optim=optim,\n",
    "                criterion=criterion, epochs=100 , batch_size=64, device=DEVICE)"
   ]
  },
  {
   "cell_type": "code",
   "execution_count": 35,
   "metadata": {
    "scrolled": true
   },
   "outputs": [
    {
     "name": "stderr",
     "output_type": "stream",
     "text": [
      "Epoch: 100%|██████████| 129/129 [00:17<00:00,  7.23it/s]\n",
      "Epoch:   1%|          | 1/129 [00:00<00:17,  7.14it/s]"
     ]
    },
    {
     "name": "stdout",
     "output_type": "stream",
     "text": [
      "\n",
      "Epoch 001 train_loss: 1.3902 val_loss 1.5210 train_acc 0.6038 val_acc 0.5828\n"
     ]
    },
    {
     "name": "stderr",
     "output_type": "stream",
     "text": [
      "Epoch: 100%|██████████| 129/129 [00:18<00:00,  7.15it/s]\n",
      "Epoch:   1%|          | 1/129 [00:00<00:18,  6.76it/s]"
     ]
    },
    {
     "name": "stdout",
     "output_type": "stream",
     "text": [
      "\n",
      "Epoch 002 train_loss: 1.3868 val_loss 1.5229 train_acc 0.6035 val_acc 0.5821\n"
     ]
    },
    {
     "name": "stderr",
     "output_type": "stream",
     "text": [
      "Epoch: 100%|██████████| 129/129 [00:17<00:00,  7.25it/s]\n",
      "Epoch:   1%|          | 1/129 [00:00<00:17,  7.17it/s]"
     ]
    },
    {
     "name": "stdout",
     "output_type": "stream",
     "text": [
      "\n",
      "Epoch 003 train_loss: 1.3886 val_loss 1.5516 train_acc 0.6038 val_acc 0.5734\n"
     ]
    },
    {
     "name": "stderr",
     "output_type": "stream",
     "text": [
      "Epoch: 100%|██████████| 129/129 [00:19<00:00,  6.62it/s]\n",
      "Epoch:   1%|          | 1/129 [00:00<00:17,  7.51it/s]"
     ]
    },
    {
     "name": "stdout",
     "output_type": "stream",
     "text": [
      "\n",
      "Epoch 004 train_loss: 1.3932 val_loss 1.5442 train_acc 0.6039 val_acc 0.5770\n"
     ]
    },
    {
     "name": "stderr",
     "output_type": "stream",
     "text": [
      "Epoch: 100%|██████████| 129/129 [00:18<00:00,  7.05it/s]\n",
      "Epoch:   1%|          | 1/129 [00:00<00:17,  7.34it/s]"
     ]
    },
    {
     "name": "stdout",
     "output_type": "stream",
     "text": [
      "\n",
      "Epoch 005 train_loss: 1.3846 val_loss 1.5597 train_acc 0.6021 val_acc 0.5741\n"
     ]
    },
    {
     "name": "stderr",
     "output_type": "stream",
     "text": [
      "Epoch: 100%|██████████| 129/129 [00:18<00:00,  7.11it/s]\n",
      "Epoch:   1%|          | 1/129 [00:00<00:16,  7.53it/s]"
     ]
    },
    {
     "name": "stdout",
     "output_type": "stream",
     "text": [
      "\n",
      "Epoch 006 train_loss: 1.3926 val_loss 1.5299 train_acc 0.5998 val_acc 0.5825\n"
     ]
    },
    {
     "name": "stderr",
     "output_type": "stream",
     "text": [
      "Epoch: 100%|██████████| 129/129 [00:17<00:00,  7.23it/s]\n",
      "Epoch:   1%|          | 1/129 [00:00<00:17,  7.33it/s]"
     ]
    },
    {
     "name": "stdout",
     "output_type": "stream",
     "text": [
      "\n",
      "Epoch 007 train_loss: 1.3866 val_loss 1.5378 train_acc 0.6072 val_acc 0.5734\n"
     ]
    },
    {
     "name": "stderr",
     "output_type": "stream",
     "text": [
      "Epoch: 100%|██████████| 129/129 [00:17<00:00,  7.22it/s]\n",
      "Epoch:   1%|          | 1/129 [00:00<00:16,  7.63it/s]"
     ]
    },
    {
     "name": "stdout",
     "output_type": "stream",
     "text": [
      "\n",
      "Epoch 008 train_loss: 1.3749 val_loss 1.5271 train_acc 0.6068 val_acc 0.5828\n"
     ]
    },
    {
     "name": "stderr",
     "output_type": "stream",
     "text": [
      "Epoch: 100%|██████████| 129/129 [00:18<00:00,  7.04it/s]\n",
      "Epoch:   1%|          | 1/129 [00:00<00:16,  7.70it/s]"
     ]
    },
    {
     "name": "stdout",
     "output_type": "stream",
     "text": [
      "\n",
      "Epoch 009 train_loss: 1.3833 val_loss 1.5189 train_acc 0.6024 val_acc 0.5839\n"
     ]
    },
    {
     "name": "stderr",
     "output_type": "stream",
     "text": [
      "Epoch: 100%|██████████| 129/129 [00:18<00:00,  6.79it/s]\n",
      "Epoch:   1%|          | 1/129 [00:00<00:18,  7.11it/s]"
     ]
    },
    {
     "name": "stdout",
     "output_type": "stream",
     "text": [
      "\n",
      "Epoch 010 train_loss: 1.3665 val_loss 1.5203 train_acc 0.6123 val_acc 0.5828\n"
     ]
    },
    {
     "name": "stderr",
     "output_type": "stream",
     "text": [
      "Epoch: 100%|██████████| 129/129 [00:16<00:00,  7.68it/s]\n",
      "Epoch:   1%|          | 1/129 [00:00<00:17,  7.36it/s]"
     ]
    },
    {
     "name": "stdout",
     "output_type": "stream",
     "text": [
      "\n",
      "Epoch 011 train_loss: 1.3796 val_loss 1.5117 train_acc 0.6039 val_acc 0.5832\n"
     ]
    },
    {
     "name": "stderr",
     "output_type": "stream",
     "text": [
      "Epoch: 100%|██████████| 129/129 [00:18<00:00,  7.12it/s]\n",
      "Epoch:   1%|          | 1/129 [00:00<00:16,  7.66it/s]"
     ]
    },
    {
     "name": "stdout",
     "output_type": "stream",
     "text": [
      "\n",
      "Epoch 012 train_loss: 1.3776 val_loss 1.5599 train_acc 0.6061 val_acc 0.5642\n"
     ]
    },
    {
     "name": "stderr",
     "output_type": "stream",
     "text": [
      "Epoch: 100%|██████████| 129/129 [00:17<00:00,  7.44it/s]\n",
      "Epoch:   1%|          | 1/129 [00:00<00:18,  6.88it/s]"
     ]
    },
    {
     "name": "stdout",
     "output_type": "stream",
     "text": [
      "\n",
      "Epoch 013 train_loss: 1.3741 val_loss 1.5025 train_acc 0.6079 val_acc 0.5843\n"
     ]
    },
    {
     "name": "stderr",
     "output_type": "stream",
     "text": [
      "Epoch: 100%|██████████| 129/129 [00:17<00:00,  7.49it/s]\n",
      "Epoch:   1%|          | 1/129 [00:00<00:16,  7.63it/s]"
     ]
    },
    {
     "name": "stdout",
     "output_type": "stream",
     "text": [
      "\n",
      "Epoch 014 train_loss: 1.3726 val_loss 1.5197 train_acc 0.6066 val_acc 0.5796\n"
     ]
    },
    {
     "name": "stderr",
     "output_type": "stream",
     "text": [
      "Epoch: 100%|██████████| 129/129 [00:17<00:00,  7.55it/s]\n",
      "Epoch:   1%|          | 1/129 [00:00<00:16,  7.67it/s]"
     ]
    },
    {
     "name": "stdout",
     "output_type": "stream",
     "text": [
      "\n",
      "Epoch 015 train_loss: 1.3714 val_loss 1.5441 train_acc 0.6095 val_acc 0.5745\n"
     ]
    },
    {
     "name": "stderr",
     "output_type": "stream",
     "text": [
      "Epoch: 100%|██████████| 129/129 [00:16<00:00,  7.61it/s]\n",
      "Epoch:   1%|          | 1/129 [00:00<00:17,  7.41it/s]"
     ]
    },
    {
     "name": "stdout",
     "output_type": "stream",
     "text": [
      "\n",
      "Epoch 016 train_loss: 1.3633 val_loss 1.5194 train_acc 0.6052 val_acc 0.5818\n"
     ]
    },
    {
     "name": "stderr",
     "output_type": "stream",
     "text": [
      "Epoch: 100%|██████████| 129/129 [00:18<00:00,  7.03it/s]\n",
      "Epoch:   1%|          | 1/129 [00:00<00:16,  7.76it/s]"
     ]
    },
    {
     "name": "stdout",
     "output_type": "stream",
     "text": [
      "\n",
      "Epoch 017 train_loss: 1.3667 val_loss 1.5430 train_acc 0.6072 val_acc 0.5788\n"
     ]
    },
    {
     "name": "stderr",
     "output_type": "stream",
     "text": [
      "Epoch: 100%|██████████| 129/129 [00:17<00:00,  7.25it/s]\n",
      "Epoch:   1%|          | 1/129 [00:00<00:19,  6.53it/s]"
     ]
    },
    {
     "name": "stdout",
     "output_type": "stream",
     "text": [
      "\n",
      "Epoch 018 train_loss: 1.3598 val_loss 1.5178 train_acc 0.6112 val_acc 0.5818\n"
     ]
    },
    {
     "name": "stderr",
     "output_type": "stream",
     "text": [
      "Epoch: 100%|██████████| 129/129 [00:17<00:00,  7.34it/s]\n",
      "Epoch:   1%|          | 1/129 [00:00<00:15,  8.27it/s]"
     ]
    },
    {
     "name": "stdout",
     "output_type": "stream",
     "text": [
      "\n",
      "Epoch 019 train_loss: 1.3675 val_loss 1.5083 train_acc 0.6088 val_acc 0.5843\n"
     ]
    },
    {
     "name": "stderr",
     "output_type": "stream",
     "text": [
      "Epoch: 100%|██████████| 129/129 [00:17<00:00,  7.40it/s]\n",
      "Epoch:   1%|          | 1/129 [00:00<00:16,  7.97it/s]"
     ]
    },
    {
     "name": "stdout",
     "output_type": "stream",
     "text": [
      "\n",
      "Epoch 020 train_loss: 1.3587 val_loss 1.5148 train_acc 0.6116 val_acc 0.5821\n"
     ]
    },
    {
     "name": "stderr",
     "output_type": "stream",
     "text": [
      "Epoch: 100%|██████████| 129/129 [00:16<00:00,  7.67it/s]\n",
      "Epoch:   1%|          | 1/129 [00:00<00:17,  7.50it/s]"
     ]
    },
    {
     "name": "stdout",
     "output_type": "stream",
     "text": [
      "\n",
      "Epoch 021 train_loss: 1.3515 val_loss 1.5229 train_acc 0.6109 val_acc 0.5814\n"
     ]
    },
    {
     "name": "stderr",
     "output_type": "stream",
     "text": [
      "Epoch: 100%|██████████| 129/129 [00:17<00:00,  7.44it/s]\n",
      "Epoch:   1%|          | 1/129 [00:00<00:16,  7.89it/s]"
     ]
    },
    {
     "name": "stdout",
     "output_type": "stream",
     "text": [
      "\n",
      "Epoch 022 train_loss: 1.3614 val_loss 1.5099 train_acc 0.6049 val_acc 0.5828\n"
     ]
    },
    {
     "name": "stderr",
     "output_type": "stream",
     "text": [
      "Epoch: 100%|██████████| 129/129 [00:17<00:00,  7.45it/s]\n",
      "Epoch:   1%|          | 1/129 [00:00<00:17,  7.17it/s]"
     ]
    },
    {
     "name": "stdout",
     "output_type": "stream",
     "text": [
      "\n",
      "Epoch 023 train_loss: 1.3599 val_loss 1.5574 train_acc 0.6122 val_acc 0.5770\n"
     ]
    },
    {
     "name": "stderr",
     "output_type": "stream",
     "text": [
      "Epoch: 100%|██████████| 129/129 [00:18<00:00,  6.93it/s]\n",
      "Epoch:   1%|          | 1/129 [00:00<00:21,  5.94it/s]"
     ]
    },
    {
     "name": "stdout",
     "output_type": "stream",
     "text": [
      "\n",
      "Epoch 024 train_loss: 1.3576 val_loss 1.4954 train_acc 0.6082 val_acc 0.5869\n"
     ]
    },
    {
     "name": "stderr",
     "output_type": "stream",
     "text": [
      "Epoch: 100%|██████████| 129/129 [00:17<00:00,  7.29it/s]\n",
      "Epoch:   1%|          | 1/129 [00:00<00:20,  6.13it/s]"
     ]
    },
    {
     "name": "stdout",
     "output_type": "stream",
     "text": [
      "\n",
      "Epoch 025 train_loss: 1.3588 val_loss 1.5124 train_acc 0.6109 val_acc 0.5839\n"
     ]
    },
    {
     "name": "stderr",
     "output_type": "stream",
     "text": [
      "Epoch: 100%|██████████| 129/129 [00:17<00:00,  7.39it/s]\n",
      "Epoch:   1%|          | 1/129 [00:00<00:17,  7.47it/s]"
     ]
    },
    {
     "name": "stdout",
     "output_type": "stream",
     "text": [
      "\n",
      "Epoch 026 train_loss: 1.3617 val_loss 1.5131 train_acc 0.6101 val_acc 0.5854\n"
     ]
    },
    {
     "name": "stderr",
     "output_type": "stream",
     "text": [
      "Epoch: 100%|██████████| 129/129 [00:17<00:00,  7.30it/s]\n",
      "Epoch:   1%|          | 1/129 [00:00<00:17,  7.50it/s]"
     ]
    },
    {
     "name": "stdout",
     "output_type": "stream",
     "text": [
      "\n",
      "Epoch 027 train_loss: 1.3534 val_loss 1.5234 train_acc 0.6040 val_acc 0.5814\n"
     ]
    },
    {
     "name": "stderr",
     "output_type": "stream",
     "text": [
      "Epoch: 100%|██████████| 129/129 [00:17<00:00,  7.19it/s]\n",
      "Epoch:   1%|          | 1/129 [00:00<00:18,  7.08it/s]"
     ]
    },
    {
     "name": "stdout",
     "output_type": "stream",
     "text": [
      "\n",
      "Epoch 028 train_loss: 1.3497 val_loss 1.5059 train_acc 0.6150 val_acc 0.5858\n"
     ]
    },
    {
     "name": "stderr",
     "output_type": "stream",
     "text": [
      "Epoch: 100%|██████████| 129/129 [00:17<00:00,  7.50it/s]\n",
      "Epoch:   1%|          | 1/129 [00:00<00:17,  7.30it/s]"
     ]
    },
    {
     "name": "stdout",
     "output_type": "stream",
     "text": [
      "\n",
      "Epoch 029 train_loss: 1.3479 val_loss 1.5015 train_acc 0.6130 val_acc 0.5861\n"
     ]
    },
    {
     "name": "stderr",
     "output_type": "stream",
     "text": [
      "Epoch: 100%|██████████| 129/129 [00:17<00:00,  7.51it/s]\n",
      "Epoch:   1%|          | 1/129 [00:00<00:17,  7.26it/s]"
     ]
    },
    {
     "name": "stdout",
     "output_type": "stream",
     "text": [
      "\n",
      "Epoch 030 train_loss: 1.3488 val_loss 1.5113 train_acc 0.6148 val_acc 0.5850\n"
     ]
    },
    {
     "name": "stderr",
     "output_type": "stream",
     "text": [
      "Epoch: 100%|██████████| 129/129 [00:16<00:00,  7.61it/s]\n",
      "Epoch:   1%|          | 1/129 [00:00<00:16,  7.90it/s]"
     ]
    },
    {
     "name": "stdout",
     "output_type": "stream",
     "text": [
      "\n",
      "Epoch 031 train_loss: 1.3510 val_loss 1.5528 train_acc 0.6141 val_acc 0.5704\n"
     ]
    },
    {
     "name": "stderr",
     "output_type": "stream",
     "text": [
      "Epoch: 100%|██████████| 129/129 [00:17<00:00,  7.21it/s]\n",
      "Epoch:   1%|          | 1/129 [00:00<00:16,  7.74it/s]"
     ]
    },
    {
     "name": "stdout",
     "output_type": "stream",
     "text": [
      "\n",
      "Epoch 032 train_loss: 1.3528 val_loss 1.4988 train_acc 0.6088 val_acc 0.5861\n"
     ]
    },
    {
     "name": "stderr",
     "output_type": "stream",
     "text": [
      "Epoch: 100%|██████████| 129/129 [00:18<00:00,  6.96it/s]\n",
      "Epoch:   1%|          | 1/129 [00:00<00:17,  7.22it/s]"
     ]
    },
    {
     "name": "stdout",
     "output_type": "stream",
     "text": [
      "\n",
      "Epoch 033 train_loss: 1.3445 val_loss 1.5076 train_acc 0.6122 val_acc 0.5858\n"
     ]
    },
    {
     "name": "stderr",
     "output_type": "stream",
     "text": [
      "Epoch: 100%|██████████| 129/129 [00:17<00:00,  7.34it/s]\n",
      "Epoch:   1%|          | 1/129 [00:00<00:16,  7.92it/s]"
     ]
    },
    {
     "name": "stdout",
     "output_type": "stream",
     "text": [
      "\n",
      "Epoch 034 train_loss: 1.3364 val_loss 1.5263 train_acc 0.6178 val_acc 0.5777\n"
     ]
    },
    {
     "name": "stderr",
     "output_type": "stream",
     "text": [
      "Epoch: 100%|██████████| 129/129 [00:17<00:00,  6.74it/s]\n",
      "Epoch:   1%|          | 1/129 [00:00<00:21,  5.97it/s]"
     ]
    },
    {
     "name": "stdout",
     "output_type": "stream",
     "text": [
      "\n",
      "Epoch 035 train_loss: 1.3453 val_loss 1.5310 train_acc 0.6131 val_acc 0.5755\n"
     ]
    },
    {
     "name": "stderr",
     "output_type": "stream",
     "text": [
      "Epoch: 100%|██████████| 129/129 [00:17<00:00,  7.40it/s]\n",
      "Epoch:   1%|          | 1/129 [00:00<00:18,  7.02it/s]"
     ]
    },
    {
     "name": "stdout",
     "output_type": "stream",
     "text": [
      "\n",
      "Epoch 036 train_loss: 1.3460 val_loss 1.4845 train_acc 0.6100 val_acc 0.5869\n"
     ]
    },
    {
     "name": "stderr",
     "output_type": "stream",
     "text": [
      "Epoch: 100%|██████████| 129/129 [00:17<00:00,  7.54it/s]\n",
      "Epoch:   1%|          | 1/129 [00:00<00:16,  7.93it/s]"
     ]
    },
    {
     "name": "stdout",
     "output_type": "stream",
     "text": [
      "\n",
      "Epoch 037 train_loss: 1.3401 val_loss 1.4960 train_acc 0.6123 val_acc 0.5876\n"
     ]
    },
    {
     "name": "stderr",
     "output_type": "stream",
     "text": [
      "Epoch: 100%|██████████| 129/129 [00:17<00:00,  7.43it/s]\n",
      "Epoch:   1%|          | 1/129 [00:00<00:16,  7.84it/s]"
     ]
    },
    {
     "name": "stdout",
     "output_type": "stream",
     "text": [
      "\n",
      "Epoch 038 train_loss: 1.3337 val_loss 1.4922 train_acc 0.6122 val_acc 0.5912\n"
     ]
    },
    {
     "name": "stderr",
     "output_type": "stream",
     "text": [
      "Epoch: 100%|██████████| 129/129 [00:17<00:00,  7.44it/s]\n",
      "Epoch:   1%|          | 1/129 [00:00<00:16,  7.60it/s]"
     ]
    },
    {
     "name": "stdout",
     "output_type": "stream",
     "text": [
      "\n",
      "Epoch 039 train_loss: 1.3429 val_loss 1.5065 train_acc 0.6116 val_acc 0.5865\n"
     ]
    },
    {
     "name": "stderr",
     "output_type": "stream",
     "text": [
      "Epoch: 100%|██████████| 129/129 [00:16<00:00,  7.59it/s]\n",
      "Epoch:   1%|          | 1/129 [00:00<00:16,  7.78it/s]"
     ]
    },
    {
     "name": "stdout",
     "output_type": "stream",
     "text": [
      "\n",
      "Epoch 040 train_loss: 1.3349 val_loss 1.4939 train_acc 0.6141 val_acc 0.5876\n"
     ]
    },
    {
     "name": "stderr",
     "output_type": "stream",
     "text": [
      "Epoch: 100%|██████████| 129/129 [00:17<00:00,  7.50it/s]\n",
      "Epoch:   1%|          | 1/129 [00:00<00:17,  7.33it/s]"
     ]
    },
    {
     "name": "stdout",
     "output_type": "stream",
     "text": [
      "\n",
      "Epoch 041 train_loss: 1.3426 val_loss 1.4918 train_acc 0.6139 val_acc 0.5901\n"
     ]
    },
    {
     "name": "stderr",
     "output_type": "stream",
     "text": [
      "Epoch: 100%|██████████| 129/129 [00:17<00:00,  7.56it/s]\n",
      "Epoch:   1%|          | 1/129 [00:00<00:17,  7.48it/s]"
     ]
    },
    {
     "name": "stdout",
     "output_type": "stream",
     "text": [
      "\n",
      "Epoch 042 train_loss: 1.3294 val_loss 1.5094 train_acc 0.6161 val_acc 0.5869\n"
     ]
    },
    {
     "name": "stderr",
     "output_type": "stream",
     "text": [
      "Epoch: 100%|██████████| 129/129 [00:17<00:00,  7.24it/s]\n",
      "Epoch:   1%|          | 1/129 [00:00<00:17,  7.17it/s]"
     ]
    },
    {
     "name": "stdout",
     "output_type": "stream",
     "text": [
      "\n",
      "Epoch 043 train_loss: 1.3357 val_loss 1.5072 train_acc 0.6161 val_acc 0.5850\n"
     ]
    },
    {
     "name": "stderr",
     "output_type": "stream",
     "text": [
      "Epoch: 100%|██████████| 129/129 [00:17<00:00,  7.24it/s]\n",
      "Epoch:   1%|          | 1/129 [00:00<00:16,  7.63it/s]"
     ]
    },
    {
     "name": "stdout",
     "output_type": "stream",
     "text": [
      "\n",
      "Epoch 044 train_loss: 1.3307 val_loss 1.4985 train_acc 0.6173 val_acc 0.5843\n"
     ]
    },
    {
     "name": "stderr",
     "output_type": "stream",
     "text": [
      "Epoch: 100%|██████████| 129/129 [00:18<00:00,  7.06it/s]\n",
      "Epoch:   1%|          | 1/129 [00:00<00:19,  6.69it/s]"
     ]
    },
    {
     "name": "stdout",
     "output_type": "stream",
     "text": [
      "\n",
      "Epoch 045 train_loss: 1.3303 val_loss 1.4855 train_acc 0.6180 val_acc 0.5880\n"
     ]
    },
    {
     "name": "stderr",
     "output_type": "stream",
     "text": [
      "Epoch: 100%|██████████| 129/129 [00:17<00:00,  7.28it/s]\n",
      "Epoch:   1%|          | 1/129 [00:00<00:16,  7.66it/s]"
     ]
    },
    {
     "name": "stdout",
     "output_type": "stream",
     "text": [
      "\n",
      "Epoch 046 train_loss: 1.3338 val_loss 1.4894 train_acc 0.6144 val_acc 0.5920\n"
     ]
    },
    {
     "name": "stderr",
     "output_type": "stream",
     "text": [
      "Epoch: 100%|██████████| 129/129 [00:17<00:00,  7.32it/s]\n",
      "Epoch:   1%|          | 1/129 [00:00<00:16,  7.54it/s]"
     ]
    },
    {
     "name": "stdout",
     "output_type": "stream",
     "text": [
      "\n",
      "Epoch 047 train_loss: 1.3320 val_loss 1.4896 train_acc 0.6191 val_acc 0.5912\n"
     ]
    },
    {
     "name": "stderr",
     "output_type": "stream",
     "text": [
      "Epoch: 100%|██████████| 129/129 [00:17<00:00,  7.58it/s]\n",
      "Epoch:   1%|          | 1/129 [00:00<00:16,  7.81it/s]"
     ]
    },
    {
     "name": "stdout",
     "output_type": "stream",
     "text": [
      "\n",
      "Epoch 048 train_loss: 1.3196 val_loss 1.4848 train_acc 0.6180 val_acc 0.5891\n"
     ]
    },
    {
     "name": "stderr",
     "output_type": "stream",
     "text": [
      "Epoch: 100%|██████████| 129/129 [00:17<00:00,  7.52it/s]\n",
      "Epoch:   1%|          | 1/129 [00:00<00:15,  8.27it/s]"
     ]
    },
    {
     "name": "stdout",
     "output_type": "stream",
     "text": [
      "\n",
      "Epoch 049 train_loss: 1.3178 val_loss 1.4914 train_acc 0.6180 val_acc 0.5865\n"
     ]
    },
    {
     "name": "stderr",
     "output_type": "stream",
     "text": [
      "Epoch: 100%|██████████| 129/129 [00:16<00:00,  7.61it/s]\n",
      "Epoch:   1%|          | 1/129 [00:00<00:16,  7.70it/s]"
     ]
    },
    {
     "name": "stdout",
     "output_type": "stream",
     "text": [
      "\n",
      "Epoch 050 train_loss: 1.3299 val_loss 1.4822 train_acc 0.6178 val_acc 0.5927\n"
     ]
    },
    {
     "name": "stderr",
     "output_type": "stream",
     "text": [
      "Epoch: 100%|██████████| 129/129 [00:17<00:00,  7.18it/s]\n",
      "Epoch:   1%|          | 1/129 [00:00<00:15,  8.16it/s]"
     ]
    },
    {
     "name": "stdout",
     "output_type": "stream",
     "text": [
      "\n",
      "Epoch 051 train_loss: 1.3320 val_loss 1.6414 train_acc 0.6105 val_acc 0.5401\n"
     ]
    },
    {
     "name": "stderr",
     "output_type": "stream",
     "text": [
      "Epoch: 100%|██████████| 129/129 [00:18<00:00,  7.03it/s]\n",
      "Epoch:   1%|          | 1/129 [00:00<00:16,  7.61it/s]"
     ]
    },
    {
     "name": "stdout",
     "output_type": "stream",
     "text": [
      "\n",
      "Epoch 052 train_loss: 1.3248 val_loss 1.4946 train_acc 0.6191 val_acc 0.5905\n"
     ]
    },
    {
     "name": "stderr",
     "output_type": "stream",
     "text": [
      "Epoch: 100%|██████████| 129/129 [00:17<00:00,  7.56it/s]\n",
      "Epoch:   1%|          | 1/129 [00:00<00:16,  7.89it/s]"
     ]
    },
    {
     "name": "stdout",
     "output_type": "stream",
     "text": [
      "\n",
      "Epoch 053 train_loss: 1.3223 val_loss 1.4808 train_acc 0.6161 val_acc 0.5872\n"
     ]
    },
    {
     "name": "stderr",
     "output_type": "stream",
     "text": [
      "Epoch: 100%|██████████| 129/129 [00:18<00:00,  7.14it/s]\n",
      "Epoch:   1%|          | 1/129 [00:00<00:16,  7.94it/s]"
     ]
    },
    {
     "name": "stdout",
     "output_type": "stream",
     "text": [
      "\n",
      "Epoch 054 train_loss: 1.3200 val_loss 1.4821 train_acc 0.6217 val_acc 0.5880\n"
     ]
    },
    {
     "name": "stderr",
     "output_type": "stream",
     "text": [
      "Epoch: 100%|██████████| 129/129 [00:17<00:00,  7.47it/s]\n",
      "Epoch:   1%|          | 1/129 [00:00<00:16,  7.81it/s]"
     ]
    },
    {
     "name": "stdout",
     "output_type": "stream",
     "text": [
      "\n",
      "Epoch 055 train_loss: 1.3292 val_loss 1.4984 train_acc 0.6209 val_acc 0.5894\n"
     ]
    },
    {
     "name": "stderr",
     "output_type": "stream",
     "text": [
      "Epoch: 100%|██████████| 129/129 [00:17<00:00,  7.35it/s]\n",
      "Epoch:   1%|          | 1/129 [00:00<00:17,  7.51it/s]"
     ]
    },
    {
     "name": "stdout",
     "output_type": "stream",
     "text": [
      "\n",
      "Epoch 056 train_loss: 1.3268 val_loss 1.4836 train_acc 0.6165 val_acc 0.5909\n"
     ]
    },
    {
     "name": "stderr",
     "output_type": "stream",
     "text": [
      "Epoch: 100%|██████████| 129/129 [00:17<00:00,  7.52it/s]\n",
      "Epoch:   1%|          | 1/129 [00:00<00:16,  7.66it/s]"
     ]
    },
    {
     "name": "stdout",
     "output_type": "stream",
     "text": [
      "\n",
      "Epoch 057 train_loss: 1.3226 val_loss 1.4709 train_acc 0.6163 val_acc 0.5920\n"
     ]
    },
    {
     "name": "stderr",
     "output_type": "stream",
     "text": [
      "Epoch: 100%|██████████| 129/129 [00:16<00:00,  7.62it/s]\n",
      "Epoch:   1%|          | 1/129 [00:00<00:20,  6.14it/s]"
     ]
    },
    {
     "name": "stdout",
     "output_type": "stream",
     "text": [
      "\n",
      "Epoch 058 train_loss: 1.3167 val_loss 1.4820 train_acc 0.6198 val_acc 0.5891\n"
     ]
    },
    {
     "name": "stderr",
     "output_type": "stream",
     "text": [
      "Epoch: 100%|██████████| 129/129 [00:17<00:00,  7.43it/s]\n",
      "Epoch:   1%|          | 1/129 [00:00<00:16,  7.88it/s]"
     ]
    },
    {
     "name": "stdout",
     "output_type": "stream",
     "text": [
      "\n",
      "Epoch 059 train_loss: 1.3168 val_loss 1.5509 train_acc 0.6214 val_acc 0.5741\n"
     ]
    },
    {
     "name": "stderr",
     "output_type": "stream",
     "text": [
      "Epoch: 100%|██████████| 129/129 [00:16<00:00,  7.67it/s]\n",
      "Epoch:   1%|          | 1/129 [00:00<00:18,  7.09it/s]"
     ]
    },
    {
     "name": "stdout",
     "output_type": "stream",
     "text": [
      "\n",
      "Epoch 060 train_loss: 1.3042 val_loss 1.5217 train_acc 0.6223 val_acc 0.5774\n"
     ]
    },
    {
     "name": "stderr",
     "output_type": "stream",
     "text": [
      "Epoch: 100%|██████████| 129/129 [00:17<00:00,  7.48it/s]\n",
      "Epoch:   1%|          | 1/129 [00:00<00:16,  7.86it/s]"
     ]
    },
    {
     "name": "stdout",
     "output_type": "stream",
     "text": [
      "\n",
      "Epoch 061 train_loss: 1.3151 val_loss 1.5128 train_acc 0.6212 val_acc 0.5818\n"
     ]
    },
    {
     "name": "stderr",
     "output_type": "stream",
     "text": [
      "Epoch: 100%|██████████| 129/129 [00:16<00:00,  7.66it/s]\n",
      "Epoch:   1%|          | 1/129 [00:00<00:16,  7.64it/s]"
     ]
    },
    {
     "name": "stdout",
     "output_type": "stream",
     "text": [
      "\n",
      "Epoch 062 train_loss: 1.3019 val_loss 1.4887 train_acc 0.6253 val_acc 0.5858\n"
     ]
    },
    {
     "name": "stderr",
     "output_type": "stream",
     "text": [
      "Epoch: 100%|██████████| 129/129 [00:16<00:00,  7.63it/s]\n",
      "Epoch:   1%|          | 1/129 [00:00<00:16,  7.71it/s]"
     ]
    },
    {
     "name": "stdout",
     "output_type": "stream",
     "text": [
      "\n",
      "Epoch 063 train_loss: 1.3031 val_loss 1.4885 train_acc 0.6232 val_acc 0.5876\n"
     ]
    },
    {
     "name": "stderr",
     "output_type": "stream",
     "text": [
      "Epoch: 100%|██████████| 129/129 [00:17<00:00,  7.38it/s]\n",
      "Epoch:   1%|          | 1/129 [00:00<00:15,  8.13it/s]"
     ]
    },
    {
     "name": "stdout",
     "output_type": "stream",
     "text": [
      "\n",
      "Epoch 064 train_loss: 1.3004 val_loss 1.4997 train_acc 0.6197 val_acc 0.5880\n"
     ]
    },
    {
     "name": "stderr",
     "output_type": "stream",
     "text": [
      "Epoch: 100%|██████████| 129/129 [00:17<00:00,  7.48it/s]\n",
      "Epoch:   1%|          | 1/129 [00:00<00:16,  7.66it/s]"
     ]
    },
    {
     "name": "stdout",
     "output_type": "stream",
     "text": [
      "\n",
      "Epoch 065 train_loss: 1.3023 val_loss 1.4851 train_acc 0.6227 val_acc 0.5869\n"
     ]
    },
    {
     "name": "stderr",
     "output_type": "stream",
     "text": [
      "Epoch: 100%|██████████| 129/129 [00:18<00:00,  6.97it/s]\n",
      "Epoch:   1%|          | 1/129 [00:00<00:16,  7.56it/s]"
     ]
    },
    {
     "name": "stdout",
     "output_type": "stream",
     "text": [
      "\n",
      "Epoch 066 train_loss: 1.3016 val_loss 1.4969 train_acc 0.6248 val_acc 0.5887\n"
     ]
    },
    {
     "name": "stderr",
     "output_type": "stream",
     "text": [
      "Epoch: 100%|██████████| 129/129 [00:17<00:00,  7.28it/s]\n",
      "Epoch:   1%|          | 1/129 [00:00<00:16,  7.77it/s]"
     ]
    },
    {
     "name": "stdout",
     "output_type": "stream",
     "text": [
      "\n",
      "Epoch 067 train_loss: 1.3020 val_loss 1.4840 train_acc 0.6204 val_acc 0.5909\n"
     ]
    },
    {
     "name": "stderr",
     "output_type": "stream",
     "text": [
      "Epoch: 100%|██████████| 129/129 [00:17<00:00,  7.42it/s]\n",
      "Epoch:   1%|          | 1/129 [00:00<00:16,  7.82it/s]"
     ]
    },
    {
     "name": "stdout",
     "output_type": "stream",
     "text": [
      "\n",
      "Epoch 068 train_loss: 1.3011 val_loss 1.4993 train_acc 0.6258 val_acc 0.5828\n"
     ]
    },
    {
     "name": "stderr",
     "output_type": "stream",
     "text": [
      "Epoch: 100%|██████████| 129/129 [00:17<00:00,  7.48it/s]\n",
      "Epoch:   1%|          | 1/129 [00:00<00:17,  7.49it/s]"
     ]
    },
    {
     "name": "stdout",
     "output_type": "stream",
     "text": [
      "\n",
      "Epoch 069 train_loss: 1.3061 val_loss 1.4800 train_acc 0.6264 val_acc 0.5909\n"
     ]
    },
    {
     "name": "stderr",
     "output_type": "stream",
     "text": [
      "Epoch: 100%|██████████| 129/129 [00:17<00:00,  7.46it/s]\n",
      "Epoch:   1%|          | 1/129 [00:00<00:15,  8.24it/s]"
     ]
    },
    {
     "name": "stdout",
     "output_type": "stream",
     "text": [
      "\n",
      "Epoch 070 train_loss: 1.2986 val_loss 1.4554 train_acc 0.6249 val_acc 0.5978\n"
     ]
    },
    {
     "name": "stderr",
     "output_type": "stream",
     "text": [
      "Epoch: 100%|██████████| 129/129 [00:17<00:00,  7.47it/s]\n",
      "Epoch:   1%|          | 1/129 [00:00<00:16,  7.54it/s]"
     ]
    },
    {
     "name": "stdout",
     "output_type": "stream",
     "text": [
      "\n",
      "Epoch 071 train_loss: 1.2951 val_loss 1.5414 train_acc 0.6243 val_acc 0.5803\n"
     ]
    },
    {
     "name": "stderr",
     "output_type": "stream",
     "text": [
      "Epoch: 100%|██████████| 129/129 [00:16<00:00,  7.64it/s]\n",
      "Epoch:   1%|          | 1/129 [00:00<00:17,  7.37it/s]"
     ]
    },
    {
     "name": "stdout",
     "output_type": "stream",
     "text": [
      "\n",
      "Epoch 072 train_loss: 1.3044 val_loss 1.4614 train_acc 0.6248 val_acc 0.5923\n"
     ]
    },
    {
     "name": "stderr",
     "output_type": "stream",
     "text": [
      "Epoch: 100%|██████████| 129/129 [00:17<00:00,  7.43it/s]\n",
      "Epoch:   1%|          | 1/129 [00:00<00:16,  7.80it/s]"
     ]
    },
    {
     "name": "stdout",
     "output_type": "stream",
     "text": [
      "\n",
      "Epoch 073 train_loss: 1.2957 val_loss 1.5540 train_acc 0.6305 val_acc 0.5785\n"
     ]
    },
    {
     "name": "stderr",
     "output_type": "stream",
     "text": [
      "Epoch: 100%|██████████| 129/129 [00:16<00:00,  7.59it/s]\n",
      "Epoch:   1%|          | 1/129 [00:00<00:16,  7.66it/s]"
     ]
    },
    {
     "name": "stdout",
     "output_type": "stream",
     "text": [
      "\n",
      "Epoch 074 train_loss: 1.2961 val_loss 1.4779 train_acc 0.6257 val_acc 0.5905\n"
     ]
    },
    {
     "name": "stderr",
     "output_type": "stream",
     "text": [
      "Epoch: 100%|██████████| 129/129 [00:17<00:00,  7.40it/s]\n",
      "Epoch:   1%|          | 1/129 [00:00<00:16,  7.96it/s]"
     ]
    },
    {
     "name": "stdout",
     "output_type": "stream",
     "text": [
      "\n",
      "Epoch 075 train_loss: 1.2983 val_loss 1.4807 train_acc 0.6240 val_acc 0.5898\n"
     ]
    },
    {
     "name": "stderr",
     "output_type": "stream",
     "text": [
      "Epoch: 100%|██████████| 129/129 [00:16<00:00,  7.62it/s]\n",
      "Epoch:   1%|          | 1/129 [00:00<00:19,  6.74it/s]"
     ]
    },
    {
     "name": "stdout",
     "output_type": "stream",
     "text": [
      "\n",
      "Epoch 076 train_loss: 1.2920 val_loss 1.4918 train_acc 0.6299 val_acc 0.5964\n"
     ]
    },
    {
     "name": "stderr",
     "output_type": "stream",
     "text": [
      "Epoch: 100%|██████████| 129/129 [00:17<00:00,  7.19it/s]\n",
      "Epoch:   1%|          | 1/129 [00:00<00:17,  7.50it/s]"
     ]
    },
    {
     "name": "stdout",
     "output_type": "stream",
     "text": [
      "\n",
      "Epoch 077 train_loss: 1.3007 val_loss 1.5687 train_acc 0.6218 val_acc 0.5737\n"
     ]
    },
    {
     "name": "stderr",
     "output_type": "stream",
     "text": [
      "Epoch: 100%|██████████| 129/129 [00:17<00:00,  7.47it/s]\n",
      "Epoch:   1%|          | 1/129 [00:00<00:17,  7.29it/s]"
     ]
    },
    {
     "name": "stdout",
     "output_type": "stream",
     "text": [
      "\n",
      "Epoch 078 train_loss: 1.2967 val_loss 1.4650 train_acc 0.6262 val_acc 0.5960\n"
     ]
    },
    {
     "name": "stderr",
     "output_type": "stream",
     "text": [
      "Epoch: 100%|██████████| 129/129 [00:16<00:00,  7.60it/s]\n",
      "Epoch:   1%|          | 1/129 [00:00<00:15,  8.05it/s]"
     ]
    },
    {
     "name": "stdout",
     "output_type": "stream",
     "text": [
      "\n",
      "Epoch 079 train_loss: 1.2941 val_loss 1.4657 train_acc 0.6263 val_acc 0.5942\n"
     ]
    },
    {
     "name": "stderr",
     "output_type": "stream",
     "text": [
      "Epoch: 100%|██████████| 129/129 [00:16<00:00,  7.59it/s]\n",
      "Epoch:   1%|          | 1/129 [00:00<00:16,  7.54it/s]"
     ]
    },
    {
     "name": "stdout",
     "output_type": "stream",
     "text": [
      "\n",
      "Epoch 080 train_loss: 1.2923 val_loss 1.4906 train_acc 0.6241 val_acc 0.5883\n"
     ]
    },
    {
     "name": "stderr",
     "output_type": "stream",
     "text": [
      "Epoch: 100%|██████████| 129/129 [00:18<00:00,  7.10it/s]\n",
      "Epoch:   1%|          | 1/129 [00:00<00:16,  7.94it/s]"
     ]
    },
    {
     "name": "stdout",
     "output_type": "stream",
     "text": [
      "\n",
      "Epoch 081 train_loss: 1.2777 val_loss 1.6129 train_acc 0.6253 val_acc 0.5522\n"
     ]
    },
    {
     "name": "stderr",
     "output_type": "stream",
     "text": [
      "Epoch: 100%|██████████| 129/129 [00:17<00:00,  7.23it/s]\n",
      "Epoch:   1%|          | 1/129 [00:00<00:17,  7.19it/s]"
     ]
    },
    {
     "name": "stdout",
     "output_type": "stream",
     "text": [
      "\n",
      "Epoch 082 train_loss: 1.2821 val_loss 1.4654 train_acc 0.6277 val_acc 0.5953\n"
     ]
    },
    {
     "name": "stderr",
     "output_type": "stream",
     "text": [
      "Epoch: 100%|██████████| 129/129 [00:18<00:00,  6.92it/s]\n",
      "Epoch:   1%|          | 1/129 [00:00<00:18,  6.90it/s]"
     ]
    },
    {
     "name": "stdout",
     "output_type": "stream",
     "text": [
      "\n",
      "Epoch 083 train_loss: 1.2900 val_loss 1.4949 train_acc 0.6263 val_acc 0.5912\n"
     ]
    },
    {
     "name": "stderr",
     "output_type": "stream",
     "text": [
      "Epoch: 100%|██████████| 129/129 [00:18<00:00,  7.15it/s]\n",
      "Epoch:   1%|          | 1/129 [00:00<00:21,  6.09it/s]"
     ]
    },
    {
     "name": "stdout",
     "output_type": "stream",
     "text": [
      "\n",
      "Epoch 084 train_loss: 1.2851 val_loss 1.5574 train_acc 0.6293 val_acc 0.5814\n"
     ]
    },
    {
     "name": "stderr",
     "output_type": "stream",
     "text": [
      "Epoch: 100%|██████████| 129/129 [00:18<00:00,  7.04it/s]\n",
      "Epoch:   1%|          | 1/129 [00:00<00:16,  7.83it/s]"
     ]
    },
    {
     "name": "stdout",
     "output_type": "stream",
     "text": [
      "\n",
      "Epoch 085 train_loss: 1.2857 val_loss 1.4528 train_acc 0.6264 val_acc 0.5953\n"
     ]
    },
    {
     "name": "stderr",
     "output_type": "stream",
     "text": [
      "Epoch: 100%|██████████| 129/129 [00:17<00:00,  7.22it/s]\n",
      "Epoch:   1%|          | 1/129 [00:00<00:17,  7.16it/s]"
     ]
    },
    {
     "name": "stdout",
     "output_type": "stream",
     "text": [
      "\n",
      "Epoch 086 train_loss: 1.2878 val_loss 1.4581 train_acc 0.6260 val_acc 0.5931\n"
     ]
    },
    {
     "name": "stderr",
     "output_type": "stream",
     "text": [
      "Epoch: 100%|██████████| 129/129 [00:18<00:00,  7.09it/s]\n",
      "Epoch:   1%|          | 1/129 [00:00<00:17,  7.53it/s]"
     ]
    },
    {
     "name": "stdout",
     "output_type": "stream",
     "text": [
      "\n",
      "Epoch 087 train_loss: 1.2750 val_loss 1.4716 train_acc 0.6298 val_acc 0.5931\n"
     ]
    },
    {
     "name": "stderr",
     "output_type": "stream",
     "text": [
      "Epoch: 100%|██████████| 129/129 [00:17<00:00,  7.24it/s]\n",
      "Epoch:   1%|          | 1/129 [00:00<00:17,  7.17it/s]"
     ]
    },
    {
     "name": "stdout",
     "output_type": "stream",
     "text": [
      "\n",
      "Epoch 088 train_loss: 1.2761 val_loss 1.4720 train_acc 0.6270 val_acc 0.5956\n"
     ]
    },
    {
     "name": "stderr",
     "output_type": "stream",
     "text": [
      "Epoch: 100%|██████████| 129/129 [00:18<00:00,  7.11it/s]\n",
      "Epoch:   1%|          | 1/129 [00:00<00:16,  7.74it/s]"
     ]
    },
    {
     "name": "stdout",
     "output_type": "stream",
     "text": [
      "\n",
      "Epoch 089 train_loss: 1.2765 val_loss 1.4758 train_acc 0.6333 val_acc 0.5927\n"
     ]
    },
    {
     "name": "stderr",
     "output_type": "stream",
     "text": [
      "Epoch: 100%|██████████| 129/129 [00:17<00:00,  7.56it/s]\n",
      "Epoch:   1%|          | 1/129 [00:00<00:18,  6.81it/s]"
     ]
    },
    {
     "name": "stdout",
     "output_type": "stream",
     "text": [
      "\n",
      "Epoch 090 train_loss: 1.2845 val_loss 1.4510 train_acc 0.6269 val_acc 0.5996\n"
     ]
    },
    {
     "name": "stderr",
     "output_type": "stream",
     "text": [
      "Epoch: 100%|██████████| 129/129 [00:17<00:00,  7.47it/s]\n",
      "Epoch:   1%|          | 1/129 [00:00<00:16,  7.54it/s]"
     ]
    },
    {
     "name": "stdout",
     "output_type": "stream",
     "text": [
      "\n",
      "Epoch 091 train_loss: 1.2817 val_loss 1.6181 train_acc 0.6304 val_acc 0.5650\n"
     ]
    },
    {
     "name": "stderr",
     "output_type": "stream",
     "text": [
      "Epoch: 100%|██████████| 129/129 [00:17<00:00,  7.24it/s]\n",
      "Epoch:   1%|          | 1/129 [00:00<00:17,  7.22it/s]"
     ]
    },
    {
     "name": "stdout",
     "output_type": "stream",
     "text": [
      "\n",
      "Epoch 092 train_loss: 1.2852 val_loss 1.4513 train_acc 0.6271 val_acc 0.5993\n"
     ]
    },
    {
     "name": "stderr",
     "output_type": "stream",
     "text": [
      "Epoch: 100%|██████████| 129/129 [00:17<00:00,  7.30it/s]\n",
      "Epoch:   1%|          | 1/129 [00:00<00:20,  6.29it/s]"
     ]
    },
    {
     "name": "stdout",
     "output_type": "stream",
     "text": [
      "\n",
      "Epoch 093 train_loss: 1.2793 val_loss 1.4565 train_acc 0.6290 val_acc 0.5967\n"
     ]
    },
    {
     "name": "stderr",
     "output_type": "stream",
     "text": [
      "Epoch: 100%|██████████| 129/129 [00:17<00:00,  7.26it/s]\n",
      "Epoch:   1%|          | 1/129 [00:00<00:16,  7.72it/s]"
     ]
    },
    {
     "name": "stdout",
     "output_type": "stream",
     "text": [
      "\n",
      "Epoch 094 train_loss: 1.2726 val_loss 1.5599 train_acc 0.6316 val_acc 0.5737\n"
     ]
    },
    {
     "name": "stderr",
     "output_type": "stream",
     "text": [
      "Epoch: 100%|██████████| 129/129 [00:17<00:00,  7.35it/s]\n",
      "Epoch:   1%|          | 1/129 [00:00<00:16,  7.93it/s]"
     ]
    },
    {
     "name": "stdout",
     "output_type": "stream",
     "text": [
      "\n",
      "Epoch 095 train_loss: 1.2762 val_loss 1.4733 train_acc 0.6271 val_acc 0.5960\n"
     ]
    },
    {
     "name": "stderr",
     "output_type": "stream",
     "text": [
      "Epoch: 100%|██████████| 129/129 [00:17<00:00,  7.57it/s]\n",
      "Epoch:   1%|          | 1/129 [00:00<00:15,  8.13it/s]"
     ]
    },
    {
     "name": "stdout",
     "output_type": "stream",
     "text": [
      "\n",
      "Epoch 096 train_loss: 1.2685 val_loss 1.4504 train_acc 0.6331 val_acc 0.6022\n"
     ]
    },
    {
     "name": "stderr",
     "output_type": "stream",
     "text": [
      "Epoch: 100%|██████████| 129/129 [00:17<00:00,  7.30it/s]\n",
      "Epoch:   1%|          | 1/129 [00:00<00:16,  7.56it/s]"
     ]
    },
    {
     "name": "stdout",
     "output_type": "stream",
     "text": [
      "\n",
      "Epoch 097 train_loss: 1.2669 val_loss 1.4486 train_acc 0.6358 val_acc 0.5993\n"
     ]
    },
    {
     "name": "stderr",
     "output_type": "stream",
     "text": [
      "Epoch: 100%|██████████| 129/129 [00:17<00:00,  7.47it/s]\n",
      "Epoch:   1%|          | 1/129 [00:00<00:18,  6.85it/s]"
     ]
    },
    {
     "name": "stdout",
     "output_type": "stream",
     "text": [
      "\n",
      "Epoch 098 train_loss: 1.2613 val_loss 1.4874 train_acc 0.6344 val_acc 0.5858\n"
     ]
    },
    {
     "name": "stderr",
     "output_type": "stream",
     "text": [
      "Epoch: 100%|██████████| 129/129 [00:17<00:00,  7.46it/s]\n",
      "Epoch:   1%|          | 1/129 [00:00<00:16,  7.97it/s]"
     ]
    },
    {
     "name": "stdout",
     "output_type": "stream",
     "text": [
      "\n",
      "Epoch 099 train_loss: 1.2603 val_loss 1.5016 train_acc 0.6342 val_acc 0.5920\n"
     ]
    },
    {
     "name": "stderr",
     "output_type": "stream",
     "text": [
      "Epoch: 100%|██████████| 129/129 [00:17<00:00,  7.46it/s]\n",
      "Epoch:   1%|          | 1/129 [00:00<00:18,  6.75it/s]"
     ]
    },
    {
     "name": "stdout",
     "output_type": "stream",
     "text": [
      "\n",
      "Epoch 100 train_loss: 1.2652 val_loss 1.5040 train_acc 0.6333 val_acc 0.5923\n"
     ]
    },
    {
     "name": "stderr",
     "output_type": "stream",
     "text": [
      "Epoch: 100%|██████████| 129/129 [00:17<00:00,  7.58it/s]\n",
      "Epoch:   0%|          | 0/129 [00:00<?, ?it/s]"
     ]
    },
    {
     "name": "stdout",
     "output_type": "stream",
     "text": [
      "\n",
      "Epoch 101 train_loss: 1.2686 val_loss 1.5819 train_acc 0.6307 val_acc 0.5642\n"
     ]
    },
    {
     "name": "stderr",
     "output_type": "stream",
     "text": [
      "Epoch: 100%|██████████| 129/129 [00:18<00:00,  6.89it/s]\n",
      "Epoch:   1%|          | 1/129 [00:00<00:19,  6.72it/s]"
     ]
    },
    {
     "name": "stdout",
     "output_type": "stream",
     "text": [
      "\n",
      "Epoch 102 train_loss: 1.2646 val_loss 1.5265 train_acc 0.6337 val_acc 0.5803\n"
     ]
    },
    {
     "name": "stderr",
     "output_type": "stream",
     "text": [
      "Epoch: 100%|██████████| 129/129 [00:18<00:00,  6.92it/s]\n",
      "Epoch:   1%|          | 1/129 [00:00<00:17,  7.40it/s]"
     ]
    },
    {
     "name": "stdout",
     "output_type": "stream",
     "text": [
      "\n",
      "Epoch 103 train_loss: 1.2553 val_loss 1.4774 train_acc 0.6365 val_acc 0.5923\n"
     ]
    },
    {
     "name": "stderr",
     "output_type": "stream",
     "text": [
      "Epoch: 100%|██████████| 129/129 [00:17<00:00,  7.33it/s]\n",
      "Epoch:   1%|          | 1/129 [00:00<00:17,  7.44it/s]"
     ]
    },
    {
     "name": "stdout",
     "output_type": "stream",
     "text": [
      "\n",
      "Epoch 104 train_loss: 1.2668 val_loss 1.4614 train_acc 0.6331 val_acc 0.5916\n"
     ]
    },
    {
     "name": "stderr",
     "output_type": "stream",
     "text": [
      "Epoch: 100%|██████████| 129/129 [00:18<00:00,  7.03it/s]\n",
      "Epoch:   1%|          | 1/129 [00:00<00:16,  7.85it/s]"
     ]
    },
    {
     "name": "stdout",
     "output_type": "stream",
     "text": [
      "\n",
      "Epoch 105 train_loss: 1.2599 val_loss 1.4428 train_acc 0.6320 val_acc 0.6033\n"
     ]
    },
    {
     "name": "stderr",
     "output_type": "stream",
     "text": [
      "Epoch: 100%|██████████| 129/129 [00:17<00:00,  7.42it/s]\n",
      "Epoch:   1%|          | 1/129 [00:00<00:17,  7.45it/s]"
     ]
    },
    {
     "name": "stdout",
     "output_type": "stream",
     "text": [
      "\n",
      "Epoch 106 train_loss: 1.2589 val_loss 1.4870 train_acc 0.6328 val_acc 0.5905\n"
     ]
    },
    {
     "name": "stderr",
     "output_type": "stream",
     "text": [
      "Epoch: 100%|██████████| 129/129 [00:17<00:00,  7.22it/s]\n",
      "Epoch:   1%|          | 1/129 [00:00<00:17,  7.34it/s]"
     ]
    },
    {
     "name": "stdout",
     "output_type": "stream",
     "text": [
      "\n",
      "Epoch 107 train_loss: 1.2614 val_loss 1.5551 train_acc 0.6356 val_acc 0.5701\n"
     ]
    },
    {
     "name": "stderr",
     "output_type": "stream",
     "text": [
      "Epoch: 100%|██████████| 129/129 [00:16<00:00,  7.61it/s]\n",
      "Epoch:   1%|          | 1/129 [00:00<00:16,  7.74it/s]"
     ]
    },
    {
     "name": "stdout",
     "output_type": "stream",
     "text": [
      "\n",
      "Epoch 108 train_loss: 1.2667 val_loss 1.4697 train_acc 0.6310 val_acc 0.5974\n"
     ]
    },
    {
     "name": "stderr",
     "output_type": "stream",
     "text": [
      "Epoch: 100%|██████████| 129/129 [00:16<00:00,  7.60it/s]\n",
      "Epoch:   1%|          | 1/129 [00:00<00:16,  7.54it/s]"
     ]
    },
    {
     "name": "stdout",
     "output_type": "stream",
     "text": [
      "\n",
      "Epoch 109 train_loss: 1.2546 val_loss 1.6743 train_acc 0.6386 val_acc 0.5449\n"
     ]
    },
    {
     "name": "stderr",
     "output_type": "stream",
     "text": [
      "Epoch: 100%|██████████| 129/129 [00:18<00:00,  7.15it/s]\n",
      "Epoch:   1%|          | 1/129 [00:00<00:16,  7.64it/s]"
     ]
    },
    {
     "name": "stdout",
     "output_type": "stream",
     "text": [
      "\n",
      "Epoch 110 train_loss: 1.2709 val_loss 1.4430 train_acc 0.6305 val_acc 0.6007\n"
     ]
    },
    {
     "name": "stderr",
     "output_type": "stream",
     "text": [
      "Epoch: 100%|██████████| 129/129 [00:17<00:00,  7.56it/s]\n",
      "Epoch:   1%|          | 1/129 [00:00<00:20,  6.24it/s]"
     ]
    },
    {
     "name": "stdout",
     "output_type": "stream",
     "text": [
      "\n",
      "Epoch 111 train_loss: 1.2574 val_loss 1.4654 train_acc 0.6332 val_acc 0.5956\n"
     ]
    },
    {
     "name": "stderr",
     "output_type": "stream",
     "text": [
      "Epoch: 100%|██████████| 129/129 [00:17<00:00,  7.40it/s]\n",
      "Epoch:   1%|          | 1/129 [00:00<00:16,  8.00it/s]"
     ]
    },
    {
     "name": "stdout",
     "output_type": "stream",
     "text": [
      "\n",
      "Epoch 112 train_loss: 1.2554 val_loss 1.4965 train_acc 0.6341 val_acc 0.5923\n"
     ]
    },
    {
     "name": "stderr",
     "output_type": "stream",
     "text": [
      "Epoch: 100%|██████████| 129/129 [00:17<00:00,  7.44it/s]\n",
      "Epoch:   1%|          | 1/129 [00:00<00:15,  8.01it/s]"
     ]
    },
    {
     "name": "stdout",
     "output_type": "stream",
     "text": [
      "\n",
      "Epoch 113 train_loss: 1.2649 val_loss 1.5882 train_acc 0.6381 val_acc 0.5701\n"
     ]
    },
    {
     "name": "stderr",
     "output_type": "stream",
     "text": [
      "Epoch: 100%|██████████| 129/129 [00:17<00:00,  7.37it/s]\n",
      "Epoch:   1%|          | 1/129 [00:00<00:16,  7.73it/s]"
     ]
    },
    {
     "name": "stdout",
     "output_type": "stream",
     "text": [
      "\n",
      "Epoch 114 train_loss: 1.2443 val_loss 1.5814 train_acc 0.6389 val_acc 0.5712\n"
     ]
    },
    {
     "name": "stderr",
     "output_type": "stream",
     "text": [
      "Epoch: 100%|██████████| 129/129 [00:17<00:00,  7.53it/s]\n",
      "Epoch:   1%|          | 1/129 [00:00<00:16,  7.98it/s]"
     ]
    },
    {
     "name": "stdout",
     "output_type": "stream",
     "text": [
      "\n",
      "Epoch 115 train_loss: 1.2561 val_loss 1.4294 train_acc 0.6391 val_acc 0.6055\n"
     ]
    },
    {
     "name": "stderr",
     "output_type": "stream",
     "text": [
      "Epoch: 100%|██████████| 129/129 [00:17<00:00,  7.40it/s]\n",
      "Epoch:   1%|          | 1/129 [00:00<00:16,  7.67it/s]"
     ]
    },
    {
     "name": "stdout",
     "output_type": "stream",
     "text": [
      "\n",
      "Epoch 116 train_loss: 1.2437 val_loss 1.4446 train_acc 0.6392 val_acc 0.5985\n"
     ]
    },
    {
     "name": "stderr",
     "output_type": "stream",
     "text": [
      "Epoch: 100%|██████████| 129/129 [00:17<00:00,  7.42it/s]\n",
      "Epoch:   1%|          | 1/129 [00:00<00:16,  7.68it/s]"
     ]
    },
    {
     "name": "stdout",
     "output_type": "stream",
     "text": [
      "\n",
      "Epoch 117 train_loss: 1.2487 val_loss 1.4443 train_acc 0.6365 val_acc 0.5953\n"
     ]
    },
    {
     "name": "stderr",
     "output_type": "stream",
     "text": [
      "Epoch: 100%|██████████| 129/129 [00:17<00:00,  7.34it/s]\n",
      "Epoch:   1%|          | 1/129 [00:00<00:16,  7.91it/s]"
     ]
    },
    {
     "name": "stdout",
     "output_type": "stream",
     "text": [
      "\n",
      "Epoch 118 train_loss: 1.2455 val_loss 1.4352 train_acc 0.6347 val_acc 0.6029\n"
     ]
    },
    {
     "name": "stderr",
     "output_type": "stream",
     "text": [
      "Epoch: 100%|██████████| 129/129 [00:16<00:00,  7.72it/s]\n",
      "Epoch:   1%|          | 1/129 [00:00<00:15,  8.27it/s]"
     ]
    },
    {
     "name": "stdout",
     "output_type": "stream",
     "text": [
      "\n",
      "Epoch 119 train_loss: 1.2597 val_loss 1.4758 train_acc 0.6371 val_acc 0.5905\n"
     ]
    },
    {
     "name": "stderr",
     "output_type": "stream",
     "text": [
      "Epoch: 100%|██████████| 129/129 [00:17<00:00,  7.27it/s]\n",
      "Epoch:   1%|          | 1/129 [00:00<00:21,  5.87it/s]"
     ]
    },
    {
     "name": "stdout",
     "output_type": "stream",
     "text": [
      "\n",
      "Epoch 120 train_loss: 1.2391 val_loss 1.4518 train_acc 0.6426 val_acc 0.6011\n"
     ]
    },
    {
     "name": "stderr",
     "output_type": "stream",
     "text": [
      "Epoch: 100%|██████████| 129/129 [00:17<00:00,  7.46it/s]\n",
      "Epoch:   1%|          | 1/129 [00:00<00:16,  7.74it/s]"
     ]
    },
    {
     "name": "stdout",
     "output_type": "stream",
     "text": [
      "\n",
      "Epoch 121 train_loss: 1.2521 val_loss 1.5337 train_acc 0.6333 val_acc 0.5788\n"
     ]
    },
    {
     "name": "stderr",
     "output_type": "stream",
     "text": [
      "Epoch: 100%|██████████| 129/129 [00:17<00:00,  7.56it/s]\n",
      "Epoch:   1%|          | 1/129 [00:00<00:16,  7.68it/s]"
     ]
    },
    {
     "name": "stdout",
     "output_type": "stream",
     "text": [
      "\n",
      "Epoch 122 train_loss: 1.2644 val_loss 1.5140 train_acc 0.6297 val_acc 0.5883\n"
     ]
    },
    {
     "name": "stderr",
     "output_type": "stream",
     "text": [
      "Epoch: 100%|██████████| 129/129 [00:17<00:00,  7.29it/s]\n",
      "Epoch:   1%|          | 1/129 [00:00<00:17,  7.47it/s]"
     ]
    },
    {
     "name": "stdout",
     "output_type": "stream",
     "text": [
      "\n",
      "Epoch 123 train_loss: 1.2486 val_loss 1.4430 train_acc 0.6404 val_acc 0.5978\n"
     ]
    },
    {
     "name": "stderr",
     "output_type": "stream",
     "text": [
      "Epoch: 100%|██████████| 129/129 [00:18<00:00,  7.11it/s]\n",
      "Epoch:   1%|          | 1/129 [00:00<00:16,  7.93it/s]"
     ]
    },
    {
     "name": "stdout",
     "output_type": "stream",
     "text": [
      "\n",
      "Epoch 124 train_loss: 1.2483 val_loss 1.4288 train_acc 0.6411 val_acc 0.6044\n"
     ]
    },
    {
     "name": "stderr",
     "output_type": "stream",
     "text": [
      "Epoch: 100%|██████████| 129/129 [00:17<00:00,  7.49it/s]\n",
      "Epoch:   1%|          | 1/129 [00:00<00:16,  7.74it/s]"
     ]
    },
    {
     "name": "stdout",
     "output_type": "stream",
     "text": [
      "\n",
      "Epoch 125 train_loss: 1.2331 val_loss 1.4548 train_acc 0.6428 val_acc 0.6000\n"
     ]
    },
    {
     "name": "stderr",
     "output_type": "stream",
     "text": [
      "Epoch: 100%|██████████| 129/129 [00:17<00:00,  7.37it/s]\n",
      "Epoch:   1%|          | 1/129 [00:00<00:17,  7.20it/s]"
     ]
    },
    {
     "name": "stdout",
     "output_type": "stream",
     "text": [
      "\n",
      "Epoch 126 train_loss: 1.2454 val_loss 1.4481 train_acc 0.6373 val_acc 0.6029\n"
     ]
    },
    {
     "name": "stderr",
     "output_type": "stream",
     "text": [
      "Epoch: 100%|██████████| 129/129 [00:17<00:00,  7.51it/s]\n",
      "Epoch:   1%|          | 1/129 [00:00<00:16,  7.80it/s]"
     ]
    },
    {
     "name": "stdout",
     "output_type": "stream",
     "text": [
      "\n",
      "Epoch 127 train_loss: 1.2348 val_loss 1.6061 train_acc 0.6397 val_acc 0.5679\n"
     ]
    },
    {
     "name": "stderr",
     "output_type": "stream",
     "text": [
      "Epoch: 100%|██████████| 129/129 [00:17<00:00,  7.31it/s]\n",
      "Epoch:   1%|          | 1/129 [00:00<00:16,  7.79it/s]"
     ]
    },
    {
     "name": "stdout",
     "output_type": "stream",
     "text": [
      "\n",
      "Epoch 128 train_loss: 1.2392 val_loss 1.4629 train_acc 0.6389 val_acc 0.5945\n"
     ]
    },
    {
     "name": "stderr",
     "output_type": "stream",
     "text": [
      "Epoch: 100%|██████████| 129/129 [00:17<00:00,  7.45it/s]\n",
      "Epoch:   1%|          | 1/129 [00:00<00:16,  7.61it/s]"
     ]
    },
    {
     "name": "stdout",
     "output_type": "stream",
     "text": [
      "\n",
      "Epoch 129 train_loss: 1.2379 val_loss 1.4574 train_acc 0.6404 val_acc 0.5967\n"
     ]
    },
    {
     "name": "stderr",
     "output_type": "stream",
     "text": [
      "Epoch: 100%|██████████| 129/129 [00:17<00:00,  7.53it/s]\n",
      "Epoch:   1%|          | 1/129 [00:00<00:15,  8.06it/s]"
     ]
    },
    {
     "name": "stdout",
     "output_type": "stream",
     "text": [
      "\n",
      "Epoch 130 train_loss: 1.2401 val_loss 1.4422 train_acc 0.6319 val_acc 0.6040\n"
     ]
    },
    {
     "name": "stderr",
     "output_type": "stream",
     "text": [
      "Epoch: 100%|██████████| 129/129 [00:17<00:00,  7.51it/s]\n",
      "Epoch:   1%|          | 1/129 [00:00<00:16,  7.79it/s]"
     ]
    },
    {
     "name": "stdout",
     "output_type": "stream",
     "text": [
      "\n",
      "Epoch 131 train_loss: 1.2421 val_loss 1.4788 train_acc 0.6365 val_acc 0.5938\n"
     ]
    },
    {
     "name": "stderr",
     "output_type": "stream",
     "text": [
      "Epoch: 100%|██████████| 129/129 [00:17<00:00,  7.29it/s]\n",
      "Epoch:   1%|          | 1/129 [00:00<00:19,  6.43it/s]"
     ]
    },
    {
     "name": "stdout",
     "output_type": "stream",
     "text": [
      "\n",
      "Epoch 132 train_loss: 1.2405 val_loss 1.4189 train_acc 0.6403 val_acc 0.6047\n"
     ]
    },
    {
     "name": "stderr",
     "output_type": "stream",
     "text": [
      "Epoch: 100%|██████████| 129/129 [00:17<00:00,  7.35it/s]\n",
      "Epoch:   1%|          | 1/129 [00:00<00:17,  7.48it/s]"
     ]
    },
    {
     "name": "stdout",
     "output_type": "stream",
     "text": [
      "\n",
      "Epoch 133 train_loss: 1.2371 val_loss 1.4305 train_acc 0.6408 val_acc 0.6036\n"
     ]
    },
    {
     "name": "stderr",
     "output_type": "stream",
     "text": [
      "Epoch: 100%|██████████| 129/129 [00:17<00:00,  7.34it/s]\n",
      "Epoch:   1%|          | 1/129 [00:00<00:18,  6.77it/s]"
     ]
    },
    {
     "name": "stdout",
     "output_type": "stream",
     "text": [
      "\n",
      "Epoch 134 train_loss: 1.2328 val_loss 1.5575 train_acc 0.6387 val_acc 0.5635\n"
     ]
    },
    {
     "name": "stderr",
     "output_type": "stream",
     "text": [
      "Epoch: 100%|██████████| 129/129 [00:18<00:00,  7.14it/s]\n",
      "Epoch:   1%|          | 1/129 [00:00<00:17,  7.35it/s]"
     ]
    },
    {
     "name": "stdout",
     "output_type": "stream",
     "text": [
      "\n",
      "Epoch 135 train_loss: 1.2191 val_loss 1.4431 train_acc 0.6429 val_acc 0.6015\n"
     ]
    },
    {
     "name": "stderr",
     "output_type": "stream",
     "text": [
      "Epoch: 100%|██████████| 129/129 [00:17<00:00,  7.40it/s]\n",
      "Epoch:   1%|          | 1/129 [00:00<00:17,  7.35it/s]"
     ]
    },
    {
     "name": "stdout",
     "output_type": "stream",
     "text": [
      "\n",
      "Epoch 136 train_loss: 1.2362 val_loss 1.4251 train_acc 0.6388 val_acc 0.6044\n"
     ]
    },
    {
     "name": "stderr",
     "output_type": "stream",
     "text": [
      "Epoch: 100%|██████████| 129/129 [00:18<00:00,  7.04it/s]\n",
      "Epoch:   1%|          | 1/129 [00:00<00:16,  7.85it/s]"
     ]
    },
    {
     "name": "stdout",
     "output_type": "stream",
     "text": [
      "\n",
      "Epoch 137 train_loss: 1.2410 val_loss 1.4699 train_acc 0.6371 val_acc 0.6000\n"
     ]
    },
    {
     "name": "stderr",
     "output_type": "stream",
     "text": [
      "Epoch: 100%|██████████| 129/129 [00:17<00:00,  7.29it/s]\n",
      "Epoch:   1%|          | 1/129 [00:00<00:16,  7.69it/s]"
     ]
    },
    {
     "name": "stdout",
     "output_type": "stream",
     "text": [
      "\n",
      "Epoch 138 train_loss: 1.2336 val_loss 1.4966 train_acc 0.6416 val_acc 0.5912\n"
     ]
    },
    {
     "name": "stderr",
     "output_type": "stream",
     "text": [
      "Epoch: 100%|██████████| 129/129 [00:17<00:00,  7.26it/s]\n",
      "Epoch:   1%|          | 1/129 [00:00<00:15,  8.13it/s]"
     ]
    },
    {
     "name": "stdout",
     "output_type": "stream",
     "text": [
      "\n",
      "Epoch 139 train_loss: 1.2319 val_loss 1.4564 train_acc 0.6370 val_acc 0.5942\n"
     ]
    },
    {
     "name": "stderr",
     "output_type": "stream",
     "text": [
      "Epoch: 100%|██████████| 129/129 [00:17<00:00,  7.32it/s]\n",
      "Epoch:   1%|          | 1/129 [00:00<00:18,  6.91it/s]"
     ]
    },
    {
     "name": "stdout",
     "output_type": "stream",
     "text": [
      "\n",
      "Epoch 140 train_loss: 1.2325 val_loss 1.4267 train_acc 0.6343 val_acc 0.6069\n"
     ]
    },
    {
     "name": "stderr",
     "output_type": "stream",
     "text": [
      "Epoch: 100%|██████████| 129/129 [00:17<00:00,  7.23it/s]\n",
      "Epoch:   1%|          | 1/129 [00:00<00:15,  8.29it/s]"
     ]
    },
    {
     "name": "stdout",
     "output_type": "stream",
     "text": [
      "\n",
      "Epoch 141 train_loss: 1.2217 val_loss 1.4720 train_acc 0.6466 val_acc 0.5931\n"
     ]
    },
    {
     "name": "stderr",
     "output_type": "stream",
     "text": [
      "Epoch: 100%|██████████| 129/129 [00:17<00:00,  7.51it/s]\n",
      "Epoch:   1%|          | 1/129 [00:00<00:16,  7.53it/s]"
     ]
    },
    {
     "name": "stdout",
     "output_type": "stream",
     "text": [
      "\n",
      "Epoch 142 train_loss: 1.2308 val_loss 1.4161 train_acc 0.6384 val_acc 0.6113\n"
     ]
    },
    {
     "name": "stderr",
     "output_type": "stream",
     "text": [
      "Epoch: 100%|██████████| 129/129 [00:17<00:00,  7.39it/s]\n",
      "Epoch:   1%|          | 1/129 [00:00<00:18,  6.79it/s]"
     ]
    },
    {
     "name": "stdout",
     "output_type": "stream",
     "text": [
      "\n",
      "Epoch 143 train_loss: 1.2298 val_loss 1.4237 train_acc 0.6426 val_acc 0.6036\n"
     ]
    },
    {
     "name": "stderr",
     "output_type": "stream",
     "text": [
      "Epoch: 100%|██████████| 129/129 [00:17<00:00,  7.39it/s]\n",
      "Epoch:   1%|          | 1/129 [00:00<00:16,  7.91it/s]"
     ]
    },
    {
     "name": "stdout",
     "output_type": "stream",
     "text": [
      "\n",
      "Epoch 144 train_loss: 1.2239 val_loss 1.4308 train_acc 0.6425 val_acc 0.6047\n"
     ]
    },
    {
     "name": "stderr",
     "output_type": "stream",
     "text": [
      "Epoch: 100%|██████████| 129/129 [00:17<00:00,  7.40it/s]\n",
      "Epoch:   1%|          | 1/129 [00:00<00:17,  7.16it/s]"
     ]
    },
    {
     "name": "stdout",
     "output_type": "stream",
     "text": [
      "\n",
      "Epoch 145 train_loss: 1.2332 val_loss 1.5685 train_acc 0.6371 val_acc 0.5682\n"
     ]
    },
    {
     "name": "stderr",
     "output_type": "stream",
     "text": [
      "Epoch: 100%|██████████| 129/129 [00:18<00:00,  7.07it/s]\n",
      "Epoch:   1%|          | 1/129 [00:00<00:18,  6.93it/s]"
     ]
    },
    {
     "name": "stdout",
     "output_type": "stream",
     "text": [
      "\n",
      "Epoch 146 train_loss: 1.2230 val_loss 1.4111 train_acc 0.6408 val_acc 0.6120\n"
     ]
    },
    {
     "name": "stderr",
     "output_type": "stream",
     "text": [
      "Epoch: 100%|██████████| 129/129 [00:17<00:00,  7.33it/s]\n",
      "Epoch:   1%|          | 1/129 [00:00<00:16,  7.71it/s]"
     ]
    },
    {
     "name": "stdout",
     "output_type": "stream",
     "text": [
      "\n",
      "Epoch 147 train_loss: 1.2255 val_loss 1.4288 train_acc 0.6468 val_acc 0.6055\n"
     ]
    },
    {
     "name": "stderr",
     "output_type": "stream",
     "text": [
      "Epoch: 100%|██████████| 129/129 [00:17<00:00,  7.52it/s]\n",
      "Epoch:   1%|          | 1/129 [00:00<00:18,  6.96it/s]"
     ]
    },
    {
     "name": "stdout",
     "output_type": "stream",
     "text": [
      "\n",
      "Epoch 148 train_loss: 1.2296 val_loss 1.4128 train_acc 0.6428 val_acc 0.6120\n"
     ]
    },
    {
     "name": "stderr",
     "output_type": "stream",
     "text": [
      "Epoch: 100%|██████████| 129/129 [00:17<00:00,  7.29it/s]\n",
      "Epoch:   1%|          | 1/129 [00:00<00:15,  8.12it/s]"
     ]
    },
    {
     "name": "stdout",
     "output_type": "stream",
     "text": [
      "\n",
      "Epoch 149 train_loss: 1.2090 val_loss 1.4811 train_acc 0.6466 val_acc 0.5949\n"
     ]
    },
    {
     "name": "stderr",
     "output_type": "stream",
     "text": [
      "Epoch: 100%|██████████| 129/129 [00:17<00:00,  7.56it/s]\n",
      "Epoch:   1%|          | 1/129 [00:00<00:15,  8.05it/s]"
     ]
    },
    {
     "name": "stdout",
     "output_type": "stream",
     "text": [
      "\n",
      "Epoch 150 train_loss: 1.2165 val_loss 1.4292 train_acc 0.6439 val_acc 0.6069\n"
     ]
    },
    {
     "name": "stderr",
     "output_type": "stream",
     "text": [
      "Epoch: 100%|██████████| 129/129 [00:17<00:00,  7.38it/s]\n",
      "Epoch:   1%|          | 1/129 [00:00<00:16,  7.57it/s]"
     ]
    },
    {
     "name": "stdout",
     "output_type": "stream",
     "text": [
      "\n",
      "Epoch 151 train_loss: 1.2068 val_loss 1.4542 train_acc 0.6465 val_acc 0.5964\n"
     ]
    },
    {
     "name": "stderr",
     "output_type": "stream",
     "text": [
      "Epoch: 100%|██████████| 129/129 [00:16<00:00,  7.61it/s]\n",
      "Epoch:   1%|          | 1/129 [00:00<00:15,  8.08it/s]"
     ]
    },
    {
     "name": "stdout",
     "output_type": "stream",
     "text": [
      "\n",
      "Epoch 152 train_loss: 1.2221 val_loss 1.3984 train_acc 0.6459 val_acc 0.6164\n"
     ]
    },
    {
     "name": "stderr",
     "output_type": "stream",
     "text": [
      "Epoch: 100%|██████████| 129/129 [00:17<00:00,  7.31it/s]\n",
      "Epoch:   1%|          | 1/129 [00:00<00:17,  7.31it/s]"
     ]
    },
    {
     "name": "stdout",
     "output_type": "stream",
     "text": [
      "\n",
      "Epoch 153 train_loss: 1.2150 val_loss 1.4608 train_acc 0.6420 val_acc 0.6022\n"
     ]
    },
    {
     "name": "stderr",
     "output_type": "stream",
     "text": [
      "Epoch: 100%|██████████| 129/129 [00:17<00:00,  7.24it/s]\n",
      "Epoch:   1%|          | 1/129 [00:00<00:17,  7.50it/s]"
     ]
    },
    {
     "name": "stdout",
     "output_type": "stream",
     "text": [
      "\n",
      "Epoch 154 train_loss: 1.2094 val_loss 1.5165 train_acc 0.6499 val_acc 0.5869\n"
     ]
    },
    {
     "name": "stderr",
     "output_type": "stream",
     "text": [
      "Epoch: 100%|██████████| 129/129 [00:17<00:00,  7.40it/s]\n",
      "Epoch:   1%|          | 1/129 [00:00<00:16,  7.90it/s]"
     ]
    },
    {
     "name": "stdout",
     "output_type": "stream",
     "text": [
      "\n",
      "Epoch 155 train_loss: 1.2264 val_loss 1.6117 train_acc 0.6426 val_acc 0.5712\n"
     ]
    },
    {
     "name": "stderr",
     "output_type": "stream",
     "text": [
      "Epoch: 100%|██████████| 129/129 [00:16<00:00,  7.59it/s]\n",
      "Epoch:   1%|          | 1/129 [00:00<00:16,  7.66it/s]"
     ]
    },
    {
     "name": "stdout",
     "output_type": "stream",
     "text": [
      "\n",
      "Epoch 156 train_loss: 1.2114 val_loss 1.4328 train_acc 0.6481 val_acc 0.6058\n"
     ]
    },
    {
     "name": "stderr",
     "output_type": "stream",
     "text": [
      "Epoch: 100%|██████████| 129/129 [00:17<00:00,  7.33it/s]\n",
      "Epoch:   1%|          | 1/129 [00:00<00:18,  6.85it/s]"
     ]
    },
    {
     "name": "stdout",
     "output_type": "stream",
     "text": [
      "\n",
      "Epoch 157 train_loss: 1.2006 val_loss 1.4372 train_acc 0.6522 val_acc 0.6084\n"
     ]
    },
    {
     "name": "stderr",
     "output_type": "stream",
     "text": [
      "Epoch: 100%|██████████| 129/129 [00:17<00:00,  7.54it/s]\n",
      "Epoch:   1%|          | 1/129 [00:00<00:15,  8.06it/s]"
     ]
    },
    {
     "name": "stdout",
     "output_type": "stream",
     "text": [
      "\n",
      "Epoch 158 train_loss: 1.2169 val_loss 1.4501 train_acc 0.6473 val_acc 0.6044\n"
     ]
    },
    {
     "name": "stderr",
     "output_type": "stream",
     "text": [
      "Epoch: 100%|██████████| 129/129 [00:17<00:00,  7.28it/s]\n",
      "Epoch:   1%|          | 1/129 [00:00<00:17,  7.35it/s]"
     ]
    },
    {
     "name": "stdout",
     "output_type": "stream",
     "text": [
      "\n",
      "Epoch 159 train_loss: 1.2289 val_loss 1.4219 train_acc 0.6421 val_acc 0.6095\n"
     ]
    },
    {
     "name": "stderr",
     "output_type": "stream",
     "text": [
      "Epoch: 100%|██████████| 129/129 [00:17<00:00,  7.49it/s]\n",
      "Epoch:   1%|          | 1/129 [00:00<00:20,  6.36it/s]"
     ]
    },
    {
     "name": "stdout",
     "output_type": "stream",
     "text": [
      "\n",
      "Epoch 160 train_loss: 1.2091 val_loss 1.4040 train_acc 0.6498 val_acc 0.6120\n"
     ]
    },
    {
     "name": "stderr",
     "output_type": "stream",
     "text": [
      "Epoch: 100%|██████████| 129/129 [00:17<00:00,  7.55it/s]\n",
      "Epoch:   1%|          | 1/129 [00:00<00:15,  8.08it/s]"
     ]
    },
    {
     "name": "stdout",
     "output_type": "stream",
     "text": [
      "\n",
      "Epoch 161 train_loss: 1.2120 val_loss 1.4874 train_acc 0.6437 val_acc 0.5942\n"
     ]
    },
    {
     "name": "stderr",
     "output_type": "stream",
     "text": [
      "Epoch: 100%|██████████| 129/129 [00:17<00:00,  7.40it/s]\n",
      "Epoch:   1%|          | 1/129 [00:00<00:16,  7.56it/s]"
     ]
    },
    {
     "name": "stdout",
     "output_type": "stream",
     "text": [
      "\n",
      "Epoch 162 train_loss: 1.2022 val_loss 1.4021 train_acc 0.6476 val_acc 0.6095\n"
     ]
    },
    {
     "name": "stderr",
     "output_type": "stream",
     "text": [
      "Epoch: 100%|██████████| 129/129 [00:17<00:00,  7.46it/s]\n",
      "Epoch:   1%|          | 1/129 [00:00<00:16,  7.71it/s]"
     ]
    },
    {
     "name": "stdout",
     "output_type": "stream",
     "text": [
      "\n",
      "Epoch 163 train_loss: 1.2196 val_loss 1.5223 train_acc 0.6445 val_acc 0.5792\n"
     ]
    },
    {
     "name": "stderr",
     "output_type": "stream",
     "text": [
      "Epoch: 100%|██████████| 129/129 [00:18<00:00,  6.83it/s]\n",
      "Epoch:   1%|          | 1/129 [00:00<00:17,  7.52it/s]"
     ]
    },
    {
     "name": "stdout",
     "output_type": "stream",
     "text": [
      "\n",
      "Epoch 164 train_loss: 1.2292 val_loss 1.4377 train_acc 0.6425 val_acc 0.5964\n"
     ]
    },
    {
     "name": "stderr",
     "output_type": "stream",
     "text": [
      "Epoch: 100%|██████████| 129/129 [00:17<00:00,  7.47it/s]\n",
      "Epoch:   1%|          | 1/129 [00:00<00:17,  7.27it/s]"
     ]
    },
    {
     "name": "stdout",
     "output_type": "stream",
     "text": [
      "\n",
      "Epoch 165 train_loss: 1.1999 val_loss 1.4429 train_acc 0.6464 val_acc 0.6007\n"
     ]
    },
    {
     "name": "stderr",
     "output_type": "stream",
     "text": [
      "Epoch: 100%|██████████| 129/129 [00:17<00:00,  7.41it/s]\n",
      "Epoch:   1%|          | 1/129 [00:00<00:16,  7.57it/s]"
     ]
    },
    {
     "name": "stdout",
     "output_type": "stream",
     "text": [
      "\n",
      "Epoch 166 train_loss: 1.2191 val_loss 1.4068 train_acc 0.6448 val_acc 0.6095\n"
     ]
    },
    {
     "name": "stderr",
     "output_type": "stream",
     "text": [
      "Epoch: 100%|██████████| 129/129 [00:17<00:00,  7.22it/s]\n",
      "Epoch:   1%|          | 1/129 [00:00<00:15,  8.25it/s]"
     ]
    },
    {
     "name": "stdout",
     "output_type": "stream",
     "text": [
      "\n",
      "Epoch 167 train_loss: 1.1913 val_loss 1.4110 train_acc 0.6482 val_acc 0.6088\n"
     ]
    },
    {
     "name": "stderr",
     "output_type": "stream",
     "text": [
      "Epoch: 100%|██████████| 129/129 [00:17<00:00,  7.51it/s]\n",
      "Epoch:   1%|          | 1/129 [00:00<00:16,  7.67it/s]"
     ]
    },
    {
     "name": "stdout",
     "output_type": "stream",
     "text": [
      "\n",
      "Epoch 168 train_loss: 1.1922 val_loss 1.4364 train_acc 0.6504 val_acc 0.6084\n"
     ]
    },
    {
     "name": "stderr",
     "output_type": "stream",
     "text": [
      "Epoch: 100%|██████████| 129/129 [00:16<00:00,  7.63it/s]\n",
      "Epoch:   1%|          | 1/129 [00:00<00:15,  8.07it/s]"
     ]
    },
    {
     "name": "stdout",
     "output_type": "stream",
     "text": [
      "\n",
      "Epoch 169 train_loss: 1.2070 val_loss 1.4701 train_acc 0.6510 val_acc 0.5953\n"
     ]
    },
    {
     "name": "stderr",
     "output_type": "stream",
     "text": [
      "Epoch: 100%|██████████| 129/129 [00:17<00:00,  7.59it/s]\n",
      "Epoch:   1%|          | 1/129 [00:00<00:19,  6.49it/s]"
     ]
    },
    {
     "name": "stdout",
     "output_type": "stream",
     "text": [
      "\n",
      "Epoch 170 train_loss: 1.1975 val_loss 1.5793 train_acc 0.6482 val_acc 0.5781\n"
     ]
    },
    {
     "name": "stderr",
     "output_type": "stream",
     "text": [
      "Epoch: 100%|██████████| 129/129 [00:18<00:00,  7.13it/s]\n",
      "Epoch:   1%|          | 1/129 [00:00<00:17,  7.41it/s]"
     ]
    },
    {
     "name": "stdout",
     "output_type": "stream",
     "text": [
      "\n",
      "Epoch 171 train_loss: 1.2109 val_loss 1.4164 train_acc 0.6442 val_acc 0.6102\n"
     ]
    },
    {
     "name": "stderr",
     "output_type": "stream",
     "text": [
      "Epoch: 100%|██████████| 129/129 [00:17<00:00,  7.48it/s]\n",
      "Epoch:   1%|          | 1/129 [00:00<00:17,  7.27it/s]"
     ]
    },
    {
     "name": "stdout",
     "output_type": "stream",
     "text": [
      "\n",
      "Epoch 172 train_loss: 1.1868 val_loss 1.4013 train_acc 0.6569 val_acc 0.6091\n"
     ]
    },
    {
     "name": "stderr",
     "output_type": "stream",
     "text": [
      "Epoch: 100%|██████████| 129/129 [00:17<00:00,  7.53it/s]\n",
      "Epoch:   1%|          | 1/129 [00:00<00:16,  7.86it/s]"
     ]
    },
    {
     "name": "stdout",
     "output_type": "stream",
     "text": [
      "\n",
      "Epoch 173 train_loss: 1.1969 val_loss 1.4078 train_acc 0.6479 val_acc 0.6062\n"
     ]
    },
    {
     "name": "stderr",
     "output_type": "stream",
     "text": [
      "Epoch: 100%|██████████| 129/129 [00:17<00:00,  7.48it/s]\n",
      "Epoch:   1%|          | 1/129 [00:00<00:18,  7.10it/s]"
     ]
    },
    {
     "name": "stdout",
     "output_type": "stream",
     "text": [
      "\n",
      "Epoch 174 train_loss: 1.2136 val_loss 1.4379 train_acc 0.6470 val_acc 0.6062\n"
     ]
    },
    {
     "name": "stderr",
     "output_type": "stream",
     "text": [
      "Epoch: 100%|██████████| 129/129 [00:17<00:00,  7.56it/s]\n",
      "Epoch:   1%|          | 1/129 [00:00<00:16,  7.77it/s]"
     ]
    },
    {
     "name": "stdout",
     "output_type": "stream",
     "text": [
      "\n",
      "Epoch 175 train_loss: 1.1930 val_loss 1.4049 train_acc 0.6494 val_acc 0.6146\n"
     ]
    },
    {
     "name": "stderr",
     "output_type": "stream",
     "text": [
      "Epoch: 100%|██████████| 129/129 [00:17<00:00,  7.26it/s]\n",
      "Epoch:   1%|          | 1/129 [00:00<00:16,  7.61it/s]"
     ]
    },
    {
     "name": "stdout",
     "output_type": "stream",
     "text": [
      "\n",
      "Epoch 176 train_loss: 1.1858 val_loss 1.4363 train_acc 0.6517 val_acc 0.6088\n"
     ]
    },
    {
     "name": "stderr",
     "output_type": "stream",
     "text": [
      "Epoch: 100%|██████████| 129/129 [00:17<00:00,  7.30it/s]\n",
      "Epoch:   1%|          | 1/129 [00:00<00:16,  7.85it/s]"
     ]
    },
    {
     "name": "stdout",
     "output_type": "stream",
     "text": [
      "\n",
      "Epoch 177 train_loss: 1.2005 val_loss 1.4055 train_acc 0.6495 val_acc 0.6135\n"
     ]
    },
    {
     "name": "stderr",
     "output_type": "stream",
     "text": [
      "Epoch: 100%|██████████| 129/129 [00:17<00:00,  7.18it/s]\n",
      "Epoch:   1%|          | 1/129 [00:00<00:16,  7.93it/s]"
     ]
    },
    {
     "name": "stdout",
     "output_type": "stream",
     "text": [
      "\n",
      "Epoch 178 train_loss: 1.2061 val_loss 1.3918 train_acc 0.6477 val_acc 0.6175\n"
     ]
    },
    {
     "name": "stderr",
     "output_type": "stream",
     "text": [
      "Epoch: 100%|██████████| 129/129 [00:17<00:00,  7.27it/s]\n",
      "Epoch:   1%|          | 1/129 [00:00<00:17,  7.32it/s]"
     ]
    },
    {
     "name": "stdout",
     "output_type": "stream",
     "text": [
      "\n",
      "Epoch 179 train_loss: 1.1827 val_loss 1.3844 train_acc 0.6546 val_acc 0.6175\n"
     ]
    },
    {
     "name": "stderr",
     "output_type": "stream",
     "text": [
      "Epoch: 100%|██████████| 129/129 [00:17<00:00,  7.37it/s]\n",
      "Epoch:   1%|          | 1/129 [00:00<00:18,  6.75it/s]"
     ]
    },
    {
     "name": "stdout",
     "output_type": "stream",
     "text": [
      "\n",
      "Epoch 180 train_loss: 1.2063 val_loss 1.4991 train_acc 0.6472 val_acc 0.5920\n"
     ]
    },
    {
     "name": "stderr",
     "output_type": "stream",
     "text": [
      "Epoch: 100%|██████████| 129/129 [00:17<00:00,  7.47it/s]\n",
      "Epoch:   1%|          | 1/129 [00:00<00:16,  7.79it/s]"
     ]
    },
    {
     "name": "stdout",
     "output_type": "stream",
     "text": [
      "\n",
      "Epoch 181 train_loss: 1.2053 val_loss 1.3976 train_acc 0.6485 val_acc 0.6099\n"
     ]
    },
    {
     "name": "stderr",
     "output_type": "stream",
     "text": [
      "Epoch: 100%|██████████| 129/129 [00:17<00:00,  7.50it/s]\n",
      "Epoch:   1%|          | 1/129 [00:00<00:17,  7.30it/s]"
     ]
    },
    {
     "name": "stdout",
     "output_type": "stream",
     "text": [
      "\n",
      "Epoch 182 train_loss: 1.2034 val_loss 1.3948 train_acc 0.6481 val_acc 0.6120\n"
     ]
    },
    {
     "name": "stderr",
     "output_type": "stream",
     "text": [
      "Epoch: 100%|██████████| 129/129 [00:18<00:00,  7.04it/s]\n",
      "Epoch:   1%|          | 1/129 [00:00<00:17,  7.20it/s]"
     ]
    },
    {
     "name": "stdout",
     "output_type": "stream",
     "text": [
      "\n",
      "Epoch 183 train_loss: 1.1836 val_loss 1.4662 train_acc 0.6505 val_acc 0.6007\n"
     ]
    },
    {
     "name": "stderr",
     "output_type": "stream",
     "text": [
      "Epoch: 100%|██████████| 129/129 [00:17<00:00,  7.33it/s]\n",
      "Epoch:   1%|          | 1/129 [00:00<00:18,  6.88it/s]"
     ]
    },
    {
     "name": "stdout",
     "output_type": "stream",
     "text": [
      "\n",
      "Epoch 184 train_loss: 1.1851 val_loss 1.4781 train_acc 0.6541 val_acc 0.5923\n"
     ]
    },
    {
     "name": "stderr",
     "output_type": "stream",
     "text": [
      "Epoch: 100%|██████████| 129/129 [00:19<00:00,  6.64it/s]\n",
      "Epoch:   1%|          | 1/129 [00:00<00:16,  7.58it/s]"
     ]
    },
    {
     "name": "stdout",
     "output_type": "stream",
     "text": [
      "\n",
      "Epoch 185 train_loss: 1.1902 val_loss 1.4004 train_acc 0.6515 val_acc 0.6120\n"
     ]
    },
    {
     "name": "stderr",
     "output_type": "stream",
     "text": [
      "Epoch: 100%|██████████| 129/129 [00:17<00:00,  7.52it/s]\n",
      "Epoch:   1%|          | 1/129 [00:00<00:17,  7.48it/s]"
     ]
    },
    {
     "name": "stdout",
     "output_type": "stream",
     "text": [
      "\n",
      "Epoch 186 train_loss: 1.1836 val_loss 1.4866 train_acc 0.6541 val_acc 0.5920\n"
     ]
    },
    {
     "name": "stderr",
     "output_type": "stream",
     "text": [
      "Epoch: 100%|██████████| 129/129 [00:16<00:00,  7.65it/s]\n",
      "Epoch:   1%|          | 1/129 [00:00<00:19,  6.58it/s]"
     ]
    },
    {
     "name": "stdout",
     "output_type": "stream",
     "text": [
      "\n",
      "Epoch 187 train_loss: 1.1883 val_loss 1.5145 train_acc 0.6540 val_acc 0.5905\n"
     ]
    },
    {
     "name": "stderr",
     "output_type": "stream",
     "text": [
      "Epoch: 100%|██████████| 129/129 [00:17<00:00,  7.27it/s]\n",
      "Epoch:   1%|          | 1/129 [00:00<00:16,  7.75it/s]"
     ]
    },
    {
     "name": "stdout",
     "output_type": "stream",
     "text": [
      "\n",
      "Epoch 188 train_loss: 1.1747 val_loss 1.3820 train_acc 0.6596 val_acc 0.6223\n"
     ]
    },
    {
     "name": "stderr",
     "output_type": "stream",
     "text": [
      "Epoch: 100%|██████████| 129/129 [00:17<00:00,  7.51it/s]\n",
      "Epoch:   1%|          | 1/129 [00:00<00:16,  7.90it/s]"
     ]
    },
    {
     "name": "stdout",
     "output_type": "stream",
     "text": [
      "\n",
      "Epoch 189 train_loss: 1.1868 val_loss 1.4052 train_acc 0.6563 val_acc 0.6124\n"
     ]
    },
    {
     "name": "stderr",
     "output_type": "stream",
     "text": [
      "Epoch: 100%|██████████| 129/129 [00:16<00:00,  7.65it/s]\n",
      "Epoch:   1%|          | 1/129 [00:00<00:16,  7.89it/s]"
     ]
    },
    {
     "name": "stdout",
     "output_type": "stream",
     "text": [
      "\n",
      "Epoch 190 train_loss: 1.1828 val_loss 1.4230 train_acc 0.6502 val_acc 0.6088\n"
     ]
    },
    {
     "name": "stderr",
     "output_type": "stream",
     "text": [
      "Epoch: 100%|██████████| 129/129 [00:17<00:00,  7.43it/s]\n",
      "Epoch:   1%|          | 1/129 [00:00<00:17,  7.21it/s]"
     ]
    },
    {
     "name": "stdout",
     "output_type": "stream",
     "text": [
      "\n",
      "Epoch 191 train_loss: 1.1933 val_loss 1.4511 train_acc 0.6539 val_acc 0.6062\n"
     ]
    },
    {
     "name": "stderr",
     "output_type": "stream",
     "text": [
      "Epoch: 100%|██████████| 129/129 [00:17<00:00,  7.36it/s]\n",
      "Epoch:   1%|          | 1/129 [00:00<00:16,  7.56it/s]"
     ]
    },
    {
     "name": "stdout",
     "output_type": "stream",
     "text": [
      "\n",
      "Epoch 192 train_loss: 1.1698 val_loss 1.3985 train_acc 0.6555 val_acc 0.6168\n"
     ]
    },
    {
     "name": "stderr",
     "output_type": "stream",
     "text": [
      "Epoch: 100%|██████████| 129/129 [00:17<00:00,  7.19it/s]\n",
      "Epoch:   1%|          | 1/129 [00:00<00:17,  7.45it/s]"
     ]
    },
    {
     "name": "stdout",
     "output_type": "stream",
     "text": [
      "\n",
      "Epoch 193 train_loss: 1.1758 val_loss 1.4103 train_acc 0.6573 val_acc 0.6113\n"
     ]
    },
    {
     "name": "stderr",
     "output_type": "stream",
     "text": [
      "Epoch: 100%|██████████| 129/129 [00:17<00:00,  7.49it/s]\n",
      "Epoch:   1%|          | 1/129 [00:00<00:16,  7.95it/s]"
     ]
    },
    {
     "name": "stdout",
     "output_type": "stream",
     "text": [
      "\n",
      "Epoch 194 train_loss: 1.1790 val_loss 1.4195 train_acc 0.6550 val_acc 0.6120\n"
     ]
    },
    {
     "name": "stderr",
     "output_type": "stream",
     "text": [
      "Epoch: 100%|██████████| 129/129 [00:16<00:00,  7.62it/s]\n",
      "Epoch:   1%|          | 1/129 [00:00<00:17,  7.45it/s]"
     ]
    },
    {
     "name": "stdout",
     "output_type": "stream",
     "text": [
      "\n",
      "Epoch 195 train_loss: 1.1787 val_loss 1.4451 train_acc 0.6585 val_acc 0.6026\n"
     ]
    },
    {
     "name": "stderr",
     "output_type": "stream",
     "text": [
      "Epoch: 100%|██████████| 129/129 [00:17<00:00,  7.32it/s]\n",
      "Epoch:   1%|          | 1/129 [00:00<00:16,  7.85it/s]"
     ]
    },
    {
     "name": "stdout",
     "output_type": "stream",
     "text": [
      "\n",
      "Epoch 196 train_loss: 1.1850 val_loss 1.3839 train_acc 0.6562 val_acc 0.6237\n"
     ]
    },
    {
     "name": "stderr",
     "output_type": "stream",
     "text": [
      "Epoch: 100%|██████████| 129/129 [00:17<00:00,  7.41it/s]\n",
      "Epoch:   1%|          | 1/129 [00:00<00:15,  8.12it/s]"
     ]
    },
    {
     "name": "stdout",
     "output_type": "stream",
     "text": [
      "\n",
      "Epoch 197 train_loss: 1.1815 val_loss 1.3996 train_acc 0.6528 val_acc 0.6099\n"
     ]
    },
    {
     "name": "stderr",
     "output_type": "stream",
     "text": [
      "Epoch: 100%|██████████| 129/129 [00:17<00:00,  7.33it/s]\n",
      "Epoch:   1%|          | 1/129 [00:00<00:18,  6.78it/s]"
     ]
    },
    {
     "name": "stdout",
     "output_type": "stream",
     "text": [
      "\n",
      "Epoch 198 train_loss: 1.1753 val_loss 1.4544 train_acc 0.6585 val_acc 0.5964\n"
     ]
    },
    {
     "name": "stderr",
     "output_type": "stream",
     "text": [
      "Epoch: 100%|██████████| 129/129 [00:16<00:00,  7.60it/s]\n",
      "Epoch:   1%|          | 1/129 [00:00<00:16,  7.89it/s]"
     ]
    },
    {
     "name": "stdout",
     "output_type": "stream",
     "text": [
      "\n",
      "Epoch 199 train_loss: 1.1612 val_loss 1.3976 train_acc 0.6595 val_acc 0.6172\n"
     ]
    },
    {
     "name": "stderr",
     "output_type": "stream",
     "text": [
      "Epoch: 100%|██████████| 129/129 [00:17<00:00,  7.36it/s]\n"
     ]
    },
    {
     "name": "stdout",
     "output_type": "stream",
     "text": [
      "\n",
      "Epoch 200 train_loss: 1.1733 val_loss 1.3750 train_acc 0.6547 val_acc 0.6208\n"
     ]
    }
   ],
   "source": [
    "optim = torch.optim.SGD(CNN.parameters(), lr=0.0001)\n",
    "criterion = nn.CrossEntropyLoss()\n",
    "\n",
    "history = train(train_dataset, val_dataset, model=CNN,  optim=optim,\n",
    "                criterion=criterion, epochs=200 , batch_size=64, device=DEVICE)"
   ]
  },
  {
   "cell_type": "code",
   "execution_count": 36,
   "metadata": {
    "scrolled": true
   },
   "outputs": [
    {
     "name": "stderr",
     "output_type": "stream",
     "text": [
      "Epoch: 100%|██████████| 129/129 [00:17<00:00,  7.23it/s]\n",
      "Epoch:   1%|          | 1/129 [00:00<00:16,  7.70it/s]"
     ]
    },
    {
     "name": "stdout",
     "output_type": "stream",
     "text": [
      "\n",
      "Epoch 001 train_loss: 1.1405 val_loss 1.3734 train_acc 0.6644 val_acc 0.6219\n"
     ]
    },
    {
     "name": "stderr",
     "output_type": "stream",
     "text": [
      "Epoch: 100%|██████████| 129/129 [00:17<00:00,  7.53it/s]\n",
      "Epoch:   1%|          | 1/129 [00:00<00:17,  7.29it/s]"
     ]
    },
    {
     "name": "stdout",
     "output_type": "stream",
     "text": [
      "\n",
      "Epoch 002 train_loss: 1.1551 val_loss 1.3843 train_acc 0.6608 val_acc 0.6161\n"
     ]
    },
    {
     "name": "stderr",
     "output_type": "stream",
     "text": [
      "Epoch: 100%|██████████| 129/129 [00:17<00:00,  7.35it/s]\n",
      "Epoch:   1%|          | 1/129 [00:00<00:17,  7.52it/s]"
     ]
    },
    {
     "name": "stdout",
     "output_type": "stream",
     "text": [
      "\n",
      "Epoch 003 train_loss: 1.1493 val_loss 1.3752 train_acc 0.6628 val_acc 0.6172\n"
     ]
    },
    {
     "name": "stderr",
     "output_type": "stream",
     "text": [
      "Epoch: 100%|██████████| 129/129 [00:17<00:00,  7.24it/s]\n",
      "Epoch:   1%|          | 1/129 [00:00<00:16,  7.90it/s]"
     ]
    },
    {
     "name": "stdout",
     "output_type": "stream",
     "text": [
      "\n",
      "Epoch 004 train_loss: 1.1480 val_loss 1.4077 train_acc 0.6689 val_acc 0.6084\n"
     ]
    },
    {
     "name": "stderr",
     "output_type": "stream",
     "text": [
      "Epoch: 100%|██████████| 129/129 [00:17<00:00,  7.49it/s]\n",
      "Epoch:   1%|          | 1/129 [00:00<00:15,  8.32it/s]"
     ]
    },
    {
     "name": "stdout",
     "output_type": "stream",
     "text": [
      "\n",
      "Epoch 005 train_loss: 1.1454 val_loss 1.3737 train_acc 0.6681 val_acc 0.6197\n"
     ]
    },
    {
     "name": "stderr",
     "output_type": "stream",
     "text": [
      "Epoch: 100%|██████████| 129/129 [00:18<00:00,  7.01it/s]\n",
      "Epoch:   1%|          | 1/129 [00:00<00:16,  7.54it/s]"
     ]
    },
    {
     "name": "stdout",
     "output_type": "stream",
     "text": [
      "\n",
      "Epoch 006 train_loss: 1.1512 val_loss 1.3894 train_acc 0.6639 val_acc 0.6102\n"
     ]
    },
    {
     "name": "stderr",
     "output_type": "stream",
     "text": [
      "Epoch: 100%|██████████| 129/129 [00:17<00:00,  7.33it/s]\n",
      "Epoch:   1%|          | 1/129 [00:00<00:16,  7.98it/s]"
     ]
    },
    {
     "name": "stdout",
     "output_type": "stream",
     "text": [
      "\n",
      "Epoch 007 train_loss: 1.1423 val_loss 1.3820 train_acc 0.6667 val_acc 0.6186\n"
     ]
    },
    {
     "name": "stderr",
     "output_type": "stream",
     "text": [
      "Epoch: 100%|██████████| 129/129 [00:16<00:00,  7.63it/s]\n",
      "Epoch:   1%|          | 1/129 [00:00<00:16,  7.62it/s]"
     ]
    },
    {
     "name": "stdout",
     "output_type": "stream",
     "text": [
      "\n",
      "Epoch 008 train_loss: 1.1376 val_loss 1.4339 train_acc 0.6664 val_acc 0.6124\n"
     ]
    },
    {
     "name": "stderr",
     "output_type": "stream",
     "text": [
      "Epoch: 100%|██████████| 129/129 [00:17<00:00,  7.45it/s]\n",
      "Epoch:   1%|          | 1/129 [00:00<00:16,  7.89it/s]"
     ]
    },
    {
     "name": "stdout",
     "output_type": "stream",
     "text": [
      "\n",
      "Epoch 009 train_loss: 1.1305 val_loss 1.3706 train_acc 0.6701 val_acc 0.6204\n"
     ]
    },
    {
     "name": "stderr",
     "output_type": "stream",
     "text": [
      "Epoch: 100%|██████████| 129/129 [00:17<00:00,  7.31it/s]\n",
      "Epoch:   1%|          | 1/129 [00:00<00:15,  8.07it/s]"
     ]
    },
    {
     "name": "stdout",
     "output_type": "stream",
     "text": [
      "\n",
      "Epoch 010 train_loss: 1.1405 val_loss 1.3631 train_acc 0.6724 val_acc 0.6281\n"
     ]
    },
    {
     "name": "stderr",
     "output_type": "stream",
     "text": [
      "Epoch: 100%|██████████| 129/129 [00:17<00:00,  7.47it/s]\n",
      "Epoch:   1%|          | 1/129 [00:00<00:16,  7.70it/s]"
     ]
    },
    {
     "name": "stdout",
     "output_type": "stream",
     "text": [
      "\n",
      "Epoch 011 train_loss: 1.1290 val_loss 1.3809 train_acc 0.6667 val_acc 0.6193\n"
     ]
    },
    {
     "name": "stderr",
     "output_type": "stream",
     "text": [
      "Epoch: 100%|██████████| 129/129 [00:18<00:00,  7.09it/s]\n",
      "Epoch:   1%|          | 1/129 [00:00<00:16,  7.94it/s]"
     ]
    },
    {
     "name": "stdout",
     "output_type": "stream",
     "text": [
      "\n",
      "Epoch 012 train_loss: 1.1420 val_loss 1.3762 train_acc 0.6650 val_acc 0.6182\n"
     ]
    },
    {
     "name": "stderr",
     "output_type": "stream",
     "text": [
      "Epoch: 100%|██████████| 129/129 [00:17<00:00,  7.47it/s]\n",
      "Epoch:   1%|          | 1/129 [00:00<00:17,  7.49it/s]"
     ]
    },
    {
     "name": "stdout",
     "output_type": "stream",
     "text": [
      "\n",
      "Epoch 013 train_loss: 1.1418 val_loss 1.3834 train_acc 0.6633 val_acc 0.6208\n"
     ]
    },
    {
     "name": "stderr",
     "output_type": "stream",
     "text": [
      "Epoch: 100%|██████████| 129/129 [00:17<00:00,  7.36it/s]\n",
      "Epoch:   1%|          | 1/129 [00:00<00:16,  7.91it/s]"
     ]
    },
    {
     "name": "stdout",
     "output_type": "stream",
     "text": [
      "\n",
      "Epoch 014 train_loss: 1.1373 val_loss 1.3837 train_acc 0.6691 val_acc 0.6223\n"
     ]
    },
    {
     "name": "stderr",
     "output_type": "stream",
     "text": [
      "Epoch: 100%|██████████| 129/129 [00:17<00:00,  7.46it/s]\n",
      "Epoch:   1%|          | 1/129 [00:00<00:16,  7.65it/s]"
     ]
    },
    {
     "name": "stdout",
     "output_type": "stream",
     "text": [
      "\n",
      "Epoch 015 train_loss: 1.1384 val_loss 1.4012 train_acc 0.6652 val_acc 0.6131\n"
     ]
    },
    {
     "name": "stderr",
     "output_type": "stream",
     "text": [
      "Epoch: 100%|██████████| 129/129 [00:17<00:00,  7.38it/s]\n",
      "Epoch:   1%|          | 1/129 [00:00<00:19,  6.59it/s]"
     ]
    },
    {
     "name": "stdout",
     "output_type": "stream",
     "text": [
      "\n",
      "Epoch 016 train_loss: 1.1311 val_loss 1.3797 train_acc 0.6678 val_acc 0.6248\n"
     ]
    },
    {
     "name": "stderr",
     "output_type": "stream",
     "text": [
      "Epoch: 100%|██████████| 129/129 [00:17<00:00,  7.40it/s]\n",
      "Epoch:   1%|          | 1/129 [00:00<00:17,  7.37it/s]"
     ]
    },
    {
     "name": "stdout",
     "output_type": "stream",
     "text": [
      "\n",
      "Epoch 017 train_loss: 1.1338 val_loss 1.4090 train_acc 0.6670 val_acc 0.6124\n"
     ]
    },
    {
     "name": "stderr",
     "output_type": "stream",
     "text": [
      "Epoch: 100%|██████████| 129/129 [00:17<00:00,  7.27it/s]\n",
      "Epoch:   1%|          | 1/129 [00:00<00:16,  7.96it/s]"
     ]
    },
    {
     "name": "stdout",
     "output_type": "stream",
     "text": [
      "\n",
      "Epoch 018 train_loss: 1.1356 val_loss 1.3725 train_acc 0.6713 val_acc 0.6245\n"
     ]
    },
    {
     "name": "stderr",
     "output_type": "stream",
     "text": [
      "Epoch: 100%|██████████| 129/129 [00:18<00:00,  7.10it/s]\n",
      "Epoch:   1%|          | 1/129 [00:00<00:18,  6.93it/s]"
     ]
    },
    {
     "name": "stdout",
     "output_type": "stream",
     "text": [
      "\n",
      "Epoch 019 train_loss: 1.1234 val_loss 1.3897 train_acc 0.6742 val_acc 0.6179\n"
     ]
    },
    {
     "name": "stderr",
     "output_type": "stream",
     "text": [
      "Epoch: 100%|██████████| 129/129 [00:17<00:00,  7.42it/s]\n",
      "Epoch:   1%|          | 1/129 [00:00<00:16,  7.83it/s]"
     ]
    },
    {
     "name": "stdout",
     "output_type": "stream",
     "text": [
      "\n",
      "Epoch 020 train_loss: 1.1254 val_loss 1.3718 train_acc 0.6751 val_acc 0.6277\n"
     ]
    },
    {
     "name": "stderr",
     "output_type": "stream",
     "text": [
      "Epoch: 100%|██████████| 129/129 [00:17<00:00,  7.57it/s]\n",
      "Epoch:   1%|          | 1/129 [00:00<00:19,  6.70it/s]"
     ]
    },
    {
     "name": "stdout",
     "output_type": "stream",
     "text": [
      "\n",
      "Epoch 021 train_loss: 1.1299 val_loss 1.3824 train_acc 0.6655 val_acc 0.6172\n"
     ]
    },
    {
     "name": "stderr",
     "output_type": "stream",
     "text": [
      "Epoch: 100%|██████████| 129/129 [00:17<00:00,  7.37it/s]\n",
      "Epoch:   1%|          | 1/129 [00:00<00:20,  6.10it/s]"
     ]
    },
    {
     "name": "stdout",
     "output_type": "stream",
     "text": [
      "\n",
      "Epoch 022 train_loss: 1.1197 val_loss 1.4700 train_acc 0.6752 val_acc 0.6000\n"
     ]
    },
    {
     "name": "stderr",
     "output_type": "stream",
     "text": [
      "Epoch: 100%|██████████| 129/129 [00:17<00:00,  7.39it/s]\n",
      "Epoch:   1%|          | 1/129 [00:00<00:16,  7.96it/s]"
     ]
    },
    {
     "name": "stdout",
     "output_type": "stream",
     "text": [
      "\n",
      "Epoch 023 train_loss: 1.1237 val_loss 1.3886 train_acc 0.6684 val_acc 0.6215\n"
     ]
    },
    {
     "name": "stderr",
     "output_type": "stream",
     "text": [
      "Epoch: 100%|██████████| 129/129 [00:18<00:00,  7.10it/s]\n",
      "Epoch:   1%|          | 1/129 [00:00<00:15,  8.08it/s]"
     ]
    },
    {
     "name": "stdout",
     "output_type": "stream",
     "text": [
      "\n",
      "Epoch 024 train_loss: 1.1237 val_loss 1.3781 train_acc 0.6721 val_acc 0.6201\n"
     ]
    },
    {
     "name": "stderr",
     "output_type": "stream",
     "text": [
      "Epoch: 100%|██████████| 129/129 [00:17<00:00,  7.50it/s]\n",
      "Epoch:   1%|          | 1/129 [00:00<00:15,  8.04it/s]"
     ]
    },
    {
     "name": "stdout",
     "output_type": "stream",
     "text": [
      "\n",
      "Epoch 025 train_loss: 1.1211 val_loss 1.4068 train_acc 0.6676 val_acc 0.6168\n"
     ]
    },
    {
     "name": "stderr",
     "output_type": "stream",
     "text": [
      "Epoch: 100%|██████████| 129/129 [00:16<00:00,  7.70it/s]\n",
      "Epoch:   1%|          | 1/129 [00:00<00:17,  7.12it/s]"
     ]
    },
    {
     "name": "stdout",
     "output_type": "stream",
     "text": [
      "\n",
      "Epoch 026 train_loss: 1.1275 val_loss 1.3641 train_acc 0.6743 val_acc 0.6255\n"
     ]
    },
    {
     "name": "stderr",
     "output_type": "stream",
     "text": [
      "Epoch: 100%|██████████| 129/129 [00:16<00:00,  7.59it/s]\n",
      "Epoch:   1%|          | 1/129 [00:00<00:16,  7.88it/s]"
     ]
    },
    {
     "name": "stdout",
     "output_type": "stream",
     "text": [
      "\n",
      "Epoch 027 train_loss: 1.1198 val_loss 1.3781 train_acc 0.6738 val_acc 0.6168\n"
     ]
    },
    {
     "name": "stderr",
     "output_type": "stream",
     "text": [
      "Epoch: 100%|██████████| 129/129 [00:18<00:00,  7.08it/s]\n",
      "Epoch:   1%|          | 1/129 [00:00<00:18,  6.74it/s]"
     ]
    },
    {
     "name": "stdout",
     "output_type": "stream",
     "text": [
      "\n",
      "Epoch 028 train_loss: 1.1231 val_loss 1.3690 train_acc 0.6690 val_acc 0.6263\n"
     ]
    },
    {
     "name": "stderr",
     "output_type": "stream",
     "text": [
      "Epoch: 100%|██████████| 129/129 [00:18<00:00,  7.08it/s]\n",
      "Epoch:   1%|          | 1/129 [00:00<00:18,  6.96it/s]"
     ]
    },
    {
     "name": "stdout",
     "output_type": "stream",
     "text": [
      "\n",
      "Epoch 029 train_loss: 1.1269 val_loss 1.3997 train_acc 0.6721 val_acc 0.6179\n"
     ]
    },
    {
     "name": "stderr",
     "output_type": "stream",
     "text": [
      "Epoch: 100%|██████████| 129/129 [00:17<00:00,  7.46it/s]\n",
      "Epoch:   1%|          | 1/129 [00:00<00:17,  7.49it/s]"
     ]
    },
    {
     "name": "stdout",
     "output_type": "stream",
     "text": [
      "\n",
      "Epoch 030 train_loss: 1.1258 val_loss 1.3903 train_acc 0.6712 val_acc 0.6223\n"
     ]
    },
    {
     "name": "stderr",
     "output_type": "stream",
     "text": [
      "Epoch: 100%|██████████| 129/129 [00:17<00:00,  7.50it/s]\n",
      "Epoch:   1%|          | 1/129 [00:00<00:16,  7.69it/s]"
     ]
    },
    {
     "name": "stdout",
     "output_type": "stream",
     "text": [
      "\n",
      "Epoch 031 train_loss: 1.1292 val_loss 1.3731 train_acc 0.6639 val_acc 0.6186\n"
     ]
    },
    {
     "name": "stderr",
     "output_type": "stream",
     "text": [
      "Epoch: 100%|██████████| 129/129 [00:17<00:00,  7.27it/s]\n",
      "Epoch:   1%|          | 1/129 [00:00<00:16,  7.92it/s]"
     ]
    },
    {
     "name": "stdout",
     "output_type": "stream",
     "text": [
      "\n",
      "Epoch 032 train_loss: 1.1267 val_loss 1.3711 train_acc 0.6675 val_acc 0.6204\n"
     ]
    },
    {
     "name": "stderr",
     "output_type": "stream",
     "text": [
      "Epoch: 100%|██████████| 129/129 [00:17<00:00,  7.24it/s]\n",
      "Epoch:   1%|          | 1/129 [00:00<00:16,  7.89it/s]"
     ]
    },
    {
     "name": "stdout",
     "output_type": "stream",
     "text": [
      "\n",
      "Epoch 033 train_loss: 1.1232 val_loss 1.3959 train_acc 0.6706 val_acc 0.6153\n"
     ]
    },
    {
     "name": "stderr",
     "output_type": "stream",
     "text": [
      "Epoch: 100%|██████████| 129/129 [00:16<00:00,  7.62it/s]\n",
      "Epoch:   1%|          | 1/129 [00:00<00:21,  5.88it/s]"
     ]
    },
    {
     "name": "stdout",
     "output_type": "stream",
     "text": [
      "\n",
      "Epoch 034 train_loss: 1.1194 val_loss 1.3672 train_acc 0.6736 val_acc 0.6248\n"
     ]
    },
    {
     "name": "stderr",
     "output_type": "stream",
     "text": [
      "Epoch: 100%|██████████| 129/129 [00:18<00:00,  7.09it/s]\n",
      "Epoch:   1%|          | 1/129 [00:00<00:16,  7.81it/s]"
     ]
    },
    {
     "name": "stdout",
     "output_type": "stream",
     "text": [
      "\n",
      "Epoch 035 train_loss: 1.1252 val_loss 1.3849 train_acc 0.6746 val_acc 0.6186\n"
     ]
    },
    {
     "name": "stderr",
     "output_type": "stream",
     "text": [
      "Epoch: 100%|██████████| 129/129 [00:17<00:00,  7.35it/s]\n",
      "Epoch:   1%|          | 1/129 [00:00<00:18,  6.99it/s]"
     ]
    },
    {
     "name": "stdout",
     "output_type": "stream",
     "text": [
      "\n",
      "Epoch 036 train_loss: 1.1154 val_loss 1.3945 train_acc 0.6755 val_acc 0.6146\n"
     ]
    },
    {
     "name": "stderr",
     "output_type": "stream",
     "text": [
      "Epoch: 100%|██████████| 129/129 [00:17<00:00,  7.18it/s]\n",
      "Epoch:   1%|          | 1/129 [00:00<00:17,  7.46it/s]"
     ]
    },
    {
     "name": "stdout",
     "output_type": "stream",
     "text": [
      "\n",
      "Epoch 037 train_loss: 1.1167 val_loss 1.3935 train_acc 0.6681 val_acc 0.6197\n"
     ]
    },
    {
     "name": "stderr",
     "output_type": "stream",
     "text": [
      "Epoch: 100%|██████████| 129/129 [00:17<00:00,  7.51it/s]\n",
      "Epoch:   1%|          | 1/129 [00:00<00:16,  7.90it/s]"
     ]
    },
    {
     "name": "stdout",
     "output_type": "stream",
     "text": [
      "\n",
      "Epoch 038 train_loss: 1.1167 val_loss 1.3879 train_acc 0.6690 val_acc 0.6172\n"
     ]
    },
    {
     "name": "stderr",
     "output_type": "stream",
     "text": [
      "Epoch: 100%|██████████| 129/129 [00:19<00:00,  6.75it/s]\n",
      "Epoch:   1%|          | 1/129 [00:00<00:16,  7.67it/s]"
     ]
    },
    {
     "name": "stdout",
     "output_type": "stream",
     "text": [
      "\n",
      "Epoch 039 train_loss: 1.1222 val_loss 1.4058 train_acc 0.6692 val_acc 0.6153\n"
     ]
    },
    {
     "name": "stderr",
     "output_type": "stream",
     "text": [
      "Epoch: 100%|██████████| 129/129 [00:17<00:00,  7.20it/s]\n",
      "Epoch:   1%|          | 1/129 [00:00<00:15,  8.05it/s]"
     ]
    },
    {
     "name": "stdout",
     "output_type": "stream",
     "text": [
      "\n",
      "Epoch 040 train_loss: 1.1217 val_loss 1.3899 train_acc 0.6731 val_acc 0.6164\n"
     ]
    },
    {
     "name": "stderr",
     "output_type": "stream",
     "text": [
      "Epoch: 100%|██████████| 129/129 [00:17<00:00,  7.45it/s]\n",
      "Epoch:   1%|          | 1/129 [00:00<00:17,  7.42it/s]"
     ]
    },
    {
     "name": "stdout",
     "output_type": "stream",
     "text": [
      "\n",
      "Epoch 041 train_loss: 1.1264 val_loss 1.3763 train_acc 0.6703 val_acc 0.6219\n"
     ]
    },
    {
     "name": "stderr",
     "output_type": "stream",
     "text": [
      "Epoch: 100%|██████████| 129/129 [00:17<00:00,  7.49it/s]\n",
      "Epoch:   1%|          | 1/129 [00:00<00:17,  7.26it/s]"
     ]
    },
    {
     "name": "stdout",
     "output_type": "stream",
     "text": [
      "\n",
      "Epoch 042 train_loss: 1.1214 val_loss 1.4235 train_acc 0.6730 val_acc 0.6073\n"
     ]
    },
    {
     "name": "stderr",
     "output_type": "stream",
     "text": [
      "Epoch: 100%|██████████| 129/129 [00:17<00:00,  7.17it/s]\n",
      "Epoch:   1%|          | 1/129 [00:00<00:18,  6.91it/s]"
     ]
    },
    {
     "name": "stdout",
     "output_type": "stream",
     "text": [
      "\n",
      "Epoch 043 train_loss: 1.1226 val_loss 1.3576 train_acc 0.6753 val_acc 0.6285\n"
     ]
    },
    {
     "name": "stderr",
     "output_type": "stream",
     "text": [
      "Epoch: 100%|██████████| 129/129 [00:17<00:00,  7.52it/s]\n",
      "Epoch:   1%|          | 1/129 [00:00<00:16,  7.88it/s]"
     ]
    },
    {
     "name": "stdout",
     "output_type": "stream",
     "text": [
      "\n",
      "Epoch 044 train_loss: 1.1107 val_loss 1.3662 train_acc 0.6734 val_acc 0.6241\n"
     ]
    },
    {
     "name": "stderr",
     "output_type": "stream",
     "text": [
      "Epoch: 100%|██████████| 129/129 [00:18<00:00,  7.02it/s]\n",
      "Epoch:   1%|          | 1/129 [00:00<00:18,  7.01it/s]"
     ]
    },
    {
     "name": "stdout",
     "output_type": "stream",
     "text": [
      "\n",
      "Epoch 045 train_loss: 1.1220 val_loss 1.3702 train_acc 0.6675 val_acc 0.6270\n"
     ]
    },
    {
     "name": "stderr",
     "output_type": "stream",
     "text": [
      "Epoch: 100%|██████████| 129/129 [00:17<00:00,  7.37it/s]\n",
      "Epoch:   1%|          | 1/129 [00:00<00:17,  7.45it/s]"
     ]
    },
    {
     "name": "stdout",
     "output_type": "stream",
     "text": [
      "\n",
      "Epoch 046 train_loss: 1.1086 val_loss 1.3928 train_acc 0.6766 val_acc 0.6193\n"
     ]
    },
    {
     "name": "stderr",
     "output_type": "stream",
     "text": [
      "Epoch: 100%|██████████| 129/129 [00:17<00:00,  7.52it/s]\n",
      "Epoch:   1%|          | 1/129 [00:00<00:17,  7.18it/s]"
     ]
    },
    {
     "name": "stdout",
     "output_type": "stream",
     "text": [
      "\n",
      "Epoch 047 train_loss: 1.1162 val_loss 1.3808 train_acc 0.6679 val_acc 0.6128\n"
     ]
    },
    {
     "name": "stderr",
     "output_type": "stream",
     "text": [
      "Epoch: 100%|██████████| 129/129 [00:17<00:00,  7.26it/s]\n",
      "Epoch:   1%|          | 1/129 [00:00<00:17,  7.42it/s]"
     ]
    },
    {
     "name": "stdout",
     "output_type": "stream",
     "text": [
      "\n",
      "Epoch 048 train_loss: 1.1054 val_loss 1.3931 train_acc 0.6776 val_acc 0.6208\n"
     ]
    },
    {
     "name": "stderr",
     "output_type": "stream",
     "text": [
      "Epoch: 100%|██████████| 129/129 [00:17<00:00,  7.37it/s]\n",
      "Epoch:   1%|          | 1/129 [00:00<00:16,  7.84it/s]"
     ]
    },
    {
     "name": "stdout",
     "output_type": "stream",
     "text": [
      "\n",
      "Epoch 049 train_loss: 1.1144 val_loss 1.3942 train_acc 0.6715 val_acc 0.6193\n"
     ]
    },
    {
     "name": "stderr",
     "output_type": "stream",
     "text": [
      "Epoch: 100%|██████████| 129/129 [00:18<00:00,  6.89it/s]\n",
      "Epoch:   1%|          | 1/129 [00:00<00:16,  7.84it/s]"
     ]
    },
    {
     "name": "stdout",
     "output_type": "stream",
     "text": [
      "\n",
      "Epoch 050 train_loss: 1.1056 val_loss 1.3673 train_acc 0.6793 val_acc 0.6179\n"
     ]
    },
    {
     "name": "stderr",
     "output_type": "stream",
     "text": [
      "Epoch: 100%|██████████| 129/129 [00:17<00:00,  7.38it/s]\n",
      "Epoch:   1%|          | 1/129 [00:00<00:15,  8.08it/s]"
     ]
    },
    {
     "name": "stdout",
     "output_type": "stream",
     "text": [
      "\n",
      "Epoch 051 train_loss: 1.1159 val_loss 1.4473 train_acc 0.6755 val_acc 0.5982\n"
     ]
    },
    {
     "name": "stderr",
     "output_type": "stream",
     "text": [
      "Epoch: 100%|██████████| 129/129 [00:17<00:00,  7.55it/s]\n",
      "Epoch:   1%|          | 1/129 [00:00<00:16,  7.68it/s]"
     ]
    },
    {
     "name": "stdout",
     "output_type": "stream",
     "text": [
      "\n",
      "Epoch 052 train_loss: 1.1055 val_loss 1.3759 train_acc 0.6798 val_acc 0.6215\n"
     ]
    },
    {
     "name": "stderr",
     "output_type": "stream",
     "text": [
      "Epoch: 100%|██████████| 129/129 [00:17<00:00,  7.36it/s]\n",
      "Epoch:   1%|          | 1/129 [00:00<00:16,  7.91it/s]"
     ]
    },
    {
     "name": "stdout",
     "output_type": "stream",
     "text": [
      "\n",
      "Epoch 053 train_loss: 1.1071 val_loss 1.3862 train_acc 0.6771 val_acc 0.6150\n"
     ]
    },
    {
     "name": "stderr",
     "output_type": "stream",
     "text": [
      "Epoch: 100%|██████████| 129/129 [00:18<00:00,  6.83it/s]\n",
      "Epoch:   1%|          | 1/129 [00:00<00:19,  6.69it/s]"
     ]
    },
    {
     "name": "stdout",
     "output_type": "stream",
     "text": [
      "\n",
      "Epoch 054 train_loss: 1.1005 val_loss 1.3726 train_acc 0.6813 val_acc 0.6215\n"
     ]
    },
    {
     "name": "stderr",
     "output_type": "stream",
     "text": [
      "Epoch: 100%|██████████| 129/129 [00:17<00:00,  7.33it/s]\n",
      "Epoch:   1%|          | 1/129 [00:00<00:19,  6.56it/s]"
     ]
    },
    {
     "name": "stdout",
     "output_type": "stream",
     "text": [
      "\n",
      "Epoch 055 train_loss: 1.1070 val_loss 1.3620 train_acc 0.6776 val_acc 0.6245\n"
     ]
    },
    {
     "name": "stderr",
     "output_type": "stream",
     "text": [
      "Epoch: 100%|██████████| 129/129 [00:17<00:00,  7.34it/s]\n",
      "Epoch:   1%|          | 1/129 [00:00<00:17,  7.28it/s]"
     ]
    },
    {
     "name": "stdout",
     "output_type": "stream",
     "text": [
      "\n",
      "Epoch 056 train_loss: 1.1104 val_loss 1.3741 train_acc 0.6713 val_acc 0.6230\n"
     ]
    },
    {
     "name": "stderr",
     "output_type": "stream",
     "text": [
      "Epoch: 100%|██████████| 129/129 [00:17<00:00,  7.32it/s]\n",
      "Epoch:   1%|          | 1/129 [00:00<00:16,  7.85it/s]"
     ]
    },
    {
     "name": "stdout",
     "output_type": "stream",
     "text": [
      "\n",
      "Epoch 057 train_loss: 1.1063 val_loss 1.3702 train_acc 0.6732 val_acc 0.6204\n"
     ]
    },
    {
     "name": "stderr",
     "output_type": "stream",
     "text": [
      "Epoch: 100%|██████████| 129/129 [00:17<00:00,  7.36it/s]\n",
      "Epoch:   1%|          | 1/129 [00:00<00:17,  7.29it/s]"
     ]
    },
    {
     "name": "stdout",
     "output_type": "stream",
     "text": [
      "\n",
      "Epoch 058 train_loss: 1.1116 val_loss 1.4002 train_acc 0.6799 val_acc 0.6172\n"
     ]
    },
    {
     "name": "stderr",
     "output_type": "stream",
     "text": [
      "Epoch: 100%|██████████| 129/129 [00:17<00:00,  7.18it/s]\n",
      "Epoch:   1%|          | 1/129 [00:00<00:18,  6.83it/s]"
     ]
    },
    {
     "name": "stdout",
     "output_type": "stream",
     "text": [
      "\n",
      "Epoch 059 train_loss: 1.1160 val_loss 1.3634 train_acc 0.6706 val_acc 0.6277\n"
     ]
    },
    {
     "name": "stderr",
     "output_type": "stream",
     "text": [
      "Epoch: 100%|██████████| 129/129 [00:17<00:00,  7.35it/s]\n",
      "Epoch:   1%|          | 1/129 [00:00<00:16,  7.85it/s]"
     ]
    },
    {
     "name": "stdout",
     "output_type": "stream",
     "text": [
      "\n",
      "Epoch 060 train_loss: 1.1075 val_loss 1.3828 train_acc 0.6779 val_acc 0.6142\n"
     ]
    },
    {
     "name": "stderr",
     "output_type": "stream",
     "text": [
      "Epoch: 100%|██████████| 129/129 [00:17<00:00,  7.34it/s]\n",
      "Epoch:   1%|          | 1/129 [00:00<00:18,  7.09it/s]"
     ]
    },
    {
     "name": "stdout",
     "output_type": "stream",
     "text": [
      "\n",
      "Epoch 061 train_loss: 1.1049 val_loss 1.3771 train_acc 0.6780 val_acc 0.6237\n"
     ]
    },
    {
     "name": "stderr",
     "output_type": "stream",
     "text": [
      "Epoch: 100%|██████████| 129/129 [00:18<00:00,  7.11it/s]\n",
      "Epoch:   1%|          | 1/129 [00:00<00:17,  7.33it/s]"
     ]
    },
    {
     "name": "stdout",
     "output_type": "stream",
     "text": [
      "\n",
      "Epoch 062 train_loss: 1.0946 val_loss 1.3905 train_acc 0.6805 val_acc 0.6255\n"
     ]
    },
    {
     "name": "stderr",
     "output_type": "stream",
     "text": [
      "Epoch: 100%|██████████| 129/129 [00:18<00:00,  6.94it/s]\n",
      "Epoch:   1%|          | 1/129 [00:00<00:17,  7.32it/s]"
     ]
    },
    {
     "name": "stdout",
     "output_type": "stream",
     "text": [
      "\n",
      "Epoch 063 train_loss: 1.1074 val_loss 1.3594 train_acc 0.6755 val_acc 0.6252\n"
     ]
    },
    {
     "name": "stderr",
     "output_type": "stream",
     "text": [
      "Epoch: 100%|██████████| 129/129 [00:17<00:00,  7.46it/s]\n",
      "Epoch:   1%|          | 1/129 [00:00<00:18,  6.80it/s]"
     ]
    },
    {
     "name": "stdout",
     "output_type": "stream",
     "text": [
      "\n",
      "Epoch 064 train_loss: 1.1053 val_loss 1.4313 train_acc 0.6740 val_acc 0.6088\n"
     ]
    },
    {
     "name": "stderr",
     "output_type": "stream",
     "text": [
      "Epoch: 100%|██████████| 129/129 [00:17<00:00,  7.49it/s]\n",
      "Epoch:   1%|          | 1/129 [00:00<00:17,  7.45it/s]"
     ]
    },
    {
     "name": "stdout",
     "output_type": "stream",
     "text": [
      "\n",
      "Epoch 065 train_loss: 1.1076 val_loss 1.3789 train_acc 0.6770 val_acc 0.6219\n"
     ]
    },
    {
     "name": "stderr",
     "output_type": "stream",
     "text": [
      "Epoch: 100%|██████████| 129/129 [00:17<00:00,  7.24it/s]\n",
      "Epoch:   1%|          | 1/129 [00:00<00:17,  7.35it/s]"
     ]
    },
    {
     "name": "stdout",
     "output_type": "stream",
     "text": [
      "\n",
      "Epoch 066 train_loss: 1.1031 val_loss 1.3820 train_acc 0.6783 val_acc 0.6135\n"
     ]
    },
    {
     "name": "stderr",
     "output_type": "stream",
     "text": [
      "Epoch: 100%|██████████| 129/129 [00:18<00:00,  7.01it/s]\n",
      "Epoch:   1%|          | 1/129 [00:00<00:16,  7.80it/s]"
     ]
    },
    {
     "name": "stdout",
     "output_type": "stream",
     "text": [
      "\n",
      "Epoch 067 train_loss: 1.1062 val_loss 1.3811 train_acc 0.6811 val_acc 0.6135\n"
     ]
    },
    {
     "name": "stderr",
     "output_type": "stream",
     "text": [
      "Epoch: 100%|██████████| 129/129 [00:17<00:00,  7.32it/s]\n",
      "Epoch:   1%|          | 1/129 [00:00<00:16,  7.55it/s]"
     ]
    },
    {
     "name": "stdout",
     "output_type": "stream",
     "text": [
      "\n",
      "Epoch 068 train_loss: 1.1002 val_loss 1.3599 train_acc 0.6785 val_acc 0.6263\n"
     ]
    },
    {
     "name": "stderr",
     "output_type": "stream",
     "text": [
      "Epoch: 100%|██████████| 129/129 [00:17<00:00,  7.38it/s]\n",
      "Epoch:   1%|          | 1/129 [00:00<00:16,  7.65it/s]"
     ]
    },
    {
     "name": "stdout",
     "output_type": "stream",
     "text": [
      "\n",
      "Epoch 069 train_loss: 1.1017 val_loss 1.3690 train_acc 0.6775 val_acc 0.6161\n"
     ]
    },
    {
     "name": "stderr",
     "output_type": "stream",
     "text": [
      "Epoch: 100%|██████████| 129/129 [00:17<00:00,  7.22it/s]\n",
      "Epoch:   1%|          | 1/129 [00:00<00:17,  7.16it/s]"
     ]
    },
    {
     "name": "stdout",
     "output_type": "stream",
     "text": [
      "\n",
      "Epoch 070 train_loss: 1.1006 val_loss 1.3805 train_acc 0.6827 val_acc 0.6164\n"
     ]
    },
    {
     "name": "stderr",
     "output_type": "stream",
     "text": [
      "Epoch: 100%|██████████| 129/129 [00:17<00:00,  7.43it/s]\n",
      "Epoch:   1%|          | 1/129 [00:00<00:22,  5.76it/s]"
     ]
    },
    {
     "name": "stdout",
     "output_type": "stream",
     "text": [
      "\n",
      "Epoch 071 train_loss: 1.1059 val_loss 1.3825 train_acc 0.6769 val_acc 0.6270\n"
     ]
    },
    {
     "name": "stderr",
     "output_type": "stream",
     "text": [
      "Epoch: 100%|██████████| 129/129 [00:18<00:00,  7.02it/s]\n",
      "Epoch:   1%|          | 1/129 [00:00<00:16,  7.72it/s]"
     ]
    },
    {
     "name": "stdout",
     "output_type": "stream",
     "text": [
      "\n",
      "Epoch 072 train_loss: 1.0985 val_loss 1.3573 train_acc 0.6797 val_acc 0.6245\n"
     ]
    },
    {
     "name": "stderr",
     "output_type": "stream",
     "text": [
      "Epoch: 100%|██████████| 129/129 [00:17<00:00,  7.38it/s]\n",
      "Epoch:   1%|          | 1/129 [00:00<00:16,  7.68it/s]"
     ]
    },
    {
     "name": "stdout",
     "output_type": "stream",
     "text": [
      "\n",
      "Epoch 073 train_loss: 1.1033 val_loss 1.3623 train_acc 0.6843 val_acc 0.6266\n"
     ]
    },
    {
     "name": "stderr",
     "output_type": "stream",
     "text": [
      "Epoch: 100%|██████████| 129/129 [00:18<00:00,  7.01it/s]\n",
      "Epoch:   1%|          | 1/129 [00:00<00:15,  8.03it/s]"
     ]
    },
    {
     "name": "stdout",
     "output_type": "stream",
     "text": [
      "\n",
      "Epoch 074 train_loss: 1.0932 val_loss 1.4036 train_acc 0.6844 val_acc 0.6131\n"
     ]
    },
    {
     "name": "stderr",
     "output_type": "stream",
     "text": [
      "Epoch: 100%|██████████| 129/129 [00:17<00:00,  7.52it/s]\n",
      "Epoch:   1%|          | 1/129 [00:00<00:19,  6.71it/s]"
     ]
    },
    {
     "name": "stdout",
     "output_type": "stream",
     "text": [
      "\n",
      "Epoch 075 train_loss: 1.1066 val_loss 1.3819 train_acc 0.6770 val_acc 0.6168\n"
     ]
    },
    {
     "name": "stderr",
     "output_type": "stream",
     "text": [
      "Epoch: 100%|██████████| 129/129 [00:17<00:00,  7.29it/s]\n",
      "Epoch:   1%|          | 1/129 [00:00<00:17,  7.27it/s]"
     ]
    },
    {
     "name": "stdout",
     "output_type": "stream",
     "text": [
      "\n",
      "Epoch 076 train_loss: 1.1009 val_loss 1.3647 train_acc 0.6776 val_acc 0.6237\n"
     ]
    },
    {
     "name": "stderr",
     "output_type": "stream",
     "text": [
      "Epoch: 100%|██████████| 129/129 [00:17<00:00,  7.48it/s]\n",
      "Epoch:   1%|          | 1/129 [00:00<00:16,  7.96it/s]"
     ]
    },
    {
     "name": "stdout",
     "output_type": "stream",
     "text": [
      "\n",
      "Epoch 077 train_loss: 1.1022 val_loss 1.4113 train_acc 0.6741 val_acc 0.6077\n"
     ]
    },
    {
     "name": "stderr",
     "output_type": "stream",
     "text": [
      "Epoch: 100%|██████████| 129/129 [00:17<00:00,  7.48it/s]\n",
      "Epoch:   1%|          | 1/129 [00:00<00:16,  7.59it/s]"
     ]
    },
    {
     "name": "stdout",
     "output_type": "stream",
     "text": [
      "\n",
      "Epoch 078 train_loss: 1.0996 val_loss 1.3603 train_acc 0.6747 val_acc 0.6299\n"
     ]
    },
    {
     "name": "stderr",
     "output_type": "stream",
     "text": [
      "Epoch: 100%|██████████| 129/129 [00:17<00:00,  7.57it/s]\n",
      "Epoch:   1%|          | 1/129 [00:00<00:17,  7.48it/s]"
     ]
    },
    {
     "name": "stdout",
     "output_type": "stream",
     "text": [
      "\n",
      "Epoch 079 train_loss: 1.0946 val_loss 1.3728 train_acc 0.6791 val_acc 0.6263\n"
     ]
    },
    {
     "name": "stderr",
     "output_type": "stream",
     "text": [
      "Epoch: 100%|██████████| 129/129 [00:17<00:00,  7.56it/s]\n",
      "Epoch:   1%|          | 1/129 [00:00<00:15,  8.19it/s]"
     ]
    },
    {
     "name": "stdout",
     "output_type": "stream",
     "text": [
      "\n",
      "Epoch 080 train_loss: 1.0960 val_loss 1.3549 train_acc 0.6802 val_acc 0.6270\n"
     ]
    },
    {
     "name": "stderr",
     "output_type": "stream",
     "text": [
      "Epoch: 100%|██████████| 129/129 [00:17<00:00,  7.53it/s]\n",
      "Epoch:   1%|          | 1/129 [00:00<00:16,  7.84it/s]"
     ]
    },
    {
     "name": "stdout",
     "output_type": "stream",
     "text": [
      "\n",
      "Epoch 081 train_loss: 1.0995 val_loss 1.4446 train_acc 0.6745 val_acc 0.6044\n"
     ]
    },
    {
     "name": "stderr",
     "output_type": "stream",
     "text": [
      "Epoch: 100%|██████████| 129/129 [00:18<00:00,  7.11it/s]\n",
      "Epoch:   1%|          | 1/129 [00:00<00:16,  7.96it/s]"
     ]
    },
    {
     "name": "stdout",
     "output_type": "stream",
     "text": [
      "\n",
      "Epoch 082 train_loss: 1.0937 val_loss 1.3584 train_acc 0.6805 val_acc 0.6234\n"
     ]
    },
    {
     "name": "stderr",
     "output_type": "stream",
     "text": [
      "Epoch: 100%|██████████| 129/129 [00:17<00:00,  7.46it/s]\n",
      "Epoch:   1%|          | 1/129 [00:00<00:17,  7.45it/s]"
     ]
    },
    {
     "name": "stdout",
     "output_type": "stream",
     "text": [
      "\n",
      "Epoch 083 train_loss: 1.0874 val_loss 1.3755 train_acc 0.6837 val_acc 0.6179\n"
     ]
    },
    {
     "name": "stderr",
     "output_type": "stream",
     "text": [
      "Epoch: 100%|██████████| 129/129 [00:19<00:00,  6.72it/s]\n",
      "Epoch:   1%|          | 1/129 [00:00<00:17,  7.46it/s]"
     ]
    },
    {
     "name": "stdout",
     "output_type": "stream",
     "text": [
      "\n",
      "Epoch 084 train_loss: 1.0918 val_loss 1.3558 train_acc 0.6802 val_acc 0.6241\n"
     ]
    },
    {
     "name": "stderr",
     "output_type": "stream",
     "text": [
      "Epoch: 100%|██████████| 129/129 [00:16<00:00,  7.62it/s]\n",
      "Epoch:   1%|          | 1/129 [00:00<00:15,  8.34it/s]"
     ]
    },
    {
     "name": "stdout",
     "output_type": "stream",
     "text": [
      "\n",
      "Epoch 085 train_loss: 1.0957 val_loss 1.3917 train_acc 0.6775 val_acc 0.6124\n"
     ]
    },
    {
     "name": "stderr",
     "output_type": "stream",
     "text": [
      "Epoch: 100%|██████████| 129/129 [00:16<00:00,  7.74it/s]\n",
      "Epoch:   1%|          | 1/129 [00:00<00:15,  8.19it/s]"
     ]
    },
    {
     "name": "stdout",
     "output_type": "stream",
     "text": [
      "\n",
      "Epoch 086 train_loss: 1.0878 val_loss 1.3628 train_acc 0.6793 val_acc 0.6237\n"
     ]
    },
    {
     "name": "stderr",
     "output_type": "stream",
     "text": [
      "Epoch: 100%|██████████| 129/129 [00:16<00:00,  7.84it/s]\n",
      "Epoch:   1%|          | 1/129 [00:00<00:15,  8.27it/s]"
     ]
    },
    {
     "name": "stdout",
     "output_type": "stream",
     "text": [
      "\n",
      "Epoch 087 train_loss: 1.0806 val_loss 1.3998 train_acc 0.6832 val_acc 0.6161\n"
     ]
    },
    {
     "name": "stderr",
     "output_type": "stream",
     "text": [
      "Epoch: 100%|██████████| 129/129 [00:16<00:00,  7.68it/s]\n",
      "Epoch:   1%|          | 1/129 [00:00<00:15,  8.17it/s]"
     ]
    },
    {
     "name": "stdout",
     "output_type": "stream",
     "text": [
      "\n",
      "Epoch 088 train_loss: 1.0964 val_loss 1.4066 train_acc 0.6788 val_acc 0.6102\n"
     ]
    },
    {
     "name": "stderr",
     "output_type": "stream",
     "text": [
      "Epoch: 100%|██████████| 129/129 [00:17<00:00,  7.56it/s]\n",
      "Epoch:   1%|          | 1/129 [00:00<00:17,  7.49it/s]"
     ]
    },
    {
     "name": "stdout",
     "output_type": "stream",
     "text": [
      "\n",
      "Epoch 089 train_loss: 1.0821 val_loss 1.3770 train_acc 0.6831 val_acc 0.6161\n"
     ]
    },
    {
     "name": "stderr",
     "output_type": "stream",
     "text": [
      "Epoch: 100%|██████████| 129/129 [00:16<00:00,  7.60it/s]\n",
      "Epoch:   1%|          | 1/129 [00:00<00:15,  8.05it/s]"
     ]
    },
    {
     "name": "stdout",
     "output_type": "stream",
     "text": [
      "\n",
      "Epoch 090 train_loss: 1.0830 val_loss 1.3745 train_acc 0.6884 val_acc 0.6245\n"
     ]
    },
    {
     "name": "stderr",
     "output_type": "stream",
     "text": [
      "Epoch: 100%|██████████| 129/129 [00:16<00:00,  7.69it/s]\n",
      "Epoch:   1%|          | 1/129 [00:00<00:16,  7.76it/s]"
     ]
    },
    {
     "name": "stdout",
     "output_type": "stream",
     "text": [
      "\n",
      "Epoch 091 train_loss: 1.0889 val_loss 1.3693 train_acc 0.6776 val_acc 0.6259\n"
     ]
    },
    {
     "name": "stderr",
     "output_type": "stream",
     "text": [
      "Epoch: 100%|██████████| 129/129 [00:18<00:00,  7.04it/s]\n",
      "Epoch:   1%|          | 1/129 [00:00<00:17,  7.20it/s]"
     ]
    },
    {
     "name": "stdout",
     "output_type": "stream",
     "text": [
      "\n",
      "Epoch 092 train_loss: 1.0884 val_loss 1.3669 train_acc 0.6813 val_acc 0.6274\n"
     ]
    },
    {
     "name": "stderr",
     "output_type": "stream",
     "text": [
      "Epoch: 100%|██████████| 129/129 [00:17<00:00,  7.49it/s]\n",
      "Epoch:   1%|          | 1/129 [00:00<00:16,  7.72it/s]"
     ]
    },
    {
     "name": "stdout",
     "output_type": "stream",
     "text": [
      "\n",
      "Epoch 093 train_loss: 1.0878 val_loss 1.3819 train_acc 0.6773 val_acc 0.6150\n"
     ]
    },
    {
     "name": "stderr",
     "output_type": "stream",
     "text": [
      "Epoch: 100%|██████████| 129/129 [00:16<00:00,  7.61it/s]\n",
      "Epoch:   1%|          | 1/129 [00:00<00:19,  6.47it/s]"
     ]
    },
    {
     "name": "stdout",
     "output_type": "stream",
     "text": [
      "\n",
      "Epoch 094 train_loss: 1.0880 val_loss 1.3658 train_acc 0.6769 val_acc 0.6303\n"
     ]
    },
    {
     "name": "stderr",
     "output_type": "stream",
     "text": [
      "Epoch: 100%|██████████| 129/129 [00:17<00:00,  7.45it/s]\n",
      "Epoch:   1%|          | 1/129 [00:00<00:18,  6.97it/s]"
     ]
    },
    {
     "name": "stdout",
     "output_type": "stream",
     "text": [
      "\n",
      "Epoch 095 train_loss: 1.0856 val_loss 1.3657 train_acc 0.6821 val_acc 0.6292\n"
     ]
    },
    {
     "name": "stderr",
     "output_type": "stream",
     "text": [
      "Epoch: 100%|██████████| 129/129 [00:17<00:00,  7.35it/s]\n",
      "Epoch:   1%|          | 1/129 [00:00<00:16,  7.89it/s]"
     ]
    },
    {
     "name": "stdout",
     "output_type": "stream",
     "text": [
      "\n",
      "Epoch 096 train_loss: 1.0871 val_loss 1.3835 train_acc 0.6836 val_acc 0.6161\n"
     ]
    },
    {
     "name": "stderr",
     "output_type": "stream",
     "text": [
      "Epoch: 100%|██████████| 129/129 [00:17<00:00,  7.32it/s]\n",
      "Epoch:   1%|          | 1/129 [00:00<00:16,  7.57it/s]"
     ]
    },
    {
     "name": "stdout",
     "output_type": "stream",
     "text": [
      "\n",
      "Epoch 097 train_loss: 1.0904 val_loss 1.3575 train_acc 0.6775 val_acc 0.6212\n"
     ]
    },
    {
     "name": "stderr",
     "output_type": "stream",
     "text": [
      "Epoch: 100%|██████████| 129/129 [00:17<00:00,  7.39it/s]\n",
      "Epoch:   1%|          | 1/129 [00:00<00:16,  7.98it/s]"
     ]
    },
    {
     "name": "stdout",
     "output_type": "stream",
     "text": [
      "\n",
      "Epoch 098 train_loss: 1.0914 val_loss 1.3520 train_acc 0.6771 val_acc 0.6354\n"
     ]
    },
    {
     "name": "stderr",
     "output_type": "stream",
     "text": [
      "Epoch: 100%|██████████| 129/129 [00:17<00:00,  7.35it/s]\n",
      "Epoch:   1%|          | 1/129 [00:00<00:17,  7.15it/s]"
     ]
    },
    {
     "name": "stdout",
     "output_type": "stream",
     "text": [
      "\n",
      "Epoch 099 train_loss: 1.0827 val_loss 1.3934 train_acc 0.6842 val_acc 0.6128\n"
     ]
    },
    {
     "name": "stderr",
     "output_type": "stream",
     "text": [
      "Epoch: 100%|██████████| 129/129 [00:17<00:00,  7.38it/s]\n",
      "Epoch:   1%|          | 1/129 [00:00<00:17,  7.47it/s]"
     ]
    },
    {
     "name": "stdout",
     "output_type": "stream",
     "text": [
      "\n",
      "Epoch 100 train_loss: 1.0806 val_loss 1.3637 train_acc 0.6836 val_acc 0.6303\n"
     ]
    },
    {
     "name": "stderr",
     "output_type": "stream",
     "text": [
      "Epoch: 100%|██████████| 129/129 [00:16<00:00,  7.60it/s]\n",
      "Epoch:   1%|          | 1/129 [00:00<00:20,  6.35it/s]"
     ]
    },
    {
     "name": "stdout",
     "output_type": "stream",
     "text": [
      "\n",
      "Epoch 101 train_loss: 1.0836 val_loss 1.3737 train_acc 0.6845 val_acc 0.6252\n"
     ]
    },
    {
     "name": "stderr",
     "output_type": "stream",
     "text": [
      "Epoch: 100%|██████████| 129/129 [00:17<00:00,  7.40it/s]\n",
      "Epoch:   1%|          | 1/129 [00:00<00:16,  7.87it/s]"
     ]
    },
    {
     "name": "stdout",
     "output_type": "stream",
     "text": [
      "\n",
      "Epoch 102 train_loss: 1.0822 val_loss 1.3559 train_acc 0.6822 val_acc 0.6307\n"
     ]
    },
    {
     "name": "stderr",
     "output_type": "stream",
     "text": [
      "Epoch: 100%|██████████| 129/129 [00:17<00:00,  7.29it/s]\n",
      "Epoch:   1%|          | 1/129 [00:00<00:16,  7.91it/s]"
     ]
    },
    {
     "name": "stdout",
     "output_type": "stream",
     "text": [
      "\n",
      "Epoch 103 train_loss: 1.0903 val_loss 1.3534 train_acc 0.6779 val_acc 0.6245\n"
     ]
    },
    {
     "name": "stderr",
     "output_type": "stream",
     "text": [
      "Epoch: 100%|██████████| 129/129 [00:17<00:00,  7.33it/s]\n",
      "Epoch:   1%|          | 1/129 [00:00<00:17,  7.51it/s]"
     ]
    },
    {
     "name": "stdout",
     "output_type": "stream",
     "text": [
      "\n",
      "Epoch 104 train_loss: 1.0702 val_loss 1.3778 train_acc 0.6863 val_acc 0.6241\n"
     ]
    },
    {
     "name": "stderr",
     "output_type": "stream",
     "text": [
      "Epoch: 100%|██████████| 129/129 [00:17<00:00,  7.39it/s]\n",
      "Epoch:   1%|          | 1/129 [00:00<00:16,  7.86it/s]"
     ]
    },
    {
     "name": "stdout",
     "output_type": "stream",
     "text": [
      "\n",
      "Epoch 105 train_loss: 1.0741 val_loss 1.3830 train_acc 0.6856 val_acc 0.6259\n"
     ]
    },
    {
     "name": "stderr",
     "output_type": "stream",
     "text": [
      "Epoch: 100%|██████████| 129/129 [00:17<00:00,  7.58it/s]\n",
      "Epoch:   1%|          | 1/129 [00:00<00:17,  7.53it/s]"
     ]
    },
    {
     "name": "stdout",
     "output_type": "stream",
     "text": [
      "\n",
      "Epoch 106 train_loss: 1.0857 val_loss 1.3551 train_acc 0.6813 val_acc 0.6274\n"
     ]
    },
    {
     "name": "stderr",
     "output_type": "stream",
     "text": [
      "Epoch: 100%|██████████| 129/129 [00:17<00:00,  7.29it/s]\n",
      "Epoch:   1%|          | 1/129 [00:00<00:16,  7.55it/s]"
     ]
    },
    {
     "name": "stdout",
     "output_type": "stream",
     "text": [
      "\n",
      "Epoch 107 train_loss: 1.0800 val_loss 1.3650 train_acc 0.6866 val_acc 0.6325\n"
     ]
    },
    {
     "name": "stderr",
     "output_type": "stream",
     "text": [
      "Epoch: 100%|██████████| 129/129 [00:17<00:00,  7.50it/s]\n",
      "Epoch:   1%|          | 1/129 [00:00<00:16,  7.81it/s]"
     ]
    },
    {
     "name": "stdout",
     "output_type": "stream",
     "text": [
      "\n",
      "Epoch 108 train_loss: 1.0763 val_loss 1.4110 train_acc 0.6766 val_acc 0.6186\n"
     ]
    },
    {
     "name": "stderr",
     "output_type": "stream",
     "text": [
      "Epoch: 100%|██████████| 129/129 [00:17<00:00,  7.25it/s]\n",
      "Epoch:   1%|          | 1/129 [00:00<00:16,  7.97it/s]"
     ]
    },
    {
     "name": "stdout",
     "output_type": "stream",
     "text": [
      "\n",
      "Epoch 109 train_loss: 1.0862 val_loss 1.4441 train_acc 0.6803 val_acc 0.6069\n"
     ]
    },
    {
     "name": "stderr",
     "output_type": "stream",
     "text": [
      "Epoch: 100%|██████████| 129/129 [00:17<00:00,  7.58it/s]\n",
      "Epoch:   1%|          | 1/129 [00:00<00:16,  7.55it/s]"
     ]
    },
    {
     "name": "stdout",
     "output_type": "stream",
     "text": [
      "\n",
      "Epoch 110 train_loss: 1.0744 val_loss 1.4901 train_acc 0.6786 val_acc 0.6026\n"
     ]
    },
    {
     "name": "stderr",
     "output_type": "stream",
     "text": [
      "Epoch: 100%|██████████| 129/129 [00:17<00:00,  7.32it/s]\n",
      "Epoch:   1%|          | 1/129 [00:00<00:16,  7.87it/s]"
     ]
    },
    {
     "name": "stdout",
     "output_type": "stream",
     "text": [
      "\n",
      "Epoch 111 train_loss: 1.0874 val_loss 1.3473 train_acc 0.6790 val_acc 0.6255\n"
     ]
    },
    {
     "name": "stderr",
     "output_type": "stream",
     "text": [
      "Epoch: 100%|██████████| 129/129 [00:16<00:00,  7.59it/s]\n",
      "Epoch:   1%|          | 1/129 [00:00<00:16,  7.75it/s]"
     ]
    },
    {
     "name": "stdout",
     "output_type": "stream",
     "text": [
      "\n",
      "Epoch 112 train_loss: 1.0835 val_loss 1.4007 train_acc 0.6860 val_acc 0.6248\n"
     ]
    },
    {
     "name": "stderr",
     "output_type": "stream",
     "text": [
      "Epoch: 100%|██████████| 129/129 [00:17<00:00,  7.35it/s]\n",
      "Epoch:   1%|          | 1/129 [00:00<00:16,  7.83it/s]"
     ]
    },
    {
     "name": "stdout",
     "output_type": "stream",
     "text": [
      "\n",
      "Epoch 113 train_loss: 1.0807 val_loss 1.3598 train_acc 0.6837 val_acc 0.6245\n"
     ]
    },
    {
     "name": "stderr",
     "output_type": "stream",
     "text": [
      "Epoch: 100%|██████████| 129/129 [00:17<00:00,  7.38it/s]\n",
      "Epoch:   1%|          | 1/129 [00:00<00:16,  7.54it/s]"
     ]
    },
    {
     "name": "stdout",
     "output_type": "stream",
     "text": [
      "\n",
      "Epoch 114 train_loss: 1.0770 val_loss 1.5214 train_acc 0.6832 val_acc 0.5883\n"
     ]
    },
    {
     "name": "stderr",
     "output_type": "stream",
     "text": [
      "Epoch: 100%|██████████| 129/129 [00:18<00:00,  7.17it/s]\n",
      "Epoch:   1%|          | 1/129 [00:00<00:16,  7.94it/s]"
     ]
    },
    {
     "name": "stdout",
     "output_type": "stream",
     "text": [
      "\n",
      "Epoch 115 train_loss: 1.0668 val_loss 1.3720 train_acc 0.6837 val_acc 0.6175\n"
     ]
    },
    {
     "name": "stderr",
     "output_type": "stream",
     "text": [
      "Epoch: 100%|██████████| 129/129 [00:17<00:00,  7.44it/s]\n",
      "Epoch:   1%|          | 1/129 [00:00<00:21,  6.06it/s]"
     ]
    },
    {
     "name": "stdout",
     "output_type": "stream",
     "text": [
      "\n",
      "Epoch 116 train_loss: 1.0811 val_loss 1.3568 train_acc 0.6815 val_acc 0.6270\n"
     ]
    },
    {
     "name": "stderr",
     "output_type": "stream",
     "text": [
      "Epoch: 100%|██████████| 129/129 [00:18<00:00,  6.98it/s]\n",
      "Epoch:   1%|          | 1/129 [00:00<00:16,  7.82it/s]"
     ]
    },
    {
     "name": "stdout",
     "output_type": "stream",
     "text": [
      "\n",
      "Epoch 117 train_loss: 1.0682 val_loss 1.3550 train_acc 0.6891 val_acc 0.6277\n"
     ]
    },
    {
     "name": "stderr",
     "output_type": "stream",
     "text": [
      "Epoch: 100%|██████████| 129/129 [00:17<00:00,  7.31it/s]\n",
      "Epoch:   1%|          | 1/129 [00:00<00:16,  7.87it/s]"
     ]
    },
    {
     "name": "stdout",
     "output_type": "stream",
     "text": [
      "\n",
      "Epoch 118 train_loss: 1.0577 val_loss 1.3677 train_acc 0.6909 val_acc 0.6212\n"
     ]
    },
    {
     "name": "stderr",
     "output_type": "stream",
     "text": [
      "Epoch: 100%|██████████| 129/129 [00:17<00:00,  7.37it/s]\n",
      "Epoch:   1%|          | 1/129 [00:00<00:17,  7.26it/s]"
     ]
    },
    {
     "name": "stdout",
     "output_type": "stream",
     "text": [
      "\n",
      "Epoch 119 train_loss: 1.0684 val_loss 1.3612 train_acc 0.6855 val_acc 0.6325\n"
     ]
    },
    {
     "name": "stderr",
     "output_type": "stream",
     "text": [
      "Epoch: 100%|██████████| 129/129 [00:18<00:00,  7.02it/s]\n",
      "Epoch:   1%|          | 1/129 [00:00<00:15,  8.06it/s]"
     ]
    },
    {
     "name": "stdout",
     "output_type": "stream",
     "text": [
      "\n",
      "Epoch 120 train_loss: 1.0676 val_loss 1.3475 train_acc 0.6859 val_acc 0.6314\n"
     ]
    },
    {
     "name": "stderr",
     "output_type": "stream",
     "text": [
      "Epoch: 100%|██████████| 129/129 [00:16<00:00,  7.64it/s]\n",
      "Epoch:   1%|          | 1/129 [00:00<00:16,  7.97it/s]"
     ]
    },
    {
     "name": "stdout",
     "output_type": "stream",
     "text": [
      "\n",
      "Epoch 121 train_loss: 1.0656 val_loss 1.4318 train_acc 0.6897 val_acc 0.6142\n"
     ]
    },
    {
     "name": "stderr",
     "output_type": "stream",
     "text": [
      "Epoch: 100%|██████████| 129/129 [00:17<00:00,  7.49it/s]\n",
      "Epoch:   1%|          | 1/129 [00:00<00:17,  7.43it/s]"
     ]
    },
    {
     "name": "stdout",
     "output_type": "stream",
     "text": [
      "\n",
      "Epoch 122 train_loss: 1.0744 val_loss 1.3994 train_acc 0.6849 val_acc 0.6241\n"
     ]
    },
    {
     "name": "stderr",
     "output_type": "stream",
     "text": [
      "Epoch: 100%|██████████| 129/129 [00:16<00:00,  7.68it/s]\n",
      "Epoch:   1%|          | 1/129 [00:00<00:18,  6.87it/s]"
     ]
    },
    {
     "name": "stdout",
     "output_type": "stream",
     "text": [
      "\n",
      "Epoch 123 train_loss: 1.0704 val_loss 1.3829 train_acc 0.6866 val_acc 0.6157\n"
     ]
    },
    {
     "name": "stderr",
     "output_type": "stream",
     "text": [
      "Epoch: 100%|██████████| 129/129 [00:17<00:00,  7.50it/s]\n",
      "Epoch:   1%|          | 1/129 [00:00<00:16,  7.87it/s]"
     ]
    },
    {
     "name": "stdout",
     "output_type": "stream",
     "text": [
      "\n",
      "Epoch 124 train_loss: 1.0647 val_loss 1.3730 train_acc 0.6882 val_acc 0.6292\n"
     ]
    },
    {
     "name": "stderr",
     "output_type": "stream",
     "text": [
      "Epoch: 100%|██████████| 129/129 [00:17<00:00,  7.52it/s]\n",
      "Epoch:   1%|          | 1/129 [00:00<00:16,  7.91it/s]"
     ]
    },
    {
     "name": "stdout",
     "output_type": "stream",
     "text": [
      "\n",
      "Epoch 125 train_loss: 1.0680 val_loss 1.3557 train_acc 0.6895 val_acc 0.6325\n"
     ]
    },
    {
     "name": "stderr",
     "output_type": "stream",
     "text": [
      "Epoch: 100%|██████████| 129/129 [00:16<00:00,  7.63it/s]\n",
      "Epoch:   1%|          | 1/129 [00:00<00:16,  7.70it/s]"
     ]
    },
    {
     "name": "stdout",
     "output_type": "stream",
     "text": [
      "\n",
      "Epoch 126 train_loss: 1.0750 val_loss 1.4718 train_acc 0.6819 val_acc 0.6040\n"
     ]
    },
    {
     "name": "stderr",
     "output_type": "stream",
     "text": [
      "Epoch: 100%|██████████| 129/129 [00:17<00:00,  7.32it/s]\n",
      "Epoch:   1%|          | 1/129 [00:00<00:15,  8.01it/s]"
     ]
    },
    {
     "name": "stdout",
     "output_type": "stream",
     "text": [
      "\n",
      "Epoch 127 train_loss: 1.0696 val_loss 1.3643 train_acc 0.6877 val_acc 0.6296\n"
     ]
    },
    {
     "name": "stderr",
     "output_type": "stream",
     "text": [
      "Epoch: 100%|██████████| 129/129 [00:17<00:00,  7.41it/s]\n",
      "Epoch:   1%|          | 1/129 [00:00<00:15,  8.12it/s]"
     ]
    },
    {
     "name": "stdout",
     "output_type": "stream",
     "text": [
      "\n",
      "Epoch 128 train_loss: 1.0663 val_loss 1.3893 train_acc 0.6882 val_acc 0.6310\n"
     ]
    },
    {
     "name": "stderr",
     "output_type": "stream",
     "text": [
      "Epoch: 100%|██████████| 129/129 [00:17<00:00,  7.48it/s]\n",
      "Epoch:   1%|          | 1/129 [00:00<00:17,  7.51it/s]"
     ]
    },
    {
     "name": "stdout",
     "output_type": "stream",
     "text": [
      "\n",
      "Epoch 129 train_loss: 1.0762 val_loss 1.3547 train_acc 0.6791 val_acc 0.6237\n"
     ]
    },
    {
     "name": "stderr",
     "output_type": "stream",
     "text": [
      "Epoch: 100%|██████████| 129/129 [00:17<00:00,  7.54it/s]\n",
      "Epoch:   1%|          | 1/129 [00:00<00:17,  7.38it/s]"
     ]
    },
    {
     "name": "stdout",
     "output_type": "stream",
     "text": [
      "\n",
      "Epoch 130 train_loss: 1.0691 val_loss 1.3458 train_acc 0.6853 val_acc 0.6292\n"
     ]
    },
    {
     "name": "stderr",
     "output_type": "stream",
     "text": [
      "Epoch: 100%|██████████| 129/129 [00:17<00:00,  7.29it/s]\n",
      "Epoch:   1%|          | 1/129 [00:00<00:16,  7.79it/s]"
     ]
    },
    {
     "name": "stdout",
     "output_type": "stream",
     "text": [
      "\n",
      "Epoch 131 train_loss: 1.0670 val_loss 1.3468 train_acc 0.6809 val_acc 0.6296\n"
     ]
    },
    {
     "name": "stderr",
     "output_type": "stream",
     "text": [
      "Epoch: 100%|██████████| 129/129 [00:17<00:00,  7.29it/s]\n",
      "Epoch:   1%|          | 1/129 [00:00<00:16,  7.68it/s]"
     ]
    },
    {
     "name": "stdout",
     "output_type": "stream",
     "text": [
      "\n",
      "Epoch 132 train_loss: 1.0635 val_loss 1.3825 train_acc 0.6850 val_acc 0.6201\n"
     ]
    },
    {
     "name": "stderr",
     "output_type": "stream",
     "text": [
      "Epoch: 100%|██████████| 129/129 [00:18<00:00,  7.13it/s]\n",
      "Epoch:   1%|          | 1/129 [00:00<00:16,  7.65it/s]"
     ]
    },
    {
     "name": "stdout",
     "output_type": "stream",
     "text": [
      "\n",
      "Epoch 133 train_loss: 1.0581 val_loss 1.3953 train_acc 0.6882 val_acc 0.6201\n"
     ]
    },
    {
     "name": "stderr",
     "output_type": "stream",
     "text": [
      "Epoch: 100%|██████████| 129/129 [00:18<00:00,  7.08it/s]\n",
      "Epoch:   1%|          | 1/129 [00:00<00:16,  7.70it/s]"
     ]
    },
    {
     "name": "stdout",
     "output_type": "stream",
     "text": [
      "\n",
      "Epoch 134 train_loss: 1.0654 val_loss 1.4186 train_acc 0.6841 val_acc 0.6168\n"
     ]
    },
    {
     "name": "stderr",
     "output_type": "stream",
     "text": [
      "Epoch: 100%|██████████| 129/129 [00:17<00:00,  7.58it/s]\n",
      "Epoch:   1%|          | 1/129 [00:00<00:17,  7.51it/s]"
     ]
    },
    {
     "name": "stdout",
     "output_type": "stream",
     "text": [
      "\n",
      "Epoch 135 train_loss: 1.0750 val_loss 1.3592 train_acc 0.6839 val_acc 0.6303\n"
     ]
    },
    {
     "name": "stderr",
     "output_type": "stream",
     "text": [
      "Epoch: 100%|██████████| 129/129 [00:17<00:00,  7.35it/s]\n",
      "Epoch:   1%|          | 1/129 [00:00<00:15,  8.12it/s]"
     ]
    },
    {
     "name": "stdout",
     "output_type": "stream",
     "text": [
      "\n",
      "Epoch 136 train_loss: 1.0638 val_loss 1.5518 train_acc 0.6887 val_acc 0.5814\n"
     ]
    },
    {
     "name": "stderr",
     "output_type": "stream",
     "text": [
      "Epoch: 100%|██████████| 129/129 [00:17<00:00,  7.43it/s]\n",
      "Epoch:   1%|          | 1/129 [00:00<00:18,  7.06it/s]"
     ]
    },
    {
     "name": "stdout",
     "output_type": "stream",
     "text": [
      "\n",
      "Epoch 137 train_loss: 1.0709 val_loss 1.3570 train_acc 0.6880 val_acc 0.6248\n"
     ]
    },
    {
     "name": "stderr",
     "output_type": "stream",
     "text": [
      "Epoch: 100%|██████████| 129/129 [00:17<00:00,  7.55it/s]\n",
      "Epoch:   1%|          | 1/129 [00:00<00:16,  7.78it/s]"
     ]
    },
    {
     "name": "stdout",
     "output_type": "stream",
     "text": [
      "\n",
      "Epoch 138 train_loss: 1.0651 val_loss 1.3405 train_acc 0.6882 val_acc 0.6307\n"
     ]
    },
    {
     "name": "stderr",
     "output_type": "stream",
     "text": [
      "Epoch: 100%|██████████| 129/129 [00:17<00:00,  7.47it/s]\n",
      "Epoch:   1%|          | 1/129 [00:00<00:18,  6.96it/s]"
     ]
    },
    {
     "name": "stdout",
     "output_type": "stream",
     "text": [
      "\n",
      "Epoch 139 train_loss: 1.0583 val_loss 1.3484 train_acc 0.6921 val_acc 0.6369\n"
     ]
    },
    {
     "name": "stderr",
     "output_type": "stream",
     "text": [
      "Epoch: 100%|██████████| 129/129 [00:17<00:00,  7.36it/s]\n",
      "Epoch:   1%|          | 1/129 [00:00<00:15,  8.20it/s]"
     ]
    },
    {
     "name": "stdout",
     "output_type": "stream",
     "text": [
      "\n",
      "Epoch 140 train_loss: 1.0666 val_loss 1.5635 train_acc 0.6825 val_acc 0.5807\n"
     ]
    },
    {
     "name": "stderr",
     "output_type": "stream",
     "text": [
      "Epoch: 100%|██████████| 129/129 [00:17<00:00,  7.38it/s]\n",
      "Epoch:   1%|          | 1/129 [00:00<00:16,  7.94it/s]"
     ]
    },
    {
     "name": "stdout",
     "output_type": "stream",
     "text": [
      "\n",
      "Epoch 141 train_loss: 1.0543 val_loss 1.3505 train_acc 0.6882 val_acc 0.6263\n"
     ]
    },
    {
     "name": "stderr",
     "output_type": "stream",
     "text": [
      "Epoch: 100%|██████████| 129/129 [00:17<00:00,  7.29it/s]\n",
      "Epoch:   1%|          | 1/129 [00:00<00:25,  5.07it/s]"
     ]
    },
    {
     "name": "stdout",
     "output_type": "stream",
     "text": [
      "\n",
      "Epoch 142 train_loss: 1.0593 val_loss 1.3544 train_acc 0.6921 val_acc 0.6266\n"
     ]
    },
    {
     "name": "stderr",
     "output_type": "stream",
     "text": [
      "Epoch: 100%|██████████| 129/129 [00:17<00:00,  7.25it/s]\n",
      "Epoch:   1%|          | 1/129 [00:00<00:20,  6.35it/s]"
     ]
    },
    {
     "name": "stdout",
     "output_type": "stream",
     "text": [
      "\n",
      "Epoch 143 train_loss: 1.0669 val_loss 1.3595 train_acc 0.6825 val_acc 0.6234\n"
     ]
    },
    {
     "name": "stderr",
     "output_type": "stream",
     "text": [
      "Epoch: 100%|██████████| 129/129 [00:17<00:00,  7.44it/s]\n",
      "Epoch:   1%|          | 1/129 [00:00<00:17,  7.33it/s]"
     ]
    },
    {
     "name": "stdout",
     "output_type": "stream",
     "text": [
      "\n",
      "Epoch 144 train_loss: 1.0589 val_loss 1.3484 train_acc 0.6876 val_acc 0.6307\n"
     ]
    },
    {
     "name": "stderr",
     "output_type": "stream",
     "text": [
      "Epoch: 100%|██████████| 129/129 [00:17<00:00,  7.36it/s]\n",
      "Epoch:   1%|          | 1/129 [00:00<00:16,  7.61it/s]"
     ]
    },
    {
     "name": "stdout",
     "output_type": "stream",
     "text": [
      "\n",
      "Epoch 145 train_loss: 1.0589 val_loss 1.5895 train_acc 0.6870 val_acc 0.5708\n"
     ]
    },
    {
     "name": "stderr",
     "output_type": "stream",
     "text": [
      "Epoch: 100%|██████████| 129/129 [00:17<00:00,  7.35it/s]\n",
      "Epoch:   1%|          | 1/129 [00:00<00:16,  7.97it/s]"
     ]
    },
    {
     "name": "stdout",
     "output_type": "stream",
     "text": [
      "\n",
      "Epoch 146 train_loss: 1.0650 val_loss 1.3603 train_acc 0.6884 val_acc 0.6212\n"
     ]
    },
    {
     "name": "stderr",
     "output_type": "stream",
     "text": [
      "Epoch: 100%|██████████| 129/129 [00:17<00:00,  7.40it/s]\n",
      "Epoch:   1%|          | 1/129 [00:00<00:16,  7.54it/s]"
     ]
    },
    {
     "name": "stdout",
     "output_type": "stream",
     "text": [
      "\n",
      "Epoch 147 train_loss: 1.0605 val_loss 1.3568 train_acc 0.6895 val_acc 0.6328\n"
     ]
    },
    {
     "name": "stderr",
     "output_type": "stream",
     "text": [
      "Epoch: 100%|██████████| 129/129 [00:18<00:00,  7.00it/s]\n",
      "Epoch:   1%|          | 1/129 [00:00<00:17,  7.36it/s]"
     ]
    },
    {
     "name": "stdout",
     "output_type": "stream",
     "text": [
      "\n",
      "Epoch 148 train_loss: 1.0563 val_loss 1.3780 train_acc 0.6870 val_acc 0.6219\n"
     ]
    },
    {
     "name": "stderr",
     "output_type": "stream",
     "text": [
      "Epoch: 100%|██████████| 129/129 [00:17<00:00,  7.19it/s]\n",
      "Epoch:   1%|          | 1/129 [00:00<00:16,  7.63it/s]"
     ]
    },
    {
     "name": "stdout",
     "output_type": "stream",
     "text": [
      "\n",
      "Epoch 149 train_loss: 1.0590 val_loss 1.3442 train_acc 0.6883 val_acc 0.6325\n"
     ]
    },
    {
     "name": "stderr",
     "output_type": "stream",
     "text": [
      "Epoch: 100%|██████████| 129/129 [00:17<00:00,  7.18it/s]\n",
      "Epoch:   1%|          | 1/129 [00:00<00:20,  6.40it/s]"
     ]
    },
    {
     "name": "stdout",
     "output_type": "stream",
     "text": [
      "\n",
      "Epoch 150 train_loss: 1.0728 val_loss 1.3444 train_acc 0.6831 val_acc 0.6332\n"
     ]
    },
    {
     "name": "stderr",
     "output_type": "stream",
     "text": [
      "Epoch: 100%|██████████| 129/129 [00:18<00:00,  7.13it/s]\n",
      "Epoch:   1%|          | 1/129 [00:00<00:16,  7.98it/s]"
     ]
    },
    {
     "name": "stdout",
     "output_type": "stream",
     "text": [
      "\n",
      "Epoch 151 train_loss: 1.0677 val_loss 1.3671 train_acc 0.6864 val_acc 0.6219\n"
     ]
    },
    {
     "name": "stderr",
     "output_type": "stream",
     "text": [
      "Epoch: 100%|██████████| 129/129 [00:17<00:00,  7.40it/s]\n",
      "Epoch:   1%|          | 1/129 [00:00<00:17,  7.41it/s]"
     ]
    },
    {
     "name": "stdout",
     "output_type": "stream",
     "text": [
      "\n",
      "Epoch 152 train_loss: 1.0586 val_loss 1.3439 train_acc 0.6873 val_acc 0.6321\n"
     ]
    },
    {
     "name": "stderr",
     "output_type": "stream",
     "text": [
      "Epoch: 100%|██████████| 129/129 [00:18<00:00,  6.83it/s]\n",
      "Epoch:   1%|          | 1/129 [00:00<00:16,  7.92it/s]"
     ]
    },
    {
     "name": "stdout",
     "output_type": "stream",
     "text": [
      "\n",
      "Epoch 153 train_loss: 1.0520 val_loss 1.3717 train_acc 0.6897 val_acc 0.6237\n"
     ]
    },
    {
     "name": "stderr",
     "output_type": "stream",
     "text": [
      "Epoch: 100%|██████████| 129/129 [00:17<00:00,  7.27it/s]\n",
      "Epoch:   1%|          | 1/129 [00:00<00:16,  7.61it/s]"
     ]
    },
    {
     "name": "stdout",
     "output_type": "stream",
     "text": [
      "\n",
      "Epoch 154 train_loss: 1.0535 val_loss 1.3441 train_acc 0.6886 val_acc 0.6299\n"
     ]
    },
    {
     "name": "stderr",
     "output_type": "stream",
     "text": [
      "Epoch: 100%|██████████| 129/129 [00:18<00:00,  6.89it/s]\n",
      "Epoch:   1%|          | 1/129 [00:00<00:16,  7.77it/s]"
     ]
    },
    {
     "name": "stdout",
     "output_type": "stream",
     "text": [
      "\n",
      "Epoch 155 train_loss: 1.0538 val_loss 1.3913 train_acc 0.6911 val_acc 0.6197\n"
     ]
    },
    {
     "name": "stderr",
     "output_type": "stream",
     "text": [
      "Epoch: 100%|██████████| 129/129 [00:18<00:00,  7.03it/s]\n",
      "Epoch:   1%|          | 1/129 [00:00<00:16,  7.53it/s]"
     ]
    },
    {
     "name": "stdout",
     "output_type": "stream",
     "text": [
      "\n",
      "Epoch 156 train_loss: 1.0488 val_loss 1.3556 train_acc 0.6909 val_acc 0.6255\n"
     ]
    },
    {
     "name": "stderr",
     "output_type": "stream",
     "text": [
      "Epoch: 100%|██████████| 129/129 [00:18<00:00,  7.07it/s]\n",
      "Epoch:   1%|          | 1/129 [00:00<00:18,  6.76it/s]"
     ]
    },
    {
     "name": "stdout",
     "output_type": "stream",
     "text": [
      "\n",
      "Epoch 157 train_loss: 1.0465 val_loss 1.3540 train_acc 0.6891 val_acc 0.6281\n"
     ]
    },
    {
     "name": "stderr",
     "output_type": "stream",
     "text": [
      "Epoch: 100%|██████████| 129/129 [00:17<00:00,  7.17it/s]\n",
      "Epoch:   1%|          | 1/129 [00:00<00:16,  7.67it/s]"
     ]
    },
    {
     "name": "stdout",
     "output_type": "stream",
     "text": [
      "\n",
      "Epoch 158 train_loss: 1.0560 val_loss 1.3713 train_acc 0.6897 val_acc 0.6350\n"
     ]
    },
    {
     "name": "stderr",
     "output_type": "stream",
     "text": [
      "Epoch: 100%|██████████| 129/129 [00:18<00:00,  7.12it/s]\n",
      "Epoch:   1%|          | 1/129 [00:00<00:17,  7.28it/s]"
     ]
    },
    {
     "name": "stdout",
     "output_type": "stream",
     "text": [
      "\n",
      "Epoch 159 train_loss: 1.0566 val_loss 1.3903 train_acc 0.6917 val_acc 0.6208\n"
     ]
    },
    {
     "name": "stderr",
     "output_type": "stream",
     "text": [
      "Epoch: 100%|██████████| 129/129 [00:17<00:00,  7.31it/s]\n",
      "Epoch:   1%|          | 1/129 [00:00<00:21,  6.01it/s]"
     ]
    },
    {
     "name": "stdout",
     "output_type": "stream",
     "text": [
      "\n",
      "Epoch 160 train_loss: 1.0631 val_loss 1.3448 train_acc 0.6916 val_acc 0.6339\n"
     ]
    },
    {
     "name": "stderr",
     "output_type": "stream",
     "text": [
      "Epoch: 100%|██████████| 129/129 [00:18<00:00,  6.82it/s]\n",
      "Epoch:   1%|          | 1/129 [00:00<00:16,  7.55it/s]"
     ]
    },
    {
     "name": "stdout",
     "output_type": "stream",
     "text": [
      "\n",
      "Epoch 161 train_loss: 1.0523 val_loss 1.3466 train_acc 0.6906 val_acc 0.6369\n"
     ]
    },
    {
     "name": "stderr",
     "output_type": "stream",
     "text": [
      "Epoch: 100%|██████████| 129/129 [00:18<00:00,  7.05it/s]\n",
      "Epoch:   1%|          | 1/129 [00:00<00:20,  6.39it/s]"
     ]
    },
    {
     "name": "stdout",
     "output_type": "stream",
     "text": [
      "\n",
      "Epoch 162 train_loss: 1.0526 val_loss 1.3423 train_acc 0.6921 val_acc 0.6387\n"
     ]
    },
    {
     "name": "stderr",
     "output_type": "stream",
     "text": [
      "Epoch: 100%|██████████| 129/129 [00:16<00:00,  7.69it/s]\n",
      "Epoch:   1%|          | 1/129 [00:00<00:17,  7.43it/s]"
     ]
    },
    {
     "name": "stdout",
     "output_type": "stream",
     "text": [
      "\n",
      "Epoch 163 train_loss: 1.0441 val_loss 1.3811 train_acc 0.6899 val_acc 0.6255\n"
     ]
    },
    {
     "name": "stderr",
     "output_type": "stream",
     "text": [
      "Epoch: 100%|██████████| 129/129 [00:17<00:00,  7.30it/s]\n",
      "Epoch:   1%|          | 1/129 [00:00<00:16,  7.97it/s]"
     ]
    },
    {
     "name": "stdout",
     "output_type": "stream",
     "text": [
      "\n",
      "Epoch 164 train_loss: 1.0462 val_loss 1.3605 train_acc 0.6925 val_acc 0.6347\n"
     ]
    },
    {
     "name": "stderr",
     "output_type": "stream",
     "text": [
      "Epoch: 100%|██████████| 129/129 [00:17<00:00,  7.49it/s]\n",
      "Epoch:   1%|          | 1/129 [00:00<00:17,  7.42it/s]"
     ]
    },
    {
     "name": "stdout",
     "output_type": "stream",
     "text": [
      "\n",
      "Epoch 165 train_loss: 1.0466 val_loss 1.3625 train_acc 0.6869 val_acc 0.6339\n"
     ]
    },
    {
     "name": "stderr",
     "output_type": "stream",
     "text": [
      "Epoch: 100%|██████████| 129/129 [00:17<00:00,  7.43it/s]\n",
      "Epoch:   1%|          | 1/129 [00:00<00:17,  7.35it/s]"
     ]
    },
    {
     "name": "stdout",
     "output_type": "stream",
     "text": [
      "\n",
      "Epoch 166 train_loss: 1.0447 val_loss 1.3724 train_acc 0.6912 val_acc 0.6208\n"
     ]
    },
    {
     "name": "stderr",
     "output_type": "stream",
     "text": [
      "Epoch: 100%|██████████| 129/129 [00:18<00:00,  7.01it/s]\n",
      "Epoch:   1%|          | 1/129 [00:00<00:17,  7.45it/s]"
     ]
    },
    {
     "name": "stdout",
     "output_type": "stream",
     "text": [
      "\n",
      "Epoch 167 train_loss: 1.0588 val_loss 1.3991 train_acc 0.6814 val_acc 0.6241\n"
     ]
    },
    {
     "name": "stderr",
     "output_type": "stream",
     "text": [
      "Epoch: 100%|██████████| 129/129 [00:18<00:00,  7.06it/s]\n",
      "Epoch:   1%|          | 1/129 [00:00<00:19,  6.71it/s]"
     ]
    },
    {
     "name": "stdout",
     "output_type": "stream",
     "text": [
      "\n",
      "Epoch 168 train_loss: 1.0519 val_loss 1.3471 train_acc 0.6892 val_acc 0.6376\n"
     ]
    },
    {
     "name": "stderr",
     "output_type": "stream",
     "text": [
      "Epoch: 100%|██████████| 129/129 [00:19<00:00,  6.77it/s]\n",
      "Epoch:   1%|          | 1/129 [00:00<00:16,  7.53it/s]"
     ]
    },
    {
     "name": "stdout",
     "output_type": "stream",
     "text": [
      "\n",
      "Epoch 169 train_loss: 1.0508 val_loss 1.3457 train_acc 0.6933 val_acc 0.6343\n"
     ]
    },
    {
     "name": "stderr",
     "output_type": "stream",
     "text": [
      "Epoch: 100%|██████████| 129/129 [00:18<00:00,  6.97it/s]\n",
      "Epoch:   1%|          | 1/129 [00:00<00:17,  7.40it/s]"
     ]
    },
    {
     "name": "stdout",
     "output_type": "stream",
     "text": [
      "\n",
      "Epoch 170 train_loss: 1.0398 val_loss 1.3729 train_acc 0.6831 val_acc 0.6354\n"
     ]
    },
    {
     "name": "stderr",
     "output_type": "stream",
     "text": [
      "Epoch: 100%|██████████| 129/129 [00:18<00:00,  7.09it/s]\n",
      "Epoch:   1%|          | 1/129 [00:00<00:18,  7.08it/s]"
     ]
    },
    {
     "name": "stdout",
     "output_type": "stream",
     "text": [
      "\n",
      "Epoch 171 train_loss: 1.0531 val_loss 1.3735 train_acc 0.6870 val_acc 0.6328\n"
     ]
    },
    {
     "name": "stderr",
     "output_type": "stream",
     "text": [
      "Epoch: 100%|██████████| 129/129 [00:19<00:00,  6.77it/s]\n",
      "Epoch:   1%|          | 1/129 [00:00<00:18,  6.87it/s]"
     ]
    },
    {
     "name": "stdout",
     "output_type": "stream",
     "text": [
      "\n",
      "Epoch 172 train_loss: 1.0441 val_loss 1.3439 train_acc 0.6926 val_acc 0.6339\n"
     ]
    },
    {
     "name": "stderr",
     "output_type": "stream",
     "text": [
      "Epoch: 100%|██████████| 129/129 [00:18<00:00,  6.96it/s]\n",
      "Epoch:   1%|          | 1/129 [00:00<00:18,  7.07it/s]"
     ]
    },
    {
     "name": "stdout",
     "output_type": "stream",
     "text": [
      "\n",
      "Epoch 173 train_loss: 1.0433 val_loss 1.3325 train_acc 0.6979 val_acc 0.6354\n"
     ]
    },
    {
     "name": "stderr",
     "output_type": "stream",
     "text": [
      "Epoch: 100%|██████████| 129/129 [00:18<00:00,  7.10it/s]\n",
      "Epoch:   1%|          | 1/129 [00:00<00:19,  6.55it/s]"
     ]
    },
    {
     "name": "stdout",
     "output_type": "stream",
     "text": [
      "\n",
      "Epoch 174 train_loss: 1.0450 val_loss 1.3517 train_acc 0.6906 val_acc 0.6391\n"
     ]
    },
    {
     "name": "stderr",
     "output_type": "stream",
     "text": [
      "Epoch: 100%|██████████| 129/129 [00:19<00:00,  6.67it/s]\n",
      "Epoch:   1%|          | 1/129 [00:00<00:17,  7.49it/s]"
     ]
    },
    {
     "name": "stdout",
     "output_type": "stream",
     "text": [
      "\n",
      "Epoch 175 train_loss: 1.0482 val_loss 1.3327 train_acc 0.6915 val_acc 0.6358\n"
     ]
    },
    {
     "name": "stderr",
     "output_type": "stream",
     "text": [
      "Epoch: 100%|██████████| 129/129 [00:19<00:00,  6.75it/s]\n",
      "Epoch:   1%|          | 1/129 [00:00<00:19,  6.46it/s]"
     ]
    },
    {
     "name": "stdout",
     "output_type": "stream",
     "text": [
      "\n",
      "Epoch 176 train_loss: 1.0385 val_loss 1.3448 train_acc 0.6917 val_acc 0.6339\n"
     ]
    },
    {
     "name": "stderr",
     "output_type": "stream",
     "text": [
      "Epoch: 100%|██████████| 129/129 [00:17<00:00,  7.30it/s]\n",
      "Epoch:   1%|          | 1/129 [00:00<00:16,  7.97it/s]"
     ]
    },
    {
     "name": "stdout",
     "output_type": "stream",
     "text": [
      "\n",
      "Epoch 177 train_loss: 1.0519 val_loss 1.3502 train_acc 0.6937 val_acc 0.6420\n"
     ]
    },
    {
     "name": "stderr",
     "output_type": "stream",
     "text": [
      "Epoch: 100%|██████████| 129/129 [00:17<00:00,  7.19it/s]\n",
      "Epoch:   1%|          | 1/129 [00:00<00:16,  7.60it/s]"
     ]
    },
    {
     "name": "stdout",
     "output_type": "stream",
     "text": [
      "\n",
      "Epoch 178 train_loss: 1.0579 val_loss 1.3761 train_acc 0.6909 val_acc 0.6281\n"
     ]
    },
    {
     "name": "stderr",
     "output_type": "stream",
     "text": [
      "Epoch: 100%|██████████| 129/129 [00:18<00:00,  6.83it/s]\n",
      "Epoch:   1%|          | 1/129 [00:00<00:17,  7.12it/s]"
     ]
    },
    {
     "name": "stdout",
     "output_type": "stream",
     "text": [
      "\n",
      "Epoch 179 train_loss: 1.0399 val_loss 1.4154 train_acc 0.6953 val_acc 0.6175\n"
     ]
    },
    {
     "name": "stderr",
     "output_type": "stream",
     "text": [
      "Epoch: 100%|██████████| 129/129 [00:17<00:00,  7.39it/s]\n",
      "Epoch:   1%|          | 1/129 [00:00<00:22,  5.69it/s]"
     ]
    },
    {
     "name": "stdout",
     "output_type": "stream",
     "text": [
      "\n",
      "Epoch 180 train_loss: 1.0452 val_loss 1.4260 train_acc 0.6927 val_acc 0.6186\n"
     ]
    },
    {
     "name": "stderr",
     "output_type": "stream",
     "text": [
      "Epoch: 100%|██████████| 129/129 [00:19<00:00,  6.70it/s]\n",
      "Epoch:   1%|          | 1/129 [00:00<00:17,  7.40it/s]"
     ]
    },
    {
     "name": "stdout",
     "output_type": "stream",
     "text": [
      "\n",
      "Epoch 181 train_loss: 1.0390 val_loss 1.3584 train_acc 0.6950 val_acc 0.6391\n"
     ]
    },
    {
     "name": "stderr",
     "output_type": "stream",
     "text": [
      "Epoch: 100%|██████████| 129/129 [00:17<00:00,  7.22it/s]\n",
      "Epoch:   1%|          | 1/129 [00:00<00:21,  5.99it/s]"
     ]
    },
    {
     "name": "stdout",
     "output_type": "stream",
     "text": [
      "\n",
      "Epoch 182 train_loss: 1.0412 val_loss 1.3919 train_acc 0.6918 val_acc 0.6186\n"
     ]
    },
    {
     "name": "stderr",
     "output_type": "stream",
     "text": [
      "Epoch: 100%|██████████| 129/129 [00:18<00:00,  7.10it/s]\n",
      "Epoch:   1%|          | 1/129 [00:00<00:17,  7.37it/s]"
     ]
    },
    {
     "name": "stdout",
     "output_type": "stream",
     "text": [
      "\n",
      "Epoch 183 train_loss: 1.0454 val_loss 1.3533 train_acc 0.6928 val_acc 0.6288\n"
     ]
    },
    {
     "name": "stderr",
     "output_type": "stream",
     "text": [
      "Epoch: 100%|██████████| 129/129 [00:17<00:00,  7.24it/s]\n",
      "Epoch:   1%|          | 1/129 [00:00<00:16,  7.54it/s]"
     ]
    },
    {
     "name": "stdout",
     "output_type": "stream",
     "text": [
      "\n",
      "Epoch 184 train_loss: 1.0378 val_loss 1.3542 train_acc 0.6957 val_acc 0.6274\n"
     ]
    },
    {
     "name": "stderr",
     "output_type": "stream",
     "text": [
      "Epoch: 100%|██████████| 129/129 [00:18<00:00,  7.15it/s]\n",
      "Epoch:   1%|          | 1/129 [00:00<00:16,  7.70it/s]"
     ]
    },
    {
     "name": "stdout",
     "output_type": "stream",
     "text": [
      "\n",
      "Epoch 185 train_loss: 1.0359 val_loss 1.4069 train_acc 0.6967 val_acc 0.6285\n"
     ]
    },
    {
     "name": "stderr",
     "output_type": "stream",
     "text": [
      "Epoch: 100%|██████████| 129/129 [00:17<00:00,  7.18it/s]\n",
      "Epoch:   1%|          | 1/129 [00:00<00:16,  7.58it/s]"
     ]
    },
    {
     "name": "stdout",
     "output_type": "stream",
     "text": [
      "\n",
      "Epoch 186 train_loss: 1.0473 val_loss 1.3368 train_acc 0.6927 val_acc 0.6376\n"
     ]
    },
    {
     "name": "stderr",
     "output_type": "stream",
     "text": [
      "Epoch: 100%|██████████| 129/129 [00:17<00:00,  7.34it/s]\n",
      "Epoch:   1%|          | 1/129 [00:00<00:17,  7.24it/s]"
     ]
    },
    {
     "name": "stdout",
     "output_type": "stream",
     "text": [
      "\n",
      "Epoch 187 train_loss: 1.0289 val_loss 1.3927 train_acc 0.6953 val_acc 0.6248\n"
     ]
    },
    {
     "name": "stderr",
     "output_type": "stream",
     "text": [
      "Epoch: 100%|██████████| 129/129 [00:18<00:00,  7.05it/s]\n",
      "Epoch:   1%|          | 1/129 [00:00<00:18,  6.84it/s]"
     ]
    },
    {
     "name": "stdout",
     "output_type": "stream",
     "text": [
      "\n",
      "Epoch 188 train_loss: 1.0537 val_loss 1.3471 train_acc 0.6858 val_acc 0.6358\n"
     ]
    },
    {
     "name": "stderr",
     "output_type": "stream",
     "text": [
      "Epoch: 100%|██████████| 129/129 [00:18<00:00,  7.12it/s]\n",
      "Epoch:   1%|          | 1/129 [00:00<00:17,  7.36it/s]"
     ]
    },
    {
     "name": "stdout",
     "output_type": "stream",
     "text": [
      "\n",
      "Epoch 189 train_loss: 1.0338 val_loss 1.3307 train_acc 0.6974 val_acc 0.6420\n"
     ]
    },
    {
     "name": "stderr",
     "output_type": "stream",
     "text": [
      "Epoch: 100%|██████████| 129/129 [00:18<00:00,  7.12it/s]\n",
      "Epoch:   1%|          | 1/129 [00:00<00:18,  6.87it/s]"
     ]
    },
    {
     "name": "stdout",
     "output_type": "stream",
     "text": [
      "\n",
      "Epoch 190 train_loss: 1.0325 val_loss 1.3445 train_acc 0.6979 val_acc 0.6328\n"
     ]
    },
    {
     "name": "stderr",
     "output_type": "stream",
     "text": [
      "Epoch: 100%|██████████| 129/129 [00:18<00:00,  6.93it/s]\n",
      "Epoch:   1%|          | 1/129 [00:00<00:16,  7.78it/s]"
     ]
    },
    {
     "name": "stdout",
     "output_type": "stream",
     "text": [
      "\n",
      "Epoch 191 train_loss: 1.0365 val_loss 1.3361 train_acc 0.6887 val_acc 0.6383\n"
     ]
    },
    {
     "name": "stderr",
     "output_type": "stream",
     "text": [
      "Epoch: 100%|██████████| 129/129 [00:18<00:00,  7.07it/s]\n",
      "Epoch:   1%|          | 1/129 [00:00<00:16,  7.54it/s]"
     ]
    },
    {
     "name": "stdout",
     "output_type": "stream",
     "text": [
      "\n",
      "Epoch 192 train_loss: 1.0352 val_loss 1.3453 train_acc 0.6933 val_acc 0.6420\n"
     ]
    },
    {
     "name": "stderr",
     "output_type": "stream",
     "text": [
      "Epoch: 100%|██████████| 129/129 [00:17<00:00,  7.17it/s]\n",
      "Epoch:   1%|          | 1/129 [00:00<00:17,  7.31it/s]"
     ]
    },
    {
     "name": "stdout",
     "output_type": "stream",
     "text": [
      "\n",
      "Epoch 193 train_loss: 1.0254 val_loss 1.3525 train_acc 0.6973 val_acc 0.6361\n"
     ]
    },
    {
     "name": "stderr",
     "output_type": "stream",
     "text": [
      "Epoch: 100%|██████████| 129/129 [00:17<00:00,  7.23it/s]\n",
      "Epoch:   1%|          | 1/129 [00:00<00:20,  6.38it/s]"
     ]
    },
    {
     "name": "stdout",
     "output_type": "stream",
     "text": [
      "\n",
      "Epoch 194 train_loss: 1.0399 val_loss 1.4588 train_acc 0.6936 val_acc 0.6150\n"
     ]
    },
    {
     "name": "stderr",
     "output_type": "stream",
     "text": [
      "Epoch: 100%|██████████| 129/129 [00:18<00:00,  7.09it/s]\n",
      "Epoch:   1%|          | 1/129 [00:00<00:17,  7.20it/s]"
     ]
    },
    {
     "name": "stdout",
     "output_type": "stream",
     "text": [
      "\n",
      "Epoch 195 train_loss: 1.0356 val_loss 1.4747 train_acc 0.6960 val_acc 0.6099\n"
     ]
    },
    {
     "name": "stderr",
     "output_type": "stream",
     "text": [
      "Epoch: 100%|██████████| 129/129 [00:18<00:00,  7.00it/s]\n",
      "Epoch:   1%|          | 1/129 [00:00<00:17,  7.44it/s]"
     ]
    },
    {
     "name": "stdout",
     "output_type": "stream",
     "text": [
      "\n",
      "Epoch 196 train_loss: 1.0303 val_loss 1.3419 train_acc 0.6981 val_acc 0.6398\n"
     ]
    },
    {
     "name": "stderr",
     "output_type": "stream",
     "text": [
      "Epoch: 100%|██████████| 129/129 [00:17<00:00,  7.32it/s]\n",
      "Epoch:   1%|          | 1/129 [00:00<00:16,  7.69it/s]"
     ]
    },
    {
     "name": "stdout",
     "output_type": "stream",
     "text": [
      "\n",
      "Epoch 197 train_loss: 1.0552 val_loss 1.3680 train_acc 0.6863 val_acc 0.6369\n"
     ]
    },
    {
     "name": "stderr",
     "output_type": "stream",
     "text": [
      "Epoch: 100%|██████████| 129/129 [00:18<00:00,  7.09it/s]\n",
      "Epoch:   1%|          | 1/129 [00:00<00:16,  7.58it/s]"
     ]
    },
    {
     "name": "stdout",
     "output_type": "stream",
     "text": [
      "\n",
      "Epoch 198 train_loss: 1.0271 val_loss 1.4202 train_acc 0.7013 val_acc 0.6234\n"
     ]
    },
    {
     "name": "stderr",
     "output_type": "stream",
     "text": [
      "Epoch: 100%|██████████| 129/129 [00:17<00:00,  7.26it/s]\n",
      "Epoch:   1%|          | 1/129 [00:00<00:17,  7.44it/s]"
     ]
    },
    {
     "name": "stdout",
     "output_type": "stream",
     "text": [
      "\n",
      "Epoch 199 train_loss: 1.0402 val_loss 1.3461 train_acc 0.6964 val_acc 0.6423\n"
     ]
    },
    {
     "name": "stderr",
     "output_type": "stream",
     "text": [
      "Epoch: 100%|██████████| 129/129 [00:18<00:00,  7.08it/s]\n"
     ]
    },
    {
     "name": "stdout",
     "output_type": "stream",
     "text": [
      "\n",
      "Epoch 200 train_loss: 1.0258 val_loss 1.3253 train_acc 0.6981 val_acc 0.6442\n"
     ]
    }
   ],
   "source": [
    "optim = torch.optim.SGD(CNN.parameters(), lr=0.00005)\n",
    "criterion = nn.CrossEntropyLoss()\n",
    "\n",
    "history = train(train_dataset, val_dataset, model=CNN,  optim=optim,\n",
    "                criterion=criterion, epochs=200 , batch_size=64, device=DEVICE)"
   ]
  },
  {
   "cell_type": "code",
   "execution_count": 37,
   "metadata": {
    "scrolled": true
   },
   "outputs": [
    {
     "name": "stderr",
     "output_type": "stream",
     "text": [
      "Epoch: 100%|██████████| 65/65 [00:18<00:00,  3.45it/s]\n",
      "Epoch:   0%|          | 0/65 [00:00<?, ?it/s]"
     ]
    },
    {
     "name": "stdout",
     "output_type": "stream",
     "text": [
      "\n",
      "Epoch 001 train_loss: 3.3091 val_loss 2.8418 train_acc 0.2146 val_acc 0.2343\n"
     ]
    },
    {
     "name": "stderr",
     "output_type": "stream",
     "text": [
      "Epoch: 100%|██████████| 65/65 [00:18<00:00,  3.43it/s]\n",
      "Epoch:   0%|          | 0/65 [00:00<?, ?it/s]"
     ]
    },
    {
     "name": "stdout",
     "output_type": "stream",
     "text": [
      "\n",
      "Epoch 002 train_loss: 2.4314 val_loss 1.8060 train_acc 0.3196 val_acc 0.4996\n"
     ]
    },
    {
     "name": "stderr",
     "output_type": "stream",
     "text": [
      "Epoch: 100%|██████████| 65/65 [00:18<00:00,  3.46it/s]\n",
      "Epoch:   0%|          | 0/65 [00:00<?, ?it/s]"
     ]
    },
    {
     "name": "stdout",
     "output_type": "stream",
     "text": [
      "\n",
      "Epoch 003 train_loss: 1.9247 val_loss 1.5954 train_acc 0.4505 val_acc 0.5639\n"
     ]
    },
    {
     "name": "stderr",
     "output_type": "stream",
     "text": [
      "Epoch: 100%|██████████| 65/65 [00:18<00:00,  3.43it/s]\n",
      "Epoch:   0%|          | 0/65 [00:00<?, ?it/s]"
     ]
    },
    {
     "name": "stdout",
     "output_type": "stream",
     "text": [
      "\n",
      "Epoch 004 train_loss: 1.6406 val_loss 2.0957 train_acc 0.5316 val_acc 0.4051\n"
     ]
    },
    {
     "name": "stderr",
     "output_type": "stream",
     "text": [
      "Epoch: 100%|██████████| 65/65 [00:18<00:00,  3.48it/s]\n",
      "Epoch:   0%|          | 0/65 [00:00<?, ?it/s]"
     ]
    },
    {
     "name": "stdout",
     "output_type": "stream",
     "text": [
      "\n",
      "Epoch 005 train_loss: 1.5045 val_loss 1.4428 train_acc 0.5650 val_acc 0.5989\n"
     ]
    },
    {
     "name": "stderr",
     "output_type": "stream",
     "text": [
      "Epoch: 100%|██████████| 65/65 [00:18<00:00,  3.46it/s]\n",
      "Epoch:   0%|          | 0/65 [00:00<?, ?it/s]"
     ]
    },
    {
     "name": "stdout",
     "output_type": "stream",
     "text": [
      "\n",
      "Epoch 006 train_loss: 1.4036 val_loss 1.7381 train_acc 0.5908 val_acc 0.5033\n"
     ]
    },
    {
     "name": "stderr",
     "output_type": "stream",
     "text": [
      "Epoch: 100%|██████████| 65/65 [00:19<00:00,  3.41it/s]\n",
      "Epoch:   0%|          | 0/65 [00:00<?, ?it/s]"
     ]
    },
    {
     "name": "stdout",
     "output_type": "stream",
     "text": [
      "\n",
      "Epoch 007 train_loss: 1.4091 val_loss 1.4883 train_acc 0.5848 val_acc 0.5923\n"
     ]
    },
    {
     "name": "stderr",
     "output_type": "stream",
     "text": [
      "Epoch: 100%|██████████| 65/65 [00:18<00:00,  3.49it/s]\n",
      "Epoch:   0%|          | 0/65 [00:00<?, ?it/s]"
     ]
    },
    {
     "name": "stdout",
     "output_type": "stream",
     "text": [
      "\n",
      "Epoch 008 train_loss: 1.3454 val_loss 1.6619 train_acc 0.6030 val_acc 0.5609\n"
     ]
    },
    {
     "name": "stderr",
     "output_type": "stream",
     "text": [
      "Epoch: 100%|██████████| 65/65 [00:18<00:00,  3.49it/s]\n",
      "Epoch:   0%|          | 0/65 [00:00<?, ?it/s]"
     ]
    },
    {
     "name": "stdout",
     "output_type": "stream",
     "text": [
      "\n",
      "Epoch 009 train_loss: 1.3160 val_loss 1.5531 train_acc 0.6137 val_acc 0.5650\n"
     ]
    },
    {
     "name": "stderr",
     "output_type": "stream",
     "text": [
      "Epoch: 100%|██████████| 65/65 [00:18<00:00,  3.53it/s]\n"
     ]
    },
    {
     "name": "stdout",
     "output_type": "stream",
     "text": [
      "\n",
      "Epoch 010 train_loss: 1.2826 val_loss 1.5908 train_acc 0.6253 val_acc 0.5865\n"
     ]
    }
   ],
   "source": [
    "optim = torch.optim.SGD(CNN.parameters(), lr=0.0005)\n",
    "criterion = nn.CrossEntropyLoss()\n",
    "\n",
    "history = train(train_dataset, val_dataset, model=CNN,  optim=optim,\n",
    "                criterion=criterion, epochs=10 , batch_size=128, device=DEVICE)"
   ]
  },
  {
   "cell_type": "code",
   "execution_count": 38,
   "metadata": {
    "scrolled": true
   },
   "outputs": [
    {
     "name": "stderr",
     "output_type": "stream",
     "text": [
      "Epoch: 100%|██████████| 65/65 [00:18<00:00,  3.55it/s]\n"
     ]
    },
    {
     "name": "stdout",
     "output_type": "stream",
     "text": [
      "\n",
      "Epoch 001 train_loss: 1.6599 val_loss 2.0078 train_acc 0.5392 val_acc 0.4135\n"
     ]
    }
   ],
   "source": [
    "optim = torch.optim.SGD(CNN.parameters(), lr=0.0008)\n",
    "criterion = nn.CrossEntropyLoss()\n",
    "\n",
    "history = train(train_dataset, val_dataset, model=CNN,  optim=optim,\n",
    "                criterion=criterion, epochs=1 , batch_size=128, device=DEVICE)"
   ]
  },
  {
   "cell_type": "code",
   "execution_count": 39,
   "metadata": {
    "scrolled": true
   },
   "outputs": [
    {
     "name": "stderr",
     "output_type": "stream",
     "text": [
      "Epoch: 100%|██████████| 129/129 [00:17<00:00,  7.26it/s]\n"
     ]
    },
    {
     "name": "stdout",
     "output_type": "stream",
     "text": [
      "\n",
      "Epoch 001 train_loss: 1.5076 val_loss 1.4740 train_acc 0.5693 val_acc 0.5996\n"
     ]
    }
   ],
   "source": [
    "optim = torch.optim.SGD(CNN.parameters(), lr=0.001)\n",
    "criterion = nn.CrossEntropyLoss()\n",
    "\n",
    "history = train(train_dataset, val_dataset, model=CNN,  optim=optim,\n",
    "                criterion=criterion, epochs=1 , batch_size=64, device=DEVICE)"
   ]
  },
  {
   "cell_type": "code",
   "execution_count": 40,
   "metadata": {
    "scrolled": true
   },
   "outputs": [
    {
     "name": "stderr",
     "output_type": "stream",
     "text": [
      "Epoch: 100%|██████████| 65/65 [00:18<00:00,  3.52it/s]\n",
      "Epoch:   0%|          | 0/65 [00:00<?, ?it/s]"
     ]
    },
    {
     "name": "stdout",
     "output_type": "stream",
     "text": [
      "\n",
      "Epoch 001 train_loss: 1.1929 val_loss 1.4001 train_acc 0.6558 val_acc 0.6128\n"
     ]
    },
    {
     "name": "stderr",
     "output_type": "stream",
     "text": [
      "Epoch: 100%|██████████| 65/65 [00:18<00:00,  3.56it/s]\n",
      "Epoch:   0%|          | 0/65 [00:00<?, ?it/s]"
     ]
    },
    {
     "name": "stdout",
     "output_type": "stream",
     "text": [
      "\n",
      "Epoch 002 train_loss: 1.1759 val_loss 1.3764 train_acc 0.6563 val_acc 0.6186\n"
     ]
    },
    {
     "name": "stderr",
     "output_type": "stream",
     "text": [
      "Epoch: 100%|██████████| 65/65 [00:18<00:00,  3.53it/s]\n",
      "Epoch:   0%|          | 0/65 [00:00<?, ?it/s]"
     ]
    },
    {
     "name": "stdout",
     "output_type": "stream",
     "text": [
      "\n",
      "Epoch 003 train_loss: 1.1597 val_loss 1.3804 train_acc 0.6690 val_acc 0.6150\n"
     ]
    },
    {
     "name": "stderr",
     "output_type": "stream",
     "text": [
      "Epoch: 100%|██████████| 65/65 [00:18<00:00,  3.55it/s]\n",
      "Epoch:   0%|          | 0/65 [00:00<?, ?it/s]"
     ]
    },
    {
     "name": "stdout",
     "output_type": "stream",
     "text": [
      "\n",
      "Epoch 004 train_loss: 1.1397 val_loss 1.3894 train_acc 0.6656 val_acc 0.6172\n"
     ]
    },
    {
     "name": "stderr",
     "output_type": "stream",
     "text": [
      "Epoch: 100%|██████████| 65/65 [00:17<00:00,  3.61it/s]\n",
      "Epoch:   0%|          | 0/65 [00:00<?, ?it/s]"
     ]
    },
    {
     "name": "stdout",
     "output_type": "stream",
     "text": [
      "\n",
      "Epoch 005 train_loss: 1.1360 val_loss 1.3758 train_acc 0.6670 val_acc 0.6237\n"
     ]
    },
    {
     "name": "stderr",
     "output_type": "stream",
     "text": [
      "Epoch: 100%|██████████| 65/65 [00:18<00:00,  3.60it/s]\n",
      "Epoch:   0%|          | 0/65 [00:00<?, ?it/s]"
     ]
    },
    {
     "name": "stdout",
     "output_type": "stream",
     "text": [
      "\n",
      "Epoch 006 train_loss: 1.1186 val_loss 1.3886 train_acc 0.6742 val_acc 0.6161\n"
     ]
    },
    {
     "name": "stderr",
     "output_type": "stream",
     "text": [
      "Epoch: 100%|██████████| 65/65 [00:18<00:00,  3.60it/s]\n",
      "Epoch:   0%|          | 0/65 [00:00<?, ?it/s]"
     ]
    },
    {
     "name": "stdout",
     "output_type": "stream",
     "text": [
      "\n",
      "Epoch 007 train_loss: 1.1204 val_loss 1.3761 train_acc 0.6725 val_acc 0.6237\n"
     ]
    },
    {
     "name": "stderr",
     "output_type": "stream",
     "text": [
      "Epoch: 100%|██████████| 65/65 [00:17<00:00,  3.64it/s]\n",
      "Epoch:   0%|          | 0/65 [00:00<?, ?it/s]"
     ]
    },
    {
     "name": "stdout",
     "output_type": "stream",
     "text": [
      "\n",
      "Epoch 008 train_loss: 1.1094 val_loss 1.3458 train_acc 0.6788 val_acc 0.6307\n"
     ]
    },
    {
     "name": "stderr",
     "output_type": "stream",
     "text": [
      "Epoch: 100%|██████████| 65/65 [00:18<00:00,  3.56it/s]\n",
      "Epoch:   0%|          | 0/65 [00:00<?, ?it/s]"
     ]
    },
    {
     "name": "stdout",
     "output_type": "stream",
     "text": [
      "\n",
      "Epoch 009 train_loss: 1.0960 val_loss 1.4099 train_acc 0.6788 val_acc 0.6139\n"
     ]
    },
    {
     "name": "stderr",
     "output_type": "stream",
     "text": [
      "Epoch: 100%|██████████| 65/65 [00:18<00:00,  3.57it/s]\n"
     ]
    },
    {
     "name": "stdout",
     "output_type": "stream",
     "text": [
      "\n",
      "Epoch 010 train_loss: 1.1005 val_loss 1.4269 train_acc 0.6773 val_acc 0.6058\n"
     ]
    }
   ],
   "source": [
    "optim = torch.optim.SGD(CNN.parameters(), lr=0.0002)\n",
    "criterion = nn.CrossEntropyLoss()\n",
    "\n",
    "history = train(train_dataset, val_dataset, model=CNN,  optim=optim,\n",
    "                criterion=criterion, epochs=10 , batch_size=128, device=DEVICE)"
   ]
  },
  {
   "cell_type": "code",
   "execution_count": 41,
   "metadata": {
    "scrolled": true
   },
   "outputs": [
    {
     "name": "stderr",
     "output_type": "stream",
     "text": [
      "Epoch: 100%|██████████| 129/129 [00:17<00:00,  7.53it/s]\n",
      "Epoch:   1%|          | 1/129 [00:00<00:17,  7.34it/s]"
     ]
    },
    {
     "name": "stdout",
     "output_type": "stream",
     "text": [
      "\n",
      "Epoch 001 train_loss: 1.2284 val_loss 1.4184 train_acc 0.6415 val_acc 0.6142\n"
     ]
    },
    {
     "name": "stderr",
     "output_type": "stream",
     "text": [
      "Epoch: 100%|██████████| 129/129 [00:17<00:00,  7.52it/s]\n",
      "Epoch:   1%|          | 1/129 [00:00<00:16,  7.92it/s]"
     ]
    },
    {
     "name": "stdout",
     "output_type": "stream",
     "text": [
      "\n",
      "Epoch 002 train_loss: 1.1859 val_loss 1.4255 train_acc 0.6500 val_acc 0.6033\n"
     ]
    },
    {
     "name": "stderr",
     "output_type": "stream",
     "text": [
      "Epoch: 100%|██████████| 129/129 [00:17<00:00,  7.48it/s]\n"
     ]
    },
    {
     "name": "stdout",
     "output_type": "stream",
     "text": [
      "\n",
      "Epoch 003 train_loss: 1.1743 val_loss 1.3472 train_acc 0.6560 val_acc 0.6255\n"
     ]
    }
   ],
   "source": [
    "optim = torch.optim.SGD(CNN.parameters(), lr=0.0004)\n",
    "criterion = nn.CrossEntropyLoss()\n",
    "\n",
    "history = train(train_dataset, val_dataset, model=CNN,  optim=optim,\n",
    "                criterion=criterion, epochs=3 , batch_size=64, device=DEVICE)"
   ]
  },
  {
   "cell_type": "code",
   "execution_count": 42,
   "metadata": {
    "scrolled": true
   },
   "outputs": [
    {
     "name": "stderr",
     "output_type": "stream",
     "text": [
      "Epoch: 100%|██████████| 129/129 [00:17<00:00,  7.39it/s]\n"
     ]
    },
    {
     "name": "stdout",
     "output_type": "stream",
     "text": [
      "\n",
      "Epoch 001 train_loss: 1.3618 val_loss 1.4235 train_acc 0.6084 val_acc 0.6153\n"
     ]
    }
   ],
   "source": [
    "optim = torch.optim.SGD(CNN.parameters(), lr=0.0007)\n",
    "criterion = nn.CrossEntropyLoss()\n",
    "\n",
    "history = train(train_dataset, val_dataset, model=CNN,  optim=optim,\n",
    "                criterion=criterion, epochs=1 , batch_size=64, device=DEVICE)"
   ]
  },
  {
   "cell_type": "code",
   "execution_count": 43,
   "metadata": {
    "scrolled": true
   },
   "outputs": [
    {
     "name": "stderr",
     "output_type": "stream",
     "text": [
      "Epoch: 100%|██████████| 129/129 [00:17<00:00,  7.57it/s]\n",
      "Epoch:   1%|          | 1/129 [00:00<00:16,  7.73it/s]"
     ]
    },
    {
     "name": "stdout",
     "output_type": "stream",
     "text": [
      "\n",
      "Epoch 001 train_loss: 1.1296 val_loss 1.3330 train_acc 0.6742 val_acc 0.6339\n"
     ]
    },
    {
     "name": "stderr",
     "output_type": "stream",
     "text": [
      "Epoch: 100%|██████████| 129/129 [00:16<00:00,  7.61it/s]\n",
      "Epoch:   1%|          | 1/129 [00:00<00:17,  7.49it/s]"
     ]
    },
    {
     "name": "stdout",
     "output_type": "stream",
     "text": [
      "\n",
      "Epoch 002 train_loss: 1.0940 val_loss 1.3526 train_acc 0.6841 val_acc 0.6292\n"
     ]
    },
    {
     "name": "stderr",
     "output_type": "stream",
     "text": [
      "Epoch: 100%|██████████| 129/129 [00:16<00:00,  7.63it/s]\n",
      "Epoch:   1%|          | 1/129 [00:00<00:16,  7.59it/s]"
     ]
    },
    {
     "name": "stdout",
     "output_type": "stream",
     "text": [
      "\n",
      "Epoch 003 train_loss: 1.0873 val_loss 1.3291 train_acc 0.6877 val_acc 0.6332\n"
     ]
    },
    {
     "name": "stderr",
     "output_type": "stream",
     "text": [
      "Epoch: 100%|██████████| 129/129 [00:17<00:00,  7.17it/s]\n",
      "Epoch:   1%|          | 1/129 [00:00<00:16,  7.97it/s]"
     ]
    },
    {
     "name": "stdout",
     "output_type": "stream",
     "text": [
      "\n",
      "Epoch 004 train_loss: 1.0963 val_loss 1.3440 train_acc 0.6822 val_acc 0.6318\n"
     ]
    },
    {
     "name": "stderr",
     "output_type": "stream",
     "text": [
      "Epoch: 100%|██████████| 129/129 [00:17<00:00,  7.49it/s]\n",
      "Epoch:   1%|          | 1/129 [00:00<00:16,  7.73it/s]"
     ]
    },
    {
     "name": "stdout",
     "output_type": "stream",
     "text": [
      "\n",
      "Epoch 005 train_loss: 1.0783 val_loss 1.3309 train_acc 0.6800 val_acc 0.6343\n"
     ]
    },
    {
     "name": "stderr",
     "output_type": "stream",
     "text": [
      "Epoch: 100%|██████████| 129/129 [00:17<00:00,  7.54it/s]\n",
      "Epoch:   1%|          | 1/129 [00:00<00:16,  7.71it/s]"
     ]
    },
    {
     "name": "stdout",
     "output_type": "stream",
     "text": [
      "\n",
      "Epoch 006 train_loss: 1.0680 val_loss 1.3277 train_acc 0.6859 val_acc 0.6391\n"
     ]
    },
    {
     "name": "stderr",
     "output_type": "stream",
     "text": [
      "Epoch: 100%|██████████| 129/129 [00:17<00:00,  7.55it/s]\n",
      "Epoch:   1%|          | 1/129 [00:00<00:17,  7.34it/s]"
     ]
    },
    {
     "name": "stdout",
     "output_type": "stream",
     "text": [
      "\n",
      "Epoch 007 train_loss: 1.0726 val_loss 1.3313 train_acc 0.6845 val_acc 0.6328\n"
     ]
    },
    {
     "name": "stderr",
     "output_type": "stream",
     "text": [
      "Epoch: 100%|██████████| 129/129 [00:16<00:00,  7.60it/s]\n",
      "Epoch:   1%|          | 1/129 [00:00<00:15,  8.03it/s]"
     ]
    },
    {
     "name": "stdout",
     "output_type": "stream",
     "text": [
      "\n",
      "Epoch 008 train_loss: 1.0670 val_loss 1.3428 train_acc 0.6876 val_acc 0.6318\n"
     ]
    },
    {
     "name": "stderr",
     "output_type": "stream",
     "text": [
      "Epoch: 100%|██████████| 129/129 [00:16<00:00,  7.60it/s]\n",
      "Epoch:   1%|          | 1/129 [00:00<00:17,  7.35it/s]"
     ]
    },
    {
     "name": "stdout",
     "output_type": "stream",
     "text": [
      "\n",
      "Epoch 009 train_loss: 1.0665 val_loss 1.3221 train_acc 0.6847 val_acc 0.6412\n"
     ]
    },
    {
     "name": "stderr",
     "output_type": "stream",
     "text": [
      "Epoch: 100%|██████████| 129/129 [00:17<00:00,  7.22it/s]\n",
      "Epoch:   1%|          | 1/129 [00:00<00:15,  8.02it/s]"
     ]
    },
    {
     "name": "stdout",
     "output_type": "stream",
     "text": [
      "\n",
      "Epoch 010 train_loss: 1.0471 val_loss 1.3097 train_acc 0.6906 val_acc 0.6474\n"
     ]
    },
    {
     "name": "stderr",
     "output_type": "stream",
     "text": [
      "Epoch: 100%|██████████| 129/129 [00:18<00:00,  7.10it/s]\n",
      "Epoch:   1%|          | 1/129 [00:00<00:16,  7.53it/s]"
     ]
    },
    {
     "name": "stdout",
     "output_type": "stream",
     "text": [
      "\n",
      "Epoch 011 train_loss: 1.0508 val_loss 1.3114 train_acc 0.6939 val_acc 0.6453\n"
     ]
    },
    {
     "name": "stderr",
     "output_type": "stream",
     "text": [
      "Epoch: 100%|██████████| 129/129 [00:17<00:00,  7.25it/s]\n",
      "Epoch:   1%|          | 1/129 [00:00<00:20,  6.20it/s]"
     ]
    },
    {
     "name": "stdout",
     "output_type": "stream",
     "text": [
      "\n",
      "Epoch 012 train_loss: 1.0531 val_loss 1.3469 train_acc 0.6895 val_acc 0.6332\n"
     ]
    },
    {
     "name": "stderr",
     "output_type": "stream",
     "text": [
      "Epoch: 100%|██████████| 129/129 [00:17<00:00,  7.48it/s]\n",
      "Epoch:   1%|          | 1/129 [00:00<00:17,  7.27it/s]"
     ]
    },
    {
     "name": "stdout",
     "output_type": "stream",
     "text": [
      "\n",
      "Epoch 013 train_loss: 1.0484 val_loss 1.3097 train_acc 0.6950 val_acc 0.6460\n"
     ]
    },
    {
     "name": "stderr",
     "output_type": "stream",
     "text": [
      "Epoch: 100%|██████████| 129/129 [00:17<00:00,  7.27it/s]\n",
      "Epoch:   1%|          | 1/129 [00:00<00:16,  7.65it/s]"
     ]
    },
    {
     "name": "stdout",
     "output_type": "stream",
     "text": [
      "\n",
      "Epoch 014 train_loss: 1.0464 val_loss 1.3005 train_acc 0.6933 val_acc 0.6493\n"
     ]
    },
    {
     "name": "stderr",
     "output_type": "stream",
     "text": [
      "Epoch: 100%|██████████| 129/129 [00:18<00:00,  7.07it/s]\n",
      "Epoch:   1%|          | 1/129 [00:00<00:16,  8.00it/s]"
     ]
    },
    {
     "name": "stdout",
     "output_type": "stream",
     "text": [
      "\n",
      "Epoch 015 train_loss: 1.0410 val_loss 1.3087 train_acc 0.6968 val_acc 0.6445\n"
     ]
    },
    {
     "name": "stderr",
     "output_type": "stream",
     "text": [
      "Epoch: 100%|██████████| 129/129 [00:17<00:00,  7.37it/s]\n",
      "Epoch:   1%|          | 1/129 [00:00<00:16,  7.83it/s]"
     ]
    },
    {
     "name": "stdout",
     "output_type": "stream",
     "text": [
      "\n",
      "Epoch 016 train_loss: 1.0392 val_loss 1.3231 train_acc 0.6956 val_acc 0.6438\n"
     ]
    },
    {
     "name": "stderr",
     "output_type": "stream",
     "text": [
      "Epoch: 100%|██████████| 129/129 [00:17<00:00,  7.28it/s]\n",
      "Epoch:   1%|          | 1/129 [00:00<00:18,  6.95it/s]"
     ]
    },
    {
     "name": "stdout",
     "output_type": "stream",
     "text": [
      "\n",
      "Epoch 017 train_loss: 1.0264 val_loss 1.2990 train_acc 0.7001 val_acc 0.6496\n"
     ]
    },
    {
     "name": "stderr",
     "output_type": "stream",
     "text": [
      "Epoch: 100%|██████████| 129/129 [00:18<00:00,  6.94it/s]\n",
      "Epoch:   1%|          | 1/129 [00:00<00:17,  7.43it/s]"
     ]
    },
    {
     "name": "stdout",
     "output_type": "stream",
     "text": [
      "\n",
      "Epoch 018 train_loss: 1.0281 val_loss 1.3205 train_acc 0.6974 val_acc 0.6438\n"
     ]
    },
    {
     "name": "stderr",
     "output_type": "stream",
     "text": [
      "Epoch: 100%|██████████| 129/129 [00:16<00:00,  7.67it/s]\n",
      "Epoch:   1%|          | 1/129 [00:00<00:16,  7.59it/s]"
     ]
    },
    {
     "name": "stdout",
     "output_type": "stream",
     "text": [
      "\n",
      "Epoch 019 train_loss: 1.0241 val_loss 1.3108 train_acc 0.7018 val_acc 0.6456\n"
     ]
    },
    {
     "name": "stderr",
     "output_type": "stream",
     "text": [
      "Epoch: 100%|██████████| 129/129 [00:17<00:00,  7.49it/s]\n",
      "Epoch:   1%|          | 1/129 [00:00<00:16,  7.95it/s]"
     ]
    },
    {
     "name": "stdout",
     "output_type": "stream",
     "text": [
      "\n",
      "Epoch 020 train_loss: 1.0222 val_loss 1.2972 train_acc 0.7015 val_acc 0.6504\n"
     ]
    },
    {
     "name": "stderr",
     "output_type": "stream",
     "text": [
      "Epoch: 100%|██████████| 129/129 [00:17<00:00,  7.47it/s]\n",
      "Epoch:   1%|          | 1/129 [00:00<00:16,  7.61it/s]"
     ]
    },
    {
     "name": "stdout",
     "output_type": "stream",
     "text": [
      "\n",
      "Epoch 021 train_loss: 1.0255 val_loss 1.3087 train_acc 0.6959 val_acc 0.6423\n"
     ]
    },
    {
     "name": "stderr",
     "output_type": "stream",
     "text": [
      "Epoch: 100%|██████████| 129/129 [00:17<00:00,  7.26it/s]\n",
      "Epoch:   1%|          | 1/129 [00:00<00:16,  7.91it/s]"
     ]
    },
    {
     "name": "stdout",
     "output_type": "stream",
     "text": [
      "\n",
      "Epoch 022 train_loss: 1.0246 val_loss 1.3605 train_acc 0.6974 val_acc 0.6328\n"
     ]
    },
    {
     "name": "stderr",
     "output_type": "stream",
     "text": [
      "Epoch: 100%|██████████| 129/129 [00:17<00:00,  7.40it/s]\n",
      "Epoch:   1%|          | 1/129 [00:00<00:19,  6.51it/s]"
     ]
    },
    {
     "name": "stdout",
     "output_type": "stream",
     "text": [
      "\n",
      "Epoch 023 train_loss: 1.0182 val_loss 1.2850 train_acc 0.7009 val_acc 0.6526\n"
     ]
    },
    {
     "name": "stderr",
     "output_type": "stream",
     "text": [
      "Epoch: 100%|██████████| 129/129 [00:17<00:00,  7.46it/s]\n",
      "Epoch:   1%|          | 1/129 [00:00<00:16,  7.54it/s]"
     ]
    },
    {
     "name": "stdout",
     "output_type": "stream",
     "text": [
      "\n",
      "Epoch 024 train_loss: 1.0139 val_loss 1.3162 train_acc 0.7004 val_acc 0.6474\n"
     ]
    },
    {
     "name": "stderr",
     "output_type": "stream",
     "text": [
      "Epoch: 100%|██████████| 129/129 [00:17<00:00,  7.50it/s]\n",
      "Epoch:   1%|          | 1/129 [00:00<00:15,  8.09it/s]"
     ]
    },
    {
     "name": "stdout",
     "output_type": "stream",
     "text": [
      "\n",
      "Epoch 025 train_loss: 1.0114 val_loss 1.3070 train_acc 0.7032 val_acc 0.6409\n"
     ]
    },
    {
     "name": "stderr",
     "output_type": "stream",
     "text": [
      "Epoch: 100%|██████████| 129/129 [00:17<00:00,  7.53it/s]\n",
      "Epoch:   1%|          | 1/129 [00:00<00:16,  7.59it/s]"
     ]
    },
    {
     "name": "stdout",
     "output_type": "stream",
     "text": [
      "\n",
      "Epoch 026 train_loss: 1.0166 val_loss 1.3058 train_acc 0.7017 val_acc 0.6493\n"
     ]
    },
    {
     "name": "stderr",
     "output_type": "stream",
     "text": [
      "Epoch: 100%|██████████| 129/129 [00:16<00:00,  7.69it/s]\n",
      "Epoch:   1%|          | 1/129 [00:00<00:15,  8.09it/s]"
     ]
    },
    {
     "name": "stdout",
     "output_type": "stream",
     "text": [
      "\n",
      "Epoch 027 train_loss: 1.0127 val_loss 1.2922 train_acc 0.7039 val_acc 0.6526\n"
     ]
    },
    {
     "name": "stderr",
     "output_type": "stream",
     "text": [
      "Epoch: 100%|██████████| 129/129 [00:17<00:00,  7.55it/s]\n",
      "Epoch:   1%|          | 1/129 [00:00<00:15,  8.02it/s]"
     ]
    },
    {
     "name": "stdout",
     "output_type": "stream",
     "text": [
      "\n",
      "Epoch 028 train_loss: 1.0043 val_loss 1.3352 train_acc 0.7049 val_acc 0.6409\n"
     ]
    },
    {
     "name": "stderr",
     "output_type": "stream",
     "text": [
      "Epoch: 100%|██████████| 129/129 [00:17<00:00,  7.39it/s]\n",
      "Epoch:   1%|          | 1/129 [00:00<00:16,  7.76it/s]"
     ]
    },
    {
     "name": "stdout",
     "output_type": "stream",
     "text": [
      "\n",
      "Epoch 029 train_loss: 1.0094 val_loss 1.3070 train_acc 0.7056 val_acc 0.6471\n"
     ]
    },
    {
     "name": "stderr",
     "output_type": "stream",
     "text": [
      "Epoch: 100%|██████████| 129/129 [00:17<00:00,  7.35it/s]\n",
      "Epoch:   1%|          | 1/129 [00:00<00:17,  7.48it/s]"
     ]
    },
    {
     "name": "stdout",
     "output_type": "stream",
     "text": [
      "\n",
      "Epoch 030 train_loss: 1.0071 val_loss 1.3017 train_acc 0.7056 val_acc 0.6442\n"
     ]
    },
    {
     "name": "stderr",
     "output_type": "stream",
     "text": [
      "Epoch: 100%|██████████| 129/129 [00:17<00:00,  7.49it/s]\n",
      "Epoch:   1%|          | 1/129 [00:00<00:16,  7.97it/s]"
     ]
    },
    {
     "name": "stdout",
     "output_type": "stream",
     "text": [
      "\n",
      "Epoch 031 train_loss: 0.9951 val_loss 1.3188 train_acc 0.7041 val_acc 0.6409\n"
     ]
    },
    {
     "name": "stderr",
     "output_type": "stream",
     "text": [
      "Epoch: 100%|██████████| 129/129 [00:16<00:00,  7.60it/s]\n",
      "Epoch:   1%|          | 1/129 [00:00<00:15,  8.08it/s]"
     ]
    },
    {
     "name": "stdout",
     "output_type": "stream",
     "text": [
      "\n",
      "Epoch 032 train_loss: 0.9998 val_loss 1.3181 train_acc 0.7068 val_acc 0.6412\n"
     ]
    },
    {
     "name": "stderr",
     "output_type": "stream",
     "text": [
      "Epoch: 100%|██████████| 129/129 [00:17<00:00,  7.54it/s]\n",
      "Epoch:   1%|          | 1/129 [00:00<00:18,  6.99it/s]"
     ]
    },
    {
     "name": "stdout",
     "output_type": "stream",
     "text": [
      "\n",
      "Epoch 033 train_loss: 1.0030 val_loss 1.2995 train_acc 0.7034 val_acc 0.6500\n"
     ]
    },
    {
     "name": "stderr",
     "output_type": "stream",
     "text": [
      "Epoch: 100%|██████████| 129/129 [00:17<00:00,  7.57it/s]\n",
      "Epoch:   1%|          | 1/129 [00:00<00:16,  7.90it/s]"
     ]
    },
    {
     "name": "stdout",
     "output_type": "stream",
     "text": [
      "\n",
      "Epoch 034 train_loss: 0.9914 val_loss 1.2882 train_acc 0.7033 val_acc 0.6522\n"
     ]
    },
    {
     "name": "stderr",
     "output_type": "stream",
     "text": [
      "Epoch: 100%|██████████| 129/129 [00:17<00:00,  7.33it/s]\n",
      "Epoch:   1%|          | 1/129 [00:00<00:20,  6.32it/s]"
     ]
    },
    {
     "name": "stdout",
     "output_type": "stream",
     "text": [
      "\n",
      "Epoch 035 train_loss: 0.9938 val_loss 1.3309 train_acc 0.7067 val_acc 0.6336\n"
     ]
    },
    {
     "name": "stderr",
     "output_type": "stream",
     "text": [
      "Epoch: 100%|██████████| 129/129 [00:17<00:00,  7.42it/s]\n",
      "Epoch:   1%|          | 1/129 [00:00<00:18,  6.84it/s]"
     ]
    },
    {
     "name": "stdout",
     "output_type": "stream",
     "text": [
      "\n",
      "Epoch 036 train_loss: 1.0028 val_loss 1.3047 train_acc 0.7086 val_acc 0.6529\n"
     ]
    },
    {
     "name": "stderr",
     "output_type": "stream",
     "text": [
      "Epoch: 100%|██████████| 129/129 [00:18<00:00,  7.06it/s]\n",
      "Epoch:   1%|          | 1/129 [00:00<00:18,  6.95it/s]"
     ]
    },
    {
     "name": "stdout",
     "output_type": "stream",
     "text": [
      "\n",
      "Epoch 037 train_loss: 0.9977 val_loss 1.3511 train_acc 0.7049 val_acc 0.6358\n"
     ]
    },
    {
     "name": "stderr",
     "output_type": "stream",
     "text": [
      "Epoch: 100%|██████████| 129/129 [00:18<00:00,  7.12it/s]\n",
      "Epoch:   1%|          | 1/129 [00:00<00:16,  7.56it/s]"
     ]
    },
    {
     "name": "stdout",
     "output_type": "stream",
     "text": [
      "\n",
      "Epoch 038 train_loss: 0.9889 val_loss 1.3138 train_acc 0.7090 val_acc 0.6445\n"
     ]
    },
    {
     "name": "stderr",
     "output_type": "stream",
     "text": [
      "Epoch: 100%|██████████| 129/129 [00:18<00:00,  7.03it/s]\n",
      "Epoch:   1%|          | 1/129 [00:00<00:16,  7.78it/s]"
     ]
    },
    {
     "name": "stdout",
     "output_type": "stream",
     "text": [
      "\n",
      "Epoch 039 train_loss: 0.9897 val_loss 1.3441 train_acc 0.7043 val_acc 0.6416\n"
     ]
    },
    {
     "name": "stderr",
     "output_type": "stream",
     "text": [
      "Epoch: 100%|██████████| 129/129 [00:17<00:00,  7.52it/s]\n"
     ]
    },
    {
     "name": "stdout",
     "output_type": "stream",
     "text": [
      "\n",
      "Epoch 040 train_loss: 0.9931 val_loss 1.2764 train_acc 0.7058 val_acc 0.6547\n"
     ]
    }
   ],
   "source": [
    "optim = torch.optim.SGD(CNN.parameters(), lr=0.0001)\n",
    "criterion = nn.CrossEntropyLoss()\n",
    "\n",
    "history = train(train_dataset, val_dataset, model=CNN,  optim=optim,\n",
    "                criterion=criterion, epochs=40 , batch_size=64, device=DEVICE)"
   ]
  },
  {
   "cell_type": "code",
   "execution_count": 44,
   "metadata": {
    "scrolled": true
   },
   "outputs": [
    {
     "name": "stderr",
     "output_type": "stream",
     "text": [
      "Epoch: 100%|██████████| 129/129 [00:17<00:00,  7.26it/s]\n",
      "Epoch:   1%|          | 1/129 [00:00<00:16,  7.90it/s]"
     ]
    },
    {
     "name": "stdout",
     "output_type": "stream",
     "text": [
      "\n",
      "Epoch 001 train_loss: 1.7079 val_loss 1.7971 train_acc 0.5381 val_acc 0.4810\n"
     ]
    },
    {
     "name": "stderr",
     "output_type": "stream",
     "text": [
      "Epoch: 100%|██████████| 129/129 [00:17<00:00,  7.43it/s]\n",
      "Epoch:   1%|          | 1/129 [00:00<00:20,  6.31it/s]"
     ]
    },
    {
     "name": "stdout",
     "output_type": "stream",
     "text": [
      "\n",
      "Epoch 002 train_loss: 1.2487 val_loss 1.3591 train_acc 0.6348 val_acc 0.6277\n"
     ]
    },
    {
     "name": "stderr",
     "output_type": "stream",
     "text": [
      "Epoch: 100%|██████████| 129/129 [00:17<00:00,  7.33it/s]\n"
     ]
    },
    {
     "name": "stdout",
     "output_type": "stream",
     "text": [
      "\n",
      "Epoch 003 train_loss: 1.1907 val_loss 1.3423 train_acc 0.6485 val_acc 0.6401\n"
     ]
    }
   ],
   "source": [
    "optim = torch.optim.SGD(CNN.parameters(), lr=0.0005)\n",
    "criterion = nn.CrossEntropyLoss()\n",
    "\n",
    "history = train(train_dataset, val_dataset, model=CNN,  optim=optim,\n",
    "                criterion=criterion, epochs=3 , batch_size=64, device=DEVICE)"
   ]
  },
  {
   "cell_type": "code",
   "execution_count": 45,
   "metadata": {
    "scrolled": true
   },
   "outputs": [
    {
     "name": "stderr",
     "output_type": "stream",
     "text": [
      "Epoch: 100%|██████████| 129/129 [00:17<00:00,  7.26it/s]\n",
      "Epoch:   1%|          | 1/129 [00:00<00:18,  7.11it/s]"
     ]
    },
    {
     "name": "stdout",
     "output_type": "stream",
     "text": [
      "\n",
      "Epoch 001 train_loss: 1.0341 val_loss 1.3113 train_acc 0.6950 val_acc 0.6427\n"
     ]
    },
    {
     "name": "stderr",
     "output_type": "stream",
     "text": [
      "Epoch: 100%|██████████| 129/129 [00:18<00:00,  7.01it/s]\n",
      "Epoch:   1%|          | 1/129 [00:00<00:16,  7.56it/s]"
     ]
    },
    {
     "name": "stdout",
     "output_type": "stream",
     "text": [
      "\n",
      "Epoch 002 train_loss: 1.0263 val_loss 1.3048 train_acc 0.6953 val_acc 0.6445\n"
     ]
    },
    {
     "name": "stderr",
     "output_type": "stream",
     "text": [
      "Epoch: 100%|██████████| 129/129 [00:17<00:00,  7.39it/s]\n",
      "Epoch:   1%|          | 1/129 [00:00<00:19,  6.49it/s]"
     ]
    },
    {
     "name": "stdout",
     "output_type": "stream",
     "text": [
      "\n",
      "Epoch 003 train_loss: 1.0295 val_loss 1.3008 train_acc 0.7044 val_acc 0.6438\n"
     ]
    },
    {
     "name": "stderr",
     "output_type": "stream",
     "text": [
      "Epoch: 100%|██████████| 129/129 [00:17<00:00,  7.33it/s]\n",
      "Epoch:   1%|          | 1/129 [00:00<00:16,  7.65it/s]"
     ]
    },
    {
     "name": "stdout",
     "output_type": "stream",
     "text": [
      "\n",
      "Epoch 004 train_loss: 1.0213 val_loss 1.2983 train_acc 0.7006 val_acc 0.6460\n"
     ]
    },
    {
     "name": "stderr",
     "output_type": "stream",
     "text": [
      "Epoch: 100%|██████████| 129/129 [00:16<00:00,  7.59it/s]\n",
      "Epoch:   1%|          | 1/129 [00:00<00:16,  7.92it/s]"
     ]
    },
    {
     "name": "stdout",
     "output_type": "stream",
     "text": [
      "\n",
      "Epoch 005 train_loss: 1.0087 val_loss 1.2999 train_acc 0.7083 val_acc 0.6464\n"
     ]
    },
    {
     "name": "stderr",
     "output_type": "stream",
     "text": [
      "Epoch: 100%|██████████| 129/129 [00:17<00:00,  7.30it/s]\n",
      "Epoch:   1%|          | 1/129 [00:00<00:16,  7.54it/s]"
     ]
    },
    {
     "name": "stdout",
     "output_type": "stream",
     "text": [
      "\n",
      "Epoch 006 train_loss: 1.0122 val_loss 1.2982 train_acc 0.7023 val_acc 0.6507\n"
     ]
    },
    {
     "name": "stderr",
     "output_type": "stream",
     "text": [
      "Epoch: 100%|██████████| 129/129 [00:17<00:00,  7.49it/s]\n",
      "Epoch:   1%|          | 1/129 [00:00<00:16,  7.79it/s]"
     ]
    },
    {
     "name": "stdout",
     "output_type": "stream",
     "text": [
      "\n",
      "Epoch 007 train_loss: 1.0075 val_loss 1.2910 train_acc 0.7006 val_acc 0.6485\n"
     ]
    },
    {
     "name": "stderr",
     "output_type": "stream",
     "text": [
      "Epoch: 100%|██████████| 129/129 [00:18<00:00,  6.97it/s]\n",
      "Epoch:   1%|          | 1/129 [00:00<00:16,  7.70it/s]"
     ]
    },
    {
     "name": "stdout",
     "output_type": "stream",
     "text": [
      "\n",
      "Epoch 008 train_loss: 1.0093 val_loss 1.2871 train_acc 0.7023 val_acc 0.6529\n"
     ]
    },
    {
     "name": "stderr",
     "output_type": "stream",
     "text": [
      "Epoch: 100%|██████████| 129/129 [00:17<00:00,  7.49it/s]\n",
      "Epoch:   1%|          | 1/129 [00:00<00:17,  7.32it/s]"
     ]
    },
    {
     "name": "stdout",
     "output_type": "stream",
     "text": [
      "\n",
      "Epoch 009 train_loss: 1.0106 val_loss 1.2974 train_acc 0.7046 val_acc 0.6474\n"
     ]
    },
    {
     "name": "stderr",
     "output_type": "stream",
     "text": [
      "Epoch: 100%|██████████| 129/129 [00:17<00:00,  7.49it/s]\n",
      "Epoch:   1%|          | 1/129 [00:00<00:15,  8.02it/s]"
     ]
    },
    {
     "name": "stdout",
     "output_type": "stream",
     "text": [
      "\n",
      "Epoch 010 train_loss: 1.0029 val_loss 1.3010 train_acc 0.7082 val_acc 0.6478\n"
     ]
    },
    {
     "name": "stderr",
     "output_type": "stream",
     "text": [
      "Epoch: 100%|██████████| 129/129 [00:17<00:00,  7.54it/s]\n",
      "Epoch:   1%|          | 1/129 [00:00<00:15,  8.15it/s]"
     ]
    },
    {
     "name": "stdout",
     "output_type": "stream",
     "text": [
      "\n",
      "Epoch 011 train_loss: 1.0011 val_loss 1.2900 train_acc 0.7006 val_acc 0.6489\n"
     ]
    },
    {
     "name": "stderr",
     "output_type": "stream",
     "text": [
      "Epoch: 100%|██████████| 129/129 [00:16<00:00,  7.59it/s]\n",
      "Epoch:   1%|          | 1/129 [00:00<00:16,  7.74it/s]"
     ]
    },
    {
     "name": "stdout",
     "output_type": "stream",
     "text": [
      "\n",
      "Epoch 012 train_loss: 0.9997 val_loss 1.3025 train_acc 0.7092 val_acc 0.6438\n"
     ]
    },
    {
     "name": "stderr",
     "output_type": "stream",
     "text": [
      "Epoch: 100%|██████████| 129/129 [00:17<00:00,  7.40it/s]\n",
      "Epoch:   1%|          | 1/129 [00:00<00:15,  8.10it/s]"
     ]
    },
    {
     "name": "stdout",
     "output_type": "stream",
     "text": [
      "\n",
      "Epoch 013 train_loss: 0.9908 val_loss 1.2858 train_acc 0.7124 val_acc 0.6507\n"
     ]
    },
    {
     "name": "stderr",
     "output_type": "stream",
     "text": [
      "Epoch: 100%|██████████| 129/129 [00:17<00:00,  7.54it/s]\n",
      "Epoch:   1%|          | 1/129 [00:00<00:16,  7.88it/s]"
     ]
    },
    {
     "name": "stdout",
     "output_type": "stream",
     "text": [
      "\n",
      "Epoch 014 train_loss: 0.9943 val_loss 1.2881 train_acc 0.7090 val_acc 0.6507\n"
     ]
    },
    {
     "name": "stderr",
     "output_type": "stream",
     "text": [
      "Epoch: 100%|██████████| 129/129 [00:17<00:00,  7.43it/s]\n",
      "Epoch:   1%|          | 1/129 [00:00<00:17,  7.43it/s]"
     ]
    },
    {
     "name": "stdout",
     "output_type": "stream",
     "text": [
      "\n",
      "Epoch 015 train_loss: 0.9944 val_loss 1.2885 train_acc 0.7086 val_acc 0.6518\n"
     ]
    },
    {
     "name": "stderr",
     "output_type": "stream",
     "text": [
      "Epoch: 100%|██████████| 129/129 [00:17<00:00,  7.25it/s]\n",
      "Epoch:   1%|          | 1/129 [00:00<00:17,  7.32it/s]"
     ]
    },
    {
     "name": "stdout",
     "output_type": "stream",
     "text": [
      "\n",
      "Epoch 016 train_loss: 0.9841 val_loss 1.2857 train_acc 0.7102 val_acc 0.6536\n"
     ]
    },
    {
     "name": "stderr",
     "output_type": "stream",
     "text": [
      "Epoch: 100%|██████████| 129/129 [00:17<00:00,  7.54it/s]\n",
      "Epoch:   1%|          | 1/129 [00:00<00:17,  7.28it/s]"
     ]
    },
    {
     "name": "stdout",
     "output_type": "stream",
     "text": [
      "\n",
      "Epoch 017 train_loss: 0.9736 val_loss 1.2935 train_acc 0.7158 val_acc 0.6515\n"
     ]
    },
    {
     "name": "stderr",
     "output_type": "stream",
     "text": [
      "Epoch: 100%|██████████| 129/129 [00:17<00:00,  7.29it/s]\n",
      "Epoch:   1%|          | 1/129 [00:00<00:16,  7.67it/s]"
     ]
    },
    {
     "name": "stdout",
     "output_type": "stream",
     "text": [
      "\n",
      "Epoch 018 train_loss: 0.9821 val_loss 1.2828 train_acc 0.7092 val_acc 0.6533\n"
     ]
    },
    {
     "name": "stderr",
     "output_type": "stream",
     "text": [
      "Epoch: 100%|██████████| 129/129 [00:17<00:00,  7.28it/s]\n",
      "Epoch:   1%|          | 1/129 [00:00<00:15,  8.04it/s]"
     ]
    },
    {
     "name": "stdout",
     "output_type": "stream",
     "text": [
      "\n",
      "Epoch 019 train_loss: 0.9795 val_loss 1.2831 train_acc 0.7089 val_acc 0.6544\n"
     ]
    },
    {
     "name": "stderr",
     "output_type": "stream",
     "text": [
      "Epoch: 100%|██████████| 129/129 [00:17<00:00,  7.49it/s]\n",
      "Epoch:   1%|          | 1/129 [00:00<00:17,  7.53it/s]"
     ]
    },
    {
     "name": "stdout",
     "output_type": "stream",
     "text": [
      "\n",
      "Epoch 020 train_loss: 0.9837 val_loss 1.2894 train_acc 0.7117 val_acc 0.6551\n"
     ]
    },
    {
     "name": "stderr",
     "output_type": "stream",
     "text": [
      "Epoch: 100%|██████████| 129/129 [00:17<00:00,  7.33it/s]\n",
      "Epoch:   1%|          | 1/129 [00:00<00:18,  6.92it/s]"
     ]
    },
    {
     "name": "stdout",
     "output_type": "stream",
     "text": [
      "\n",
      "Epoch 021 train_loss: 0.9761 val_loss 1.2834 train_acc 0.7089 val_acc 0.6522\n"
     ]
    },
    {
     "name": "stderr",
     "output_type": "stream",
     "text": [
      "Epoch: 100%|██████████| 129/129 [00:18<00:00,  7.03it/s]\n",
      "Epoch:   1%|          | 1/129 [00:00<00:16,  7.58it/s]"
     ]
    },
    {
     "name": "stdout",
     "output_type": "stream",
     "text": [
      "\n",
      "Epoch 022 train_loss: 0.9800 val_loss 1.2873 train_acc 0.7103 val_acc 0.6515\n"
     ]
    },
    {
     "name": "stderr",
     "output_type": "stream",
     "text": [
      "Epoch: 100%|██████████| 129/129 [00:17<00:00,  7.31it/s]\n",
      "Epoch:   1%|          | 1/129 [00:00<00:17,  7.41it/s]"
     ]
    },
    {
     "name": "stdout",
     "output_type": "stream",
     "text": [
      "\n",
      "Epoch 023 train_loss: 0.9759 val_loss 1.2834 train_acc 0.7145 val_acc 0.6533\n"
     ]
    },
    {
     "name": "stderr",
     "output_type": "stream",
     "text": [
      "Epoch: 100%|██████████| 129/129 [00:18<00:00,  7.03it/s]\n",
      "Epoch:   1%|          | 1/129 [00:00<00:19,  6.66it/s]"
     ]
    },
    {
     "name": "stdout",
     "output_type": "stream",
     "text": [
      "\n",
      "Epoch 024 train_loss: 0.9790 val_loss 1.2917 train_acc 0.7129 val_acc 0.6496\n"
     ]
    },
    {
     "name": "stderr",
     "output_type": "stream",
     "text": [
      "Epoch: 100%|██████████| 129/129 [00:17<00:00,  7.39it/s]\n",
      "Epoch:   1%|          | 1/129 [00:00<00:16,  7.98it/s]"
     ]
    },
    {
     "name": "stdout",
     "output_type": "stream",
     "text": [
      "\n",
      "Epoch 025 train_loss: 0.9821 val_loss 1.2864 train_acc 0.7113 val_acc 0.6518\n"
     ]
    },
    {
     "name": "stderr",
     "output_type": "stream",
     "text": [
      "Epoch: 100%|██████████| 129/129 [00:17<00:00,  7.58it/s]\n",
      "Epoch:   1%|          | 1/129 [00:00<00:18,  6.83it/s]"
     ]
    },
    {
     "name": "stdout",
     "output_type": "stream",
     "text": [
      "\n",
      "Epoch 026 train_loss: 0.9705 val_loss 1.2741 train_acc 0.7139 val_acc 0.6566\n"
     ]
    },
    {
     "name": "stderr",
     "output_type": "stream",
     "text": [
      "Epoch: 100%|██████████| 129/129 [00:17<00:00,  7.36it/s]\n",
      "Epoch:   1%|          | 1/129 [00:00<00:16,  7.96it/s]"
     ]
    },
    {
     "name": "stdout",
     "output_type": "stream",
     "text": [
      "\n",
      "Epoch 027 train_loss: 0.9718 val_loss 1.2890 train_acc 0.7112 val_acc 0.6496\n"
     ]
    },
    {
     "name": "stderr",
     "output_type": "stream",
     "text": [
      "Epoch: 100%|██████████| 129/129 [00:17<00:00,  7.55it/s]\n",
      "Epoch:   1%|          | 1/129 [00:00<00:15,  8.20it/s]"
     ]
    },
    {
     "name": "stdout",
     "output_type": "stream",
     "text": [
      "\n",
      "Epoch 028 train_loss: 0.9808 val_loss 1.3073 train_acc 0.7114 val_acc 0.6489\n"
     ]
    },
    {
     "name": "stderr",
     "output_type": "stream",
     "text": [
      "Epoch: 100%|██████████| 129/129 [00:16<00:00,  7.60it/s]\n",
      "Epoch:   1%|          | 1/129 [00:00<00:16,  7.59it/s]"
     ]
    },
    {
     "name": "stdout",
     "output_type": "stream",
     "text": [
      "\n",
      "Epoch 029 train_loss: 0.9734 val_loss 1.2765 train_acc 0.7161 val_acc 0.6551\n"
     ]
    },
    {
     "name": "stderr",
     "output_type": "stream",
     "text": [
      "Epoch: 100%|██████████| 129/129 [00:18<00:00,  7.11it/s]\n",
      "Epoch:   1%|          | 1/129 [00:00<00:16,  7.61it/s]"
     ]
    },
    {
     "name": "stdout",
     "output_type": "stream",
     "text": [
      "\n",
      "Epoch 030 train_loss: 0.9686 val_loss 1.2835 train_acc 0.7153 val_acc 0.6551\n"
     ]
    },
    {
     "name": "stderr",
     "output_type": "stream",
     "text": [
      "Epoch: 100%|██████████| 129/129 [00:17<00:00,  7.45it/s]\n",
      "Epoch:   1%|          | 1/129 [00:00<00:16,  7.56it/s]"
     ]
    },
    {
     "name": "stdout",
     "output_type": "stream",
     "text": [
      "\n",
      "Epoch 031 train_loss: 0.9718 val_loss 1.2772 train_acc 0.7128 val_acc 0.6551\n"
     ]
    },
    {
     "name": "stderr",
     "output_type": "stream",
     "text": [
      "Epoch: 100%|██████████| 129/129 [00:17<00:00,  7.54it/s]\n",
      "Epoch:   1%|          | 1/129 [00:00<00:17,  7.46it/s]"
     ]
    },
    {
     "name": "stdout",
     "output_type": "stream",
     "text": [
      "\n",
      "Epoch 032 train_loss: 0.9708 val_loss 1.2853 train_acc 0.7146 val_acc 0.6522\n"
     ]
    },
    {
     "name": "stderr",
     "output_type": "stream",
     "text": [
      "Epoch: 100%|██████████| 129/129 [00:16<00:00,  7.59it/s]\n",
      "Epoch:   1%|          | 1/129 [00:00<00:16,  7.99it/s]"
     ]
    },
    {
     "name": "stdout",
     "output_type": "stream",
     "text": [
      "\n",
      "Epoch 033 train_loss: 0.9646 val_loss 1.2990 train_acc 0.7101 val_acc 0.6504\n"
     ]
    },
    {
     "name": "stderr",
     "output_type": "stream",
     "text": [
      "Epoch: 100%|██████████| 129/129 [00:17<00:00,  7.37it/s]\n",
      "Epoch:   1%|          | 1/129 [00:00<00:18,  6.80it/s]"
     ]
    },
    {
     "name": "stdout",
     "output_type": "stream",
     "text": [
      "\n",
      "Epoch 034 train_loss: 0.9666 val_loss 1.2757 train_acc 0.7165 val_acc 0.6555\n"
     ]
    },
    {
     "name": "stderr",
     "output_type": "stream",
     "text": [
      "Epoch: 100%|██████████| 129/129 [00:17<00:00,  7.54it/s]\n",
      "Epoch:   1%|          | 1/129 [00:00<00:16,  7.77it/s]"
     ]
    },
    {
     "name": "stdout",
     "output_type": "stream",
     "text": [
      "\n",
      "Epoch 035 train_loss: 0.9703 val_loss 1.2760 train_acc 0.7151 val_acc 0.6588\n"
     ]
    },
    {
     "name": "stderr",
     "output_type": "stream",
     "text": [
      "Epoch: 100%|██████████| 129/129 [00:16<00:00,  7.61it/s]\n",
      "Epoch:   1%|          | 1/129 [00:00<00:16,  7.64it/s]"
     ]
    },
    {
     "name": "stdout",
     "output_type": "stream",
     "text": [
      "\n",
      "Epoch 036 train_loss: 0.9675 val_loss 1.2817 train_acc 0.7144 val_acc 0.6533\n"
     ]
    },
    {
     "name": "stderr",
     "output_type": "stream",
     "text": [
      "Epoch: 100%|██████████| 129/129 [00:17<00:00,  7.45it/s]\n",
      "Epoch:   1%|          | 1/129 [00:00<00:16,  7.80it/s]"
     ]
    },
    {
     "name": "stdout",
     "output_type": "stream",
     "text": [
      "\n",
      "Epoch 037 train_loss: 0.9556 val_loss 1.2828 train_acc 0.7170 val_acc 0.6547\n"
     ]
    },
    {
     "name": "stderr",
     "output_type": "stream",
     "text": [
      "Epoch: 100%|██████████| 129/129 [00:17<00:00,  7.52it/s]\n",
      "Epoch:   1%|          | 1/129 [00:00<00:17,  7.44it/s]"
     ]
    },
    {
     "name": "stdout",
     "output_type": "stream",
     "text": [
      "\n",
      "Epoch 038 train_loss: 0.9606 val_loss 1.2849 train_acc 0.7136 val_acc 0.6569\n"
     ]
    },
    {
     "name": "stderr",
     "output_type": "stream",
     "text": [
      "Epoch: 100%|██████████| 129/129 [00:17<00:00,  7.30it/s]\n",
      "Epoch:   1%|          | 1/129 [00:00<00:16,  7.87it/s]"
     ]
    },
    {
     "name": "stdout",
     "output_type": "stream",
     "text": [
      "\n",
      "Epoch 039 train_loss: 0.9605 val_loss 1.2813 train_acc 0.7174 val_acc 0.6547\n"
     ]
    },
    {
     "name": "stderr",
     "output_type": "stream",
     "text": [
      "Epoch: 100%|██████████| 129/129 [00:17<00:00,  7.36it/s]\n",
      "Epoch:   1%|          | 1/129 [00:00<00:18,  6.80it/s]"
     ]
    },
    {
     "name": "stdout",
     "output_type": "stream",
     "text": [
      "\n",
      "Epoch 040 train_loss: 0.9604 val_loss 1.2830 train_acc 0.7187 val_acc 0.6566\n"
     ]
    },
    {
     "name": "stderr",
     "output_type": "stream",
     "text": [
      "Epoch: 100%|██████████| 129/129 [00:17<00:00,  7.52it/s]\n",
      "Epoch:   1%|          | 1/129 [00:00<00:16,  7.71it/s]"
     ]
    },
    {
     "name": "stdout",
     "output_type": "stream",
     "text": [
      "\n",
      "Epoch 041 train_loss: 0.9630 val_loss 1.2720 train_acc 0.7135 val_acc 0.6547\n"
     ]
    },
    {
     "name": "stderr",
     "output_type": "stream",
     "text": [
      "Epoch: 100%|██████████| 129/129 [00:18<00:00,  7.06it/s]\n",
      "Epoch:   1%|          | 1/129 [00:00<00:16,  7.70it/s]"
     ]
    },
    {
     "name": "stdout",
     "output_type": "stream",
     "text": [
      "\n",
      "Epoch 042 train_loss: 0.9557 val_loss 1.2781 train_acc 0.7235 val_acc 0.6558\n"
     ]
    },
    {
     "name": "stderr",
     "output_type": "stream",
     "text": [
      "Epoch: 100%|██████████| 129/129 [00:17<00:00,  7.32it/s]\n",
      "Epoch:   1%|          | 1/129 [00:00<00:19,  6.62it/s]"
     ]
    },
    {
     "name": "stdout",
     "output_type": "stream",
     "text": [
      "\n",
      "Epoch 043 train_loss: 0.9582 val_loss 1.2875 train_acc 0.7193 val_acc 0.6562\n"
     ]
    },
    {
     "name": "stderr",
     "output_type": "stream",
     "text": [
      "Epoch: 100%|██████████| 129/129 [00:17<00:00,  7.52it/s]\n",
      "Epoch:   1%|          | 1/129 [00:00<00:16,  7.79it/s]"
     ]
    },
    {
     "name": "stdout",
     "output_type": "stream",
     "text": [
      "\n",
      "Epoch 044 train_loss: 0.9732 val_loss 1.2810 train_acc 0.7101 val_acc 0.6547\n"
     ]
    },
    {
     "name": "stderr",
     "output_type": "stream",
     "text": [
      "Epoch: 100%|██████████| 129/129 [00:16<00:00,  7.72it/s]\n",
      "Epoch:   1%|          | 1/129 [00:00<00:15,  8.51it/s]"
     ]
    },
    {
     "name": "stdout",
     "output_type": "stream",
     "text": [
      "\n",
      "Epoch 045 train_loss: 0.9623 val_loss 1.2765 train_acc 0.7134 val_acc 0.6588\n"
     ]
    },
    {
     "name": "stderr",
     "output_type": "stream",
     "text": [
      "Epoch: 100%|██████████| 129/129 [00:16<00:00,  7.74it/s]\n",
      "Epoch:   1%|          | 1/129 [00:00<00:18,  6.98it/s]"
     ]
    },
    {
     "name": "stdout",
     "output_type": "stream",
     "text": [
      "\n",
      "Epoch 046 train_loss: 0.9536 val_loss 1.2725 train_acc 0.7197 val_acc 0.6573\n"
     ]
    },
    {
     "name": "stderr",
     "output_type": "stream",
     "text": [
      "Epoch: 100%|██████████| 129/129 [00:18<00:00,  6.87it/s]\n",
      "Epoch:   1%|          | 1/129 [00:00<00:16,  7.71it/s]"
     ]
    },
    {
     "name": "stdout",
     "output_type": "stream",
     "text": [
      "\n",
      "Epoch 047 train_loss: 0.9545 val_loss 1.2775 train_acc 0.7242 val_acc 0.6573\n"
     ]
    },
    {
     "name": "stderr",
     "output_type": "stream",
     "text": [
      "Epoch: 100%|██████████| 129/129 [00:18<00:00,  6.96it/s]\n",
      "Epoch:   1%|          | 1/129 [00:00<00:16,  7.75it/s]"
     ]
    },
    {
     "name": "stdout",
     "output_type": "stream",
     "text": [
      "\n",
      "Epoch 048 train_loss: 0.9591 val_loss 1.2751 train_acc 0.7161 val_acc 0.6577\n"
     ]
    },
    {
     "name": "stderr",
     "output_type": "stream",
     "text": [
      "Epoch: 100%|██████████| 129/129 [00:17<00:00,  7.40it/s]\n",
      "Epoch:   1%|          | 1/129 [00:00<00:17,  7.18it/s]"
     ]
    },
    {
     "name": "stdout",
     "output_type": "stream",
     "text": [
      "\n",
      "Epoch 049 train_loss: 0.9469 val_loss 1.2654 train_acc 0.7214 val_acc 0.6595\n"
     ]
    },
    {
     "name": "stderr",
     "output_type": "stream",
     "text": [
      "Epoch: 100%|██████████| 129/129 [00:18<00:00,  6.83it/s]\n",
      "Epoch:   1%|          | 1/129 [00:00<00:18,  6.95it/s]"
     ]
    },
    {
     "name": "stdout",
     "output_type": "stream",
     "text": [
      "\n",
      "Epoch 050 train_loss: 0.9501 val_loss 1.2790 train_acc 0.7191 val_acc 0.6551\n"
     ]
    },
    {
     "name": "stderr",
     "output_type": "stream",
     "text": [
      "Epoch: 100%|██████████| 129/129 [00:17<00:00,  7.27it/s]\n",
      "Epoch:   1%|          | 1/129 [00:00<00:17,  7.25it/s]"
     ]
    },
    {
     "name": "stdout",
     "output_type": "stream",
     "text": [
      "\n",
      "Epoch 051 train_loss: 0.9502 val_loss 1.2798 train_acc 0.7201 val_acc 0.6577\n"
     ]
    },
    {
     "name": "stderr",
     "output_type": "stream",
     "text": [
      "Epoch: 100%|██████████| 129/129 [00:17<00:00,  7.35it/s]\n",
      "Epoch:   1%|          | 1/129 [00:00<00:17,  7.52it/s]"
     ]
    },
    {
     "name": "stdout",
     "output_type": "stream",
     "text": [
      "\n",
      "Epoch 052 train_loss: 0.9471 val_loss 1.2741 train_acc 0.7202 val_acc 0.6580\n"
     ]
    },
    {
     "name": "stderr",
     "output_type": "stream",
     "text": [
      "Epoch: 100%|██████████| 129/129 [00:17<00:00,  7.51it/s]\n",
      "Epoch:   1%|          | 1/129 [00:00<00:20,  6.32it/s]"
     ]
    },
    {
     "name": "stdout",
     "output_type": "stream",
     "text": [
      "\n",
      "Epoch 053 train_loss: 0.9498 val_loss 1.2669 train_acc 0.7238 val_acc 0.6599\n"
     ]
    },
    {
     "name": "stderr",
     "output_type": "stream",
     "text": [
      "Epoch: 100%|██████████| 129/129 [00:17<00:00,  7.53it/s]\n",
      "Epoch:   1%|          | 1/129 [00:00<00:17,  7.24it/s]"
     ]
    },
    {
     "name": "stdout",
     "output_type": "stream",
     "text": [
      "\n",
      "Epoch 054 train_loss: 0.9506 val_loss 1.2829 train_acc 0.7227 val_acc 0.6573\n"
     ]
    },
    {
     "name": "stderr",
     "output_type": "stream",
     "text": [
      "Epoch: 100%|██████████| 129/129 [00:16<00:00,  7.65it/s]\n",
      "Epoch:   1%|          | 1/129 [00:00<00:18,  7.02it/s]"
     ]
    },
    {
     "name": "stdout",
     "output_type": "stream",
     "text": [
      "\n",
      "Epoch 055 train_loss: 0.9418 val_loss 1.2757 train_acc 0.7270 val_acc 0.6558\n"
     ]
    },
    {
     "name": "stderr",
     "output_type": "stream",
     "text": [
      "Epoch: 100%|██████████| 129/129 [00:17<00:00,  7.17it/s]\n",
      "Epoch:   1%|          | 1/129 [00:00<00:17,  7.22it/s]"
     ]
    },
    {
     "name": "stdout",
     "output_type": "stream",
     "text": [
      "\n",
      "Epoch 056 train_loss: 0.9432 val_loss 1.2821 train_acc 0.7180 val_acc 0.6562\n"
     ]
    },
    {
     "name": "stderr",
     "output_type": "stream",
     "text": [
      "Epoch: 100%|██████████| 129/129 [00:17<00:00,  7.47it/s]\n",
      "Epoch:   1%|          | 1/129 [00:00<00:17,  7.47it/s]"
     ]
    },
    {
     "name": "stdout",
     "output_type": "stream",
     "text": [
      "\n",
      "Epoch 057 train_loss: 0.9477 val_loss 1.2741 train_acc 0.7201 val_acc 0.6591\n"
     ]
    },
    {
     "name": "stderr",
     "output_type": "stream",
     "text": [
      "Epoch: 100%|██████████| 129/129 [00:17<00:00,  7.36it/s]\n",
      "Epoch:   1%|          | 1/129 [00:00<00:25,  5.09it/s]"
     ]
    },
    {
     "name": "stdout",
     "output_type": "stream",
     "text": [
      "\n",
      "Epoch 058 train_loss: 0.9476 val_loss 1.2888 train_acc 0.7212 val_acc 0.6569\n"
     ]
    },
    {
     "name": "stderr",
     "output_type": "stream",
     "text": [
      "Epoch: 100%|██████████| 129/129 [00:17<00:00,  7.31it/s]\n",
      "Epoch:   1%|          | 1/129 [00:00<00:19,  6.50it/s]"
     ]
    },
    {
     "name": "stdout",
     "output_type": "stream",
     "text": [
      "\n",
      "Epoch 059 train_loss: 0.9465 val_loss 1.2839 train_acc 0.7226 val_acc 0.6602\n"
     ]
    },
    {
     "name": "stderr",
     "output_type": "stream",
     "text": [
      "Epoch: 100%|██████████| 129/129 [00:17<00:00,  7.35it/s]\n",
      "Epoch:   1%|          | 1/129 [00:00<00:18,  6.88it/s]"
     ]
    },
    {
     "name": "stdout",
     "output_type": "stream",
     "text": [
      "\n",
      "Epoch 060 train_loss: 0.9448 val_loss 1.2931 train_acc 0.7215 val_acc 0.6562\n"
     ]
    },
    {
     "name": "stderr",
     "output_type": "stream",
     "text": [
      "Epoch: 100%|██████████| 129/129 [00:17<00:00,  7.30it/s]\n",
      "Epoch:   1%|          | 1/129 [00:00<00:16,  7.95it/s]"
     ]
    },
    {
     "name": "stdout",
     "output_type": "stream",
     "text": [
      "\n",
      "Epoch 061 train_loss: 0.9410 val_loss 1.2986 train_acc 0.7210 val_acc 0.6536\n"
     ]
    },
    {
     "name": "stderr",
     "output_type": "stream",
     "text": [
      "Epoch: 100%|██████████| 129/129 [00:17<00:00,  7.31it/s]\n",
      "Epoch:   1%|          | 1/129 [00:00<00:17,  7.30it/s]"
     ]
    },
    {
     "name": "stdout",
     "output_type": "stream",
     "text": [
      "\n",
      "Epoch 062 train_loss: 0.9397 val_loss 1.2844 train_acc 0.7213 val_acc 0.6573\n"
     ]
    },
    {
     "name": "stderr",
     "output_type": "stream",
     "text": [
      "Epoch: 100%|██████████| 129/129 [00:17<00:00,  7.41it/s]\n",
      "Epoch:   1%|          | 1/129 [00:00<00:18,  7.07it/s]"
     ]
    },
    {
     "name": "stdout",
     "output_type": "stream",
     "text": [
      "\n",
      "Epoch 063 train_loss: 0.9421 val_loss 1.2676 train_acc 0.7209 val_acc 0.6606\n"
     ]
    },
    {
     "name": "stderr",
     "output_type": "stream",
     "text": [
      "Epoch: 100%|██████████| 129/129 [00:17<00:00,  7.44it/s]\n",
      "Epoch:   1%|          | 1/129 [00:00<00:16,  7.77it/s]"
     ]
    },
    {
     "name": "stdout",
     "output_type": "stream",
     "text": [
      "\n",
      "Epoch 064 train_loss: 0.9425 val_loss 1.2861 train_acc 0.7236 val_acc 0.6588\n"
     ]
    },
    {
     "name": "stderr",
     "output_type": "stream",
     "text": [
      "Epoch: 100%|██████████| 129/129 [00:17<00:00,  7.41it/s]\n",
      "Epoch:   1%|          | 1/129 [00:00<00:20,  6.30it/s]"
     ]
    },
    {
     "name": "stdout",
     "output_type": "stream",
     "text": [
      "\n",
      "Epoch 065 train_loss: 0.9440 val_loss 1.2629 train_acc 0.7206 val_acc 0.6606\n"
     ]
    },
    {
     "name": "stderr",
     "output_type": "stream",
     "text": [
      "Epoch: 100%|██████████| 129/129 [00:18<00:00,  7.11it/s]\n",
      "Epoch:   1%|          | 1/129 [00:00<00:17,  7.52it/s]"
     ]
    },
    {
     "name": "stdout",
     "output_type": "stream",
     "text": [
      "\n",
      "Epoch 066 train_loss: 0.9442 val_loss 1.2620 train_acc 0.7212 val_acc 0.6599\n"
     ]
    },
    {
     "name": "stderr",
     "output_type": "stream",
     "text": [
      "Epoch: 100%|██████████| 129/129 [00:17<00:00,  7.45it/s]\n",
      "Epoch:   1%|          | 1/129 [00:00<00:16,  7.90it/s]"
     ]
    },
    {
     "name": "stdout",
     "output_type": "stream",
     "text": [
      "\n",
      "Epoch 067 train_loss: 0.9363 val_loss 1.2793 train_acc 0.7247 val_acc 0.6591\n"
     ]
    },
    {
     "name": "stderr",
     "output_type": "stream",
     "text": [
      "Epoch: 100%|██████████| 129/129 [00:18<00:00,  6.95it/s]\n",
      "Epoch:   1%|          | 1/129 [00:00<00:16,  7.77it/s]"
     ]
    },
    {
     "name": "stdout",
     "output_type": "stream",
     "text": [
      "\n",
      "Epoch 068 train_loss: 0.9354 val_loss 1.2597 train_acc 0.7237 val_acc 0.6609\n"
     ]
    },
    {
     "name": "stderr",
     "output_type": "stream",
     "text": [
      "Epoch: 100%|██████████| 129/129 [00:17<00:00,  7.34it/s]\n",
      "Epoch:   1%|          | 1/129 [00:00<00:18,  7.03it/s]"
     ]
    },
    {
     "name": "stdout",
     "output_type": "stream",
     "text": [
      "\n",
      "Epoch 069 train_loss: 0.9379 val_loss 1.2612 train_acc 0.7264 val_acc 0.6602\n"
     ]
    },
    {
     "name": "stderr",
     "output_type": "stream",
     "text": [
      "Epoch: 100%|██████████| 129/129 [00:18<00:00,  7.15it/s]\n",
      "Epoch:   1%|          | 1/129 [00:00<00:16,  7.79it/s]"
     ]
    },
    {
     "name": "stdout",
     "output_type": "stream",
     "text": [
      "\n",
      "Epoch 070 train_loss: 0.9294 val_loss 1.2731 train_acc 0.7245 val_acc 0.6617\n"
     ]
    },
    {
     "name": "stderr",
     "output_type": "stream",
     "text": [
      "Epoch: 100%|██████████| 129/129 [00:17<00:00,  7.32it/s]\n",
      "Epoch:   1%|          | 1/129 [00:00<00:16,  7.74it/s]"
     ]
    },
    {
     "name": "stdout",
     "output_type": "stream",
     "text": [
      "\n",
      "Epoch 071 train_loss: 0.9355 val_loss 1.2700 train_acc 0.7232 val_acc 0.6664\n"
     ]
    },
    {
     "name": "stderr",
     "output_type": "stream",
     "text": [
      "Epoch: 100%|██████████| 129/129 [00:17<00:00,  7.25it/s]\n",
      "Epoch:   1%|          | 1/129 [00:00<00:16,  7.74it/s]"
     ]
    },
    {
     "name": "stdout",
     "output_type": "stream",
     "text": [
      "\n",
      "Epoch 072 train_loss: 0.9355 val_loss 1.2694 train_acc 0.7229 val_acc 0.6609\n"
     ]
    },
    {
     "name": "stderr",
     "output_type": "stream",
     "text": [
      "Epoch: 100%|██████████| 129/129 [00:18<00:00,  7.12it/s]\n",
      "Epoch:   1%|          | 1/129 [00:00<00:15,  8.26it/s]"
     ]
    },
    {
     "name": "stdout",
     "output_type": "stream",
     "text": [
      "\n",
      "Epoch 073 train_loss: 0.9430 val_loss 1.2621 train_acc 0.7214 val_acc 0.6642\n"
     ]
    },
    {
     "name": "stderr",
     "output_type": "stream",
     "text": [
      "Epoch: 100%|██████████| 129/129 [00:17<00:00,  7.58it/s]\n",
      "Epoch:   1%|          | 1/129 [00:00<00:16,  7.74it/s]"
     ]
    },
    {
     "name": "stdout",
     "output_type": "stream",
     "text": [
      "\n",
      "Epoch 074 train_loss: 0.9252 val_loss 1.2626 train_acc 0.7246 val_acc 0.6599\n"
     ]
    },
    {
     "name": "stderr",
     "output_type": "stream",
     "text": [
      "Epoch: 100%|██████████| 129/129 [00:17<00:00,  7.37it/s]\n",
      "Epoch:   1%|          | 1/129 [00:00<00:19,  6.53it/s]"
     ]
    },
    {
     "name": "stdout",
     "output_type": "stream",
     "text": [
      "\n",
      "Epoch 075 train_loss: 0.9386 val_loss 1.2884 train_acc 0.7170 val_acc 0.6595\n"
     ]
    },
    {
     "name": "stderr",
     "output_type": "stream",
     "text": [
      "Epoch: 100%|██████████| 129/129 [00:17<00:00,  7.58it/s]\n",
      "Epoch:   1%|          | 1/129 [00:00<00:18,  7.11it/s]"
     ]
    },
    {
     "name": "stdout",
     "output_type": "stream",
     "text": [
      "\n",
      "Epoch 076 train_loss: 0.9353 val_loss 1.2705 train_acc 0.7268 val_acc 0.6595\n"
     ]
    },
    {
     "name": "stderr",
     "output_type": "stream",
     "text": [
      "Epoch: 100%|██████████| 129/129 [00:18<00:00,  7.00it/s]\n",
      "Epoch:   1%|          | 1/129 [00:00<00:18,  7.08it/s]"
     ]
    },
    {
     "name": "stdout",
     "output_type": "stream",
     "text": [
      "\n",
      "Epoch 077 train_loss: 0.9354 val_loss 1.2596 train_acc 0.7214 val_acc 0.6646\n"
     ]
    },
    {
     "name": "stderr",
     "output_type": "stream",
     "text": [
      "Epoch: 100%|██████████| 129/129 [00:18<00:00,  7.06it/s]\n",
      "Epoch:   1%|          | 1/129 [00:00<00:17,  7.51it/s]"
     ]
    },
    {
     "name": "stdout",
     "output_type": "stream",
     "text": [
      "\n",
      "Epoch 078 train_loss: 0.9225 val_loss 1.2650 train_acc 0.7269 val_acc 0.6650\n"
     ]
    },
    {
     "name": "stderr",
     "output_type": "stream",
     "text": [
      "Epoch: 100%|██████████| 129/129 [00:17<00:00,  7.47it/s]\n",
      "Epoch:   1%|          | 1/129 [00:00<00:16,  7.68it/s]"
     ]
    },
    {
     "name": "stdout",
     "output_type": "stream",
     "text": [
      "\n",
      "Epoch 079 train_loss: 0.9309 val_loss 1.2679 train_acc 0.7249 val_acc 0.6631\n"
     ]
    },
    {
     "name": "stderr",
     "output_type": "stream",
     "text": [
      "Epoch: 100%|██████████| 129/129 [00:17<00:00,  7.51it/s]\n",
      "Epoch:   1%|          | 1/129 [00:00<00:16,  7.79it/s]"
     ]
    },
    {
     "name": "stdout",
     "output_type": "stream",
     "text": [
      "\n",
      "Epoch 080 train_loss: 0.9108 val_loss 1.2779 train_acc 0.7326 val_acc 0.6566\n"
     ]
    },
    {
     "name": "stderr",
     "output_type": "stream",
     "text": [
      "Epoch: 100%|██████████| 129/129 [00:17<00:00,  7.29it/s]\n",
      "Epoch:   1%|          | 1/129 [00:00<00:21,  5.93it/s]"
     ]
    },
    {
     "name": "stdout",
     "output_type": "stream",
     "text": [
      "\n",
      "Epoch 081 train_loss: 0.9282 val_loss 1.2630 train_acc 0.7268 val_acc 0.6635\n"
     ]
    },
    {
     "name": "stderr",
     "output_type": "stream",
     "text": [
      "Epoch: 100%|██████████| 129/129 [00:17<00:00,  7.23it/s]\n",
      "Epoch:   1%|          | 1/129 [00:00<00:15,  8.03it/s]"
     ]
    },
    {
     "name": "stdout",
     "output_type": "stream",
     "text": [
      "\n",
      "Epoch 082 train_loss: 0.9249 val_loss 1.2858 train_acc 0.7242 val_acc 0.6558\n"
     ]
    },
    {
     "name": "stderr",
     "output_type": "stream",
     "text": [
      "Epoch: 100%|██████████| 129/129 [00:17<00:00,  7.54it/s]\n",
      "Epoch:   1%|          | 1/129 [00:00<00:16,  7.92it/s]"
     ]
    },
    {
     "name": "stdout",
     "output_type": "stream",
     "text": [
      "\n",
      "Epoch 083 train_loss: 0.9300 val_loss 1.2670 train_acc 0.7257 val_acc 0.6628\n"
     ]
    },
    {
     "name": "stderr",
     "output_type": "stream",
     "text": [
      "Epoch: 100%|██████████| 129/129 [00:17<00:00,  7.29it/s]\n",
      "Epoch:   1%|          | 1/129 [00:00<00:17,  7.47it/s]"
     ]
    },
    {
     "name": "stdout",
     "output_type": "stream",
     "text": [
      "\n",
      "Epoch 084 train_loss: 0.9397 val_loss 1.2622 train_acc 0.7225 val_acc 0.6646\n"
     ]
    },
    {
     "name": "stderr",
     "output_type": "stream",
     "text": [
      "Epoch: 100%|██████████| 129/129 [00:17<00:00,  7.47it/s]\n",
      "Epoch:   1%|          | 1/129 [00:00<00:15,  8.05it/s]"
     ]
    },
    {
     "name": "stdout",
     "output_type": "stream",
     "text": [
      "\n",
      "Epoch 085 train_loss: 0.9227 val_loss 1.2789 train_acc 0.7257 val_acc 0.6551\n"
     ]
    },
    {
     "name": "stderr",
     "output_type": "stream",
     "text": [
      "Epoch: 100%|██████████| 129/129 [00:17<00:00,  7.30it/s]\n",
      "Epoch:   1%|          | 1/129 [00:00<00:17,  7.34it/s]"
     ]
    },
    {
     "name": "stdout",
     "output_type": "stream",
     "text": [
      "\n",
      "Epoch 086 train_loss: 0.9278 val_loss 1.2613 train_acc 0.7246 val_acc 0.6650\n"
     ]
    },
    {
     "name": "stderr",
     "output_type": "stream",
     "text": [
      "Epoch: 100%|██████████| 129/129 [00:17<00:00,  7.25it/s]\n",
      "Epoch:   1%|          | 1/129 [00:00<00:16,  7.93it/s]"
     ]
    },
    {
     "name": "stdout",
     "output_type": "stream",
     "text": [
      "\n",
      "Epoch 087 train_loss: 0.9176 val_loss 1.2659 train_acc 0.7273 val_acc 0.6639\n"
     ]
    },
    {
     "name": "stderr",
     "output_type": "stream",
     "text": [
      "Epoch: 100%|██████████| 129/129 [00:18<00:00,  7.08it/s]\n",
      "Epoch:   1%|          | 1/129 [00:00<00:16,  7.64it/s]"
     ]
    },
    {
     "name": "stdout",
     "output_type": "stream",
     "text": [
      "\n",
      "Epoch 088 train_loss: 0.9271 val_loss 1.2713 train_acc 0.7258 val_acc 0.6642\n"
     ]
    },
    {
     "name": "stderr",
     "output_type": "stream",
     "text": [
      "Epoch: 100%|██████████| 129/129 [00:17<00:00,  7.44it/s]\n",
      "Epoch:   1%|          | 1/129 [00:00<00:17,  7.35it/s]"
     ]
    },
    {
     "name": "stdout",
     "output_type": "stream",
     "text": [
      "\n",
      "Epoch 089 train_loss: 0.9184 val_loss 1.2711 train_acc 0.7266 val_acc 0.6617\n"
     ]
    },
    {
     "name": "stderr",
     "output_type": "stream",
     "text": [
      "Epoch: 100%|██████████| 129/129 [00:18<00:00,  7.16it/s]\n",
      "Epoch:   1%|          | 1/129 [00:00<00:16,  7.63it/s]"
     ]
    },
    {
     "name": "stdout",
     "output_type": "stream",
     "text": [
      "\n",
      "Epoch 090 train_loss: 0.9247 val_loss 1.2814 train_acc 0.7265 val_acc 0.6606\n"
     ]
    },
    {
     "name": "stderr",
     "output_type": "stream",
     "text": [
      "Epoch: 100%|██████████| 129/129 [00:18<00:00,  6.93it/s]\n",
      "Epoch:   1%|          | 1/129 [00:00<00:17,  7.27it/s]"
     ]
    },
    {
     "name": "stdout",
     "output_type": "stream",
     "text": [
      "\n",
      "Epoch 091 train_loss: 0.9218 val_loss 1.2626 train_acc 0.7299 val_acc 0.6631\n"
     ]
    },
    {
     "name": "stderr",
     "output_type": "stream",
     "text": [
      "Epoch: 100%|██████████| 129/129 [00:18<00:00,  7.02it/s]\n",
      "Epoch:   1%|          | 1/129 [00:00<00:16,  7.63it/s]"
     ]
    },
    {
     "name": "stdout",
     "output_type": "stream",
     "text": [
      "\n",
      "Epoch 092 train_loss: 0.9223 val_loss 1.2908 train_acc 0.7255 val_acc 0.6602\n"
     ]
    },
    {
     "name": "stderr",
     "output_type": "stream",
     "text": [
      "Epoch: 100%|██████████| 129/129 [00:17<00:00,  7.48it/s]\n",
      "Epoch:   1%|          | 1/129 [00:00<00:18,  7.03it/s]"
     ]
    },
    {
     "name": "stdout",
     "output_type": "stream",
     "text": [
      "\n",
      "Epoch 093 train_loss: 0.9167 val_loss 1.2864 train_acc 0.7269 val_acc 0.6606\n"
     ]
    },
    {
     "name": "stderr",
     "output_type": "stream",
     "text": [
      "Epoch: 100%|██████████| 129/129 [00:16<00:00,  7.61it/s]\n",
      "Epoch:   1%|          | 1/129 [00:00<00:17,  7.45it/s]"
     ]
    },
    {
     "name": "stdout",
     "output_type": "stream",
     "text": [
      "\n",
      "Epoch 094 train_loss: 0.9178 val_loss 1.2647 train_acc 0.7302 val_acc 0.6635\n"
     ]
    },
    {
     "name": "stderr",
     "output_type": "stream",
     "text": [
      "Epoch: 100%|██████████| 129/129 [00:17<00:00,  7.26it/s]\n",
      "Epoch:   1%|          | 1/129 [00:00<00:17,  7.35it/s]"
     ]
    },
    {
     "name": "stdout",
     "output_type": "stream",
     "text": [
      "\n",
      "Epoch 095 train_loss: 0.9123 val_loss 1.2697 train_acc 0.7293 val_acc 0.6650\n"
     ]
    },
    {
     "name": "stderr",
     "output_type": "stream",
     "text": [
      "Epoch: 100%|██████████| 129/129 [00:17<00:00,  7.43it/s]\n",
      "Epoch:   1%|          | 1/129 [00:00<00:17,  7.17it/s]"
     ]
    },
    {
     "name": "stdout",
     "output_type": "stream",
     "text": [
      "\n",
      "Epoch 096 train_loss: 0.9100 val_loss 1.2856 train_acc 0.7248 val_acc 0.6617\n"
     ]
    },
    {
     "name": "stderr",
     "output_type": "stream",
     "text": [
      "Epoch: 100%|██████████| 129/129 [00:17<00:00,  7.57it/s]\n",
      "Epoch:   1%|          | 1/129 [00:00<00:16,  7.84it/s]"
     ]
    },
    {
     "name": "stdout",
     "output_type": "stream",
     "text": [
      "\n",
      "Epoch 097 train_loss: 0.9163 val_loss 1.2916 train_acc 0.7303 val_acc 0.6569\n"
     ]
    },
    {
     "name": "stderr",
     "output_type": "stream",
     "text": [
      "Epoch: 100%|██████████| 129/129 [00:18<00:00,  7.09it/s]\n",
      "Epoch:   1%|          | 1/129 [00:00<00:16,  7.88it/s]"
     ]
    },
    {
     "name": "stdout",
     "output_type": "stream",
     "text": [
      "\n",
      "Epoch 098 train_loss: 0.9163 val_loss 1.2689 train_acc 0.7315 val_acc 0.6635\n"
     ]
    },
    {
     "name": "stderr",
     "output_type": "stream",
     "text": [
      "Epoch: 100%|██████████| 129/129 [00:17<00:00,  7.49it/s]\n",
      "Epoch:   1%|          | 1/129 [00:00<00:15,  8.16it/s]"
     ]
    },
    {
     "name": "stdout",
     "output_type": "stream",
     "text": [
      "\n",
      "Epoch 099 train_loss: 0.9123 val_loss 1.2562 train_acc 0.7345 val_acc 0.6672\n"
     ]
    },
    {
     "name": "stderr",
     "output_type": "stream",
     "text": [
      "Epoch: 100%|██████████| 129/129 [00:17<00:00,  7.54it/s]\n"
     ]
    },
    {
     "name": "stdout",
     "output_type": "stream",
     "text": [
      "\n",
      "Epoch 100 train_loss: 0.9188 val_loss 1.2547 train_acc 0.7282 val_acc 0.6675\n"
     ]
    }
   ],
   "source": [
    "optim = torch.optim.SGD(CNN.parameters(), lr=0.00005)\n",
    "criterion = nn.CrossEntropyLoss()\n",
    "\n",
    "history = train(train_dataset, val_dataset, model=CNN,  optim=optim,\n",
    "                criterion=criterion, epochs=100 , batch_size=64, device=DEVICE)"
   ]
  },
  {
   "cell_type": "code",
   "execution_count": 46,
   "metadata": {
    "scrolled": true
   },
   "outputs": [
    {
     "name": "stderr",
     "output_type": "stream",
     "text": [
      "Epoch: 100%|██████████| 129/129 [00:17<00:00,  7.43it/s]\n",
      "Epoch:   1%|          | 1/129 [00:00<00:16,  7.61it/s]"
     ]
    },
    {
     "name": "stdout",
     "output_type": "stream",
     "text": [
      "\n",
      "Epoch 001 train_loss: 0.9022 val_loss 1.2724 train_acc 0.7308 val_acc 0.6606\n"
     ]
    },
    {
     "name": "stderr",
     "output_type": "stream",
     "text": [
      "Epoch: 100%|██████████| 129/129 [00:17<00:00,  7.50it/s]\n",
      "Epoch:   1%|          | 1/129 [00:00<00:16,  7.92it/s]"
     ]
    },
    {
     "name": "stdout",
     "output_type": "stream",
     "text": [
      "\n",
      "Epoch 002 train_loss: 0.9076 val_loss 1.2621 train_acc 0.7276 val_acc 0.6639\n"
     ]
    },
    {
     "name": "stderr",
     "output_type": "stream",
     "text": [
      "Epoch: 100%|██████████| 129/129 [00:17<00:00,  7.44it/s]\n",
      "Epoch:   1%|          | 1/129 [00:00<00:16,  7.78it/s]"
     ]
    },
    {
     "name": "stdout",
     "output_type": "stream",
     "text": [
      "\n",
      "Epoch 003 train_loss: 0.9086 val_loss 1.2647 train_acc 0.7277 val_acc 0.6613\n"
     ]
    },
    {
     "name": "stderr",
     "output_type": "stream",
     "text": [
      "Epoch: 100%|██████████| 129/129 [00:17<00:00,  7.53it/s]\n",
      "Epoch:   1%|          | 1/129 [00:00<00:16,  7.85it/s]"
     ]
    },
    {
     "name": "stdout",
     "output_type": "stream",
     "text": [
      "\n",
      "Epoch 004 train_loss: 0.8979 val_loss 1.2686 train_acc 0.7315 val_acc 0.6639\n"
     ]
    },
    {
     "name": "stderr",
     "output_type": "stream",
     "text": [
      "Epoch: 100%|██████████| 129/129 [00:16<00:00,  7.62it/s]\n",
      "Epoch:   1%|          | 1/129 [00:00<00:15,  8.16it/s]"
     ]
    },
    {
     "name": "stdout",
     "output_type": "stream",
     "text": [
      "\n",
      "Epoch 005 train_loss: 0.8976 val_loss 1.2725 train_acc 0.7364 val_acc 0.6620\n"
     ]
    },
    {
     "name": "stderr",
     "output_type": "stream",
     "text": [
      "Epoch: 100%|██████████| 129/129 [00:17<00:00,  7.57it/s]\n",
      "Epoch:   1%|          | 1/129 [00:00<00:18,  7.05it/s]"
     ]
    },
    {
     "name": "stdout",
     "output_type": "stream",
     "text": [
      "\n",
      "Epoch 006 train_loss: 0.9034 val_loss 1.2635 train_acc 0.7297 val_acc 0.6650\n"
     ]
    },
    {
     "name": "stderr",
     "output_type": "stream",
     "text": [
      "Epoch: 100%|██████████| 129/129 [00:17<00:00,  7.37it/s]\n",
      "Epoch:   1%|          | 1/129 [00:00<00:20,  6.28it/s]"
     ]
    },
    {
     "name": "stdout",
     "output_type": "stream",
     "text": [
      "\n",
      "Epoch 007 train_loss: 0.9118 val_loss 1.2602 train_acc 0.7330 val_acc 0.6646\n"
     ]
    },
    {
     "name": "stderr",
     "output_type": "stream",
     "text": [
      "Epoch: 100%|██████████| 129/129 [00:17<00:00,  7.50it/s]\n",
      "Epoch:   1%|          | 1/129 [00:00<00:16,  7.98it/s]"
     ]
    },
    {
     "name": "stdout",
     "output_type": "stream",
     "text": [
      "\n",
      "Epoch 008 train_loss: 0.9007 val_loss 1.2708 train_acc 0.7309 val_acc 0.6620\n"
     ]
    },
    {
     "name": "stderr",
     "output_type": "stream",
     "text": [
      "Epoch: 100%|██████████| 129/129 [00:17<00:00,  7.35it/s]\n",
      "Epoch:   1%|          | 1/129 [00:00<00:16,  7.54it/s]"
     ]
    },
    {
     "name": "stdout",
     "output_type": "stream",
     "text": [
      "\n",
      "Epoch 009 train_loss: 0.8986 val_loss 1.2714 train_acc 0.7325 val_acc 0.6650\n"
     ]
    },
    {
     "name": "stderr",
     "output_type": "stream",
     "text": [
      "Epoch: 100%|██████████| 129/129 [00:17<00:00,  7.29it/s]\n",
      "Epoch:   1%|          | 1/129 [00:00<00:17,  7.33it/s]"
     ]
    },
    {
     "name": "stdout",
     "output_type": "stream",
     "text": [
      "\n",
      "Epoch 010 train_loss: 0.9014 val_loss 1.2642 train_acc 0.7333 val_acc 0.6617\n"
     ]
    },
    {
     "name": "stderr",
     "output_type": "stream",
     "text": [
      "Epoch: 100%|██████████| 129/129 [00:17<00:00,  7.35it/s]\n",
      "Epoch:   1%|          | 1/129 [00:00<00:17,  7.40it/s]"
     ]
    },
    {
     "name": "stdout",
     "output_type": "stream",
     "text": [
      "\n",
      "Epoch 011 train_loss: 0.9075 val_loss 1.2630 train_acc 0.7337 val_acc 0.6675\n"
     ]
    },
    {
     "name": "stderr",
     "output_type": "stream",
     "text": [
      "Epoch: 100%|██████████| 129/129 [00:17<00:00,  7.23it/s]\n",
      "Epoch:   1%|          | 1/129 [00:00<00:16,  7.90it/s]"
     ]
    },
    {
     "name": "stdout",
     "output_type": "stream",
     "text": [
      "\n",
      "Epoch 012 train_loss: 0.9095 val_loss 1.2599 train_acc 0.7302 val_acc 0.6646\n"
     ]
    },
    {
     "name": "stderr",
     "output_type": "stream",
     "text": [
      "Epoch: 100%|██████████| 129/129 [00:16<00:00,  7.64it/s]\n",
      "Epoch:   1%|          | 1/129 [00:00<00:15,  8.19it/s]"
     ]
    },
    {
     "name": "stdout",
     "output_type": "stream",
     "text": [
      "\n",
      "Epoch 013 train_loss: 0.9021 val_loss 1.2659 train_acc 0.7363 val_acc 0.6599\n"
     ]
    },
    {
     "name": "stderr",
     "output_type": "stream",
     "text": [
      "Epoch: 100%|██████████| 129/129 [00:17<00:00,  7.47it/s]\n",
      "Epoch:   1%|          | 1/129 [00:00<00:18,  7.02it/s]"
     ]
    },
    {
     "name": "stdout",
     "output_type": "stream",
     "text": [
      "\n",
      "Epoch 014 train_loss: 0.9070 val_loss 1.2666 train_acc 0.7300 val_acc 0.6642\n"
     ]
    },
    {
     "name": "stderr",
     "output_type": "stream",
     "text": [
      "Epoch: 100%|██████████| 129/129 [00:17<00:00,  7.48it/s]\n",
      "Epoch:   1%|          | 1/129 [00:00<00:15,  8.15it/s]"
     ]
    },
    {
     "name": "stdout",
     "output_type": "stream",
     "text": [
      "\n",
      "Epoch 015 train_loss: 0.9019 val_loss 1.2616 train_acc 0.7339 val_acc 0.6635\n"
     ]
    },
    {
     "name": "stderr",
     "output_type": "stream",
     "text": [
      "Epoch: 100%|██████████| 129/129 [00:17<00:00,  7.54it/s]\n",
      "Epoch:   1%|          | 1/129 [00:00<00:16,  7.54it/s]"
     ]
    },
    {
     "name": "stdout",
     "output_type": "stream",
     "text": [
      "\n",
      "Epoch 016 train_loss: 0.8914 val_loss 1.2585 train_acc 0.7344 val_acc 0.6672\n"
     ]
    },
    {
     "name": "stderr",
     "output_type": "stream",
     "text": [
      "Epoch: 100%|██████████| 129/129 [00:17<00:00,  7.46it/s]\n",
      "Epoch:   1%|          | 1/129 [00:00<00:16,  7.82it/s]"
     ]
    },
    {
     "name": "stdout",
     "output_type": "stream",
     "text": [
      "\n",
      "Epoch 017 train_loss: 0.9144 val_loss 1.2652 train_acc 0.7331 val_acc 0.6653\n"
     ]
    },
    {
     "name": "stderr",
     "output_type": "stream",
     "text": [
      "Epoch: 100%|██████████| 129/129 [00:17<00:00,  7.28it/s]\n",
      "Epoch:   1%|          | 1/129 [00:00<00:19,  6.41it/s]"
     ]
    },
    {
     "name": "stdout",
     "output_type": "stream",
     "text": [
      "\n",
      "Epoch 018 train_loss: 0.8954 val_loss 1.2595 train_acc 0.7369 val_acc 0.6646\n"
     ]
    },
    {
     "name": "stderr",
     "output_type": "stream",
     "text": [
      "Epoch: 100%|██████████| 129/129 [00:17<00:00,  7.50it/s]\n",
      "Epoch:   1%|          | 1/129 [00:00<00:17,  7.28it/s]"
     ]
    },
    {
     "name": "stdout",
     "output_type": "stream",
     "text": [
      "\n",
      "Epoch 019 train_loss: 0.8880 val_loss 1.2644 train_acc 0.7373 val_acc 0.6682\n"
     ]
    },
    {
     "name": "stderr",
     "output_type": "stream",
     "text": [
      "Epoch: 100%|██████████| 129/129 [00:16<00:00,  7.65it/s]\n",
      "Epoch:   1%|          | 1/129 [00:00<00:16,  7.77it/s]"
     ]
    },
    {
     "name": "stdout",
     "output_type": "stream",
     "text": [
      "\n",
      "Epoch 020 train_loss: 0.9025 val_loss 1.2632 train_acc 0.7335 val_acc 0.6657\n"
     ]
    },
    {
     "name": "stderr",
     "output_type": "stream",
     "text": [
      "Epoch: 100%|██████████| 129/129 [00:17<00:00,  7.40it/s]\n",
      "Epoch:   1%|          | 1/129 [00:00<00:16,  8.00it/s]"
     ]
    },
    {
     "name": "stdout",
     "output_type": "stream",
     "text": [
      "\n",
      "Epoch 021 train_loss: 0.8985 val_loss 1.2677 train_acc 0.7277 val_acc 0.6609\n"
     ]
    },
    {
     "name": "stderr",
     "output_type": "stream",
     "text": [
      "Epoch: 100%|██████████| 129/129 [00:17<00:00,  7.46it/s]\n",
      "Epoch:   1%|          | 1/129 [00:00<00:16,  7.74it/s]"
     ]
    },
    {
     "name": "stdout",
     "output_type": "stream",
     "text": [
      "\n",
      "Epoch 022 train_loss: 0.8981 val_loss 1.2643 train_acc 0.7361 val_acc 0.6631\n"
     ]
    },
    {
     "name": "stderr",
     "output_type": "stream",
     "text": [
      "Epoch: 100%|██████████| 129/129 [00:17<00:00,  7.57it/s]\n",
      "Epoch:   1%|          | 1/129 [00:00<00:16,  7.79it/s]"
     ]
    },
    {
     "name": "stdout",
     "output_type": "stream",
     "text": [
      "\n",
      "Epoch 023 train_loss: 0.9019 val_loss 1.2630 train_acc 0.7328 val_acc 0.6639\n"
     ]
    },
    {
     "name": "stderr",
     "output_type": "stream",
     "text": [
      "Epoch: 100%|██████████| 129/129 [00:18<00:00,  7.15it/s]\n",
      "Epoch:   1%|          | 1/129 [00:00<00:16,  7.93it/s]"
     ]
    },
    {
     "name": "stdout",
     "output_type": "stream",
     "text": [
      "\n",
      "Epoch 024 train_loss: 0.8922 val_loss 1.2666 train_acc 0.7395 val_acc 0.6653\n"
     ]
    },
    {
     "name": "stderr",
     "output_type": "stream",
     "text": [
      "Epoch: 100%|██████████| 129/129 [00:17<00:00,  7.40it/s]\n",
      "Epoch:   1%|          | 1/129 [00:00<00:15,  8.16it/s]"
     ]
    },
    {
     "name": "stdout",
     "output_type": "stream",
     "text": [
      "\n",
      "Epoch 025 train_loss: 0.8892 val_loss 1.2654 train_acc 0.7393 val_acc 0.6650\n"
     ]
    },
    {
     "name": "stderr",
     "output_type": "stream",
     "text": [
      "Epoch: 100%|██████████| 129/129 [00:17<00:00,  7.59it/s]\n",
      "Epoch:   1%|          | 1/129 [00:00<00:15,  8.11it/s]"
     ]
    },
    {
     "name": "stdout",
     "output_type": "stream",
     "text": [
      "\n",
      "Epoch 026 train_loss: 0.8990 val_loss 1.2659 train_acc 0.7336 val_acc 0.6661\n"
     ]
    },
    {
     "name": "stderr",
     "output_type": "stream",
     "text": [
      "Epoch: 100%|██████████| 129/129 [00:17<00:00,  7.42it/s]\n",
      "Epoch:   1%|          | 1/129 [00:00<00:16,  7.63it/s]"
     ]
    },
    {
     "name": "stdout",
     "output_type": "stream",
     "text": [
      "\n",
      "Epoch 027 train_loss: 0.9019 val_loss 1.2682 train_acc 0.7338 val_acc 0.6653\n"
     ]
    },
    {
     "name": "stderr",
     "output_type": "stream",
     "text": [
      "Epoch: 100%|██████████| 129/129 [00:17<00:00,  7.41it/s]\n",
      "Epoch:   1%|          | 1/129 [00:00<00:17,  7.27it/s]"
     ]
    },
    {
     "name": "stdout",
     "output_type": "stream",
     "text": [
      "\n",
      "Epoch 028 train_loss: 0.8984 val_loss 1.2680 train_acc 0.7337 val_acc 0.6661\n"
     ]
    },
    {
     "name": "stderr",
     "output_type": "stream",
     "text": [
      "Epoch: 100%|██████████| 129/129 [00:18<00:00,  7.05it/s]\n",
      "Epoch:   1%|          | 1/129 [00:00<00:19,  6.64it/s]"
     ]
    },
    {
     "name": "stdout",
     "output_type": "stream",
     "text": [
      "\n",
      "Epoch 029 train_loss: 0.9016 val_loss 1.2643 train_acc 0.7337 val_acc 0.6635\n"
     ]
    },
    {
     "name": "stderr",
     "output_type": "stream",
     "text": [
      "Epoch: 100%|██████████| 129/129 [00:16<00:00,  7.63it/s]\n",
      "Epoch:   1%|          | 1/129 [00:00<00:16,  7.74it/s]"
     ]
    },
    {
     "name": "stdout",
     "output_type": "stream",
     "text": [
      "\n",
      "Epoch 030 train_loss: 0.8878 val_loss 1.2687 train_acc 0.7363 val_acc 0.6646\n"
     ]
    },
    {
     "name": "stderr",
     "output_type": "stream",
     "text": [
      "Epoch: 100%|██████████| 129/129 [00:16<00:00,  7.70it/s]\n",
      "Epoch:   1%|          | 1/129 [00:00<00:19,  6.60it/s]"
     ]
    },
    {
     "name": "stdout",
     "output_type": "stream",
     "text": [
      "\n",
      "Epoch 031 train_loss: 0.8974 val_loss 1.2643 train_acc 0.7353 val_acc 0.6620\n"
     ]
    },
    {
     "name": "stderr",
     "output_type": "stream",
     "text": [
      "Epoch: 100%|██████████| 129/129 [00:18<00:00,  7.08it/s]\n",
      "Epoch:   1%|          | 1/129 [00:00<00:16,  7.85it/s]"
     ]
    },
    {
     "name": "stdout",
     "output_type": "stream",
     "text": [
      "\n",
      "Epoch 032 train_loss: 0.9056 val_loss 1.2625 train_acc 0.7297 val_acc 0.6599\n"
     ]
    },
    {
     "name": "stderr",
     "output_type": "stream",
     "text": [
      "Epoch: 100%|██████████| 129/129 [00:18<00:00,  7.13it/s]\n",
      "Epoch:   1%|          | 1/129 [00:00<00:16,  7.86it/s]"
     ]
    },
    {
     "name": "stdout",
     "output_type": "stream",
     "text": [
      "\n",
      "Epoch 033 train_loss: 0.9026 val_loss 1.2605 train_acc 0.7311 val_acc 0.6661\n"
     ]
    },
    {
     "name": "stderr",
     "output_type": "stream",
     "text": [
      "Epoch: 100%|██████████| 129/129 [00:17<00:00,  7.25it/s]\n",
      "Epoch:   1%|          | 1/129 [00:00<00:19,  6.67it/s]"
     ]
    },
    {
     "name": "stdout",
     "output_type": "stream",
     "text": [
      "\n",
      "Epoch 034 train_loss: 0.8925 val_loss 1.2654 train_acc 0.7331 val_acc 0.6620\n"
     ]
    },
    {
     "name": "stderr",
     "output_type": "stream",
     "text": [
      "Epoch: 100%|██████████| 129/129 [00:20<00:00,  6.30it/s]\n",
      "Epoch:   1%|          | 1/129 [00:00<00:16,  7.62it/s]"
     ]
    },
    {
     "name": "stdout",
     "output_type": "stream",
     "text": [
      "\n",
      "Epoch 035 train_loss: 0.8895 val_loss 1.2641 train_acc 0.7314 val_acc 0.6650\n"
     ]
    },
    {
     "name": "stderr",
     "output_type": "stream",
     "text": [
      "Epoch: 100%|██████████| 129/129 [00:18<00:00,  7.04it/s]\n",
      "Epoch:   1%|          | 1/129 [00:00<00:18,  6.87it/s]"
     ]
    },
    {
     "name": "stdout",
     "output_type": "stream",
     "text": [
      "\n",
      "Epoch 036 train_loss: 0.9116 val_loss 1.2630 train_acc 0.7290 val_acc 0.6661\n"
     ]
    },
    {
     "name": "stderr",
     "output_type": "stream",
     "text": [
      "Epoch: 100%|██████████| 129/129 [00:18<00:00,  7.09it/s]\n",
      "Epoch:   1%|          | 1/129 [00:00<00:17,  7.15it/s]"
     ]
    },
    {
     "name": "stdout",
     "output_type": "stream",
     "text": [
      "\n",
      "Epoch 037 train_loss: 0.8999 val_loss 1.2645 train_acc 0.7319 val_acc 0.6617\n"
     ]
    },
    {
     "name": "stderr",
     "output_type": "stream",
     "text": [
      "Epoch: 100%|██████████| 129/129 [00:17<00:00,  7.36it/s]\n",
      "Epoch:   1%|          | 1/129 [00:00<00:17,  7.23it/s]"
     ]
    },
    {
     "name": "stdout",
     "output_type": "stream",
     "text": [
      "\n",
      "Epoch 038 train_loss: 0.8863 val_loss 1.2631 train_acc 0.7398 val_acc 0.6646\n"
     ]
    },
    {
     "name": "stderr",
     "output_type": "stream",
     "text": [
      "Epoch: 100%|██████████| 129/129 [00:17<00:00,  7.40it/s]\n",
      "Epoch:   1%|          | 1/129 [00:00<00:17,  7.13it/s]"
     ]
    },
    {
     "name": "stdout",
     "output_type": "stream",
     "text": [
      "\n",
      "Epoch 039 train_loss: 0.8936 val_loss 1.2582 train_acc 0.7360 val_acc 0.6661\n"
     ]
    },
    {
     "name": "stderr",
     "output_type": "stream",
     "text": [
      "Epoch: 100%|██████████| 129/129 [00:17<00:00,  7.37it/s]\n",
      "Epoch:   1%|          | 1/129 [00:00<00:15,  8.13it/s]"
     ]
    },
    {
     "name": "stdout",
     "output_type": "stream",
     "text": [
      "\n",
      "Epoch 040 train_loss: 0.8969 val_loss 1.2659 train_acc 0.7372 val_acc 0.6653\n"
     ]
    },
    {
     "name": "stderr",
     "output_type": "stream",
     "text": [
      "Epoch: 100%|██████████| 129/129 [00:17<00:00,  7.44it/s]\n",
      "Epoch:   1%|          | 1/129 [00:00<00:17,  7.29it/s]"
     ]
    },
    {
     "name": "stdout",
     "output_type": "stream",
     "text": [
      "\n",
      "Epoch 041 train_loss: 0.9029 val_loss 1.2665 train_acc 0.7303 val_acc 0.6664\n"
     ]
    },
    {
     "name": "stderr",
     "output_type": "stream",
     "text": [
      "Epoch: 100%|██████████| 129/129 [00:18<00:00,  6.97it/s]\n",
      "Epoch:   1%|          | 1/129 [00:00<00:16,  7.54it/s]"
     ]
    },
    {
     "name": "stdout",
     "output_type": "stream",
     "text": [
      "\n",
      "Epoch 042 train_loss: 0.8924 val_loss 1.2601 train_acc 0.7348 val_acc 0.6653\n"
     ]
    },
    {
     "name": "stderr",
     "output_type": "stream",
     "text": [
      "Epoch: 100%|██████████| 129/129 [00:17<00:00,  7.42it/s]\n",
      "Epoch:   1%|          | 1/129 [00:00<00:17,  7.36it/s]"
     ]
    },
    {
     "name": "stdout",
     "output_type": "stream",
     "text": [
      "\n",
      "Epoch 043 train_loss: 0.8941 val_loss 1.2619 train_acc 0.7342 val_acc 0.6661\n"
     ]
    },
    {
     "name": "stderr",
     "output_type": "stream",
     "text": [
      "Epoch: 100%|██████████| 129/129 [00:19<00:00,  6.51it/s]\n",
      "Epoch:   1%|          | 1/129 [00:00<00:18,  7.10it/s]"
     ]
    },
    {
     "name": "stdout",
     "output_type": "stream",
     "text": [
      "\n",
      "Epoch 044 train_loss: 0.8922 val_loss 1.2708 train_acc 0.7363 val_acc 0.6642\n"
     ]
    },
    {
     "name": "stderr",
     "output_type": "stream",
     "text": [
      "Epoch: 100%|██████████| 129/129 [00:17<00:00,  7.17it/s]\n",
      "Epoch:   1%|          | 1/129 [00:00<00:18,  6.95it/s]"
     ]
    },
    {
     "name": "stdout",
     "output_type": "stream",
     "text": [
      "\n",
      "Epoch 045 train_loss: 0.8932 val_loss 1.2644 train_acc 0.7383 val_acc 0.6664\n"
     ]
    },
    {
     "name": "stderr",
     "output_type": "stream",
     "text": [
      "Epoch: 100%|██████████| 129/129 [00:17<00:00,  7.36it/s]\n",
      "Epoch:   1%|          | 1/129 [00:00<00:17,  7.22it/s]"
     ]
    },
    {
     "name": "stdout",
     "output_type": "stream",
     "text": [
      "\n",
      "Epoch 046 train_loss: 0.8937 val_loss 1.2633 train_acc 0.7348 val_acc 0.6653\n"
     ]
    },
    {
     "name": "stderr",
     "output_type": "stream",
     "text": [
      "Epoch: 100%|██████████| 129/129 [00:17<00:00,  7.44it/s]\n",
      "Epoch:   1%|          | 1/129 [00:00<00:16,  7.75it/s]"
     ]
    },
    {
     "name": "stdout",
     "output_type": "stream",
     "text": [
      "\n",
      "Epoch 047 train_loss: 0.8894 val_loss 1.2617 train_acc 0.7299 val_acc 0.6672\n"
     ]
    },
    {
     "name": "stderr",
     "output_type": "stream",
     "text": [
      "Epoch: 100%|██████████| 129/129 [00:17<00:00,  7.45it/s]\n",
      "Epoch:   1%|          | 1/129 [00:00<00:20,  6.13it/s]"
     ]
    },
    {
     "name": "stdout",
     "output_type": "stream",
     "text": [
      "\n",
      "Epoch 048 train_loss: 0.8877 val_loss 1.2661 train_acc 0.7358 val_acc 0.6635\n"
     ]
    },
    {
     "name": "stderr",
     "output_type": "stream",
     "text": [
      "Epoch: 100%|██████████| 129/129 [00:17<00:00,  7.32it/s]\n",
      "Epoch:   1%|          | 1/129 [00:00<00:16,  7.92it/s]"
     ]
    },
    {
     "name": "stdout",
     "output_type": "stream",
     "text": [
      "\n",
      "Epoch 049 train_loss: 0.8898 val_loss 1.2661 train_acc 0.7370 val_acc 0.6675\n"
     ]
    },
    {
     "name": "stderr",
     "output_type": "stream",
     "text": [
      "Epoch: 100%|██████████| 129/129 [00:17<00:00,  7.53it/s]\n",
      "Epoch:   1%|          | 1/129 [00:00<00:16,  7.96it/s]"
     ]
    },
    {
     "name": "stdout",
     "output_type": "stream",
     "text": [
      "\n",
      "Epoch 050 train_loss: 0.8879 val_loss 1.2625 train_acc 0.7375 val_acc 0.6631\n"
     ]
    },
    {
     "name": "stderr",
     "output_type": "stream",
     "text": [
      "Epoch: 100%|██████████| 129/129 [00:17<00:00,  7.56it/s]\n",
      "Epoch:   1%|          | 1/129 [00:00<00:16,  7.59it/s]"
     ]
    },
    {
     "name": "stdout",
     "output_type": "stream",
     "text": [
      "\n",
      "Epoch 051 train_loss: 0.9006 val_loss 1.2609 train_acc 0.7281 val_acc 0.6679\n"
     ]
    },
    {
     "name": "stderr",
     "output_type": "stream",
     "text": [
      "Epoch: 100%|██████████| 129/129 [00:18<00:00,  7.14it/s]\n",
      "Epoch:   1%|          | 1/129 [00:00<00:15,  8.07it/s]"
     ]
    },
    {
     "name": "stdout",
     "output_type": "stream",
     "text": [
      "\n",
      "Epoch 052 train_loss: 0.8905 val_loss 1.2636 train_acc 0.7371 val_acc 0.6650\n"
     ]
    },
    {
     "name": "stderr",
     "output_type": "stream",
     "text": [
      "Epoch: 100%|██████████| 129/129 [00:18<00:00,  7.12it/s]\n",
      "Epoch:   1%|          | 1/129 [00:00<00:17,  7.28it/s]"
     ]
    },
    {
     "name": "stdout",
     "output_type": "stream",
     "text": [
      "\n",
      "Epoch 053 train_loss: 0.9035 val_loss 1.2575 train_acc 0.7335 val_acc 0.6672\n"
     ]
    },
    {
     "name": "stderr",
     "output_type": "stream",
     "text": [
      "Epoch: 100%|██████████| 129/129 [00:17<00:00,  7.31it/s]\n",
      "Epoch:   1%|          | 1/129 [00:00<00:17,  7.30it/s]"
     ]
    },
    {
     "name": "stdout",
     "output_type": "stream",
     "text": [
      "\n",
      "Epoch 054 train_loss: 0.8953 val_loss 1.2597 train_acc 0.7339 val_acc 0.6661\n"
     ]
    },
    {
     "name": "stderr",
     "output_type": "stream",
     "text": [
      "Epoch: 100%|██████████| 129/129 [00:17<00:00,  7.18it/s]\n",
      "Epoch:   1%|          | 1/129 [00:00<00:17,  7.52it/s]"
     ]
    },
    {
     "name": "stdout",
     "output_type": "stream",
     "text": [
      "\n",
      "Epoch 055 train_loss: 0.8962 val_loss 1.2653 train_acc 0.7342 val_acc 0.6682\n"
     ]
    },
    {
     "name": "stderr",
     "output_type": "stream",
     "text": [
      "Epoch: 100%|██████████| 129/129 [00:18<00:00,  7.01it/s]\n",
      "Epoch:   1%|          | 1/129 [00:00<00:19,  6.56it/s]"
     ]
    },
    {
     "name": "stdout",
     "output_type": "stream",
     "text": [
      "\n",
      "Epoch 056 train_loss: 0.8895 val_loss 1.2677 train_acc 0.7365 val_acc 0.6661\n"
     ]
    },
    {
     "name": "stderr",
     "output_type": "stream",
     "text": [
      "Epoch: 100%|██████████| 129/129 [00:17<00:00,  7.34it/s]\n",
      "Epoch:   1%|          | 1/129 [00:00<00:16,  7.77it/s]"
     ]
    },
    {
     "name": "stdout",
     "output_type": "stream",
     "text": [
      "\n",
      "Epoch 057 train_loss: 0.8853 val_loss 1.2654 train_acc 0.7319 val_acc 0.6668\n"
     ]
    },
    {
     "name": "stderr",
     "output_type": "stream",
     "text": [
      "Epoch: 100%|██████████| 129/129 [00:18<00:00,  7.06it/s]\n",
      "Epoch:   1%|          | 1/129 [00:00<00:17,  7.32it/s]"
     ]
    },
    {
     "name": "stdout",
     "output_type": "stream",
     "text": [
      "\n",
      "Epoch 058 train_loss: 0.8860 val_loss 1.2613 train_acc 0.7392 val_acc 0.6675\n"
     ]
    },
    {
     "name": "stderr",
     "output_type": "stream",
     "text": [
      "Epoch: 100%|██████████| 129/129 [00:17<00:00,  7.40it/s]\n",
      "Epoch:   1%|          | 1/129 [00:00<00:16,  7.71it/s]"
     ]
    },
    {
     "name": "stdout",
     "output_type": "stream",
     "text": [
      "\n",
      "Epoch 059 train_loss: 0.8984 val_loss 1.2630 train_acc 0.7371 val_acc 0.6686\n"
     ]
    },
    {
     "name": "stderr",
     "output_type": "stream",
     "text": [
      "Epoch: 100%|██████████| 129/129 [00:18<00:00,  7.07it/s]\n",
      "Epoch:   1%|          | 1/129 [00:00<00:17,  7.33it/s]"
     ]
    },
    {
     "name": "stdout",
     "output_type": "stream",
     "text": [
      "\n",
      "Epoch 060 train_loss: 0.8977 val_loss 1.2611 train_acc 0.7316 val_acc 0.6675\n"
     ]
    },
    {
     "name": "stderr",
     "output_type": "stream",
     "text": [
      "Epoch: 100%|██████████| 129/129 [00:17<00:00,  7.33it/s]\n",
      "Epoch:   1%|          | 1/129 [00:00<00:16,  7.97it/s]"
     ]
    },
    {
     "name": "stdout",
     "output_type": "stream",
     "text": [
      "\n",
      "Epoch 061 train_loss: 0.8908 val_loss 1.2697 train_acc 0.7371 val_acc 0.6642\n"
     ]
    },
    {
     "name": "stderr",
     "output_type": "stream",
     "text": [
      "Epoch: 100%|██████████| 129/129 [00:16<00:00,  7.65it/s]\n",
      "Epoch:   1%|          | 1/129 [00:00<00:15,  8.06it/s]"
     ]
    },
    {
     "name": "stdout",
     "output_type": "stream",
     "text": [
      "\n",
      "Epoch 062 train_loss: 0.8916 val_loss 1.2641 train_acc 0.7328 val_acc 0.6657\n"
     ]
    },
    {
     "name": "stderr",
     "output_type": "stream",
     "text": [
      "Epoch: 100%|██████████| 129/129 [00:17<00:00,  7.45it/s]\n",
      "Epoch:   1%|          | 1/129 [00:00<00:16,  7.80it/s]"
     ]
    },
    {
     "name": "stdout",
     "output_type": "stream",
     "text": [
      "\n",
      "Epoch 063 train_loss: 0.8877 val_loss 1.2618 train_acc 0.7417 val_acc 0.6653\n"
     ]
    },
    {
     "name": "stderr",
     "output_type": "stream",
     "text": [
      "Epoch: 100%|██████████| 129/129 [00:16<00:00,  7.59it/s]\n",
      "Epoch:   1%|          | 1/129 [00:00<00:19,  6.48it/s]"
     ]
    },
    {
     "name": "stdout",
     "output_type": "stream",
     "text": [
      "\n",
      "Epoch 064 train_loss: 0.8932 val_loss 1.2751 train_acc 0.7310 val_acc 0.6591\n"
     ]
    },
    {
     "name": "stderr",
     "output_type": "stream",
     "text": [
      "Epoch: 100%|██████████| 129/129 [00:17<00:00,  7.46it/s]\n",
      "Epoch:   1%|          | 1/129 [00:00<00:16,  7.89it/s]"
     ]
    },
    {
     "name": "stdout",
     "output_type": "stream",
     "text": [
      "\n",
      "Epoch 065 train_loss: 0.8985 val_loss 1.2596 train_acc 0.7360 val_acc 0.6664\n"
     ]
    },
    {
     "name": "stderr",
     "output_type": "stream",
     "text": [
      "Epoch: 100%|██████████| 129/129 [00:17<00:00,  7.44it/s]\n",
      "Epoch:   1%|          | 1/129 [00:00<00:16,  7.82it/s]"
     ]
    },
    {
     "name": "stdout",
     "output_type": "stream",
     "text": [
      "\n",
      "Epoch 066 train_loss: 0.8903 val_loss 1.2709 train_acc 0.7315 val_acc 0.6631\n"
     ]
    },
    {
     "name": "stderr",
     "output_type": "stream",
     "text": [
      "Epoch: 100%|██████████| 129/129 [00:17<00:00,  7.41it/s]\n",
      "Epoch:   1%|          | 1/129 [00:00<00:17,  7.17it/s]"
     ]
    },
    {
     "name": "stdout",
     "output_type": "stream",
     "text": [
      "\n",
      "Epoch 067 train_loss: 0.8919 val_loss 1.2650 train_acc 0.7330 val_acc 0.6672\n"
     ]
    },
    {
     "name": "stderr",
     "output_type": "stream",
     "text": [
      "Epoch: 100%|██████████| 129/129 [00:17<00:00,  7.37it/s]\n",
      "Epoch:   1%|          | 1/129 [00:00<00:17,  7.26it/s]"
     ]
    },
    {
     "name": "stdout",
     "output_type": "stream",
     "text": [
      "\n",
      "Epoch 068 train_loss: 0.8886 val_loss 1.2630 train_acc 0.7342 val_acc 0.6653\n"
     ]
    },
    {
     "name": "stderr",
     "output_type": "stream",
     "text": [
      "Epoch: 100%|██████████| 129/129 [00:17<00:00,  7.37it/s]\n",
      "Epoch:   1%|          | 1/129 [00:00<00:17,  7.38it/s]"
     ]
    },
    {
     "name": "stdout",
     "output_type": "stream",
     "text": [
      "\n",
      "Epoch 069 train_loss: 0.8954 val_loss 1.2693 train_acc 0.7330 val_acc 0.6672\n"
     ]
    },
    {
     "name": "stderr",
     "output_type": "stream",
     "text": [
      "Epoch: 100%|██████████| 129/129 [00:19<00:00,  6.76it/s]\n",
      "Epoch:   1%|          | 1/129 [00:00<00:16,  7.97it/s]"
     ]
    },
    {
     "name": "stdout",
     "output_type": "stream",
     "text": [
      "\n",
      "Epoch 070 train_loss: 0.8903 val_loss 1.2640 train_acc 0.7305 val_acc 0.6646\n"
     ]
    },
    {
     "name": "stderr",
     "output_type": "stream",
     "text": [
      "Epoch: 100%|██████████| 129/129 [00:17<00:00,  7.24it/s]\n",
      "Epoch:   1%|          | 1/129 [00:00<00:16,  7.62it/s]"
     ]
    },
    {
     "name": "stdout",
     "output_type": "stream",
     "text": [
      "\n",
      "Epoch 071 train_loss: 0.8930 val_loss 1.2684 train_acc 0.7320 val_acc 0.6682\n"
     ]
    },
    {
     "name": "stderr",
     "output_type": "stream",
     "text": [
      "Epoch: 100%|██████████| 129/129 [00:17<00:00,  7.40it/s]\n",
      "Epoch:   1%|          | 1/129 [00:00<00:18,  6.97it/s]"
     ]
    },
    {
     "name": "stdout",
     "output_type": "stream",
     "text": [
      "\n",
      "Epoch 072 train_loss: 0.8775 val_loss 1.2594 train_acc 0.7383 val_acc 0.6686\n"
     ]
    },
    {
     "name": "stderr",
     "output_type": "stream",
     "text": [
      "Epoch: 100%|██████████| 129/129 [00:17<00:00,  7.19it/s]\n",
      "Epoch:   1%|          | 1/129 [00:00<00:16,  7.72it/s]"
     ]
    },
    {
     "name": "stdout",
     "output_type": "stream",
     "text": [
      "\n",
      "Epoch 073 train_loss: 0.8775 val_loss 1.2595 train_acc 0.7387 val_acc 0.6675\n"
     ]
    },
    {
     "name": "stderr",
     "output_type": "stream",
     "text": [
      "Epoch: 100%|██████████| 129/129 [00:18<00:00,  6.93it/s]\n",
      "Epoch:   1%|          | 1/129 [00:00<00:17,  7.51it/s]"
     ]
    },
    {
     "name": "stdout",
     "output_type": "stream",
     "text": [
      "\n",
      "Epoch 074 train_loss: 0.8863 val_loss 1.2537 train_acc 0.7370 val_acc 0.6723\n"
     ]
    },
    {
     "name": "stderr",
     "output_type": "stream",
     "text": [
      "Epoch: 100%|██████████| 129/129 [00:17<00:00,  7.19it/s]\n",
      "Epoch:   1%|          | 1/129 [00:00<00:16,  7.86it/s]"
     ]
    },
    {
     "name": "stdout",
     "output_type": "stream",
     "text": [
      "\n",
      "Epoch 075 train_loss: 0.8881 val_loss 1.2620 train_acc 0.7333 val_acc 0.6672\n"
     ]
    },
    {
     "name": "stderr",
     "output_type": "stream",
     "text": [
      "Epoch: 100%|██████████| 129/129 [00:16<00:00,  7.64it/s]\n",
      "Epoch:   1%|          | 1/129 [00:00<00:15,  8.11it/s]"
     ]
    },
    {
     "name": "stdout",
     "output_type": "stream",
     "text": [
      "\n",
      "Epoch 076 train_loss: 0.8789 val_loss 1.2659 train_acc 0.7364 val_acc 0.6650\n"
     ]
    },
    {
     "name": "stderr",
     "output_type": "stream",
     "text": [
      "Epoch: 100%|██████████| 129/129 [00:17<00:00,  7.40it/s]\n",
      "Epoch:   1%|          | 1/129 [00:00<00:16,  7.87it/s]"
     ]
    },
    {
     "name": "stdout",
     "output_type": "stream",
     "text": [
      "\n",
      "Epoch 077 train_loss: 0.8832 val_loss 1.2596 train_acc 0.7364 val_acc 0.6690\n"
     ]
    },
    {
     "name": "stderr",
     "output_type": "stream",
     "text": [
      "Epoch: 100%|██████████| 129/129 [00:16<00:00,  7.63it/s]\n",
      "Epoch:   1%|          | 1/129 [00:00<00:16,  7.86it/s]"
     ]
    },
    {
     "name": "stdout",
     "output_type": "stream",
     "text": [
      "\n",
      "Epoch 078 train_loss: 0.8868 val_loss 1.2599 train_acc 0.7307 val_acc 0.6715\n"
     ]
    },
    {
     "name": "stderr",
     "output_type": "stream",
     "text": [
      "Epoch: 100%|██████████| 129/129 [00:16<00:00,  7.65it/s]\n",
      "Epoch:   1%|          | 1/129 [00:00<00:16,  7.75it/s]"
     ]
    },
    {
     "name": "stdout",
     "output_type": "stream",
     "text": [
      "\n",
      "Epoch 079 train_loss: 0.8906 val_loss 1.2596 train_acc 0.7392 val_acc 0.6690\n"
     ]
    },
    {
     "name": "stderr",
     "output_type": "stream",
     "text": [
      "Epoch: 100%|██████████| 129/129 [00:17<00:00,  7.38it/s]\n",
      "Epoch:   1%|          | 1/129 [00:00<00:16,  7.86it/s]"
     ]
    },
    {
     "name": "stdout",
     "output_type": "stream",
     "text": [
      "\n",
      "Epoch 080 train_loss: 0.8778 val_loss 1.2646 train_acc 0.7444 val_acc 0.6672\n"
     ]
    },
    {
     "name": "stderr",
     "output_type": "stream",
     "text": [
      "Epoch: 100%|██████████| 129/129 [00:16<00:00,  7.71it/s]\n",
      "Epoch:   1%|          | 1/129 [00:00<00:16,  7.96it/s]"
     ]
    },
    {
     "name": "stdout",
     "output_type": "stream",
     "text": [
      "\n",
      "Epoch 081 train_loss: 0.8807 val_loss 1.2627 train_acc 0.7400 val_acc 0.6679\n"
     ]
    },
    {
     "name": "stderr",
     "output_type": "stream",
     "text": [
      "Epoch: 100%|██████████| 129/129 [00:16<00:00,  7.59it/s]\n",
      "Epoch:   1%|          | 1/129 [00:00<00:17,  7.15it/s]"
     ]
    },
    {
     "name": "stdout",
     "output_type": "stream",
     "text": [
      "\n",
      "Epoch 082 train_loss: 0.8887 val_loss 1.2581 train_acc 0.7394 val_acc 0.6668\n"
     ]
    },
    {
     "name": "stderr",
     "output_type": "stream",
     "text": [
      "Epoch: 100%|██████████| 129/129 [00:17<00:00,  7.45it/s]\n",
      "Epoch:   1%|          | 1/129 [00:00<00:16,  7.73it/s]"
     ]
    },
    {
     "name": "stdout",
     "output_type": "stream",
     "text": [
      "\n",
      "Epoch 083 train_loss: 0.8889 val_loss 1.2669 train_acc 0.7326 val_acc 0.6701\n"
     ]
    },
    {
     "name": "stderr",
     "output_type": "stream",
     "text": [
      "Epoch: 100%|██████████| 129/129 [00:17<00:00,  7.49it/s]\n",
      "Epoch:   1%|          | 1/129 [00:00<00:16,  7.91it/s]"
     ]
    },
    {
     "name": "stdout",
     "output_type": "stream",
     "text": [
      "\n",
      "Epoch 084 train_loss: 0.8838 val_loss 1.2599 train_acc 0.7298 val_acc 0.6719\n"
     ]
    },
    {
     "name": "stderr",
     "output_type": "stream",
     "text": [
      "Epoch: 100%|██████████| 129/129 [00:17<00:00,  7.24it/s]\n",
      "Epoch:   1%|          | 1/129 [00:00<00:17,  7.28it/s]"
     ]
    },
    {
     "name": "stdout",
     "output_type": "stream",
     "text": [
      "\n",
      "Epoch 085 train_loss: 0.8827 val_loss 1.2675 train_acc 0.7361 val_acc 0.6646\n"
     ]
    },
    {
     "name": "stderr",
     "output_type": "stream",
     "text": [
      "Epoch: 100%|██████████| 129/129 [00:17<00:00,  7.35it/s]\n",
      "Epoch:   1%|          | 1/129 [00:00<00:16,  7.75it/s]"
     ]
    },
    {
     "name": "stdout",
     "output_type": "stream",
     "text": [
      "\n",
      "Epoch 086 train_loss: 0.8854 val_loss 1.2623 train_acc 0.7356 val_acc 0.6686\n"
     ]
    },
    {
     "name": "stderr",
     "output_type": "stream",
     "text": [
      "Epoch: 100%|██████████| 129/129 [00:17<00:00,  7.47it/s]\n",
      "Epoch:   1%|          | 1/129 [00:00<00:19,  6.54it/s]"
     ]
    },
    {
     "name": "stdout",
     "output_type": "stream",
     "text": [
      "\n",
      "Epoch 087 train_loss: 0.8789 val_loss 1.2631 train_acc 0.7393 val_acc 0.6704\n"
     ]
    },
    {
     "name": "stderr",
     "output_type": "stream",
     "text": [
      "Epoch: 100%|██████████| 129/129 [00:17<00:00,  7.24it/s]\n",
      "Epoch:   1%|          | 1/129 [00:00<00:17,  7.50it/s]"
     ]
    },
    {
     "name": "stdout",
     "output_type": "stream",
     "text": [
      "\n",
      "Epoch 088 train_loss: 0.8821 val_loss 1.2573 train_acc 0.7360 val_acc 0.6701\n"
     ]
    },
    {
     "name": "stderr",
     "output_type": "stream",
     "text": [
      "Epoch: 100%|██████████| 129/129 [00:18<00:00,  6.99it/s]\n",
      "Epoch:   1%|          | 1/129 [00:00<00:16,  7.77it/s]"
     ]
    },
    {
     "name": "stdout",
     "output_type": "stream",
     "text": [
      "\n",
      "Epoch 089 train_loss: 0.8864 val_loss 1.2635 train_acc 0.7365 val_acc 0.6653\n"
     ]
    },
    {
     "name": "stderr",
     "output_type": "stream",
     "text": [
      "Epoch: 100%|██████████| 129/129 [00:17<00:00,  7.47it/s]\n",
      "Epoch:   1%|          | 1/129 [00:00<00:17,  7.14it/s]"
     ]
    },
    {
     "name": "stdout",
     "output_type": "stream",
     "text": [
      "\n",
      "Epoch 090 train_loss: 0.8771 val_loss 1.2585 train_acc 0.7345 val_acc 0.6672\n"
     ]
    },
    {
     "name": "stderr",
     "output_type": "stream",
     "text": [
      "Epoch: 100%|██████████| 129/129 [00:17<00:00,  7.17it/s]\n",
      "Epoch:   1%|          | 1/129 [00:00<00:18,  6.74it/s]"
     ]
    },
    {
     "name": "stdout",
     "output_type": "stream",
     "text": [
      "\n",
      "Epoch 091 train_loss: 0.8825 val_loss 1.2559 train_acc 0.7399 val_acc 0.6690\n"
     ]
    },
    {
     "name": "stderr",
     "output_type": "stream",
     "text": [
      "Epoch: 100%|██████████| 129/129 [00:17<00:00,  7.55it/s]\n",
      "Epoch:   1%|          | 1/129 [00:00<00:17,  7.32it/s]"
     ]
    },
    {
     "name": "stdout",
     "output_type": "stream",
     "text": [
      "\n",
      "Epoch 092 train_loss: 0.8893 val_loss 1.2617 train_acc 0.7333 val_acc 0.6675\n"
     ]
    },
    {
     "name": "stderr",
     "output_type": "stream",
     "text": [
      "Epoch: 100%|██████████| 129/129 [00:17<00:00,  7.26it/s]\n",
      "Epoch:   1%|          | 1/129 [00:00<00:16,  7.57it/s]"
     ]
    },
    {
     "name": "stdout",
     "output_type": "stream",
     "text": [
      "\n",
      "Epoch 093 train_loss: 0.8724 val_loss 1.2613 train_acc 0.7370 val_acc 0.6697\n"
     ]
    },
    {
     "name": "stderr",
     "output_type": "stream",
     "text": [
      "Epoch: 100%|██████████| 129/129 [00:16<00:00,  7.69it/s]\n",
      "Epoch:   1%|          | 1/129 [00:00<00:16,  7.68it/s]"
     ]
    },
    {
     "name": "stdout",
     "output_type": "stream",
     "text": [
      "\n",
      "Epoch 094 train_loss: 0.8805 val_loss 1.2631 train_acc 0.7353 val_acc 0.6712\n"
     ]
    },
    {
     "name": "stderr",
     "output_type": "stream",
     "text": [
      "Epoch: 100%|██████████| 129/129 [00:17<00:00,  7.38it/s]\n",
      "Epoch:   1%|          | 1/129 [00:00<00:15,  8.13it/s]"
     ]
    },
    {
     "name": "stdout",
     "output_type": "stream",
     "text": [
      "\n",
      "Epoch 095 train_loss: 0.8802 val_loss 1.2615 train_acc 0.7356 val_acc 0.6675\n"
     ]
    },
    {
     "name": "stderr",
     "output_type": "stream",
     "text": [
      "Epoch: 100%|██████████| 129/129 [00:16<00:00,  7.75it/s]\n",
      "Epoch:   1%|          | 1/129 [00:00<00:15,  8.13it/s]"
     ]
    },
    {
     "name": "stdout",
     "output_type": "stream",
     "text": [
      "\n",
      "Epoch 096 train_loss: 0.8732 val_loss 1.2667 train_acc 0.7412 val_acc 0.6635\n"
     ]
    },
    {
     "name": "stderr",
     "output_type": "stream",
     "text": [
      "Epoch: 100%|██████████| 129/129 [00:17<00:00,  7.38it/s]\n",
      "Epoch:   1%|          | 1/129 [00:00<00:16,  7.82it/s]"
     ]
    },
    {
     "name": "stdout",
     "output_type": "stream",
     "text": [
      "\n",
      "Epoch 097 train_loss: 0.8755 val_loss 1.2667 train_acc 0.7371 val_acc 0.6675\n"
     ]
    },
    {
     "name": "stderr",
     "output_type": "stream",
     "text": [
      "Epoch: 100%|██████████| 129/129 [00:17<00:00,  7.24it/s]\n",
      "Epoch:   1%|          | 1/129 [00:00<00:21,  6.03it/s]"
     ]
    },
    {
     "name": "stdout",
     "output_type": "stream",
     "text": [
      "\n",
      "Epoch 098 train_loss: 0.8722 val_loss 1.2586 train_acc 0.7415 val_acc 0.6679\n"
     ]
    },
    {
     "name": "stderr",
     "output_type": "stream",
     "text": [
      "Epoch: 100%|██████████| 129/129 [00:18<00:00,  7.10it/s]\n",
      "Epoch:   1%|          | 1/129 [00:00<00:16,  7.76it/s]"
     ]
    },
    {
     "name": "stdout",
     "output_type": "stream",
     "text": [
      "\n",
      "Epoch 099 train_loss: 0.8734 val_loss 1.2592 train_acc 0.7410 val_acc 0.6701\n"
     ]
    },
    {
     "name": "stderr",
     "output_type": "stream",
     "text": [
      "Epoch: 100%|██████████| 129/129 [00:17<00:00,  7.50it/s]\n"
     ]
    },
    {
     "name": "stdout",
     "output_type": "stream",
     "text": [
      "\n",
      "Epoch 100 train_loss: 0.8848 val_loss 1.2698 train_acc 0.7388 val_acc 0.6646\n"
     ]
    }
   ],
   "source": [
    "optim = torch.optim.SGD(CNN.parameters(), lr=0.00002)\n",
    "criterion = nn.CrossEntropyLoss()\n",
    "\n",
    "history = train(train_dataset, val_dataset, model=CNN,  optim=optim,\n",
    "                criterion=criterion, epochs=100 , batch_size=64, device=DEVICE)"
   ]
  },
  {
   "cell_type": "code",
   "execution_count": 47,
   "metadata": {
    "scrolled": true
   },
   "outputs": [
    {
     "name": "stderr",
     "output_type": "stream",
     "text": [
      "Epoch: 100%|██████████| 129/129 [00:17<00:00,  7.53it/s]\n",
      "Epoch:   1%|          | 1/129 [00:00<00:17,  7.15it/s]"
     ]
    },
    {
     "name": "stdout",
     "output_type": "stream",
     "text": [
      "\n",
      "Epoch 001 train_loss: 2.1181 val_loss 2.2930 train_acc 0.4281 val_acc 0.3810\n"
     ]
    },
    {
     "name": "stderr",
     "output_type": "stream",
     "text": [
      "Epoch: 100%|██████████| 129/129 [00:17<00:00,  7.18it/s]\n",
      "Epoch:   1%|          | 1/129 [00:00<00:17,  7.47it/s]"
     ]
    },
    {
     "name": "stdout",
     "output_type": "stream",
     "text": [
      "\n",
      "Epoch 002 train_loss: 1.3640 val_loss 1.6848 train_acc 0.6030 val_acc 0.5449\n"
     ]
    },
    {
     "name": "stderr",
     "output_type": "stream",
     "text": [
      "Epoch: 100%|██████████| 129/129 [00:17<00:00,  7.55it/s]\n"
     ]
    },
    {
     "name": "stdout",
     "output_type": "stream",
     "text": [
      "\n",
      "Epoch 003 train_loss: 1.2792 val_loss 1.5071 train_acc 0.6264 val_acc 0.5993\n"
     ]
    }
   ],
   "source": [
    "optim = torch.optim.SGD(CNN.parameters(), lr=0.0007)\n",
    "criterion = nn.CrossEntropyLoss()\n",
    "\n",
    "history = train(train_dataset, val_dataset, model=CNN,  optim=optim,\n",
    "                criterion=criterion, epochs=3 , batch_size=64, device=DEVICE)"
   ]
  },
  {
   "cell_type": "code",
   "execution_count": 48,
   "metadata": {
    "scrolled": true
   },
   "outputs": [
    {
     "name": "stderr",
     "output_type": "stream",
     "text": [
      "Epoch: 100%|██████████| 129/129 [00:17<00:00,  7.29it/s]\n",
      "Epoch:   1%|          | 1/129 [00:00<00:16,  7.69it/s]"
     ]
    },
    {
     "name": "stdout",
     "output_type": "stream",
     "text": [
      "\n",
      "Epoch 001 train_loss: 1.0104 val_loss 1.3550 train_acc 0.7028 val_acc 0.6336\n"
     ]
    },
    {
     "name": "stderr",
     "output_type": "stream",
     "text": [
      "Epoch: 100%|██████████| 129/129 [00:16<00:00,  7.63it/s]\n",
      "Epoch:   1%|          | 1/129 [00:00<00:17,  7.42it/s]"
     ]
    },
    {
     "name": "stdout",
     "output_type": "stream",
     "text": [
      "\n",
      "Epoch 002 train_loss: 0.9836 val_loss 1.2691 train_acc 0.7106 val_acc 0.6551\n"
     ]
    },
    {
     "name": "stderr",
     "output_type": "stream",
     "text": [
      "Epoch: 100%|██████████| 129/129 [00:16<00:00,  7.64it/s]\n",
      "Epoch:   1%|          | 1/129 [00:00<00:16,  7.91it/s]"
     ]
    },
    {
     "name": "stdout",
     "output_type": "stream",
     "text": [
      "\n",
      "Epoch 003 train_loss: 0.9648 val_loss 1.2731 train_acc 0.7145 val_acc 0.6526\n"
     ]
    },
    {
     "name": "stderr",
     "output_type": "stream",
     "text": [
      "Epoch: 100%|██████████| 129/129 [00:18<00:00,  7.10it/s]\n",
      "Epoch:   1%|          | 1/129 [00:00<00:16,  7.64it/s]"
     ]
    },
    {
     "name": "stdout",
     "output_type": "stream",
     "text": [
      "\n",
      "Epoch 004 train_loss: 0.9579 val_loss 1.2987 train_acc 0.7165 val_acc 0.6496\n"
     ]
    },
    {
     "name": "stderr",
     "output_type": "stream",
     "text": [
      "Epoch: 100%|██████████| 129/129 [00:17<00:00,  7.41it/s]\n"
     ]
    },
    {
     "name": "stdout",
     "output_type": "stream",
     "text": [
      "\n",
      "Epoch 005 train_loss: 0.9465 val_loss 1.3019 train_acc 0.7203 val_acc 0.6478\n"
     ]
    }
   ],
   "source": [
    "optim = torch.optim.SGD(CNN.parameters(), lr=0.0002)\n",
    "criterion = nn.CrossEntropyLoss()\n",
    "\n",
    "history = train(train_dataset, val_dataset, model=CNN,  optim=optim,\n",
    "                criterion=criterion, epochs=5 , batch_size=64, device=DEVICE)"
   ]
  },
  {
   "cell_type": "code",
   "execution_count": 49,
   "metadata": {
    "scrolled": true
   },
   "outputs": [
    {
     "name": "stderr",
     "output_type": "stream",
     "text": [
      "Epoch: 100%|██████████| 129/129 [00:18<00:00,  6.98it/s]\n",
      "Epoch:   1%|          | 1/129 [00:00<00:16,  7.63it/s]"
     ]
    },
    {
     "name": "stdout",
     "output_type": "stream",
     "text": [
      "\n",
      "Epoch 001 train_loss: 1.8339 val_loss 1.4313 train_acc 0.4881 val_acc 0.6029\n"
     ]
    },
    {
     "name": "stderr",
     "output_type": "stream",
     "text": [
      "Epoch: 100%|██████████| 129/129 [00:18<00:00,  7.11it/s]\n"
     ]
    },
    {
     "name": "stdout",
     "output_type": "stream",
     "text": [
      "\n",
      "Epoch 002 train_loss: 1.2883 val_loss 1.3282 train_acc 0.6197 val_acc 0.6288\n"
     ]
    }
   ],
   "source": [
    "optim = torch.optim.SGD(CNN.parameters(), lr=0.001)\n",
    "criterion = nn.CrossEntropyLoss()\n",
    "\n",
    "history = train(train_dataset, val_dataset, model=CNN,  optim=optim,\n",
    "                criterion=criterion, epochs=2 , batch_size=64, device=DEVICE)"
   ]
  },
  {
   "cell_type": "code",
   "execution_count": 50,
   "metadata": {
    "scrolled": true
   },
   "outputs": [
    {
     "name": "stderr",
     "output_type": "stream",
     "text": [
      "Epoch: 100%|██████████| 129/129 [00:17<00:00,  7.40it/s]\n"
     ]
    },
    {
     "name": "stdout",
     "output_type": "stream",
     "text": [
      "\n",
      "Epoch 001 train_loss: 1.5410 val_loss 1.5652 train_acc 0.5590 val_acc 0.5850\n"
     ]
    }
   ],
   "source": [
    "optim = torch.optim.SGD(CNN.parameters(), lr=0.002)\n",
    "criterion = nn.CrossEntropyLoss()\n",
    "\n",
    "history = train(train_dataset, val_dataset, model=CNN,  optim=optim,\n",
    "                criterion=criterion, epochs=1 , batch_size=64, device=DEVICE)"
   ]
  },
  {
   "cell_type": "code",
   "execution_count": 51,
   "metadata": {
    "scrolled": true
   },
   "outputs": [
    {
     "name": "stderr",
     "output_type": "stream",
     "text": [
      "Epoch: 100%|██████████| 129/129 [00:17<00:00,  7.50it/s]\n",
      "Epoch:   1%|          | 1/129 [00:00<00:17,  7.12it/s]"
     ]
    },
    {
     "name": "stdout",
     "output_type": "stream",
     "text": [
      "\n",
      "Epoch 001 train_loss: 1.0982 val_loss 1.2960 train_acc 0.6770 val_acc 0.6394\n"
     ]
    },
    {
     "name": "stderr",
     "output_type": "stream",
     "text": [
      "Epoch: 100%|██████████| 129/129 [00:17<00:00,  7.28it/s]\n",
      "Epoch:   1%|          | 1/129 [00:00<00:21,  5.89it/s]"
     ]
    },
    {
     "name": "stdout",
     "output_type": "stream",
     "text": [
      "\n",
      "Epoch 002 train_loss: 1.0403 val_loss 1.2553 train_acc 0.6943 val_acc 0.6573\n"
     ]
    },
    {
     "name": "stderr",
     "output_type": "stream",
     "text": [
      "Epoch: 100%|██████████| 129/129 [00:18<00:00,  7.01it/s]\n",
      "Epoch:   1%|          | 1/129 [00:00<00:17,  7.43it/s]"
     ]
    },
    {
     "name": "stdout",
     "output_type": "stream",
     "text": [
      "\n",
      "Epoch 003 train_loss: 1.0200 val_loss 1.2629 train_acc 0.6974 val_acc 0.6522\n"
     ]
    },
    {
     "name": "stderr",
     "output_type": "stream",
     "text": [
      "Epoch: 100%|██████████| 129/129 [00:17<00:00,  7.43it/s]\n",
      "Epoch:   1%|          | 1/129 [00:00<00:16,  7.94it/s]"
     ]
    },
    {
     "name": "stdout",
     "output_type": "stream",
     "text": [
      "\n",
      "Epoch 004 train_loss: 1.0239 val_loss 1.2942 train_acc 0.6972 val_acc 0.6489\n"
     ]
    },
    {
     "name": "stderr",
     "output_type": "stream",
     "text": [
      "Epoch: 100%|██████████| 129/129 [00:17<00:00,  7.47it/s]\n",
      "Epoch:   1%|          | 1/129 [00:00<00:16,  7.86it/s]"
     ]
    },
    {
     "name": "stdout",
     "output_type": "stream",
     "text": [
      "\n",
      "Epoch 005 train_loss: 1.0300 val_loss 1.3423 train_acc 0.6933 val_acc 0.6350\n"
     ]
    },
    {
     "name": "stderr",
     "output_type": "stream",
     "text": [
      "Epoch: 100%|██████████| 129/129 [00:17<00:00,  7.40it/s]\n",
      "Epoch:   1%|          | 1/129 [00:00<00:16,  7.55it/s]"
     ]
    },
    {
     "name": "stdout",
     "output_type": "stream",
     "text": [
      "\n",
      "Epoch 006 train_loss: 1.0293 val_loss 1.3359 train_acc 0.6939 val_acc 0.6208\n"
     ]
    },
    {
     "name": "stderr",
     "output_type": "stream",
     "text": [
      "Epoch: 100%|██████████| 129/129 [00:17<00:00,  7.18it/s]\n",
      "Epoch:   1%|          | 1/129 [00:00<00:16,  7.57it/s]"
     ]
    },
    {
     "name": "stdout",
     "output_type": "stream",
     "text": [
      "\n",
      "Epoch 007 train_loss: 1.0049 val_loss 1.3706 train_acc 0.7006 val_acc 0.6161\n"
     ]
    },
    {
     "name": "stderr",
     "output_type": "stream",
     "text": [
      "Epoch: 100%|██████████| 129/129 [00:17<00:00,  7.56it/s]\n",
      "Epoch:   1%|          | 1/129 [00:00<00:18,  6.84it/s]"
     ]
    },
    {
     "name": "stdout",
     "output_type": "stream",
     "text": [
      "\n",
      "Epoch 008 train_loss: 1.0162 val_loss 1.3550 train_acc 0.7043 val_acc 0.6350\n"
     ]
    },
    {
     "name": "stderr",
     "output_type": "stream",
     "text": [
      "Epoch: 100%|██████████| 129/129 [00:17<00:00,  7.51it/s]\n",
      "Epoch:   1%|          | 1/129 [00:00<00:17,  7.45it/s]"
     ]
    },
    {
     "name": "stdout",
     "output_type": "stream",
     "text": [
      "\n",
      "Epoch 009 train_loss: 0.9865 val_loss 1.2790 train_acc 0.7079 val_acc 0.6485\n"
     ]
    },
    {
     "name": "stderr",
     "output_type": "stream",
     "text": [
      "Epoch: 100%|██████████| 129/129 [00:17<00:00,  7.20it/s]\n"
     ]
    },
    {
     "name": "stdout",
     "output_type": "stream",
     "text": [
      "\n",
      "Epoch 010 train_loss: 1.0082 val_loss 1.4985 train_acc 0.7004 val_acc 0.5763\n"
     ]
    }
   ],
   "source": [
    "optim = torch.optim.SGD(CNN.parameters(), lr=0.0005)\n",
    "criterion = nn.CrossEntropyLoss()\n",
    "\n",
    "history = train(train_dataset, val_dataset, model=CNN,  optim=optim,\n",
    "                criterion=criterion, epochs=10, batch_size=64, device=DEVICE)"
   ]
  },
  {
   "cell_type": "code",
   "execution_count": 52,
   "metadata": {
    "scrolled": true
   },
   "outputs": [
    {
     "name": "stderr",
     "output_type": "stream",
     "text": [
      "Epoch: 100%|██████████| 129/129 [00:18<00:00,  7.02it/s]\n"
     ]
    },
    {
     "name": "stdout",
     "output_type": "stream",
     "text": [
      "\n",
      "Epoch 001 train_loss: 3.3699 val_loss 2.7098 train_acc 0.1652 val_acc 0.2635\n"
     ]
    }
   ],
   "source": [
    "optim = torch.optim.SGD(CNN.parameters(), lr=0.005)\n",
    "criterion = nn.CrossEntropyLoss()\n",
    "\n",
    "history = train(train_dataset, val_dataset, model=CNN,  optim=optim,\n",
    "                criterion=criterion, epochs=1, batch_size=64, device=DEVICE)"
   ]
  },
  {
   "cell_type": "code",
   "execution_count": 53,
   "metadata": {
    "scrolled": true
   },
   "outputs": [
    {
     "name": "stderr",
     "output_type": "stream",
     "text": [
      "Epoch: 100%|██████████| 129/129 [00:18<00:00,  6.98it/s]\n",
      "Epoch:   1%|          | 1/129 [00:00<00:16,  7.67it/s]"
     ]
    },
    {
     "name": "stdout",
     "output_type": "stream",
     "text": [
      "\n",
      "Epoch 001 train_loss: 2.6572 val_loss 2.4344 train_acc 0.2676 val_acc 0.3507\n"
     ]
    },
    {
     "name": "stderr",
     "output_type": "stream",
     "text": [
      "Epoch: 100%|██████████| 129/129 [00:16<00:00,  7.61it/s]\n"
     ]
    },
    {
     "name": "stdout",
     "output_type": "stream",
     "text": [
      "\n",
      "Epoch 002 train_loss: 2.4521 val_loss 2.2562 train_acc 0.3243 val_acc 0.3861\n"
     ]
    }
   ],
   "source": [
    "optim = torch.optim.SGD(CNN.parameters(), lr=0.002)\n",
    "criterion = nn.CrossEntropyLoss()\n",
    "\n",
    "history = train(train_dataset, val_dataset, model=CNN,  optim=optim,\n",
    "                criterion=criterion, epochs=2, batch_size=64, device=DEVICE)"
   ]
  },
  {
   "cell_type": "code",
   "execution_count": 54,
   "metadata": {
    "scrolled": true
   },
   "outputs": [
    {
     "name": "stderr",
     "output_type": "stream",
     "text": [
      "Epoch: 100%|██████████| 65/65 [00:18<00:00,  3.53it/s]\n",
      "Epoch:   0%|          | 0/65 [00:00<?, ?it/s]"
     ]
    },
    {
     "name": "stdout",
     "output_type": "stream",
     "text": [
      "\n",
      "Epoch 001 train_loss: 2.3382 val_loss 2.2233 train_acc 0.3582 val_acc 0.4051\n"
     ]
    },
    {
     "name": "stderr",
     "output_type": "stream",
     "text": [
      "Epoch: 100%|██████████| 65/65 [00:18<00:00,  3.42it/s]\n",
      "Epoch:   0%|          | 0/65 [00:00<?, ?it/s]"
     ]
    },
    {
     "name": "stdout",
     "output_type": "stream",
     "text": [
      "\n",
      "Epoch 002 train_loss: 2.3211 val_loss 2.2006 train_acc 0.3656 val_acc 0.4047\n"
     ]
    },
    {
     "name": "stderr",
     "output_type": "stream",
     "text": [
      "Epoch: 100%|██████████| 65/65 [00:19<00:00,  3.29it/s]\n",
      "Epoch:   0%|          | 0/65 [00:00<?, ?it/s]"
     ]
    },
    {
     "name": "stdout",
     "output_type": "stream",
     "text": [
      "\n",
      "Epoch 003 train_loss: 2.2906 val_loss 2.1736 train_acc 0.3665 val_acc 0.4117\n"
     ]
    },
    {
     "name": "stderr",
     "output_type": "stream",
     "text": [
      "Epoch: 100%|██████████| 65/65 [00:18<00:00,  3.58it/s]\n",
      "Epoch:   0%|          | 0/65 [00:00<?, ?it/s]"
     ]
    },
    {
     "name": "stdout",
     "output_type": "stream",
     "text": [
      "\n",
      "Epoch 004 train_loss: 2.2585 val_loss 2.1481 train_acc 0.3763 val_acc 0.4175\n"
     ]
    },
    {
     "name": "stderr",
     "output_type": "stream",
     "text": [
      "Epoch: 100%|██████████| 65/65 [00:18<00:00,  3.48it/s]\n"
     ]
    },
    {
     "name": "stdout",
     "output_type": "stream",
     "text": [
      "\n",
      "Epoch 005 train_loss: 2.2357 val_loss 2.1335 train_acc 0.3888 val_acc 0.4179\n"
     ]
    }
   ],
   "source": [
    "optim = torch.optim.SGD(CNN.parameters(), lr=0.0007)\n",
    "criterion = nn.CrossEntropyLoss()\n",
    "\n",
    "history = train(train_dataset, val_dataset, model=CNN,  optim=optim,\n",
    "                criterion=criterion, epochs=5, batch_size=128, device=DEVICE)"
   ]
  },
  {
   "cell_type": "code",
   "execution_count": 55,
   "metadata": {
    "scrolled": true
   },
   "outputs": [
    {
     "name": "stderr",
     "output_type": "stream",
     "text": [
      "Epoch: 100%|██████████| 65/65 [00:18<00:00,  3.48it/s]\n",
      "Epoch:   0%|          | 0/65 [00:00<?, ?it/s]"
     ]
    },
    {
     "name": "stdout",
     "output_type": "stream",
     "text": [
      "\n",
      "Epoch 001 train_loss: 2.2224 val_loss 2.1190 train_acc 0.3839 val_acc 0.4277\n"
     ]
    },
    {
     "name": "stderr",
     "output_type": "stream",
     "text": [
      "Epoch: 100%|██████████| 65/65 [00:18<00:00,  3.50it/s]\n",
      "Epoch:   0%|          | 0/65 [00:00<?, ?it/s]"
     ]
    },
    {
     "name": "stdout",
     "output_type": "stream",
     "text": [
      "\n",
      "Epoch 002 train_loss: 2.2132 val_loss 2.1123 train_acc 0.3839 val_acc 0.4288\n"
     ]
    },
    {
     "name": "stderr",
     "output_type": "stream",
     "text": [
      "Epoch: 100%|██████████| 65/65 [00:19<00:00,  3.40it/s]\n",
      "Epoch:   0%|          | 0/65 [00:00<?, ?it/s]"
     ]
    },
    {
     "name": "stdout",
     "output_type": "stream",
     "text": [
      "\n",
      "Epoch 003 train_loss: 2.1988 val_loss 2.1104 train_acc 0.3898 val_acc 0.4270\n"
     ]
    },
    {
     "name": "stderr",
     "output_type": "stream",
     "text": [
      "Epoch: 100%|██████████| 65/65 [00:18<00:00,  3.53it/s]\n",
      "Epoch:   0%|          | 0/65 [00:00<?, ?it/s]"
     ]
    },
    {
     "name": "stdout",
     "output_type": "stream",
     "text": [
      "\n",
      "Epoch 004 train_loss: 2.1892 val_loss 2.0929 train_acc 0.3968 val_acc 0.4350\n"
     ]
    },
    {
     "name": "stderr",
     "output_type": "stream",
     "text": [
      "Epoch: 100%|██████████| 65/65 [00:19<00:00,  4.14it/s]\n",
      "Epoch:   0%|          | 0/65 [00:00<?, ?it/s]"
     ]
    },
    {
     "name": "stdout",
     "output_type": "stream",
     "text": [
      "\n",
      "Epoch 005 train_loss: 2.1815 val_loss 2.0910 train_acc 0.3946 val_acc 0.4339\n"
     ]
    },
    {
     "name": "stderr",
     "output_type": "stream",
     "text": [
      "Epoch: 100%|██████████| 65/65 [00:18<00:00,  3.54it/s]\n",
      "Epoch:   0%|          | 0/65 [00:00<?, ?it/s]"
     ]
    },
    {
     "name": "stdout",
     "output_type": "stream",
     "text": [
      "\n",
      "Epoch 006 train_loss: 2.1726 val_loss 2.0818 train_acc 0.3953 val_acc 0.4365\n"
     ]
    },
    {
     "name": "stderr",
     "output_type": "stream",
     "text": [
      "Epoch: 100%|██████████| 65/65 [00:19<00:00,  3.38it/s]\n",
      "Epoch:   0%|          | 0/65 [00:00<?, ?it/s]"
     ]
    },
    {
     "name": "stdout",
     "output_type": "stream",
     "text": [
      "\n",
      "Epoch 007 train_loss: 2.1661 val_loss 2.0771 train_acc 0.3921 val_acc 0.4380\n"
     ]
    },
    {
     "name": "stderr",
     "output_type": "stream",
     "text": [
      "Epoch: 100%|██████████| 65/65 [00:18<00:00,  3.46it/s]\n",
      "Epoch:   0%|          | 0/65 [00:00<?, ?it/s]"
     ]
    },
    {
     "name": "stdout",
     "output_type": "stream",
     "text": [
      "\n",
      "Epoch 008 train_loss: 2.1580 val_loss 2.0710 train_acc 0.3995 val_acc 0.4383\n"
     ]
    },
    {
     "name": "stderr",
     "output_type": "stream",
     "text": [
      "Epoch: 100%|██████████| 65/65 [00:18<00:00,  3.49it/s]\n",
      "Epoch:   0%|          | 0/65 [00:00<?, ?it/s]"
     ]
    },
    {
     "name": "stdout",
     "output_type": "stream",
     "text": [
      "\n",
      "Epoch 009 train_loss: 2.1455 val_loss 2.0624 train_acc 0.4007 val_acc 0.4383\n"
     ]
    },
    {
     "name": "stderr",
     "output_type": "stream",
     "text": [
      "Epoch: 100%|██████████| 65/65 [00:17<00:00,  3.63it/s]\n",
      "Epoch:   0%|          | 0/65 [00:00<?, ?it/s]"
     ]
    },
    {
     "name": "stdout",
     "output_type": "stream",
     "text": [
      "\n",
      "Epoch 010 train_loss: 2.1451 val_loss 2.0581 train_acc 0.4057 val_acc 0.4405\n"
     ]
    },
    {
     "name": "stderr",
     "output_type": "stream",
     "text": [
      "Epoch: 100%|██████████| 65/65 [00:17<00:00,  3.62it/s]\n",
      "Epoch:   0%|          | 0/65 [00:00<?, ?it/s]"
     ]
    },
    {
     "name": "stdout",
     "output_type": "stream",
     "text": [
      "\n",
      "Epoch 011 train_loss: 2.1464 val_loss 2.0522 train_acc 0.3971 val_acc 0.4405\n"
     ]
    },
    {
     "name": "stderr",
     "output_type": "stream",
     "text": [
      "Epoch: 100%|██████████| 65/65 [00:18<00:00,  3.54it/s]\n",
      "Epoch:   0%|          | 0/65 [00:00<?, ?it/s]"
     ]
    },
    {
     "name": "stdout",
     "output_type": "stream",
     "text": [
      "\n",
      "Epoch 012 train_loss: 2.1292 val_loss 2.0463 train_acc 0.4103 val_acc 0.4412\n"
     ]
    },
    {
     "name": "stderr",
     "output_type": "stream",
     "text": [
      "Epoch: 100%|██████████| 65/65 [00:17<00:00,  3.61it/s]\n",
      "Epoch:   0%|          | 0/65 [00:00<?, ?it/s]"
     ]
    },
    {
     "name": "stdout",
     "output_type": "stream",
     "text": [
      "\n",
      "Epoch 013 train_loss: 2.1085 val_loss 2.0377 train_acc 0.4118 val_acc 0.4409\n"
     ]
    },
    {
     "name": "stderr",
     "output_type": "stream",
     "text": [
      "Epoch: 100%|██████████| 65/65 [00:18<00:00,  3.49it/s]\n",
      "Epoch:   0%|          | 0/65 [00:00<?, ?it/s]"
     ]
    },
    {
     "name": "stdout",
     "output_type": "stream",
     "text": [
      "\n",
      "Epoch 014 train_loss: 2.1155 val_loss 2.0390 train_acc 0.4125 val_acc 0.4387\n"
     ]
    },
    {
     "name": "stderr",
     "output_type": "stream",
     "text": [
      "Epoch: 100%|██████████| 65/65 [00:18<00:00,  3.58it/s]\n",
      "Epoch:   0%|          | 0/65 [00:00<?, ?it/s]"
     ]
    },
    {
     "name": "stdout",
     "output_type": "stream",
     "text": [
      "\n",
      "Epoch 015 train_loss: 2.1056 val_loss 2.0299 train_acc 0.4108 val_acc 0.4445\n"
     ]
    },
    {
     "name": "stderr",
     "output_type": "stream",
     "text": [
      "Epoch: 100%|██████████| 65/65 [00:19<00:00,  3.34it/s]\n",
      "Epoch:   0%|          | 0/65 [00:00<?, ?it/s]"
     ]
    },
    {
     "name": "stdout",
     "output_type": "stream",
     "text": [
      "\n",
      "Epoch 016 train_loss: 2.1014 val_loss 2.0210 train_acc 0.4083 val_acc 0.4464\n"
     ]
    },
    {
     "name": "stderr",
     "output_type": "stream",
     "text": [
      "Epoch: 100%|██████████| 65/65 [00:18<00:00,  3.48it/s]\n",
      "Epoch:   0%|          | 0/65 [00:00<?, ?it/s]"
     ]
    },
    {
     "name": "stdout",
     "output_type": "stream",
     "text": [
      "\n",
      "Epoch 017 train_loss: 2.0890 val_loss 2.0205 train_acc 0.4158 val_acc 0.4438\n"
     ]
    },
    {
     "name": "stderr",
     "output_type": "stream",
     "text": [
      "Epoch: 100%|██████████| 65/65 [00:17<00:00,  3.64it/s]\n",
      "Epoch:   0%|          | 0/65 [00:00<?, ?it/s]"
     ]
    },
    {
     "name": "stdout",
     "output_type": "stream",
     "text": [
      "\n",
      "Epoch 018 train_loss: 2.0909 val_loss 2.0215 train_acc 0.4169 val_acc 0.4438\n"
     ]
    },
    {
     "name": "stderr",
     "output_type": "stream",
     "text": [
      "Epoch: 100%|██████████| 65/65 [00:19<00:00,  3.33it/s]\n",
      "Epoch:   0%|          | 0/65 [00:00<?, ?it/s]"
     ]
    },
    {
     "name": "stdout",
     "output_type": "stream",
     "text": [
      "\n",
      "Epoch 019 train_loss: 2.0850 val_loss 2.0007 train_acc 0.4181 val_acc 0.4500\n"
     ]
    },
    {
     "name": "stderr",
     "output_type": "stream",
     "text": [
      "Epoch: 100%|██████████| 65/65 [00:19<00:00,  3.38it/s]\n"
     ]
    },
    {
     "name": "stdout",
     "output_type": "stream",
     "text": [
      "\n",
      "Epoch 020 train_loss: 2.0738 val_loss 2.0030 train_acc 0.4189 val_acc 0.4471\n"
     ]
    }
   ],
   "source": [
    "optim = torch.optim.SGD(CNN.parameters(), lr=0.0003)\n",
    "criterion = nn.CrossEntropyLoss()\n",
    "\n",
    "history = train(train_dataset, val_dataset, model=CNN,  optim=optim,\n",
    "                criterion=criterion, epochs=20, batch_size=128, device=DEVICE)"
   ]
  },
  {
   "cell_type": "code",
   "execution_count": 56,
   "metadata": {
    "scrolled": true
   },
   "outputs": [
    {
     "name": "stderr",
     "output_type": "stream",
     "text": [
      "Epoch: 100%|██████████| 65/65 [00:18<00:00,  3.46it/s]\n",
      "Epoch:   0%|          | 0/65 [00:00<?, ?it/s]"
     ]
    },
    {
     "name": "stdout",
     "output_type": "stream",
     "text": [
      "\n",
      "Epoch 001 train_loss: 2.0790 val_loss 1.9968 train_acc 0.4192 val_acc 0.4500\n"
     ]
    },
    {
     "name": "stderr",
     "output_type": "stream",
     "text": [
      "Epoch: 100%|██████████| 65/65 [00:19<00:00,  3.33it/s]\n",
      "Epoch:   0%|          | 0/65 [00:00<?, ?it/s]"
     ]
    },
    {
     "name": "stdout",
     "output_type": "stream",
     "text": [
      "\n",
      "Epoch 002 train_loss: 2.0608 val_loss 1.9868 train_acc 0.4176 val_acc 0.4515\n"
     ]
    },
    {
     "name": "stderr",
     "output_type": "stream",
     "text": [
      "Epoch: 100%|██████████| 65/65 [00:18<00:00,  4.04it/s]\n",
      "Epoch:   0%|          | 0/65 [00:00<?, ?it/s]"
     ]
    },
    {
     "name": "stdout",
     "output_type": "stream",
     "text": [
      "\n",
      "Epoch 003 train_loss: 2.0535 val_loss 1.9834 train_acc 0.4209 val_acc 0.4526\n"
     ]
    },
    {
     "name": "stderr",
     "output_type": "stream",
     "text": [
      "Epoch: 100%|██████████| 65/65 [00:18<00:00,  3.44it/s]\n",
      "Epoch:   0%|          | 0/65 [00:00<?, ?it/s]"
     ]
    },
    {
     "name": "stdout",
     "output_type": "stream",
     "text": [
      "\n",
      "Epoch 004 train_loss: 2.0409 val_loss 1.9823 train_acc 0.4254 val_acc 0.4544\n"
     ]
    },
    {
     "name": "stderr",
     "output_type": "stream",
     "text": [
      "Epoch: 100%|██████████| 65/65 [00:19<00:00,  3.33it/s]\n",
      "Epoch:   0%|          | 0/65 [00:00<?, ?it/s]"
     ]
    },
    {
     "name": "stdout",
     "output_type": "stream",
     "text": [
      "\n",
      "Epoch 005 train_loss: 2.0553 val_loss 1.9743 train_acc 0.4227 val_acc 0.4584\n"
     ]
    },
    {
     "name": "stderr",
     "output_type": "stream",
     "text": [
      "Epoch: 100%|██████████| 65/65 [00:18<00:00,  3.50it/s]\n",
      "Epoch:   0%|          | 0/65 [00:00<?, ?it/s]"
     ]
    },
    {
     "name": "stdout",
     "output_type": "stream",
     "text": [
      "\n",
      "Epoch 006 train_loss: 2.0365 val_loss 1.9709 train_acc 0.4299 val_acc 0.4573\n"
     ]
    },
    {
     "name": "stderr",
     "output_type": "stream",
     "text": [
      "Epoch: 100%|██████████| 65/65 [00:18<00:00,  3.52it/s]\n",
      "Epoch:   0%|          | 0/65 [00:00<?, ?it/s]"
     ]
    },
    {
     "name": "stdout",
     "output_type": "stream",
     "text": [
      "\n",
      "Epoch 007 train_loss: 2.0360 val_loss 1.9712 train_acc 0.4268 val_acc 0.4566\n"
     ]
    },
    {
     "name": "stderr",
     "output_type": "stream",
     "text": [
      "Epoch: 100%|██████████| 65/65 [00:18<00:00,  3.60it/s]\n",
      "Epoch:   0%|          | 0/65 [00:00<?, ?it/s]"
     ]
    },
    {
     "name": "stdout",
     "output_type": "stream",
     "text": [
      "\n",
      "Epoch 008 train_loss: 2.0296 val_loss 1.9663 train_acc 0.4294 val_acc 0.4558\n"
     ]
    },
    {
     "name": "stderr",
     "output_type": "stream",
     "text": [
      "Epoch: 100%|██████████| 65/65 [00:18<00:00,  3.58it/s]\n",
      "Epoch:   0%|          | 0/65 [00:00<?, ?it/s]"
     ]
    },
    {
     "name": "stdout",
     "output_type": "stream",
     "text": [
      "\n",
      "Epoch 009 train_loss: 2.0259 val_loss 1.9578 train_acc 0.4324 val_acc 0.4591\n"
     ]
    },
    {
     "name": "stderr",
     "output_type": "stream",
     "text": [
      "Epoch: 100%|██████████| 65/65 [00:18<00:00,  3.49it/s]\n",
      "Epoch:   0%|          | 0/65 [00:00<?, ?it/s]"
     ]
    },
    {
     "name": "stdout",
     "output_type": "stream",
     "text": [
      "\n",
      "Epoch 010 train_loss: 2.0222 val_loss 1.9554 train_acc 0.4342 val_acc 0.4609\n"
     ]
    },
    {
     "name": "stderr",
     "output_type": "stream",
     "text": [
      "Epoch: 100%|██████████| 65/65 [00:18<00:00,  3.44it/s]\n",
      "Epoch:   0%|          | 0/65 [00:00<?, ?it/s]"
     ]
    },
    {
     "name": "stdout",
     "output_type": "stream",
     "text": [
      "\n",
      "Epoch 011 train_loss: 2.0121 val_loss 1.9520 train_acc 0.4395 val_acc 0.4595\n"
     ]
    },
    {
     "name": "stderr",
     "output_type": "stream",
     "text": [
      "Epoch: 100%|██████████| 65/65 [00:19<00:00,  3.33it/s]\n",
      "Epoch:   0%|          | 0/65 [00:00<?, ?it/s]"
     ]
    },
    {
     "name": "stdout",
     "output_type": "stream",
     "text": [
      "\n",
      "Epoch 012 train_loss: 2.0145 val_loss 1.9441 train_acc 0.4335 val_acc 0.4613\n"
     ]
    },
    {
     "name": "stderr",
     "output_type": "stream",
     "text": [
      "Epoch: 100%|██████████| 65/65 [00:19<00:00,  3.39it/s]\n",
      "Epoch:   0%|          | 0/65 [00:00<?, ?it/s]"
     ]
    },
    {
     "name": "stdout",
     "output_type": "stream",
     "text": [
      "\n",
      "Epoch 013 train_loss: 2.0129 val_loss 1.9516 train_acc 0.4283 val_acc 0.4562\n"
     ]
    },
    {
     "name": "stderr",
     "output_type": "stream",
     "text": [
      "Epoch: 100%|██████████| 65/65 [00:18<00:00,  3.56it/s]\n",
      "Epoch:   0%|          | 0/65 [00:00<?, ?it/s]"
     ]
    },
    {
     "name": "stdout",
     "output_type": "stream",
     "text": [
      "\n",
      "Epoch 014 train_loss: 2.0167 val_loss 1.9402 train_acc 0.4363 val_acc 0.4646\n"
     ]
    },
    {
     "name": "stderr",
     "output_type": "stream",
     "text": [
      "Epoch: 100%|██████████| 65/65 [00:17<00:00,  3.61it/s]\n",
      "Epoch:   0%|          | 0/65 [00:00<?, ?it/s]"
     ]
    },
    {
     "name": "stdout",
     "output_type": "stream",
     "text": [
      "\n",
      "Epoch 015 train_loss: 1.9953 val_loss 1.9374 train_acc 0.4356 val_acc 0.4646\n"
     ]
    },
    {
     "name": "stderr",
     "output_type": "stream",
     "text": [
      "Epoch: 100%|██████████| 65/65 [00:18<00:00,  3.59it/s]\n",
      "Epoch:   0%|          | 0/65 [00:00<?, ?it/s]"
     ]
    },
    {
     "name": "stdout",
     "output_type": "stream",
     "text": [
      "\n",
      "Epoch 016 train_loss: 1.9926 val_loss 1.9362 train_acc 0.4387 val_acc 0.4653\n"
     ]
    },
    {
     "name": "stderr",
     "output_type": "stream",
     "text": [
      "Epoch: 100%|██████████| 65/65 [00:18<00:00,  3.60it/s]\n",
      "Epoch:   0%|          | 0/65 [00:00<?, ?it/s]"
     ]
    },
    {
     "name": "stdout",
     "output_type": "stream",
     "text": [
      "\n",
      "Epoch 017 train_loss: 1.9902 val_loss 1.9262 train_acc 0.4431 val_acc 0.4679\n"
     ]
    },
    {
     "name": "stderr",
     "output_type": "stream",
     "text": [
      "Epoch: 100%|██████████| 65/65 [00:18<00:00,  3.60it/s]\n",
      "Epoch:   0%|          | 0/65 [00:00<?, ?it/s]"
     ]
    },
    {
     "name": "stdout",
     "output_type": "stream",
     "text": [
      "\n",
      "Epoch 018 train_loss: 1.9927 val_loss 1.9277 train_acc 0.4389 val_acc 0.4672\n"
     ]
    },
    {
     "name": "stderr",
     "output_type": "stream",
     "text": [
      "Epoch: 100%|██████████| 65/65 [00:18<00:00,  3.56it/s]\n",
      "Epoch:   0%|          | 0/65 [00:00<?, ?it/s]"
     ]
    },
    {
     "name": "stdout",
     "output_type": "stream",
     "text": [
      "\n",
      "Epoch 019 train_loss: 1.9810 val_loss 1.9167 train_acc 0.4439 val_acc 0.4730\n"
     ]
    },
    {
     "name": "stderr",
     "output_type": "stream",
     "text": [
      "Epoch: 100%|██████████| 65/65 [00:18<00:00,  3.49it/s]\n",
      "Epoch:   0%|          | 0/65 [00:00<?, ?it/s]"
     ]
    },
    {
     "name": "stdout",
     "output_type": "stream",
     "text": [
      "\n",
      "Epoch 020 train_loss: 1.9749 val_loss 1.9226 train_acc 0.4405 val_acc 0.4704\n"
     ]
    },
    {
     "name": "stderr",
     "output_type": "stream",
     "text": [
      "Epoch: 100%|██████████| 65/65 [00:20<00:00,  3.21it/s]\n",
      "Epoch:   0%|          | 0/65 [00:00<?, ?it/s]"
     ]
    },
    {
     "name": "stdout",
     "output_type": "stream",
     "text": [
      "\n",
      "Epoch 021 train_loss: 1.9641 val_loss 1.9021 train_acc 0.4479 val_acc 0.4737\n"
     ]
    },
    {
     "name": "stderr",
     "output_type": "stream",
     "text": [
      "Epoch: 100%|██████████| 65/65 [00:19<00:00,  3.35it/s]\n",
      "Epoch:   0%|          | 0/65 [00:00<?, ?it/s]"
     ]
    },
    {
     "name": "stdout",
     "output_type": "stream",
     "text": [
      "\n",
      "Epoch 022 train_loss: 1.9703 val_loss 1.9120 train_acc 0.4474 val_acc 0.4712\n"
     ]
    },
    {
     "name": "stderr",
     "output_type": "stream",
     "text": [
      "Epoch: 100%|██████████| 65/65 [00:18<00:00,  3.52it/s]\n",
      "Epoch:   0%|          | 0/65 [00:00<?, ?it/s]"
     ]
    },
    {
     "name": "stdout",
     "output_type": "stream",
     "text": [
      "\n",
      "Epoch 023 train_loss: 1.9660 val_loss 1.9017 train_acc 0.4474 val_acc 0.4752\n"
     ]
    },
    {
     "name": "stderr",
     "output_type": "stream",
     "text": [
      "Epoch: 100%|██████████| 65/65 [00:18<00:00,  3.57it/s]\n",
      "Epoch:   0%|          | 0/65 [00:00<?, ?it/s]"
     ]
    },
    {
     "name": "stdout",
     "output_type": "stream",
     "text": [
      "\n",
      "Epoch 024 train_loss: 1.9646 val_loss 1.9004 train_acc 0.4436 val_acc 0.4748\n"
     ]
    },
    {
     "name": "stderr",
     "output_type": "stream",
     "text": [
      "Epoch: 100%|██████████| 65/65 [00:18<00:00,  3.54it/s]\n",
      "Epoch:   0%|          | 0/65 [00:00<?, ?it/s]"
     ]
    },
    {
     "name": "stdout",
     "output_type": "stream",
     "text": [
      "\n",
      "Epoch 025 train_loss: 1.9567 val_loss 1.8962 train_acc 0.4489 val_acc 0.4737\n"
     ]
    },
    {
     "name": "stderr",
     "output_type": "stream",
     "text": [
      "Epoch: 100%|██████████| 65/65 [00:18<00:00,  3.49it/s]\n",
      "Epoch:   0%|          | 0/65 [00:00<?, ?it/s]"
     ]
    },
    {
     "name": "stdout",
     "output_type": "stream",
     "text": [
      "\n",
      "Epoch 026 train_loss: 1.9636 val_loss 1.8943 train_acc 0.4544 val_acc 0.4734\n"
     ]
    },
    {
     "name": "stderr",
     "output_type": "stream",
     "text": [
      "Epoch: 100%|██████████| 65/65 [00:19<00:00,  3.29it/s]\n",
      "Epoch:   0%|          | 0/65 [00:00<?, ?it/s]"
     ]
    },
    {
     "name": "stdout",
     "output_type": "stream",
     "text": [
      "\n",
      "Epoch 027 train_loss: 1.9529 val_loss 1.8897 train_acc 0.4491 val_acc 0.4741\n"
     ]
    },
    {
     "name": "stderr",
     "output_type": "stream",
     "text": [
      "Epoch: 100%|██████████| 65/65 [00:19<00:00,  3.35it/s]\n",
      "Epoch:   0%|          | 0/65 [00:00<?, ?it/s]"
     ]
    },
    {
     "name": "stdout",
     "output_type": "stream",
     "text": [
      "\n",
      "Epoch 028 train_loss: 1.9398 val_loss 1.8913 train_acc 0.4518 val_acc 0.4741\n"
     ]
    },
    {
     "name": "stderr",
     "output_type": "stream",
     "text": [
      "Epoch: 100%|██████████| 65/65 [00:19<00:00,  3.41it/s]\n",
      "Epoch:   0%|          | 0/65 [00:00<?, ?it/s]"
     ]
    },
    {
     "name": "stdout",
     "output_type": "stream",
     "text": [
      "\n",
      "Epoch 029 train_loss: 1.9485 val_loss 1.8837 train_acc 0.4529 val_acc 0.4781\n"
     ]
    },
    {
     "name": "stderr",
     "output_type": "stream",
     "text": [
      "Epoch: 100%|██████████| 65/65 [00:18<00:00,  3.47it/s]\n",
      "Epoch:   0%|          | 0/65 [00:00<?, ?it/s]"
     ]
    },
    {
     "name": "stdout",
     "output_type": "stream",
     "text": [
      "\n",
      "Epoch 030 train_loss: 1.9376 val_loss 1.8917 train_acc 0.4558 val_acc 0.4723\n"
     ]
    },
    {
     "name": "stderr",
     "output_type": "stream",
     "text": [
      "Epoch: 100%|██████████| 65/65 [00:17<00:00,  3.62it/s]\n",
      "Epoch:   0%|          | 0/65 [00:00<?, ?it/s]"
     ]
    },
    {
     "name": "stdout",
     "output_type": "stream",
     "text": [
      "\n",
      "Epoch 031 train_loss: 1.9259 val_loss 1.8707 train_acc 0.4561 val_acc 0.4814\n"
     ]
    },
    {
     "name": "stderr",
     "output_type": "stream",
     "text": [
      "Epoch: 100%|██████████| 65/65 [00:17<00:00,  3.63it/s]\n",
      "Epoch:   0%|          | 0/65 [00:00<?, ?it/s]"
     ]
    },
    {
     "name": "stdout",
     "output_type": "stream",
     "text": [
      "\n",
      "Epoch 032 train_loss: 1.9268 val_loss 1.8719 train_acc 0.4540 val_acc 0.4766\n"
     ]
    },
    {
     "name": "stderr",
     "output_type": "stream",
     "text": [
      "Epoch: 100%|██████████| 65/65 [00:19<00:00,  3.26it/s]\n",
      "Epoch:   0%|          | 0/65 [00:00<?, ?it/s]"
     ]
    },
    {
     "name": "stdout",
     "output_type": "stream",
     "text": [
      "\n",
      "Epoch 033 train_loss: 1.9248 val_loss 1.8707 train_acc 0.4600 val_acc 0.4803\n"
     ]
    },
    {
     "name": "stderr",
     "output_type": "stream",
     "text": [
      "Epoch: 100%|██████████| 65/65 [00:18<00:00,  3.56it/s]\n",
      "Epoch:   0%|          | 0/65 [00:00<?, ?it/s]"
     ]
    },
    {
     "name": "stdout",
     "output_type": "stream",
     "text": [
      "\n",
      "Epoch 034 train_loss: 1.9216 val_loss 1.8648 train_acc 0.4560 val_acc 0.4847\n"
     ]
    },
    {
     "name": "stderr",
     "output_type": "stream",
     "text": [
      "Epoch: 100%|██████████| 65/65 [00:18<00:00,  3.57it/s]\n",
      "Epoch:   0%|          | 0/65 [00:00<?, ?it/s]"
     ]
    },
    {
     "name": "stdout",
     "output_type": "stream",
     "text": [
      "\n",
      "Epoch 035 train_loss: 1.9107 val_loss 1.8642 train_acc 0.4558 val_acc 0.4792\n"
     ]
    },
    {
     "name": "stderr",
     "output_type": "stream",
     "text": [
      "Epoch: 100%|██████████| 65/65 [00:18<00:00,  3.58it/s]\n",
      "Epoch:   0%|          | 0/65 [00:00<?, ?it/s]"
     ]
    },
    {
     "name": "stdout",
     "output_type": "stream",
     "text": [
      "\n",
      "Epoch 036 train_loss: 1.9166 val_loss 1.8676 train_acc 0.4617 val_acc 0.4850\n"
     ]
    },
    {
     "name": "stderr",
     "output_type": "stream",
     "text": [
      "Epoch: 100%|██████████| 65/65 [00:19<00:00,  3.34it/s]\n",
      "Epoch:   0%|          | 0/65 [00:00<?, ?it/s]"
     ]
    },
    {
     "name": "stdout",
     "output_type": "stream",
     "text": [
      "\n",
      "Epoch 037 train_loss: 1.9126 val_loss 1.8598 train_acc 0.4634 val_acc 0.4828\n"
     ]
    },
    {
     "name": "stderr",
     "output_type": "stream",
     "text": [
      "Epoch: 100%|██████████| 65/65 [00:18<00:00,  3.49it/s]\n",
      "Epoch:   0%|          | 0/65 [00:00<?, ?it/s]"
     ]
    },
    {
     "name": "stdout",
     "output_type": "stream",
     "text": [
      "\n",
      "Epoch 038 train_loss: 1.9114 val_loss 1.8558 train_acc 0.4616 val_acc 0.4872\n"
     ]
    },
    {
     "name": "stderr",
     "output_type": "stream",
     "text": [
      "Epoch: 100%|██████████| 65/65 [00:18<00:00,  3.50it/s]\n",
      "Epoch:   0%|          | 0/65 [00:00<?, ?it/s]"
     ]
    },
    {
     "name": "stdout",
     "output_type": "stream",
     "text": [
      "\n",
      "Epoch 039 train_loss: 1.9060 val_loss 1.8487 train_acc 0.4619 val_acc 0.4832\n"
     ]
    },
    {
     "name": "stderr",
     "output_type": "stream",
     "text": [
      "Epoch: 100%|██████████| 65/65 [00:18<00:00,  3.59it/s]\n",
      "Epoch:   0%|          | 0/65 [00:00<?, ?it/s]"
     ]
    },
    {
     "name": "stdout",
     "output_type": "stream",
     "text": [
      "\n",
      "Epoch 040 train_loss: 1.8928 val_loss 1.8485 train_acc 0.4634 val_acc 0.4828\n"
     ]
    },
    {
     "name": "stderr",
     "output_type": "stream",
     "text": [
      "Epoch: 100%|██████████| 65/65 [00:18<00:00,  3.60it/s]\n",
      "Epoch:   0%|          | 0/65 [00:00<?, ?it/s]"
     ]
    },
    {
     "name": "stdout",
     "output_type": "stream",
     "text": [
      "\n",
      "Epoch 041 train_loss: 1.8946 val_loss 1.8567 train_acc 0.4650 val_acc 0.4796\n"
     ]
    },
    {
     "name": "stderr",
     "output_type": "stream",
     "text": [
      "Epoch: 100%|██████████| 65/65 [00:18<00:00,  3.51it/s]\n",
      "Epoch:   0%|          | 0/65 [00:00<?, ?it/s]"
     ]
    },
    {
     "name": "stdout",
     "output_type": "stream",
     "text": [
      "\n",
      "Epoch 042 train_loss: 1.8833 val_loss 1.8352 train_acc 0.4693 val_acc 0.4901\n"
     ]
    },
    {
     "name": "stderr",
     "output_type": "stream",
     "text": [
      "Epoch: 100%|██████████| 65/65 [00:18<00:00,  3.57it/s]\n",
      "Epoch:   0%|          | 0/65 [00:00<?, ?it/s]"
     ]
    },
    {
     "name": "stdout",
     "output_type": "stream",
     "text": [
      "\n",
      "Epoch 043 train_loss: 1.8845 val_loss 1.8388 train_acc 0.4681 val_acc 0.4850\n"
     ]
    },
    {
     "name": "stderr",
     "output_type": "stream",
     "text": [
      "Epoch: 100%|██████████| 65/65 [00:18<00:00,  3.54it/s]\n",
      "Epoch:   0%|          | 0/65 [00:00<?, ?it/s]"
     ]
    },
    {
     "name": "stdout",
     "output_type": "stream",
     "text": [
      "\n",
      "Epoch 044 train_loss: 1.8883 val_loss 1.8416 train_acc 0.4656 val_acc 0.4850\n"
     ]
    },
    {
     "name": "stderr",
     "output_type": "stream",
     "text": [
      "Epoch: 100%|██████████| 65/65 [00:18<00:00,  3.55it/s]\n",
      "Epoch:   0%|          | 0/65 [00:00<?, ?it/s]"
     ]
    },
    {
     "name": "stdout",
     "output_type": "stream",
     "text": [
      "\n",
      "Epoch 045 train_loss: 1.8833 val_loss 1.8344 train_acc 0.4706 val_acc 0.4883\n"
     ]
    },
    {
     "name": "stderr",
     "output_type": "stream",
     "text": [
      "Epoch: 100%|██████████| 65/65 [00:18<00:00,  3.48it/s]\n",
      "Epoch:   0%|          | 0/65 [00:00<?, ?it/s]"
     ]
    },
    {
     "name": "stdout",
     "output_type": "stream",
     "text": [
      "\n",
      "Epoch 046 train_loss: 1.8708 val_loss 1.8375 train_acc 0.4709 val_acc 0.4923\n"
     ]
    },
    {
     "name": "stderr",
     "output_type": "stream",
     "text": [
      "Epoch: 100%|██████████| 65/65 [00:19<00:00,  3.36it/s]\n",
      "Epoch:   0%|          | 0/65 [00:00<?, ?it/s]"
     ]
    },
    {
     "name": "stdout",
     "output_type": "stream",
     "text": [
      "\n",
      "Epoch 047 train_loss: 1.8714 val_loss 1.8310 train_acc 0.4749 val_acc 0.4938\n"
     ]
    },
    {
     "name": "stderr",
     "output_type": "stream",
     "text": [
      "Epoch: 100%|██████████| 65/65 [00:18<00:00,  3.59it/s]\n",
      "Epoch:   0%|          | 0/65 [00:00<?, ?it/s]"
     ]
    },
    {
     "name": "stdout",
     "output_type": "stream",
     "text": [
      "\n",
      "Epoch 048 train_loss: 1.8639 val_loss 1.8300 train_acc 0.4774 val_acc 0.4934\n"
     ]
    },
    {
     "name": "stderr",
     "output_type": "stream",
     "text": [
      "Epoch: 100%|██████████| 65/65 [00:19<00:00,  3.40it/s]\n",
      "Epoch:   0%|          | 0/65 [00:00<?, ?it/s]"
     ]
    },
    {
     "name": "stdout",
     "output_type": "stream",
     "text": [
      "\n",
      "Epoch 049 train_loss: 1.8653 val_loss 1.8145 train_acc 0.4689 val_acc 0.4967\n"
     ]
    },
    {
     "name": "stderr",
     "output_type": "stream",
     "text": [
      "Epoch: 100%|██████████| 65/65 [00:18<00:00,  3.58it/s]\n"
     ]
    },
    {
     "name": "stdout",
     "output_type": "stream",
     "text": [
      "\n",
      "Epoch 050 train_loss: 1.8635 val_loss 1.8201 train_acc 0.4753 val_acc 0.4953\n"
     ]
    }
   ],
   "source": [
    "optim = torch.optim.SGD(CNN.parameters(), lr=0.0003)\n",
    "criterion = nn.CrossEntropyLoss()\n",
    "\n",
    "history = train(train_dataset, val_dataset, model=CNN,  optim=optim,\n",
    "                criterion=criterion, epochs=50, batch_size=128, device=DEVICE)"
   ]
  },
  {
   "cell_type": "code",
   "execution_count": 57,
   "metadata": {
    "scrolled": true
   },
   "outputs": [
    {
     "name": "stderr",
     "output_type": "stream",
     "text": [
      "Epoch: 100%|██████████| 65/65 [00:18<00:00,  3.49it/s]\n",
      "Epoch:   0%|          | 0/65 [00:00<?, ?it/s]"
     ]
    },
    {
     "name": "stdout",
     "output_type": "stream",
     "text": [
      "\n",
      "Epoch 001 train_loss: 1.8505 val_loss 1.8141 train_acc 0.4794 val_acc 0.4974\n"
     ]
    },
    {
     "name": "stderr",
     "output_type": "stream",
     "text": [
      "Epoch: 100%|██████████| 65/65 [00:17<00:00,  3.62it/s]\n",
      "Epoch:   0%|          | 0/65 [00:00<?, ?it/s]"
     ]
    },
    {
     "name": "stdout",
     "output_type": "stream",
     "text": [
      "\n",
      "Epoch 002 train_loss: 1.8489 val_loss 1.8206 train_acc 0.4822 val_acc 0.4934\n"
     ]
    },
    {
     "name": "stderr",
     "output_type": "stream",
     "text": [
      "Epoch: 100%|██████████| 65/65 [00:18<00:00,  3.56it/s]\n",
      "Epoch:   0%|          | 0/65 [00:00<?, ?it/s]"
     ]
    },
    {
     "name": "stdout",
     "output_type": "stream",
     "text": [
      "\n",
      "Epoch 003 train_loss: 1.8586 val_loss 1.8108 train_acc 0.4775 val_acc 0.4985\n"
     ]
    },
    {
     "name": "stderr",
     "output_type": "stream",
     "text": [
      "Epoch: 100%|██████████| 65/65 [00:18<00:00,  3.56it/s]\n",
      "Epoch:   0%|          | 0/65 [00:00<?, ?it/s]"
     ]
    },
    {
     "name": "stdout",
     "output_type": "stream",
     "text": [
      "\n",
      "Epoch 004 train_loss: 1.8594 val_loss 1.8035 train_acc 0.4702 val_acc 0.5029\n"
     ]
    },
    {
     "name": "stderr",
     "output_type": "stream",
     "text": [
      "Epoch: 100%|██████████| 65/65 [00:18<00:00,  3.56it/s]\n",
      "Epoch:   0%|          | 0/65 [00:00<?, ?it/s]"
     ]
    },
    {
     "name": "stdout",
     "output_type": "stream",
     "text": [
      "\n",
      "Epoch 005 train_loss: 1.8478 val_loss 1.8046 train_acc 0.4820 val_acc 0.5000\n"
     ]
    },
    {
     "name": "stderr",
     "output_type": "stream",
     "text": [
      "Epoch: 100%|██████████| 65/65 [00:18<00:00,  3.53it/s]\n",
      "Epoch:   0%|          | 0/65 [00:00<?, ?it/s]"
     ]
    },
    {
     "name": "stdout",
     "output_type": "stream",
     "text": [
      "\n",
      "Epoch 006 train_loss: 1.8436 val_loss 1.8086 train_acc 0.4811 val_acc 0.5004\n"
     ]
    },
    {
     "name": "stderr",
     "output_type": "stream",
     "text": [
      "Epoch: 100%|██████████| 65/65 [00:18<00:00,  3.54it/s]\n",
      "Epoch:   0%|          | 0/65 [00:00<?, ?it/s]"
     ]
    },
    {
     "name": "stdout",
     "output_type": "stream",
     "text": [
      "\n",
      "Epoch 007 train_loss: 1.8406 val_loss 1.8020 train_acc 0.4800 val_acc 0.5007\n"
     ]
    },
    {
     "name": "stderr",
     "output_type": "stream",
     "text": [
      "Epoch: 100%|██████████| 65/65 [00:17<00:00,  3.63it/s]\n",
      "Epoch:   0%|          | 0/65 [00:00<?, ?it/s]"
     ]
    },
    {
     "name": "stdout",
     "output_type": "stream",
     "text": [
      "\n",
      "Epoch 008 train_loss: 1.8407 val_loss 1.7966 train_acc 0.4816 val_acc 0.5040\n"
     ]
    },
    {
     "name": "stderr",
     "output_type": "stream",
     "text": [
      "Epoch: 100%|██████████| 65/65 [00:17<00:00,  3.67it/s]\n",
      "Epoch:   0%|          | 0/65 [00:00<?, ?it/s]"
     ]
    },
    {
     "name": "stdout",
     "output_type": "stream",
     "text": [
      "\n",
      "Epoch 009 train_loss: 1.8336 val_loss 1.7950 train_acc 0.4831 val_acc 0.5044\n"
     ]
    },
    {
     "name": "stderr",
     "output_type": "stream",
     "text": [
      "Epoch: 100%|██████████| 65/65 [00:18<00:00,  3.56it/s]\n",
      "Epoch:   0%|          | 0/65 [00:00<?, ?it/s]"
     ]
    },
    {
     "name": "stdout",
     "output_type": "stream",
     "text": [
      "\n",
      "Epoch 010 train_loss: 1.8391 val_loss 1.7975 train_acc 0.4820 val_acc 0.5022\n"
     ]
    },
    {
     "name": "stderr",
     "output_type": "stream",
     "text": [
      "Epoch: 100%|██████████| 65/65 [00:18<00:00,  3.59it/s]\n",
      "Epoch:   0%|          | 0/65 [00:00<?, ?it/s]"
     ]
    },
    {
     "name": "stdout",
     "output_type": "stream",
     "text": [
      "\n",
      "Epoch 011 train_loss: 1.8274 val_loss 1.7898 train_acc 0.4849 val_acc 0.5058\n"
     ]
    },
    {
     "name": "stderr",
     "output_type": "stream",
     "text": [
      "Epoch: 100%|██████████| 65/65 [00:18<00:00,  3.58it/s]\n",
      "Epoch:   0%|          | 0/65 [00:00<?, ?it/s]"
     ]
    },
    {
     "name": "stdout",
     "output_type": "stream",
     "text": [
      "\n",
      "Epoch 012 train_loss: 1.8358 val_loss 1.7947 train_acc 0.4833 val_acc 0.5026\n"
     ]
    },
    {
     "name": "stderr",
     "output_type": "stream",
     "text": [
      "Epoch: 100%|██████████| 65/65 [00:18<00:00,  3.44it/s]\n",
      "Epoch:   0%|          | 0/65 [00:00<?, ?it/s]"
     ]
    },
    {
     "name": "stdout",
     "output_type": "stream",
     "text": [
      "\n",
      "Epoch 013 train_loss: 1.8264 val_loss 1.7919 train_acc 0.4876 val_acc 0.5044\n"
     ]
    },
    {
     "name": "stderr",
     "output_type": "stream",
     "text": [
      "Epoch: 100%|██████████| 65/65 [00:18<00:00,  3.60it/s]\n",
      "Epoch:   0%|          | 0/65 [00:00<?, ?it/s]"
     ]
    },
    {
     "name": "stdout",
     "output_type": "stream",
     "text": [
      "\n",
      "Epoch 014 train_loss: 1.8259 val_loss 1.7876 train_acc 0.4843 val_acc 0.5051\n"
     ]
    },
    {
     "name": "stderr",
     "output_type": "stream",
     "text": [
      "Epoch: 100%|██████████| 65/65 [00:18<00:00,  3.61it/s]\n",
      "Epoch:   0%|          | 0/65 [00:00<?, ?it/s]"
     ]
    },
    {
     "name": "stdout",
     "output_type": "stream",
     "text": [
      "\n",
      "Epoch 015 train_loss: 1.8213 val_loss 1.7811 train_acc 0.4837 val_acc 0.5073\n"
     ]
    },
    {
     "name": "stderr",
     "output_type": "stream",
     "text": [
      "Epoch: 100%|██████████| 65/65 [00:18<00:00,  3.58it/s]\n",
      "Epoch:   0%|          | 0/65 [00:00<?, ?it/s]"
     ]
    },
    {
     "name": "stdout",
     "output_type": "stream",
     "text": [
      "\n",
      "Epoch 016 train_loss: 1.8133 val_loss 1.7825 train_acc 0.4922 val_acc 0.5066\n"
     ]
    },
    {
     "name": "stderr",
     "output_type": "stream",
     "text": [
      "Epoch: 100%|██████████| 65/65 [00:18<00:00,  3.60it/s]\n",
      "Epoch:   0%|          | 0/65 [00:00<?, ?it/s]"
     ]
    },
    {
     "name": "stdout",
     "output_type": "stream",
     "text": [
      "\n",
      "Epoch 017 train_loss: 1.8147 val_loss 1.7808 train_acc 0.4878 val_acc 0.5073\n"
     ]
    },
    {
     "name": "stderr",
     "output_type": "stream",
     "text": [
      "Epoch: 100%|██████████| 65/65 [00:18<00:00,  3.50it/s]\n",
      "Epoch:   0%|          | 0/65 [00:00<?, ?it/s]"
     ]
    },
    {
     "name": "stdout",
     "output_type": "stream",
     "text": [
      "\n",
      "Epoch 018 train_loss: 1.8186 val_loss 1.7768 train_acc 0.4847 val_acc 0.5091\n"
     ]
    },
    {
     "name": "stderr",
     "output_type": "stream",
     "text": [
      "Epoch: 100%|██████████| 65/65 [00:18<00:00,  3.61it/s]\n",
      "Epoch:   0%|          | 0/65 [00:00<?, ?it/s]"
     ]
    },
    {
     "name": "stdout",
     "output_type": "stream",
     "text": [
      "\n",
      "Epoch 019 train_loss: 1.8058 val_loss 1.7752 train_acc 0.4939 val_acc 0.5091\n"
     ]
    },
    {
     "name": "stderr",
     "output_type": "stream",
     "text": [
      "Epoch: 100%|██████████| 65/65 [00:18<00:00,  3.54it/s]\n",
      "Epoch:   0%|          | 0/65 [00:00<?, ?it/s]"
     ]
    },
    {
     "name": "stdout",
     "output_type": "stream",
     "text": [
      "\n",
      "Epoch 020 train_loss: 1.8056 val_loss 1.7772 train_acc 0.4925 val_acc 0.5073\n"
     ]
    },
    {
     "name": "stderr",
     "output_type": "stream",
     "text": [
      "Epoch: 100%|██████████| 65/65 [00:18<00:00,  3.57it/s]\n",
      "Epoch:   0%|          | 0/65 [00:00<?, ?it/s]"
     ]
    },
    {
     "name": "stdout",
     "output_type": "stream",
     "text": [
      "\n",
      "Epoch 021 train_loss: 1.8108 val_loss 1.7740 train_acc 0.4841 val_acc 0.5088\n"
     ]
    },
    {
     "name": "stderr",
     "output_type": "stream",
     "text": [
      "Epoch: 100%|██████████| 65/65 [00:18<00:00,  3.59it/s]\n",
      "Epoch:   0%|          | 0/65 [00:00<?, ?it/s]"
     ]
    },
    {
     "name": "stdout",
     "output_type": "stream",
     "text": [
      "\n",
      "Epoch 022 train_loss: 1.8094 val_loss 1.7723 train_acc 0.4891 val_acc 0.5088\n"
     ]
    },
    {
     "name": "stderr",
     "output_type": "stream",
     "text": [
      "Epoch: 100%|██████████| 65/65 [00:17<00:00,  3.65it/s]\n",
      "Epoch:   0%|          | 0/65 [00:00<?, ?it/s]"
     ]
    },
    {
     "name": "stdout",
     "output_type": "stream",
     "text": [
      "\n",
      "Epoch 023 train_loss: 1.8152 val_loss 1.7672 train_acc 0.4893 val_acc 0.5135\n"
     ]
    },
    {
     "name": "stderr",
     "output_type": "stream",
     "text": [
      "Epoch: 100%|██████████| 65/65 [00:18<00:00,  3.58it/s]\n",
      "Epoch:   0%|          | 0/65 [00:00<?, ?it/s]"
     ]
    },
    {
     "name": "stdout",
     "output_type": "stream",
     "text": [
      "\n",
      "Epoch 024 train_loss: 1.8062 val_loss 1.7683 train_acc 0.4905 val_acc 0.5099\n"
     ]
    },
    {
     "name": "stderr",
     "output_type": "stream",
     "text": [
      "Epoch: 100%|██████████| 65/65 [00:18<00:00,  3.54it/s]\n",
      "Epoch:   0%|          | 0/65 [00:00<?, ?it/s]"
     ]
    },
    {
     "name": "stdout",
     "output_type": "stream",
     "text": [
      "\n",
      "Epoch 025 train_loss: 1.8017 val_loss 1.7730 train_acc 0.4974 val_acc 0.5077\n"
     ]
    },
    {
     "name": "stderr",
     "output_type": "stream",
     "text": [
      "Epoch: 100%|██████████| 65/65 [00:18<00:00,  3.45it/s]\n",
      "Epoch:   0%|          | 0/65 [00:00<?, ?it/s]"
     ]
    },
    {
     "name": "stdout",
     "output_type": "stream",
     "text": [
      "\n",
      "Epoch 026 train_loss: 1.7996 val_loss 1.7634 train_acc 0.4931 val_acc 0.5106\n"
     ]
    },
    {
     "name": "stderr",
     "output_type": "stream",
     "text": [
      "Epoch: 100%|██████████| 65/65 [00:17<00:00,  3.63it/s]\n",
      "Epoch:   0%|          | 0/65 [00:00<?, ?it/s]"
     ]
    },
    {
     "name": "stdout",
     "output_type": "stream",
     "text": [
      "\n",
      "Epoch 027 train_loss: 1.7974 val_loss 1.7619 train_acc 0.4964 val_acc 0.5117\n"
     ]
    },
    {
     "name": "stderr",
     "output_type": "stream",
     "text": [
      "Epoch: 100%|██████████| 65/65 [00:18<00:00,  3.44it/s]\n",
      "Epoch:   0%|          | 0/65 [00:00<?, ?it/s]"
     ]
    },
    {
     "name": "stdout",
     "output_type": "stream",
     "text": [
      "\n",
      "Epoch 028 train_loss: 1.8004 val_loss 1.7723 train_acc 0.4892 val_acc 0.5091\n"
     ]
    },
    {
     "name": "stderr",
     "output_type": "stream",
     "text": [
      "Epoch: 100%|██████████| 65/65 [00:18<00:00,  3.52it/s]\n",
      "Epoch:   0%|          | 0/65 [00:00<?, ?it/s]"
     ]
    },
    {
     "name": "stdout",
     "output_type": "stream",
     "text": [
      "\n",
      "Epoch 029 train_loss: 1.7938 val_loss 1.7654 train_acc 0.4933 val_acc 0.5128\n"
     ]
    },
    {
     "name": "stderr",
     "output_type": "stream",
     "text": [
      "Epoch: 100%|██████████| 65/65 [00:18<00:00,  3.55it/s]\n",
      "Epoch:   0%|          | 0/65 [00:00<?, ?it/s]"
     ]
    },
    {
     "name": "stdout",
     "output_type": "stream",
     "text": [
      "\n",
      "Epoch 030 train_loss: 1.7888 val_loss 1.7566 train_acc 0.4981 val_acc 0.5146\n"
     ]
    },
    {
     "name": "stderr",
     "output_type": "stream",
     "text": [
      "Epoch: 100%|██████████| 65/65 [00:18<00:00,  3.57it/s]\n",
      "Epoch:   0%|          | 0/65 [00:00<?, ?it/s]"
     ]
    },
    {
     "name": "stdout",
     "output_type": "stream",
     "text": [
      "\n",
      "Epoch 031 train_loss: 1.7894 val_loss 1.7529 train_acc 0.4942 val_acc 0.5168\n"
     ]
    },
    {
     "name": "stderr",
     "output_type": "stream",
     "text": [
      "Epoch: 100%|██████████| 65/65 [00:18<00:00,  3.54it/s]\n",
      "Epoch:   0%|          | 0/65 [00:00<?, ?it/s]"
     ]
    },
    {
     "name": "stdout",
     "output_type": "stream",
     "text": [
      "\n",
      "Epoch 032 train_loss: 1.7833 val_loss 1.7586 train_acc 0.4957 val_acc 0.5124\n"
     ]
    },
    {
     "name": "stderr",
     "output_type": "stream",
     "text": [
      "Epoch: 100%|██████████| 65/65 [00:18<00:00,  3.53it/s]\n",
      "Epoch:   0%|          | 0/65 [00:00<?, ?it/s]"
     ]
    },
    {
     "name": "stdout",
     "output_type": "stream",
     "text": [
      "\n",
      "Epoch 033 train_loss: 1.7859 val_loss 1.7497 train_acc 0.4925 val_acc 0.5164\n"
     ]
    },
    {
     "name": "stderr",
     "output_type": "stream",
     "text": [
      "Epoch: 100%|██████████| 65/65 [00:18<00:00,  3.58it/s]\n",
      "Epoch:   0%|          | 0/65 [00:00<?, ?it/s]"
     ]
    },
    {
     "name": "stdout",
     "output_type": "stream",
     "text": [
      "\n",
      "Epoch 034 train_loss: 1.7975 val_loss 1.7539 train_acc 0.4923 val_acc 0.5150\n"
     ]
    },
    {
     "name": "stderr",
     "output_type": "stream",
     "text": [
      "Epoch: 100%|██████████| 65/65 [00:17<00:00,  3.62it/s]\n",
      "Epoch:   0%|          | 0/65 [00:00<?, ?it/s]"
     ]
    },
    {
     "name": "stdout",
     "output_type": "stream",
     "text": [
      "\n",
      "Epoch 035 train_loss: 1.7830 val_loss 1.7448 train_acc 0.4973 val_acc 0.5175\n"
     ]
    },
    {
     "name": "stderr",
     "output_type": "stream",
     "text": [
      "Epoch: 100%|██████████| 65/65 [00:18<00:00,  3.56it/s]\n",
      "Epoch:   0%|          | 0/65 [00:00<?, ?it/s]"
     ]
    },
    {
     "name": "stdout",
     "output_type": "stream",
     "text": [
      "\n",
      "Epoch 036 train_loss: 1.7796 val_loss 1.7489 train_acc 0.5054 val_acc 0.5168\n"
     ]
    },
    {
     "name": "stderr",
     "output_type": "stream",
     "text": [
      "Epoch: 100%|██████████| 65/65 [00:18<00:00,  3.59it/s]\n",
      "Epoch:   0%|          | 0/65 [00:00<?, ?it/s]"
     ]
    },
    {
     "name": "stdout",
     "output_type": "stream",
     "text": [
      "\n",
      "Epoch 037 train_loss: 1.7801 val_loss 1.7414 train_acc 0.4939 val_acc 0.5190\n"
     ]
    },
    {
     "name": "stderr",
     "output_type": "stream",
     "text": [
      "Epoch: 100%|██████████| 65/65 [00:18<00:00,  3.51it/s]\n",
      "Epoch:   0%|          | 0/65 [00:00<?, ?it/s]"
     ]
    },
    {
     "name": "stdout",
     "output_type": "stream",
     "text": [
      "\n",
      "Epoch 038 train_loss: 1.7740 val_loss 1.7399 train_acc 0.4985 val_acc 0.5193\n"
     ]
    },
    {
     "name": "stderr",
     "output_type": "stream",
     "text": [
      "Epoch: 100%|██████████| 65/65 [00:18<00:00,  3.49it/s]\n",
      "Epoch:   0%|          | 0/65 [00:00<?, ?it/s]"
     ]
    },
    {
     "name": "stdout",
     "output_type": "stream",
     "text": [
      "\n",
      "Epoch 039 train_loss: 1.7718 val_loss 1.7416 train_acc 0.5012 val_acc 0.5197\n"
     ]
    },
    {
     "name": "stderr",
     "output_type": "stream",
     "text": [
      "Epoch: 100%|██████████| 65/65 [00:18<00:00,  3.61it/s]\n",
      "Epoch:   0%|          | 0/65 [00:00<?, ?it/s]"
     ]
    },
    {
     "name": "stdout",
     "output_type": "stream",
     "text": [
      "\n",
      "Epoch 040 train_loss: 1.7568 val_loss 1.7349 train_acc 0.5011 val_acc 0.5230\n"
     ]
    },
    {
     "name": "stderr",
     "output_type": "stream",
     "text": [
      "Epoch: 100%|██████████| 65/65 [00:18<00:00,  3.55it/s]\n",
      "Epoch:   0%|          | 0/65 [00:00<?, ?it/s]"
     ]
    },
    {
     "name": "stdout",
     "output_type": "stream",
     "text": [
      "\n",
      "Epoch 041 train_loss: 1.7721 val_loss 1.7350 train_acc 0.5018 val_acc 0.5212\n"
     ]
    },
    {
     "name": "stderr",
     "output_type": "stream",
     "text": [
      "Epoch: 100%|██████████| 65/65 [00:18<00:00,  3.47it/s]\n",
      "Epoch:   0%|          | 0/65 [00:00<?, ?it/s]"
     ]
    },
    {
     "name": "stdout",
     "output_type": "stream",
     "text": [
      "\n",
      "Epoch 042 train_loss: 1.7719 val_loss 1.7291 train_acc 0.5023 val_acc 0.5241\n"
     ]
    },
    {
     "name": "stderr",
     "output_type": "stream",
     "text": [
      "Epoch: 100%|██████████| 65/65 [00:18<00:00,  3.55it/s]\n",
      "Epoch:   0%|          | 0/65 [00:00<?, ?it/s]"
     ]
    },
    {
     "name": "stdout",
     "output_type": "stream",
     "text": [
      "\n",
      "Epoch 043 train_loss: 1.7622 val_loss 1.7337 train_acc 0.5016 val_acc 0.5193\n"
     ]
    },
    {
     "name": "stderr",
     "output_type": "stream",
     "text": [
      "Epoch: 100%|██████████| 65/65 [00:18<00:00,  3.60it/s]\n",
      "Epoch:   0%|          | 0/65 [00:00<?, ?it/s]"
     ]
    },
    {
     "name": "stdout",
     "output_type": "stream",
     "text": [
      "\n",
      "Epoch 044 train_loss: 1.7576 val_loss 1.7295 train_acc 0.5005 val_acc 0.5215\n"
     ]
    },
    {
     "name": "stderr",
     "output_type": "stream",
     "text": [
      "Epoch: 100%|██████████| 65/65 [00:18<00:00,  3.52it/s]\n",
      "Epoch:   0%|          | 0/65 [00:00<?, ?it/s]"
     ]
    },
    {
     "name": "stdout",
     "output_type": "stream",
     "text": [
      "\n",
      "Epoch 045 train_loss: 1.7557 val_loss 1.7315 train_acc 0.5019 val_acc 0.5208\n"
     ]
    },
    {
     "name": "stderr",
     "output_type": "stream",
     "text": [
      "Epoch: 100%|██████████| 65/65 [00:18<00:00,  3.48it/s]\n",
      "Epoch:   0%|          | 0/65 [00:00<?, ?it/s]"
     ]
    },
    {
     "name": "stdout",
     "output_type": "stream",
     "text": [
      "\n",
      "Epoch 046 train_loss: 1.7492 val_loss 1.7250 train_acc 0.5056 val_acc 0.5234\n"
     ]
    },
    {
     "name": "stderr",
     "output_type": "stream",
     "text": [
      "Epoch: 100%|██████████| 65/65 [00:19<00:00,  3.33it/s]\n",
      "Epoch:   0%|          | 0/65 [00:00<?, ?it/s]"
     ]
    },
    {
     "name": "stdout",
     "output_type": "stream",
     "text": [
      "\n",
      "Epoch 047 train_loss: 1.7513 val_loss 1.7222 train_acc 0.5049 val_acc 0.5230\n"
     ]
    },
    {
     "name": "stderr",
     "output_type": "stream",
     "text": [
      "Epoch: 100%|██████████| 65/65 [00:19<00:00,  3.35it/s]\n",
      "Epoch:   0%|          | 0/65 [00:00<?, ?it/s]"
     ]
    },
    {
     "name": "stdout",
     "output_type": "stream",
     "text": [
      "\n",
      "Epoch 048 train_loss: 1.7543 val_loss 1.7264 train_acc 0.5080 val_acc 0.5230\n"
     ]
    },
    {
     "name": "stderr",
     "output_type": "stream",
     "text": [
      "Epoch: 100%|██████████| 65/65 [00:18<00:00,  3.49it/s]\n",
      "Epoch:   0%|          | 0/65 [00:00<?, ?it/s]"
     ]
    },
    {
     "name": "stdout",
     "output_type": "stream",
     "text": [
      "\n",
      "Epoch 049 train_loss: 1.7459 val_loss 1.7223 train_acc 0.5068 val_acc 0.5215\n"
     ]
    },
    {
     "name": "stderr",
     "output_type": "stream",
     "text": [
      "Epoch: 100%|██████████| 65/65 [00:18<00:00,  3.57it/s]\n",
      "Epoch:   0%|          | 0/65 [00:00<?, ?it/s]"
     ]
    },
    {
     "name": "stdout",
     "output_type": "stream",
     "text": [
      "\n",
      "Epoch 050 train_loss: 1.7539 val_loss 1.7156 train_acc 0.5069 val_acc 0.5266\n"
     ]
    },
    {
     "name": "stderr",
     "output_type": "stream",
     "text": [
      "Epoch: 100%|██████████| 65/65 [00:18<00:00,  3.52it/s]\n",
      "Epoch:   0%|          | 0/65 [00:00<?, ?it/s]"
     ]
    },
    {
     "name": "stdout",
     "output_type": "stream",
     "text": [
      "\n",
      "Epoch 051 train_loss: 1.7488 val_loss 1.7157 train_acc 0.5077 val_acc 0.5241\n"
     ]
    },
    {
     "name": "stderr",
     "output_type": "stream",
     "text": [
      "Epoch: 100%|██████████| 65/65 [00:18<00:00,  3.57it/s]\n",
      "Epoch:   0%|          | 0/65 [00:00<?, ?it/s]"
     ]
    },
    {
     "name": "stdout",
     "output_type": "stream",
     "text": [
      "\n",
      "Epoch 052 train_loss: 1.7429 val_loss 1.7145 train_acc 0.5083 val_acc 0.5252\n"
     ]
    },
    {
     "name": "stderr",
     "output_type": "stream",
     "text": [
      "Epoch: 100%|██████████| 65/65 [00:18<00:00,  3.56it/s]\n",
      "Epoch:   0%|          | 0/65 [00:00<?, ?it/s]"
     ]
    },
    {
     "name": "stdout",
     "output_type": "stream",
     "text": [
      "\n",
      "Epoch 053 train_loss: 1.7365 val_loss 1.7133 train_acc 0.5120 val_acc 0.5248\n"
     ]
    },
    {
     "name": "stderr",
     "output_type": "stream",
     "text": [
      "Epoch: 100%|██████████| 65/65 [00:18<00:00,  3.58it/s]\n",
      "Epoch:   0%|          | 0/65 [00:00<?, ?it/s]"
     ]
    },
    {
     "name": "stdout",
     "output_type": "stream",
     "text": [
      "\n",
      "Epoch 054 train_loss: 1.7435 val_loss 1.7101 train_acc 0.5066 val_acc 0.5263\n"
     ]
    },
    {
     "name": "stderr",
     "output_type": "stream",
     "text": [
      "Epoch: 100%|██████████| 65/65 [00:18<00:00,  3.46it/s]\n",
      "Epoch:   0%|          | 0/65 [00:00<?, ?it/s]"
     ]
    },
    {
     "name": "stdout",
     "output_type": "stream",
     "text": [
      "\n",
      "Epoch 055 train_loss: 1.7379 val_loss 1.7074 train_acc 0.5123 val_acc 0.5274\n"
     ]
    },
    {
     "name": "stderr",
     "output_type": "stream",
     "text": [
      "Epoch: 100%|██████████| 65/65 [00:17<00:00,  3.63it/s]\n",
      "Epoch:   0%|          | 0/65 [00:00<?, ?it/s]"
     ]
    },
    {
     "name": "stdout",
     "output_type": "stream",
     "text": [
      "\n",
      "Epoch 056 train_loss: 1.7338 val_loss 1.7125 train_acc 0.5123 val_acc 0.5259\n"
     ]
    },
    {
     "name": "stderr",
     "output_type": "stream",
     "text": [
      "Epoch: 100%|██████████| 65/65 [00:17<00:00,  3.65it/s]\n",
      "Epoch:   0%|          | 0/65 [00:00<?, ?it/s]"
     ]
    },
    {
     "name": "stdout",
     "output_type": "stream",
     "text": [
      "\n",
      "Epoch 057 train_loss: 1.7332 val_loss 1.7032 train_acc 0.5144 val_acc 0.5299\n"
     ]
    },
    {
     "name": "stderr",
     "output_type": "stream",
     "text": [
      "Epoch: 100%|██████████| 65/65 [00:18<00:00,  3.60it/s]\n",
      "Epoch:   0%|          | 0/65 [00:00<?, ?it/s]"
     ]
    },
    {
     "name": "stdout",
     "output_type": "stream",
     "text": [
      "\n",
      "Epoch 058 train_loss: 1.7355 val_loss 1.7097 train_acc 0.5111 val_acc 0.5270\n"
     ]
    },
    {
     "name": "stderr",
     "output_type": "stream",
     "text": [
      "Epoch: 100%|██████████| 65/65 [00:18<00:00,  3.54it/s]\n",
      "Epoch:   0%|          | 0/65 [00:00<?, ?it/s]"
     ]
    },
    {
     "name": "stdout",
     "output_type": "stream",
     "text": [
      "\n",
      "Epoch 059 train_loss: 1.7228 val_loss 1.7039 train_acc 0.5128 val_acc 0.5285\n"
     ]
    },
    {
     "name": "stderr",
     "output_type": "stream",
     "text": [
      "Epoch: 100%|██████████| 65/65 [00:17<00:00,  3.62it/s]\n",
      "Epoch:   0%|          | 0/65 [00:00<?, ?it/s]"
     ]
    },
    {
     "name": "stdout",
     "output_type": "stream",
     "text": [
      "\n",
      "Epoch 060 train_loss: 1.7191 val_loss 1.7060 train_acc 0.5124 val_acc 0.5288\n"
     ]
    },
    {
     "name": "stderr",
     "output_type": "stream",
     "text": [
      "Epoch: 100%|██████████| 65/65 [00:18<00:00,  3.78it/s]\n",
      "Epoch:   0%|          | 0/65 [00:00<?, ?it/s]"
     ]
    },
    {
     "name": "stdout",
     "output_type": "stream",
     "text": [
      "\n",
      "Epoch 061 train_loss: 1.7276 val_loss 1.7053 train_acc 0.5109 val_acc 0.5255\n"
     ]
    },
    {
     "name": "stderr",
     "output_type": "stream",
     "text": [
      "Epoch: 100%|██████████| 65/65 [00:19<00:00,  3.41it/s]\n",
      "Epoch:   0%|          | 0/65 [00:00<?, ?it/s]"
     ]
    },
    {
     "name": "stdout",
     "output_type": "stream",
     "text": [
      "\n",
      "Epoch 062 train_loss: 1.7155 val_loss 1.7012 train_acc 0.5144 val_acc 0.5296\n"
     ]
    },
    {
     "name": "stderr",
     "output_type": "stream",
     "text": [
      "Epoch: 100%|██████████| 65/65 [00:18<00:00,  3.49it/s]\n",
      "Epoch:   0%|          | 0/65 [00:00<?, ?it/s]"
     ]
    },
    {
     "name": "stdout",
     "output_type": "stream",
     "text": [
      "\n",
      "Epoch 063 train_loss: 1.7144 val_loss 1.6990 train_acc 0.5146 val_acc 0.5288\n"
     ]
    },
    {
     "name": "stderr",
     "output_type": "stream",
     "text": [
      "Epoch: 100%|██████████| 65/65 [00:19<00:00,  3.37it/s]\n",
      "Epoch:   0%|          | 0/65 [00:00<?, ?it/s]"
     ]
    },
    {
     "name": "stdout",
     "output_type": "stream",
     "text": [
      "\n",
      "Epoch 064 train_loss: 1.7105 val_loss 1.6921 train_acc 0.5144 val_acc 0.5325\n"
     ]
    },
    {
     "name": "stderr",
     "output_type": "stream",
     "text": [
      "Epoch: 100%|██████████| 65/65 [00:18<00:00,  3.54it/s]\n",
      "Epoch:   0%|          | 0/65 [00:00<?, ?it/s]"
     ]
    },
    {
     "name": "stdout",
     "output_type": "stream",
     "text": [
      "\n",
      "Epoch 065 train_loss: 1.7183 val_loss 1.6977 train_acc 0.5146 val_acc 0.5288\n"
     ]
    },
    {
     "name": "stderr",
     "output_type": "stream",
     "text": [
      "Epoch: 100%|██████████| 65/65 [00:18<00:00,  3.54it/s]\n",
      "Epoch:   0%|          | 0/65 [00:00<?, ?it/s]"
     ]
    },
    {
     "name": "stdout",
     "output_type": "stream",
     "text": [
      "\n",
      "Epoch 066 train_loss: 1.7158 val_loss 1.6941 train_acc 0.5197 val_acc 0.5314\n"
     ]
    },
    {
     "name": "stderr",
     "output_type": "stream",
     "text": [
      "Epoch: 100%|██████████| 65/65 [00:18<00:00,  3.60it/s]\n",
      "Epoch:   0%|          | 0/65 [00:00<?, ?it/s]"
     ]
    },
    {
     "name": "stdout",
     "output_type": "stream",
     "text": [
      "\n",
      "Epoch 067 train_loss: 1.7109 val_loss 1.6884 train_acc 0.5169 val_acc 0.5325\n"
     ]
    },
    {
     "name": "stderr",
     "output_type": "stream",
     "text": [
      "Epoch: 100%|██████████| 65/65 [00:18<00:00,  3.53it/s]\n",
      "Epoch:   0%|          | 0/65 [00:00<?, ?it/s]"
     ]
    },
    {
     "name": "stdout",
     "output_type": "stream",
     "text": [
      "\n",
      "Epoch 068 train_loss: 1.7102 val_loss 1.6847 train_acc 0.5147 val_acc 0.5336\n"
     ]
    },
    {
     "name": "stderr",
     "output_type": "stream",
     "text": [
      "Epoch: 100%|██████████| 65/65 [00:19<00:00,  3.41it/s]\n",
      "Epoch:   0%|          | 0/65 [00:00<?, ?it/s]"
     ]
    },
    {
     "name": "stdout",
     "output_type": "stream",
     "text": [
      "\n",
      "Epoch 069 train_loss: 1.7073 val_loss 1.6862 train_acc 0.5152 val_acc 0.5350\n"
     ]
    },
    {
     "name": "stderr",
     "output_type": "stream",
     "text": [
      "Epoch: 100%|██████████| 65/65 [00:21<00:00,  3.05it/s]\n",
      "Epoch:   0%|          | 0/65 [00:00<?, ?it/s]"
     ]
    },
    {
     "name": "stdout",
     "output_type": "stream",
     "text": [
      "\n",
      "Epoch 070 train_loss: 1.7019 val_loss 1.6862 train_acc 0.5206 val_acc 0.5347\n"
     ]
    },
    {
     "name": "stderr",
     "output_type": "stream",
     "text": [
      "Epoch: 100%|██████████| 65/65 [00:19<00:00,  3.35it/s]\n",
      "Epoch:   0%|          | 0/65 [00:00<?, ?it/s]"
     ]
    },
    {
     "name": "stdout",
     "output_type": "stream",
     "text": [
      "\n",
      "Epoch 071 train_loss: 1.7029 val_loss 1.6843 train_acc 0.5191 val_acc 0.5339\n"
     ]
    },
    {
     "name": "stderr",
     "output_type": "stream",
     "text": [
      "Epoch: 100%|██████████| 65/65 [00:19<00:00,  3.38it/s]\n",
      "Epoch:   0%|          | 0/65 [00:00<?, ?it/s]"
     ]
    },
    {
     "name": "stdout",
     "output_type": "stream",
     "text": [
      "\n",
      "Epoch 072 train_loss: 1.6988 val_loss 1.6894 train_acc 0.5176 val_acc 0.5314\n"
     ]
    },
    {
     "name": "stderr",
     "output_type": "stream",
     "text": [
      "Epoch: 100%|██████████| 65/65 [00:17<00:00,  3.63it/s]\n",
      "Epoch:   0%|          | 0/65 [00:00<?, ?it/s]"
     ]
    },
    {
     "name": "stdout",
     "output_type": "stream",
     "text": [
      "\n",
      "Epoch 073 train_loss: 1.6959 val_loss 1.6862 train_acc 0.5224 val_acc 0.5328\n"
     ]
    },
    {
     "name": "stderr",
     "output_type": "stream",
     "text": [
      "Epoch: 100%|██████████| 65/65 [00:18<00:00,  3.55it/s]\n",
      "Epoch:   0%|          | 0/65 [00:00<?, ?it/s]"
     ]
    },
    {
     "name": "stdout",
     "output_type": "stream",
     "text": [
      "\n",
      "Epoch 074 train_loss: 1.6949 val_loss 1.6777 train_acc 0.5208 val_acc 0.5354\n"
     ]
    },
    {
     "name": "stderr",
     "output_type": "stream",
     "text": [
      "Epoch: 100%|██████████| 65/65 [00:17<00:00,  3.62it/s]\n",
      "Epoch:   0%|          | 0/65 [00:00<?, ?it/s]"
     ]
    },
    {
     "name": "stdout",
     "output_type": "stream",
     "text": [
      "\n",
      "Epoch 075 train_loss: 1.6965 val_loss 1.6841 train_acc 0.5231 val_acc 0.5358\n"
     ]
    },
    {
     "name": "stderr",
     "output_type": "stream",
     "text": [
      "Epoch: 100%|██████████| 65/65 [00:18<00:00,  3.56it/s]\n",
      "Epoch:   0%|          | 0/65 [00:00<?, ?it/s]"
     ]
    },
    {
     "name": "stdout",
     "output_type": "stream",
     "text": [
      "\n",
      "Epoch 076 train_loss: 1.6953 val_loss 1.6759 train_acc 0.5189 val_acc 0.5383\n"
     ]
    },
    {
     "name": "stderr",
     "output_type": "stream",
     "text": [
      "Epoch: 100%|██████████| 65/65 [00:18<00:00,  3.59it/s]\n",
      "Epoch:   0%|          | 0/65 [00:00<?, ?it/s]"
     ]
    },
    {
     "name": "stdout",
     "output_type": "stream",
     "text": [
      "\n",
      "Epoch 077 train_loss: 1.6831 val_loss 1.6717 train_acc 0.5229 val_acc 0.5372\n"
     ]
    },
    {
     "name": "stderr",
     "output_type": "stream",
     "text": [
      "Epoch: 100%|██████████| 65/65 [00:18<00:00,  3.56it/s]\n",
      "Epoch:   0%|          | 0/65 [00:00<?, ?it/s]"
     ]
    },
    {
     "name": "stdout",
     "output_type": "stream",
     "text": [
      "\n",
      "Epoch 078 train_loss: 1.6813 val_loss 1.6724 train_acc 0.5274 val_acc 0.5398\n"
     ]
    },
    {
     "name": "stderr",
     "output_type": "stream",
     "text": [
      "Epoch: 100%|██████████| 65/65 [00:18<00:00,  3.57it/s]\n",
      "Epoch:   0%|          | 0/65 [00:00<?, ?it/s]"
     ]
    },
    {
     "name": "stdout",
     "output_type": "stream",
     "text": [
      "\n",
      "Epoch 079 train_loss: 1.6831 val_loss 1.6711 train_acc 0.5280 val_acc 0.5391\n"
     ]
    },
    {
     "name": "stderr",
     "output_type": "stream",
     "text": [
      "Epoch: 100%|██████████| 65/65 [00:18<00:00,  3.55it/s]\n",
      "Epoch:   0%|          | 0/65 [00:00<?, ?it/s]"
     ]
    },
    {
     "name": "stdout",
     "output_type": "stream",
     "text": [
      "\n",
      "Epoch 080 train_loss: 1.6810 val_loss 1.6772 train_acc 0.5230 val_acc 0.5343\n"
     ]
    },
    {
     "name": "stderr",
     "output_type": "stream",
     "text": [
      "Epoch: 100%|██████████| 65/65 [00:18<00:00,  3.48it/s]\n",
      "Epoch:   0%|          | 0/65 [00:00<?, ?it/s]"
     ]
    },
    {
     "name": "stdout",
     "output_type": "stream",
     "text": [
      "\n",
      "Epoch 081 train_loss: 1.6951 val_loss 1.6686 train_acc 0.5200 val_acc 0.5398\n"
     ]
    },
    {
     "name": "stderr",
     "output_type": "stream",
     "text": [
      "Epoch: 100%|██████████| 65/65 [00:18<00:00,  3.54it/s]\n",
      "Epoch:   0%|          | 0/65 [00:00<?, ?it/s]"
     ]
    },
    {
     "name": "stdout",
     "output_type": "stream",
     "text": [
      "\n",
      "Epoch 082 train_loss: 1.6845 val_loss 1.6694 train_acc 0.5189 val_acc 0.5354\n"
     ]
    },
    {
     "name": "stderr",
     "output_type": "stream",
     "text": [
      "Epoch: 100%|██████████| 65/65 [00:18<00:00,  3.55it/s]\n",
      "Epoch:   0%|          | 0/65 [00:00<?, ?it/s]"
     ]
    },
    {
     "name": "stdout",
     "output_type": "stream",
     "text": [
      "\n",
      "Epoch 083 train_loss: 1.6809 val_loss 1.6804 train_acc 0.5215 val_acc 0.5336\n"
     ]
    },
    {
     "name": "stderr",
     "output_type": "stream",
     "text": [
      "Epoch: 100%|██████████| 65/65 [00:17<00:00,  3.61it/s]\n",
      "Epoch:   0%|          | 0/65 [00:00<?, ?it/s]"
     ]
    },
    {
     "name": "stdout",
     "output_type": "stream",
     "text": [
      "\n",
      "Epoch 084 train_loss: 1.6757 val_loss 1.6624 train_acc 0.5254 val_acc 0.5405\n"
     ]
    },
    {
     "name": "stderr",
     "output_type": "stream",
     "text": [
      "Epoch: 100%|██████████| 65/65 [00:18<00:00,  3.50it/s]\n",
      "Epoch:   0%|          | 0/65 [00:00<?, ?it/s]"
     ]
    },
    {
     "name": "stdout",
     "output_type": "stream",
     "text": [
      "\n",
      "Epoch 085 train_loss: 1.6775 val_loss 1.6714 train_acc 0.5283 val_acc 0.5350\n"
     ]
    },
    {
     "name": "stderr",
     "output_type": "stream",
     "text": [
      "Epoch: 100%|██████████| 65/65 [00:18<00:00,  3.50it/s]\n",
      "Epoch:   0%|          | 0/65 [00:00<?, ?it/s]"
     ]
    },
    {
     "name": "stdout",
     "output_type": "stream",
     "text": [
      "\n",
      "Epoch 086 train_loss: 1.6762 val_loss 1.6577 train_acc 0.5212 val_acc 0.5434\n"
     ]
    },
    {
     "name": "stderr",
     "output_type": "stream",
     "text": [
      "Epoch: 100%|██████████| 65/65 [00:18<00:00,  3.58it/s]\n",
      "Epoch:   0%|          | 0/65 [00:00<?, ?it/s]"
     ]
    },
    {
     "name": "stdout",
     "output_type": "stream",
     "text": [
      "\n",
      "Epoch 087 train_loss: 1.6606 val_loss 1.6595 train_acc 0.5320 val_acc 0.5416\n"
     ]
    },
    {
     "name": "stderr",
     "output_type": "stream",
     "text": [
      "Epoch: 100%|██████████| 65/65 [00:18<00:00,  3.53it/s]\n",
      "Epoch:   0%|          | 0/65 [00:00<?, ?it/s]"
     ]
    },
    {
     "name": "stdout",
     "output_type": "stream",
     "text": [
      "\n",
      "Epoch 088 train_loss: 1.6760 val_loss 1.6570 train_acc 0.5293 val_acc 0.5405\n"
     ]
    },
    {
     "name": "stderr",
     "output_type": "stream",
     "text": [
      "Epoch: 100%|██████████| 65/65 [00:18<00:00,  3.55it/s]\n",
      "Epoch:   0%|          | 0/65 [00:00<?, ?it/s]"
     ]
    },
    {
     "name": "stdout",
     "output_type": "stream",
     "text": [
      "\n",
      "Epoch 089 train_loss: 1.6581 val_loss 1.6558 train_acc 0.5310 val_acc 0.5445\n"
     ]
    },
    {
     "name": "stderr",
     "output_type": "stream",
     "text": [
      "Epoch: 100%|██████████| 65/65 [00:18<00:00,  3.51it/s]\n",
      "Epoch:   0%|          | 0/65 [00:00<?, ?it/s]"
     ]
    },
    {
     "name": "stdout",
     "output_type": "stream",
     "text": [
      "\n",
      "Epoch 090 train_loss: 1.6624 val_loss 1.6548 train_acc 0.5310 val_acc 0.5456\n"
     ]
    },
    {
     "name": "stderr",
     "output_type": "stream",
     "text": [
      "Epoch: 100%|██████████| 65/65 [00:18<00:00,  3.48it/s]\n",
      "Epoch:   0%|          | 0/65 [00:00<?, ?it/s]"
     ]
    },
    {
     "name": "stdout",
     "output_type": "stream",
     "text": [
      "\n",
      "Epoch 091 train_loss: 1.6646 val_loss 1.6563 train_acc 0.5296 val_acc 0.5434\n"
     ]
    },
    {
     "name": "stderr",
     "output_type": "stream",
     "text": [
      "Epoch: 100%|██████████| 65/65 [00:18<00:00,  3.56it/s]\n",
      "Epoch:   0%|          | 0/65 [00:00<?, ?it/s]"
     ]
    },
    {
     "name": "stdout",
     "output_type": "stream",
     "text": [
      "\n",
      "Epoch 092 train_loss: 1.6604 val_loss 1.6590 train_acc 0.5302 val_acc 0.5416\n"
     ]
    },
    {
     "name": "stderr",
     "output_type": "stream",
     "text": [
      "Epoch: 100%|██████████| 65/65 [00:18<00:00,  3.60it/s]\n",
      "Epoch:   0%|          | 0/65 [00:00<?, ?it/s]"
     ]
    },
    {
     "name": "stdout",
     "output_type": "stream",
     "text": [
      "\n",
      "Epoch 093 train_loss: 1.6585 val_loss 1.6564 train_acc 0.5337 val_acc 0.5398\n"
     ]
    },
    {
     "name": "stderr",
     "output_type": "stream",
     "text": [
      "Epoch: 100%|██████████| 65/65 [00:19<00:00,  3.26it/s]\n",
      "Epoch:   0%|          | 0/65 [00:00<?, ?it/s]"
     ]
    },
    {
     "name": "stdout",
     "output_type": "stream",
     "text": [
      "\n",
      "Epoch 094 train_loss: 1.6574 val_loss 1.6538 train_acc 0.5276 val_acc 0.5434\n"
     ]
    },
    {
     "name": "stderr",
     "output_type": "stream",
     "text": [
      "Epoch: 100%|██████████| 65/65 [00:20<00:00,  3.10it/s]\n",
      "Epoch:   0%|          | 0/65 [00:00<?, ?it/s]"
     ]
    },
    {
     "name": "stdout",
     "output_type": "stream",
     "text": [
      "\n",
      "Epoch 095 train_loss: 1.6513 val_loss 1.6441 train_acc 0.5271 val_acc 0.5464\n"
     ]
    },
    {
     "name": "stderr",
     "output_type": "stream",
     "text": [
      "Epoch: 100%|██████████| 65/65 [00:18<00:00,  3.46it/s]\n",
      "Epoch:   0%|          | 0/65 [00:00<?, ?it/s]"
     ]
    },
    {
     "name": "stdout",
     "output_type": "stream",
     "text": [
      "\n",
      "Epoch 096 train_loss: 1.6533 val_loss 1.6509 train_acc 0.5349 val_acc 0.5449\n"
     ]
    },
    {
     "name": "stderr",
     "output_type": "stream",
     "text": [
      "Epoch: 100%|██████████| 65/65 [00:18<00:00,  3.50it/s]\n",
      "Epoch:   0%|          | 0/65 [00:00<?, ?it/s]"
     ]
    },
    {
     "name": "stdout",
     "output_type": "stream",
     "text": [
      "\n",
      "Epoch 097 train_loss: 1.6493 val_loss 1.6451 train_acc 0.5359 val_acc 0.5464\n"
     ]
    },
    {
     "name": "stderr",
     "output_type": "stream",
     "text": [
      "Epoch: 100%|██████████| 65/65 [00:18<00:00,  3.49it/s]\n",
      "Epoch:   0%|          | 0/65 [00:00<?, ?it/s]"
     ]
    },
    {
     "name": "stdout",
     "output_type": "stream",
     "text": [
      "\n",
      "Epoch 098 train_loss: 1.6436 val_loss 1.6467 train_acc 0.5377 val_acc 0.5445\n"
     ]
    },
    {
     "name": "stderr",
     "output_type": "stream",
     "text": [
      "Epoch: 100%|██████████| 65/65 [00:18<00:00,  3.58it/s]\n",
      "Epoch:   0%|          | 0/65 [00:00<?, ?it/s]"
     ]
    },
    {
     "name": "stdout",
     "output_type": "stream",
     "text": [
      "\n",
      "Epoch 099 train_loss: 1.6484 val_loss 1.6483 train_acc 0.5325 val_acc 0.5427\n"
     ]
    },
    {
     "name": "stderr",
     "output_type": "stream",
     "text": [
      "Epoch: 100%|██████████| 65/65 [00:18<00:00,  3.58it/s]\n"
     ]
    },
    {
     "name": "stdout",
     "output_type": "stream",
     "text": [
      "\n",
      "Epoch 100 train_loss: 1.6448 val_loss 1.6442 train_acc 0.5324 val_acc 0.5445\n"
     ]
    }
   ],
   "source": [
    "optim = torch.optim.SGD(CNN.parameters(), lr=0.0002)\n",
    "criterion = nn.CrossEntropyLoss()\n",
    "\n",
    "history = train(train_dataset, val_dataset, model=CNN,  optim=optim,\n",
    "                criterion=criterion, epochs=100, batch_size=128, device=DEVICE)"
   ]
  },
  {
   "cell_type": "code",
   "execution_count": 58,
   "metadata": {
    "scrolled": true
   },
   "outputs": [
    {
     "name": "stderr",
     "output_type": "stream",
     "text": [
      "Epoch: 100%|██████████| 129/129 [00:17<00:00,  7.56it/s]\n",
      "Epoch:   1%|          | 1/129 [00:00<00:16,  7.94it/s]"
     ]
    },
    {
     "name": "stdout",
     "output_type": "stream",
     "text": [
      "\n",
      "Epoch 001 train_loss: 1.6373 val_loss 1.6462 train_acc 0.5343 val_acc 0.5416\n"
     ]
    },
    {
     "name": "stderr",
     "output_type": "stream",
     "text": [
      "Epoch: 100%|██████████| 129/129 [00:17<00:00,  7.48it/s]\n",
      "Epoch:   1%|          | 1/129 [00:00<00:16,  7.89it/s]"
     ]
    },
    {
     "name": "stdout",
     "output_type": "stream",
     "text": [
      "\n",
      "Epoch 002 train_loss: 1.6260 val_loss 1.6306 train_acc 0.5369 val_acc 0.5482\n"
     ]
    },
    {
     "name": "stderr",
     "output_type": "stream",
     "text": [
      "Epoch: 100%|██████████| 129/129 [00:17<00:00,  7.38it/s]\n",
      "Epoch:   1%|          | 1/129 [00:00<00:21,  6.01it/s]"
     ]
    },
    {
     "name": "stdout",
     "output_type": "stream",
     "text": [
      "\n",
      "Epoch 003 train_loss: 1.6419 val_loss 1.6338 train_acc 0.5382 val_acc 0.5449\n"
     ]
    },
    {
     "name": "stderr",
     "output_type": "stream",
     "text": [
      "Epoch: 100%|██████████| 129/129 [00:19<00:00,  6.73it/s]\n",
      "Epoch:   1%|          | 1/129 [00:00<00:16,  7.88it/s]"
     ]
    },
    {
     "name": "stdout",
     "output_type": "stream",
     "text": [
      "\n",
      "Epoch 004 train_loss: 1.6279 val_loss 1.6294 train_acc 0.5436 val_acc 0.5478\n"
     ]
    },
    {
     "name": "stderr",
     "output_type": "stream",
     "text": [
      "Epoch: 100%|██████████| 129/129 [00:17<00:00,  7.25it/s]\n",
      "Epoch:   1%|          | 1/129 [00:00<00:18,  7.10it/s]"
     ]
    },
    {
     "name": "stdout",
     "output_type": "stream",
     "text": [
      "\n",
      "Epoch 005 train_loss: 1.6247 val_loss 1.6284 train_acc 0.5376 val_acc 0.5478\n"
     ]
    },
    {
     "name": "stderr",
     "output_type": "stream",
     "text": [
      "Epoch: 100%|██████████| 129/129 [00:18<00:00,  7.01it/s]\n",
      "Epoch:   1%|          | 1/129 [00:00<00:16,  7.91it/s]"
     ]
    },
    {
     "name": "stdout",
     "output_type": "stream",
     "text": [
      "\n",
      "Epoch 006 train_loss: 1.6336 val_loss 1.6223 train_acc 0.5394 val_acc 0.5529\n"
     ]
    },
    {
     "name": "stderr",
     "output_type": "stream",
     "text": [
      "Epoch: 100%|██████████| 129/129 [00:17<00:00,  7.33it/s]\n",
      "Epoch:   1%|          | 1/129 [00:00<00:16,  7.69it/s]"
     ]
    },
    {
     "name": "stdout",
     "output_type": "stream",
     "text": [
      "\n",
      "Epoch 007 train_loss: 1.6220 val_loss 1.6183 train_acc 0.5444 val_acc 0.5518\n"
     ]
    },
    {
     "name": "stderr",
     "output_type": "stream",
     "text": [
      "Epoch: 100%|██████████| 129/129 [00:17<00:00,  7.39it/s]\n",
      "Epoch:   1%|          | 1/129 [00:00<00:18,  7.02it/s]"
     ]
    },
    {
     "name": "stdout",
     "output_type": "stream",
     "text": [
      "\n",
      "Epoch 008 train_loss: 1.6165 val_loss 1.6189 train_acc 0.5461 val_acc 0.5511\n"
     ]
    },
    {
     "name": "stderr",
     "output_type": "stream",
     "text": [
      "Epoch: 100%|██████████| 129/129 [00:18<00:00,  7.05it/s]\n",
      "Epoch:   1%|          | 1/129 [00:00<00:16,  7.75it/s]"
     ]
    },
    {
     "name": "stdout",
     "output_type": "stream",
     "text": [
      "\n",
      "Epoch 009 train_loss: 1.6133 val_loss 1.6116 train_acc 0.5432 val_acc 0.5599\n"
     ]
    },
    {
     "name": "stderr",
     "output_type": "stream",
     "text": [
      "Epoch: 100%|██████████| 129/129 [00:17<00:00,  7.29it/s]\n",
      "Epoch:   1%|          | 1/129 [00:00<00:18,  7.08it/s]"
     ]
    },
    {
     "name": "stdout",
     "output_type": "stream",
     "text": [
      "\n",
      "Epoch 010 train_loss: 1.6042 val_loss 1.6142 train_acc 0.5446 val_acc 0.5529\n"
     ]
    },
    {
     "name": "stderr",
     "output_type": "stream",
     "text": [
      "Epoch: 100%|██████████| 129/129 [00:17<00:00,  7.35it/s]\n",
      "Epoch:   1%|          | 1/129 [00:00<00:16,  7.83it/s]"
     ]
    },
    {
     "name": "stdout",
     "output_type": "stream",
     "text": [
      "\n",
      "Epoch 011 train_loss: 1.5977 val_loss 1.6059 train_acc 0.5499 val_acc 0.5533\n"
     ]
    },
    {
     "name": "stderr",
     "output_type": "stream",
     "text": [
      "Epoch: 100%|██████████| 129/129 [00:16<00:00,  7.65it/s]\n",
      "Epoch:   1%|          | 1/129 [00:00<00:15,  8.00it/s]"
     ]
    },
    {
     "name": "stdout",
     "output_type": "stream",
     "text": [
      "\n",
      "Epoch 012 train_loss: 1.6017 val_loss 1.5994 train_acc 0.5466 val_acc 0.5602\n"
     ]
    },
    {
     "name": "stderr",
     "output_type": "stream",
     "text": [
      "Epoch: 100%|██████████| 129/129 [00:16<00:00,  7.68it/s]\n",
      "Epoch:   1%|          | 1/129 [00:00<00:16,  7.89it/s]"
     ]
    },
    {
     "name": "stdout",
     "output_type": "stream",
     "text": [
      "\n",
      "Epoch 013 train_loss: 1.5992 val_loss 1.5987 train_acc 0.5511 val_acc 0.5573\n"
     ]
    },
    {
     "name": "stderr",
     "output_type": "stream",
     "text": [
      "Epoch: 100%|██████████| 129/129 [00:16<00:00,  7.63it/s]\n",
      "Epoch:   1%|          | 1/129 [00:00<00:17,  7.30it/s]"
     ]
    },
    {
     "name": "stdout",
     "output_type": "stream",
     "text": [
      "\n",
      "Epoch 014 train_loss: 1.5919 val_loss 1.5980 train_acc 0.5493 val_acc 0.5595\n"
     ]
    },
    {
     "name": "stderr",
     "output_type": "stream",
     "text": [
      "Epoch: 100%|██████████| 129/129 [00:16<00:00,  7.59it/s]\n",
      "Epoch:   1%|          | 1/129 [00:00<00:16,  7.57it/s]"
     ]
    },
    {
     "name": "stdout",
     "output_type": "stream",
     "text": [
      "\n",
      "Epoch 015 train_loss: 1.5852 val_loss 1.5899 train_acc 0.5501 val_acc 0.5609\n"
     ]
    },
    {
     "name": "stderr",
     "output_type": "stream",
     "text": [
      "Epoch: 100%|██████████| 129/129 [00:17<00:00,  7.47it/s]\n",
      "Epoch:   1%|          | 1/129 [00:00<00:16,  7.66it/s]"
     ]
    },
    {
     "name": "stdout",
     "output_type": "stream",
     "text": [
      "\n",
      "Epoch 016 train_loss: 1.5774 val_loss 1.5824 train_acc 0.5518 val_acc 0.5631\n"
     ]
    },
    {
     "name": "stderr",
     "output_type": "stream",
     "text": [
      "Epoch: 100%|██████████| 129/129 [00:18<00:00,  6.90it/s]\n",
      "Epoch:   1%|          | 1/129 [00:00<00:15,  8.06it/s]"
     ]
    },
    {
     "name": "stdout",
     "output_type": "stream",
     "text": [
      "\n",
      "Epoch 017 train_loss: 1.5799 val_loss 1.5861 train_acc 0.5544 val_acc 0.5646\n"
     ]
    },
    {
     "name": "stderr",
     "output_type": "stream",
     "text": [
      "Epoch: 100%|██████████| 129/129 [00:17<00:00,  7.29it/s]\n",
      "Epoch:   1%|          | 1/129 [00:00<00:16,  7.66it/s]"
     ]
    },
    {
     "name": "stdout",
     "output_type": "stream",
     "text": [
      "\n",
      "Epoch 018 train_loss: 1.5878 val_loss 1.5992 train_acc 0.5446 val_acc 0.5573\n"
     ]
    },
    {
     "name": "stderr",
     "output_type": "stream",
     "text": [
      "Epoch: 100%|██████████| 129/129 [00:17<00:00,  7.31it/s]\n",
      "Epoch:   1%|          | 1/129 [00:00<00:16,  8.00it/s]"
     ]
    },
    {
     "name": "stdout",
     "output_type": "stream",
     "text": [
      "\n",
      "Epoch 019 train_loss: 1.5840 val_loss 1.5795 train_acc 0.5511 val_acc 0.5650\n"
     ]
    },
    {
     "name": "stderr",
     "output_type": "stream",
     "text": [
      "Epoch: 100%|██████████| 129/129 [00:17<00:00,  7.37it/s]\n",
      "Epoch:   1%|          | 1/129 [00:00<00:16,  7.63it/s]"
     ]
    },
    {
     "name": "stdout",
     "output_type": "stream",
     "text": [
      "\n",
      "Epoch 020 train_loss: 1.5642 val_loss 1.5736 train_acc 0.5521 val_acc 0.5642\n"
     ]
    },
    {
     "name": "stderr",
     "output_type": "stream",
     "text": [
      "Epoch: 100%|██████████| 129/129 [00:17<00:00,  7.25it/s]\n",
      "Epoch:   1%|          | 1/129 [00:00<00:18,  7.01it/s]"
     ]
    },
    {
     "name": "stdout",
     "output_type": "stream",
     "text": [
      "\n",
      "Epoch 021 train_loss: 1.5769 val_loss 1.5735 train_acc 0.5530 val_acc 0.5661\n"
     ]
    },
    {
     "name": "stderr",
     "output_type": "stream",
     "text": [
      "Epoch: 100%|██████████| 129/129 [00:17<00:00,  7.50it/s]\n",
      "Epoch:   1%|          | 1/129 [00:00<00:16,  7.89it/s]"
     ]
    },
    {
     "name": "stdout",
     "output_type": "stream",
     "text": [
      "\n",
      "Epoch 022 train_loss: 1.5590 val_loss 1.5703 train_acc 0.5613 val_acc 0.5712\n"
     ]
    },
    {
     "name": "stderr",
     "output_type": "stream",
     "text": [
      "Epoch: 100%|██████████| 129/129 [00:16<00:00,  7.61it/s]\n",
      "Epoch:   1%|          | 1/129 [00:00<00:16,  7.71it/s]"
     ]
    },
    {
     "name": "stdout",
     "output_type": "stream",
     "text": [
      "\n",
      "Epoch 023 train_loss: 1.5669 val_loss 1.5778 train_acc 0.5557 val_acc 0.5620\n"
     ]
    },
    {
     "name": "stderr",
     "output_type": "stream",
     "text": [
      "Epoch: 100%|██████████| 129/129 [00:16<00:00,  7.61it/s]\n",
      "Epoch:   1%|          | 1/129 [00:00<00:16,  7.87it/s]"
     ]
    },
    {
     "name": "stdout",
     "output_type": "stream",
     "text": [
      "\n",
      "Epoch 024 train_loss: 1.5578 val_loss 1.5696 train_acc 0.5568 val_acc 0.5690\n"
     ]
    },
    {
     "name": "stderr",
     "output_type": "stream",
     "text": [
      "Epoch: 100%|██████████| 129/129 [00:17<00:00,  7.22it/s]\n",
      "Epoch:   1%|          | 1/129 [00:00<00:15,  8.27it/s]"
     ]
    },
    {
     "name": "stdout",
     "output_type": "stream",
     "text": [
      "\n",
      "Epoch 025 train_loss: 1.5633 val_loss 1.5672 train_acc 0.5592 val_acc 0.5682\n"
     ]
    },
    {
     "name": "stderr",
     "output_type": "stream",
     "text": [
      "Epoch: 100%|██████████| 129/129 [00:17<00:00,  7.48it/s]\n",
      "Epoch:   1%|          | 1/129 [00:00<00:16,  7.91it/s]"
     ]
    },
    {
     "name": "stdout",
     "output_type": "stream",
     "text": [
      "\n",
      "Epoch 026 train_loss: 1.5530 val_loss 1.5634 train_acc 0.5599 val_acc 0.5719\n"
     ]
    },
    {
     "name": "stderr",
     "output_type": "stream",
     "text": [
      "Epoch: 100%|██████████| 129/129 [00:19<00:00,  6.76it/s]\n",
      "Epoch:   1%|          | 1/129 [00:00<00:16,  7.77it/s]"
     ]
    },
    {
     "name": "stdout",
     "output_type": "stream",
     "text": [
      "\n",
      "Epoch 027 train_loss: 1.5384 val_loss 1.5669 train_acc 0.5612 val_acc 0.5668\n"
     ]
    },
    {
     "name": "stderr",
     "output_type": "stream",
     "text": [
      "Epoch: 100%|██████████| 129/129 [00:16<00:00,  7.63it/s]\n",
      "Epoch:   1%|          | 1/129 [00:00<00:16,  7.75it/s]"
     ]
    },
    {
     "name": "stdout",
     "output_type": "stream",
     "text": [
      "\n",
      "Epoch 028 train_loss: 1.5464 val_loss 1.5749 train_acc 0.5605 val_acc 0.5646\n"
     ]
    },
    {
     "name": "stderr",
     "output_type": "stream",
     "text": [
      "Epoch: 100%|██████████| 129/129 [00:17<00:00,  7.36it/s]\n",
      "Epoch:   1%|          | 1/129 [00:00<00:17,  7.43it/s]"
     ]
    },
    {
     "name": "stdout",
     "output_type": "stream",
     "text": [
      "\n",
      "Epoch 029 train_loss: 1.5454 val_loss 1.5871 train_acc 0.5650 val_acc 0.5620\n"
     ]
    },
    {
     "name": "stderr",
     "output_type": "stream",
     "text": [
      "Epoch: 100%|██████████| 129/129 [00:17<00:00,  7.44it/s]\n",
      "Epoch:   1%|          | 1/129 [00:00<00:16,  7.95it/s]"
     ]
    },
    {
     "name": "stdout",
     "output_type": "stream",
     "text": [
      "\n",
      "Epoch 030 train_loss: 1.5514 val_loss 1.5577 train_acc 0.5619 val_acc 0.5785\n"
     ]
    },
    {
     "name": "stderr",
     "output_type": "stream",
     "text": [
      "Epoch: 100%|██████████| 129/129 [00:17<00:00,  7.55it/s]\n",
      "Epoch:   1%|          | 1/129 [00:00<00:16,  7.83it/s]"
     ]
    },
    {
     "name": "stdout",
     "output_type": "stream",
     "text": [
      "\n",
      "Epoch 031 train_loss: 1.5342 val_loss 1.5493 train_acc 0.5693 val_acc 0.5759\n"
     ]
    },
    {
     "name": "stderr",
     "output_type": "stream",
     "text": [
      "Epoch: 100%|██████████| 129/129 [00:17<00:00,  7.33it/s]\n",
      "Epoch:   1%|          | 1/129 [00:00<00:16,  7.59it/s]"
     ]
    },
    {
     "name": "stdout",
     "output_type": "stream",
     "text": [
      "\n",
      "Epoch 032 train_loss: 1.5256 val_loss 1.5432 train_acc 0.5714 val_acc 0.5788\n"
     ]
    },
    {
     "name": "stderr",
     "output_type": "stream",
     "text": [
      "Epoch: 100%|██████████| 129/129 [00:17<00:00,  7.52it/s]\n",
      "Epoch:   1%|          | 1/129 [00:00<00:16,  7.90it/s]"
     ]
    },
    {
     "name": "stdout",
     "output_type": "stream",
     "text": [
      "\n",
      "Epoch 033 train_loss: 1.5282 val_loss 1.5420 train_acc 0.5704 val_acc 0.5766\n"
     ]
    },
    {
     "name": "stderr",
     "output_type": "stream",
     "text": [
      "Epoch: 100%|██████████| 129/129 [00:17<00:00,  7.52it/s]\n",
      "Epoch:   1%|          | 1/129 [00:00<00:15,  8.05it/s]"
     ]
    },
    {
     "name": "stdout",
     "output_type": "stream",
     "text": [
      "\n",
      "Epoch 034 train_loss: 1.5223 val_loss 1.5478 train_acc 0.5676 val_acc 0.5752\n"
     ]
    },
    {
     "name": "stderr",
     "output_type": "stream",
     "text": [
      "Epoch: 100%|██████████| 129/129 [00:17<00:00,  7.20it/s]\n",
      "Epoch:   1%|          | 1/129 [00:00<00:17,  7.39it/s]"
     ]
    },
    {
     "name": "stdout",
     "output_type": "stream",
     "text": [
      "\n",
      "Epoch 035 train_loss: 1.5156 val_loss 1.5375 train_acc 0.5698 val_acc 0.5799\n"
     ]
    },
    {
     "name": "stderr",
     "output_type": "stream",
     "text": [
      "Epoch: 100%|██████████| 129/129 [00:18<00:00,  7.14it/s]\n",
      "Epoch:   1%|          | 1/129 [00:00<00:16,  7.84it/s]"
     ]
    },
    {
     "name": "stdout",
     "output_type": "stream",
     "text": [
      "\n",
      "Epoch 036 train_loss: 1.5327 val_loss 1.5389 train_acc 0.5651 val_acc 0.5839\n"
     ]
    },
    {
     "name": "stderr",
     "output_type": "stream",
     "text": [
      "Epoch: 100%|██████████| 129/129 [00:17<00:00,  7.34it/s]\n",
      "Epoch:   1%|          | 1/129 [00:00<00:19,  6.64it/s]"
     ]
    },
    {
     "name": "stdout",
     "output_type": "stream",
     "text": [
      "\n",
      "Epoch 037 train_loss: 1.5167 val_loss 1.5321 train_acc 0.5698 val_acc 0.5861\n"
     ]
    },
    {
     "name": "stderr",
     "output_type": "stream",
     "text": [
      "Epoch: 100%|██████████| 129/129 [00:17<00:00,  7.43it/s]\n",
      "Epoch:   1%|          | 1/129 [00:00<00:15,  8.20it/s]"
     ]
    },
    {
     "name": "stdout",
     "output_type": "stream",
     "text": [
      "\n",
      "Epoch 038 train_loss: 1.5150 val_loss 1.5264 train_acc 0.5735 val_acc 0.5898\n"
     ]
    },
    {
     "name": "stderr",
     "output_type": "stream",
     "text": [
      "Epoch: 100%|██████████| 129/129 [00:17<00:00,  7.49it/s]\n",
      "Epoch:   1%|          | 1/129 [00:00<00:16,  7.64it/s]"
     ]
    },
    {
     "name": "stdout",
     "output_type": "stream",
     "text": [
      "\n",
      "Epoch 039 train_loss: 1.5123 val_loss 1.5308 train_acc 0.5691 val_acc 0.5843\n"
     ]
    },
    {
     "name": "stderr",
     "output_type": "stream",
     "text": [
      "Epoch: 100%|██████████| 129/129 [00:18<00:00,  7.01it/s]\n",
      "Epoch:   1%|          | 1/129 [00:00<00:19,  6.43it/s]"
     ]
    },
    {
     "name": "stdout",
     "output_type": "stream",
     "text": [
      "\n",
      "Epoch 040 train_loss: 1.4990 val_loss 1.5275 train_acc 0.5760 val_acc 0.5861\n"
     ]
    },
    {
     "name": "stderr",
     "output_type": "stream",
     "text": [
      "Epoch: 100%|██████████| 129/129 [00:17<00:00,  7.30it/s]\n",
      "Epoch:   1%|          | 1/129 [00:00<00:16,  7.65it/s]"
     ]
    },
    {
     "name": "stdout",
     "output_type": "stream",
     "text": [
      "\n",
      "Epoch 041 train_loss: 1.5045 val_loss 1.5217 train_acc 0.5769 val_acc 0.5927\n"
     ]
    },
    {
     "name": "stderr",
     "output_type": "stream",
     "text": [
      "Epoch: 100%|██████████| 129/129 [00:17<00:00,  7.51it/s]\n",
      "Epoch:   1%|          | 1/129 [00:00<00:16,  7.89it/s]"
     ]
    },
    {
     "name": "stdout",
     "output_type": "stream",
     "text": [
      "\n",
      "Epoch 042 train_loss: 1.5006 val_loss 1.5276 train_acc 0.5758 val_acc 0.5847\n"
     ]
    },
    {
     "name": "stderr",
     "output_type": "stream",
     "text": [
      "Epoch: 100%|██████████| 129/129 [00:17<00:00,  7.36it/s]\n",
      "Epoch:   1%|          | 1/129 [00:00<00:15,  8.30it/s]"
     ]
    },
    {
     "name": "stdout",
     "output_type": "stream",
     "text": [
      "\n",
      "Epoch 043 train_loss: 1.4936 val_loss 1.5202 train_acc 0.5770 val_acc 0.5920\n"
     ]
    },
    {
     "name": "stderr",
     "output_type": "stream",
     "text": [
      "Epoch: 100%|██████████| 129/129 [00:17<00:00,  7.53it/s]\n",
      "Epoch:   1%|          | 1/129 [00:00<00:17,  7.51it/s]"
     ]
    },
    {
     "name": "stdout",
     "output_type": "stream",
     "text": [
      "\n",
      "Epoch 044 train_loss: 1.4895 val_loss 1.5181 train_acc 0.5791 val_acc 0.5901\n"
     ]
    },
    {
     "name": "stderr",
     "output_type": "stream",
     "text": [
      "Epoch: 100%|██████████| 129/129 [00:17<00:00,  7.46it/s]\n",
      "Epoch:   1%|          | 1/129 [00:00<00:16,  7.88it/s]"
     ]
    },
    {
     "name": "stdout",
     "output_type": "stream",
     "text": [
      "\n",
      "Epoch 045 train_loss: 1.4932 val_loss 1.5274 train_acc 0.5747 val_acc 0.5887\n"
     ]
    },
    {
     "name": "stderr",
     "output_type": "stream",
     "text": [
      "Epoch: 100%|██████████| 129/129 [00:18<00:00,  7.10it/s]\n",
      "Epoch:   1%|          | 1/129 [00:00<00:16,  7.57it/s]"
     ]
    },
    {
     "name": "stdout",
     "output_type": "stream",
     "text": [
      "\n",
      "Epoch 046 train_loss: 1.4837 val_loss 1.5242 train_acc 0.5856 val_acc 0.5850\n"
     ]
    },
    {
     "name": "stderr",
     "output_type": "stream",
     "text": [
      "Epoch: 100%|██████████| 129/129 [00:17<00:00,  7.55it/s]\n",
      "Epoch:   1%|          | 1/129 [00:00<00:16,  7.98it/s]"
     ]
    },
    {
     "name": "stdout",
     "output_type": "stream",
     "text": [
      "\n",
      "Epoch 047 train_loss: 1.4832 val_loss 1.5291 train_acc 0.5797 val_acc 0.5810\n"
     ]
    },
    {
     "name": "stderr",
     "output_type": "stream",
     "text": [
      "Epoch: 100%|██████████| 129/129 [00:18<00:00,  7.11it/s]\n",
      "Epoch:   1%|          | 1/129 [00:00<00:16,  7.70it/s]"
     ]
    },
    {
     "name": "stdout",
     "output_type": "stream",
     "text": [
      "\n",
      "Epoch 048 train_loss: 1.4856 val_loss 1.5202 train_acc 0.5776 val_acc 0.5876\n"
     ]
    },
    {
     "name": "stderr",
     "output_type": "stream",
     "text": [
      "Epoch: 100%|██████████| 129/129 [00:17<00:00,  7.57it/s]\n",
      "Epoch:   1%|          | 1/129 [00:00<00:16,  7.61it/s]"
     ]
    },
    {
     "name": "stdout",
     "output_type": "stream",
     "text": [
      "\n",
      "Epoch 049 train_loss: 1.4714 val_loss 1.5055 train_acc 0.5881 val_acc 0.5960\n"
     ]
    },
    {
     "name": "stderr",
     "output_type": "stream",
     "text": [
      "Epoch: 100%|██████████| 129/129 [00:17<00:00,  7.56it/s]\n",
      "Epoch:   1%|          | 1/129 [00:00<00:15,  8.13it/s]"
     ]
    },
    {
     "name": "stdout",
     "output_type": "stream",
     "text": [
      "\n",
      "Epoch 050 train_loss: 1.4706 val_loss 1.4983 train_acc 0.5875 val_acc 0.6000\n"
     ]
    },
    {
     "name": "stderr",
     "output_type": "stream",
     "text": [
      "Epoch: 100%|██████████| 129/129 [00:17<00:00,  7.56it/s]\n",
      "Epoch:   1%|          | 1/129 [00:00<00:18,  6.79it/s]"
     ]
    },
    {
     "name": "stdout",
     "output_type": "stream",
     "text": [
      "\n",
      "Epoch 051 train_loss: 1.4737 val_loss 1.5181 train_acc 0.5816 val_acc 0.5861\n"
     ]
    },
    {
     "name": "stderr",
     "output_type": "stream",
     "text": [
      "Epoch: 100%|██████████| 129/129 [00:18<00:00,  6.89it/s]\n",
      "Epoch:   1%|          | 1/129 [00:00<00:16,  7.55it/s]"
     ]
    },
    {
     "name": "stdout",
     "output_type": "stream",
     "text": [
      "\n",
      "Epoch 052 train_loss: 1.4709 val_loss 1.5061 train_acc 0.5839 val_acc 0.5942\n"
     ]
    },
    {
     "name": "stderr",
     "output_type": "stream",
     "text": [
      "Epoch: 100%|██████████| 129/129 [00:17<00:00,  7.35it/s]\n",
      "Epoch:   1%|          | 1/129 [00:00<00:16,  7.71it/s]"
     ]
    },
    {
     "name": "stdout",
     "output_type": "stream",
     "text": [
      "\n",
      "Epoch 053 train_loss: 1.4651 val_loss 1.4886 train_acc 0.5833 val_acc 0.5978\n"
     ]
    },
    {
     "name": "stderr",
     "output_type": "stream",
     "text": [
      "Epoch: 100%|██████████| 129/129 [00:17<00:00,  7.41it/s]\n",
      "Epoch:   1%|          | 1/129 [00:00<00:17,  7.15it/s]"
     ]
    },
    {
     "name": "stdout",
     "output_type": "stream",
     "text": [
      "\n",
      "Epoch 054 train_loss: 1.4713 val_loss 1.4900 train_acc 0.5811 val_acc 0.5967\n"
     ]
    },
    {
     "name": "stderr",
     "output_type": "stream",
     "text": [
      "Epoch: 100%|██████████| 129/129 [00:17<00:00,  7.27it/s]\n",
      "Epoch:   1%|          | 1/129 [00:00<00:18,  6.89it/s]"
     ]
    },
    {
     "name": "stdout",
     "output_type": "stream",
     "text": [
      "\n",
      "Epoch 055 train_loss: 1.4611 val_loss 1.5036 train_acc 0.5858 val_acc 0.5905\n"
     ]
    },
    {
     "name": "stderr",
     "output_type": "stream",
     "text": [
      "Epoch: 100%|██████████| 129/129 [00:17<00:00,  7.47it/s]\n",
      "Epoch:   1%|          | 1/129 [00:00<00:15,  8.14it/s]"
     ]
    },
    {
     "name": "stdout",
     "output_type": "stream",
     "text": [
      "\n",
      "Epoch 056 train_loss: 1.4521 val_loss 1.4823 train_acc 0.5931 val_acc 0.6007\n"
     ]
    },
    {
     "name": "stderr",
     "output_type": "stream",
     "text": [
      "Epoch: 100%|██████████| 129/129 [00:16<00:00,  7.81it/s]\n",
      "Epoch:   1%|          | 1/129 [00:00<00:16,  7.76it/s]"
     ]
    },
    {
     "name": "stdout",
     "output_type": "stream",
     "text": [
      "\n",
      "Epoch 057 train_loss: 1.4584 val_loss 1.4859 train_acc 0.5853 val_acc 0.5989\n"
     ]
    },
    {
     "name": "stderr",
     "output_type": "stream",
     "text": [
      "Epoch: 100%|██████████| 129/129 [00:17<00:00,  7.47it/s]\n",
      "Epoch:   1%|          | 1/129 [00:00<00:15,  8.22it/s]"
     ]
    },
    {
     "name": "stdout",
     "output_type": "stream",
     "text": [
      "\n",
      "Epoch 058 train_loss: 1.4544 val_loss 1.5016 train_acc 0.5882 val_acc 0.5931\n"
     ]
    },
    {
     "name": "stderr",
     "output_type": "stream",
     "text": [
      "Epoch: 100%|██████████| 129/129 [00:17<00:00,  7.48it/s]\n",
      "Epoch:   1%|          | 1/129 [00:00<00:17,  7.30it/s]"
     ]
    },
    {
     "name": "stdout",
     "output_type": "stream",
     "text": [
      "\n",
      "Epoch 059 train_loss: 1.4532 val_loss 1.4697 train_acc 0.5861 val_acc 0.6069\n"
     ]
    },
    {
     "name": "stderr",
     "output_type": "stream",
     "text": [
      "Epoch: 100%|██████████| 129/129 [00:17<00:00,  7.46it/s]\n",
      "Epoch:   1%|          | 1/129 [00:00<00:15,  8.13it/s]"
     ]
    },
    {
     "name": "stdout",
     "output_type": "stream",
     "text": [
      "\n",
      "Epoch 060 train_loss: 1.4412 val_loss 1.4935 train_acc 0.5938 val_acc 0.5945\n"
     ]
    },
    {
     "name": "stderr",
     "output_type": "stream",
     "text": [
      "Epoch: 100%|██████████| 129/129 [00:16<00:00,  7.71it/s]\n",
      "Epoch:   1%|          | 1/129 [00:00<00:18,  6.90it/s]"
     ]
    },
    {
     "name": "stdout",
     "output_type": "stream",
     "text": [
      "\n",
      "Epoch 061 train_loss: 1.4423 val_loss 1.4880 train_acc 0.5893 val_acc 0.5985\n"
     ]
    },
    {
     "name": "stderr",
     "output_type": "stream",
     "text": [
      "Epoch: 100%|██████████| 129/129 [00:17<00:00,  7.38it/s]\n",
      "Epoch:   1%|          | 1/129 [00:00<00:16,  7.64it/s]"
     ]
    },
    {
     "name": "stdout",
     "output_type": "stream",
     "text": [
      "\n",
      "Epoch 062 train_loss: 1.4264 val_loss 1.4753 train_acc 0.5971 val_acc 0.6026\n"
     ]
    },
    {
     "name": "stderr",
     "output_type": "stream",
     "text": [
      "Epoch: 100%|██████████| 129/129 [00:17<00:00,  7.50it/s]\n",
      "Epoch:   1%|          | 1/129 [00:00<00:16,  7.96it/s]"
     ]
    },
    {
     "name": "stdout",
     "output_type": "stream",
     "text": [
      "\n",
      "Epoch 063 train_loss: 1.4385 val_loss 1.4691 train_acc 0.5970 val_acc 0.6033\n"
     ]
    },
    {
     "name": "stderr",
     "output_type": "stream",
     "text": [
      "Epoch: 100%|██████████| 129/129 [00:17<00:00,  7.48it/s]\n",
      "Epoch:   1%|          | 1/129 [00:00<00:18,  6.88it/s]"
     ]
    },
    {
     "name": "stdout",
     "output_type": "stream",
     "text": [
      "\n",
      "Epoch 064 train_loss: 1.4343 val_loss 1.4647 train_acc 0.5920 val_acc 0.6044\n"
     ]
    },
    {
     "name": "stderr",
     "output_type": "stream",
     "text": [
      "Epoch: 100%|██████████| 129/129 [00:17<00:00,  7.47it/s]\n",
      "Epoch:   1%|          | 1/129 [00:00<00:16,  7.69it/s]"
     ]
    },
    {
     "name": "stdout",
     "output_type": "stream",
     "text": [
      "\n",
      "Epoch 065 train_loss: 1.4328 val_loss 1.4625 train_acc 0.5954 val_acc 0.6088\n"
     ]
    },
    {
     "name": "stderr",
     "output_type": "stream",
     "text": [
      "Epoch: 100%|██████████| 129/129 [00:18<00:00,  7.04it/s]\n",
      "Epoch:   1%|          | 1/129 [00:00<00:17,  7.39it/s]"
     ]
    },
    {
     "name": "stdout",
     "output_type": "stream",
     "text": [
      "\n",
      "Epoch 066 train_loss: 1.4375 val_loss 1.4773 train_acc 0.5920 val_acc 0.5964\n"
     ]
    },
    {
     "name": "stderr",
     "output_type": "stream",
     "text": [
      "Epoch: 100%|██████████| 129/129 [00:17<00:00,  7.38it/s]\n",
      "Epoch:   1%|          | 1/129 [00:00<00:16,  7.74it/s]"
     ]
    },
    {
     "name": "stdout",
     "output_type": "stream",
     "text": [
      "\n",
      "Epoch 067 train_loss: 1.4280 val_loss 1.4715 train_acc 0.5942 val_acc 0.5993\n"
     ]
    },
    {
     "name": "stderr",
     "output_type": "stream",
     "text": [
      "Epoch: 100%|██████████| 129/129 [00:17<00:00,  7.45it/s]\n",
      "Epoch:   1%|          | 1/129 [00:00<00:17,  7.17it/s]"
     ]
    },
    {
     "name": "stdout",
     "output_type": "stream",
     "text": [
      "\n",
      "Epoch 068 train_loss: 1.4088 val_loss 1.4540 train_acc 0.6047 val_acc 0.6080\n"
     ]
    },
    {
     "name": "stderr",
     "output_type": "stream",
     "text": [
      "Epoch: 100%|██████████| 129/129 [00:17<00:00,  7.56it/s]\n",
      "Epoch:   1%|          | 1/129 [00:00<00:16,  7.85it/s]"
     ]
    },
    {
     "name": "stdout",
     "output_type": "stream",
     "text": [
      "\n",
      "Epoch 069 train_loss: 1.4118 val_loss 1.4703 train_acc 0.6032 val_acc 0.6026\n"
     ]
    },
    {
     "name": "stderr",
     "output_type": "stream",
     "text": [
      "Epoch: 100%|██████████| 129/129 [00:16<00:00,  7.59it/s]\n",
      "Epoch:   1%|          | 1/129 [00:00<00:16,  7.80it/s]"
     ]
    },
    {
     "name": "stdout",
     "output_type": "stream",
     "text": [
      "\n",
      "Epoch 070 train_loss: 1.4132 val_loss 1.4632 train_acc 0.6009 val_acc 0.6000\n"
     ]
    },
    {
     "name": "stderr",
     "output_type": "stream",
     "text": [
      "Epoch: 100%|██████████| 129/129 [00:17<00:00,  7.54it/s]\n",
      "Epoch:   1%|          | 1/129 [00:00<00:17,  7.41it/s]"
     ]
    },
    {
     "name": "stdout",
     "output_type": "stream",
     "text": [
      "\n",
      "Epoch 071 train_loss: 1.4055 val_loss 1.4530 train_acc 0.5985 val_acc 0.6084\n"
     ]
    },
    {
     "name": "stderr",
     "output_type": "stream",
     "text": [
      "Epoch: 100%|██████████| 129/129 [00:17<00:00,  7.41it/s]\n",
      "Epoch:   1%|          | 1/129 [00:00<00:16,  7.73it/s]"
     ]
    },
    {
     "name": "stdout",
     "output_type": "stream",
     "text": [
      "\n",
      "Epoch 072 train_loss: 1.3967 val_loss 1.4708 train_acc 0.6046 val_acc 0.6018\n"
     ]
    },
    {
     "name": "stderr",
     "output_type": "stream",
     "text": [
      "Epoch: 100%|██████████| 129/129 [00:17<00:00,  7.54it/s]\n",
      "Epoch:   1%|          | 1/129 [00:00<00:16,  7.97it/s]"
     ]
    },
    {
     "name": "stdout",
     "output_type": "stream",
     "text": [
      "\n",
      "Epoch 073 train_loss: 1.4067 val_loss 1.4477 train_acc 0.5983 val_acc 0.6066\n"
     ]
    },
    {
     "name": "stderr",
     "output_type": "stream",
     "text": [
      "Epoch: 100%|██████████| 129/129 [00:17<00:00,  7.32it/s]\n",
      "Epoch:   1%|          | 1/129 [00:00<00:16,  7.79it/s]"
     ]
    },
    {
     "name": "stdout",
     "output_type": "stream",
     "text": [
      "\n",
      "Epoch 074 train_loss: 1.3994 val_loss 1.4635 train_acc 0.6028 val_acc 0.6058\n"
     ]
    },
    {
     "name": "stderr",
     "output_type": "stream",
     "text": [
      "Epoch: 100%|██████████| 129/129 [00:17<00:00,  7.32it/s]\n",
      "Epoch:   1%|          | 1/129 [00:00<00:16,  7.56it/s]"
     ]
    },
    {
     "name": "stdout",
     "output_type": "stream",
     "text": [
      "\n",
      "Epoch 075 train_loss: 1.3944 val_loss 1.4370 train_acc 0.6041 val_acc 0.6131\n"
     ]
    },
    {
     "name": "stderr",
     "output_type": "stream",
     "text": [
      "Epoch: 100%|██████████| 129/129 [00:16<00:00,  7.60it/s]\n",
      "Epoch:   1%|          | 1/129 [00:00<00:16,  7.64it/s]"
     ]
    },
    {
     "name": "stdout",
     "output_type": "stream",
     "text": [
      "\n",
      "Epoch 076 train_loss: 1.3896 val_loss 1.4391 train_acc 0.6061 val_acc 0.6106\n"
     ]
    },
    {
     "name": "stderr",
     "output_type": "stream",
     "text": [
      "Epoch: 100%|██████████| 129/129 [00:17<00:00,  7.25it/s]\n",
      "Epoch:   1%|          | 1/129 [00:00<00:20,  6.13it/s]"
     ]
    },
    {
     "name": "stdout",
     "output_type": "stream",
     "text": [
      "\n",
      "Epoch 077 train_loss: 1.3835 val_loss 1.4438 train_acc 0.6106 val_acc 0.6062\n"
     ]
    },
    {
     "name": "stderr",
     "output_type": "stream",
     "text": [
      "Epoch: 100%|██████████| 129/129 [00:17<00:00,  7.40it/s]\n",
      "Epoch:   1%|          | 1/129 [00:00<00:17,  7.27it/s]"
     ]
    },
    {
     "name": "stdout",
     "output_type": "stream",
     "text": [
      "\n",
      "Epoch 078 train_loss: 1.3846 val_loss 1.4493 train_acc 0.6095 val_acc 0.6033\n"
     ]
    },
    {
     "name": "stderr",
     "output_type": "stream",
     "text": [
      "Epoch: 100%|██████████| 129/129 [00:17<00:00,  7.43it/s]\n",
      "Epoch:   1%|          | 1/129 [00:00<00:16,  7.97it/s]"
     ]
    },
    {
     "name": "stdout",
     "output_type": "stream",
     "text": [
      "\n",
      "Epoch 079 train_loss: 1.3893 val_loss 1.4471 train_acc 0.6049 val_acc 0.6058\n"
     ]
    },
    {
     "name": "stderr",
     "output_type": "stream",
     "text": [
      "Epoch: 100%|██████████| 129/129 [00:18<00:00,  7.09it/s]\n",
      "Epoch:   1%|          | 1/129 [00:00<00:16,  8.00it/s]"
     ]
    },
    {
     "name": "stdout",
     "output_type": "stream",
     "text": [
      "\n",
      "Epoch 080 train_loss: 1.3821 val_loss 1.4362 train_acc 0.6055 val_acc 0.6113\n"
     ]
    },
    {
     "name": "stderr",
     "output_type": "stream",
     "text": [
      "Epoch: 100%|██████████| 129/129 [00:17<00:00,  7.45it/s]\n",
      "Epoch:   1%|          | 1/129 [00:00<00:16,  7.54it/s]"
     ]
    },
    {
     "name": "stdout",
     "output_type": "stream",
     "text": [
      "\n",
      "Epoch 081 train_loss: 1.3734 val_loss 1.4252 train_acc 0.6101 val_acc 0.6157\n"
     ]
    },
    {
     "name": "stderr",
     "output_type": "stream",
     "text": [
      "Epoch: 100%|██████████| 129/129 [00:17<00:00,  7.29it/s]\n",
      "Epoch:   1%|          | 1/129 [00:00<00:16,  7.83it/s]"
     ]
    },
    {
     "name": "stdout",
     "output_type": "stream",
     "text": [
      "\n",
      "Epoch 082 train_loss: 1.3687 val_loss 1.4272 train_acc 0.6133 val_acc 0.6157\n"
     ]
    },
    {
     "name": "stderr",
     "output_type": "stream",
     "text": [
      "Epoch: 100%|██████████| 129/129 [00:17<00:00,  7.41it/s]\n",
      "Epoch:   1%|          | 1/129 [00:00<00:16,  7.78it/s]"
     ]
    },
    {
     "name": "stdout",
     "output_type": "stream",
     "text": [
      "\n",
      "Epoch 083 train_loss: 1.3675 val_loss 1.4314 train_acc 0.6099 val_acc 0.6109\n"
     ]
    },
    {
     "name": "stderr",
     "output_type": "stream",
     "text": [
      "Epoch: 100%|██████████| 129/129 [00:17<00:00,  7.32it/s]\n",
      "Epoch:   1%|          | 1/129 [00:00<00:16,  7.82it/s]"
     ]
    },
    {
     "name": "stdout",
     "output_type": "stream",
     "text": [
      "\n",
      "Epoch 084 train_loss: 1.3618 val_loss 1.4214 train_acc 0.6186 val_acc 0.6139\n"
     ]
    },
    {
     "name": "stderr",
     "output_type": "stream",
     "text": [
      "Epoch: 100%|██████████| 129/129 [00:16<00:00,  7.67it/s]\n",
      "Epoch:   1%|          | 1/129 [00:00<00:17,  7.23it/s]"
     ]
    },
    {
     "name": "stdout",
     "output_type": "stream",
     "text": [
      "\n",
      "Epoch 085 train_loss: 1.3750 val_loss 1.4157 train_acc 0.6105 val_acc 0.6175\n"
     ]
    },
    {
     "name": "stderr",
     "output_type": "stream",
     "text": [
      "Epoch: 100%|██████████| 129/129 [00:17<00:00,  7.25it/s]\n",
      "Epoch:   1%|          | 1/129 [00:00<00:17,  7.41it/s]"
     ]
    },
    {
     "name": "stdout",
     "output_type": "stream",
     "text": [
      "\n",
      "Epoch 086 train_loss: 1.3532 val_loss 1.4373 train_acc 0.6128 val_acc 0.6120\n"
     ]
    },
    {
     "name": "stderr",
     "output_type": "stream",
     "text": [
      "Epoch: 100%|██████████| 129/129 [00:17<00:00,  7.36it/s]\n",
      "Epoch:   1%|          | 1/129 [00:00<00:18,  6.98it/s]"
     ]
    },
    {
     "name": "stdout",
     "output_type": "stream",
     "text": [
      "\n",
      "Epoch 087 train_loss: 1.3667 val_loss 1.4176 train_acc 0.6167 val_acc 0.6172\n"
     ]
    },
    {
     "name": "stderr",
     "output_type": "stream",
     "text": [
      "Epoch: 100%|██████████| 129/129 [00:17<00:00,  7.46it/s]\n",
      "Epoch:   1%|          | 1/129 [00:00<00:16,  7.80it/s]"
     ]
    },
    {
     "name": "stdout",
     "output_type": "stream",
     "text": [
      "\n",
      "Epoch 088 train_loss: 1.3436 val_loss 1.4121 train_acc 0.6202 val_acc 0.6172\n"
     ]
    },
    {
     "name": "stderr",
     "output_type": "stream",
     "text": [
      "Epoch: 100%|██████████| 129/129 [00:17<00:00,  7.52it/s]\n",
      "Epoch:   1%|          | 1/129 [00:00<00:17,  7.33it/s]"
     ]
    },
    {
     "name": "stdout",
     "output_type": "stream",
     "text": [
      "\n",
      "Epoch 089 train_loss: 1.3628 val_loss 1.4131 train_acc 0.6155 val_acc 0.6193\n"
     ]
    },
    {
     "name": "stderr",
     "output_type": "stream",
     "text": [
      "Epoch: 100%|██████████| 129/129 [00:18<00:00,  7.00it/s]\n",
      "Epoch:   1%|          | 1/129 [00:00<00:16,  7.72it/s]"
     ]
    },
    {
     "name": "stdout",
     "output_type": "stream",
     "text": [
      "\n",
      "Epoch 090 train_loss: 1.3621 val_loss 1.4062 train_acc 0.6108 val_acc 0.6197\n"
     ]
    },
    {
     "name": "stderr",
     "output_type": "stream",
     "text": [
      "Epoch: 100%|██████████| 129/129 [00:17<00:00,  7.37it/s]\n",
      "Epoch:   1%|          | 1/129 [00:00<00:17,  7.37it/s]"
     ]
    },
    {
     "name": "stdout",
     "output_type": "stream",
     "text": [
      "\n",
      "Epoch 091 train_loss: 1.3568 val_loss 1.4110 train_acc 0.6131 val_acc 0.6193\n"
     ]
    },
    {
     "name": "stderr",
     "output_type": "stream",
     "text": [
      "Epoch: 100%|██████████| 129/129 [00:17<00:00,  7.50it/s]\n",
      "Epoch:   1%|          | 1/129 [00:00<00:17,  7.21it/s]"
     ]
    },
    {
     "name": "stdout",
     "output_type": "stream",
     "text": [
      "\n",
      "Epoch 092 train_loss: 1.3467 val_loss 1.4062 train_acc 0.6185 val_acc 0.6197\n"
     ]
    },
    {
     "name": "stderr",
     "output_type": "stream",
     "text": [
      "Epoch: 100%|██████████| 129/129 [00:17<00:00,  7.26it/s]\n",
      "Epoch:   1%|          | 1/129 [00:00<00:18,  7.03it/s]"
     ]
    },
    {
     "name": "stdout",
     "output_type": "stream",
     "text": [
      "\n",
      "Epoch 093 train_loss: 1.3456 val_loss 1.4189 train_acc 0.6214 val_acc 0.6175\n"
     ]
    },
    {
     "name": "stderr",
     "output_type": "stream",
     "text": [
      "Epoch: 100%|██████████| 129/129 [00:17<00:00,  7.50it/s]\n",
      "Epoch:   1%|          | 1/129 [00:00<00:16,  7.62it/s]"
     ]
    },
    {
     "name": "stdout",
     "output_type": "stream",
     "text": [
      "\n",
      "Epoch 094 train_loss: 1.3419 val_loss 1.4103 train_acc 0.6217 val_acc 0.6215\n"
     ]
    },
    {
     "name": "stderr",
     "output_type": "stream",
     "text": [
      "Epoch: 100%|██████████| 129/129 [00:17<00:00,  7.34it/s]\n",
      "Epoch:   1%|          | 1/129 [00:00<00:16,  7.73it/s]"
     ]
    },
    {
     "name": "stdout",
     "output_type": "stream",
     "text": [
      "\n",
      "Epoch 095 train_loss: 1.3381 val_loss 1.4029 train_acc 0.6231 val_acc 0.6215\n"
     ]
    },
    {
     "name": "stderr",
     "output_type": "stream",
     "text": [
      "Epoch: 100%|██████████| 129/129 [00:16<00:00,  7.59it/s]\n",
      "Epoch:   1%|          | 1/129 [00:00<00:21,  6.01it/s]"
     ]
    },
    {
     "name": "stdout",
     "output_type": "stream",
     "text": [
      "\n",
      "Epoch 096 train_loss: 1.3397 val_loss 1.4043 train_acc 0.6184 val_acc 0.6212\n"
     ]
    },
    {
     "name": "stderr",
     "output_type": "stream",
     "text": [
      "Epoch: 100%|██████████| 129/129 [00:18<00:00,  7.13it/s]\n",
      "Epoch:   1%|          | 1/129 [00:00<00:20,  6.27it/s]"
     ]
    },
    {
     "name": "stdout",
     "output_type": "stream",
     "text": [
      "\n",
      "Epoch 097 train_loss: 1.3361 val_loss 1.3999 train_acc 0.6215 val_acc 0.6234\n"
     ]
    },
    {
     "name": "stderr",
     "output_type": "stream",
     "text": [
      "Epoch: 100%|██████████| 129/129 [00:17<00:00,  7.23it/s]\n",
      "Epoch:   1%|          | 1/129 [00:00<00:16,  7.97it/s]"
     ]
    },
    {
     "name": "stdout",
     "output_type": "stream",
     "text": [
      "\n",
      "Epoch 098 train_loss: 1.3326 val_loss 1.4052 train_acc 0.6246 val_acc 0.6186\n"
     ]
    },
    {
     "name": "stderr",
     "output_type": "stream",
     "text": [
      "Epoch: 100%|██████████| 129/129 [00:17<00:00,  7.51it/s]\n",
      "Epoch:   1%|          | 1/129 [00:00<00:16,  7.57it/s]"
     ]
    },
    {
     "name": "stdout",
     "output_type": "stream",
     "text": [
      "\n",
      "Epoch 099 train_loss: 1.3091 val_loss 1.3852 train_acc 0.6314 val_acc 0.6223\n"
     ]
    },
    {
     "name": "stderr",
     "output_type": "stream",
     "text": [
      "Epoch: 100%|██████████| 129/129 [00:17<00:00,  7.24it/s]\n",
      "Epoch:   1%|          | 1/129 [00:00<00:17,  7.38it/s]"
     ]
    },
    {
     "name": "stdout",
     "output_type": "stream",
     "text": [
      "\n",
      "Epoch 100 train_loss: 1.3122 val_loss 1.4030 train_acc 0.6276 val_acc 0.6237\n"
     ]
    },
    {
     "name": "stderr",
     "output_type": "stream",
     "text": [
      "Epoch: 100%|██████████| 129/129 [00:17<00:00,  7.48it/s]\n",
      "Epoch:   1%|          | 1/129 [00:00<00:20,  6.24it/s]"
     ]
    },
    {
     "name": "stdout",
     "output_type": "stream",
     "text": [
      "\n",
      "Epoch 101 train_loss: 1.3292 val_loss 1.3817 train_acc 0.6276 val_acc 0.6215\n"
     ]
    },
    {
     "name": "stderr",
     "output_type": "stream",
     "text": [
      "Epoch: 100%|██████████| 129/129 [00:17<00:00,  7.21it/s]\n",
      "Epoch:   1%|          | 1/129 [00:00<00:16,  7.71it/s]"
     ]
    },
    {
     "name": "stdout",
     "output_type": "stream",
     "text": [
      "\n",
      "Epoch 102 train_loss: 1.3194 val_loss 1.4088 train_acc 0.6221 val_acc 0.6197\n"
     ]
    },
    {
     "name": "stderr",
     "output_type": "stream",
     "text": [
      "Epoch: 100%|██████████| 129/129 [00:17<00:00,  7.19it/s]\n",
      "Epoch:   1%|          | 1/129 [00:00<00:17,  7.39it/s]"
     ]
    },
    {
     "name": "stdout",
     "output_type": "stream",
     "text": [
      "\n",
      "Epoch 103 train_loss: 1.3188 val_loss 1.3803 train_acc 0.6265 val_acc 0.6266\n"
     ]
    },
    {
     "name": "stderr",
     "output_type": "stream",
     "text": [
      "Epoch: 100%|██████████| 129/129 [00:17<00:00,  7.44it/s]\n",
      "Epoch:   1%|          | 1/129 [00:00<00:16,  7.70it/s]"
     ]
    },
    {
     "name": "stdout",
     "output_type": "stream",
     "text": [
      "\n",
      "Epoch 104 train_loss: 1.3079 val_loss 1.3735 train_acc 0.6285 val_acc 0.6245\n"
     ]
    },
    {
     "name": "stderr",
     "output_type": "stream",
     "text": [
      "Epoch: 100%|██████████| 129/129 [00:17<00:00,  7.26it/s]\n",
      "Epoch:   1%|          | 1/129 [00:00<00:16,  7.96it/s]"
     ]
    },
    {
     "name": "stdout",
     "output_type": "stream",
     "text": [
      "\n",
      "Epoch 105 train_loss: 1.3126 val_loss 1.3874 train_acc 0.6269 val_acc 0.6226\n"
     ]
    },
    {
     "name": "stderr",
     "output_type": "stream",
     "text": [
      "Epoch: 100%|██████████| 129/129 [00:17<00:00,  7.48it/s]\n",
      "Epoch:   1%|          | 1/129 [00:00<00:19,  6.65it/s]"
     ]
    },
    {
     "name": "stdout",
     "output_type": "stream",
     "text": [
      "\n",
      "Epoch 106 train_loss: 1.3027 val_loss 1.3725 train_acc 0.6257 val_acc 0.6299\n"
     ]
    },
    {
     "name": "stderr",
     "output_type": "stream",
     "text": [
      "Epoch: 100%|██████████| 129/129 [00:17<00:00,  7.19it/s]\n",
      "Epoch:   1%|          | 1/129 [00:00<00:16,  7.55it/s]"
     ]
    },
    {
     "name": "stdout",
     "output_type": "stream",
     "text": [
      "\n",
      "Epoch 107 train_loss: 1.3048 val_loss 1.3804 train_acc 0.6275 val_acc 0.6248\n"
     ]
    },
    {
     "name": "stderr",
     "output_type": "stream",
     "text": [
      "Epoch: 100%|██████████| 129/129 [00:18<00:00,  7.10it/s]\n",
      "Epoch:   1%|          | 1/129 [00:00<00:16,  7.93it/s]"
     ]
    },
    {
     "name": "stdout",
     "output_type": "stream",
     "text": [
      "\n",
      "Epoch 108 train_loss: 1.3066 val_loss 1.3633 train_acc 0.6321 val_acc 0.6288\n"
     ]
    },
    {
     "name": "stderr",
     "output_type": "stream",
     "text": [
      "Epoch: 100%|██████████| 129/129 [00:16<00:00,  7.62it/s]\n",
      "Epoch:   1%|          | 1/129 [00:00<00:16,  7.87it/s]"
     ]
    },
    {
     "name": "stdout",
     "output_type": "stream",
     "text": [
      "\n",
      "Epoch 109 train_loss: 1.2983 val_loss 1.3691 train_acc 0.6398 val_acc 0.6223\n"
     ]
    },
    {
     "name": "stderr",
     "output_type": "stream",
     "text": [
      "Epoch: 100%|██████████| 129/129 [00:17<00:00,  7.59it/s]\n",
      "Epoch:   1%|          | 1/129 [00:00<00:15,  8.09it/s]"
     ]
    },
    {
     "name": "stdout",
     "output_type": "stream",
     "text": [
      "\n",
      "Epoch 110 train_loss: 1.2955 val_loss 1.3650 train_acc 0.6335 val_acc 0.6314\n"
     ]
    },
    {
     "name": "stderr",
     "output_type": "stream",
     "text": [
      "Epoch: 100%|██████████| 129/129 [00:17<00:00,  7.52it/s]\n",
      "Epoch:   1%|          | 1/129 [00:00<00:16,  7.87it/s]"
     ]
    },
    {
     "name": "stdout",
     "output_type": "stream",
     "text": [
      "\n",
      "Epoch 111 train_loss: 1.2890 val_loss 1.3540 train_acc 0.6330 val_acc 0.6332\n"
     ]
    },
    {
     "name": "stderr",
     "output_type": "stream",
     "text": [
      "Epoch: 100%|██████████| 129/129 [00:16<00:00,  7.62it/s]\n",
      "Epoch:   1%|          | 1/129 [00:00<00:16,  7.79it/s]"
     ]
    },
    {
     "name": "stdout",
     "output_type": "stream",
     "text": [
      "\n",
      "Epoch 112 train_loss: 1.2878 val_loss 1.3971 train_acc 0.6322 val_acc 0.6182\n"
     ]
    },
    {
     "name": "stderr",
     "output_type": "stream",
     "text": [
      "Epoch: 100%|██████████| 129/129 [00:17<00:00,  7.17it/s]\n",
      "Epoch:   1%|          | 1/129 [00:00<00:16,  7.59it/s]"
     ]
    },
    {
     "name": "stdout",
     "output_type": "stream",
     "text": [
      "\n",
      "Epoch 113 train_loss: 1.2918 val_loss 1.3537 train_acc 0.6342 val_acc 0.6318\n"
     ]
    },
    {
     "name": "stderr",
     "output_type": "stream",
     "text": [
      "Epoch: 100%|██████████| 129/129 [00:17<00:00,  7.54it/s]\n",
      "Epoch:   1%|          | 1/129 [00:00<00:16,  7.90it/s]"
     ]
    },
    {
     "name": "stdout",
     "output_type": "stream",
     "text": [
      "\n",
      "Epoch 114 train_loss: 1.2809 val_loss 1.4075 train_acc 0.6343 val_acc 0.6193\n"
     ]
    },
    {
     "name": "stderr",
     "output_type": "stream",
     "text": [
      "Epoch: 100%|██████████| 129/129 [00:18<00:00,  7.06it/s]\n",
      "Epoch:   1%|          | 1/129 [00:00<00:16,  7.60it/s]"
     ]
    },
    {
     "name": "stdout",
     "output_type": "stream",
     "text": [
      "\n",
      "Epoch 115 train_loss: 1.2783 val_loss 1.3588 train_acc 0.6363 val_acc 0.6299\n"
     ]
    },
    {
     "name": "stderr",
     "output_type": "stream",
     "text": [
      "Epoch: 100%|██████████| 129/129 [00:16<00:00,  7.60it/s]\n",
      "Epoch:   1%|          | 1/129 [00:00<00:17,  7.52it/s]"
     ]
    },
    {
     "name": "stdout",
     "output_type": "stream",
     "text": [
      "\n",
      "Epoch 116 train_loss: 1.2832 val_loss 1.3533 train_acc 0.6371 val_acc 0.6332\n"
     ]
    },
    {
     "name": "stderr",
     "output_type": "stream",
     "text": [
      "Epoch: 100%|██████████| 129/129 [00:17<00:00,  7.34it/s]\n",
      "Epoch:   1%|          | 1/129 [00:00<00:16,  7.65it/s]"
     ]
    },
    {
     "name": "stdout",
     "output_type": "stream",
     "text": [
      "\n",
      "Epoch 117 train_loss: 1.2679 val_loss 1.3508 train_acc 0.6405 val_acc 0.6325\n"
     ]
    },
    {
     "name": "stderr",
     "output_type": "stream",
     "text": [
      "Epoch: 100%|██████████| 129/129 [00:17<00:00,  7.42it/s]\n",
      "Epoch:   1%|          | 1/129 [00:00<00:16,  7.96it/s]"
     ]
    },
    {
     "name": "stdout",
     "output_type": "stream",
     "text": [
      "\n",
      "Epoch 118 train_loss: 1.2807 val_loss 1.3718 train_acc 0.6345 val_acc 0.6245\n"
     ]
    },
    {
     "name": "stderr",
     "output_type": "stream",
     "text": [
      "Epoch: 100%|██████████| 129/129 [00:17<00:00,  7.27it/s]\n",
      "Epoch:   1%|          | 1/129 [00:00<00:18,  7.11it/s]"
     ]
    },
    {
     "name": "stdout",
     "output_type": "stream",
     "text": [
      "\n",
      "Epoch 119 train_loss: 1.2772 val_loss 1.3472 train_acc 0.6372 val_acc 0.6307\n"
     ]
    },
    {
     "name": "stderr",
     "output_type": "stream",
     "text": [
      "Epoch: 100%|██████████| 129/129 [00:17<00:00,  7.48it/s]\n",
      "Epoch:   1%|          | 1/129 [00:00<00:16,  7.64it/s]"
     ]
    },
    {
     "name": "stdout",
     "output_type": "stream",
     "text": [
      "\n",
      "Epoch 120 train_loss: 1.2637 val_loss 1.3442 train_acc 0.6397 val_acc 0.6343\n"
     ]
    },
    {
     "name": "stderr",
     "output_type": "stream",
     "text": [
      "Epoch: 100%|██████████| 129/129 [00:18<00:00,  7.09it/s]\n",
      "Epoch:   1%|          | 1/129 [00:00<00:17,  7.29it/s]"
     ]
    },
    {
     "name": "stdout",
     "output_type": "stream",
     "text": [
      "\n",
      "Epoch 121 train_loss: 1.2669 val_loss 1.3519 train_acc 0.6428 val_acc 0.6328\n"
     ]
    },
    {
     "name": "stderr",
     "output_type": "stream",
     "text": [
      "Epoch: 100%|██████████| 129/129 [00:18<00:00,  6.96it/s]\n",
      "Epoch:   1%|          | 1/129 [00:00<00:16,  7.88it/s]"
     ]
    },
    {
     "name": "stdout",
     "output_type": "stream",
     "text": [
      "\n",
      "Epoch 122 train_loss: 1.2679 val_loss 1.3375 train_acc 0.6355 val_acc 0.6376\n"
     ]
    },
    {
     "name": "stderr",
     "output_type": "stream",
     "text": [
      "Epoch: 100%|██████████| 129/129 [00:17<00:00,  7.50it/s]\n",
      "Epoch:   1%|          | 1/129 [00:00<00:20,  6.24it/s]"
     ]
    },
    {
     "name": "stdout",
     "output_type": "stream",
     "text": [
      "\n",
      "Epoch 123 train_loss: 1.2598 val_loss 1.3482 train_acc 0.6473 val_acc 0.6343\n"
     ]
    },
    {
     "name": "stderr",
     "output_type": "stream",
     "text": [
      "Epoch: 100%|██████████| 129/129 [00:17<00:00,  7.23it/s]\n",
      "Epoch:   1%|          | 1/129 [00:00<00:17,  7.25it/s]"
     ]
    },
    {
     "name": "stdout",
     "output_type": "stream",
     "text": [
      "\n",
      "Epoch 124 train_loss: 1.2531 val_loss 1.3481 train_acc 0.6476 val_acc 0.6339\n"
     ]
    },
    {
     "name": "stderr",
     "output_type": "stream",
     "text": [
      "Epoch: 100%|██████████| 129/129 [00:17<00:00,  7.84it/s]\n",
      "Epoch:   1%|          | 1/129 [00:00<00:16,  7.67it/s]"
     ]
    },
    {
     "name": "stdout",
     "output_type": "stream",
     "text": [
      "\n",
      "Epoch 125 train_loss: 1.2562 val_loss 1.3583 train_acc 0.6448 val_acc 0.6321\n"
     ]
    },
    {
     "name": "stderr",
     "output_type": "stream",
     "text": [
      "Epoch: 100%|██████████| 129/129 [00:17<00:00,  7.50it/s]\n",
      "Epoch:   1%|          | 1/129 [00:00<00:20,  6.14it/s]"
     ]
    },
    {
     "name": "stdout",
     "output_type": "stream",
     "text": [
      "\n",
      "Epoch 126 train_loss: 1.2554 val_loss 1.3319 train_acc 0.6451 val_acc 0.6387\n"
     ]
    },
    {
     "name": "stderr",
     "output_type": "stream",
     "text": [
      "Epoch: 100%|██████████| 129/129 [00:17<00:00,  7.28it/s]\n",
      "Epoch:   1%|          | 1/129 [00:00<00:16,  7.82it/s]"
     ]
    },
    {
     "name": "stdout",
     "output_type": "stream",
     "text": [
      "\n",
      "Epoch 127 train_loss: 1.2475 val_loss 1.3202 train_acc 0.6446 val_acc 0.6412\n"
     ]
    },
    {
     "name": "stderr",
     "output_type": "stream",
     "text": [
      "Epoch: 100%|██████████| 129/129 [00:16<00:00,  7.73it/s]\n",
      "Epoch:   1%|          | 1/129 [00:00<00:17,  7.44it/s]"
     ]
    },
    {
     "name": "stdout",
     "output_type": "stream",
     "text": [
      "\n",
      "Epoch 128 train_loss: 1.2527 val_loss 1.3207 train_acc 0.6489 val_acc 0.6369\n"
     ]
    },
    {
     "name": "stderr",
     "output_type": "stream",
     "text": [
      "Epoch: 100%|██████████| 129/129 [00:17<00:00,  7.35it/s]\n",
      "Epoch:   1%|          | 1/129 [00:00<00:16,  7.71it/s]"
     ]
    },
    {
     "name": "stdout",
     "output_type": "stream",
     "text": [
      "\n",
      "Epoch 129 train_loss: 1.2425 val_loss 1.3247 train_acc 0.6442 val_acc 0.6365\n"
     ]
    },
    {
     "name": "stderr",
     "output_type": "stream",
     "text": [
      "Epoch: 100%|██████████| 129/129 [00:18<00:00,  7.12it/s]\n",
      "Epoch:   1%|          | 1/129 [00:00<00:18,  6.87it/s]"
     ]
    },
    {
     "name": "stdout",
     "output_type": "stream",
     "text": [
      "\n",
      "Epoch 130 train_loss: 1.2372 val_loss 1.3175 train_acc 0.6444 val_acc 0.6442\n"
     ]
    },
    {
     "name": "stderr",
     "output_type": "stream",
     "text": [
      "Epoch: 100%|██████████| 129/129 [00:17<00:00,  7.44it/s]\n",
      "Epoch:   1%|          | 1/129 [00:00<00:16,  7.68it/s]"
     ]
    },
    {
     "name": "stdout",
     "output_type": "stream",
     "text": [
      "\n",
      "Epoch 131 train_loss: 1.2419 val_loss 1.3281 train_acc 0.6493 val_acc 0.6398\n"
     ]
    },
    {
     "name": "stderr",
     "output_type": "stream",
     "text": [
      "Epoch: 100%|██████████| 129/129 [00:17<00:00,  7.54it/s]\n",
      "Epoch:   1%|          | 1/129 [00:00<00:16,  7.99it/s]"
     ]
    },
    {
     "name": "stdout",
     "output_type": "stream",
     "text": [
      "\n",
      "Epoch 132 train_loss: 1.2320 val_loss 1.3192 train_acc 0.6532 val_acc 0.6412\n"
     ]
    },
    {
     "name": "stderr",
     "output_type": "stream",
     "text": [
      "Epoch: 100%|██████████| 129/129 [00:17<00:00,  7.53it/s]\n",
      "Epoch:   1%|          | 1/129 [00:00<00:16,  7.83it/s]"
     ]
    },
    {
     "name": "stdout",
     "output_type": "stream",
     "text": [
      "\n",
      "Epoch 133 train_loss: 1.2349 val_loss 1.3232 train_acc 0.6523 val_acc 0.6354\n"
     ]
    },
    {
     "name": "stderr",
     "output_type": "stream",
     "text": [
      "Epoch: 100%|██████████| 129/129 [00:17<00:00,  7.38it/s]\n",
      "Epoch:   1%|          | 1/129 [00:00<00:17,  7.31it/s]"
     ]
    },
    {
     "name": "stdout",
     "output_type": "stream",
     "text": [
      "\n",
      "Epoch 134 train_loss: 1.2284 val_loss 1.3091 train_acc 0.6510 val_acc 0.6438\n"
     ]
    },
    {
     "name": "stderr",
     "output_type": "stream",
     "text": [
      "Epoch: 100%|██████████| 129/129 [00:18<00:00,  7.13it/s]\n",
      "Epoch:   1%|          | 1/129 [00:00<00:17,  7.16it/s]"
     ]
    },
    {
     "name": "stdout",
     "output_type": "stream",
     "text": [
      "\n",
      "Epoch 135 train_loss: 1.2290 val_loss 1.3186 train_acc 0.6550 val_acc 0.6438\n"
     ]
    },
    {
     "name": "stderr",
     "output_type": "stream",
     "text": [
      "Epoch: 100%|██████████| 129/129 [00:17<00:00,  7.46it/s]\n",
      "Epoch:   1%|          | 1/129 [00:00<00:19,  6.69it/s]"
     ]
    },
    {
     "name": "stdout",
     "output_type": "stream",
     "text": [
      "\n",
      "Epoch 136 train_loss: 1.2256 val_loss 1.3122 train_acc 0.6529 val_acc 0.6445\n"
     ]
    },
    {
     "name": "stderr",
     "output_type": "stream",
     "text": [
      "Epoch: 100%|██████████| 129/129 [00:19<00:00,  6.76it/s]\n",
      "Epoch:   1%|          | 1/129 [00:00<00:16,  7.64it/s]"
     ]
    },
    {
     "name": "stdout",
     "output_type": "stream",
     "text": [
      "\n",
      "Epoch 137 train_loss: 1.2219 val_loss 1.3223 train_acc 0.6526 val_acc 0.6398\n"
     ]
    },
    {
     "name": "stderr",
     "output_type": "stream",
     "text": [
      "Epoch: 100%|██████████| 129/129 [00:17<00:00,  7.51it/s]\n",
      "Epoch:   1%|          | 1/129 [00:00<00:17,  7.32it/s]"
     ]
    },
    {
     "name": "stdout",
     "output_type": "stream",
     "text": [
      "\n",
      "Epoch 138 train_loss: 1.2159 val_loss 1.3241 train_acc 0.6512 val_acc 0.6401\n"
     ]
    },
    {
     "name": "stderr",
     "output_type": "stream",
     "text": [
      "Epoch: 100%|██████████| 129/129 [00:17<00:00,  7.18it/s]\n",
      "Epoch:   1%|          | 1/129 [00:00<00:15,  8.35it/s]"
     ]
    },
    {
     "name": "stdout",
     "output_type": "stream",
     "text": [
      "\n",
      "Epoch 139 train_loss: 1.2150 val_loss 1.2982 train_acc 0.6523 val_acc 0.6449\n"
     ]
    },
    {
     "name": "stderr",
     "output_type": "stream",
     "text": [
      "Epoch: 100%|██████████| 129/129 [00:17<00:00,  7.50it/s]\n",
      "Epoch:   1%|          | 1/129 [00:00<00:17,  7.23it/s]"
     ]
    },
    {
     "name": "stdout",
     "output_type": "stream",
     "text": [
      "\n",
      "Epoch 140 train_loss: 1.2145 val_loss 1.3016 train_acc 0.6586 val_acc 0.6478\n"
     ]
    },
    {
     "name": "stderr",
     "output_type": "stream",
     "text": [
      "Epoch: 100%|██████████| 129/129 [00:17<00:00,  7.26it/s]\n",
      "Epoch:   1%|          | 1/129 [00:00<00:16,  7.84it/s]"
     ]
    },
    {
     "name": "stdout",
     "output_type": "stream",
     "text": [
      "\n",
      "Epoch 141 train_loss: 1.2138 val_loss 1.3188 train_acc 0.6575 val_acc 0.6431\n"
     ]
    },
    {
     "name": "stderr",
     "output_type": "stream",
     "text": [
      "Epoch: 100%|██████████| 129/129 [00:17<00:00,  7.43it/s]\n",
      "Epoch:   1%|          | 1/129 [00:00<00:20,  6.32it/s]"
     ]
    },
    {
     "name": "stdout",
     "output_type": "stream",
     "text": [
      "\n",
      "Epoch 142 train_loss: 1.2076 val_loss 1.3008 train_acc 0.6556 val_acc 0.6478\n"
     ]
    },
    {
     "name": "stderr",
     "output_type": "stream",
     "text": [
      "Epoch: 100%|██████████| 129/129 [00:16<00:00,  7.60it/s]\n",
      "Epoch:   1%|          | 1/129 [00:00<00:16,  7.86it/s]"
     ]
    },
    {
     "name": "stdout",
     "output_type": "stream",
     "text": [
      "\n",
      "Epoch 143 train_loss: 1.1970 val_loss 1.2940 train_acc 0.6585 val_acc 0.6434\n"
     ]
    },
    {
     "name": "stderr",
     "output_type": "stream",
     "text": [
      "Epoch: 100%|██████████| 129/129 [00:17<00:00,  7.29it/s]\n",
      "Epoch:   1%|          | 1/129 [00:00<00:17,  7.51it/s]"
     ]
    },
    {
     "name": "stdout",
     "output_type": "stream",
     "text": [
      "\n",
      "Epoch 144 train_loss: 1.2065 val_loss 1.3773 train_acc 0.6569 val_acc 0.6237\n"
     ]
    },
    {
     "name": "stderr",
     "output_type": "stream",
     "text": [
      "Epoch: 100%|██████████| 129/129 [00:17<00:00,  7.32it/s]\n",
      "Epoch:   1%|          | 1/129 [00:00<00:16,  7.76it/s]"
     ]
    },
    {
     "name": "stdout",
     "output_type": "stream",
     "text": [
      "\n",
      "Epoch 145 train_loss: 1.1961 val_loss 1.3151 train_acc 0.6552 val_acc 0.6434\n"
     ]
    },
    {
     "name": "stderr",
     "output_type": "stream",
     "text": [
      "Epoch: 100%|██████████| 129/129 [00:18<00:00,  7.11it/s]\n",
      "Epoch:   1%|          | 1/129 [00:00<00:17,  7.32it/s]"
     ]
    },
    {
     "name": "stdout",
     "output_type": "stream",
     "text": [
      "\n",
      "Epoch 146 train_loss: 1.1983 val_loss 1.2888 train_acc 0.6583 val_acc 0.6507\n"
     ]
    },
    {
     "name": "stderr",
     "output_type": "stream",
     "text": [
      "Epoch: 100%|██████████| 129/129 [00:17<00:00,  7.40it/s]\n",
      "Epoch:   1%|          | 1/129 [00:00<00:16,  7.67it/s]"
     ]
    },
    {
     "name": "stdout",
     "output_type": "stream",
     "text": [
      "\n",
      "Epoch 147 train_loss: 1.1933 val_loss 1.3173 train_acc 0.6586 val_acc 0.6416\n"
     ]
    },
    {
     "name": "stderr",
     "output_type": "stream",
     "text": [
      "Epoch: 100%|██████████| 129/129 [00:17<00:00,  7.47it/s]\n",
      "Epoch:   1%|          | 1/129 [00:00<00:16,  7.66it/s]"
     ]
    },
    {
     "name": "stdout",
     "output_type": "stream",
     "text": [
      "\n",
      "Epoch 148 train_loss: 1.1898 val_loss 1.3155 train_acc 0.6590 val_acc 0.6412\n"
     ]
    },
    {
     "name": "stderr",
     "output_type": "stream",
     "text": [
      "Epoch: 100%|██████████| 129/129 [00:17<00:00,  7.19it/s]\n",
      "Epoch:   1%|          | 1/129 [00:00<00:16,  7.96it/s]"
     ]
    },
    {
     "name": "stdout",
     "output_type": "stream",
     "text": [
      "\n",
      "Epoch 149 train_loss: 1.1927 val_loss 1.3020 train_acc 0.6607 val_acc 0.6460\n"
     ]
    },
    {
     "name": "stderr",
     "output_type": "stream",
     "text": [
      "Epoch: 100%|██████████| 129/129 [00:16<00:00,  7.67it/s]\n",
      "Epoch:   1%|          | 1/129 [00:00<00:16,  7.82it/s]"
     ]
    },
    {
     "name": "stdout",
     "output_type": "stream",
     "text": [
      "\n",
      "Epoch 150 train_loss: 1.1852 val_loss 1.2834 train_acc 0.6599 val_acc 0.6515\n"
     ]
    },
    {
     "name": "stderr",
     "output_type": "stream",
     "text": [
      "Epoch: 100%|██████████| 129/129 [00:18<00:00,  6.85it/s]\n",
      "Epoch:   1%|          | 1/129 [00:00<00:17,  7.48it/s]"
     ]
    },
    {
     "name": "stdout",
     "output_type": "stream",
     "text": [
      "\n",
      "Epoch 151 train_loss: 1.1866 val_loss 1.2836 train_acc 0.6605 val_acc 0.6504\n"
     ]
    },
    {
     "name": "stderr",
     "output_type": "stream",
     "text": [
      "Epoch: 100%|██████████| 129/129 [00:17<00:00,  7.22it/s]\n",
      "Epoch:   1%|          | 1/129 [00:00<00:16,  7.63it/s]"
     ]
    },
    {
     "name": "stdout",
     "output_type": "stream",
     "text": [
      "\n",
      "Epoch 152 train_loss: 1.1797 val_loss 1.2702 train_acc 0.6603 val_acc 0.6569\n"
     ]
    },
    {
     "name": "stderr",
     "output_type": "stream",
     "text": [
      "Epoch: 100%|██████████| 129/129 [00:18<00:00,  7.01it/s]\n",
      "Epoch:   1%|          | 1/129 [00:00<00:15,  8.16it/s]"
     ]
    },
    {
     "name": "stdout",
     "output_type": "stream",
     "text": [
      "\n",
      "Epoch 153 train_loss: 1.1765 val_loss 1.3510 train_acc 0.6648 val_acc 0.6226\n"
     ]
    },
    {
     "name": "stderr",
     "output_type": "stream",
     "text": [
      "Epoch: 100%|██████████| 129/129 [00:17<00:00,  7.46it/s]\n",
      "Epoch:   1%|          | 1/129 [00:00<00:19,  6.71it/s]"
     ]
    },
    {
     "name": "stdout",
     "output_type": "stream",
     "text": [
      "\n",
      "Epoch 154 train_loss: 1.1804 val_loss 1.2623 train_acc 0.6634 val_acc 0.6558\n"
     ]
    },
    {
     "name": "stderr",
     "output_type": "stream",
     "text": [
      "Epoch: 100%|██████████| 129/129 [00:17<00:00,  7.35it/s]\n",
      "Epoch:   1%|          | 1/129 [00:00<00:19,  6.60it/s]"
     ]
    },
    {
     "name": "stdout",
     "output_type": "stream",
     "text": [
      "\n",
      "Epoch 155 train_loss: 1.1800 val_loss 1.2697 train_acc 0.6653 val_acc 0.6536\n"
     ]
    },
    {
     "name": "stderr",
     "output_type": "stream",
     "text": [
      "Epoch: 100%|██████████| 129/129 [00:18<00:00,  7.17it/s]\n",
      "Epoch:   1%|          | 1/129 [00:00<00:17,  7.51it/s]"
     ]
    },
    {
     "name": "stdout",
     "output_type": "stream",
     "text": [
      "\n",
      "Epoch 156 train_loss: 1.1682 val_loss 1.3093 train_acc 0.6653 val_acc 0.6471\n"
     ]
    },
    {
     "name": "stderr",
     "output_type": "stream",
     "text": [
      "Epoch: 100%|██████████| 129/129 [00:17<00:00,  7.35it/s]\n",
      "Epoch:   1%|          | 1/129 [00:00<00:16,  7.74it/s]"
     ]
    },
    {
     "name": "stdout",
     "output_type": "stream",
     "text": [
      "\n",
      "Epoch 157 train_loss: 1.1639 val_loss 1.2772 train_acc 0.6673 val_acc 0.6500\n"
     ]
    },
    {
     "name": "stderr",
     "output_type": "stream",
     "text": [
      "Epoch: 100%|██████████| 129/129 [00:16<00:00,  7.62it/s]\n",
      "Epoch:   1%|          | 1/129 [00:00<00:19,  6.45it/s]"
     ]
    },
    {
     "name": "stdout",
     "output_type": "stream",
     "text": [
      "\n",
      "Epoch 158 train_loss: 1.1640 val_loss 1.2918 train_acc 0.6656 val_acc 0.6456\n"
     ]
    },
    {
     "name": "stderr",
     "output_type": "stream",
     "text": [
      "Epoch: 100%|██████████| 129/129 [00:17<00:00,  7.53it/s]\n",
      "Epoch:   1%|          | 1/129 [00:00<00:17,  7.29it/s]"
     ]
    },
    {
     "name": "stdout",
     "output_type": "stream",
     "text": [
      "\n",
      "Epoch 159 train_loss: 1.1587 val_loss 1.2624 train_acc 0.6717 val_acc 0.6580\n"
     ]
    },
    {
     "name": "stderr",
     "output_type": "stream",
     "text": [
      "Epoch: 100%|██████████| 129/129 [00:18<00:00,  7.13it/s]\n",
      "Epoch:   1%|          | 1/129 [00:00<00:16,  7.93it/s]"
     ]
    },
    {
     "name": "stdout",
     "output_type": "stream",
     "text": [
      "\n",
      "Epoch 160 train_loss: 1.1509 val_loss 1.2614 train_acc 0.6709 val_acc 0.6602\n"
     ]
    },
    {
     "name": "stderr",
     "output_type": "stream",
     "text": [
      "Epoch: 100%|██████████| 129/129 [00:16<00:00,  7.62it/s]\n",
      "Epoch:   1%|          | 1/129 [00:00<00:19,  6.40it/s]"
     ]
    },
    {
     "name": "stdout",
     "output_type": "stream",
     "text": [
      "\n",
      "Epoch 161 train_loss: 1.1475 val_loss 1.3266 train_acc 0.6730 val_acc 0.6391\n"
     ]
    },
    {
     "name": "stderr",
     "output_type": "stream",
     "text": [
      "Epoch: 100%|██████████| 129/129 [00:17<00:00,  7.32it/s]\n",
      "Epoch:   1%|          | 1/129 [00:00<00:18,  6.96it/s]"
     ]
    },
    {
     "name": "stdout",
     "output_type": "stream",
     "text": [
      "\n",
      "Epoch 162 train_loss: 1.1604 val_loss 1.2701 train_acc 0.6686 val_acc 0.6536\n"
     ]
    },
    {
     "name": "stderr",
     "output_type": "stream",
     "text": [
      "Epoch: 100%|██████████| 129/129 [00:17<00:00,  7.27it/s]\n",
      "Epoch:   1%|          | 1/129 [00:00<00:17,  7.28it/s]"
     ]
    },
    {
     "name": "stdout",
     "output_type": "stream",
     "text": [
      "\n",
      "Epoch 163 train_loss: 1.1520 val_loss 1.2611 train_acc 0.6729 val_acc 0.6569\n"
     ]
    },
    {
     "name": "stderr",
     "output_type": "stream",
     "text": [
      "Epoch: 100%|██████████| 129/129 [00:17<00:00,  7.59it/s]\n",
      "Epoch:   1%|          | 1/129 [00:00<00:16,  7.82it/s]"
     ]
    },
    {
     "name": "stdout",
     "output_type": "stream",
     "text": [
      "\n",
      "Epoch 164 train_loss: 1.1429 val_loss 1.3013 train_acc 0.6759 val_acc 0.6449\n"
     ]
    },
    {
     "name": "stderr",
     "output_type": "stream",
     "text": [
      "Epoch: 100%|██████████| 129/129 [00:17<00:00,  7.55it/s]\n",
      "Epoch:   1%|          | 1/129 [00:00<00:15,  8.07it/s]"
     ]
    },
    {
     "name": "stdout",
     "output_type": "stream",
     "text": [
      "\n",
      "Epoch 165 train_loss: 1.1516 val_loss 1.2834 train_acc 0.6695 val_acc 0.6489\n"
     ]
    },
    {
     "name": "stderr",
     "output_type": "stream",
     "text": [
      "Epoch: 100%|██████████| 129/129 [00:18<00:00,  6.92it/s]\n",
      "Epoch:   1%|          | 1/129 [00:00<00:17,  7.44it/s]"
     ]
    },
    {
     "name": "stdout",
     "output_type": "stream",
     "text": [
      "\n",
      "Epoch 166 train_loss: 1.1451 val_loss 1.2768 train_acc 0.6709 val_acc 0.6478\n"
     ]
    },
    {
     "name": "stderr",
     "output_type": "stream",
     "text": [
      "Epoch: 100%|██████████| 129/129 [00:18<00:00,  7.16it/s]\n",
      "Epoch:   1%|          | 1/129 [00:00<00:16,  7.97it/s]"
     ]
    },
    {
     "name": "stdout",
     "output_type": "stream",
     "text": [
      "\n",
      "Epoch 167 train_loss: 1.1389 val_loss 1.2422 train_acc 0.6746 val_acc 0.6661\n"
     ]
    },
    {
     "name": "stderr",
     "output_type": "stream",
     "text": [
      "Epoch: 100%|██████████| 129/129 [00:16<00:00,  7.62it/s]\n",
      "Epoch:   1%|          | 1/129 [00:00<00:17,  7.47it/s]"
     ]
    },
    {
     "name": "stdout",
     "output_type": "stream",
     "text": [
      "\n",
      "Epoch 168 train_loss: 1.1378 val_loss 1.3203 train_acc 0.6764 val_acc 0.6387\n"
     ]
    },
    {
     "name": "stderr",
     "output_type": "stream",
     "text": [
      "Epoch: 100%|██████████| 129/129 [00:17<00:00,  7.52it/s]\n",
      "Epoch:   1%|          | 1/129 [00:00<00:16,  7.82it/s]"
     ]
    },
    {
     "name": "stdout",
     "output_type": "stream",
     "text": [
      "\n",
      "Epoch 169 train_loss: 1.1290 val_loss 1.2448 train_acc 0.6799 val_acc 0.6602\n"
     ]
    },
    {
     "name": "stderr",
     "output_type": "stream",
     "text": [
      "Epoch: 100%|██████████| 129/129 [00:17<00:00,  7.33it/s]\n",
      "Epoch:   1%|          | 1/129 [00:00<00:16,  7.77it/s]"
     ]
    },
    {
     "name": "stdout",
     "output_type": "stream",
     "text": [
      "\n",
      "Epoch 170 train_loss: 1.1306 val_loss 1.2514 train_acc 0.6779 val_acc 0.6602\n"
     ]
    },
    {
     "name": "stderr",
     "output_type": "stream",
     "text": [
      "Epoch: 100%|██████████| 129/129 [00:16<00:00,  7.64it/s]\n",
      "Epoch:   1%|          | 1/129 [00:00<00:15,  8.20it/s]"
     ]
    },
    {
     "name": "stdout",
     "output_type": "stream",
     "text": [
      "\n",
      "Epoch 171 train_loss: 1.1303 val_loss 1.2568 train_acc 0.6708 val_acc 0.6536\n"
     ]
    },
    {
     "name": "stderr",
     "output_type": "stream",
     "text": [
      "Epoch: 100%|██████████| 129/129 [00:16<00:00,  7.69it/s]\n",
      "Epoch:   1%|          | 1/129 [00:00<00:18,  6.81it/s]"
     ]
    },
    {
     "name": "stdout",
     "output_type": "stream",
     "text": [
      "\n",
      "Epoch 172 train_loss: 1.1260 val_loss 1.2675 train_acc 0.6765 val_acc 0.6562\n"
     ]
    },
    {
     "name": "stderr",
     "output_type": "stream",
     "text": [
      "Epoch: 100%|██████████| 129/129 [00:16<00:00,  7.67it/s]\n",
      "Epoch:   1%|          | 1/129 [00:00<00:15,  8.25it/s]"
     ]
    },
    {
     "name": "stdout",
     "output_type": "stream",
     "text": [
      "\n",
      "Epoch 173 train_loss: 1.1336 val_loss 1.2324 train_acc 0.6740 val_acc 0.6639\n"
     ]
    },
    {
     "name": "stderr",
     "output_type": "stream",
     "text": [
      "Epoch: 100%|██████████| 129/129 [00:18<00:00,  7.13it/s]\n",
      "Epoch:   1%|          | 1/129 [00:00<00:16,  7.91it/s]"
     ]
    },
    {
     "name": "stdout",
     "output_type": "stream",
     "text": [
      "\n",
      "Epoch 174 train_loss: 1.1281 val_loss 1.2569 train_acc 0.6726 val_acc 0.6558\n"
     ]
    },
    {
     "name": "stderr",
     "output_type": "stream",
     "text": [
      "Epoch: 100%|██████████| 129/129 [00:16<00:00,  7.62it/s]\n",
      "Epoch:   1%|          | 1/129 [00:00<00:17,  7.24it/s]"
     ]
    },
    {
     "name": "stdout",
     "output_type": "stream",
     "text": [
      "\n",
      "Epoch 175 train_loss: 1.1235 val_loss 1.2973 train_acc 0.6758 val_acc 0.6474\n"
     ]
    },
    {
     "name": "stderr",
     "output_type": "stream",
     "text": [
      "Epoch: 100%|██████████| 129/129 [00:16<00:00,  7.60it/s]\n",
      "Epoch:   1%|          | 1/129 [00:00<00:16,  7.65it/s]"
     ]
    },
    {
     "name": "stdout",
     "output_type": "stream",
     "text": [
      "\n",
      "Epoch 176 train_loss: 1.1149 val_loss 1.2476 train_acc 0.6841 val_acc 0.6580\n"
     ]
    },
    {
     "name": "stderr",
     "output_type": "stream",
     "text": [
      "Epoch: 100%|██████████| 129/129 [00:17<00:00,  7.36it/s]\n",
      "Epoch:   1%|          | 1/129 [00:00<00:16,  7.75it/s]"
     ]
    },
    {
     "name": "stdout",
     "output_type": "stream",
     "text": [
      "\n",
      "Epoch 177 train_loss: 1.1147 val_loss 1.2325 train_acc 0.6854 val_acc 0.6606\n"
     ]
    },
    {
     "name": "stderr",
     "output_type": "stream",
     "text": [
      "Epoch: 100%|██████████| 129/129 [00:17<00:00,  7.51it/s]\n",
      "Epoch:   1%|          | 1/129 [00:00<00:17,  7.19it/s]"
     ]
    },
    {
     "name": "stdout",
     "output_type": "stream",
     "text": [
      "\n",
      "Epoch 178 train_loss: 1.1114 val_loss 1.2263 train_acc 0.6811 val_acc 0.6672\n"
     ]
    },
    {
     "name": "stderr",
     "output_type": "stream",
     "text": [
      "Epoch: 100%|██████████| 129/129 [00:17<00:00,  7.21it/s]\n",
      "Epoch:   1%|          | 1/129 [00:00<00:19,  6.46it/s]"
     ]
    },
    {
     "name": "stdout",
     "output_type": "stream",
     "text": [
      "\n",
      "Epoch 179 train_loss: 1.1154 val_loss 1.2262 train_acc 0.6813 val_acc 0.6606\n"
     ]
    },
    {
     "name": "stderr",
     "output_type": "stream",
     "text": [
      "Epoch: 100%|██████████| 129/129 [00:17<00:00,  7.56it/s]\n",
      "Epoch:   1%|          | 1/129 [00:00<00:17,  7.18it/s]"
     ]
    },
    {
     "name": "stdout",
     "output_type": "stream",
     "text": [
      "\n",
      "Epoch 180 train_loss: 1.1140 val_loss 1.2183 train_acc 0.6791 val_acc 0.6715\n"
     ]
    },
    {
     "name": "stderr",
     "output_type": "stream",
     "text": [
      "Epoch: 100%|██████████| 129/129 [00:17<00:00,  7.41it/s]\n",
      "Epoch:   1%|          | 1/129 [00:00<00:16,  7.75it/s]"
     ]
    },
    {
     "name": "stdout",
     "output_type": "stream",
     "text": [
      "\n",
      "Epoch 181 train_loss: 1.1117 val_loss 1.2260 train_acc 0.6785 val_acc 0.6646\n"
     ]
    },
    {
     "name": "stderr",
     "output_type": "stream",
     "text": [
      "Epoch: 100%|██████████| 129/129 [00:17<00:00,  7.33it/s]\n",
      "Epoch:   1%|          | 1/129 [00:00<00:19,  6.54it/s]"
     ]
    },
    {
     "name": "stdout",
     "output_type": "stream",
     "text": [
      "\n",
      "Epoch 182 train_loss: 1.1037 val_loss 1.2292 train_acc 0.6858 val_acc 0.6631\n"
     ]
    },
    {
     "name": "stderr",
     "output_type": "stream",
     "text": [
      "Epoch: 100%|██████████| 129/129 [00:17<00:00,  7.41it/s]\n",
      "Epoch:   1%|          | 1/129 [00:00<00:17,  7.53it/s]"
     ]
    },
    {
     "name": "stdout",
     "output_type": "stream",
     "text": [
      "\n",
      "Epoch 183 train_loss: 1.1097 val_loss 1.2231 train_acc 0.6813 val_acc 0.6646\n"
     ]
    },
    {
     "name": "stderr",
     "output_type": "stream",
     "text": [
      "Epoch: 100%|██████████| 129/129 [00:16<00:00,  7.63it/s]\n",
      "Epoch:   1%|          | 1/129 [00:00<00:15,  8.22it/s]"
     ]
    },
    {
     "name": "stdout",
     "output_type": "stream",
     "text": [
      "\n",
      "Epoch 184 train_loss: 1.1015 val_loss 1.2351 train_acc 0.6833 val_acc 0.6639\n"
     ]
    },
    {
     "name": "stderr",
     "output_type": "stream",
     "text": [
      "Epoch: 100%|██████████| 129/129 [00:17<00:00,  7.43it/s]\n",
      "Epoch:   1%|          | 1/129 [00:00<00:16,  7.59it/s]"
     ]
    },
    {
     "name": "stdout",
     "output_type": "stream",
     "text": [
      "\n",
      "Epoch 185 train_loss: 1.0921 val_loss 1.2517 train_acc 0.6882 val_acc 0.6606\n"
     ]
    },
    {
     "name": "stderr",
     "output_type": "stream",
     "text": [
      "Epoch: 100%|██████████| 129/129 [00:18<00:00,  7.14it/s]\n",
      "Epoch:   1%|          | 1/129 [00:00<00:17,  7.11it/s]"
     ]
    },
    {
     "name": "stdout",
     "output_type": "stream",
     "text": [
      "\n",
      "Epoch 186 train_loss: 1.0955 val_loss 1.2259 train_acc 0.6805 val_acc 0.6661\n"
     ]
    },
    {
     "name": "stderr",
     "output_type": "stream",
     "text": [
      "Epoch: 100%|██████████| 129/129 [00:17<00:00,  7.53it/s]\n",
      "Epoch:   1%|          | 1/129 [00:00<00:17,  7.41it/s]"
     ]
    },
    {
     "name": "stdout",
     "output_type": "stream",
     "text": [
      "\n",
      "Epoch 187 train_loss: 1.0941 val_loss 1.2440 train_acc 0.6858 val_acc 0.6620\n"
     ]
    },
    {
     "name": "stderr",
     "output_type": "stream",
     "text": [
      "Epoch: 100%|██████████| 129/129 [00:17<00:00,  7.21it/s]\n",
      "Epoch:   1%|          | 1/129 [00:00<00:16,  7.65it/s]"
     ]
    },
    {
     "name": "stdout",
     "output_type": "stream",
     "text": [
      "\n",
      "Epoch 188 train_loss: 1.0925 val_loss 1.2136 train_acc 0.6886 val_acc 0.6642\n"
     ]
    },
    {
     "name": "stderr",
     "output_type": "stream",
     "text": [
      "Epoch: 100%|██████████| 129/129 [00:17<00:00,  7.38it/s]\n",
      "Epoch:   1%|          | 1/129 [00:00<00:15,  8.10it/s]"
     ]
    },
    {
     "name": "stdout",
     "output_type": "stream",
     "text": [
      "\n",
      "Epoch 189 train_loss: 1.0968 val_loss 1.2032 train_acc 0.6891 val_acc 0.6730\n"
     ]
    },
    {
     "name": "stderr",
     "output_type": "stream",
     "text": [
      "Epoch: 100%|██████████| 129/129 [00:17<00:00,  7.52it/s]\n",
      "Epoch:   1%|          | 1/129 [00:00<00:16,  7.82it/s]"
     ]
    },
    {
     "name": "stdout",
     "output_type": "stream",
     "text": [
      "\n",
      "Epoch 190 train_loss: 1.0802 val_loss 1.2052 train_acc 0.6887 val_acc 0.6701\n"
     ]
    },
    {
     "name": "stderr",
     "output_type": "stream",
     "text": [
      "Epoch: 100%|██████████| 129/129 [00:17<00:00,  7.52it/s]\n",
      "Epoch:   1%|          | 1/129 [00:00<00:18,  7.05it/s]"
     ]
    },
    {
     "name": "stdout",
     "output_type": "stream",
     "text": [
      "\n",
      "Epoch 191 train_loss: 1.0857 val_loss 1.2880 train_acc 0.6859 val_acc 0.6442\n"
     ]
    },
    {
     "name": "stderr",
     "output_type": "stream",
     "text": [
      "Epoch: 100%|██████████| 129/129 [00:17<00:00,  7.42it/s]\n",
      "Epoch:   1%|          | 1/129 [00:00<00:16,  7.64it/s]"
     ]
    },
    {
     "name": "stdout",
     "output_type": "stream",
     "text": [
      "\n",
      "Epoch 192 train_loss: 1.0818 val_loss 1.2309 train_acc 0.6898 val_acc 0.6617\n"
     ]
    },
    {
     "name": "stderr",
     "output_type": "stream",
     "text": [
      "Epoch: 100%|██████████| 129/129 [00:16<00:00,  7.61it/s]\n",
      "Epoch:   1%|          | 1/129 [00:00<00:17,  7.26it/s]"
     ]
    },
    {
     "name": "stdout",
     "output_type": "stream",
     "text": [
      "\n",
      "Epoch 193 train_loss: 1.0721 val_loss 1.2551 train_acc 0.6944 val_acc 0.6533\n"
     ]
    },
    {
     "name": "stderr",
     "output_type": "stream",
     "text": [
      "Epoch: 100%|██████████| 129/129 [00:16<00:00,  7.74it/s]\n",
      "Epoch:   1%|          | 1/129 [00:00<00:20,  6.18it/s]"
     ]
    },
    {
     "name": "stdout",
     "output_type": "stream",
     "text": [
      "\n",
      "Epoch 194 train_loss: 1.0791 val_loss 1.2023 train_acc 0.6845 val_acc 0.6752\n"
     ]
    },
    {
     "name": "stderr",
     "output_type": "stream",
     "text": [
      "Epoch: 100%|██████████| 129/129 [00:17<00:00,  7.52it/s]\n",
      "Epoch:   1%|          | 1/129 [00:00<00:16,  7.92it/s]"
     ]
    },
    {
     "name": "stdout",
     "output_type": "stream",
     "text": [
      "\n",
      "Epoch 195 train_loss: 1.0761 val_loss 1.2017 train_acc 0.6910 val_acc 0.6668\n"
     ]
    },
    {
     "name": "stderr",
     "output_type": "stream",
     "text": [
      "Epoch: 100%|██████████| 129/129 [00:17<00:00,  7.17it/s]\n",
      "Epoch:   1%|          | 1/129 [00:00<00:16,  7.91it/s]"
     ]
    },
    {
     "name": "stdout",
     "output_type": "stream",
     "text": [
      "\n",
      "Epoch 196 train_loss: 1.0685 val_loss 1.3121 train_acc 0.6937 val_acc 0.6369\n"
     ]
    },
    {
     "name": "stderr",
     "output_type": "stream",
     "text": [
      "Epoch: 100%|██████████| 129/129 [00:17<00:00,  7.21it/s]\n",
      "Epoch:   1%|          | 1/129 [00:00<00:19,  6.62it/s]"
     ]
    },
    {
     "name": "stdout",
     "output_type": "stream",
     "text": [
      "\n",
      "Epoch 197 train_loss: 1.0752 val_loss 1.2063 train_acc 0.6914 val_acc 0.6697\n"
     ]
    },
    {
     "name": "stderr",
     "output_type": "stream",
     "text": [
      "Epoch: 100%|██████████| 129/129 [00:17<00:00,  7.54it/s]\n",
      "Epoch:   1%|          | 1/129 [00:00<00:16,  7.63it/s]"
     ]
    },
    {
     "name": "stdout",
     "output_type": "stream",
     "text": [
      "\n",
      "Epoch 198 train_loss: 1.0651 val_loss 1.2273 train_acc 0.6925 val_acc 0.6566\n"
     ]
    },
    {
     "name": "stderr",
     "output_type": "stream",
     "text": [
      "Epoch: 100%|██████████| 129/129 [00:17<00:00,  7.20it/s]\n",
      "Epoch:   1%|          | 1/129 [00:00<00:16,  7.78it/s]"
     ]
    },
    {
     "name": "stdout",
     "output_type": "stream",
     "text": [
      "\n",
      "Epoch 199 train_loss: 1.0663 val_loss 1.2019 train_acc 0.6964 val_acc 0.6726\n"
     ]
    },
    {
     "name": "stderr",
     "output_type": "stream",
     "text": [
      "Epoch: 100%|██████████| 129/129 [00:17<00:00,  7.39it/s]\n"
     ]
    },
    {
     "name": "stdout",
     "output_type": "stream",
     "text": [
      "\n",
      "Epoch 200 train_loss: 1.0575 val_loss 1.1907 train_acc 0.6978 val_acc 0.6726\n"
     ]
    }
   ],
   "source": [
    "optim = torch.optim.SGD(CNN.parameters(), lr=0.0002)\n",
    "criterion = nn.CrossEntropyLoss()\n",
    "\n",
    "history = train(train_dataset, val_dataset, model=CNN,  optim=optim,\n",
    "                criterion=criterion, epochs=200, batch_size=64, device=DEVICE)"
   ]
  },
  {
   "cell_type": "code",
   "execution_count": 59,
   "metadata": {
    "scrolled": true
   },
   "outputs": [
    {
     "name": "stderr",
     "output_type": "stream",
     "text": [
      "Epoch: 100%|██████████| 129/129 [00:17<00:00,  7.30it/s]\n",
      "Epoch:   1%|          | 1/129 [00:00<00:18,  7.05it/s]"
     ]
    },
    {
     "name": "stdout",
     "output_type": "stream",
     "text": [
      "\n",
      "Epoch 001 train_loss: 1.2475 val_loss 1.3757 train_acc 0.6474 val_acc 0.6354\n"
     ]
    },
    {
     "name": "stderr",
     "output_type": "stream",
     "text": [
      "Epoch: 100%|██████████| 129/129 [00:17<00:00,  7.58it/s]\n",
      "Epoch:   1%|          | 1/129 [00:00<00:15,  8.13it/s]"
     ]
    },
    {
     "name": "stdout",
     "output_type": "stream",
     "text": [
      "\n",
      "Epoch 002 train_loss: 1.1412 val_loss 1.2559 train_acc 0.6670 val_acc 0.6566\n"
     ]
    },
    {
     "name": "stderr",
     "output_type": "stream",
     "text": [
      "Epoch: 100%|██████████| 129/129 [00:17<00:00,  7.42it/s]\n",
      "Epoch:   1%|          | 1/129 [00:00<00:16,  7.85it/s]"
     ]
    },
    {
     "name": "stdout",
     "output_type": "stream",
     "text": [
      "\n",
      "Epoch 003 train_loss: 1.1200 val_loss 1.2140 train_acc 0.6777 val_acc 0.6690\n"
     ]
    },
    {
     "name": "stderr",
     "output_type": "stream",
     "text": [
      "Epoch: 100%|██████████| 129/129 [00:18<00:00,  6.81it/s]\n",
      "Epoch:   1%|          | 1/129 [00:00<00:19,  6.65it/s]"
     ]
    },
    {
     "name": "stdout",
     "output_type": "stream",
     "text": [
      "\n",
      "Epoch 004 train_loss: 1.1402 val_loss 1.1870 train_acc 0.6721 val_acc 0.6715\n"
     ]
    },
    {
     "name": "stderr",
     "output_type": "stream",
     "text": [
      "Epoch: 100%|██████████| 129/129 [00:17<00:00,  7.21it/s]\n",
      "Epoch:   1%|          | 1/129 [00:00<00:16,  7.64it/s]"
     ]
    },
    {
     "name": "stdout",
     "output_type": "stream",
     "text": [
      "\n",
      "Epoch 005 train_loss: 1.1162 val_loss 1.2810 train_acc 0.6794 val_acc 0.6478\n"
     ]
    },
    {
     "name": "stderr",
     "output_type": "stream",
     "text": [
      "Epoch: 100%|██████████| 129/129 [00:17<00:00,  7.34it/s]\n",
      "Epoch:   1%|          | 1/129 [00:00<00:18,  6.81it/s]"
     ]
    },
    {
     "name": "stdout",
     "output_type": "stream",
     "text": [
      "\n",
      "Epoch 006 train_loss: 1.0887 val_loss 1.3644 train_acc 0.6906 val_acc 0.6223\n"
     ]
    },
    {
     "name": "stderr",
     "output_type": "stream",
     "text": [
      "Epoch: 100%|██████████| 129/129 [00:18<00:00,  7.15it/s]\n",
      "Epoch:   1%|          | 1/129 [00:00<00:15,  8.02it/s]"
     ]
    },
    {
     "name": "stdout",
     "output_type": "stream",
     "text": [
      "\n",
      "Epoch 007 train_loss: 1.0910 val_loss 1.2400 train_acc 0.6850 val_acc 0.6518\n"
     ]
    },
    {
     "name": "stderr",
     "output_type": "stream",
     "text": [
      "Epoch: 100%|██████████| 129/129 [00:16<00:00,  7.69it/s]\n",
      "Epoch:   1%|          | 1/129 [00:00<00:17,  7.25it/s]"
     ]
    },
    {
     "name": "stdout",
     "output_type": "stream",
     "text": [
      "\n",
      "Epoch 008 train_loss: 1.1001 val_loss 1.1859 train_acc 0.6847 val_acc 0.6759\n"
     ]
    },
    {
     "name": "stderr",
     "output_type": "stream",
     "text": [
      "Epoch: 100%|██████████| 129/129 [00:17<00:00,  7.56it/s]\n",
      "Epoch:   1%|          | 1/129 [00:00<00:16,  7.56it/s]"
     ]
    },
    {
     "name": "stdout",
     "output_type": "stream",
     "text": [
      "\n",
      "Epoch 009 train_loss: 1.0905 val_loss 1.1848 train_acc 0.6863 val_acc 0.6766\n"
     ]
    },
    {
     "name": "stderr",
     "output_type": "stream",
     "text": [
      "Epoch: 100%|██████████| 129/129 [00:17<00:00,  7.49it/s]\n",
      "Epoch:   1%|          | 1/129 [00:00<00:16,  7.63it/s]"
     ]
    },
    {
     "name": "stdout",
     "output_type": "stream",
     "text": [
      "\n",
      "Epoch 010 train_loss: 1.0812 val_loss 1.2054 train_acc 0.6863 val_acc 0.6719\n"
     ]
    },
    {
     "name": "stderr",
     "output_type": "stream",
     "text": [
      "Epoch: 100%|██████████| 129/129 [00:17<00:00,  7.57it/s]\n",
      "Epoch:   1%|          | 1/129 [00:00<00:16,  7.90it/s]"
     ]
    },
    {
     "name": "stdout",
     "output_type": "stream",
     "text": [
      "\n",
      "Epoch 011 train_loss: 1.0576 val_loss 1.2497 train_acc 0.6946 val_acc 0.6613\n"
     ]
    },
    {
     "name": "stderr",
     "output_type": "stream",
     "text": [
      "Epoch: 100%|██████████| 129/129 [00:16<00:00,  7.67it/s]\n",
      "Epoch:   1%|          | 1/129 [00:00<00:16,  7.87it/s]"
     ]
    },
    {
     "name": "stdout",
     "output_type": "stream",
     "text": [
      "\n",
      "Epoch 012 train_loss: 1.0580 val_loss 1.1623 train_acc 0.6968 val_acc 0.6880\n"
     ]
    },
    {
     "name": "stderr",
     "output_type": "stream",
     "text": [
      "Epoch: 100%|██████████| 129/129 [00:17<00:00,  7.39it/s]\n",
      "Epoch:   1%|          | 1/129 [00:00<00:16,  7.90it/s]"
     ]
    },
    {
     "name": "stdout",
     "output_type": "stream",
     "text": [
      "\n",
      "Epoch 013 train_loss: 1.0714 val_loss 1.2155 train_acc 0.6931 val_acc 0.6661\n"
     ]
    },
    {
     "name": "stderr",
     "output_type": "stream",
     "text": [
      "Epoch: 100%|██████████| 129/129 [00:17<00:00,  7.58it/s]\n",
      "Epoch:   1%|          | 1/129 [00:00<00:16,  7.82it/s]"
     ]
    },
    {
     "name": "stdout",
     "output_type": "stream",
     "text": [
      "\n",
      "Epoch 014 train_loss: 1.0501 val_loss 1.2167 train_acc 0.7000 val_acc 0.6569\n"
     ]
    },
    {
     "name": "stderr",
     "output_type": "stream",
     "text": [
      "Epoch: 100%|██████████| 129/129 [00:18<00:00,  6.93it/s]\n",
      "Epoch:   1%|          | 1/129 [00:00<00:16,  7.71it/s]"
     ]
    },
    {
     "name": "stdout",
     "output_type": "stream",
     "text": [
      "\n",
      "Epoch 015 train_loss: 1.0493 val_loss 1.1588 train_acc 0.7026 val_acc 0.6836\n"
     ]
    },
    {
     "name": "stderr",
     "output_type": "stream",
     "text": [
      "Epoch: 100%|██████████| 129/129 [00:17<00:00,  7.45it/s]\n",
      "Epoch:   1%|          | 1/129 [00:00<00:18,  6.88it/s]"
     ]
    },
    {
     "name": "stdout",
     "output_type": "stream",
     "text": [
      "\n",
      "Epoch 016 train_loss: 1.0639 val_loss 1.1619 train_acc 0.6956 val_acc 0.6752\n"
     ]
    },
    {
     "name": "stderr",
     "output_type": "stream",
     "text": [
      "Epoch: 100%|██████████| 129/129 [00:17<00:00,  7.36it/s]\n",
      "Epoch:   1%|          | 1/129 [00:00<00:16,  7.93it/s]"
     ]
    },
    {
     "name": "stdout",
     "output_type": "stream",
     "text": [
      "\n",
      "Epoch 017 train_loss: 1.0464 val_loss 1.1625 train_acc 0.6936 val_acc 0.6832\n"
     ]
    },
    {
     "name": "stderr",
     "output_type": "stream",
     "text": [
      "Epoch: 100%|██████████| 129/129 [00:16<00:00,  7.71it/s]\n",
      "Epoch:   1%|          | 1/129 [00:00<00:20,  6.30it/s]"
     ]
    },
    {
     "name": "stdout",
     "output_type": "stream",
     "text": [
      "\n",
      "Epoch 018 train_loss: 1.0297 val_loss 1.1630 train_acc 0.7039 val_acc 0.6781\n"
     ]
    },
    {
     "name": "stderr",
     "output_type": "stream",
     "text": [
      "Epoch: 100%|██████████| 129/129 [00:17<00:00,  7.52it/s]\n",
      "Epoch:   1%|          | 1/129 [00:00<00:21,  5.88it/s]"
     ]
    },
    {
     "name": "stdout",
     "output_type": "stream",
     "text": [
      "\n",
      "Epoch 019 train_loss: 1.0453 val_loss 1.1382 train_acc 0.7039 val_acc 0.6847\n"
     ]
    },
    {
     "name": "stderr",
     "output_type": "stream",
     "text": [
      "Epoch: 100%|██████████| 129/129 [00:17<00:00,  7.20it/s]\n",
      "Epoch:   1%|          | 1/129 [00:00<00:16,  7.87it/s]"
     ]
    },
    {
     "name": "stdout",
     "output_type": "stream",
     "text": [
      "\n",
      "Epoch 020 train_loss: 1.0262 val_loss 1.2249 train_acc 0.7049 val_acc 0.6653\n"
     ]
    },
    {
     "name": "stderr",
     "output_type": "stream",
     "text": [
      "Epoch: 100%|██████████| 129/129 [00:17<00:00,  7.34it/s]\n",
      "Epoch:   1%|          | 1/129 [00:00<00:16,  7.54it/s]"
     ]
    },
    {
     "name": "stdout",
     "output_type": "stream",
     "text": [
      "\n",
      "Epoch 021 train_loss: 1.0296 val_loss 1.1480 train_acc 0.7022 val_acc 0.6894\n"
     ]
    },
    {
     "name": "stderr",
     "output_type": "stream",
     "text": [
      "Epoch: 100%|██████████| 129/129 [00:17<00:00,  7.49it/s]\n",
      "Epoch:   1%|          | 1/129 [00:00<00:16,  7.81it/s]"
     ]
    },
    {
     "name": "stdout",
     "output_type": "stream",
     "text": [
      "\n",
      "Epoch 022 train_loss: 1.0204 val_loss 1.2402 train_acc 0.7032 val_acc 0.6577\n"
     ]
    },
    {
     "name": "stderr",
     "output_type": "stream",
     "text": [
      "Epoch: 100%|██████████| 129/129 [00:16<00:00,  7.62it/s]\n",
      "Epoch:   1%|          | 1/129 [00:00<00:16,  7.94it/s]"
     ]
    },
    {
     "name": "stdout",
     "output_type": "stream",
     "text": [
      "\n",
      "Epoch 023 train_loss: 1.0202 val_loss 1.2374 train_acc 0.7030 val_acc 0.6682\n"
     ]
    },
    {
     "name": "stderr",
     "output_type": "stream",
     "text": [
      "Epoch: 100%|██████████| 129/129 [00:17<00:00,  7.20it/s]\n",
      "Epoch:   1%|          | 1/129 [00:00<00:16,  7.55it/s]"
     ]
    },
    {
     "name": "stdout",
     "output_type": "stream",
     "text": [
      "\n",
      "Epoch 024 train_loss: 1.0012 val_loss 1.1501 train_acc 0.7109 val_acc 0.6847\n"
     ]
    },
    {
     "name": "stderr",
     "output_type": "stream",
     "text": [
      "Epoch: 100%|██████████| 129/129 [00:16<00:00,  7.61it/s]\n",
      "Epoch:   1%|          | 1/129 [00:00<00:16,  7.68it/s]"
     ]
    },
    {
     "name": "stdout",
     "output_type": "stream",
     "text": [
      "\n",
      "Epoch 025 train_loss: 1.0079 val_loss 1.1576 train_acc 0.7085 val_acc 0.6803\n"
     ]
    },
    {
     "name": "stderr",
     "output_type": "stream",
     "text": [
      "Epoch: 100%|██████████| 129/129 [00:17<00:00,  7.50it/s]\n",
      "Epoch:   1%|          | 1/129 [00:00<00:16,  7.90it/s]"
     ]
    },
    {
     "name": "stdout",
     "output_type": "stream",
     "text": [
      "\n",
      "Epoch 026 train_loss: 1.0028 val_loss 1.1336 train_acc 0.7101 val_acc 0.6967\n"
     ]
    },
    {
     "name": "stderr",
     "output_type": "stream",
     "text": [
      "Epoch: 100%|██████████| 129/129 [00:17<00:00,  7.44it/s]\n",
      "Epoch:   1%|          | 1/129 [00:00<00:17,  7.11it/s]"
     ]
    },
    {
     "name": "stdout",
     "output_type": "stream",
     "text": [
      "\n",
      "Epoch 027 train_loss: 0.9898 val_loss 1.1572 train_acc 0.7125 val_acc 0.6788\n"
     ]
    },
    {
     "name": "stderr",
     "output_type": "stream",
     "text": [
      "Epoch: 100%|██████████| 129/129 [00:17<00:00,  7.41it/s]\n",
      "Epoch:   1%|          | 1/129 [00:00<00:19,  6.58it/s]"
     ]
    },
    {
     "name": "stdout",
     "output_type": "stream",
     "text": [
      "\n",
      "Epoch 028 train_loss: 0.9993 val_loss 1.1641 train_acc 0.7089 val_acc 0.6803\n"
     ]
    },
    {
     "name": "stderr",
     "output_type": "stream",
     "text": [
      "Epoch: 100%|██████████| 129/129 [00:17<00:00,  7.58it/s]\n",
      "Epoch:   1%|          | 1/129 [00:00<00:16,  7.75it/s]"
     ]
    },
    {
     "name": "stdout",
     "output_type": "stream",
     "text": [
      "\n",
      "Epoch 029 train_loss: 1.0009 val_loss 1.2976 train_acc 0.7080 val_acc 0.6420\n"
     ]
    },
    {
     "name": "stderr",
     "output_type": "stream",
     "text": [
      "Epoch: 100%|██████████| 129/129 [00:17<00:00,  7.31it/s]\n",
      "Epoch:   1%|          | 1/129 [00:00<00:17,  7.42it/s]"
     ]
    },
    {
     "name": "stdout",
     "output_type": "stream",
     "text": [
      "\n",
      "Epoch 030 train_loss: 0.9863 val_loss 1.2620 train_acc 0.7187 val_acc 0.6569\n"
     ]
    },
    {
     "name": "stderr",
     "output_type": "stream",
     "text": [
      "Epoch: 100%|██████████| 129/129 [00:17<00:00,  7.47it/s]\n",
      "Epoch:   1%|          | 1/129 [00:00<00:16,  7.64it/s]"
     ]
    },
    {
     "name": "stdout",
     "output_type": "stream",
     "text": [
      "\n",
      "Epoch 031 train_loss: 0.9816 val_loss 1.1361 train_acc 0.7179 val_acc 0.6847\n"
     ]
    },
    {
     "name": "stderr",
     "output_type": "stream",
     "text": [
      "Epoch: 100%|██████████| 129/129 [00:17<00:00,  7.36it/s]\n",
      "Epoch:   1%|          | 1/129 [00:00<00:19,  6.49it/s]"
     ]
    },
    {
     "name": "stdout",
     "output_type": "stream",
     "text": [
      "\n",
      "Epoch 032 train_loss: 0.9863 val_loss 1.1181 train_acc 0.7133 val_acc 0.6898\n"
     ]
    },
    {
     "name": "stderr",
     "output_type": "stream",
     "text": [
      "Epoch: 100%|██████████| 129/129 [00:17<00:00,  7.19it/s]\n",
      "Epoch:   1%|          | 1/129 [00:00<00:17,  7.46it/s]"
     ]
    },
    {
     "name": "stdout",
     "output_type": "stream",
     "text": [
      "\n",
      "Epoch 033 train_loss: 0.9752 val_loss 1.1873 train_acc 0.7168 val_acc 0.6759\n"
     ]
    },
    {
     "name": "stderr",
     "output_type": "stream",
     "text": [
      "Epoch: 100%|██████████| 129/129 [00:16<00:00,  7.70it/s]\n",
      "Epoch:   1%|          | 1/129 [00:00<00:16,  7.59it/s]"
     ]
    },
    {
     "name": "stdout",
     "output_type": "stream",
     "text": [
      "\n",
      "Epoch 034 train_loss: 0.9575 val_loss 1.1926 train_acc 0.7264 val_acc 0.6686\n"
     ]
    },
    {
     "name": "stderr",
     "output_type": "stream",
     "text": [
      "Epoch: 100%|██████████| 129/129 [00:17<00:00,  7.41it/s]\n",
      "Epoch:   1%|          | 1/129 [00:00<00:16,  7.75it/s]"
     ]
    },
    {
     "name": "stdout",
     "output_type": "stream",
     "text": [
      "\n",
      "Epoch 035 train_loss: 0.9717 val_loss 1.3253 train_acc 0.7109 val_acc 0.6318\n"
     ]
    },
    {
     "name": "stderr",
     "output_type": "stream",
     "text": [
      "Epoch: 100%|██████████| 129/129 [00:18<00:00,  7.16it/s]\n",
      "Epoch:   1%|          | 1/129 [00:00<00:16,  7.89it/s]"
     ]
    },
    {
     "name": "stdout",
     "output_type": "stream",
     "text": [
      "\n",
      "Epoch 036 train_loss: 0.9643 val_loss 1.1678 train_acc 0.7197 val_acc 0.6901\n"
     ]
    },
    {
     "name": "stderr",
     "output_type": "stream",
     "text": [
      "Epoch: 100%|██████████| 129/129 [00:17<00:00,  7.43it/s]\n",
      "Epoch:   1%|          | 1/129 [00:00<00:21,  6.09it/s]"
     ]
    },
    {
     "name": "stdout",
     "output_type": "stream",
     "text": [
      "\n",
      "Epoch 037 train_loss: 0.9658 val_loss 1.1543 train_acc 0.7158 val_acc 0.6836\n"
     ]
    },
    {
     "name": "stderr",
     "output_type": "stream",
     "text": [
      "Epoch: 100%|██████████| 129/129 [00:18<00:00,  7.11it/s]\n",
      "Epoch:   1%|          | 1/129 [00:00<00:21,  5.90it/s]"
     ]
    },
    {
     "name": "stdout",
     "output_type": "stream",
     "text": [
      "\n",
      "Epoch 038 train_loss: 0.9621 val_loss 1.1011 train_acc 0.7226 val_acc 0.7022\n"
     ]
    },
    {
     "name": "stderr",
     "output_type": "stream",
     "text": [
      "Epoch: 100%|██████████| 129/129 [00:17<00:00,  7.27it/s]\n",
      "Epoch:   1%|          | 1/129 [00:00<00:17,  7.39it/s]"
     ]
    },
    {
     "name": "stdout",
     "output_type": "stream",
     "text": [
      "\n",
      "Epoch 039 train_loss: 0.9403 val_loss 1.1551 train_acc 0.7235 val_acc 0.6807\n"
     ]
    },
    {
     "name": "stderr",
     "output_type": "stream",
     "text": [
      "Epoch: 100%|██████████| 129/129 [00:17<00:00,  7.42it/s]\n",
      "Epoch:   1%|          | 1/129 [00:00<00:20,  6.19it/s]"
     ]
    },
    {
     "name": "stdout",
     "output_type": "stream",
     "text": [
      "\n",
      "Epoch 040 train_loss: 0.9506 val_loss 1.1553 train_acc 0.7248 val_acc 0.6891\n"
     ]
    },
    {
     "name": "stderr",
     "output_type": "stream",
     "text": [
      "Epoch: 100%|██████████| 129/129 [00:17<00:00,  7.37it/s]\n",
      "Epoch:   1%|          | 1/129 [00:00<00:17,  7.26it/s]"
     ]
    },
    {
     "name": "stdout",
     "output_type": "stream",
     "text": [
      "\n",
      "Epoch 041 train_loss: 0.9374 val_loss 1.0974 train_acc 0.7291 val_acc 0.7044\n"
     ]
    },
    {
     "name": "stderr",
     "output_type": "stream",
     "text": [
      "Epoch: 100%|██████████| 129/129 [00:17<00:00,  7.35it/s]\n",
      "Epoch:   1%|          | 1/129 [00:00<00:16,  7.91it/s]"
     ]
    },
    {
     "name": "stdout",
     "output_type": "stream",
     "text": [
      "\n",
      "Epoch 042 train_loss: 0.9366 val_loss 1.0860 train_acc 0.7287 val_acc 0.7080\n"
     ]
    },
    {
     "name": "stderr",
     "output_type": "stream",
     "text": [
      "Epoch: 100%|██████████| 129/129 [00:17<00:00,  7.28it/s]\n",
      "Epoch:   1%|          | 1/129 [00:00<00:15,  8.02it/s]"
     ]
    },
    {
     "name": "stdout",
     "output_type": "stream",
     "text": [
      "\n",
      "Epoch 043 train_loss: 0.9309 val_loss 1.0842 train_acc 0.7290 val_acc 0.7058\n"
     ]
    },
    {
     "name": "stderr",
     "output_type": "stream",
     "text": [
      "Epoch: 100%|██████████| 129/129 [00:17<00:00,  7.29it/s]\n",
      "Epoch:   1%|          | 1/129 [00:00<00:17,  7.42it/s]"
     ]
    },
    {
     "name": "stdout",
     "output_type": "stream",
     "text": [
      "\n",
      "Epoch 044 train_loss: 0.9326 val_loss 1.1885 train_acc 0.7288 val_acc 0.6770\n"
     ]
    },
    {
     "name": "stderr",
     "output_type": "stream",
     "text": [
      "Epoch: 100%|██████████| 129/129 [00:17<00:00,  7.25it/s]\n",
      "Epoch:   1%|          | 1/129 [00:00<00:16,  7.79it/s]"
     ]
    },
    {
     "name": "stdout",
     "output_type": "stream",
     "text": [
      "\n",
      "Epoch 045 train_loss: 0.9399 val_loss 1.0917 train_acc 0.7273 val_acc 0.7026\n"
     ]
    },
    {
     "name": "stderr",
     "output_type": "stream",
     "text": [
      "Epoch: 100%|██████████| 129/129 [00:16<00:00,  7.64it/s]\n",
      "Epoch:   1%|          | 1/129 [00:00<00:17,  7.14it/s]"
     ]
    },
    {
     "name": "stdout",
     "output_type": "stream",
     "text": [
      "\n",
      "Epoch 046 train_loss: 0.9206 val_loss 1.1672 train_acc 0.7347 val_acc 0.6916\n"
     ]
    },
    {
     "name": "stderr",
     "output_type": "stream",
     "text": [
      "Epoch: 100%|██████████| 129/129 [00:17<00:00,  7.48it/s]\n",
      "Epoch:   1%|          | 1/129 [00:00<00:15,  8.12it/s]"
     ]
    },
    {
     "name": "stdout",
     "output_type": "stream",
     "text": [
      "\n",
      "Epoch 047 train_loss: 0.9137 val_loss 1.1590 train_acc 0.7386 val_acc 0.6745\n"
     ]
    },
    {
     "name": "stderr",
     "output_type": "stream",
     "text": [
      "Epoch: 100%|██████████| 129/129 [00:17<00:00,  7.48it/s]\n",
      "Epoch:   1%|          | 1/129 [00:00<00:16,  7.65it/s]"
     ]
    },
    {
     "name": "stdout",
     "output_type": "stream",
     "text": [
      "\n",
      "Epoch 048 train_loss: 0.9232 val_loss 1.2445 train_acc 0.7348 val_acc 0.6646\n"
     ]
    },
    {
     "name": "stderr",
     "output_type": "stream",
     "text": [
      "Epoch: 100%|██████████| 129/129 [00:17<00:00,  7.43it/s]\n",
      "Epoch:   1%|          | 1/129 [00:00<00:17,  7.13it/s]"
     ]
    },
    {
     "name": "stdout",
     "output_type": "stream",
     "text": [
      "\n",
      "Epoch 049 train_loss: 0.9033 val_loss 1.1988 train_acc 0.7336 val_acc 0.6708\n"
     ]
    },
    {
     "name": "stderr",
     "output_type": "stream",
     "text": [
      "Epoch: 100%|██████████| 129/129 [00:17<00:00,  7.48it/s]\n",
      "Epoch:   1%|          | 1/129 [00:00<00:16,  7.90it/s]"
     ]
    },
    {
     "name": "stdout",
     "output_type": "stream",
     "text": [
      "\n",
      "Epoch 050 train_loss: 0.9114 val_loss 1.1161 train_acc 0.7371 val_acc 0.6920\n"
     ]
    },
    {
     "name": "stderr",
     "output_type": "stream",
     "text": [
      "Epoch: 100%|██████████| 129/129 [00:18<00:00,  7.04it/s]\n",
      "Epoch:   1%|          | 1/129 [00:00<00:16,  7.91it/s]"
     ]
    },
    {
     "name": "stdout",
     "output_type": "stream",
     "text": [
      "\n",
      "Epoch 051 train_loss: 0.9060 val_loss 1.0689 train_acc 0.7371 val_acc 0.7168\n"
     ]
    },
    {
     "name": "stderr",
     "output_type": "stream",
     "text": [
      "Epoch: 100%|██████████| 129/129 [00:17<00:00,  7.57it/s]\n",
      "Epoch:   1%|          | 1/129 [00:00<00:15,  8.01it/s]"
     ]
    },
    {
     "name": "stdout",
     "output_type": "stream",
     "text": [
      "\n",
      "Epoch 052 train_loss: 0.9002 val_loss 1.0845 train_acc 0.7395 val_acc 0.7033\n"
     ]
    },
    {
     "name": "stderr",
     "output_type": "stream",
     "text": [
      "Epoch: 100%|██████████| 129/129 [00:17<00:00,  7.25it/s]\n",
      "Epoch:   1%|          | 1/129 [00:00<00:17,  7.44it/s]"
     ]
    },
    {
     "name": "stdout",
     "output_type": "stream",
     "text": [
      "\n",
      "Epoch 053 train_loss: 0.9051 val_loss 1.0784 train_acc 0.7344 val_acc 0.7150\n"
     ]
    },
    {
     "name": "stderr",
     "output_type": "stream",
     "text": [
      "Epoch: 100%|██████████| 129/129 [00:17<00:00,  7.37it/s]\n",
      "Epoch:   1%|          | 1/129 [00:00<00:17,  7.18it/s]"
     ]
    },
    {
     "name": "stdout",
     "output_type": "stream",
     "text": [
      "\n",
      "Epoch 054 train_loss: 0.9042 val_loss 1.0808 train_acc 0.7371 val_acc 0.7066\n"
     ]
    },
    {
     "name": "stderr",
     "output_type": "stream",
     "text": [
      "Epoch: 100%|██████████| 129/129 [00:17<00:00,  7.45it/s]\n",
      "Epoch:   1%|          | 1/129 [00:00<00:16,  7.85it/s]"
     ]
    },
    {
     "name": "stdout",
     "output_type": "stream",
     "text": [
      "\n",
      "Epoch 055 train_loss: 0.8937 val_loss 1.1851 train_acc 0.7366 val_acc 0.6796\n"
     ]
    },
    {
     "name": "stderr",
     "output_type": "stream",
     "text": [
      "Epoch: 100%|██████████| 129/129 [00:17<00:00,  7.53it/s]\n",
      "Epoch:   1%|          | 1/129 [00:00<00:15,  8.21it/s]"
     ]
    },
    {
     "name": "stdout",
     "output_type": "stream",
     "text": [
      "\n",
      "Epoch 056 train_loss: 0.9059 val_loss 1.1962 train_acc 0.7325 val_acc 0.6734\n"
     ]
    },
    {
     "name": "stderr",
     "output_type": "stream",
     "text": [
      "Epoch: 100%|██████████| 129/129 [00:16<00:00,  7.77it/s]\n",
      "Epoch:   1%|          | 1/129 [00:00<00:14,  8.57it/s]"
     ]
    },
    {
     "name": "stdout",
     "output_type": "stream",
     "text": [
      "\n",
      "Epoch 057 train_loss: 0.8871 val_loss 1.0651 train_acc 0.7436 val_acc 0.7128\n"
     ]
    },
    {
     "name": "stderr",
     "output_type": "stream",
     "text": [
      "Epoch: 100%|██████████| 129/129 [00:17<00:00,  7.54it/s]\n",
      "Epoch:   1%|          | 1/129 [00:00<00:17,  7.48it/s]"
     ]
    },
    {
     "name": "stdout",
     "output_type": "stream",
     "text": [
      "\n",
      "Epoch 058 train_loss: 0.8826 val_loss 1.1103 train_acc 0.7400 val_acc 0.6934\n"
     ]
    },
    {
     "name": "stderr",
     "output_type": "stream",
     "text": [
      "Epoch: 100%|██████████| 129/129 [00:17<00:00,  7.46it/s]\n",
      "Epoch:   1%|          | 1/129 [00:00<00:17,  7.53it/s]"
     ]
    },
    {
     "name": "stdout",
     "output_type": "stream",
     "text": [
      "\n",
      "Epoch 059 train_loss: 0.8769 val_loss 1.1240 train_acc 0.7425 val_acc 0.6985\n"
     ]
    },
    {
     "name": "stderr",
     "output_type": "stream",
     "text": [
      "Epoch: 100%|██████████| 129/129 [00:17<00:00,  7.44it/s]\n",
      "Epoch:   1%|          | 1/129 [00:00<00:20,  6.38it/s]"
     ]
    },
    {
     "name": "stdout",
     "output_type": "stream",
     "text": [
      "\n",
      "Epoch 060 train_loss: 0.8791 val_loss 1.0719 train_acc 0.7425 val_acc 0.7095\n"
     ]
    },
    {
     "name": "stderr",
     "output_type": "stream",
     "text": [
      "Epoch:  13%|█▎        | 17/129 [00:02<00:14,  7.71it/s]\n"
     ]
    },
    {
     "ename": "KeyboardInterrupt",
     "evalue": "",
     "output_type": "error",
     "traceback": [
      "\u001b[0;31m---------------------------------------------------------------------------\u001b[0m",
      "\u001b[0;31mKeyboardInterrupt\u001b[0m                         Traceback (most recent call last)",
      "\u001b[0;32m<ipython-input-59-3f53a01dafa9>\u001b[0m in \u001b[0;36m<module>\u001b[0;34m()\u001b[0m\n\u001b[1;32m      3\u001b[0m \u001b[0;34m\u001b[0m\u001b[0m\n\u001b[1;32m      4\u001b[0m history = train(train_dataset, val_dataset, model=CNN,  optim=optim,\n\u001b[0;32m----> 5\u001b[0;31m                 criterion=criterion, epochs=100, batch_size=64, device=DEVICE)\n\u001b[0m",
      "\u001b[0;32m~/learn-pytorch/train.py\u001b[0m in \u001b[0;36mtrain\u001b[0;34m(train_dataset, val_dataset, model, epochs, batch_size, optim, criterion, device)\u001b[0m\n\u001b[1;32m     63\u001b[0m \u001b[0;34m\u001b[0m\u001b[0m\n\u001b[1;32m     64\u001b[0m     \u001b[0;32mfor\u001b[0m \u001b[0mepoch\u001b[0m \u001b[0;32min\u001b[0m \u001b[0mrange\u001b[0m\u001b[0;34m(\u001b[0m\u001b[0mepochs\u001b[0m\u001b[0;34m)\u001b[0m\u001b[0;34m:\u001b[0m\u001b[0;34m\u001b[0m\u001b[0m\n\u001b[0;32m---> 65\u001b[0;31m         \u001b[0mtrain_loss\u001b[0m\u001b[0;34m,\u001b[0m \u001b[0mtrain_acc\u001b[0m \u001b[0;34m=\u001b[0m \u001b[0mfit_epoch\u001b[0m\u001b[0;34m(\u001b[0m\u001b[0mmodel\u001b[0m\u001b[0;34m,\u001b[0m \u001b[0mtrain_loader\u001b[0m\u001b[0;34m,\u001b[0m \u001b[0mcriterion\u001b[0m\u001b[0;34m,\u001b[0m \u001b[0moptim\u001b[0m\u001b[0;34m,\u001b[0m \u001b[0mdevice\u001b[0m\u001b[0;34m)\u001b[0m\u001b[0;34m\u001b[0m\u001b[0m\n\u001b[0m\u001b[1;32m     66\u001b[0m         \u001b[0mval_loss\u001b[0m\u001b[0;34m,\u001b[0m \u001b[0mval_acc\u001b[0m \u001b[0;34m=\u001b[0m \u001b[0meval_epoch\u001b[0m\u001b[0;34m(\u001b[0m\u001b[0mmodel\u001b[0m\u001b[0;34m,\u001b[0m \u001b[0mval_loader\u001b[0m\u001b[0;34m,\u001b[0m \u001b[0mcriterion\u001b[0m\u001b[0;34m,\u001b[0m \u001b[0mdevice\u001b[0m\u001b[0;34m)\u001b[0m\u001b[0;34m\u001b[0m\u001b[0m\n\u001b[1;32m     67\u001b[0m         \u001b[0mhistory\u001b[0m\u001b[0;34m.\u001b[0m\u001b[0mappend\u001b[0m\u001b[0;34m(\u001b[0m\u001b[0;34m(\u001b[0m\u001b[0mtrain_loss\u001b[0m\u001b[0;34m,\u001b[0m \u001b[0mtrain_acc\u001b[0m\u001b[0;34m,\u001b[0m \u001b[0mval_loss\u001b[0m\u001b[0;34m,\u001b[0m \u001b[0mval_acc\u001b[0m\u001b[0;34m)\u001b[0m\u001b[0;34m)\u001b[0m\u001b[0;34m\u001b[0m\u001b[0m\n",
      "\u001b[0;32m~/learn-pytorch/train.py\u001b[0m in \u001b[0;36mfit_epoch\u001b[0;34m(model, train_loader, criterion, optimizer, device)\u001b[0m\n\u001b[1;32m     11\u001b[0m \u001b[0;34m\u001b[0m\u001b[0m\n\u001b[1;32m     12\u001b[0m     \u001b[0;32mwith\u001b[0m \u001b[0mtqdm\u001b[0m\u001b[0;34m(\u001b[0m\u001b[0mdesc\u001b[0m\u001b[0;34m=\u001b[0m\u001b[0;34m\"Epoch\"\u001b[0m\u001b[0;34m,\u001b[0m \u001b[0mtotal\u001b[0m\u001b[0;34m=\u001b[0m\u001b[0mlen\u001b[0m\u001b[0;34m(\u001b[0m\u001b[0mtrain_loader\u001b[0m\u001b[0;34m)\u001b[0m\u001b[0;34m)\u001b[0m \u001b[0;32mas\u001b[0m \u001b[0mpbar_outer\u001b[0m\u001b[0;34m:\u001b[0m\u001b[0;34m\u001b[0m\u001b[0m\n\u001b[0;32m---> 13\u001b[0;31m         \u001b[0;32mfor\u001b[0m \u001b[0minputs\u001b[0m\u001b[0;34m,\u001b[0m \u001b[0mlabels\u001b[0m \u001b[0;32min\u001b[0m \u001b[0mtrain_loader\u001b[0m\u001b[0;34m:\u001b[0m\u001b[0;34m\u001b[0m\u001b[0m\n\u001b[0m\u001b[1;32m     14\u001b[0m             \u001b[0minputs\u001b[0m \u001b[0;34m=\u001b[0m \u001b[0minputs\u001b[0m\u001b[0;34m.\u001b[0m\u001b[0mto\u001b[0m\u001b[0;34m(\u001b[0m\u001b[0mdevice\u001b[0m\u001b[0;34m)\u001b[0m\u001b[0;34m\u001b[0m\u001b[0m\n\u001b[1;32m     15\u001b[0m             \u001b[0mlabels\u001b[0m \u001b[0;34m=\u001b[0m \u001b[0mlabels\u001b[0m\u001b[0;34m.\u001b[0m\u001b[0mto\u001b[0m\u001b[0;34m(\u001b[0m\u001b[0mdevice\u001b[0m\u001b[0;34m)\u001b[0m\u001b[0;34m\u001b[0m\u001b[0m\n",
      "\u001b[0;32m~/miniconda3/envs/fastai/lib/python3.6/site-packages/torch/utils/data/dataloader.py\u001b[0m in \u001b[0;36m__next__\u001b[0;34m(self)\u001b[0m\n\u001b[1;32m    312\u001b[0m         \u001b[0;32mif\u001b[0m \u001b[0mself\u001b[0m\u001b[0;34m.\u001b[0m\u001b[0mnum_workers\u001b[0m \u001b[0;34m==\u001b[0m \u001b[0;36m0\u001b[0m\u001b[0;34m:\u001b[0m  \u001b[0;31m# same-process loading\u001b[0m\u001b[0;34m\u001b[0m\u001b[0m\n\u001b[1;32m    313\u001b[0m             \u001b[0mindices\u001b[0m \u001b[0;34m=\u001b[0m \u001b[0mnext\u001b[0m\u001b[0;34m(\u001b[0m\u001b[0mself\u001b[0m\u001b[0;34m.\u001b[0m\u001b[0msample_iter\u001b[0m\u001b[0;34m)\u001b[0m  \u001b[0;31m# may raise StopIteration\u001b[0m\u001b[0;34m\u001b[0m\u001b[0m\n\u001b[0;32m--> 314\u001b[0;31m             \u001b[0mbatch\u001b[0m \u001b[0;34m=\u001b[0m \u001b[0mself\u001b[0m\u001b[0;34m.\u001b[0m\u001b[0mcollate_fn\u001b[0m\u001b[0;34m(\u001b[0m\u001b[0;34m[\u001b[0m\u001b[0mself\u001b[0m\u001b[0;34m.\u001b[0m\u001b[0mdataset\u001b[0m\u001b[0;34m[\u001b[0m\u001b[0mi\u001b[0m\u001b[0;34m]\u001b[0m \u001b[0;32mfor\u001b[0m \u001b[0mi\u001b[0m \u001b[0;32min\u001b[0m \u001b[0mindices\u001b[0m\u001b[0;34m]\u001b[0m\u001b[0;34m)\u001b[0m\u001b[0;34m\u001b[0m\u001b[0m\n\u001b[0m\u001b[1;32m    315\u001b[0m             \u001b[0;32mif\u001b[0m \u001b[0mself\u001b[0m\u001b[0;34m.\u001b[0m\u001b[0mpin_memory\u001b[0m\u001b[0;34m:\u001b[0m\u001b[0;34m\u001b[0m\u001b[0m\n\u001b[1;32m    316\u001b[0m                 \u001b[0mbatch\u001b[0m \u001b[0;34m=\u001b[0m \u001b[0mpin_memory_batch\u001b[0m\u001b[0;34m(\u001b[0m\u001b[0mbatch\u001b[0m\u001b[0;34m)\u001b[0m\u001b[0;34m\u001b[0m\u001b[0m\n",
      "\u001b[0;32m~/miniconda3/envs/fastai/lib/python3.6/site-packages/torch/utils/data/dataloader.py\u001b[0m in \u001b[0;36m<listcomp>\u001b[0;34m(.0)\u001b[0m\n\u001b[1;32m    312\u001b[0m         \u001b[0;32mif\u001b[0m \u001b[0mself\u001b[0m\u001b[0;34m.\u001b[0m\u001b[0mnum_workers\u001b[0m \u001b[0;34m==\u001b[0m \u001b[0;36m0\u001b[0m\u001b[0;34m:\u001b[0m  \u001b[0;31m# same-process loading\u001b[0m\u001b[0;34m\u001b[0m\u001b[0m\n\u001b[1;32m    313\u001b[0m             \u001b[0mindices\u001b[0m \u001b[0;34m=\u001b[0m \u001b[0mnext\u001b[0m\u001b[0;34m(\u001b[0m\u001b[0mself\u001b[0m\u001b[0;34m.\u001b[0m\u001b[0msample_iter\u001b[0m\u001b[0;34m)\u001b[0m  \u001b[0;31m# may raise StopIteration\u001b[0m\u001b[0;34m\u001b[0m\u001b[0m\n\u001b[0;32m--> 314\u001b[0;31m             \u001b[0mbatch\u001b[0m \u001b[0;34m=\u001b[0m \u001b[0mself\u001b[0m\u001b[0;34m.\u001b[0m\u001b[0mcollate_fn\u001b[0m\u001b[0;34m(\u001b[0m\u001b[0;34m[\u001b[0m\u001b[0mself\u001b[0m\u001b[0;34m.\u001b[0m\u001b[0mdataset\u001b[0m\u001b[0;34m[\u001b[0m\u001b[0mi\u001b[0m\u001b[0;34m]\u001b[0m \u001b[0;32mfor\u001b[0m \u001b[0mi\u001b[0m \u001b[0;32min\u001b[0m \u001b[0mindices\u001b[0m\u001b[0;34m]\u001b[0m\u001b[0;34m)\u001b[0m\u001b[0;34m\u001b[0m\u001b[0m\n\u001b[0m\u001b[1;32m    315\u001b[0m             \u001b[0;32mif\u001b[0m \u001b[0mself\u001b[0m\u001b[0;34m.\u001b[0m\u001b[0mpin_memory\u001b[0m\u001b[0;34m:\u001b[0m\u001b[0;34m\u001b[0m\u001b[0m\n\u001b[1;32m    316\u001b[0m                 \u001b[0mbatch\u001b[0m \u001b[0;34m=\u001b[0m \u001b[0mpin_memory_batch\u001b[0m\u001b[0;34m(\u001b[0m\u001b[0mbatch\u001b[0m\u001b[0;34m)\u001b[0m\u001b[0;34m\u001b[0m\u001b[0m\n",
      "\u001b[0;32m~/learn-pytorch/simpson_data.py\u001b[0m in \u001b[0;36m__getitem__\u001b[0;34m(self, index)\u001b[0m\n\u001b[1;32m     57\u001b[0m         \u001b[0mx\u001b[0m \u001b[0;34m=\u001b[0m \u001b[0mself\u001b[0m\u001b[0;34m.\u001b[0m\u001b[0msamples\u001b[0m\u001b[0;34m[\u001b[0m\u001b[0mindex\u001b[0m\u001b[0;34m]\u001b[0m\u001b[0;34m\u001b[0m\u001b[0m\n\u001b[1;32m     58\u001b[0m         \u001b[0mx\u001b[0m \u001b[0;34m=\u001b[0m \u001b[0mself\u001b[0m\u001b[0;34m.\u001b[0m\u001b[0m_prepare_sample\u001b[0m\u001b[0;34m(\u001b[0m\u001b[0mx\u001b[0m\u001b[0;34m)\u001b[0m\u001b[0;34m\u001b[0m\u001b[0m\n\u001b[0;32m---> 59\u001b[0;31m         \u001b[0mx\u001b[0m \u001b[0;34m=\u001b[0m \u001b[0mnp\u001b[0m\u001b[0;34m.\u001b[0m\u001b[0marray\u001b[0m\u001b[0;34m(\u001b[0m\u001b[0mx\u001b[0m \u001b[0;34m/\u001b[0m \u001b[0;36m255\u001b[0m\u001b[0;34m,\u001b[0m \u001b[0mdtype\u001b[0m\u001b[0;34m=\u001b[0m\u001b[0;34m'float32'\u001b[0m\u001b[0;34m)\u001b[0m\u001b[0;34m\u001b[0m\u001b[0m\n\u001b[0m\u001b[1;32m     60\u001b[0m         \u001b[0mx\u001b[0m \u001b[0;34m=\u001b[0m \u001b[0mtransform\u001b[0m\u001b[0;34m(\u001b[0m\u001b[0mx\u001b[0m\u001b[0;34m)\u001b[0m\u001b[0;34m\u001b[0m\u001b[0m\n\u001b[1;32m     61\u001b[0m         \u001b[0;32mif\u001b[0m \u001b[0mself\u001b[0m\u001b[0;34m.\u001b[0m\u001b[0mmode\u001b[0m \u001b[0;34m==\u001b[0m \u001b[0;34m'test'\u001b[0m\u001b[0;34m:\u001b[0m\u001b[0;34m\u001b[0m\u001b[0m\n",
      "\u001b[0;31mKeyboardInterrupt\u001b[0m: "
     ]
    }
   ],
   "source": [
    "optim = torch.optim.SGD(CNN.parameters(), lr=0.0005)\n",
    "criterion = nn.CrossEntropyLoss()\n",
    "\n",
    "history = train(train_dataset, val_dataset, model=CNN,  optim=optim,\n",
    "                criterion=criterion, epochs=100, batch_size=64, device=DEVICE)"
   ]
  },
  {
   "cell_type": "code",
   "execution_count": 60,
   "metadata": {
    "scrolled": true
   },
   "outputs": [
    {
     "name": "stderr",
     "output_type": "stream",
     "text": [
      "Epoch: 100%|██████████| 129/129 [00:17<00:00,  7.32it/s]\n",
      "Epoch:   1%|          | 1/129 [00:00<00:15,  8.01it/s]"
     ]
    },
    {
     "name": "stdout",
     "output_type": "stream",
     "text": [
      "\n",
      "Epoch 001 train_loss: 0.8190 val_loss 1.0473 train_acc 0.7595 val_acc 0.7204\n"
     ]
    },
    {
     "name": "stderr",
     "output_type": "stream",
     "text": [
      "Epoch: 100%|██████████| 129/129 [00:17<00:00,  7.58it/s]\n",
      "Epoch:   1%|          | 1/129 [00:00<00:16,  7.82it/s]"
     ]
    },
    {
     "name": "stdout",
     "output_type": "stream",
     "text": [
      "\n",
      "Epoch 002 train_loss: 0.8214 val_loss 1.0482 train_acc 0.7590 val_acc 0.7212\n"
     ]
    },
    {
     "name": "stderr",
     "output_type": "stream",
     "text": [
      "Epoch: 100%|██████████| 129/129 [00:17<00:00,  7.58it/s]\n",
      "Epoch:   1%|          | 1/129 [00:00<00:17,  7.49it/s]"
     ]
    },
    {
     "name": "stdout",
     "output_type": "stream",
     "text": [
      "\n",
      "Epoch 003 train_loss: 0.8166 val_loss 1.0450 train_acc 0.7625 val_acc 0.7219\n"
     ]
    },
    {
     "name": "stderr",
     "output_type": "stream",
     "text": [
      "Epoch: 100%|██████████| 129/129 [00:17<00:00,  7.46it/s]\n",
      "Epoch:   1%|          | 1/129 [00:00<00:16,  7.73it/s]"
     ]
    },
    {
     "name": "stdout",
     "output_type": "stream",
     "text": [
      "\n",
      "Epoch 004 train_loss: 0.8220 val_loss 1.0449 train_acc 0.7601 val_acc 0.7204\n"
     ]
    },
    {
     "name": "stderr",
     "output_type": "stream",
     "text": [
      "Epoch: 100%|██████████| 129/129 [00:17<00:00,  7.45it/s]\n",
      "Epoch:   1%|          | 1/129 [00:00<00:16,  7.58it/s]"
     ]
    },
    {
     "name": "stdout",
     "output_type": "stream",
     "text": [
      "\n",
      "Epoch 005 train_loss: 0.8105 val_loss 1.0567 train_acc 0.7645 val_acc 0.7146\n"
     ]
    },
    {
     "name": "stderr",
     "output_type": "stream",
     "text": [
      "Epoch: 100%|██████████| 129/129 [00:17<00:00,  7.27it/s]\n",
      "Epoch:   1%|          | 1/129 [00:00<00:18,  6.91it/s]"
     ]
    },
    {
     "name": "stdout",
     "output_type": "stream",
     "text": [
      "\n",
      "Epoch 006 train_loss: 0.8133 val_loss 1.0483 train_acc 0.7611 val_acc 0.7208\n"
     ]
    },
    {
     "name": "stderr",
     "output_type": "stream",
     "text": [
      "Epoch: 100%|██████████| 129/129 [00:17<00:00,  7.55it/s]\n",
      "Epoch:   1%|          | 1/129 [00:00<00:16,  7.55it/s]"
     ]
    },
    {
     "name": "stdout",
     "output_type": "stream",
     "text": [
      "\n",
      "Epoch 007 train_loss: 0.8116 val_loss 1.0402 train_acc 0.7636 val_acc 0.7201\n"
     ]
    },
    {
     "name": "stderr",
     "output_type": "stream",
     "text": [
      "Epoch: 100%|██████████| 129/129 [00:17<00:00,  7.46it/s]\n",
      "Epoch:   1%|          | 1/129 [00:00<00:15,  8.27it/s]"
     ]
    },
    {
     "name": "stdout",
     "output_type": "stream",
     "text": [
      "\n",
      "Epoch 008 train_loss: 0.8055 val_loss 1.0400 train_acc 0.7676 val_acc 0.7212\n"
     ]
    },
    {
     "name": "stderr",
     "output_type": "stream",
     "text": [
      "Epoch: 100%|██████████| 129/129 [00:17<00:00,  7.54it/s]\n",
      "Epoch:   1%|          | 1/129 [00:00<00:17,  7.26it/s]"
     ]
    },
    {
     "name": "stdout",
     "output_type": "stream",
     "text": [
      "\n",
      "Epoch 009 train_loss: 0.8136 val_loss 1.0572 train_acc 0.7635 val_acc 0.7168\n"
     ]
    },
    {
     "name": "stderr",
     "output_type": "stream",
     "text": [
      "Epoch: 100%|██████████| 129/129 [00:17<00:00,  7.45it/s]\n",
      "Epoch:   1%|          | 1/129 [00:00<00:17,  7.24it/s]"
     ]
    },
    {
     "name": "stdout",
     "output_type": "stream",
     "text": [
      "\n",
      "Epoch 010 train_loss: 0.8187 val_loss 1.0419 train_acc 0.7620 val_acc 0.7190\n"
     ]
    },
    {
     "name": "stderr",
     "output_type": "stream",
     "text": [
      "Epoch: 100%|██████████| 129/129 [00:16<00:00,  7.70it/s]\n",
      "Epoch:   1%|          | 1/129 [00:00<00:15,  8.03it/s]"
     ]
    },
    {
     "name": "stdout",
     "output_type": "stream",
     "text": [
      "\n",
      "Epoch 011 train_loss: 0.8164 val_loss 1.0390 train_acc 0.7629 val_acc 0.7212\n"
     ]
    },
    {
     "name": "stderr",
     "output_type": "stream",
     "text": [
      "Epoch: 100%|██████████| 129/129 [00:17<00:00,  7.55it/s]\n",
      "Epoch:   1%|          | 1/129 [00:00<00:18,  7.02it/s]"
     ]
    },
    {
     "name": "stdout",
     "output_type": "stream",
     "text": [
      "\n",
      "Epoch 012 train_loss: 0.8066 val_loss 1.0436 train_acc 0.7681 val_acc 0.7230\n"
     ]
    },
    {
     "name": "stderr",
     "output_type": "stream",
     "text": [
      "Epoch: 100%|██████████| 129/129 [00:17<00:00,  7.58it/s]\n",
      "Epoch:   1%|          | 1/129 [00:00<00:18,  7.08it/s]"
     ]
    },
    {
     "name": "stdout",
     "output_type": "stream",
     "text": [
      "\n",
      "Epoch 013 train_loss: 0.8071 val_loss 1.0441 train_acc 0.7639 val_acc 0.7241\n"
     ]
    },
    {
     "name": "stderr",
     "output_type": "stream",
     "text": [
      "Epoch: 100%|██████████| 129/129 [00:16<00:00,  7.63it/s]\n",
      "Epoch:   1%|          | 1/129 [00:00<00:16,  7.86it/s]"
     ]
    },
    {
     "name": "stdout",
     "output_type": "stream",
     "text": [
      "\n",
      "Epoch 014 train_loss: 0.8068 val_loss 1.0641 train_acc 0.7616 val_acc 0.7150\n"
     ]
    },
    {
     "name": "stderr",
     "output_type": "stream",
     "text": [
      "Epoch: 100%|██████████| 129/129 [00:17<00:00,  7.54it/s]\n",
      "Epoch:   1%|          | 1/129 [00:00<00:18,  6.81it/s]"
     ]
    },
    {
     "name": "stdout",
     "output_type": "stream",
     "text": [
      "\n",
      "Epoch 015 train_loss: 0.8021 val_loss 1.0462 train_acc 0.7680 val_acc 0.7241\n"
     ]
    },
    {
     "name": "stderr",
     "output_type": "stream",
     "text": [
      "Epoch: 100%|██████████| 129/129 [00:17<00:00,  7.44it/s]\n",
      "Epoch:   1%|          | 1/129 [00:00<00:15,  8.25it/s]"
     ]
    },
    {
     "name": "stdout",
     "output_type": "stream",
     "text": [
      "\n",
      "Epoch 016 train_loss: 0.8060 val_loss 1.0464 train_acc 0.7641 val_acc 0.7208\n"
     ]
    },
    {
     "name": "stderr",
     "output_type": "stream",
     "text": [
      "Epoch: 100%|██████████| 129/129 [00:17<00:00,  7.39it/s]\n",
      "Epoch:   1%|          | 1/129 [00:00<00:16,  7.89it/s]"
     ]
    },
    {
     "name": "stdout",
     "output_type": "stream",
     "text": [
      "\n",
      "Epoch 017 train_loss: 0.8080 val_loss 1.0506 train_acc 0.7665 val_acc 0.7175\n"
     ]
    },
    {
     "name": "stderr",
     "output_type": "stream",
     "text": [
      "Epoch: 100%|██████████| 129/129 [00:17<00:00,  7.52it/s]\n",
      "Epoch:   1%|          | 1/129 [00:00<00:16,  7.60it/s]"
     ]
    },
    {
     "name": "stdout",
     "output_type": "stream",
     "text": [
      "\n",
      "Epoch 018 train_loss: 0.8076 val_loss 1.0307 train_acc 0.7611 val_acc 0.7252\n"
     ]
    },
    {
     "name": "stderr",
     "output_type": "stream",
     "text": [
      "Epoch: 100%|██████████| 129/129 [00:17<00:00,  7.40it/s]\n",
      "Epoch:   1%|          | 1/129 [00:00<00:16,  7.82it/s]"
     ]
    },
    {
     "name": "stdout",
     "output_type": "stream",
     "text": [
      "\n",
      "Epoch 019 train_loss: 0.8039 val_loss 1.0405 train_acc 0.7672 val_acc 0.7259\n"
     ]
    },
    {
     "name": "stderr",
     "output_type": "stream",
     "text": [
      "Epoch: 100%|██████████| 129/129 [00:17<00:00,  7.50it/s]\n"
     ]
    },
    {
     "name": "stdout",
     "output_type": "stream",
     "text": [
      "\n",
      "Epoch 020 train_loss: 0.8026 val_loss 1.0360 train_acc 0.7658 val_acc 0.7215\n"
     ]
    }
   ],
   "source": [
    "optim = torch.optim.SGD(CNN.parameters(), lr=0.0001)\n",
    "criterion = nn.CrossEntropyLoss()\n",
    "\n",
    "history = train(train_dataset, val_dataset, model=CNN,  optim=optim,\n",
    "                criterion=criterion, epochs=20, batch_size=64, device=DEVICE)"
   ]
  },
  {
   "cell_type": "code",
   "execution_count": 61,
   "metadata": {
    "scrolled": true
   },
   "outputs": [
    {
     "name": "stderr",
     "output_type": "stream",
     "text": [
      "Epoch: 100%|██████████| 129/129 [00:17<00:00,  7.40it/s]\n",
      "Epoch:   1%|          | 1/129 [00:00<00:16,  7.73it/s]"
     ]
    },
    {
     "name": "stdout",
     "output_type": "stream",
     "text": [
      "\n",
      "Epoch 001 train_loss: 0.7894 val_loss 1.0401 train_acc 0.7685 val_acc 0.7234\n"
     ]
    },
    {
     "name": "stderr",
     "output_type": "stream",
     "text": [
      "Epoch: 100%|██████████| 129/129 [00:17<00:00,  7.58it/s]\n",
      "Epoch:   1%|          | 1/129 [00:00<00:16,  7.73it/s]"
     ]
    },
    {
     "name": "stdout",
     "output_type": "stream",
     "text": [
      "\n",
      "Epoch 002 train_loss: 0.7926 val_loss 1.0419 train_acc 0.7684 val_acc 0.7212\n"
     ]
    },
    {
     "name": "stderr",
     "output_type": "stream",
     "text": [
      "Epoch: 100%|██████████| 129/129 [00:17<00:00,  7.57it/s]\n",
      "Epoch:   1%|          | 1/129 [00:00<00:16,  7.66it/s]"
     ]
    },
    {
     "name": "stdout",
     "output_type": "stream",
     "text": [
      "\n",
      "Epoch 003 train_loss: 0.8082 val_loss 1.0359 train_acc 0.7628 val_acc 0.7263\n"
     ]
    },
    {
     "name": "stderr",
     "output_type": "stream",
     "text": [
      "Epoch: 100%|██████████| 129/129 [00:17<00:00,  7.36it/s]\n",
      "Epoch:   1%|          | 1/129 [00:00<00:19,  6.73it/s]"
     ]
    },
    {
     "name": "stdout",
     "output_type": "stream",
     "text": [
      "\n",
      "Epoch 004 train_loss: 0.7908 val_loss 1.0394 train_acc 0.7693 val_acc 0.7245\n"
     ]
    },
    {
     "name": "stderr",
     "output_type": "stream",
     "text": [
      "Epoch: 100%|██████████| 129/129 [00:18<00:00,  7.03it/s]\n",
      "Epoch:   1%|          | 1/129 [00:00<00:15,  8.21it/s]"
     ]
    },
    {
     "name": "stdout",
     "output_type": "stream",
     "text": [
      "\n",
      "Epoch 005 train_loss: 0.7892 val_loss 1.0438 train_acc 0.7723 val_acc 0.7255\n"
     ]
    },
    {
     "name": "stderr",
     "output_type": "stream",
     "text": [
      "Epoch: 100%|██████████| 129/129 [00:17<00:00,  7.30it/s]\n",
      "Epoch:   1%|          | 1/129 [00:00<00:16,  7.99it/s]"
     ]
    },
    {
     "name": "stdout",
     "output_type": "stream",
     "text": [
      "\n",
      "Epoch 006 train_loss: 0.7938 val_loss 1.0317 train_acc 0.7715 val_acc 0.7263\n"
     ]
    },
    {
     "name": "stderr",
     "output_type": "stream",
     "text": [
      "Epoch: 100%|██████████| 129/129 [00:17<00:00,  7.27it/s]\n",
      "Epoch:   1%|          | 1/129 [00:00<00:17,  7.26it/s]"
     ]
    },
    {
     "name": "stdout",
     "output_type": "stream",
     "text": [
      "\n",
      "Epoch 007 train_loss: 0.7946 val_loss 1.0330 train_acc 0.7670 val_acc 0.7263\n"
     ]
    },
    {
     "name": "stderr",
     "output_type": "stream",
     "text": [
      "Epoch: 100%|██████████| 129/129 [00:17<00:00,  7.27it/s]\n",
      "Epoch:   1%|          | 1/129 [00:00<00:15,  8.13it/s]"
     ]
    },
    {
     "name": "stdout",
     "output_type": "stream",
     "text": [
      "\n",
      "Epoch 008 train_loss: 0.7893 val_loss 1.0365 train_acc 0.7684 val_acc 0.7255\n"
     ]
    },
    {
     "name": "stderr",
     "output_type": "stream",
     "text": [
      "Epoch: 100%|██████████| 129/129 [00:17<00:00,  7.48it/s]\n",
      "Epoch:   1%|          | 1/129 [00:00<00:18,  6.76it/s]"
     ]
    },
    {
     "name": "stdout",
     "output_type": "stream",
     "text": [
      "\n",
      "Epoch 009 train_loss: 0.7898 val_loss 1.0453 train_acc 0.7678 val_acc 0.7186\n"
     ]
    },
    {
     "name": "stderr",
     "output_type": "stream",
     "text": [
      "Epoch: 100%|██████████| 129/129 [00:17<00:00,  7.22it/s]\n",
      "Epoch:   1%|          | 1/129 [00:00<00:17,  7.36it/s]"
     ]
    },
    {
     "name": "stdout",
     "output_type": "stream",
     "text": [
      "\n",
      "Epoch 010 train_loss: 0.7920 val_loss 1.0359 train_acc 0.7703 val_acc 0.7259\n"
     ]
    },
    {
     "name": "stderr",
     "output_type": "stream",
     "text": [
      "Epoch: 100%|██████████| 129/129 [00:17<00:00,  7.50it/s]\n",
      "Epoch:   1%|          | 1/129 [00:00<00:15,  8.00it/s]"
     ]
    },
    {
     "name": "stdout",
     "output_type": "stream",
     "text": [
      "\n",
      "Epoch 011 train_loss: 0.7929 val_loss 1.0365 train_acc 0.7745 val_acc 0.7274\n"
     ]
    },
    {
     "name": "stderr",
     "output_type": "stream",
     "text": [
      "Epoch: 100%|██████████| 129/129 [00:17<00:00,  7.35it/s]\n",
      "Epoch:   1%|          | 1/129 [00:00<00:17,  7.26it/s]"
     ]
    },
    {
     "name": "stdout",
     "output_type": "stream",
     "text": [
      "\n",
      "Epoch 012 train_loss: 0.7883 val_loss 1.0346 train_acc 0.7698 val_acc 0.7263\n"
     ]
    },
    {
     "name": "stderr",
     "output_type": "stream",
     "text": [
      "Epoch: 100%|██████████| 129/129 [00:17<00:00,  7.22it/s]\n",
      "Epoch:   1%|          | 1/129 [00:00<00:18,  6.99it/s]"
     ]
    },
    {
     "name": "stdout",
     "output_type": "stream",
     "text": [
      "\n",
      "Epoch 013 train_loss: 0.7843 val_loss 1.0395 train_acc 0.7718 val_acc 0.7237\n"
     ]
    },
    {
     "name": "stderr",
     "output_type": "stream",
     "text": [
      "Epoch: 100%|██████████| 129/129 [00:17<00:00,  7.53it/s]\n",
      "Epoch:   1%|          | 1/129 [00:00<00:16,  7.93it/s]"
     ]
    },
    {
     "name": "stdout",
     "output_type": "stream",
     "text": [
      "\n",
      "Epoch 014 train_loss: 0.7938 val_loss 1.0364 train_acc 0.7697 val_acc 0.7241\n"
     ]
    },
    {
     "name": "stderr",
     "output_type": "stream",
     "text": [
      "Epoch: 100%|██████████| 129/129 [00:17<00:00,  7.53it/s]\n",
      "Epoch:   1%|          | 1/129 [00:00<00:16,  7.63it/s]"
     ]
    },
    {
     "name": "stdout",
     "output_type": "stream",
     "text": [
      "\n",
      "Epoch 015 train_loss: 0.7928 val_loss 1.0617 train_acc 0.7669 val_acc 0.7186\n"
     ]
    },
    {
     "name": "stderr",
     "output_type": "stream",
     "text": [
      "Epoch: 100%|██████████| 129/129 [00:17<00:00,  7.51it/s]\n",
      "Epoch:   1%|          | 1/129 [00:00<00:17,  7.47it/s]"
     ]
    },
    {
     "name": "stdout",
     "output_type": "stream",
     "text": [
      "\n",
      "Epoch 016 train_loss: 0.7924 val_loss 1.0298 train_acc 0.7675 val_acc 0.7226\n"
     ]
    },
    {
     "name": "stderr",
     "output_type": "stream",
     "text": [
      "Epoch: 100%|██████████| 129/129 [00:17<00:00,  7.47it/s]\n",
      "Epoch:   1%|          | 1/129 [00:00<00:16,  7.79it/s]"
     ]
    },
    {
     "name": "stdout",
     "output_type": "stream",
     "text": [
      "\n",
      "Epoch 017 train_loss: 0.7869 val_loss 1.0376 train_acc 0.7700 val_acc 0.7230\n"
     ]
    },
    {
     "name": "stderr",
     "output_type": "stream",
     "text": [
      "Epoch: 100%|██████████| 129/129 [00:17<00:00,  7.56it/s]\n",
      "Epoch:   1%|          | 1/129 [00:00<00:16,  7.90it/s]"
     ]
    },
    {
     "name": "stdout",
     "output_type": "stream",
     "text": [
      "\n",
      "Epoch 018 train_loss: 0.7945 val_loss 1.0349 train_acc 0.7674 val_acc 0.7263\n"
     ]
    },
    {
     "name": "stderr",
     "output_type": "stream",
     "text": [
      "Epoch: 100%|██████████| 129/129 [00:17<00:00,  7.28it/s]\n",
      "Epoch:   1%|          | 1/129 [00:00<00:18,  7.10it/s]"
     ]
    },
    {
     "name": "stdout",
     "output_type": "stream",
     "text": [
      "\n",
      "Epoch 019 train_loss: 0.7826 val_loss 1.0390 train_acc 0.7707 val_acc 0.7241\n"
     ]
    },
    {
     "name": "stderr",
     "output_type": "stream",
     "text": [
      "Epoch: 100%|██████████| 129/129 [00:17<00:00,  7.25it/s]\n"
     ]
    },
    {
     "name": "stdout",
     "output_type": "stream",
     "text": [
      "\n",
      "Epoch 020 train_loss: 0.7860 val_loss 1.0355 train_acc 0.7707 val_acc 0.7292\n"
     ]
    }
   ],
   "source": [
    "optim = torch.optim.SGD(CNN.parameters(), lr=0.00005)\n",
    "criterion = nn.CrossEntropyLoss()\n",
    "\n",
    "history = train(train_dataset, val_dataset, model=CNN,  optim=optim,\n",
    "                criterion=criterion, epochs=20, batch_size=64, device=DEVICE)"
   ]
  },
  {
   "cell_type": "code",
   "execution_count": null,
   "metadata": {},
   "outputs": [],
   "source": []
  }
 ],
 "metadata": {
  "kernelspec": {
   "display_name": "Python 3",
   "language": "python",
   "name": "python3"
  },
  "language_info": {
   "codemirror_mode": {
    "name": "ipython",
    "version": 3
   },
   "file_extension": ".py",
   "mimetype": "text/x-python",
   "name": "python",
   "nbconvert_exporter": "python",
   "pygments_lexer": "ipython3",
   "version": "3.6.6"
  }
 },
 "nbformat": 4,
 "nbformat_minor": 2
}

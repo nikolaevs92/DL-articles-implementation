{
 "cells": [
  {
   "cell_type": "code",
   "execution_count": 1,
   "metadata": {},
   "outputs": [],
   "source": [
    "import torch\n",
    "import torch.nn as nn\n",
    "from pathlib import Path\n",
    "import numpy as np"
   ]
  },
  {
   "cell_type": "code",
   "execution_count": 2,
   "metadata": {},
   "outputs": [],
   "source": [
    "from train import train\n",
    "from simpson_data import SimpsonDataset"
   ]
  },
  {
   "cell_type": "code",
   "execution_count": 3,
   "metadata": {},
   "outputs": [],
   "source": [
    "torch.cuda.set_device(0)\n",
    "DEVICE = torch.device(\"cuda\")"
   ]
  },
  {
   "cell_type": "markdown",
   "metadata": {},
   "source": [
    "## Data Load"
   ]
  },
  {
   "cell_type": "code",
   "execution_count": 4,
   "metadata": {},
   "outputs": [],
   "source": [
    "TRAIN_DIR = Path('train')\n",
    "train_val_files = sorted(list(TRAIN_DIR.rglob('*.jpg')))"
   ]
  },
  {
   "cell_type": "code",
   "execution_count": 5,
   "metadata": {},
   "outputs": [],
   "source": [
    "from sklearn.model_selection import train_test_split\n",
    "\n",
    "train_val_labels = [path.parent.name for path in train_val_files]\n",
    "train_files, val_files = train_test_split(train_val_files, test_size=0.25, stratify=train_val_labels)"
   ]
  },
  {
   "cell_type": "code",
   "execution_count": 6,
   "metadata": {},
   "outputs": [
    {
     "name": "stderr",
     "output_type": "stream",
     "text": [
      "Loading train files:   0%|          | 3/8220 [00:00<05:10, 26.48it/s]"
     ]
    },
    {
     "name": "stdout",
     "output_type": "stream",
     "text": [
      "\n",
      "Using label encoder with 41 labels\n"
     ]
    },
    {
     "name": "stderr",
     "output_type": "stream",
     "text": [
      "Loading train files: 100%|██████████| 8220/8220 [00:05<00:00, 1583.01it/s]\n",
      "Loading val files:   3%|▎         | 77/2740 [00:00<00:03, 748.82it/s]"
     ]
    },
    {
     "name": "stdout",
     "output_type": "stream",
     "text": [
      "\n",
      "Using label encoder with 41 labels\n"
     ]
    },
    {
     "name": "stderr",
     "output_type": "stream",
     "text": [
      "Loading val files: 100%|██████████| 2740/2740 [00:01<00:00, 1612.99it/s]\n"
     ]
    }
   ],
   "source": [
    "train_dataset = SimpsonDataset(train_files, mode='train')\n",
    "val_dataset = SimpsonDataset(val_files, mode='val')"
   ]
  },
  {
   "cell_type": "markdown",
   "metadata": {},
   "source": [
    "## Model Train\n",
    "### AlexNet"
   ]
  },
  {
   "cell_type": "code",
   "execution_count": 7,
   "metadata": {
    "scrolled": false
   },
   "outputs": [
    {
     "name": "stdout",
     "output_type": "stream",
     "text": [
      "Sequential(\n",
      "  (0): Conv2d(3, 64, kernel_size=(3, 3), stride=(1, 1), padding=(1, 1))\n",
      "  (1): ReLU()\n",
      "  (2): MaxPool2d(kernel_size=(2, 2), stride=2, padding=0, dilation=1, ceil_mode=False)\n",
      "  (3): Conv2d(64, 128, kernel_size=(3, 3), stride=(1, 1), padding=(1, 1))\n",
      "  (4): ReLU()\n",
      "  (5): MaxPool2d(kernel_size=(2, 2), stride=2, padding=0, dilation=1, ceil_mode=False)\n",
      "  (6): Conv2d(128, 256, kernel_size=(3, 3), stride=(1, 1), padding=(1, 1))\n",
      "  (7): ReLU()\n",
      "  (8): Conv2d(256, 256, kernel_size=(3, 3), stride=(1, 1), padding=(1, 1))\n",
      "  (9): ReLU()\n",
      "  (10): MaxPool2d(kernel_size=(2, 2), stride=2, padding=0, dilation=1, ceil_mode=False)\n",
      "  (11): Conv2d(256, 512, kernel_size=(3, 3), stride=(1, 1), padding=(1, 1))\n",
      "  (12): ReLU()\n",
      "  (13): Conv2d(512, 512, kernel_size=(3, 3), stride=(1, 1), padding=(1, 1))\n",
      "  (14): ReLU()\n",
      "  (15): MaxPool2d(kernel_size=(2, 2), stride=2, padding=0, dilation=1, ceil_mode=False)\n",
      "  (16): Conv2d(512, 512, kernel_size=(3, 3), stride=(1, 1), padding=(1, 1))\n",
      "  (17): ReLU()\n",
      "  (18): Conv2d(512, 512, kernel_size=(3, 3), stride=(1, 1), padding=(1, 1))\n",
      "  (19): ReLU()\n",
      "  (20): MaxPool2d(kernel_size=(2, 2), stride=2, padding=0, dilation=1, ceil_mode=False)\n",
      "  (21): InOneDemensionReshape()\n",
      "  (22): Dropout(p=0.5)\n",
      "  (23): Linear(in_features=25088, out_features=4096, bias=True)\n",
      "  (24): ReLU()\n",
      "  (25): Dropout(p=0.5)\n",
      "  (26): Linear(in_features=4096, out_features=4096, bias=True)\n",
      "  (27): ReLU()\n",
      "  (28): Dropout(p=0.5)\n",
      "  (29): Linear(in_features=4096, out_features=1024, bias=True)\n",
      "  (30): ReLU()\n",
      "  (31): Dropout(p=0.5)\n",
      "  (32): Linear(in_features=1024, out_features=41, bias=True)\n",
      ")\n"
     ]
    }
   ],
   "source": [
    "from models import vggA, vggA_LRN, vggB, vggC, vggD, vggE\n",
    "\n",
    "N_CLASSES = len(np.unique(train_val_labels))\n",
    "CNN = vggA(N_CLASSES).to(DEVICE)\n",
    "print(CNN)"
   ]
  },
  {
   "cell_type": "code",
   "execution_count": 8,
   "metadata": {
    "scrolled": true
   },
   "outputs": [
    {
     "name": "stderr",
     "output_type": "stream",
     "text": [
      "Epoch: 100%|██████████| 257/257 [00:59<00:00,  4.85it/s]\n",
      "Epoch:   0%|          | 0/257 [00:00<?, ?it/s]"
     ]
    },
    {
     "name": "stdout",
     "output_type": "stream",
     "text": [
      "\n",
      "Epoch 001 train_loss: 3.6632 val_loss 3.6181 train_acc 0.1015 val_acc 0.1047\n"
     ]
    },
    {
     "name": "stderr",
     "output_type": "stream",
     "text": [
      "Epoch: 100%|██████████| 257/257 [00:59<00:00,  4.63it/s]\n",
      "Epoch:   0%|          | 0/257 [00:00<?, ?it/s]"
     ]
    },
    {
     "name": "stdout",
     "output_type": "stream",
     "text": [
      "\n",
      "Epoch 002 train_loss: 3.5741 val_loss 3.5266 train_acc 0.1047 val_acc 0.1047\n"
     ]
    },
    {
     "name": "stderr",
     "output_type": "stream",
     "text": [
      "Epoch: 100%|██████████| 257/257 [00:56<00:00,  4.73it/s]\n",
      "Epoch:   0%|          | 0/257 [00:00<?, ?it/s]"
     ]
    },
    {
     "name": "stdout",
     "output_type": "stream",
     "text": [
      "\n",
      "Epoch 003 train_loss: 3.4751 val_loss 3.4156 train_acc 0.1047 val_acc 0.1047\n"
     ]
    },
    {
     "name": "stderr",
     "output_type": "stream",
     "text": [
      "Epoch: 100%|██████████| 257/257 [00:55<00:00,  4.89it/s]\n",
      "Epoch:   0%|          | 0/257 [00:00<?, ?it/s]"
     ]
    },
    {
     "name": "stdout",
     "output_type": "stream",
     "text": [
      "\n",
      "Epoch 004 train_loss: 3.3173 val_loss 3.1560 train_acc 0.1047 val_acc 0.1047\n"
     ]
    },
    {
     "name": "stderr",
     "output_type": "stream",
     "text": [
      "Epoch: 100%|██████████| 257/257 [00:55<00:00,  4.67it/s]\n"
     ]
    },
    {
     "name": "stdout",
     "output_type": "stream",
     "text": [
      "\n",
      "Epoch 005 train_loss: 3.1413 val_loss 3.1184 train_acc 0.1030 val_acc 0.1047\n"
     ]
    }
   ],
   "source": [
    "optim = torch.optim.SGD(CNN.parameters(), lr=0.01)\n",
    "criterion = nn.CrossEntropyLoss()\n",
    "\n",
    "history = train(train_dataset, val_dataset, model=CNN,  optim=optim,\n",
    "                criterion=criterion, epochs=5, batch_size=32, device=DEVICE)"
   ]
  },
  {
   "cell_type": "code",
   "execution_count": 9,
   "metadata": {
    "scrolled": true
   },
   "outputs": [
    {
     "name": "stderr",
     "output_type": "stream",
     "text": [
      "Epoch: 100%|██████████| 514/514 [01:02<00:00,  8.62it/s]\n",
      "Epoch:   0%|          | 1/514 [00:00<01:04,  8.00it/s]"
     ]
    },
    {
     "name": "stdout",
     "output_type": "stream",
     "text": [
      "\n",
      "Epoch 001 train_loss: 3.1292 val_loss 3.1135 train_acc 0.1041 val_acc 0.1047\n"
     ]
    },
    {
     "name": "stderr",
     "output_type": "stream",
     "text": [
      "Epoch: 100%|██████████| 514/514 [01:02<00:00,  8.17it/s]\n",
      "Epoch:   0%|          | 1/514 [00:00<00:57,  8.85it/s]"
     ]
    },
    {
     "name": "stdout",
     "output_type": "stream",
     "text": [
      "\n",
      "Epoch 002 train_loss: 3.1262 val_loss 3.1156 train_acc 0.1032 val_acc 0.1047\n"
     ]
    },
    {
     "name": "stderr",
     "output_type": "stream",
     "text": [
      "Epoch: 100%|██████████| 514/514 [01:03<00:00,  8.10it/s]\n",
      "Epoch:   0%|          | 1/514 [00:00<01:06,  7.75it/s]"
     ]
    },
    {
     "name": "stdout",
     "output_type": "stream",
     "text": [
      "\n",
      "Epoch 003 train_loss: 3.1217 val_loss 3.1140 train_acc 0.1038 val_acc 0.1047\n"
     ]
    },
    {
     "name": "stderr",
     "output_type": "stream",
     "text": [
      "Epoch: 100%|██████████| 514/514 [01:01<00:00,  8.29it/s]\n",
      "Epoch:   0%|          | 1/514 [00:00<01:01,  8.28it/s]"
     ]
    },
    {
     "name": "stdout",
     "output_type": "stream",
     "text": [
      "\n",
      "Epoch 004 train_loss: 3.1232 val_loss 3.1115 train_acc 0.1034 val_acc 0.1047\n"
     ]
    },
    {
     "name": "stderr",
     "output_type": "stream",
     "text": [
      "Epoch: 100%|██████████| 514/514 [01:01<00:00,  8.30it/s]\n",
      "Epoch:   0%|          | 1/514 [00:00<01:06,  7.69it/s]"
     ]
    },
    {
     "name": "stdout",
     "output_type": "stream",
     "text": [
      "\n",
      "Epoch 005 train_loss: 3.1208 val_loss 3.1081 train_acc 0.1045 val_acc 0.1047\n"
     ]
    },
    {
     "name": "stderr",
     "output_type": "stream",
     "text": [
      "Epoch: 100%|██████████| 514/514 [01:01<00:00,  8.30it/s]\n",
      "Epoch:   0%|          | 1/514 [00:00<00:58,  8.79it/s]"
     ]
    },
    {
     "name": "stdout",
     "output_type": "stream",
     "text": [
      "\n",
      "Epoch 006 train_loss: 3.1173 val_loss 3.1084 train_acc 0.1045 val_acc 0.1047\n"
     ]
    },
    {
     "name": "stderr",
     "output_type": "stream",
     "text": [
      "Epoch: 100%|██████████| 514/514 [01:01<00:00,  8.31it/s]\n",
      "Epoch:   0%|          | 1/514 [00:00<00:58,  8.84it/s]"
     ]
    },
    {
     "name": "stdout",
     "output_type": "stream",
     "text": [
      "\n",
      "Epoch 007 train_loss: 3.1174 val_loss 3.1061 train_acc 0.1044 val_acc 0.1047\n"
     ]
    },
    {
     "name": "stderr",
     "output_type": "stream",
     "text": [
      "Epoch: 100%|██████████| 514/514 [01:01<00:00,  8.33it/s]\n",
      "Epoch:   0%|          | 1/514 [00:00<01:05,  7.79it/s]"
     ]
    },
    {
     "name": "stdout",
     "output_type": "stream",
     "text": [
      "\n",
      "Epoch 008 train_loss: 3.1145 val_loss 3.1049 train_acc 0.1041 val_acc 0.1047\n"
     ]
    },
    {
     "name": "stderr",
     "output_type": "stream",
     "text": [
      "Epoch: 100%|██████████| 514/514 [01:01<00:00,  8.35it/s]\n",
      "Epoch:   0%|          | 1/514 [00:00<01:02,  8.17it/s]"
     ]
    },
    {
     "name": "stdout",
     "output_type": "stream",
     "text": [
      "\n",
      "Epoch 009 train_loss: 3.1137 val_loss 3.1063 train_acc 0.1034 val_acc 0.1047\n"
     ]
    },
    {
     "name": "stderr",
     "output_type": "stream",
     "text": [
      "Epoch: 100%|██████████| 514/514 [01:01<00:00,  8.35it/s]\n"
     ]
    },
    {
     "name": "stdout",
     "output_type": "stream",
     "text": [
      "\n",
      "Epoch 010 train_loss: 3.1113 val_loss 3.1000 train_acc 0.1047 val_acc 0.1047\n"
     ]
    }
   ],
   "source": [
    "optim = torch.optim.SGD(CNN.parameters(), lr=0.005)\n",
    "criterion = nn.CrossEntropyLoss()\n",
    "\n",
    "history = train(train_dataset, val_dataset, model=CNN,  optim=optim,\n",
    "                criterion=criterion, epochs=10, batch_size=16, device=DEVICE)"
   ]
  },
  {
   "cell_type": "code",
   "execution_count": 10,
   "metadata": {
    "scrolled": true
   },
   "outputs": [
    {
     "name": "stderr",
     "output_type": "stream",
     "text": [
      "Epoch: 100%|██████████| 257/257 [00:53<00:00,  4.99it/s]\n",
      "Epoch:   0%|          | 0/257 [00:00<?, ?it/s]"
     ]
    },
    {
     "name": "stdout",
     "output_type": "stream",
     "text": [
      "\n",
      "Epoch 001 train_loss: 3.1084 val_loss 3.0970 train_acc 0.1047 val_acc 0.1047\n"
     ]
    },
    {
     "name": "stderr",
     "output_type": "stream",
     "text": [
      "Epoch: 100%|██████████| 257/257 [00:53<00:00,  4.93it/s]\n",
      "Epoch:   0%|          | 0/257 [00:00<?, ?it/s]"
     ]
    },
    {
     "name": "stdout",
     "output_type": "stream",
     "text": [
      "\n",
      "Epoch 002 train_loss: 3.1055 val_loss 3.0948 train_acc 0.1046 val_acc 0.1047\n"
     ]
    },
    {
     "name": "stderr",
     "output_type": "stream",
     "text": [
      "Epoch: 100%|██████████| 257/257 [00:54<00:00,  4.76it/s]\n",
      "Epoch:   0%|          | 0/257 [00:00<?, ?it/s]"
     ]
    },
    {
     "name": "stdout",
     "output_type": "stream",
     "text": [
      "\n",
      "Epoch 003 train_loss: 3.1017 val_loss 3.0918 train_acc 0.1047 val_acc 0.1047\n"
     ]
    },
    {
     "name": "stderr",
     "output_type": "stream",
     "text": [
      "Epoch: 100%|██████████| 257/257 [00:54<00:00,  4.40it/s]\n",
      "Epoch:   0%|          | 0/257 [00:00<?, ?it/s]"
     ]
    },
    {
     "name": "stdout",
     "output_type": "stream",
     "text": [
      "\n",
      "Epoch 004 train_loss: 3.0978 val_loss 3.0938 train_acc 0.1046 val_acc 0.1055\n"
     ]
    },
    {
     "name": "stderr",
     "output_type": "stream",
     "text": [
      "Epoch: 100%|██████████| 257/257 [00:54<00:00,  4.78it/s]\n",
      "Epoch:   0%|          | 0/257 [00:00<?, ?it/s]"
     ]
    },
    {
     "name": "stdout",
     "output_type": "stream",
     "text": [
      "\n",
      "Epoch 005 train_loss: 3.0934 val_loss 3.0862 train_acc 0.1102 val_acc 0.1223\n"
     ]
    },
    {
     "name": "stderr",
     "output_type": "stream",
     "text": [
      "Epoch: 100%|██████████| 257/257 [00:55<00:00,  4.96it/s]\n",
      "Epoch:   0%|          | 0/257 [00:00<?, ?it/s]"
     ]
    },
    {
     "name": "stdout",
     "output_type": "stream",
     "text": [
      "\n",
      "Epoch 006 train_loss: 3.0856 val_loss 3.0649 train_acc 0.1189 val_acc 0.1318\n"
     ]
    },
    {
     "name": "stderr",
     "output_type": "stream",
     "text": [
      "Epoch: 100%|██████████| 257/257 [00:54<00:00,  4.78it/s]\n",
      "Epoch:   0%|          | 0/257 [00:00<?, ?it/s]"
     ]
    },
    {
     "name": "stdout",
     "output_type": "stream",
     "text": [
      "\n",
      "Epoch 007 train_loss: 3.0618 val_loss 3.0217 train_acc 0.1325 val_acc 0.1380\n"
     ]
    },
    {
     "name": "stderr",
     "output_type": "stream",
     "text": [
      "Epoch: 100%|██████████| 257/257 [00:54<00:00,  4.95it/s]\n",
      "Epoch:   0%|          | 0/257 [00:00<?, ?it/s]"
     ]
    },
    {
     "name": "stdout",
     "output_type": "stream",
     "text": [
      "\n",
      "Epoch 008 train_loss: 3.0081 val_loss 2.9515 train_acc 0.1455 val_acc 0.1460\n"
     ]
    },
    {
     "name": "stderr",
     "output_type": "stream",
     "text": [
      "Epoch: 100%|██████████| 257/257 [00:54<00:00,  4.93it/s]\n",
      "Epoch:   0%|          | 0/257 [00:00<?, ?it/s]"
     ]
    },
    {
     "name": "stdout",
     "output_type": "stream",
     "text": [
      "\n",
      "Epoch 009 train_loss: 2.9522 val_loss 2.9218 train_acc 0.1512 val_acc 0.1533\n"
     ]
    },
    {
     "name": "stderr",
     "output_type": "stream",
     "text": [
      "Epoch: 100%|██████████| 257/257 [00:54<00:00,  4.98it/s]\n",
      "Epoch:   0%|          | 0/257 [00:00<?, ?it/s]"
     ]
    },
    {
     "name": "stdout",
     "output_type": "stream",
     "text": [
      "\n",
      "Epoch 010 train_loss: 2.9074 val_loss 2.8809 train_acc 0.1668 val_acc 0.1682\n"
     ]
    },
    {
     "name": "stderr",
     "output_type": "stream",
     "text": [
      "Epoch: 100%|██████████| 257/257 [00:55<00:00,  4.96it/s]\n",
      "Epoch:   0%|          | 0/257 [00:00<?, ?it/s]"
     ]
    },
    {
     "name": "stdout",
     "output_type": "stream",
     "text": [
      "\n",
      "Epoch 011 train_loss: 2.8766 val_loss 2.8823 train_acc 0.1743 val_acc 0.1748\n"
     ]
    },
    {
     "name": "stderr",
     "output_type": "stream",
     "text": [
      "Epoch: 100%|██████████| 257/257 [00:54<00:00,  4.89it/s]\n",
      "Epoch:   0%|          | 0/257 [00:00<?, ?it/s]"
     ]
    },
    {
     "name": "stdout",
     "output_type": "stream",
     "text": [
      "\n",
      "Epoch 012 train_loss: 2.8588 val_loss 2.8329 train_acc 0.1847 val_acc 0.1785\n"
     ]
    },
    {
     "name": "stderr",
     "output_type": "stream",
     "text": [
      "Epoch: 100%|██████████| 257/257 [00:54<00:00,  4.76it/s]\n",
      "Epoch:   0%|          | 0/257 [00:00<?, ?it/s]"
     ]
    },
    {
     "name": "stdout",
     "output_type": "stream",
     "text": [
      "\n",
      "Epoch 013 train_loss: 2.8396 val_loss 2.8193 train_acc 0.1886 val_acc 0.1836\n"
     ]
    },
    {
     "name": "stderr",
     "output_type": "stream",
     "text": [
      "Epoch: 100%|██████████| 257/257 [00:55<00:00,  4.92it/s]\n",
      "Epoch:   0%|          | 0/257 [00:00<?, ?it/s]"
     ]
    },
    {
     "name": "stdout",
     "output_type": "stream",
     "text": [
      "\n",
      "Epoch 014 train_loss: 2.8235 val_loss 2.8244 train_acc 0.1946 val_acc 0.1883\n"
     ]
    },
    {
     "name": "stderr",
     "output_type": "stream",
     "text": [
      "Epoch: 100%|██████████| 257/257 [00:54<00:00,  4.92it/s]\n",
      "Epoch:   0%|          | 0/257 [00:00<?, ?it/s]"
     ]
    },
    {
     "name": "stdout",
     "output_type": "stream",
     "text": [
      "\n",
      "Epoch 015 train_loss: 2.7986 val_loss 2.7784 train_acc 0.1922 val_acc 0.1901\n"
     ]
    },
    {
     "name": "stderr",
     "output_type": "stream",
     "text": [
      "Epoch: 100%|██████████| 257/257 [00:53<00:00,  4.72it/s]\n",
      "Epoch:   0%|          | 0/257 [00:00<?, ?it/s]"
     ]
    },
    {
     "name": "stdout",
     "output_type": "stream",
     "text": [
      "\n",
      "Epoch 016 train_loss: 2.7819 val_loss 2.7752 train_acc 0.2026 val_acc 0.1909\n"
     ]
    },
    {
     "name": "stderr",
     "output_type": "stream",
     "text": [
      "Epoch: 100%|██████████| 257/257 [00:54<00:00,  4.95it/s]\n",
      "Epoch:   0%|          | 0/257 [00:00<?, ?it/s]"
     ]
    },
    {
     "name": "stdout",
     "output_type": "stream",
     "text": [
      "\n",
      "Epoch 017 train_loss: 2.7593 val_loss 2.7813 train_acc 0.2034 val_acc 0.2000\n"
     ]
    },
    {
     "name": "stderr",
     "output_type": "stream",
     "text": [
      "Epoch: 100%|██████████| 257/257 [00:53<00:00,  4.96it/s]\n",
      "Epoch:   0%|          | 0/257 [00:00<?, ?it/s]"
     ]
    },
    {
     "name": "stdout",
     "output_type": "stream",
     "text": [
      "\n",
      "Epoch 018 train_loss: 2.7430 val_loss 2.7514 train_acc 0.2085 val_acc 0.2066\n"
     ]
    },
    {
     "name": "stderr",
     "output_type": "stream",
     "text": [
      "Epoch: 100%|██████████| 257/257 [00:54<00:00,  4.95it/s]\n",
      "Epoch:   0%|          | 0/257 [00:00<?, ?it/s]"
     ]
    },
    {
     "name": "stdout",
     "output_type": "stream",
     "text": [
      "\n",
      "Epoch 019 train_loss: 2.7169 val_loss 2.7349 train_acc 0.2204 val_acc 0.2142\n"
     ]
    },
    {
     "name": "stderr",
     "output_type": "stream",
     "text": [
      "Epoch: 100%|██████████| 257/257 [00:54<00:00,  4.92it/s]\n"
     ]
    },
    {
     "name": "stdout",
     "output_type": "stream",
     "text": [
      "\n",
      "Epoch 020 train_loss: 2.7057 val_loss 2.7119 train_acc 0.2196 val_acc 0.2026\n"
     ]
    }
   ],
   "source": [
    "optim = torch.optim.SGD(CNN.parameters(), lr=0.005)\n",
    "criterion = nn.CrossEntropyLoss()\n",
    "\n",
    "history = train(train_dataset, val_dataset, model=CNN,  optim=optim,\n",
    "                criterion=criterion, epochs=20, batch_size=32, device=DEVICE)"
   ]
  },
  {
   "cell_type": "code",
   "execution_count": 11,
   "metadata": {
    "scrolled": true
   },
   "outputs": [
    {
     "name": "stderr",
     "output_type": "stream",
     "text": [
      "Epoch: 100%|██████████| 257/257 [00:53<00:00,  4.93it/s]\n",
      "Epoch:   0%|          | 0/257 [00:00<?, ?it/s]"
     ]
    },
    {
     "name": "stdout",
     "output_type": "stream",
     "text": [
      "\n",
      "Epoch 001 train_loss: 2.7128 val_loss 2.7238 train_acc 0.2191 val_acc 0.2047\n"
     ]
    },
    {
     "name": "stderr",
     "output_type": "stream",
     "text": [
      "Epoch: 100%|██████████| 257/257 [00:55<00:00,  4.96it/s]\n",
      "Epoch:   0%|          | 0/257 [00:00<?, ?it/s]"
     ]
    },
    {
     "name": "stdout",
     "output_type": "stream",
     "text": [
      "\n",
      "Epoch 002 train_loss: 2.6797 val_loss 2.6963 train_acc 0.2181 val_acc 0.2325\n"
     ]
    },
    {
     "name": "stderr",
     "output_type": "stream",
     "text": [
      "Epoch: 100%|██████████| 257/257 [00:54<00:00,  4.94it/s]\n",
      "Epoch:   0%|          | 0/257 [00:00<?, ?it/s]"
     ]
    },
    {
     "name": "stdout",
     "output_type": "stream",
     "text": [
      "\n",
      "Epoch 003 train_loss: 2.6488 val_loss 2.6601 train_acc 0.2288 val_acc 0.2128\n"
     ]
    },
    {
     "name": "stderr",
     "output_type": "stream",
     "text": [
      "Epoch: 100%|██████████| 257/257 [00:54<00:00,  4.97it/s]\n",
      "Epoch:   0%|          | 1/257 [00:00<00:50,  5.05it/s]"
     ]
    },
    {
     "name": "stdout",
     "output_type": "stream",
     "text": [
      "\n",
      "Epoch 004 train_loss: 2.6215 val_loss 2.7061 train_acc 0.2341 val_acc 0.2018\n"
     ]
    },
    {
     "name": "stderr",
     "output_type": "stream",
     "text": [
      "Epoch: 100%|██████████| 257/257 [00:54<00:00,  4.80it/s]\n",
      "Epoch:   0%|          | 0/257 [00:00<?, ?it/s]"
     ]
    },
    {
     "name": "stdout",
     "output_type": "stream",
     "text": [
      "\n",
      "Epoch 005 train_loss: 2.5929 val_loss 2.6798 train_acc 0.2387 val_acc 0.2131\n"
     ]
    },
    {
     "name": "stderr",
     "output_type": "stream",
     "text": [
      "Epoch: 100%|██████████| 257/257 [00:54<00:00,  5.01it/s]\n",
      "Epoch:   0%|          | 0/257 [00:00<?, ?it/s]"
     ]
    },
    {
     "name": "stdout",
     "output_type": "stream",
     "text": [
      "\n",
      "Epoch 006 train_loss: 2.5658 val_loss 2.5987 train_acc 0.2473 val_acc 0.2376\n"
     ]
    },
    {
     "name": "stderr",
     "output_type": "stream",
     "text": [
      "Epoch: 100%|██████████| 257/257 [00:53<00:00,  4.94it/s]\n",
      "Epoch:   0%|          | 0/257 [00:00<?, ?it/s]"
     ]
    },
    {
     "name": "stdout",
     "output_type": "stream",
     "text": [
      "\n",
      "Epoch 007 train_loss: 2.5377 val_loss 2.5839 train_acc 0.2536 val_acc 0.2412\n"
     ]
    },
    {
     "name": "stderr",
     "output_type": "stream",
     "text": [
      "Epoch: 100%|██████████| 257/257 [00:54<00:00,  4.82it/s]\n",
      "Epoch:   0%|          | 0/257 [00:00<?, ?it/s]"
     ]
    },
    {
     "name": "stdout",
     "output_type": "stream",
     "text": [
      "\n",
      "Epoch 008 train_loss: 2.5100 val_loss 2.5011 train_acc 0.2670 val_acc 0.2672\n"
     ]
    },
    {
     "name": "stderr",
     "output_type": "stream",
     "text": [
      "Epoch: 100%|██████████| 257/257 [00:54<00:00,  4.70it/s]\n",
      "Epoch:   0%|          | 0/257 [00:00<?, ?it/s]"
     ]
    },
    {
     "name": "stdout",
     "output_type": "stream",
     "text": [
      "\n",
      "Epoch 009 train_loss: 2.4663 val_loss 2.4775 train_acc 0.2751 val_acc 0.2821\n"
     ]
    },
    {
     "name": "stderr",
     "output_type": "stream",
     "text": [
      "Epoch: 100%|██████████| 257/257 [00:54<00:00,  4.89it/s]\n",
      "Epoch:   0%|          | 0/257 [00:00<?, ?it/s]"
     ]
    },
    {
     "name": "stdout",
     "output_type": "stream",
     "text": [
      "\n",
      "Epoch 010 train_loss: 2.4248 val_loss 2.3825 train_acc 0.2918 val_acc 0.3172\n"
     ]
    },
    {
     "name": "stderr",
     "output_type": "stream",
     "text": [
      "Epoch: 100%|██████████| 257/257 [00:54<00:00,  4.95it/s]\n",
      "Epoch:   0%|          | 0/257 [00:00<?, ?it/s]"
     ]
    },
    {
     "name": "stdout",
     "output_type": "stream",
     "text": [
      "\n",
      "Epoch 011 train_loss: 2.3695 val_loss 2.4057 train_acc 0.3167 val_acc 0.3215\n"
     ]
    },
    {
     "name": "stderr",
     "output_type": "stream",
     "text": [
      "Epoch: 100%|██████████| 257/257 [00:53<00:00,  4.73it/s]\n",
      "Epoch:   0%|          | 0/257 [00:00<?, ?it/s]"
     ]
    },
    {
     "name": "stdout",
     "output_type": "stream",
     "text": [
      "\n",
      "Epoch 012 train_loss: 2.3133 val_loss 2.3191 train_acc 0.3345 val_acc 0.3416\n"
     ]
    },
    {
     "name": "stderr",
     "output_type": "stream",
     "text": [
      "Epoch: 100%|██████████| 257/257 [00:54<00:00,  4.88it/s]\n",
      "Epoch:   0%|          | 0/257 [00:00<?, ?it/s]"
     ]
    },
    {
     "name": "stdout",
     "output_type": "stream",
     "text": [
      "\n",
      "Epoch 013 train_loss: 2.2434 val_loss 2.1481 train_acc 0.3607 val_acc 0.3898\n"
     ]
    },
    {
     "name": "stderr",
     "output_type": "stream",
     "text": [
      "Epoch: 100%|██████████| 257/257 [00:54<00:00,  4.79it/s]\n",
      "Epoch:   0%|          | 0/257 [00:00<?, ?it/s]"
     ]
    },
    {
     "name": "stdout",
     "output_type": "stream",
     "text": [
      "\n",
      "Epoch 014 train_loss: 2.1605 val_loss 2.1566 train_acc 0.3872 val_acc 0.3989\n"
     ]
    },
    {
     "name": "stderr",
     "output_type": "stream",
     "text": [
      "Epoch: 100%|██████████| 257/257 [00:54<00:00,  4.74it/s]\n",
      "Epoch:   0%|          | 0/257 [00:00<?, ?it/s]"
     ]
    },
    {
     "name": "stdout",
     "output_type": "stream",
     "text": [
      "\n",
      "Epoch 015 train_loss: 2.0851 val_loss 2.0210 train_acc 0.4120 val_acc 0.4383\n"
     ]
    },
    {
     "name": "stderr",
     "output_type": "stream",
     "text": [
      "Epoch: 100%|██████████| 257/257 [00:54<00:00,  4.81it/s]\n",
      "Epoch:   0%|          | 0/257 [00:00<?, ?it/s]"
     ]
    },
    {
     "name": "stdout",
     "output_type": "stream",
     "text": [
      "\n",
      "Epoch 016 train_loss: 2.0127 val_loss 1.9660 train_acc 0.4343 val_acc 0.4540\n"
     ]
    },
    {
     "name": "stderr",
     "output_type": "stream",
     "text": [
      "Epoch: 100%|██████████| 257/257 [00:53<00:00,  4.89it/s]\n",
      "Epoch:   0%|          | 0/257 [00:00<?, ?it/s]"
     ]
    },
    {
     "name": "stdout",
     "output_type": "stream",
     "text": [
      "\n",
      "Epoch 017 train_loss: 1.9509 val_loss 1.9195 train_acc 0.4456 val_acc 0.4810\n"
     ]
    },
    {
     "name": "stderr",
     "output_type": "stream",
     "text": [
      "Epoch: 100%|██████████| 257/257 [00:54<00:00,  4.85it/s]\n",
      "Epoch:   0%|          | 0/257 [00:00<?, ?it/s]"
     ]
    },
    {
     "name": "stdout",
     "output_type": "stream",
     "text": [
      "\n",
      "Epoch 018 train_loss: 1.8804 val_loss 1.8555 train_acc 0.4702 val_acc 0.4781\n"
     ]
    },
    {
     "name": "stderr",
     "output_type": "stream",
     "text": [
      "Epoch: 100%|██████████| 257/257 [00:53<00:00,  5.00it/s]\n",
      "Epoch:   0%|          | 0/257 [00:00<?, ?it/s]"
     ]
    },
    {
     "name": "stdout",
     "output_type": "stream",
     "text": [
      "\n",
      "Epoch 019 train_loss: 1.8257 val_loss 1.8371 train_acc 0.4771 val_acc 0.4748\n"
     ]
    },
    {
     "name": "stderr",
     "output_type": "stream",
     "text": [
      "Epoch: 100%|██████████| 257/257 [00:54<00:00,  4.85it/s]\n",
      "Epoch:   0%|          | 0/257 [00:00<?, ?it/s]"
     ]
    },
    {
     "name": "stdout",
     "output_type": "stream",
     "text": [
      "\n",
      "Epoch 020 train_loss: 1.7619 val_loss 1.7136 train_acc 0.4983 val_acc 0.5157\n"
     ]
    },
    {
     "name": "stderr",
     "output_type": "stream",
     "text": [
      "Epoch: 100%|██████████| 257/257 [00:54<00:00,  4.87it/s]\n",
      "Epoch:   0%|          | 0/257 [00:00<?, ?it/s]"
     ]
    },
    {
     "name": "stdout",
     "output_type": "stream",
     "text": [
      "\n",
      "Epoch 021 train_loss: 1.7070 val_loss 1.7863 train_acc 0.5129 val_acc 0.4974\n"
     ]
    },
    {
     "name": "stderr",
     "output_type": "stream",
     "text": [
      "Epoch: 100%|██████████| 257/257 [00:53<00:00,  4.97it/s]\n",
      "Epoch:   0%|          | 0/257 [00:00<?, ?it/s]"
     ]
    },
    {
     "name": "stdout",
     "output_type": "stream",
     "text": [
      "\n",
      "Epoch 022 train_loss: 1.6573 val_loss 1.6906 train_acc 0.5265 val_acc 0.5230\n"
     ]
    },
    {
     "name": "stderr",
     "output_type": "stream",
     "text": [
      "Epoch: 100%|██████████| 257/257 [00:53<00:00,  4.82it/s]\n",
      "Epoch:   0%|          | 0/257 [00:00<?, ?it/s]"
     ]
    },
    {
     "name": "stdout",
     "output_type": "stream",
     "text": [
      "\n",
      "Epoch 023 train_loss: 1.5852 val_loss 1.7065 train_acc 0.5518 val_acc 0.5113\n"
     ]
    },
    {
     "name": "stderr",
     "output_type": "stream",
     "text": [
      "Epoch: 100%|██████████| 257/257 [00:54<00:00,  5.02it/s]\n",
      "Epoch:   0%|          | 0/257 [00:00<?, ?it/s]"
     ]
    },
    {
     "name": "stdout",
     "output_type": "stream",
     "text": [
      "\n",
      "Epoch 024 train_loss: 1.5137 val_loss 1.8450 train_acc 0.5637 val_acc 0.4927\n"
     ]
    },
    {
     "name": "stderr",
     "output_type": "stream",
     "text": [
      "Epoch: 100%|██████████| 257/257 [00:53<00:00,  4.97it/s]\n",
      "Epoch:   0%|          | 0/257 [00:00<?, ?it/s]"
     ]
    },
    {
     "name": "stdout",
     "output_type": "stream",
     "text": [
      "\n",
      "Epoch 025 train_loss: 1.4657 val_loss 1.5136 train_acc 0.5776 val_acc 0.5792\n"
     ]
    },
    {
     "name": "stderr",
     "output_type": "stream",
     "text": [
      "Epoch: 100%|██████████| 257/257 [00:53<00:00,  4.87it/s]\n",
      "Epoch:   0%|          | 0/257 [00:00<?, ?it/s]"
     ]
    },
    {
     "name": "stdout",
     "output_type": "stream",
     "text": [
      "\n",
      "Epoch 026 train_loss: 1.4012 val_loss 1.5111 train_acc 0.5928 val_acc 0.5774\n"
     ]
    },
    {
     "name": "stderr",
     "output_type": "stream",
     "text": [
      "Epoch: 100%|██████████| 257/257 [00:54<00:00,  4.84it/s]\n",
      "Epoch:   0%|          | 0/257 [00:00<?, ?it/s]"
     ]
    },
    {
     "name": "stdout",
     "output_type": "stream",
     "text": [
      "\n",
      "Epoch 027 train_loss: 1.3532 val_loss 1.4637 train_acc 0.6148 val_acc 0.5938\n"
     ]
    },
    {
     "name": "stderr",
     "output_type": "stream",
     "text": [
      "Epoch: 100%|██████████| 257/257 [00:53<00:00,  4.95it/s]\n",
      "Epoch:   0%|          | 0/257 [00:00<?, ?it/s]"
     ]
    },
    {
     "name": "stdout",
     "output_type": "stream",
     "text": [
      "\n",
      "Epoch 028 train_loss: 1.2727 val_loss 1.4504 train_acc 0.6270 val_acc 0.6015\n"
     ]
    },
    {
     "name": "stderr",
     "output_type": "stream",
     "text": [
      "Epoch: 100%|██████████| 257/257 [00:54<00:00,  4.67it/s]\n",
      "Epoch:   0%|          | 0/257 [00:00<?, ?it/s]"
     ]
    },
    {
     "name": "stdout",
     "output_type": "stream",
     "text": [
      "\n",
      "Epoch 029 train_loss: 1.2099 val_loss 1.4149 train_acc 0.6473 val_acc 0.6168\n"
     ]
    },
    {
     "name": "stderr",
     "output_type": "stream",
     "text": [
      "Epoch: 100%|██████████| 257/257 [00:54<00:00,  4.92it/s]\n"
     ]
    },
    {
     "name": "stdout",
     "output_type": "stream",
     "text": [
      "\n",
      "Epoch 030 train_loss: 1.1433 val_loss 1.3322 train_acc 0.6693 val_acc 0.6391\n"
     ]
    }
   ],
   "source": [
    "optim = torch.optim.SGD(CNN.parameters(), lr=0.01)\n",
    "criterion = nn.CrossEntropyLoss()\n",
    "\n",
    "history = train(train_dataset, val_dataset, model=CNN,  optim=optim,\n",
    "                criterion=criterion, epochs=30, batch_size=32, device=DEVICE)"
   ]
  },
  {
   "cell_type": "code",
   "execution_count": 12,
   "metadata": {
    "scrolled": true
   },
   "outputs": [
    {
     "name": "stderr",
     "output_type": "stream",
     "text": [
      "Epoch: 100%|██████████| 257/257 [00:52<00:00,  4.71it/s]\n",
      "Epoch:   0%|          | 0/257 [00:00<?, ?it/s]"
     ]
    },
    {
     "name": "stdout",
     "output_type": "stream",
     "text": [
      "\n",
      "Epoch 001 train_loss: 1.3828 val_loss 1.4606 train_acc 0.6078 val_acc 0.6091\n"
     ]
    },
    {
     "name": "stderr",
     "output_type": "stream",
     "text": [
      "Epoch: 100%|██████████| 257/257 [00:54<00:00,  4.87it/s]\n",
      "Epoch:   0%|          | 0/257 [00:00<?, ?it/s]"
     ]
    },
    {
     "name": "stdout",
     "output_type": "stream",
     "text": [
      "\n",
      "Epoch 002 train_loss: 1.2241 val_loss 1.4472 train_acc 0.6464 val_acc 0.6153\n"
     ]
    },
    {
     "name": "stderr",
     "output_type": "stream",
     "text": [
      "Epoch: 100%|██████████| 257/257 [00:53<00:00,  4.94it/s]\n",
      "Epoch:   0%|          | 0/257 [00:00<?, ?it/s]"
     ]
    },
    {
     "name": "stdout",
     "output_type": "stream",
     "text": [
      "\n",
      "Epoch 003 train_loss: 1.1046 val_loss 1.2691 train_acc 0.6802 val_acc 0.6624\n"
     ]
    },
    {
     "name": "stderr",
     "output_type": "stream",
     "text": [
      "Epoch: 100%|██████████| 257/257 [00:54<00:00,  4.86it/s]\n",
      "Epoch:   0%|          | 0/257 [00:00<?, ?it/s]"
     ]
    },
    {
     "name": "stdout",
     "output_type": "stream",
     "text": [
      "\n",
      "Epoch 004 train_loss: 1.0069 val_loss 1.2257 train_acc 0.7086 val_acc 0.6639\n"
     ]
    },
    {
     "name": "stderr",
     "output_type": "stream",
     "text": [
      "Epoch: 100%|██████████| 257/257 [00:54<00:00,  4.89it/s]\n"
     ]
    },
    {
     "name": "stdout",
     "output_type": "stream",
     "text": [
      "\n",
      "Epoch 005 train_loss: 0.8754 val_loss 1.2528 train_acc 0.7440 val_acc 0.6796\n"
     ]
    }
   ],
   "source": [
    "optim = torch.optim.SGD(CNN.parameters(), lr=0.02)\n",
    "criterion = nn.CrossEntropyLoss()\n",
    "\n",
    "history = train(train_dataset, val_dataset, model=CNN,  optim=optim,\n",
    "                criterion=criterion, epochs=5, batch_size=32, device=DEVICE)"
   ]
  },
  {
   "cell_type": "code",
   "execution_count": 15,
   "metadata": {
    "scrolled": true
   },
   "outputs": [
    {
     "name": "stderr",
     "output_type": "stream",
     "text": [
      "Epoch: 100%|██████████| 257/257 [00:55<00:00,  4.75it/s]\n",
      "Epoch:   0%|          | 0/257 [00:00<?, ?it/s]"
     ]
    },
    {
     "name": "stdout",
     "output_type": "stream",
     "text": [
      "\n",
      "Epoch 001 train_loss: 0.6071 val_loss 1.1697 train_acc 0.8240 val_acc 0.7215\n"
     ]
    },
    {
     "name": "stderr",
     "output_type": "stream",
     "text": [
      "Epoch: 100%|██████████| 257/257 [00:56<00:00,  4.77it/s]\n",
      "Epoch:   0%|          | 0/257 [00:00<?, ?it/s]"
     ]
    },
    {
     "name": "stdout",
     "output_type": "stream",
     "text": [
      "\n",
      "Epoch 002 train_loss: 0.5194 val_loss 1.1865 train_acc 0.8440 val_acc 0.7219\n"
     ]
    },
    {
     "name": "stderr",
     "output_type": "stream",
     "text": [
      "Epoch: 100%|██████████| 257/257 [00:56<00:00,  4.71it/s]\n",
      "Epoch:   0%|          | 0/257 [00:00<?, ?it/s]"
     ]
    },
    {
     "name": "stdout",
     "output_type": "stream",
     "text": [
      "\n",
      "Epoch 003 train_loss: 0.4550 val_loss 1.2191 train_acc 0.8592 val_acc 0.7274\n"
     ]
    },
    {
     "name": "stderr",
     "output_type": "stream",
     "text": [
      "Epoch: 100%|██████████| 257/257 [00:56<00:00,  4.64it/s]\n",
      "Epoch:   0%|          | 0/257 [00:00<?, ?it/s]"
     ]
    },
    {
     "name": "stdout",
     "output_type": "stream",
     "text": [
      "\n",
      "Epoch 004 train_loss: 0.4023 val_loss 1.2863 train_acc 0.8754 val_acc 0.7219\n"
     ]
    },
    {
     "name": "stderr",
     "output_type": "stream",
     "text": [
      "Epoch: 100%|██████████| 257/257 [00:56<00:00,  4.64it/s]\n"
     ]
    },
    {
     "name": "stdout",
     "output_type": "stream",
     "text": [
      "\n",
      "Epoch 005 train_loss: 0.3758 val_loss 1.2340 train_acc 0.8853 val_acc 0.7336\n"
     ]
    }
   ],
   "source": [
    "optim = torch.optim.SGD(CNN.parameters(), lr=0.005, momentum=0.5)\n",
    "criterion = nn.CrossEntropyLoss()\n",
    "\n",
    "history = train(train_dataset, val_dataset, model=CNN,  optim=optim,\n",
    "                criterion=criterion, epochs=5, batch_size=32, device=DEVICE)"
   ]
  },
  {
   "cell_type": "markdown",
   "metadata": {},
   "source": [
    "### going to overfit\n",
    "### redo later?\n"
   ]
  },
  {
   "cell_type": "code",
   "execution_count": null,
   "metadata": {},
   "outputs": [],
   "source": []
  }
 ],
 "metadata": {
  "kernelspec": {
   "display_name": "Python 3",
   "language": "python",
   "name": "python3"
  },
  "language_info": {
   "codemirror_mode": {
    "name": "ipython",
    "version": 3
   },
   "file_extension": ".py",
   "mimetype": "text/x-python",
   "name": "python",
   "nbconvert_exporter": "python",
   "pygments_lexer": "ipython3",
   "version": "3.6.6"
  }
 },
 "nbformat": 4,
 "nbformat_minor": 2
}
